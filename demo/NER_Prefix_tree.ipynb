{
 "cells": [
  {
   "cell_type": "markdown",
   "id": "51c57232-2dc1-4b55-a0cd-a2087820ba50",
   "metadata": {},
   "source": [
    "## 字典树提取命名实体"
   ]
  },
  {
   "cell_type": "markdown",
   "id": "c051d32f-b5f3-4055-bf1e-053ea67097d6",
   "metadata": {
    "jp-MarkdownHeadingCollapsed": true,
    "tags": []
   },
   "source": [
    "### 定义工具"
   ]
  },
  {
   "cell_type": "code",
   "execution_count": 1,
   "id": "8f822b56-504f-4fe9-992d-a27505448d6a",
   "metadata": {},
   "outputs": [
    {
     "data": {
      "text/plain": [
       "remove_subcase"
      ]
     },
     "execution_count": 1,
     "metadata": {},
     "output_type": "execute_result"
    }
   ],
   "source": [
    "\"前缀树\"\n",
    "Base.@kwdef mutable struct PrefixTree\n",
    "    isend::Bool = false\n",
    "    children = Dict{Char,PrefixTree}()\n",
    "end\n",
    "\n",
    "\"给前缀树增加单词\"\n",
    "function add_node!(node::PrefixTree, word::String)::Nothing\n",
    "    for c in word\n",
    "        children = node.children\n",
    "        haskey(children, c) || (children[c] = PrefixTree())\n",
    "        node = children[c]\n",
    "    end\n",
    "    node.isend = true\n",
    "    return nothing\n",
    "end\n",
    "\n",
    "\"在字符串里匹配字典单词\"\n",
    "function search_valid_word(node::PrefixTree, word::String)\n",
    "    res, n, word = String[], length(word), collect(word)\n",
    "    for i in 1:n\n",
    "        # 检索 word[i:end]\n",
    "        dict = node\n",
    "        for j in i:n\n",
    "            haskey(dict.children, word[j]) || break # 不存在到该位置的路径\n",
    "            dict = dict.children[word[j]] # 切换到该节点\n",
    "            dict.isend && push!(res, join(word[i:j]))\n",
    "        end\n",
    "    end\n",
    "    res\n",
    "end\n",
    "\n",
    "\"删除子串\"\n",
    "function remove_subcase(subs)\n",
    "    # (n = length(subs)) == 1 && return subs\n",
    "    sort!(subs, by=length)\n",
    "    res, n = String[], length(subs)\n",
    "    for (i, sub) in enumerate(subs)\n",
    "        any(j->occursin(sub, subs[j]), (i+1):n) || push!(res, sub)\n",
    "    end\n",
    "    res\n",
    "end"
   ]
  },
  {
   "cell_type": "markdown",
   "id": "044bbb91-c641-4313-9ea2-2a797c6ba0e9",
   "metadata": {
    "jp-MarkdownHeadingCollapsed": true,
    "tags": []
   },
   "source": [
    "### 初始化字典树"
   ]
  },
  {
   "cell_type": "code",
   "execution_count": 3,
   "id": "b2b4bdb2-fc54-494d-ba35-95699b98f2ef",
   "metadata": {},
   "outputs": [
    {
     "name": "stdout",
     "output_type": "stream",
     "text": [
      "/home/rex/work_space/7 others/ccks/CCKS-mKGQA/data\n"
     ]
    }
   ],
   "source": [
    ";cd ../data"
   ]
  },
  {
   "cell_type": "code",
   "execution_count": 5,
   "id": "a4a54bcd-6578-4ba8-bb7b-216951dd46d3",
   "metadata": {},
   "outputs": [],
   "source": [
    "# 中文头实体\n",
    "txts = rstrip(read(open(\"extract/triple_zh.txt\", \"r\"), String))\n",
    "zh_subs = unique!([first(split(txt, '\\t')) for txt in split(txts, '\\n')])\n",
    "\n",
    "# 英文头实体\n",
    "txts = rstrip(read(open(\"extract/triple_en.txt\", \"r\"), String))\n",
    "en_subs = unique!([first(split(txt, '\\t')) for txt in split(txts, '\\n')])\n",
    "\n",
    "# ILLs 对齐文件\n",
    "txts = rstrip(read(open(\"extract/ILLs(zh-en).txt\", \"r\"), String))\n",
    "ILLs = Dict{String,String}(split(txt, '\\t') for txt in split(txts,'\\n'))\n",
    "\n",
    "# 测试数据\n",
    "txts = rstrip(read(open(\"NER_data/valid_ques.txt\", \"r\"), String))\n",
    "que_and_sub = Dict{String,String}(split(txt, '\\t') for txt in split(txts,'\\n'))\n",
    "for (que, sub) in que_and_sub\n",
    "    que_and_sub[que] = replace(sub, '_'=>' ')\n",
    "end"
   ]
  },
  {
   "cell_type": "code",
   "execution_count": 7,
   "id": "bf28d267-8bed-4521-8703-81fa42b3dc1c",
   "metadata": {
    "tags": []
   },
   "outputs": [],
   "source": [
    "# 字典数据\n",
    "en_words = unique!(vcat(en_subs, collect(keys(ILLs))))\n",
    "en_words = [replace(word, '_'=>' ') for word in en_words]\n",
    "zh_words = unique!(vcat(zh_subs, collect(values(ILLs))))\n",
    "zh_words = [replace(word, '_'=>' ') for word in zh_words]\n",
    "words = unique!(vcat(en_words, zh_words))\n",
    "words = [replace(word, '_'=>' ') for word in words]\n",
    "\n",
    "# 生成字典树\n",
    "dict, dict_en, dict_zh = PrefixTree(), PrefixTree(), PrefixTree()\n",
    "for word in words\n",
    "    add_node!(dict, word)\n",
    "end\n",
    "for word in en_words\n",
    "    add_node!(dict_en, word)\n",
    "end\n",
    "for word in zh_words\n",
    "    add_node!(dict_zh, word)\n",
    "end"
   ]
  },
  {
   "cell_type": "markdown",
   "id": "99e7bb84-ec32-437d-b98f-ca7ce2fb1efc",
   "metadata": {},
   "source": [
    "### 抽取命名实体"
   ]
  },
  {
   "cell_type": "code",
   "execution_count": 8,
   "id": "9051f3e3-a973-4e57-b7c6-c9be2bb1d7b5",
   "metadata": {},
   "outputs": [
    {
     "data": {
      "text/plain": [
       "get_subject (generic function with 1 method)"
      ]
     },
     "execution_count": 8,
     "metadata": {},
     "output_type": "execute_result"
    }
   ],
   "source": [
    "function get_subject(que)\n",
    "    subs = remove_subcase(search_valid_word(dict, que))\n",
    "    length(subs) == 1 && return subs\n",
    "    subs = remove_subcase(search_valid_word(dict_en, que))\n",
    "    length(subs) == 1 && return subs\n",
    "    subs = remove_subcase(search_valid_word(dict_zh, que))\n",
    "    length(subs) == 1 && return subs\n",
    "    return remove_subcase(search_valid_word(dict, que))\n",
    "end"
   ]
  },
  {
   "cell_type": "code",
   "execution_count": 27,
   "id": "6f04944f-7c51-45cc-bb39-8147bb8422d1",
   "metadata": {},
   "outputs": [
    {
     "data": {
      "text/plain": [
       "13185"
      ]
     },
     "execution_count": 27,
     "metadata": {},
     "output_type": "execute_result"
    }
   ],
   "source": [
    "# 数据测试\n",
    "valids, fails = Tuple{String, String}[], String[]\n",
    "for (que, _) in que_and_sub\n",
    "    subs = get_subject(que)\n",
    "    length(subs) == 1 ? push!(valids, (que, first(subs))) : push!(fails, que)\n",
    "end\n",
    "count(que_and_sub[que] == sub for (que, sub) in valids)"
   ]
  },
  {
   "cell_type": "code",
   "execution_count": 28,
   "id": "38b6e215-7701-47fb-9c3d-48ab6eb14347",
   "metadata": {},
   "outputs": [
    {
     "name": "stdout",
     "output_type": "stream",
     "text": [
      "Quel est le fabricant de Choses liées aux Microsoft Lumia 950 XL, un smartphone mobile Windows 10 développé par Microsoft?\n",
      "黑莓有限公司推出的基于android的slider智能手机BlackBerry Priv的相关产品（作品）属于什么类型\n"
     ]
    }
   ],
   "source": [
    "for (que, sub) in valids\n",
    "    que_and_sub[que] == sub || println(que)\n",
    "end"
   ]
  },
  {
   "cell_type": "code",
   "execution_count": 29,
   "id": "74ae41aa-b6e6-47b3-bdc7-702848789007",
   "metadata": {},
   "outputs": [
    {
     "data": {
      "text/plain": [
       "6-element Vector{String}:\n",
       " \"Microsoft\"\n",
       " \"Microsoft Lumia\"\n",
       " \"Microsoft Lumia 950\"\n",
       " \"Microsoft Lumia 950 XL\"\n",
       " \"Windows 10\"\n",
       " \"Microsoft\""
      ]
     },
     "execution_count": 29,
     "metadata": {},
     "output_type": "execute_result"
    }
   ],
   "source": [
    "que = \"Quel est le fabricant de Choses liées aux Microsoft Lumia 950 XL, un smartphone mobile Windows 10 développé par Microsoft?\"\n",
    "search_valid_word(dict, que)"
   ]
  },
  {
   "cell_type": "code",
   "execution_count": 25,
   "id": "967dda44-adae-4e71-a35b-260d50217926",
   "metadata": {
    "tags": []
   },
   "outputs": [
    {
     "data": {
      "text/plain": [
       "0.9367763017688427"
      ]
     },
     "execution_count": 25,
     "metadata": {},
     "output_type": "execute_result"
    }
   ],
   "source": [
    "# 训练集结果\n",
    "13187/14077"
   ]
  },
  {
   "cell_type": "code",
   "execution_count": 31,
   "id": "7a742721-6254-4622-a230-6488820a1eb9",
   "metadata": {
    "collapsed": true,
    "jupyter": {
     "outputs_hidden": true
    },
    "tags": []
   },
   "outputs": [
    {
     "data": {
      "text/plain": [
       "1500-element Vector{String}:\n",
       " \"where is the constituency of the one who is alongside Felix Chung, a hong kong politician, from?\"\n",
       " \"who is the successor of the parent of Francis Russell, Marquess of Tavistock, an irish politician?\"\n",
       " \"who is the leader of the administrative region to which 热那亚总督 belongs?\"\n",
       " \"who preceded the parent of 富兰克林·德拉诺·罗斯福三世, an american economist?\"\n",
       " \"which draft team does the author of The Way It's Goin' Down, a 1998 single by shaquille o'neal, dj quik, lord tariq and peter gunz, belong to?\"\n",
       " \"who is before the parent of 贾瓦哈拉尔·尼赫鲁, an indian lawyer, statesman, and writer, first prime minister of india (1889-1964)?\"\n",
       " \"where does the location province of Khuut coal mine, a mine in mongolia, belong to?\"\n",
       " \"who does the origin of A's nameryabhata (crater) influence?\"\n",
       " \"what is the genre of the author of They All Went to Mexico, a song performed by carlos santana?\"\n",
       " \"which title does the parent of 富兰克林·德拉诺·罗斯福三世, an american economist, belong to?\"\n",
       " \"what is the parent moutain of the client of Ira Goldstein?\"\n",
       " \"who did a job before the parent of Francis Russell, Marquess of Tavistock?\"\n",
       " \"what is the type of the people, things and things with the same name as USS Mauna Kea (AE-22)?\"\n",
       " ⋮\n",
       " \"Savez-vous quel fuseau horaire est à Le sud de Vall-llobrega, un village in the province of girona and autonomous community of catalonia, spain?\"\n",
       " \"À quel parti appartient Le nom du navire de USCGC Dallas (WHEC-716)\"\n",
       " \"Savez-vous quel est le type de zonage à L’emplacement de L'équipe nationale de 拉格納·克拉萬, an estonian association football player?\"\n",
       " \"Savez-vous où se trouve la ville de L’emplacement de Lieu de naissance de Junior Paulo (rugby league, born 1993)\"\n",
       " \"Quel est le niveau de gestion à L’ouest de L’emplacement de List of National Cultural Treasures in the Philippines, un article de la liste wikimedia?\"\n",
       " \"Qui sont les personnes affectées par éponyme de Protagoras (crater)\"\n",
       " \"Quel est le nom de la division administrative de Le sud-est de Site de 2014–15 Gonzaga Bulldogs women's basketball team\"\n",
       " \"Savez-vous quel est le nom de la circonscription administrative de Le nord-ouest de Site de 2015–16 Utah State Aggies men's basketball team, une saison de basket-ball universitaire américain?\"\n",
       " \"Qui est le prédécesseurs de Le chef de Dokumacılar\"\n",
       " \"Quel est le niveau de gestion à Capital de Pays auquel appartiennent de Trujillo State Anthem\"\n",
       " \"Quel est le niveau de gestion à L’ouest de Légende de la photo de Tanaecia, un genus of insects?\"\n",
       " \"Quel est le niveau de gestion à Le nord-ouest de Site de 2011–12 UCLA Bruins men's basketball team\""
      ]
     },
     "execution_count": 31,
     "metadata": {},
     "output_type": "execute_result"
    }
   ],
   "source": [
    "# 测试集结果\n",
    "txts = read(open(\"valid_data.txt\", \"r\"), String)\n",
    "ques = String[rstrip(last(split(txt, '\\t'))) for txt in split(rstrip(txts), '\\n')]"
   ]
  },
  {
   "cell_type": "code",
   "execution_count": 32,
   "id": "b3251efe-15ab-4c61-8aa5-443685b03b9a",
   "metadata": {},
   "outputs": [],
   "source": [
    "valids, fails = Tuple{String, String}[], String[]\n",
    "for que in ques\n",
    "    subs = get_subject(que)\n",
    "    length(subs) == 1 ? push!(valids, (que, first(subs))) : push!(fails, que)\n",
    "end"
   ]
  },
  {
   "cell_type": "code",
   "execution_count": 33,
   "id": "bf8809c2-7ab1-4770-9df1-6f08bdd63392",
   "metadata": {},
   "outputs": [
    {
     "data": {
      "text/plain": [
       "1463"
      ]
     },
     "execution_count": 33,
     "metadata": {},
     "output_type": "execute_result"
    }
   ],
   "source": [
    "length(valids)"
   ]
  },
  {
   "cell_type": "code",
   "execution_count": 24,
   "id": "0a112d91-3b6f-4389-a0ed-ffea8d39b81e",
   "metadata": {},
   "outputs": [
    {
     "data": {
      "text/plain": [
       "0.9753333333333334"
      ]
     },
     "execution_count": 24,
     "metadata": {},
     "output_type": "execute_result"
    }
   ],
   "source": [
    "length(valids)/1500"
   ]
  }
 ],
 "metadata": {
  "kernelspec": {
   "display_name": "Julia 1.6.3",
   "language": "julia",
   "name": "julia-1.6"
  },
  "language_info": {
   "file_extension": ".jl",
   "mimetype": "application/julia",
   "name": "julia",
   "version": "1.6.3"
  }
 },
 "nbformat": 4,
 "nbformat_minor": 5
}
