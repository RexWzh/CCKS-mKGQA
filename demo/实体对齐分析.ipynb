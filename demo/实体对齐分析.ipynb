{
 "cells": [
  {
   "cell_type": "markdown",
   "id": "d6ad4e1a-db4f-4b0c-a0c1-a5d6807bae9b",
   "metadata": {},
   "source": [
    "## 实体对齐"
   ]
  },
  {
   "cell_type": "markdown",
   "id": "8f3bfe5f-d1db-4822-96b8-580a73feef69",
   "metadata": {
    "jp-MarkdownHeadingCollapsed": true,
    "tags": []
   },
   "source": [
    "### 读取数据"
   ]
  },
  {
   "cell_type": "code",
   "execution_count": 1,
   "id": "b0e780d8-03d5-4972-b364-b457cd3e7119",
   "metadata": {},
   "outputs": [
    {
     "name": "stdout",
     "output_type": "stream",
     "text": [
      "/home/rex/work_space/7 others/ccks/CCKS-mKGQA/data\n"
     ]
    }
   ],
   "source": [
    ";cd ../data"
   ]
  },
  {
   "cell_type": "code",
   "execution_count": 2,
   "id": "b355d123-9b69-4bb3-b6f9-00b878d87d7a",
   "metadata": {
    "tags": []
   },
   "outputs": [],
   "source": [
    "# 中文三元组，实体，关系\n",
    "txts = rstrip(read(open(\"extract/triple_zh.txt\", \"r\"), String))\n",
    "zh_triples = [NTuple{3,String}(split(txt, '\\t')) for txt in split(txts, '\\n')]\n",
    "zh_objs = unique!(vcat(first.(zh_triples), last.(zh_triples)))\n",
    "zh_rels = unique(triple[2] for triple in zh_triples)\n",
    "\n",
    "# 英文三元组，实体，关系\n",
    "txts = rstrip(read(open(\"extract/triple_en.txt\", \"r\"), String))\n",
    "en_triples = [NTuple{3,String}(split(txt, '\\t')) for txt in split(txts, '\\n')]\n",
    "en_objs = unique!(vcat(first.(en_triples), last.(en_triples)))\n",
    "en_rels = unique(triple[2] for triple in en_triples)\n",
    "\n",
    "# ILLs 对齐文件\n",
    "txts = rstrip(read(open(\"extract/ILLs(zh-en).txt\", \"r\"), String))\n",
    "ILLs = Dict{String,String}(split(txt, '\\t') for txt in split(txts,'\\n'))\n",
    "\n",
    "# 训练数据\n",
    "train_data = Dict{String, Vector{NTuple{4, String}}}()\n",
    "open(\"extract/train_data.txt\", \"r\") do io\n",
    "    for _ in 1:14077\n",
    "        que = readline(io)\n",
    "        ind, que = parse(Int, que[2]), que[5:end]\n",
    "        train_data[que] = [Tuple(split(readline(io), '\\t')) for _ in 1:ind]\n",
    "        readline(io)\n",
    "    end\n",
    "end"
   ]
  },
  {
   "cell_type": "markdown",
   "id": "cb0715b1-296c-4138-a486-f71f8efe1697",
   "metadata": {
    "tags": []
   },
   "source": [
    "### 知识图谱对齐"
   ]
  },
  {
   "cell_type": "markdown",
   "id": "a43242f5-bb35-4da5-acd5-04e3d771a85a",
   "metadata": {
    "tags": []
   },
   "source": [
    "#### 跨图谱是否需要对齐"
   ]
  },
  {
   "cell_type": "code",
   "execution_count": 4,
   "id": "eb81f844-2e1d-4a44-89c2-399aa8fb73e5",
   "metadata": {},
   "outputs": [
    {
     "data": {
      "text/plain": [
       "isaligned (generic function with 2 methods)"
      ]
     },
     "execution_count": 4,
     "metadata": {},
     "output_type": "execute_result"
    }
   ],
   "source": [
    "\"\"\"判断三元组是否对齐\"\"\"\n",
    "function isaligned(t1, t2)\n",
    "    first(t1) == first(t2) && return true # 没有跨语言\n",
    "    if first(t1) == \"zh\" # 不妨设 t1 为英文，判断能否借助 ILL 翻译为中文\n",
    "        t1, t2 = t2, t1\n",
    "    end\n",
    "    target = (t2[2], t2[4]) # 头实体，尾实体\n",
    "    any(in(target), [t1[2], t1[4]]) && return true # 有一处相同\n",
    "    haskey(ILLs, t1[2]) && ILLs[t1[2]] in target && return true\n",
    "    haskey(ILLs, t1[4]) && ILLs[t1[4]] in target && return true\n",
    "    false\n",
    "end\n",
    "isaligned(tuples) = all(isaligned(tuples[i-1], tuples[i]) for i in 2:length(tuples)) "
   ]
  },
  {
   "cell_type": "code",
   "execution_count": 5,
   "id": "d705fd02-a13d-4f42-8dc4-627e3570c36c",
   "metadata": {
    "tags": []
   },
   "outputs": [
    {
     "data": {
      "text/plain": [
       "String[]"
      ]
     },
     "execution_count": 5,
     "metadata": {},
     "output_type": "execute_result"
    }
   ],
   "source": [
    "# 判断是否存在没有对齐的三元组（跨）\n",
    "ques, sols = String[], []\n",
    "for (que, sol) in train_data\n",
    "    isaligned(sol) || (push!(ques, que); push!(sols, sol))\n",
    "end\n",
    "ques # 空数组"
   ]
  },
  {
   "cell_type": "markdown",
   "id": "46e04772-a003-4ab6-877f-ad87825a8a48",
   "metadata": {
    "tags": []
   },
   "source": [
    "#### 问题到图谱是否需要对齐"
   ]
  },
  {
   "cell_type": "code",
   "execution_count": 16,
   "id": "d866fead-d4bd-4b1c-bb6c-653cf54d823e",
   "metadata": {},
   "outputs": [
    {
     "data": {
      "text/plain": [
       "sub_in_que"
      ]
     },
     "execution_count": 16,
     "metadata": {},
     "output_type": "execute_result"
    }
   ],
   "source": [
    "\"判断 que 能否提取 triple 的头实体\"\n",
    "sub_in_que(que, triple) = occursin(replace(triple[2], '_'=>' '), que)"
   ]
  },
  {
   "cell_type": "code",
   "execution_count": 15,
   "id": "439759c4-115f-41e7-8f29-3c5188016a2d",
   "metadata": {},
   "outputs": [],
   "source": [
    "ill_ques = String[] # 不能处理的问题\n",
    "valid_ques = String[] # 正常处理的问题\n",
    "a1, a2 = 0, 0\n",
    "for (que, sol) in train_data\n",
    "    sub_in_que(que, first(sol)) ? push!(valid_ques, que) : push!(ill_ques, que)\n",
    "end"
   ]
  },
  {
   "cell_type": "code",
   "execution_count": 17,
   "id": "b86e7e38-d243-4cf9-8624-23c380ff86d9",
   "metadata": {},
   "outputs": [],
   "source": [
    "open(\"NER_data/ill_ques.txt\", \"w\") do io\n",
    "    for que in ill_ques\n",
    "        println(io, que,'\\t', first(train_data[que])[2])\n",
    "    end\n",
    "end\n",
    "open(\"NER_data/valid_ques.txt\", \"w\") do io\n",
    "    for que in valid_ques\n",
    "        println(io, que,'\\t', first(train_data[que])[2])\n",
    "    end\n",
    "end"
   ]
  },
  {
   "cell_type": "code",
   "execution_count": 119,
   "id": "cdad1191-2887-4713-a66d-c0cca70e892f",
   "metadata": {},
   "outputs": [],
   "source": [
    "# 提取训练集的问题并保存\n",
    "ques = collect(keys(train_data))\n",
    "open(\"extract/train_questions.txt\", \"w\") do io\n",
    "    for que in ques\n",
    "        println(io, que,'\\t', first(train_data[que])[2])\n",
    "    end\n",
    "end"
   ]
  },
  {
   "cell_type": "code",
   "execution_count": null,
   "id": "fb013dae-0561-48ad-bc57-0b49911f76fb",
   "metadata": {},
   "outputs": [],
   "source": [
    "correct_rules = (\n",
    "    r\"(\\w)'s name([\\w( ]+\\))\" => s\"\\g<1>\\g<2>'s name\",\n",
    ")"
   ]
  },
  {
   "cell_type": "code",
   "execution_count": 103,
   "id": "dafd0f65-7ff9-49ac-8c8a-d337a495f17a",
   "metadata": {},
   "outputs": [
    {
     "data": {
      "text/plain": [
       "\"what is the region of the origin of G's nameassendi (crater)?\""
      ]
     },
     "execution_count": 103,
     "metadata": {},
     "output_type": "execute_result"
    }
   ],
   "source": [
    "que = \"what is the region of the origin of G's nameassendi (crater)?\"\n",
    "que = \"who is the successor of S-related productsony Xperia E1?\"\n",
    "replace(que, r\"(\\w)-related product([\\w \\d]+)?\" => s\"\\g<1>\\g<2>-related product\""
   ]
  },
  {
   "cell_type": "code",
   "execution_count": 102,
   "id": "c1a04e0f-9ed5-4660-b69f-8f786c20f0f4",
   "metadata": {},
   "outputs": [
    {
     "name": "stdout",
     "output_type": "stream",
     "text": [
      "216\n"
     ]
    }
   ],
   "source": [
    "newspecial = String[]\n",
    "for que in ques\n",
    "    _, ob1, _, ob2 = first(train_data[que])\n",
    "    ob1, ob2 = replace(ob1, '_' => ' '), replace(ob2, '_' => ' ')\n",
    "    que = replace(que, reg=>s\"\\g<1>\\g<2>'s name\")\n",
    "    any(occursin(que), [ob1, ob2]) || push!(newspecial, que)\n",
    "end\n",
    "println(length(newspecial))\n",
    "open(\"special.txt\", \"w\") do io\n",
    "    for que in newspecial\n",
    "        println(io, que, '\\t', first(train_data[que]))\n",
    "    end\n",
    "end"
   ]
  }
 ],
 "metadata": {
  "kernelspec": {
   "display_name": "Julia 1.7.2",
   "language": "julia",
   "name": "julia-1.7"
  },
  "language_info": {
   "file_extension": ".jl",
   "mimetype": "application/julia",
   "name": "julia",
   "version": "1.7.2"
  }
 },
 "nbformat": 4,
 "nbformat_minor": 5
}
