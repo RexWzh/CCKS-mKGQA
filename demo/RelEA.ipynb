{
 "cells": [
  {
   "cell_type": "markdown",
   "id": "a0156d58-b1bf-4948-a275-0aed8394d234",
   "metadata": {},
   "source": [
    "## 路径推理"
   ]
  },
  {
   "cell_type": "code",
   "execution_count": 1,
   "id": "540ead06-c711-40d4-a164-8814c14d19ba",
   "metadata": {},
   "outputs": [],
   "source": [
    "using StringDistances\n",
    "using DataStructures"
   ]
  },
  {
   "cell_type": "code",
   "execution_count": 1,
   "id": "de4676f9-1a4e-484c-8b77-471be3c49da9",
   "metadata": {
    "tags": []
   },
   "outputs": [
    {
     "ename": "LoadError",
     "evalue": "LoadError: UndefVarError: nearby not defined\nin expression starting at /home/rex/work_space/7 others/ccks/CCKS-mKGQA/src/deduction.jl:13",
     "output_type": "error",
     "traceback": [
      "LoadError: UndefVarError: nearby not defined\nin expression starting at /home/rex/work_space/7 others/ccks/CCKS-mKGQA/src/deduction.jl:13",
      "",
      "Stacktrace:",
      " [1] top-level scope",
      "   @ ~/work_space/7 others/ccks/CCKS-mKGQA/src/deduction.jl:13",
      " [2] include(fname::String)",
      "   @ Base.MainInclude ./client.jl:451",
      " [3] top-level scope",
      "   @ In[1]:2",
      " [4] eval",
      "   @ ./boot.jl:373 [inlined]",
      " [5] include_string(mapexpr::typeof(REPL.softscope), mod::Module, code::String, filename::String)",
      "   @ Base ./loading.jl:1196"
     ]
    }
   ],
   "source": [
    "include(\"../src/translatedata.jl\")\n",
    "include(\"../src/deduction.jl\")\n",
    "mkpath(\"ILLs\")"
   ]
  },
  {
   "cell_type": "code",
   "execution_count": 3,
   "id": "f4681a25-0205-4907-aaae-5c5508bbea64",
   "metadata": {},
   "outputs": [
    {
     "data": {
      "text/plain": [
       "592"
      ]
     },
     "execution_count": 3,
     "metadata": {},
     "output_type": "execute_result"
    }
   ],
   "source": [
    "count(∈(Set(train_ques)), valid_ques)"
   ]
  },
  {
   "cell_type": "markdown",
   "id": "0d764447-3ffe-4279-92e5-a993a9439f6a",
   "metadata": {
    "tags": []
   },
   "source": [
    "### 初始化"
   ]
  },
  {
   "cell_type": "code",
   "execution_count": 5,
   "id": "7c2d8d81-bbbe-4b22-bc50-981053ea971b",
   "metadata": {},
   "outputs": [
    {
     "data": {
      "text/plain": [
       "top10"
      ]
     },
     "execution_count": 5,
     "metadata": {},
     "output_type": "execute_result"
    }
   ],
   "source": [
    "# 初始化查询字典\n",
    "train_rels = DefaultDict{String, Vector{Tuple}}(Vector{Tuple})\n",
    "for sols in unique(train_ques_sols)\n",
    "    que = first(sols)\n",
    "    rels = Tuple(@view(sols[3:end]))\n",
    "    rels ∉ train_rels[que] && push!(train_rels[que], rels)\n",
    "end\n",
    "\"匹配最近 10 个问题\"\n",
    "top10 = nearby(unique(train_ques))"
   ]
  },
  {
   "cell_type": "markdown",
   "id": "9ef9b3c2-c09f-44e7-b6c5-895b9248222b",
   "metadata": {
    "tags": []
   },
   "source": [
    "### 示例-方刚"
   ]
  },
  {
   "cell_type": "code",
   "execution_count": 7,
   "id": "152042b3-111e-416a-a2f0-89f00a9ebd2b",
   "metadata": {
    "tags": []
   },
   "outputs": [
    {
     "name": "stdout",
     "output_type": "stream",
     "text": [
      "[0, 8, 9, 16, 16, 16, 17, 17, 17, 17]\n",
      "where is the constituency of the one who is alongside NER from?\n",
      "where is the constituency of the one who is alongside NER from?\n"
     ]
    },
    {
     "data": {
      "text/plain": [
       "10-element Vector{Tuple}:\n",
       " (\"alongside\", \"constituency\")\n",
       " (\"alongside\", \"constituency\")\n",
       " (\"alongside\", \"constituency\")\n",
       " (\"alongside\", \"birthplace\")\n",
       " (\"alongside\", \"almamater\")\n",
       " (\"alongside\", \"title\")\n",
       " (\"alongside\", \"title\")\n",
       " (\"alongside\", \"almamater\")\n",
       " (\"leader\", \"constituency\")\n",
       " (\"alongside\", \"office\")"
      ]
     },
     "execution_count": 7,
     "metadata": {},
     "output_type": "execute_result"
    }
   ],
   "source": [
    "# 步骤一\n",
    "# 获取 top 10 匹配问题以及分数\n",
    "que, ner = valid_ques_ner[1]\n",
    "ques, scores = top10(que)\n",
    "println(scores)\n",
    "println(que)\n",
    "println(ques[1])\n",
    "# 获取问题中的关系\n",
    "rels = vcat([train_rels[que] for que in ques]...)"
   ]
  },
  {
   "cell_type": "code",
   "execution_count": 8,
   "id": "2d0fdd13-21bc-4f70-996a-73d609eca82c",
   "metadata": {},
   "outputs": [
    {
     "name": "stdout",
     "output_type": "stream",
     "text": [
      "Accumulator(leader => 1, alongside => 9)\n"
     ]
    },
    {
     "data": {
      "text/plain": [
       "Accumulator{SubString{String}, Int64} with 5 entries:\n",
       "  \"constituency\" => 4\n",
       "  \"office\"       => 1\n",
       "  \"almamater\"    => 2\n",
       "  \"title\"        => 2\n",
       "  \"birthplace\"   => 1"
      ]
     },
     "execution_count": 8,
     "metadata": {},
     "output_type": "execute_result"
    }
   ],
   "source": [
    "# 计算重数，确认两跳关系为 **alongside, constituency**\n",
    "println(counter(first.(rels)))\n",
    "counter(last.(rels))"
   ]
  },
  {
   "cell_type": "code",
   "execution_count": 9,
   "id": "31cfcac1-3326-4a87-94ed-f52830fec0db",
   "metadata": {},
   "outputs": [
    {
     "data": {
      "text/plain": [
       "(\"felix_chung\", \"alongside\", \"vincent_fang_(entrepreneur)\")"
      ]
     },
     "execution_count": 9,
     "metadata": {},
     "output_type": "execute_result"
    }
   ],
   "source": [
    "# 第一跳精确匹配\n",
    "_, _, obj = filter(i->i[1]==ner && i[2]==\"alongside\", triples)[1]"
   ]
  },
  {
   "cell_type": "code",
   "execution_count": 10,
   "id": "9e87e4af-2c4b-4dfa-8bdd-71dcb358530d",
   "metadata": {
    "tags": []
   },
   "outputs": [
    {
     "name": "stdout",
     "output_type": "stream",
     "text": [
      "第二跳可选的实体总数: 133\n",
      "[2, 9223372036854775807, 9223372036854775807, 9223372036854775807, 9223372036854775807, 9223372036854775807, 9223372036854775807, 9223372036854775807, 9223372036854775807, 9223372036854775807]\n"
     ]
    },
    {
     "data": {
      "text/plain": [
       "10-element Vector{String}:\n",
       " \"fang_gang\"\n",
       " \"liu_huangfa\"\n",
       " \"goldstein\"\n",
       " \"guo_weiqiang\"\n",
       " \"lu_weiguo\"\n",
       " \"he_qiming_(federation_of_trade_unions)\"\n",
       " \"huang_zhenxia\"\n",
       " \"law_cheung-kwok\"\n",
       " \"he_shizhu\"\n",
       " \"ma_li_(dab_chairman)\""
      ]
     },
     "execution_count": 10,
     "metadata": {},
     "output_type": "execute_result"
    }
   ],
   "source": [
    "# 第二跳模糊匹配\n",
    "possible = unique!(first.(filter(i->i[2]==\"constituency\", triples)))\n",
    "println(\"第二跳可选的实体总数: \", length(possible))\n",
    "res, scos = nearby(possible, obj; char=false)\n",
    "# res, scos = nearby(unique!(first.(triples)), obj; char=false) # 对照\n",
    "println(scos)\n",
    "res"
   ]
  },
  {
   "cell_type": "markdown",
   "id": "01a56558-d9ad-49f5-8645-ddde473a6685",
   "metadata": {
    "tags": []
   },
   "source": [
    "### 示例-周武帝"
   ]
  },
  {
   "cell_type": "code",
   "execution_count": 11,
   "id": "44c85fa0-334e-4b16-8ccf-8ec09eeae2d3",
   "metadata": {},
   "outputs": [
    {
     "data": {
      "text/plain": [
       "(\"princess_of_qingdu\", \"father\", \"before\")"
      ]
     },
     "execution_count": 11,
     "metadata": {},
     "output_type": "execute_result"
    }
   ],
   "source": [
    "# 步骤一\n",
    "# 获取 top 10 匹配问题以及分数\n",
    "que, ner = \"who is before the father of NER?\", \"princess_of_qingdu\"\n",
    "ques, scores = top10(que)\n",
    "# 获取问题中的关系，精确匹配\n",
    "rels = vcat([train_rels[que] for que in ques]...)\n",
    "rel1 = first(sort_count(counter(first.(rels))))[1]\n",
    "rel2 = first(sort_count(counter(last.(rels))))[1]\n",
    "ner, rel1, rel2"
   ]
  },
  {
   "cell_type": "code",
   "execution_count": 12,
   "id": "f20fbf37-4bac-4e5c-8749-1e1f3a5788dc",
   "metadata": {},
   "outputs": [
    {
     "data": {
      "text/plain": [
       "(\"princess_of_qingdu\", \"father\", \"zhou_wudi\")"
      ]
     },
     "execution_count": 12,
     "metadata": {},
     "output_type": "execute_result"
    }
   ],
   "source": [
    "# 第一跳精确匹配\n",
    "_, _, obj = filter(i->i[1]==ner && i[2]==\"father\", triples)[1]"
   ]
  },
  {
   "cell_type": "code",
   "execution_count": 14,
   "id": "920cc03a-a027-4c27-9a4b-f0ca0f57f757",
   "metadata": {},
   "outputs": [
    {
     "data": {
      "text/plain": [
       "\"emperor_wu_of_zhou\""
      ]
     },
     "execution_count": 14,
     "metadata": {},
     "output_type": "execute_result"
    }
   ],
   "source": [
    "obj = \"emperor_wu_of_zhou\""
   ]
  },
  {
   "cell_type": "code",
   "execution_count": 15,
   "id": "b74c231a-5b84-4bff-a0c9-3aa499efbd61",
   "metadata": {
    "tags": []
   },
   "outputs": [
    {
     "name": "stdout",
     "output_type": "stream",
     "text": [
      "4924\n",
      "[1, 2, 2, 2, 2, 2, 2, 2, 2, 2]\n"
     ]
    },
    {
     "data": {
      "text/plain": [
       "10-element Vector{String}:\n",
       " \"emperor_wu_of_northern_zhou\"\n",
       " \"emperor_yingzong_of_song\"\n",
       " \"emperor_gaozu_of_tang\"\n",
       " \"emperor_hui_of_jin\"\n",
       " \"emperor_wu_of_southern_qi\"\n",
       " \"emperor_xuanzong_of_tang\"\n",
       " \"emperor_ruizong_of_tang\"\n",
       " \"emperor_taizong_of_song\"\n",
       " \"emperor_daizong_of_tang\"\n",
       " \"emperor_xuan_of_northern_zhou\""
      ]
     },
     "execution_count": 15,
     "metadata": {},
     "output_type": "execute_result"
    }
   ],
   "source": [
    "# 第二跳模糊匹配\n",
    "possible = unique!(first.(filter(i->i[2]==\"before\", triples)))\n",
    "println(length(possible))\n",
    "res, scos = nearby(possible, obj; char=false)\n",
    "println(scos)\n",
    "res"
   ]
  },
  {
   "cell_type": "code",
   "execution_count": null,
   "id": "781511f2-f713-4284-94d8-2c6bd7ce9e07",
   "metadata": {},
   "outputs": [],
   "source": [
    "# 翻译改用 \"emperor_wu_of_zhou\"\n",
    "obj = \"emperor_wu_of_zhou\""
   ]
  },
  {
   "cell_type": "markdown",
   "id": "425fa56c-f90e-4056-96b1-3b47f0827022",
   "metadata": {
    "jp-MarkdownHeadingCollapsed": true,
    "tags": []
   },
   "source": [
    "模型特点：\n",
    "- 第一跳正确性很高\n",
    "- 实体对齐会影响推理准确性\n",
    "- 匹配度低时，可能出现**关系**被替换的现象"
   ]
  },
  {
   "cell_type": "markdown",
   "id": "5b7798df-c3df-46ee-9b05-852c0a34a0a9",
   "metadata": {
    "tags": []
   },
   "source": [
    "### 错误匹配"
   ]
  },
  {
   "cell_type": "code",
   "execution_count": 74,
   "id": "e7926dc6-92be-4b0e-99b7-0941ba4feba4",
   "metadata": {
    "tags": []
   },
   "outputs": [
    {
     "name": "stdout",
     "output_type": "stream",
     "text": [
      "what is the type of the people, things and things with the same name as NER?\n",
      "what is the rank of the people, things and things with the same name as NER?\n"
     ]
    },
    {
     "data": {
      "text/plain": [
       "10-element Vector{Tuple}:\n",
       " (\"shipnamesake\", \"rank\")\n",
       " (\"shipnamesake\", \"father\")\n",
       " (\"shipnamesake\", \"mother\")\n",
       " (\"shipnamesake\", \"influenced\")\n",
       " (\"shipnamesake\", \"largestcityname\")\n",
       " (\"shipnamesake\", \"largestcityname\")\n",
       " (\"shipnamesake\", \"capital\")\n",
       " (\"shipnamesake\", \"politicalsystem\")\n",
       " (\"shipnamesake\", \"father\")\n",
       " (\"shipnamesake\", \"influences\")"
      ]
     },
     "execution_count": 74,
     "metadata": {},
     "output_type": "execute_result"
    }
   ],
   "source": [
    "que, ner = valid_ques_ner[13]\n",
    "ques, scores = top10(que)\n",
    "println(que)\n",
    "println(ques[1])\n",
    "rels = vcat([train_rels[que] for que in ques]...)"
   ]
  },
  {
   "cell_type": "code",
   "execution_count": 77,
   "id": "14c3264e-dd4e-45fc-a557-724db275f74a",
   "metadata": {},
   "outputs": [
    {
     "data": {
      "text/plain": [
       "2-element Vector{Tuple}:\n",
       " (\"shipnamesake\", \"mauna_kea\")\n",
       " (\"title\", \"united_states_navy\")"
      ]
     },
     "execution_count": 77,
     "metadata": {},
     "output_type": "execute_result"
    }
   ],
   "source": [
    "edges[ner]"
   ]
  },
  {
   "cell_type": "markdown",
   "id": "199641ff-a849-47f9-9246-9a6bc219f767",
   "metadata": {},
   "source": [
    "### 无法识别的例子"
   ]
  },
  {
   "cell_type": "code",
   "execution_count": 78,
   "id": "10141774-3baf-42b5-adf4-3c47bafdf19b",
   "metadata": {},
   "outputs": [
    {
     "name": "stdout",
     "output_type": "stream",
     "text": [
      "which draft team does the author of NER dj quik lord tariq and peter gunz belong to?\n",
      "which state does the client of NER verenigde staten van amerika belong to?\n"
     ]
    },
    {
     "data": {
      "text/plain": [
       "10-element Vector{Tuple}:\n",
       " (\"client\", \"state\")\n",
       " (\"parents\", \"title\")\n",
       " (\"location\", \"south\", \"state\")\n",
       " (\"father\", \"house\")\n",
       " (\"location\", \"tenants\", \"sport\")\n",
       " (\"chronology\", \"label\")\n",
       " (\"eponym\", \"ethnicity\")\n",
       " (\"location\", \"east\", \"constituencywestminster\")\n",
       " (\"related\", \"type\")\n",
       " (\"related\", \"title\")"
      ]
     },
     "execution_count": 78,
     "metadata": {},
     "output_type": "execute_result"
    }
   ],
   "source": [
    "que, ner = valid_ques_ner[5]\n",
    "ques, scores = top10(que)\n",
    "println(que)\n",
    "println(ques[1])\n",
    "rels = vcat([train_rels[que] for que in ques]...)"
   ]
  },
  {
   "cell_type": "code",
   "execution_count": 79,
   "id": "5c5e63f7-2218-4511-823d-4aa2274c3584",
   "metadata": {},
   "outputs": [
    {
     "data": {
      "text/plain": [
       "OrderedDict{SubString{String}, Int64} with 7 entries:\n",
       "  \"location\"   => 3\n",
       "  \"related\"    => 2\n",
       "  \"father\"     => 1\n",
       "  \"parents\"    => 1\n",
       "  \"eponym\"     => 1\n",
       "  \"client\"     => 1\n",
       "  \"chronology\" => 1"
      ]
     },
     "execution_count": 79,
     "metadata": {},
     "output_type": "execute_result"
    }
   ],
   "source": [
    "sort_count(counter(first.(rels)))"
   ]
  },
  {
   "cell_type": "code",
   "execution_count": 80,
   "id": "c6abd64a-7157-493a-9f56-15ca6685f514",
   "metadata": {},
   "outputs": [
    {
     "data": {
      "text/plain": [
       "1-element Vector{Tuple}:\n",
       " (\"chronology\", \"shaquille_o'neal\")"
      ]
     },
     "execution_count": 80,
     "metadata": {},
     "output_type": "execute_result"
    }
   ],
   "source": [
    "edges[ner]"
   ]
  },
  {
   "cell_type": "code",
   "execution_count": 75,
   "id": "e4fbc73a-48ec-4d62-8966-ef0464ab9377",
   "metadata": {},
   "outputs": [
    {
     "data": {
      "text/plain": [
       "OrderedDict{SubString{String}, Int64} with 8 entries:\n",
       "  \"father\"          => 2\n",
       "  \"largestcityname\" => 2\n",
       "  \"rank\"            => 1\n",
       "  \"influenced\"      => 1\n",
       "  \"capital\"         => 1\n",
       "  \"mother\"          => 1\n",
       "  \"politicalsystem\" => 1\n",
       "  \"influences\"      => 1"
      ]
     },
     "execution_count": 75,
     "metadata": {},
     "output_type": "execute_result"
    }
   ],
   "source": [
    "# 通过词频察觉错误，没有明显梯度\n",
    "sort_count(counter(last.(rels)))"
   ]
  },
  {
   "cell_type": "markdown",
   "id": "d2e80a64-fae2-4e33-a36a-b39b2b22f848",
   "metadata": {},
   "source": [
    "倾向采用常规模型"
   ]
  },
  {
   "cell_type": "code",
   "execution_count": 76,
   "id": "50d5aa8a-af40-44b1-a75c-432a9c3deabc",
   "metadata": {},
   "outputs": [
    {
     "data": {
      "text/plain": [
       "2-element Vector{Tuple}:\n",
       " (\"shipnamesake\", \"mauna_kea\")\n",
       " (\"title\", \"united_states_navy\")"
      ]
     },
     "execution_count": 76,
     "metadata": {},
     "output_type": "execute_result"
    }
   ],
   "source": [
    "# 实际答案\n",
    "edges = DefaultDict{String, Vector{Tuple}}(Vector{Tuple})\n",
    "for (sub, rel, obj) in triples\n",
    "    push!(edges[sub], (rel, obj))\n",
    "end\n",
    "edges[ner]"
   ]
  },
  {
   "cell_type": "code",
   "execution_count": null,
   "id": "73905510-a370-430f-aa37-b528e429cb4b",
   "metadata": {},
   "outputs": [],
   "source": [
    "_, _, obj = filter(i->i[1]==ner && i[2]==\"shipnamesake\", triples)[1]\n",
    "edges[obj]"
   ]
  },
  {
   "cell_type": "code",
   "execution_count": null,
   "id": "211166d9-653e-4712-a0c9-5adbb56b73c8",
   "metadata": {},
   "outputs": [],
   "source": [
    "\"what is the type of the people, things and things with the same name as NER?\tuss_mauna_kea_(ae-22)\ttitle\tcommander1label\tstyle\""
   ]
  },
  {
   "cell_type": "code",
   "execution_count": null,
   "id": "ea3cb977-6991-4131-8360-dd6342abb27c",
   "metadata": {},
   "outputs": [],
   "source": [
    "count(length(edges[ner]) > 1 for (_, ner) in valid_ques_ner)"
   ]
  },
  {
   "cell_type": "code",
   "execution_count": null,
   "id": "29ddea5a-9195-4ec4-8f2c-9c06e2c592aa",
   "metadata": {},
   "outputs": [],
   "source": []
  },
  {
   "cell_type": "code",
   "execution_count": null,
   "id": "62400d5b-92fa-4990-aab9-cc02679700b6",
   "metadata": {},
   "outputs": [],
   "source": []
  },
  {
   "cell_type": "markdown",
   "id": "51b999d5-feec-4656-a522-e92b94f7116a",
   "metadata": {
    "jp-MarkdownHeadingCollapsed": true,
    "tags": []
   },
   "source": [
    "### 实体对齐\n",
    "\n",
    "1. 提取从 zh/en 三元组的实体，这是目标要做的\n",
    "   ```jl\n",
    "   en1\n",
    "   en2\n",
    "   ...\n",
    "   zh1\n",
    "   zh2\n",
    "   ...\n",
    "   ```\n",
    "2. 从 ILLs 中筛选有价值的部分:\n",
    "    - A \\neq B\n",
    "    - A or B in triples\n",
    "    此时行数减少，比如\n",
    "    ```jl\n",
    "    en1 \n",
    "    en2 zh1\n",
    "    ...\n",
    "    zh2\n",
    "    zh3\n",
    "    ...\n",
    "    ```\n",
    "3. 中英文均进行翻译，补充到数据中，其中中文翻译两次\n",
    "4. 使用相似匹配，进一步缩小数据长度（忽略大小写，空格，指定符号）"
   ]
  },
  {
   "cell_type": "code",
   "execution_count": null,
   "id": "254b9135-9376-4cda-8742-21e5849c2f8e",
   "metadata": {},
   "outputs": [],
   "source": []
  },
  {
   "cell_type": "markdown",
   "id": "9e430fd8-ec15-4c90-94c9-a92876c85633",
   "metadata": {
    "jp-MarkdownHeadingCollapsed": true,
    "tags": []
   },
   "source": [
    "### 处理 MergeILLs-暂存"
   ]
  },
  {
   "cell_type": "code",
   "execution_count": null,
   "id": "a284e16e-c714-49c3-ab57-a37213bdea1f",
   "metadata": {},
   "outputs": [],
   "source": [
    "function get_triple_sign(line)\n",
    "    triple = split(strip(line), ' ')\n",
    "    subsign, relsign, objsign = \"en\", \"en\", \"en\"\n",
    "    sub = get_txt(en_obj_reg, triple[1])\n",
    "    rel = get_txt(en_rel_reg, triple[2])\n",
    "    obj = get_txt(en_obj_reg, triple[3])\n",
    "    isempty(sub) && (sub = get_txt(zh_obj_reg, triple[1]);subsign = \"zh\")\n",
    "    isempty(rel) && (rel = get_txt(zh_rel_reg, triple[2]);relsign = \"zh\")\n",
    "    isempty(obj) && (obj = get_txt(zh_obj_reg, triple[3]);objsign = \"zh\")\n",
    "    [(sub, rel, obj), (subsign, relsign, objsign)]\n",
    "end\n",
    "function sort_count(list)\n",
    "    c_list = counter(list)\n",
    "    sort(Dict(c_list), by=i->c_list[i], rev=true)\n",
    "end"
   ]
  },
  {
   "cell_type": "code",
   "execution_count": null,
   "id": "31f7f795-b51b-448a-8a3e-4bfe5235ec73",
   "metadata": {},
   "outputs": [],
   "source": [
    "# 读取数据\n",
    "merged_triples = NTuple{3, String}[]\n",
    "signs = NTuple{3, String}[]\n",
    "open(\"ILLs_fusion/merged_ILLs_KG_en_zh.txt\", \"r\") do io\n",
    "    while true\n",
    "        line = readline(io)\n",
    "        isempty(line) && break\n",
    "        triple, sign = get_triple_sign(line)\n",
    "        push!(merged_triples, triple)\n",
    "        push!(signs, sign)\n",
    "    end\n",
    "end\n",
    "zh_triples_ILLs = merged_triples[162545:end]\n",
    "zh_signs = signs[162545:end]\n",
    "\n",
    "# 写入数据\n",
    "# extract_io = open(\"extract/merged_en_zh_byILLs.txt\", \"w\")\n",
    "# open(\"ILLs_fusion/merged_ILLs_KG_en_zh.txt\", \"r\") do io\n",
    "#     while (line = readline(io)) != \"\"\n",
    "#         triple, sign = get_triple_sign(line)\n",
    "#         println(extract_io, join(triple, '\\t'))\n",
    "#     end\n",
    "# end"
   ]
  },
  {
   "cell_type": "code",
   "execution_count": null,
   "id": "b6ced484-3118-4540-9a2c-520447abc47d",
   "metadata": {
    "tags": []
   },
   "outputs": [],
   "source": [
    "# 中文存在一对多的情况\n",
    "downloadILLs = Tuple{String, String}[]\n",
    "for (raw, new, sign) in zip(zh_triples, zh_triples_ILLs, zh_signs)\n",
    "    new[1] == new[3] && continue\n",
    "    sign[1] == \"en\" && new[1] != raw[1] && push!(downloadILLs, (new[1], raw[1]))\n",
    "    sign[3] == \"en\" && new[3] != raw[3] && push!(downloadILLs, (new[3], raw[3]))\n",
    "end\n",
    "unique!(downloadILLs) # 58556"
   ]
  },
  {
   "cell_type": "code",
   "execution_count": null,
   "id": "edd41593-3e21-453a-8a52-5268ca22a3b2",
   "metadata": {},
   "outputs": [],
   "source": [
    "# 合并后的实体对齐\n",
    "open(\"ILLs/combine_ills.txt\", \"w\") do io\n",
    "    for (en, zh) in sort(unique!(vcat(downloadILLs, ILLs)), by=last)\n",
    "        println(io, en, '\\t', zh)\n",
    "    end\n",
    "end"
   ]
  },
  {
   "cell_type": "code",
   "execution_count": null,
   "id": "75024289-7046-497e-b112-7475612d5cef",
   "metadata": {},
   "outputs": [],
   "source": [
    "# 不在 ILLs 中的实体对齐\n",
    "open(\"ILLs/new_ills.txt\", \"w\") do io\n",
    "    for (en, zh) in sort(filter(∉(Set(ILLs)), downloadILLs), by=last)\n",
    "        println(io, en, '\\t', zh)\n",
    "    end\n",
    "end"
   ]
  },
  {
   "cell_type": "code",
   "execution_count": null,
   "id": "7d3f350e-ceec-4d48-ad1f-38a5f8cd4e60",
   "metadata": {},
   "outputs": [],
   "source": [
    "dlILLs = Dict{String, String}()\n",
    "en_subs = Set(first.(en_triples))\n",
    "for ele in zip(zh_triples, zh_triples_ILLs, signs), (raw, new, sign) in zip(ele...)\n",
    "    sign == \"en\" && isascii(new) && (dlILLs[raw] = new)\n",
    "end"
   ]
  },
  {
   "cell_type": "code",
   "execution_count": null,
   "id": "00696505-0c46-4fd1-956d-e0092b06c6a1",
   "metadata": {
    "tags": []
   },
   "outputs": [],
   "source": [
    "fails = Tuple{String, String}[]\n",
    "for (key, val) in ILLs_zh_en\n",
    "    (haskey(dlILLs, key) && dlILLs[key] == val) || push!(fails, (key, val))\n",
    "end"
   ]
  },
  {
   "cell_type": "code",
   "execution_count": null,
   "id": "a8f51835-9a3d-448a-9126-9af7a35b586e",
   "metadata": {
    "tags": []
   },
   "outputs": [],
   "source": [
    "en_objs = Set(last.(en_triples))\n",
    "en_subs = Set(first.(en_triples))"
   ]
  },
  {
   "cell_type": "code",
   "execution_count": null,
   "id": "de333ff6-d59c-456d-bb4a-7bc09a3db46d",
   "metadata": {},
   "outputs": [],
   "source": [
    "necc_ILLs, necc_triples = Set{Tuple{String, String}}(), NTuple{3, String}[]\n",
    "for (raw, new, sign) in zip(zh_triples, zh_triples_ILLs, signs)\n",
    "    # 英文实体，头接尾，尾接头\n",
    "    flag = false\n",
    "    if sign[1] == \"en\" && !isascii(raw[1]) && new[1] ∈ en_objs\n",
    "        tmp = (raw[1], new[1])\n",
    "        tmp ∈ necc_ILLs || (push!(necc_ILLs, tmp); flag=true)\n",
    "    end\n",
    "    if sign[3] == \"en\" && !isascii(raw[3]) && new[3] ∈ en_subs\n",
    "        tmp = (raw[3], new[3])\n",
    "        tmp ∈ necc_ILLs || (push!(necc_ILLs, tmp); flag=true)\n",
    "    end\n",
    "    flag && push!(necc_triples, raw)\n",
    "end"
   ]
  },
  {
   "cell_type": "code",
   "execution_count": null,
   "id": "fbf2dae6-7bfe-46ef-8add-bae2547f2f33",
   "metadata": {},
   "outputs": [],
   "source": [
    "words = unique!(vcat(first.(zh_triples), last.(zh_triples_ILLs)))\n",
    "println(\"中文实体总数:\\t\", length(words))\n",
    "non_ILLs = filter(∉(keys(ILLs_zh_en)), words)\n",
    "println(\"非 ILLs 对齐实体数目:\\t\", length(non_ILLs))\n"
   ]
  },
  {
   "cell_type": "code",
   "execution_count": null,
   "id": "8ec6a2ec-6a35-46e3-b6cb-dc130dd4dd87",
   "metadata": {
    "tags": []
   },
   "outputs": [],
   "source": [
    "necc_ILLs\n",
    "\"约翰内斯堡大学\" => \"University of Johannesburg\"\n",
    "\"華特迪士尼工作室電影\" => \"Walt Disney Studios Electric\""
   ]
  },
  {
   "cell_type": "code",
   "execution_count": null,
   "id": "c6640dfb-6dc6-4d48-8af1-f528e02c98ff",
   "metadata": {
    "tags": []
   },
   "outputs": [],
   "source": [
    "for (key, val) in fails\n",
    "    haskey(dlILLs, key) && println(val, '\\t', dlILLs[key])\n",
    "end"
   ]
  }
 ],
 "metadata": {
  "kernelspec": {
   "display_name": "Julia 1.7.2",
   "language": "julia",
   "name": "julia-1.7"
  },
  "language_info": {
   "file_extension": ".jl",
   "mimetype": "application/julia",
   "name": "julia",
   "version": "1.7.2"
  }
 },
 "nbformat": 4,
 "nbformat_minor": 5
}
