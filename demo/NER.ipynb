{
 "cells": [
  {
   "cell_type": "markdown",
   "id": "1c58db86-e21b-49d0-8cf5-f3f6e3454928",
   "metadata": {},
   "source": [
    "## 前缀树"
   ]
  },
  {
   "cell_type": "markdown",
   "id": "bc623a04-386e-49f9-95cd-527047f48c29",
   "metadata": {
    "jp-MarkdownHeadingCollapsed": true,
    "tags": []
   },
   "source": [
    "### 工具"
   ]
  },
  {
   "cell_type": "markdown",
   "id": "52ba3933-d22b-4fab-b728-04839f1616ce",
   "metadata": {
    "tags": []
   },
   "source": [
    "#### 定义对象和方法"
   ]
  },
  {
   "cell_type": "code",
   "execution_count": 1,
   "id": "12e2a391-abb4-42f3-932a-bf53161a5cce",
   "metadata": {},
   "outputs": [
    {
     "data": {
      "text/plain": [
       "search_valid_word"
      ]
     },
     "execution_count": 1,
     "metadata": {},
     "output_type": "execute_result"
    }
   ],
   "source": [
    "\"前缀树\"\n",
    "Base.@kwdef mutable struct PrefixTree\n",
    "    isend::Bool = false\n",
    "    children = Dict{Char,PrefixTree}()\n",
    "end\n",
    "\n",
    "\"给前缀树增加单词\"\n",
    "function add_node!(node::PrefixTree, word::String)::Nothing\n",
    "    for c in word\n",
    "        children = node.children\n",
    "        haskey(children, c) || (children[c] = PrefixTree())\n",
    "        node = children[c]\n",
    "    end\n",
    "    node.isend = true\n",
    "    return nothing\n",
    "end\n",
    "\n",
    "\"在字符串里匹配字典单词\"\n",
    "function search_valid_word(node::PrefixTree, word::String)\n",
    "    res, n, word = String[], length(word), collect(word)\n",
    "    for i in 1:n\n",
    "        # 检索 word[i:end]\n",
    "        dict = node\n",
    "        for j in i:n\n",
    "            haskey(dict.children, word[j]) || break # 不存在到该位置的路径\n",
    "            dict = dict.children[word[j]] # 切换到该节点\n",
    "            dict.isend && push!(res, join(word[i:j]))\n",
    "        end\n",
    "    end\n",
    "    res\n",
    "end"
   ]
  },
  {
   "cell_type": "markdown",
   "id": "884855f2-cbbd-4a9a-a6a7-fc67cdf95b57",
   "metadata": {
    "tags": []
   },
   "source": [
    "#### 测试"
   ]
  },
  {
   "cell_type": "code",
   "execution_count": 2,
   "id": "e6cb3a9a-e180-4425-9181-fec0e76f674f",
   "metadata": {},
   "outputs": [],
   "source": [
    "words = [\"伊格尔·茨维塔诺维奇\", \"克罗地亚\", \"伊万·哈谢克\", \"伊莎貝拉_(帕爾馬郡主)\", \"克里斯·麦克尼尔利\", \"克罗地亚王国\", \"克罗泽群岛\", \"伊格内修斯·库图·阿昌庞\"];\n",
    "dict_zh = PrefixTree()\n",
    "for word in words\n",
    "    add_node!(dict_zh, word)\n",
    "end"
   ]
  },
  {
   "cell_type": "code",
   "execution_count": 3,
   "id": "d0c43421-18c6-4545-aaef-8f373fc6d804",
   "metadata": {},
   "outputs": [
    {
     "data": {
      "text/plain": [
       "2-element Vector{String}:\n",
       " \"克罗地亚\"\n",
       " \"伊格尔·茨维塔诺维奇\""
      ]
     },
     "execution_count": 3,
     "metadata": {},
     "output_type": "execute_result"
    }
   ],
   "source": [
    "question = \"克罗地亚足球运动员伊格尔·茨维塔诺维奇的出生国家西南边的地方叫什么\"\n",
    "search_valid_word(dict_zh, question)"
   ]
  },
  {
   "cell_type": "markdown",
   "id": "8161eb50-1381-40b1-a98a-4bbe24c6f36c",
   "metadata": {
    "tags": []
   },
   "source": [
    "### 读取数据"
   ]
  },
  {
   "cell_type": "code",
   "execution_count": 4,
   "id": "49e734cc-2a56-490c-bb4e-9d49904daf63",
   "metadata": {},
   "outputs": [
    {
     "name": "stdout",
     "output_type": "stream",
     "text": [
      "/home/rex/work_space/7 others/ccks/CCKS-mKGQA/data\n"
     ]
    }
   ],
   "source": [
    ";cd ../data"
   ]
  },
  {
   "cell_type": "code",
   "execution_count": 32,
   "id": "92bf5478-f1f6-423e-b0a9-faa26d08bdb3",
   "metadata": {},
   "outputs": [],
   "source": [
    "# 中文三元组，实体，关系\n",
    "txts = rstrip(read(open(\"extract/triple_zh.txt\", \"r\"), String))\n",
    "zh_triples = [NTuple{3,String}(split(txt, '\\t')) for txt in split(txts, '\\n')]\n",
    "# zh_objs = unique!(vcat(first.(zh_triples), last.(zh_triples)))\n",
    "zh_objs = unique(first.(zh_triples))\n",
    "zh_rels = unique(triple[2] for triple in zh_triples)\n",
    "\n",
    "# 英文三元组，实体，关系\n",
    "txts = rstrip(read(open(\"extract/triple_en.txt\", \"r\"), String))\n",
    "en_triples = [NTuple{3,String}(split(txt, '\\t')) for txt in split(txts, '\\n')]\n",
    "# en_objs = unique!(vcat(first.(en_triples), last.(en_triples)))\n",
    "en_objs = unique(first.(en_triples))\n",
    "en_rels = unique(triple[2] for triple in en_triples)\n",
    "\n",
    "# ILLs 对齐文件\n",
    "txts = rstrip(read(open(\"extract/ILLs(zh-en).txt\", \"r\"), String))\n",
    "ILLs = Dict{String,String}(split(txt, '\\t') for txt in split(txts,'\\n'))\n",
    "\n",
    "# 训练数据\n",
    "train_data = Dict{String, Vector{NTuple{4, String}}}()\n",
    "open(\"extract/train_data.txt\", \"r\") do io\n",
    "    for _ in 1:14077\n",
    "        que = readline(io)\n",
    "        ind, que = parse(Int, que[2]), que[5:end]\n",
    "        train_data[que] = [Tuple(split(readline(io), '\\t')) for _ in 1:ind]\n",
    "        readline(io)\n",
    "    end\n",
    "end"
   ]
  },
  {
   "cell_type": "markdown",
   "id": "eab7ce12-c6cb-4867-ae01-51c43e2246b0",
   "metadata": {
    "tags": []
   },
   "source": [
    "### 字典树初始化及测试"
   ]
  },
  {
   "cell_type": "code",
   "execution_count": 50,
   "id": "ff4b73d5-862f-4da8-89e7-5377586c033e",
   "metadata": {
    "collapsed": true,
    "jupyter": {
     "outputs_hidden": true
    },
    "tags": []
   },
   "outputs": [
    {
     "data": {
      "text/plain": [
       "84157-element Vector{String}:\n",
       " \"Microsoft Office\"\n",
       " \"Apple TV\"\n",
       " \"Eminem\"\n",
       " \"PS/2\"\n",
       " \"WNBA\"\n",
       " \"Eidos\"\n",
       " \"EMac\"\n",
       " \"Let It Be\"\n",
       " \"HTC Touch Pro\"\n",
       " \"E.ON\"\n",
       " \"Bunga Citra Lestari\"\n",
       " \"HTC Touch Pro2\"\n",
       " \"Vodacom\"\n",
       " ⋮\n",
       " \"Paragonah, Utah\"\n",
       " \"Hoyos de Miguel Muñoz\"\n",
       " \"Super Star (S.H.E album)\"\n",
       " \"Lampedusa\"\n",
       " \"Czech Technical University in Prague\"\n",
       " \"Parowan, Utah\"\n",
       " \"Sun Wensheng\"\n",
       " \"Burgin, Kentucky\"\n",
       " \"Tapley Seaton\"\n",
       " \"Salva Kiir Mayardit\"\n",
       " \"Digital container format\"\n",
       " \"Menard, Texas\""
      ]
     },
     "execution_count": 50,
     "metadata": {},
     "output_type": "execute_result"
    }
   ],
   "source": [
    "# 合并数据\n",
    "zh_words = vcat(filter(!isascii, zh_objs), collect(values(ILLs)))\n",
    "en_words = vcat(filter(isascii, zh_objs), filter(isascii, en_objs), collect(keys(ILLs)))\n",
    "# 替换字符\n",
    "zh_words = [replace(word, '_'=>' ') for word in zh_words]\n",
    "en_words = [replace(word, '_'=>' ') for word in en_words]"
   ]
  },
  {
   "cell_type": "code",
   "execution_count": 46,
   "id": "7f7c2933-eb67-4da7-94d3-4860a7316df6",
   "metadata": {},
   "outputs": [],
   "source": [
    "# 初始化前缀树\n",
    "dict_zh = PrefixTree()\n",
    "for word in zh_words\n",
    "    add_node!(dict_zh, word)\n",
    "end\n",
    "dict_en = PrefixTree()\n",
    "for word in en_words\n",
    "    add_node!(dict_en, word)\n",
    "end"
   ]
  },
  {
   "cell_type": "code",
   "execution_count": 47,
   "id": "a4e1618c-ba81-426b-84e2-2f726f3bf1c4",
   "metadata": {},
   "outputs": [
    {
     "data": {
      "text/plain": [
       "2-element Vector{String}:\n",
       " \"克罗地亚\"\n",
       " \"伊格尔·茨维塔诺维奇\""
      ]
     },
     "execution_count": 47,
     "metadata": {},
     "output_type": "execute_result"
    }
   ],
   "source": [
    "# 出生-来自尾实体\n",
    "# 馬紹爾城\tsettlementType\t出生\n",
    "question = \"克罗地亚足球运动员伊格尔·茨维塔诺维奇的出生国家西南边的地方叫什么\"\n",
    "search_valid_word(dict_zh, question)"
   ]
  },
  {
   "cell_type": "code",
   "execution_count": 48,
   "id": "bbd9f8fa-2928-4f90-8ce1-bab9252c249b",
   "metadata": {},
   "outputs": [
    {
     "data": {
      "text/plain": [
       "1-element Vector{String}:\n",
       " \"夜櫻作戰\""
      ]
     },
     "execution_count": 48,
     "metadata": {},
     "output_type": "execute_result"
    }
   ],
   "source": [
    "search_valid_word(dict_zh, \"which format does the cause of 夜櫻作戰, a japanese biological warfare plan during world war ii, belong to?\")"
   ]
  },
  {
   "cell_type": "code",
   "execution_count": 49,
   "id": "306424ce-cfc7-4d36-9e1b-685ae32224d0",
   "metadata": {},
   "outputs": [
    {
     "data": {
      "text/plain": [
       "2-element Vector{String}:\n",
       " \"Second Czechoslovak Republic\"\n",
       " \"Republic\""
      ]
     },
     "execution_count": 49,
     "metadata": {},
     "output_type": "execute_result"
    }
   ],
   "source": [
    "question = \"Savez-vous qui est l’héritier de Le chef de Second Czechoslovak Republic, une république de 1938-1939 en europe centrale/orientale?\"\n",
    "search_valid_word(dict_en, question)"
   ]
  },
  {
   "cell_type": "markdown",
   "id": "08ef7577-67f7-4afa-ae57-5cf92ab87222",
   "metadata": {},
   "source": [
    "### 实战"
   ]
  },
  {
   "cell_type": "code",
   "execution_count": 52,
   "id": "75caa5fb-b64d-488f-96ec-d4654927de1c",
   "metadata": {
    "collapsed": true,
    "jupyter": {
     "outputs_hidden": true
    },
    "tags": []
   },
   "outputs": [
    {
     "data": {
      "text/plain": [
       "13770-element Vector{Tuple{String, String}}:\n",
       " (\"who is the developer of the sponsor of Call of Duty World League?\", \"Call_of_Duty_World_League\")\n",
       " (\"where did the one that is after election of United States Senate special election in Massachusetts, 1962, a wahl, study?\", \"United_States_Senate_special_election_in_Massachusetts,_1962\")\n",
       " (\"where does the event involved in Kingdom of Slavonia occur?\", \"Kingdom_of_Slavonia\")\n",
       " (\"Daratt的所属国家的立法机构属于哪个王朝\", \"Daratt\")\n",
       " (\"Où Le descendant de 易卜拉欣帕夏, an ottoman politician and general (1789-1848), est-il mort?\", \"易卜拉欣帕夏\")\n",
       " (\"who is the spouse of the leader of Singaporean general election, 2015?\", \"Singaporean_general_election,_2015\")\n",
       " (\"who managed the tenant of the stadium that Costa Rica national football team 2010, a sportseizoen van een voetbalcompetitie, takes place?\", \"Costa_Rica_national_football_team_2010\")\n",
       " (\"which country does the alma mater of Wang Shu belong to?\", \"Wang_Shu\")\n",
       " (\"which religion does the one that is after election of Guinean presidential election, 2015 belong to?\", \"Guinean_presidential_election,_2015\")\n",
       " (\"which place is called as the subdivision of the location province of Khovd Gol Mine, a bergwerk in mongolei?\", \"Khovd_Gol_Mine\")\n",
       " (\"which city does the alma mater of Douglas Lwanga belong to?\", \"Douglas_Lwanga\")\n",
       " (\"Savez-vous d'où vient la religion de Le chef de Republic of Biak-na-Bato\", \"Republic_of_Biak-na-Bato\")\n",
       " (\"which label does the author of Blow-Up (soundtrack) belong to?\", \"Blow-Up_(soundtrack)\")\n",
       " ⋮\n",
       " (\"where does the successor of the deputy of Mongolia (1911–24) belong to?\", \"Mongolia_(1911–24)\")\n",
       " (\"Savez-vous quel est le niveau de gestion de Club dans lequel Est de Torrefarrera, une municipalité d'espagne, fait partie?\", \"Torrefarrera\")\n",
       " (\"Savez-vous qui est l'épouse de Le père de la 岩倉宮忠成王\", \"岩倉宮忠成王\")\n",
       " (\"Quel est le prédécesseur de Parents de 蔡智勇\", \"蔡智勇\")\n",
       " (\"Savez-vous quel sera le prochain spectacle de la produits liés à Dr. Frost, un television series?\", \"Dr._Frost\")\n",
       " (\"where is the alma mater of the eponym of Sylvester (crater)?\", \"Sylvester_(crater)\")\n",
       " (\"越南统治者阮福淍的父亲的下一任是谁\", \"阮福淍\")\n",
       " (\"Savez-vous qui est le chef de Le chef de José Calvo Sotelo\", \"José_Calvo_Sotelo\")\n",
       " (\"Savez-vous quel fuseau horaire utilise Le sud-est de Le stade où s'est déroulée la 2003–04 UEFA Cup, un tournoi de foot?\", \"2003–04_UEFA_Cup\")\n",
       " (\"丹麦独立视频游戏开发商和出版商Playdead所在国家有什么代表\", \"Playdead\")\n",
       " (\"Savez-vous qui est le chef de la Événement de publication de L’emplacement de Honduras national football team results (1990–99)\", \"Honduras_national_football_team_results_(1990–99)\")\n",
       " (\"Qui est l'acteur de responsable de SummerSlam (2008)\", \"SummerSlam_(2008)\")"
      ]
     },
     "execution_count": 52,
     "metadata": {},
     "output_type": "execute_result"
    }
   ],
   "source": [
    "txts = rstrip(read(open(\"extract/train_questions.txt\", \"r\"), String))\n",
    "NER_data = [NTuple{2,String}(split(txt, '\\t')) for txt in split(txts, '\\n')]"
   ]
  },
  {
   "cell_type": "code",
   "execution_count": 54,
   "id": "ddde7695-fb42-465f-8bf4-5bdf4426782f",
   "metadata": {},
   "outputs": [],
   "source": [
    "sols = NTuple{2,String}[]\n",
    "for (que, obj) in NER_data\n",
    "    objs = search_valid_word(dict_zh, que)\n",
    "    if length(objs) == 1\n",
    "        push!(sols, (que, first(objs)))\n",
    "    else\n",
    "        objs = search_valid_word(dict_en, que)\n",
    "        length(objs) == 1 && push!(sols, (que,first(objs)))\n",
    "    end\n",
    "end"
   ]
  },
  {
   "cell_type": "code",
   "execution_count": 58,
   "id": "755cf179-eacd-4d5f-a938-00d0db22d592",
   "metadata": {},
   "outputs": [
    {
     "data": {
      "text/plain": [
       "1-element Vector{String}:\n",
       " \"Dara\""
      ]
     },
     "execution_count": 58,
     "metadata": {},
     "output_type": "execute_result"
    }
   ],
   "source": [
    "search_valid_word(dict_zh, \"Daratt的所属国家的立法机构属于哪个王朝\")"
   ]
  },
  {
   "cell_type": "code",
   "execution_count": 59,
   "id": "8650a28c-b3be-4e3f-ae36-2e5b32d40b4b",
   "metadata": {},
   "outputs": [
    {
     "data": {
      "text/plain": [
       "7980"
      ]
     },
     "execution_count": 59,
     "metadata": {},
     "output_type": "execute_result"
    }
   ],
   "source": [
    "length(sols)"
   ]
  }
 ],
 "metadata": {
  "kernelspec": {
   "display_name": "Julia 1.7.2",
   "language": "julia",
   "name": "julia-1.7"
  },
  "language_info": {
   "file_extension": ".jl",
   "mimetype": "application/julia",
   "name": "julia",
   "version": "1.7.2"
  }
 },
 "nbformat": 4,
 "nbformat_minor": 5
}
