{
 "cells": [
  {
   "cell_type": "markdown",
   "id": "1c58db86-e21b-49d0-8cf5-f3f6e3454928",
   "metadata": {},
   "source": [
    "## 前缀树"
   ]
  },
  {
   "cell_type": "markdown",
   "id": "bc623a04-386e-49f9-95cd-527047f48c29",
   "metadata": {
    "tags": []
   },
   "source": [
    "### 工具"
   ]
  },
  {
   "cell_type": "markdown",
   "id": "52ba3933-d22b-4fab-b728-04839f1616ce",
   "metadata": {
    "tags": []
   },
   "source": [
    "#### 定义对象和方法"
   ]
  },
  {
   "cell_type": "code",
   "execution_count": 1,
   "id": "12e2a391-abb4-42f3-932a-bf53161a5cce",
   "metadata": {},
   "outputs": [
    {
     "data": {
      "text/plain": [
       "search_valid_word"
      ]
     },
     "execution_count": 1,
     "metadata": {},
     "output_type": "execute_result"
    }
   ],
   "source": [
    "\"前缀树\"\n",
    "Base.@kwdef mutable struct PrefixTree\n",
    "    isend::Bool = false\n",
    "    children = Dict{Char,PrefixTree}()\n",
    "end\n",
    "\n",
    "\"给前缀树增加单词\"\n",
    "function add_node!(node::PrefixTree, word::String)::Nothing\n",
    "    for c in word\n",
    "        children = node.children\n",
    "        haskey(children, c) || (children[c] = PrefixTree())\n",
    "        node = children[c]\n",
    "    end\n",
    "    node.isend = true\n",
    "    return nothing\n",
    "end\n",
    "\n",
    "\"在字符串里匹配字典单词\"\n",
    "function search_valid_word(node::PrefixTree, word::String)\n",
    "    res, n, word = String[], length(word), collect(word)\n",
    "    for i in 1:n\n",
    "        # 检索 word[i:end]\n",
    "        dict = node\n",
    "        for j in i:n\n",
    "            haskey(dict.children, word[j]) || break # 不存在到该位置的路径\n",
    "            dict = dict.children[word[j]] # 切换到该节点\n",
    "            dict.isend && push!(res, join(word[i:j]))\n",
    "        end\n",
    "    end\n",
    "    res\n",
    "end"
   ]
  },
  {
   "cell_type": "code",
   "execution_count": 2,
   "id": "cca623ff-4184-47b0-abb5-f23554cd30a4",
   "metadata": {},
   "outputs": [
    {
     "data": {
      "text/plain": [
       "remove_subcase"
      ]
     },
     "execution_count": 2,
     "metadata": {},
     "output_type": "execute_result"
    }
   ],
   "source": [
    "\"删除子串\"\n",
    "function remove_subcase(subs)\n",
    "    # (n = length(subs)) == 1 && return subs\n",
    "    sort!(subs, by=length)\n",
    "    res, n = String[], length(subs)\n",
    "    for (i, sub) in enumerate(subs)\n",
    "        any(j->occursin(sub, subs[j]), (i+1):n) || push!(res, sub)\n",
    "    end\n",
    "    res\n",
    "end"
   ]
  },
  {
   "cell_type": "markdown",
   "id": "884855f2-cbbd-4a9a-a6a7-fc67cdf95b57",
   "metadata": {
    "jp-MarkdownHeadingCollapsed": true,
    "tags": []
   },
   "source": [
    "#### 测试"
   ]
  },
  {
   "cell_type": "code",
   "execution_count": 3,
   "id": "e6cb3a9a-e180-4425-9181-fec0e76f674f",
   "metadata": {},
   "outputs": [],
   "source": [
    "words = [\"伊格尔·茨维塔诺维奇\", \"克罗地亚\", \"伊万·哈谢克\", \"伊莎貝拉_(帕爾馬郡主)\", \"克里斯·麦克尼尔利\", \"克罗地亚王国\", \"克罗泽群岛\", \"伊格内修斯·库图·阿昌庞\"];\n",
    "dict_zh = PrefixTree()\n",
    "for word in words\n",
    "    add_node!(dict_zh, word)\n",
    "end"
   ]
  },
  {
   "cell_type": "code",
   "execution_count": 4,
   "id": "d0c43421-18c6-4545-aaef-8f373fc6d804",
   "metadata": {},
   "outputs": [
    {
     "data": {
      "text/plain": [
       "2-element Vector{String}:\n",
       " \"克罗地亚\"\n",
       " \"伊格尔·茨维塔诺维奇\""
      ]
     },
     "execution_count": 4,
     "metadata": {},
     "output_type": "execute_result"
    }
   ],
   "source": [
    "question = \"克罗地亚足球运动员伊格尔·茨维塔诺维奇的出生国家西南边的地方叫什么\"\n",
    "search_valid_word(dict_zh, question)"
   ]
  },
  {
   "cell_type": "markdown",
   "id": "8161eb50-1381-40b1-a98a-4bbe24c6f36c",
   "metadata": {
    "tags": []
   },
   "source": [
    "### 读取数据"
   ]
  },
  {
   "cell_type": "code",
   "execution_count": 5,
   "id": "49e734cc-2a56-490c-bb4e-9d49904daf63",
   "metadata": {},
   "outputs": [
    {
     "name": "stdout",
     "output_type": "stream",
     "text": [
      "/home/rex/work_space/7 others/ccks/CCKS-mKGQA/data\n"
     ]
    }
   ],
   "source": [
    ";cd ../data"
   ]
  },
  {
   "cell_type": "code",
   "execution_count": 6,
   "id": "92bf5478-f1f6-423e-b0a9-faa26d08bdb3",
   "metadata": {
    "tags": []
   },
   "outputs": [],
   "source": [
    "# 中文三元组，实体，关系\n",
    "txts = rstrip(read(open(\"extract/triple_zh.txt\", \"r\"), String))\n",
    "zh_triples = [NTuple{3,String}(split(txt, '\\t')) for txt in split(txts, '\\n')]\n",
    "# zh_objs = unique!(vcat(first.(zh_triples), last.(zh_triples)))\n",
    "zh_subs = unique(first.(zh_triples))\n",
    "zh_rels = unique(triple[2] for triple in zh_triples)\n",
    "\n",
    "# 英文三元组，实体，关系\n",
    "txts = rstrip(read(open(\"extract/triple_en.txt\", \"r\"), String))\n",
    "en_triples = [NTuple{3,String}(split(txt, '\\t')) for txt in split(txts, '\\n')]\n",
    "# en_objs = unique!(vcat(first.(en_triples), last.(en_triples)))\n",
    "en_subs = unique(first.(en_triples))\n",
    "en_rels = unique(triple[2] for triple in en_triples)\n",
    "\n",
    "# ILLs 对齐文件\n",
    "txts = rstrip(read(open(\"extract/ILLs(zh-en).txt\", \"r\"), String))\n",
    "ILLs = Dict{String,String}(split(txt, '\\t') for txt in split(txts,'\\n'))\n",
    "\n",
    "# 测试数据\n",
    "txts = rstrip(read(open(\"NER_data/valid_ques.txt\", \"r\"), String))\n",
    "que_and_sub = Dict{String,String}(split(txt, '\\t') for txt in split(txts,'\\n'))\n",
    "for (que, sub) in que_and_sub\n",
    "    que_and_sub[que] = replace(sub, '_'=>' ')\n",
    "end"
   ]
  },
  {
   "cell_type": "markdown",
   "id": "eab7ce12-c6cb-4867-ae01-51c43e2246b0",
   "metadata": {
    "tags": []
   },
   "source": [
    "### 字典树初始化及测试"
   ]
  },
  {
   "cell_type": "code",
   "execution_count": 71,
   "id": "deb4f4d8-a7e3-4bea-96dc-feb470340330",
   "metadata": {
    "collapsed": true,
    "jupyter": {
     "outputs_hidden": true
    },
    "tags": []
   },
   "outputs": [
    {
     "data": {
      "text/plain": [
       "137468-element Vector{String}:\n",
       " \"Government of the Republic of China in Guangzhou\"\n",
       " \"Zhang Xiaoya\"\n",
       " \"Random Thoughts (Faye Wong album)\"\n",
       " \"Republic of China presidential election, 1913\"\n",
       " \"French frigate Descartes\"\n",
       " \"French submarine Archimède\"\n",
       " \"Charles Simonyi\"\n",
       " \"HSwMS Thordön\"\n",
       " \"Iraqi parliamentary election, 1984\"\n",
       " \"Silulu A'etonu\"\n",
       " \"Zhou dynasty (690–705)\"\n",
       " \"Lakas–CMD\"\n",
       " \"USRC James Madison (1807)\"\n",
       " ⋮\n",
       " \"鲁昂\"\n",
       " \"任天堂\"\n",
       " \"靜岡市\"\n",
       " \"国防部 (以色列)\"\n",
       " \"道格拉斯飞行器公司\"\n",
       " \"奥斯陆\"\n",
       " \"馬頭角\"\n",
       " \"費爾菲爾德 (康乃狄克州)\"\n",
       " \"加兹温\"\n",
       " \"普爾城足球會\"\n",
       " \"孙文盛\"\n",
       " \"视频文件格式\""
      ]
     },
     "execution_count": 71,
     "metadata": {},
     "output_type": "execute_result"
    }
   ],
   "source": [
    "en_words = unique!(vcat(en_subs, collect(keys(ILLs))))\n",
    "en_words = [replace(word, '_'=>' ') for word in en_words]\n",
    "zh_words = unique!(vcat(zh_subs, collect(values(ILLs))))\n",
    "zh_words = [replace(word, '_'=>' ') for word in zh_words]\n",
    "words = unique!(vcat(en_words, zh_words))\n",
    "words = [replace(word, '_'=>' ') for word in words]"
   ]
  },
  {
   "cell_type": "code",
   "execution_count": 73,
   "id": "00b2fb7b-6e7b-4cd0-906f-3b357ec4134d",
   "metadata": {},
   "outputs": [],
   "source": [
    "dict = PrefixTree()\n",
    "for word in words\n",
    "    add_node!(dict, word)\n",
    "end\n",
    "dict_en = PrefixTree()\n",
    "for word in en_words\n",
    "    add_node!(dict_en, word)\n",
    "end\n",
    "dict_zh = PrefixTree()\n",
    "for word in zh_words\n",
    "    add_node!(dict_zh, word)\n",
    "end"
   ]
  },
  {
   "cell_type": "code",
   "execution_count": 83,
   "id": "a4e1618c-ba81-426b-84e2-2f726f3bf1c4",
   "metadata": {},
   "outputs": [
    {
     "data": {
      "text/plain": [
       "2-element Vector{String}:\n",
       " \"克罗地亚\"\n",
       " \"伊格尔·茨维塔诺维奇\""
      ]
     },
     "execution_count": 83,
     "metadata": {},
     "output_type": "execute_result"
    }
   ],
   "source": [
    "# 出生-来自尾实体\n",
    "# 馬紹爾城\tsettlementType\t出生\n",
    "question = \"克罗地亚足球运动员伊格尔·茨维塔诺维奇的出生国家西南边的地方叫什么\"\n",
    "subs = search_valid_word(dict, question)\n",
    "remove_subcase(subs)"
   ]
  },
  {
   "cell_type": "code",
   "execution_count": 82,
   "id": "bbd9f8fa-2928-4f90-8ce1-bab9252c249b",
   "metadata": {},
   "outputs": [
    {
     "data": {
      "text/plain": [
       "1-element Vector{String}:\n",
       " \"夜櫻作戰\""
      ]
     },
     "execution_count": 82,
     "metadata": {},
     "output_type": "execute_result"
    }
   ],
   "source": [
    "subs = search_valid_word(dict, \"which format does the cause of 夜櫻作戰, a japanese biological warfare plan during world war ii, belong to?\")\n",
    "remove_subcase(subs)"
   ]
  },
  {
   "cell_type": "code",
   "execution_count": 81,
   "id": "306424ce-cfc7-4d36-9e1b-685ae32224d0",
   "metadata": {},
   "outputs": [
    {
     "data": {
      "text/plain": [
       "1-element Vector{String}:\n",
       " \"Second Czechoslovak Republic\""
      ]
     },
     "execution_count": 81,
     "metadata": {},
     "output_type": "execute_result"
    }
   ],
   "source": [
    "question = \"Savez-vous qui est l’héritier de Le chef de Second Czechoslovak Republic, une république de 1938-1939 en europe centrale/orientale?\"\n",
    "subs = search_valid_word(dict, question)\n",
    "remove_subcase(subs)"
   ]
  },
  {
   "cell_type": "markdown",
   "id": "08ef7577-67f7-4afa-ae57-5cf92ab87222",
   "metadata": {
    "tags": []
   },
   "source": [
    "### 实战"
   ]
  },
  {
   "cell_type": "code",
   "execution_count": 84,
   "id": "f0832708-1612-4fd1-8812-f2763ad4dc86",
   "metadata": {},
   "outputs": [
    {
     "data": {
      "text/plain": [
       "get_subject (generic function with 1 method)"
      ]
     },
     "execution_count": 84,
     "metadata": {},
     "output_type": "execute_result"
    }
   ],
   "source": [
    "function get_subject(que)\n",
    "    subs = remove_subcase(search_valid_word(dict, que))\n",
    "    length(subs) == 1 && return subs\n",
    "    subs = remove_subcase(search_valid_word(dict_en, que))\n",
    "    length(subs) == 1 && return subs\n",
    "    subs = remove_subcase(search_valid_word(dict_zh, que))\n",
    "    length(subs) == 1 && return subs\n",
    "    return remove_subcase(search_valid_word(dict, que))\n",
    "end"
   ]
  },
  {
   "cell_type": "code",
   "execution_count": 86,
   "id": "ddde7695-fb42-465f-8bf4-5bdf4426782f",
   "metadata": {},
   "outputs": [
    {
     "data": {
      "text/plain": [
       "13185"
      ]
     },
     "execution_count": 86,
     "metadata": {},
     "output_type": "execute_result"
    }
   ],
   "source": [
    "## 提取唯一解的情形\n",
    "valids = Tuple{String, String}[]\n",
    "fails = String[]\n",
    "for (que, _) in que_and_sub\n",
    "    subs = get_subject(que)\n",
    "    length(subs) == 1 ? push!(valids, (que, first(subs))) : push!(fails, que)\n",
    "end\n",
    "count(que_and_sub[que] == sub for (que, sub) in valids)"
   ]
  },
  {
   "cell_type": "code",
   "execution_count": 56,
   "id": "f4a10a28-b2d5-461b-a7a9-461881c50e04",
   "metadata": {},
   "outputs": [],
   "source": [
    "## 剩余部分从英文实体中提取唯一解\n",
    "en_valids = Tuple{String, String}[]\n",
    "en_fails = String[]\n",
    "for que in fails\n",
    "    subs = search_valid_word(dict_en, que)\n",
    "    subs = remove_subcase(subs)\n",
    "    length(subs) == 1 ? push!(en_valids, (que, first(subs))) : push!(en_fails, que)\n",
    "end"
   ]
  },
  {
   "cell_type": "code",
   "execution_count": 67,
   "id": "e898bfda-22a6-4137-9540-c122f330b1da",
   "metadata": {
    "tags": []
   },
   "outputs": [
    {
     "name": "stdout",
     "output_type": "stream",
     "text": [
      "黑莓有限公司推出的基于android的slider智能手机BlackBerry Priv的相关产品（作品）属于什么类型\n"
     ]
    }
   ],
   "source": [
    "cor = 0\n",
    "for (que, sub) in en_valids\n",
    "    que_and_sub[que] == sub || println(que)\n",
    "end"
   ]
  },
  {
   "cell_type": "code",
   "execution_count": 66,
   "id": "7629105d-8f49-4712-9d49-057d35560d91",
   "metadata": {},
   "outputs": [
    {
     "data": {
      "text/plain": [
       "3-element Vector{String}:\n",
       " \"智能手机\"\n",
       " \"BlackBerry\"\n",
       " \"BlackBerry Priv\""
      ]
     },
     "execution_count": 66,
     "metadata": {},
     "output_type": "execute_result"
    }
   ],
   "source": [
    "search_valid_word(dict, \"黑莓有限公司推出的基于android的slider智能手机BlackBerry Priv的相关产品（作品）属于什么类型\")"
   ]
  },
  {
   "cell_type": "code",
   "execution_count": 70,
   "id": "be0ea5ec-ea01-4370-a871-6e1111f547e3",
   "metadata": {},
   "outputs": [],
   "source": [
    "open(\"NER_data/multi_en_sols.txt\", \"w\") do io\n",
    "    for que in en_fails\n",
    "        println(io, que)\n",
    "    end\n",
    "end"
   ]
  },
  {
   "cell_type": "code",
   "execution_count": 41,
   "id": "7f14cc3c-973e-43af-9e3c-3f70a079710b",
   "metadata": {},
   "outputs": [
    {
     "data": {
      "text/plain": [
       "false"
      ]
     },
     "execution_count": 41,
     "metadata": {},
     "output_type": "execute_result"
    }
   ],
   "source": [
    "\"克罗地亚足球运动员伊格尔·茨维塔诺维奇的出生国家西南边的地方叫什么\" in fails"
   ]
  },
  {
   "cell_type": "code",
   "execution_count": 43,
   "id": "4c334984-1225-478e-8cb0-b3a26ac9b817",
   "metadata": {},
   "outputs": [
    {
     "data": {
      "text/plain": [
       "2-element Vector{String}:\n",
       " \"土耳其\"\n",
       " \"Veli Ağbaba\""
      ]
     },
     "execution_count": 43,
     "metadata": {},
     "output_type": "execute_result"
    }
   ],
   "source": [
    "que = \"土耳其政治家Veli Ağbaba的领导人的首相是谁\"\n",
    "search_valid_word(dict, que)"
   ]
  },
  {
   "cell_type": "code",
   "execution_count": 44,
   "id": "755cf179-eacd-4d5f-a938-00d0db22d592",
   "metadata": {},
   "outputs": [],
   "source": [
    "open(\"NER_data/multi_sol.txt\", \"w\") do io\n",
    "    for que in fails\n",
    "        println(io, que)\n",
    "    end\n",
    "end"
   ]
  },
  {
   "cell_type": "code",
   "execution_count": 49,
   "id": "c79b603a-b1af-459b-8a01-9f39ad736c82",
   "metadata": {},
   "outputs": [
    {
     "data": {
      "text/plain": [
       "\"国际\""
      ]
     },
     "execution_count": 49,
     "metadata": {},
     "output_type": "execute_result"
    }
   ],
   "source": [
    "maximum(search_valid_word(dict, \"2010 FIFA World Cup qualification – AFC Fourth Round，一项国际足球比赛，其举办地的继任者的继任者是哪位\"))"
   ]
  }
 ],
 "metadata": {
  "kernelspec": {
   "display_name": "Julia 1.6.3",
   "language": "julia",
   "name": "julia-1.6"
  },
  "language_info": {
   "file_extension": ".jl",
   "mimetype": "application/julia",
   "name": "julia",
   "version": "1.6.3"
  }
 },
 "nbformat": 4,
 "nbformat_minor": 5
}
