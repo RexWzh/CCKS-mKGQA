{
 "cells": [
  {
   "cell_type": "markdown",
   "id": "59bf2423-33f2-4c59-8ed7-cb85727a5a12",
   "metadata": {},
   "source": [
    "## 翻译工作"
   ]
  },
  {
   "cell_type": "markdown",
   "id": "81e6df2d-5624-49d5-8ce1-e6d1f5ebadee",
   "metadata": {
    "tags": []
   },
   "source": [
    "### 读取数据"
   ]
  },
  {
   "cell_type": "code",
   "execution_count": 11,
   "id": "a5c63bf1-19fd-4192-bba0-ed144fef139e",
   "metadata": {
    "tags": []
   },
   "outputs": [
    {
     "name": "stdout",
     "output_type": "stream",
     "text": [
      "导入成功，内容概要：\n",
      "    | 变量名 | 说明 |\n",
      "    | ---- | ---- |\n",
      "    | zh_triples/en_triples | 三元组 |\n",
      "    | zh_subs/en_subs | 头实体 |\n",
      "    | zh_objs/en_objs | 尾实体 |\n",
      "    | zh_rels/en_rels | 关系 |\n",
      "    | zh_entity/en_entity | 实体（头和尾） |\n",
      "    | ILLs | 英文 => 中文对齐 |\n",
      "    | ILLs_zh_en | 中文 => 英文对齐|\n",
      "    | train_data | 训练集 |\n"
     ]
    }
   ],
   "source": [
    "include(\"../src/readfiles.jl\")"
   ]
  },
  {
   "cell_type": "markdown",
   "id": "359defe5-712b-4777-99b9-ce43c7088d8d",
   "metadata": {
    "tags": []
   },
   "source": [
    "### ILLs 翻译\n",
    "1. `triple_zh` => `triple_zh_ills`\n",
    "2. `triples` = `triple_en + triple_zh_ills`\n",
    "3. 通过 `triples` 计算三跳信息"
   ]
  },
  {
   "cell_type": "markdown",
   "id": "d2fca649-23f0-4ce5-bd3a-3c5ae8ef9225",
   "metadata": {
    "tags": []
   },
   "source": [
    "#### 三元组-实体对齐"
   ]
  },
  {
   "cell_type": "code",
   "execution_count": 1,
   "id": "f1f12517-a07b-4fbc-93a3-f7e35fa97c9a",
   "metadata": {},
   "outputs": [
    {
     "data": {
      "text/plain": [
       "zh2en"
      ]
     },
     "execution_count": 1,
     "metadata": {},
     "output_type": "execute_result"
    }
   ],
   "source": [
    "\"用 ILLs 翻译实体和关系\"\n",
    "function zh2en(triple)\n",
    "    sub, rel, obj = triple\n",
    "    sub ∈ keys(ILLs_zh_en) && (sub = ILLs_zh_en[sub])\n",
    "    rel ∈ keys(ILLs_zh_en) && (rel = ILLs_zh_en[rel])\n",
    "    obj ∈ keys(ILLs_zh_en) && (obj = ILLs_zh_en[obj])\n",
    "    return (sub, rel, obj)\n",
    "end"
   ]
  },
  {
   "cell_type": "code",
   "execution_count": 3,
   "id": "9d0411bd-2caa-4699-9812-59deb0f3db06",
   "metadata": {
    "tags": []
   },
   "outputs": [
    {
     "name": "stdout",
     "output_type": "stream",
     "text": [
      "[104941, 162544, 266749]\n"
     ]
    }
   ],
   "source": [
    "# 处理，合并三元组\n",
    "en_triples_ills = [zh2en(triple) for triple in zh_triples]\n",
    "triples = unique!(vcat(en_triples, en_triples_ills))\n",
    "# 存在 736 个重复\n",
    "println(length.([en_triples_ills, en_triples, triples]))"
   ]
  },
  {
   "cell_type": "code",
   "execution_count": 4,
   "id": "d5e66d17-7a84-45e2-b7ed-bd0a9042a6a4",
   "metadata": {},
   "outputs": [
    {
     "name": "stdout",
     "output_type": "stream",
     "text": [
      "736\n"
     ]
    }
   ],
   "source": [
    "triple_repeat = filter(in(Set(en_triples)), en_triples_ills)\n",
    "println(length(triple_repeat))\n",
    "open(\"../data/ILLs/triple_repeat.txt\", \"w\") do io\n",
    "    for triple in triple_repeat\n",
    "        println(io, join(triple, '\\t'))\n",
    "    end\n",
    "end\n",
    "# (\"雷\", \"format\", \"Ogg\") => (\"Thunder\", \"format\", \"Ogg\")"
   ]
  },
  {
   "cell_type": "code",
   "execution_count": 68,
   "id": "33114be8-7547-4153-adfc-43ab0b74a85b",
   "metadata": {},
   "outputs": [],
   "source": [
    "# 写入数据\n",
    "# open(\"../data/ILLs/triple_zh_ills.txt\", \"w\") do io\n",
    "#     for triple in en_triples_ills\n",
    "#         println(io, join(triple, '\\t'))\n",
    "#     end\n",
    "# end\n",
    "\n",
    "# open(\"../data/ILLs/triples.txt\", \"w\") do io\n",
    "#     for triple in triples\n",
    "#         println(io, join(triple, '\\t'))\n",
    "#     end\n",
    "# end"
   ]
  },
  {
   "cell_type": "markdown",
   "id": "f280bc72-d828-44e9-8f67-8c8228a3113c",
   "metadata": {
    "tags": []
   },
   "source": [
    "#### 三跳计算量"
   ]
  },
  {
   "cell_type": "code",
   "execution_count": 114,
   "id": "5448a90d-0795-4a97-b080-a2b35a61e5d2",
   "metadata": {
    "tags": []
   },
   "outputs": [
    {
     "data": {
      "text/plain": [
       "multi_jumps (generic function with 1 method)"
      ]
     },
     "execution_count": 114,
     "metadata": {},
     "output_type": "execute_result"
    }
   ],
   "source": [
    "using DataStructures\n",
    "\n",
    "# 初始化边集\n",
    "edges = DefaultDict{String, Vector{String}}(Vector{String})\n",
    "for (sub, _, obj) in triples\n",
    "    push!(edges[sub], obj)\n",
    "end\n",
    "\n",
    "# 多跳函数 O(N*frequence*jump) ≈ O(N*jump)\n",
    "function multi_jumps(edges::AbstractDict; num=3)\n",
    "    jumps = Dict{String, Vector{Int}}(sub => [length(val)] for (sub, val) in edges)\n",
    "    for i in 1:(num-1), (sub, objs) in edges\n",
    "        new_num = sum(haskey(jumps, obj) ? jumps[obj][i] : 1 for obj in objs)\n",
    "        push!(jumps[sub], new_num)\n",
    "    end\n",
    "    jumps\n",
    "end"
   ]
  },
  {
   "cell_type": "code",
   "execution_count": 115,
   "id": "8072d0b5-e908-439d-860e-f32af7fc31bb",
   "metadata": {
    "tags": []
   },
   "outputs": [
    {
     "data": {
      "text/plain": [
       "OrderedDict{String, Vector{Int64}} with 123248 entries:\n",
       "  \"Antonio_Segni\"                         => [57, 369, 2855, 16834]\n",
       "  \"Giovanni_Leone\"                        => [34, 248, 1751, 11127]\n",
       "  \"Fernando_Tambroni\"                     => [20, 233, 1451, 10367]\n",
       "  \"Giovanni_Gronchi\"                      => [24, 221, 1335, 9618]\n",
       "  \"Ma_Ying-jeou\"                          => [35, 220, 1472, 9301]\n",
       "  \"Louis_the_German\"                      => [26, 232, 1366, 8486]\n",
       "  \"Koosharem,_Utah\"                       => [21, 236, 1361, 7904]\n",
       "  \"Giuseppe_Pella\"                        => [33, 189, 1111, 7649]\n",
       "  \"Louis_the_Pious\"                       => [33, 240, 1232, 7430]\n",
       "  \"Maurice_Bourgès-Maunoury\"              => [47, 189, 1615, 6950]\n",
       "  \"Lien_Chan\"                             => [29, 172, 1140, 6891]\n",
       "  \"Itō_Hirobumi\"                          => [28, 173, 1069, 6848]\n",
       "  \"吳敦義\"                                => [20, 167, 1036, 6680]\n",
       "  \"Louis_the_Younger\"                     => [15, 167, 1021, 6413]\n",
       "  \"Yamagata_Aritomo\"                      => [10, 160, 952, 6262]\n",
       "  \"松方正義\"                              => [21, 147, 1027, 6195]\n",
       "  \"Adone_Zoli\"                            => [14, 129, 835, 6079]\n",
       "  \"Loa,_Utah\"                             => [25, 160, 1045, 5966]\n",
       "  \"Vincent_Siew\"                          => [14, 148, 920, 5906]\n",
       "  \"Nossa_Senhora_do_Rosário,_Santa_Maria\" => [14, 96, 809, 5870]\n",
       "  \"Aristide_Briand\"                       => [39, 200, 1023, 5751]\n",
       "  \"Charles_the_Fat\"                       => [38, 143, 1010, 5684]\n",
       "  \"Jacques_Chaban-Delmas\"                 => [19, 197, 968, 5654]\n",
       "  \"Glenwood,_Utah\"                        => [22, 166, 1017, 5636]\n",
       "  \"Georges_Leygues\"                       => [45, 192, 1154, 5457]\n",
       "  ⋮                                       => ⋮"
      ]
     },
     "execution_count": 115,
     "metadata": {},
     "output_type": "execute_result"
    }
   ],
   "source": [
    "# 只需要考虑头实体\n",
    "# 频次高主要是尾实体形式\n",
    "jumps = multi_jumps(edges, num=4)\n",
    "sort(jumps; by=i->last(jumps[i]), rev=true)"
   ]
  },
  {
   "cell_type": "code",
   "execution_count": 87,
   "id": "3cb91e43-d89c-459e-803d-21a8965b9740",
   "metadata": {},
   "outputs": [],
   "source": [
    "# # 保存结果\n",
    "# open(\"../data/ILLs/jumps.txt\", \"w\") do io\n",
    "#     for (sub, val) in sort(jumps; by=i->last(jumps[i]), rev=true)\n",
    "#         println(io, sub, '\\t', join(val, '\\t'))\n",
    "#     end\n",
    "# end"
   ]
  },
  {
   "cell_type": "markdown",
   "id": "a212a986-f025-46d3-bdbb-5ec666685f2f",
   "metadata": {
    "tags": []
   },
   "source": [
    "### 机器翻译"
   ]
  },
  {
   "cell_type": "markdown",
   "id": "f69885af-6285-422f-9e12-1510d1cf14c9",
   "metadata": {
    "tags": []
   },
   "source": [
    "#### 三元组翻译\n",
    "1. 关系提取过程只需要子图附近的边集，不需要输入节点\n",
    "2. `triple_zh_ills` => `triple_en_2.txt`\n",
    "3. 汇总 `triples.txt`，格式如下\n",
    "\n",
    "   |  subject | relation | object |\n",
    "   | ------- | -------- | ------ | \n",
    "   |  头实体 | 关系 | 尾实体 | "
   ]
  },
  {
   "cell_type": "code",
   "execution_count": 5,
   "id": "8dec94b6-eff9-4d87-a8a5-40837db3bd93",
   "metadata": {
    "collapsed": true,
    "jupyter": {
     "outputs_hidden": true
    },
    "tags": []
   },
   "outputs": [
    {
     "data": {
      "text/plain": [
       "Dict{String, AbstractString} with 255 entries:\n",
       "  \"西\"   => \"West\"\n",
       "  \"编剧\" => \"screenwriter\"\n",
       "  \"流經\" => \"flowThrough\"\n",
       "  \"軍種\" => \"military\"\n",
       "  \"北\"   => \"north\"\n",
       "  \"首長… => \"Chief'sName\"\n",
       "  \"分類\" => \"Classification\"\n",
       "  \"頻道\" => \"channel\"\n",
       "  \"樂器\" => \"musicalInstrument\"\n",
       "  \"开国… => \"foundingMonarch\"\n",
       "  \"父\"   => \"father\"\n",
       "  \"腳本\" => \"script\"\n",
       "  \"出生… => \"dateOfBirth\"\n",
       "  \"類\"   => \"kind\"\n",
       "  \"使用… => \"UseThePlatform\"\n",
       "  \"电视… => \"TVStation\"\n",
       "  \"聲優\" => \"seiyuu\"\n",
       "  \"国籍\" => \"CountryOfCitizenship\"\n",
       "  \"受影… => \"affectedBy\"\n",
       "  \"元配… => \"FatherOfYuanPei\"\n",
       "  \"皇居\" => \"ImperialPalace\"\n",
       "  \"执政… => \"rulingParty\"\n",
       "  \"隶属\" => \"affiliation\"\n",
       "  \"分封… => \"Packer\"\n",
       "  \"擁有… => \"owner\"\n",
       "  ⋮      => ⋮"
      ]
     },
     "execution_count": 5,
     "metadata": {},
     "output_type": "execute_result"
    }
   ],
   "source": [
    "using XLSX\n",
    "pure_zh = filter(!isascii, filter(!in(en_rels), zh_rels))\n",
    "# # 写入文件\n",
    "# XLSX.openxlsx(\"../data/translate/pure_zh.xlsx\", mode=\"w\") do xf\n",
    "#     sheet = xf[1]\n",
    "#     sheet[\"A1:A255\"] = reshape(pure_zh, 255, 1)\n",
    "# end\n",
    "\n",
    "# 格式标准化\n",
    "function rel_combine(txt::AbstractString)\n",
    "    txts = split(txt, ' ')\n",
    "    length(txts) == 1 && return txt\n",
    "    first(txts) * join(uppercasefirst.(txts[2:end]))\n",
    "end\n",
    "\n",
    "xf = XLSX.readxlsx(\"../data/translate/pure_zh_translate.xlsx\")\n",
    "translate = rel_combine.(strip.(Vector{String}(xf[1][:][:])))\n",
    "\n",
    "# 转化关系-注意格式\n",
    "zh2en_rel = Dict(zh=>en for (zh, en) in zip(pure_zh, translate))"
   ]
  },
  {
   "cell_type": "code",
   "execution_count": 8,
   "id": "14b28402-7dc3-434b-bbd6-5e3eddabfec4",
   "metadata": {
    "tags": []
   },
   "outputs": [],
   "source": [
    "# 写入文件\n",
    "# open(\"../data/translate/triple_en_2.txt\", \"w\") do io\n",
    "#     for (sub, rel, obj) in en_triples_ills\n",
    "#         haskey(zh2en_rel, rel) && (rel = zh2en_rel[rel])\n",
    "#         println(io, join([sub, rel, obj], '\\t'))\n",
    "#     end\n",
    "# end\n",
    "\n",
    "# open(\"../data/translate/triples.txt\", \"w\") do io\n",
    "#     for (sub, rel, obj) in unique!(vcat(en_triples, en_triples_ills))\n",
    "#         haskey(zh2en_rel, rel) && (rel = zh2en_rel[rel])\n",
    "#         println(io, join([sub, rel, obj], '\\t'))\n",
    "#     end\n",
    "# end"
   ]
  },
  {
   "cell_type": "markdown",
   "id": "9b995df2-abd1-4739-92a1-ea5b4ebd4338",
   "metadata": {
    "tags": []
   },
   "source": [
    "#### 还原翻译\n",
    "`triples.txt => triple_en_1.txt/triple_en_2.txt => raw_triple`"
   ]
  },
  {
   "cell_type": "code",
   "execution_count": 23,
   "id": "5e118f36-909c-405c-b81a-4f6ed41f77ba",
   "metadata": {
    "collapsed": true,
    "jupyter": {
     "outputs_hidden": true
    },
    "tags": []
   },
   "outputs": [
    {
     "data": {
      "text/plain": [
       "Dict{Tuple{String, String, String}, Tuple{String, String, String}} with 104940 entries:\n",
       "  (\"比拉达马特\", \"subdivis… => (\"比拉达马特\", \"subdivisionName\", \"加泰罗尼亚\")\n",
       "  (\"Sieniawa\", \"subdivisio… => (\"谢尼亚瓦\", \"subdivisionName\", \"普热沃斯克县\")\n",
       "  (\"第二次中东战争\", \"plac… => (\"第二次中东战争\", \"place\", \"中東\")\n",
       "  (\"小行星2048\", \"discover… => (\"小行星2048\", \"discoverySite\", \"帕洛马山\")\n",
       "  (\"喬·沙翠亞尼\", \"genre\",… => (\"喬·沙翠亞尼\", \"genre\", \"硬搖滾\")\n",
       "  (\"蓬蒂布兰卡\", \"subdivis… => (\"蓬蒂布兰卡\", \"subdivisionName\", \"马托格罗索州\")\n",
       "  (\"湯姆·卡波\", \"state\", \"… => (\"湯姆·卡波\", \"state\", \"德拉瓦州\")\n",
       "  (\"Hisashi_Kimura\", \"birt… => (\"木村荣\", \"birthPlace\", \"日本\")\n",
       "  (\"古斯塔沃·卡纳莱斯\", \"y… => (\"古斯塔沃·卡纳莱斯\", \"youthclubs\", \"拉普拉塔体操…\n",
       "  (\"毁灭者_(电影)\", \"starr… => (\"毁灭者_(电影)\", \"starring\", \"凡妮莎·威廉斯\")\n",
       "  (\"小行星8071\", \"discover… => (\"小行星8071\", \"discoverySite\", \"可可尼诺县\")\n",
       "  (\"韦斯利·克拉克\", \"alleg… => (\"韦斯利·克拉克\", \"allegiance\", \"美国陆军\")\n",
       "  (\"凌時差音樂\", \"keyPeopl… => (\"凌時差音樂\", \"keyPeople\", \"蔡依林\")\n",
       "  (\"埃尔南·克雷斯波\", \"clu… => (\"埃尔南·克雷斯波\", \"clubs\", \"拉素體育會\")\n",
       "  (\"Christian_Wulff\", \"off… => (\"克里斯蒂安·武尔夫\", \"office\", \"德国联邦总统\")\n",
       "  (\"蘭開斯特縣_(南卡羅萊納… => (\"蘭開斯特縣_(南卡羅萊納州)\", \"seat\", \"Lancaster…\n",
       "  (\"Tridu_Songtsen\", \"moth… => (\"赤都松赞\", \"mother\", \"没庐妃赤玛类\")\n",
       "  (\"朱尼厄斯·理查德·贾亚瓦… => (\"朱尼厄斯·理查德·贾亚瓦尔德纳\", \"successor\", \"菲…\n",
       "  (\"Quebec_City\", \"source\"… => (\"魁北克市\", \"source\", \"Environment_Canada\")\n",
       "  (\"Mercedes_F1_W07_Hybrid… => (\"梅賽德斯F1_W07_Hybrid\", \"predecessor\", \"梅賽德…\n",
       "  (\"特雅王后\", \"issue\", \"P… => (\"特雅王后\", \"issue\", \"彭塔瓦尔\")\n",
       "  (\"卡洛斯·山塔那\", \"instr… => (\"卡洛斯·山塔那\", \"instrument\", \"歌唱\")\n",
       "  (\"Ne_Win\", \"party\", \"緬甸… => (\"奈温\", \"party\", \"緬甸社會主義綱領黨\")\n",
       "  (\"生活大爆炸_(第十季)\", … => (\"生活大爆炸_(第十季)\", \"starring\", \"吉姆·帕森斯…\n",
       "  (\"Giovanni_Leone\", \"part… => (\"乔瓦尼·利昂纳\", \"party\", \"意大利天主教民主党\")\n",
       "  ⋮                         => ⋮"
      ]
     },
     "execution_count": 23,
     "metadata": {},
     "output_type": "execute_result"
    }
   ],
   "source": [
    "# 读入翻译后的\n",
    "en_triples_1 = readtriples(\"translate/triple_en_1.txt\")\n",
    "en_triples_2 = readtriples(\"translate/triple_en_2.txt\")\n",
    "\n",
    "# 读入翻译前的数据\n",
    "raw_en_triples = readtriples(\"raw_triple/triple_en.txt\")\n",
    "raw_zh_triples = readtriples(\"raw_triple/triple_zh.txt\")\n",
    "\n",
    "MT_en = Dict((=>).(raw_en_triples, en_triples_1))\n",
    "MT_zh = Dict((=>).(raw_zh_triples, en_triples_2))\n",
    "MT_en_rev = Dict((=>).(en_triples_1, raw_en_triples))\n",
    "MT_zh_rev = Dict((=>).(en_triples_2, raw_zh_triples))"
   ]
  },
  {
   "cell_type": "markdown",
   "id": "94a645f4-45fb-41b3-a041-981388f0ef5e",
   "metadata": {
    "tags": []
   },
   "source": [
    "#### 问题翻译\n",
    "1. 训练集 `train_data.txt`，格式如下\n",
    "\n",
    "   | index | question | NER | rel1 | rel2 | rel3 |\n",
    "    | ----- | ---------| --- | ---- | ---- | ---- |\n",
    "    | 索引 | 问题 | 命名实体 | 关系1 | 关系2 | 关系3 |\n",
    "\n",
    "2. 测试集 `valid_data.txt` 格式如下\n",
    "   | index | question | NER |\n",
    "    | ----- | ---------| --- |\n",
    "    | 索引 | 问题 | 命名实体 |"
   ]
  },
  {
   "cell_type": "code",
   "execution_count": 108,
   "id": "f3b7f249-f10f-48c0-bf3b-2f49d97b058d",
   "metadata": {},
   "outputs": [
    {
     "name": "stdout",
     "output_type": "stream",
     "text": [
      "25164\t0.204173698559003\n"
     ]
    }
   ],
   "source": [
    "# 存在重边，但不同节点的情况，且比例不小\n",
    "sub_edges = DefaultDict{String, Vector{String}}(Vector{String})\n",
    "for (sub, edge, obj) in triples\n",
    "    push!(sub_edges[sub], edge)\n",
    "end\n",
    "num = count(i->length(unique(i))!=length(i), values(sub_edges))\n",
    "println(num,'\\t', num/length(sub_edges))"
   ]
  },
  {
   "cell_type": "code",
   "execution_count": 26,
   "id": "c65226b9-1e50-486f-b0f2-56848151584e",
   "metadata": {},
   "outputs": [
    {
     "name": "stdout",
     "output_type": "stream",
     "text": [
      " !\"#$%&'()*+,-./0123456789:;<=>?@ABCDEFGHIJKLMNOPQRSTUVWXYZ[\\]^_abcdefghijklmnopqrstuvwxyz| §©«²³»ÀÂÆÇÈÉÊËÎÏÔÙÛÜàâæçèéêëîïôùûüÿŒœŸʳˢᵈᵉ‐‑–—’“”†‡… ‰€−\n"
     ]
    }
   ],
   "source": [
    "# 语言模式-用于区分英文，法语\n",
    "txt = \"U+20-5F, U+61-7A, U+7C, U+A0, U+A7, U+A9, U+AB, U+B2-B3, U+BB, U+C0, U+C2, U+C6-CB, U+CE-CF, U+D4, U+D9, U+DB-DC, U+E0, U+E2, U+E6-EB, U+EE-EF, U+F4, U+F9, U+FB-FC, U+FF, U+152-153, U+178, U+2B3, U+2E2, U+1D48-1D49, U+2010-2011, U+2013-2014, U+2019, U+201C-201D, U+2020-2021, U+2026, U+202F-2030, U+20AC, U+2212\"\n",
    "code_range = [strip(t)[3:end] for t in split(txt, ',')]\n",
    "french = Char[]\n",
    "for code in code_range\n",
    "    if '-' ∉ code\n",
    "        push!(french, Char(parse(Int, \"0x\"*code)))\n",
    "    else\n",
    "        st, en = split(code, '-')\n",
    "        append!(french, Char.(parse(Int, \"0x\"*st):parse(Int, \"0x\"*en)))\n",
    "    end\n",
    "end\n",
    "french = join(french)\n",
    "isfrench(c::AbstractChar) = c ∈ french\n",
    "isfrench(txt::AbstractString) = all(isfrench, txt)\n",
    "println(french)"
   ]
  },
  {
   "cell_type": "code",
   "execution_count": 62,
   "id": "83aaec95-fc58-4ff0-afd5-5d63f355de39",
   "metadata": {},
   "outputs": [
    {
     "data": {
      "text/plain": [
       "get_NER_rels (generic function with 2 methods)"
      ]
     },
     "execution_count": 62,
     "metadata": {},
     "output_type": "execute_result"
    }
   ],
   "source": [
    "# 通过 train_data 返回问题的 NER 和关系\n",
    "function get_NER_rels(que::AbstractString)\n",
    "    rels = String[]\n",
    "    for (i, sol) in enumerate(train_data[que])\n",
    "        lang, sol = first(sol), sol[2:end]\n",
    "        sol = lang == \"zh\" ? MT_zh[sol] : MT_en[sol]\n",
    "        i == 1 && push!(rels, first(sol))\n",
    "        push!(rels, sol[2])\n",
    "    end\n",
    "    rels\n",
    "end"
   ]
  },
  {
   "cell_type": "code",
   "execution_count": 107,
   "id": "23d7eed1-fb83-4bab-8489-f0d4be778c2c",
   "metadata": {
    "tags": []
   },
   "outputs": [],
   "source": [
    "# 问题分两类-英法、中文\n",
    "train_ques = split(rstrip(read(open(\"extract/valid_ques.txt\", \"r\"), String)), '\\n')\n",
    "train_ques_ner = similar(train_ques)\n",
    "for (i, que) in enumerate(train_ques)\n",
    "    ner = replace(train_data[que][1][2], '_'=>' ')\n",
    "    train_ques_ner[i] = replace(que, ner=>\"NER\")\n",
    "end\n",
    "french_ques, chinese_ques, french_ques_ner, chinese_ques_ner = [String[] for _ in 1:4]\n",
    "for (q1, q2) in zip(train_ques, train_ques_ner)\n",
    "    if isfrench(q2)\n",
    "        push!(french_ques, q1)\n",
    "        push!(french_ques_ner, q2)\n",
    "    else\n",
    "        push!(chinese_ques, q1)\n",
    "        push!(chinese_ques_ner, q2)\n",
    "    end\n",
    "end"
   ]
  },
  {
   "cell_type": "code",
   "execution_count": 100,
   "id": "3658017f-0d36-4569-8d99-262811c482be",
   "metadata": {
    "collapsed": true,
    "jupyter": {
     "outputs_hidden": true
    },
    "tags": []
   },
   "outputs": [
    {
     "data": {
      "text/plain": [
       "4351×1 Matrix{String}:\n",
       " \"NER的所属国家的立法机构属于哪个王朝\"\n",
       " \"NER的领导人的国籍是什么\"\n",
       " \"NER的位置西部的地点是什么选区\"\n",
       " \"NER的母校效力的总统是谁\"\n",
       " \"NER，一位中国政治家（1913-2010），他的头衔的提名者由谁担任\"\n",
       " \"a古巴的城市NER的所属群岛属于哪个区划\"\n",
       " \"掌管NER的人的代理人是谁\"\n",
       " \"日本政治家NER扮演过属于哪个党派\"\n",
       " \"NER的位置建立的标志事件采用哪种国家体制\"\n",
       " \"NER的后裔的上一代的前任是什么\"\n",
       " \"NER影响到的国家和地区的首都（或省会）在哪儿\"\n",
       " \"NER的领导人的领导机构是什么\"\n",
       " \"NER的最大城市东北边的海洋叫什么\"\n",
       " ⋮\n",
       " \"菲律宾的一个政党NER的领导人所属的党派是什么\"\n",
       " \"NER，一位美国律师和政治家，他的母校隶属于哪个机构\"\n",
       " \"NER的领导人的分支是哪个\"\n",
       " \"NER的镇长的所属区域是什么\"\n",
       " \"NER的著作是谁导演的作品\"\n",
       " \"法国国王（1544-1560）NER的母亲的后裔的上一代是什么\"\n",
       " \"NER的母校隶属于哪个机构\"\n",
       " \"NER的控制者用什么货币\"\n",
       " \"NER的郡西南部是什么地方\"\n",
       " \"NER的选举获胜者住过的地方有哪些\"\n",
       " \"越南统治者NER的父亲的下一任是谁\"\n",
       " \"丹麦独立视频游戏开发商和出版商NER所在国家有什么代表\""
      ]
     },
     "execution_count": 100,
     "metadata": {},
     "output_type": "execute_result"
    }
   ],
   "source": [
    "# 保存为 Excel\n",
    "# XLSX.openxlsx(\"translate/french_ques.xlsx\", mode=\"w\") do xf\n",
    "#     sheet = xf[1]\n",
    "#     n = length(french_ques_ner)\n",
    "#     sheet[\"A1:A$n\"] = reshape(french_ques, n, 1)\n",
    "# end\n",
    "# XLSX.openxlsx(\"translate/chinese_ques.xlsx\", mode=\"w\") do xf\n",
    "#     sheet = xf[1]\n",
    "#     n = length(chinese_ques_ner)\n",
    "#     sheet[\"A1:A$n\"] = reshape(chinese_ques, n, 1)\n",
    "# end"
   ]
  },
  {
   "cell_type": "code",
   "execution_count": 104,
   "id": "0d9b5005-6e65-44d7-a0e1-28b9a4c973db",
   "metadata": {
    "collapsed": true,
    "jupyter": {
     "outputs_hidden": true
    },
    "tags": []
   },
   "outputs": [
    {
     "data": {
      "text/plain": [
       "9135-element Vector{String}:\n",
       " \"who is the developer of the sponsor of NER?\"\n",
       " \"where did the one that is after election of NER, a wahl, study?\"\n",
       " \"where does the event involved in NER occur?\"\n",
       " \"Where did Le descendant de NER,\" ⋯ 21 bytes ⋯ \"n and general (1789-1848), die?\"\n",
       " \"who is the spouse of the leader of NER?\"\n",
       " \"who managed the tenant of the s\" ⋯ 40 bytes ⋯ \"voetbalcompetitie, takes place?\"\n",
       " \"which country does the alma mater of NER belong to?\"\n",
       " \"which religion does the one that is after election of NER belong to?\"\n",
       " \"which place is called as the su\" ⋯ 35 bytes ⋯ \"of NER, a bergwerk in mongolei?\"\n",
       " \"which city does the alma mater of NER belong to?\"\n",
       " \"Do you know where the religion of The leader of NER comes from\"\n",
       " \"which label does the author of NER belong to?\"\n",
       " \"Who will be The first of The title of NER next\"\n",
       " ⋮\n",
       " \"which sport does the tenant of the location of NER play?\"\n",
       " \"who is the monarch of the one that is after election of NER?\"\n",
       " \"where does the successor of the deputy of NER belong to?\"\n",
       " \"Do you know what is the level o\" ⋯ 41 bytes ⋯ \"municipality of Spain, is part?\"\n",
       " \"Do you know who is the wife of The father of NER\"\n",
       " \"What is the predecessor of Parents of NER\"\n",
       " \"Do you know what will be the ne\" ⋯ 26 bytes ⋯ \" products, a television series?\"\n",
       " \"where is the alma mater of the eponym of NER?\"\n",
       " \"Do you know who is the leader of The leader of NER\"\n",
       " \"Do you know what timezone South\" ⋯ 41 bytes ⋯ \"ll tournament took place is in?\"\n",
       " \"Do You Know Who's Head of the NER Location Publishing Event\"\n",
       " \"Who is the responsible actor for NER\""
      ]
     },
     "execution_count": 104,
     "metadata": {},
     "output_type": "execute_result"
    }
   ],
   "source": [
    "xf = XLSX.readxlsx(\"../data/translate/MT_chinese_ques.xlsx\")\n",
    "chinese_en_ques = Vector{String}(strip.(xf[1][:][:]))\n",
    "xf = XLSX.readxlsx(\"../data/translate/MT_french_ques.xlsx\")\n",
    "french_en_ques = Vector{String}(strip.(xf[1][:][:]))"
   ]
  },
  {
   "cell_type": "code",
   "execution_count": 112,
   "id": "7af2fa0c-e7b5-40eb-9f25-79cfdac45709",
   "metadata": {},
   "outputs": [],
   "source": [
    "open(\"translate/train_data.txt\", \"w\") do io\n",
    "    for (q1, q2) in zip(chinese_en_ques, chinese_ques)\n",
    "        rels = get_NER_rels(q2)\n",
    "        println(io, q1,'\\t', join(rels, '\\t'))\n",
    "    end\n",
    "    for (q1, q2) in zip(french_en_ques, french_ques)\n",
    "        rels = get_NER_rels(q2)\n",
    "        println(io, q1,'\\t',  join(rels, '\\t'))\n",
    "    end\n",
    "end"
   ]
  },
  {
   "cell_type": "markdown",
   "id": "2516a812-9ded-4a1c-b6e3-689ebab80538",
   "metadata": {},
   "source": [
    "#### 小结\n",
    "1. `translate/triples.txt` 记录知识图谱\n",
    "2. `translate/train_data.txt` 记录问题，NER（根节点），关系1-3\n",
    "3. `translate/valid_data.txt` 记录问题，NER（根节点）\n",
    "\n",
    "现在就差对训练数据的训练，并在测试集上验证"
   ]
  }
 ],
 "metadata": {
  "kernelspec": {
   "display_name": "Julia 1.7.2",
   "language": "julia",
   "name": "julia-1.7"
  },
  "language_info": {
   "file_extension": ".jl",
   "mimetype": "application/julia",
   "name": "julia",
   "version": "1.7.2"
  }
 },
 "nbformat": 4,
 "nbformat_minor": 5
}
