{
 "cells": [
  {
   "cell_type": "code",
   "execution_count": null,
   "id": "1ed53af5-ce13-4a65-8288-059bcb82059c",
   "metadata": {},
   "outputs": [],
   "source": [
    "from pydoc import doc\n",
    "from nltk import word_tokenize\n",
    "triple_en = open(\"../data/extract_data/triple_en.txt\")\n",
    "en_querel = open(\"../data/RelExtract_data/en_QueRel.txt\")\n",
    "rel_match = open(\"../data/RelMatch_data/en_RelMatch.txt\",\"w\")\n",
    "\n",
    "lines = triple_en.readlines()\n",
    "dict_relation = {}\n",
    "for line in lines:\n",
    "    sample = line.split('\\t')\n",
    "    relation = sample[1]\n",
    "    if relation not in dict_relation.keys():\n",
    "        dict_relation[relation]=1\n",
    "    else:\n",
    "        dict_relation[relation]+=1\n",
    "print(\"the num of en_relation is {}\".format(len(dict_relation.keys())))\n",
    "\n",
    "correct = 0\n",
    "flag = True\n",
    "interpunctuations = [',', '.', ':', ';', '?', '(', ')', '[', ']', '&', '!', '*', '@', '#', '$', '%']\n",
    "lines = en_querel.readlines()\n",
    "for line in lines:\n",
    "    sample = line.split('\\t')\n",
    "    ques = sample[0].split(\" \")\n",
    "    answers = sample[1][1:-1].split(' ')\n",
    "    answers = [x[0:-1] for x in answers]\n",
    "    if flag:\n",
    "        print(\"the ques sample is {},the ans sample is {}\".format(ques,str(answers)))\n",
    "        flag = False\n",
    "    predict = []\n",
    "    for word in ques:\n",
    "        if word in dict_relation.keys():\n",
    "            predict.append(word)\n",
    "    if(set(predict)==set(answers)):correct+=1\n",
    "    rel_match.write(str(predict)+\"\\t\"+str(answers)+'\\n')\n",
    "print(\"the correct is {},the precision is {}\".format(correct,correct/len(lines)))\n",
    "     \n",
    "\n"
   ]
  }
 ],
 "metadata": {
  "kernelspec": {
   "display_name": "Python 3 (ipykernel)",
   "language": "python",
   "name": "python3"
  },
  "language_info": {
   "codemirror_mode": {
    "name": "ipython",
    "version": 3
   },
   "file_extension": ".py",
   "mimetype": "text/x-python",
   "name": "python",
   "nbconvert_exporter": "python",
   "pygments_lexer": "ipython3",
   "version": "3.8.10"
  }
 },
 "nbformat": 4,
 "nbformat_minor": 5
}
