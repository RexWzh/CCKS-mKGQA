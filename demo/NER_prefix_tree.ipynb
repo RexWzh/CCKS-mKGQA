{
 "cells": [
  {
   "cell_type": "markdown",
   "id": "51c57232-2dc1-4b55-a0cd-a2087820ba50",
   "metadata": {},
   "source": [
    "## 字典树提取命名实体"
   ]
  },
  {
   "cell_type": "markdown",
   "id": "c051d32f-b5f3-4055-bf1e-053ea67097d6",
   "metadata": {
    "tags": []
   },
   "source": [
    "### 定义工具"
   ]
  },
  {
   "cell_type": "code",
   "execution_count": 4,
   "id": "8f822b56-504f-4fe9-992d-a27505448d6a",
   "metadata": {},
   "outputs": [
    {
     "data": {
      "text/plain": [
       "remove_subcase"
      ]
     },
     "execution_count": 4,
     "metadata": {},
     "output_type": "execute_result"
    }
   ],
   "source": [
    "cd(\"../data\")\n",
    "include(\"../src/prefixtree.jl\")"
   ]
  },
  {
   "cell_type": "markdown",
   "id": "044bbb91-c641-4313-9ea2-2a797c6ba0e9",
   "metadata": {
    "tags": []
   },
   "source": [
    "### 初始化字典树"
   ]
  },
  {
   "cell_type": "code",
   "execution_count": 5,
   "id": "a4a54bcd-6578-4ba8-bb7b-216951dd46d3",
   "metadata": {},
   "outputs": [],
   "source": [
    "include(\"../src/readfiles.jl\")\n",
    "\n",
    "# 测试数据\n",
    "txts = rstrip(read(open(\"NER_data/valid_ques.txt\", \"r\"), String))\n",
    "que_and_sub = Dict{String,String}(split(txt, '\\t') for txt in split(txts,'\\n'))\n",
    "for (que, sub) in que_and_sub\n",
    "    que_and_sub[que] = replace(sub, '_'=>' ')\n",
    "end"
   ]
  },
  {
   "cell_type": "code",
   "execution_count": 9,
   "id": "bf28d267-8bed-4521-8703-81fa42b3dc1c",
   "metadata": {
    "tags": []
   },
   "outputs": [],
   "source": [
    "# 字典数据\n",
    "en_words = unique!(vcat(en_subs, collect(keys(ILLs))))\n",
    "en_words = [replace(word, '_'=>' ') for word in en_words]\n",
    "zh_words = unique!(vcat(zh_subs, collect(values(ILLs))))\n",
    "zh_words = [replace(word, '_'=>' ') for word in zh_words]\n",
    "words = unique!(vcat(en_words, zh_words))\n",
    "words = [replace(word, '_'=>' ') for word in words]\n",
    "\n",
    "# 生成字典树\n",
    "dict, dict_en, dict_zh = PrefixTree(), PrefixTree(), PrefixTree()\n",
    "for word in words\n",
    "    add_node!(dict, word)\n",
    "end\n",
    "for word in en_words\n",
    "    add_node!(dict_en, word)\n",
    "end\n",
    "for word in zh_words\n",
    "    add_node!(dict_zh, word)\n",
    "end"
   ]
  },
  {
   "cell_type": "markdown",
   "id": "99e7bb84-ec32-437d-b98f-ca7ce2fb1efc",
   "metadata": {},
   "source": [
    "### 抽取命名实体"
   ]
  },
  {
   "cell_type": "code",
   "execution_count": 10,
   "id": "9051f3e3-a973-4e57-b7c6-c9be2bb1d7b5",
   "metadata": {},
   "outputs": [
    {
     "data": {
      "text/plain": [
       "get_subject (generic function with 1 method)"
      ]
     },
     "execution_count": 10,
     "metadata": {},
     "output_type": "execute_result"
    }
   ],
   "source": [
    "# NER 的主要函数\n",
    "# 抽取实体仅出现在头实体上\n",
    "# 很可能是单向的，下一步 check 利于简化关系抽取\n",
    "function get_subject(que)\n",
    "    # 从所有头实体以及 ILLs 中匹配\n",
    "    subs = remove_subcase(search_valid_word(dict, que))\n",
    "    length(subs) == 1 && return subs\n",
    "    # 剩下的大部分是中文问题，带英文关键字\n",
    "    # 从英文实体以及 ILLs 英文实体中匹配\n",
    "    subs = remove_subcase(search_valid_word(dict_en, que))\n",
    "    length(subs) == 1 && return subs\n",
    "    # 从中文实体以及 ILLs 中文实体中匹配\n",
    "    subs = remove_subcase(search_valid_word(dict_zh, que))\n",
    "    length(subs) == 1 && return subs\n",
    "    return remove_subcase(search_valid_word(dict, que))\n",
    "end\n",
    "# 实体带有空格，用字典树进行处理，复杂度 O(实体长度*问题长度)"
   ]
  },
  {
   "cell_type": "code",
   "execution_count": 33,
   "id": "6f04944f-7c51-45cc-bb39-8147bb8422d1",
   "metadata": {},
   "outputs": [
    {
     "name": "stdout",
     "output_type": "stream",
     "text": [
      "13187\n"
     ]
    },
    {
     "data": {
      "text/plain": [
       "13185"
      ]
     },
     "execution_count": 33,
     "metadata": {},
     "output_type": "execute_result"
    }
   ],
   "source": [
    "# 在训练集上测试，valids 为存在唯一解的情况，fails 为多解情况\n",
    "valids, fails = Tuple{String, String}[], String[]\n",
    "for (que, _) in que_and_sub\n",
    "    subs = get_subject(que)\n",
    "    length(subs) == 1 ? push!(valids, (que, first(subs))) : push!(fails, que)\n",
    "end\n",
    "println(length(valids))\n",
    "count(que_and_sub[que] == sub for (que, sub) in valids)"
   ]
  },
  {
   "cell_type": "code",
   "execution_count": 7,
   "id": "38b6e215-7701-47fb-9c3d-48ab6eb14347",
   "metadata": {},
   "outputs": [
    {
     "name": "stdout",
     "output_type": "stream",
     "text": [
      "Quel est le fabricant de Choses liées aux Microsoft Lumia 950 XL, un smartphone mobile Windows 10 développé par Microsoft?\n",
      "黑莓有限公司推出的基于android的slider智能手机BlackBerry Priv的相关产品（作品）属于什么类型\n"
     ]
    }
   ],
   "source": [
    "# 检验唯一解情况的提取结果是否正确 \n",
    "# 只有两个错误\n",
    "for (que, sub) in valids\n",
    "    que_and_sub[que] == sub || println(que)\n",
    "end"
   ]
  },
  {
   "cell_type": "code",
   "execution_count": 18,
   "id": "74ae41aa-b6e6-47b3-bdc7-702848789007",
   "metadata": {},
   "outputs": [
    {
     "name": "stdout",
     "output_type": "stream",
     "text": [
      "Microsoft Lumia 950 XL\n"
     ]
    },
    {
     "data": {
      "text/plain": [
       "2-element Vector{String}:\n",
       " \"Windows 10\"\n",
       " \"Microsoft Lumia 950 XL\""
      ]
     },
     "execution_count": 18,
     "metadata": {},
     "output_type": "execute_result"
    }
   ],
   "source": [
    "que1 = \"Quel est le fabricant de Choses liées aux Microsoft Lumia 950 XL, un smartphone mobile Windows 10 développé par Microsoft?\"\n",
    "println(que_and_sub[que1])\n",
    "remove_subcase(search_valid_word(dict, que1))"
   ]
  },
  {
   "cell_type": "code",
   "execution_count": 20,
   "id": "291f9d9f-35cf-43e0-bb02-d592c42972c1",
   "metadata": {},
   "outputs": [
    {
     "data": {
      "text/plain": [
       "2-element Vector{String}:\n",
       " \"智能手机\"\n",
       " \"BlackBerry Priv\""
      ]
     },
     "execution_count": 20,
     "metadata": {},
     "output_type": "execute_result"
    }
   ],
   "source": [
    "que2 = \"黑莓有限公司推出的基于android的slider智能手机BlackBerry Priv的相关产品（作品）属于什么类型\"\n",
    "remove_subcase(search_valid_word(dict_zh, que2))\n",
    "# triple_zh: BlackBerry_Priv\trelated\tBlackBerry_Classic"
   ]
  },
  {
   "cell_type": "code",
   "execution_count": 12,
   "id": "0027e801-51a8-47de-a7c2-214733ae8cf6",
   "metadata": {},
   "outputs": [
    {
     "data": {
      "text/plain": [
       "2-element Vector{String}:\n",
       " \"加拿大\"\n",
       " \"安大略進步保守黨\""
      ]
     },
     "execution_count": 12,
     "metadata": {},
     "output_type": "execute_result"
    }
   ],
   "source": [
    "get_subject(\"加拿大安大略省的一个政党安大略進步保守黨持有席位的议会所属的党派是什么\")"
   ]
  },
  {
   "cell_type": "code",
   "execution_count": 35,
   "id": "05530f58-4ad7-4502-85f3-03be8f24eb20",
   "metadata": {
    "collapsed": true,
    "jupyter": {
     "outputs_hidden": true
    },
    "tags": []
   },
   "outputs": [
    {
     "data": {
      "text/plain": [
       "299-element Vector{String}:\n",
       " \"日本皇室附属分支的成员華頂博信的父亲的出生地是哪里\"\n",
       " \"非洲南部的一个王国斯威士兰的最大城市的信息来源于谁\"\n",
       " \"受英国天体物理学家约瑟琳·贝尔·伯奈尔影响的人在哪里上班\"\n",
       " \"古埃及女王美麗奈茨的子女的前一任是谁\"\n",
       " \"加拿大安大略省的一个政党安大略進步保守黨持有席位的议会所属的党派是什么\"\n",
       " \"加拿大第23任总理；皮埃尔·特鲁多的长子賈斯汀·杜魯多的父母的父母是谁\"\n",
       " \"英国多塞特的一个城镇和平民教区比明斯特的郡东部是什么地方\"\n",
       " \"美国职业篮球队休斯敦火箭的教练是谁的上一任\"\n",
       " \"英国牛津郡白马谷的一个集镇和平民教区旺塔奇的郡西部是什么地方\"\n",
       " \"荷兰的一个省弗莱福兰省的最大城市的电话号码是哪个国家的\"\n",
       " \"古埃及帝国和迦南叛军之间的一场战斗米吉多战役的将领的爸爸是谁\"\n",
       " \"美国传教士羅啻的国籍所属的区域西北部是什么地方\"\n",
       " \"罗马皇后加拉·普拉西提阿的后裔是哪个帝国的朝代\"\n",
       " ⋮\n",
       " \"澳大利亚维多利亚州的一座城市謝珀頓的郡东南边的地方叫什么\"\n",
       " \"乌兹别克斯坦足球运动员法浩特·塔德吉耶夫的国家队的位置属于哪个区划\"\n",
       " \"英格兰林肯郡的一个集镇和平民教区斯利福德的郡西南边的地方叫什么\"\n",
       " \"西班牙的国家公园卡夫雷拉島國家公園的所属群岛的邮政编码类型是什么\"\n",
       " \"谁是捷克足球运动员伊万·哈谢克的出生国家的皇帝\"\n",
       " \"日本王子（1902-1953）秩父宮雍仁親王的父亲的信仰宗教是什么\"\n",
       " \"阿尔巴尼亚足球运动员鲁迪·瓦塔的国家队的举办地被谁租用\"\n",
       " \"新罗女王善德女王的父亲的配偶是哪位\"\n",
       " \"法国国王（1544-1560）弗朗索瓦二世 (法兰西)的母亲的后裔的上一代是什么\"\n",
       " \"越南统治者阮福淍的父亲的下一任是谁\"\n",
       " \"罗马帝国的皇后，君士坦丁大帝的母亲（250-330）聖海倫納的后裔属于哪个帝国\"\n",
       " \"丹麦独立视频游戏开发商和出版商Playdead所在国家有什么代表\""
      ]
     },
     "execution_count": 35,
     "metadata": {},
     "output_type": "execute_result"
    }
   ],
   "source": [
    "fails"
   ]
  },
  {
   "cell_type": "code",
   "execution_count": 26,
   "id": "5cf37b8a-f9ac-486d-a86c-71d15b3030bc",
   "metadata": {},
   "outputs": [
    {
     "data": {
      "text/plain": [
       "0.9364921503161185"
      ]
     },
     "execution_count": 26,
     "metadata": {},
     "output_type": "execute_result"
    }
   ],
   "source": [
    "# fails 放在 multi_sols.txt\n",
    "# 可行策略是取多个匹配中字符长度最大的一个\n",
    "\n",
    "# 训练集准确率\n",
    "13183/14077"
   ]
  },
  {
   "cell_type": "markdown",
   "id": "d5d5d8cd-bacf-4383-b2f0-5131736335b4",
   "metadata": {},
   "source": [
    "注记：\n",
    "   - 加上多匹配 299 个问题，比率还能再提高\n",
    "   - 加上错位的问题，比率还有进一步提升"
   ]
  },
  {
   "cell_type": "code",
   "execution_count": 23,
   "id": "7a742721-6254-4622-a230-6488820a1eb9",
   "metadata": {
    "collapsed": true,
    "jupyter": {
     "outputs_hidden": true
    },
    "tags": []
   },
   "outputs": [
    {
     "data": {
      "text/plain": [
       "1500-element Vector{String}:\n",
       " \"where is the constituency of the one who is alongside Felix Chung, a hong kong politician, from?\"\n",
       " \"who is the successor of the parent of Francis Russell, Marquess of Tavistock, an irish politician?\"\n",
       " \"who is the leader of the administrative region to which 热那亚总督 belongs?\"\n",
       " \"who preceded the parent of 富兰克林·德拉诺·罗斯福三世, an american economist?\"\n",
       " \"which draft team does the author of The Way It's Goin' Down, a 1998 single by shaquille o'neal, dj quik, lord tariq and peter gunz, belong to?\"\n",
       " \"who is before the parent of 贾瓦哈拉尔·尼赫鲁, an indian lawyer, statesman, and writer, first prime minister of india (1889-1964)?\"\n",
       " \"where does the location province of Khuut coal mine, a mine in mongolia, belong to?\"\n",
       " \"who does the origin of A's nameryabhata (crater) influence?\"\n",
       " \"what is the genre of the author of They All Went to Mexico, a song performed by carlos santana?\"\n",
       " \"which title does the parent of 富兰克林·德拉诺·罗斯福三世, an american economist, belong to?\"\n",
       " \"what is the parent moutain of the client of Ira Goldstein?\"\n",
       " \"who did a job before the parent of Francis Russell, Marquess of Tavistock?\"\n",
       " \"what is the type of the people, things and things with the same name as USS Mauna Kea (AE-22)?\"\n",
       " ⋮\n",
       " \"Savez-vous quel fuseau horaire est à Le sud de Vall-llobrega, un village in the province of girona and autonomous community of catalonia, spain?\"\n",
       " \"À quel parti appartient Le nom du navire de USCGC Dallas (WHEC-716)\"\n",
       " \"Savez-vous quel est le type de zonage à L’emplacement de L'équipe nationale de 拉格納·克拉萬, an estonian association football player?\"\n",
       " \"Savez-vous où se trouve la ville de L’emplacement de Lieu de naissance de Junior Paulo (rugby league, born 1993)\"\n",
       " \"Quel est le niveau de gestion à L’ouest de L’emplacement de List of National Cultural Treasures in the Philippines, un article de la liste wikimedia?\"\n",
       " \"Qui sont les personnes affectées par éponyme de Protagoras (crater)\"\n",
       " \"Quel est le nom de la division administrative de Le sud-est de Site de 2014–15 Gonzaga Bulldogs women's basketball team\"\n",
       " \"Savez-vous quel est le nom de la circonscription administrative de Le nord-ouest de Site de 2015–16 Utah State Aggies men's basketball team, une saison de basket-ball universitaire américain?\"\n",
       " \"Qui est le prédécesseurs de Le chef de Dokumacılar\"\n",
       " \"Quel est le niveau de gestion à Capital de Pays auquel appartiennent de Trujillo State Anthem\"\n",
       " \"Quel est le niveau de gestion à L’ouest de Légende de la photo de Tanaecia, un genus of insects?\"\n",
       " \"Quel est le niveau de gestion à Le nord-ouest de Site de 2011–12 UCLA Bruins men's basketball team\""
      ]
     },
     "execution_count": 23,
     "metadata": {},
     "output_type": "execute_result"
    }
   ],
   "source": [
    "# 测试集结果\n",
    "txts = read(open(\"valid_data.txt\", \"r\"), String)\n",
    "ques = String[rstrip(last(split(txt, '\\t'))) for txt in split(rstrip(txts), '\\n')]"
   ]
  },
  {
   "cell_type": "code",
   "execution_count": 24,
   "id": "b3251efe-15ab-4c61-8aa5-443685b03b9a",
   "metadata": {},
   "outputs": [],
   "source": [
    "valids, fails = Tuple{String, String}[], String[]\n",
    "for que in ques\n",
    "    subs = get_subject(que)\n",
    "    length(subs) == 1 ? push!(valids, (que, first(subs))) : push!(fails, que)\n",
    "end"
   ]
  },
  {
   "cell_type": "code",
   "execution_count": 25,
   "id": "0a112d91-3b6f-4389-a0ed-ffea8d39b81e",
   "metadata": {},
   "outputs": [
    {
     "name": "stdout",
     "output_type": "stream",
     "text": [
      "1463\n"
     ]
    },
    {
     "data": {
      "text/plain": [
       "0.9753333333333334"
      ]
     },
     "execution_count": 25,
     "metadata": {},
     "output_type": "execute_result"
    }
   ],
   "source": [
    "# 存在唯一匹配的数目\n",
    "println(length(valids))\n",
    "length(valids)/1500"
   ]
  },
  {
   "cell_type": "code",
   "execution_count": null,
   "id": "bef840d9-1ff5-4561-93de-d50d8a8762ce",
   "metadata": {},
   "outputs": [],
   "source": []
  }
 ],
 "metadata": {
  "kernelspec": {
   "display_name": "Julia 1.6.3",
   "language": "julia",
   "name": "julia-1.6"
  },
  "language_info": {
   "file_extension": ".jl",
   "mimetype": "application/julia",
   "name": "julia",
   "version": "1.6.3"
  }
 },
 "nbformat": 4,
 "nbformat_minor": 5
}
