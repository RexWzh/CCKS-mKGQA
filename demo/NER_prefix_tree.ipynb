{
 "cells": [
  {
   "cell_type": "markdown",
   "id": "51c57232-2dc1-4b55-a0cd-a2087820ba50",
   "metadata": {},
   "source": [
    "## 字典树提取命名实体"
   ]
  },
  {
   "cell_type": "markdown",
   "id": "c051d32f-b5f3-4055-bf1e-053ea67097d6",
   "metadata": {
    "tags": []
   },
   "source": [
    "### 定义工具"
   ]
  },
  {
   "cell_type": "code",
   "execution_count": 57,
   "id": "8f822b56-504f-4fe9-992d-a27505448d6a",
   "metadata": {},
   "outputs": [
    {
     "name": "stdout",
     "output_type": "stream",
     "text": [
      "导入成功，内容概要：\n",
      "    | 变量名 | 说明 |\n",
      "    | ---- | ---- |\n",
      "    | zh_triples/en_triples | 三元组 |\n",
      "    | zh_subs/en_subs | 头实体 |\n",
      "    | zh_objs/en_objs | 尾实体 |\n",
      "    | zh_rels/en_rels | 关系 |\n",
      "    | zh_entity/en_entity | 实体（头和尾） |\n",
      "    | ILLs | 英文 => 中文对齐 |\n",
      "    | ILLs_zh_en | 中文 => 英文对齐|\n",
      "    | train_data | 训练集 |\n",
      "    | MT_en/zh(_rev) | 三元组翻译 |\n"
     ]
    }
   ],
   "source": [
    "include(\"../src/readfiles.jl\")\n",
    "# include(\"../src/rectify.jl\")\n",
    "# include(\"../src/prefixtree.jl\")\n",
    "# include(\"../src/xlsx.jl\")"
   ]
  },
  {
   "cell_type": "markdown",
   "id": "044bbb91-c641-4313-9ea2-2a797c6ba0e9",
   "metadata": {
    "tags": []
   },
   "source": [
    "### 初始化字典树"
   ]
  },
  {
   "cell_type": "code",
   "execution_count": 58,
   "id": "bf28d267-8bed-4521-8703-81fa42b3dc1c",
   "metadata": {
    "tags": []
   },
   "outputs": [],
   "source": [
    "# 字典数据\n",
    "en_words = unique!(vcat(en_subs, collect(keys(ILLs))))\n",
    "en_words = [replace(word, '_'=>' ') for word in en_words]\n",
    "zh_words = unique!(vcat(zh_subs, collect(values(ILLs))))\n",
    "zh_words = [replace(word, '_'=>' ') for word in zh_words]\n",
    "words = unique!(vcat(en_words, zh_words))\n",
    "words = [replace(word, '_'=>' ') for word in words]\n",
    "\n",
    "# 生成字典树\n",
    "dict, dict_en, dict_zh = PrefixTree(), PrefixTree(), PrefixTree()\n",
    "for word in words\n",
    "    add_node!(dict, word)\n",
    "end\n",
    "for word in en_words\n",
    "    add_node!(dict_en, word)\n",
    "end\n",
    "for word in zh_words\n",
    "    add_node!(dict_zh, word)\n",
    "end"
   ]
  },
  {
   "cell_type": "markdown",
   "id": "99e7bb84-ec32-437d-b98f-ca7ce2fb1efc",
   "metadata": {
    "tags": []
   },
   "source": [
    "### 抽取命名实体"
   ]
  },
  {
   "cell_type": "code",
   "execution_count": 59,
   "id": "9051f3e3-a973-4e57-b7c6-c9be2bb1d7b5",
   "metadata": {},
   "outputs": [
    {
     "data": {
      "text/plain": [
       "get_subject (generic function with 1 method)"
      ]
     },
     "execution_count": 59,
     "metadata": {},
     "output_type": "execute_result"
    }
   ],
   "source": [
    "# NER 的主要函数\n",
    "# 抽取实体仅出现在头实体上\n",
    "# 很可能是单向的，下一步 check 利于简化关系抽取\n",
    "function get_subject(que)\n",
    "    # 从所有头实体以及 ILLs 中匹配\n",
    "    subs = remove_subcase(search_valid_word(dict, que))\n",
    "    length(subs) == 1 && return subs\n",
    "    # 剩下的大部分是中文问题，带英文关键字\n",
    "    # 从英文实体以及 ILLs 英文实体中匹配\n",
    "    subs = remove_subcase(search_valid_word(dict_en, que))\n",
    "    length(subs) == 1 && return subs\n",
    "    # 从中文实体以及 ILLs 中文实体中匹配\n",
    "    subs = remove_subcase(search_valid_word(dict_zh, que))\n",
    "    length(subs) == 1 && return subs\n",
    "    return remove_subcase(search_valid_word(dict, que))\n",
    "end\n",
    "# 实体带有空格，用字典树进行处理，复杂度 O(实体长度*问题长度)"
   ]
  },
  {
   "cell_type": "markdown",
   "id": "c7caea17-059f-4a13-b215-f6174faa4cf4",
   "metadata": {
    "tags": []
   },
   "source": [
    "#### 训练集"
   ]
  },
  {
   "cell_type": "code",
   "execution_count": 60,
   "id": "a4a54bcd-6578-4ba8-bb7b-216951dd46d3",
   "metadata": {
    "collapsed": true,
    "jupyter": {
     "outputs_hidden": true
    },
    "tags": []
   },
   "outputs": [
    {
     "ename": "LoadError",
     "evalue": "BoundsError: attempt to access 1-element Vector{SubString{String}} at index [2]",
     "output_type": "error",
     "traceback": [
      "BoundsError: attempt to access 1-element Vector{SubString{String}} at index [2]",
      "",
      "Stacktrace:",
      " [1] getindex",
      "   @ ./array.jl:861 [inlined]",
      " [2] indexed_iterate",
      "   @ ./tuple.jl:90 [inlined]",
      " [3] Dict{String, String}(kv::Base.Generator{Vector{SubString{String}}, var\"#181#182\"})",
      "   @ Base ./dict.jl:103",
      " [4] top-level scope",
      "   @ In[60]:3",
      " [5] eval",
      "   @ ./boot.jl:373 [inlined]",
      " [6] include_string(mapexpr::typeof(REPL.softscope), mod::Module, code::String, filename::String)",
      "   @ Base ./loading.jl:1196"
     ]
    }
   ],
   "source": [
    "# 测试数据\n",
    "txts = rstrip(read(open(\"NER_data/valid_ques.txt\", \"r\"), String))\n",
    "que_and_sub = Dict{String,String}(split(txt, '\\t') for txt in split(txts,'\\n'))\n",
    "for (que, sub) in que_and_sub\n",
    "    que_and_sub[que] = replace(sub, '_'=>' ')\n",
    "end"
   ]
  },
  {
   "cell_type": "code",
   "execution_count": 33,
   "id": "6f04944f-7c51-45cc-bb39-8147bb8422d1",
   "metadata": {},
   "outputs": [
    {
     "name": "stdout",
     "output_type": "stream",
     "text": [
      "13187\n"
     ]
    },
    {
     "data": {
      "text/plain": [
       "13185"
      ]
     },
     "execution_count": 33,
     "metadata": {},
     "output_type": "execute_result"
    }
   ],
   "source": [
    "# 在训练集上测试，valids 为存在唯一解的情况，fails 为多解情况\n",
    "valids, fails = Tuple{String, String}[], String[]\n",
    "for (que, _) in que_and_sub\n",
    "    subs = get_subject(que)\n",
    "    length(subs) == 1 ? push!(valids, (que, first(subs))) : push!(fails, que)\n",
    "end\n",
    "println(length(valids))\n",
    "count(que_and_sub[que] == sub for (que, sub) in valids)"
   ]
  },
  {
   "cell_type": "code",
   "execution_count": 7,
   "id": "38b6e215-7701-47fb-9c3d-48ab6eb14347",
   "metadata": {},
   "outputs": [
    {
     "name": "stdout",
     "output_type": "stream",
     "text": [
      "Quel est le fabricant de Choses liées aux Microsoft Lumia 950 XL, un smartphone mobile Windows 10 développé par Microsoft?\n",
      "黑莓有限公司推出的基于android的slider智能手机BlackBerry Priv的相关产品（作品）属于什么类型\n"
     ]
    }
   ],
   "source": [
    "# 检验唯一解情况的提取结果是否正确 \n",
    "# 只有两个错误\n",
    "for (que, sub) in valids\n",
    "    que_and_sub[que] == sub || println(que)\n",
    "end"
   ]
  },
  {
   "cell_type": "code",
   "execution_count": 18,
   "id": "74ae41aa-b6e6-47b3-bdc7-702848789007",
   "metadata": {},
   "outputs": [
    {
     "name": "stdout",
     "output_type": "stream",
     "text": [
      "Microsoft Lumia 950 XL\n"
     ]
    },
    {
     "data": {
      "text/plain": [
       "2-element Vector{String}:\n",
       " \"Windows 10\"\n",
       " \"Microsoft Lumia 950 XL\""
      ]
     },
     "execution_count": 18,
     "metadata": {},
     "output_type": "execute_result"
    }
   ],
   "source": [
    "que1 = \"Quel est le fabricant de Choses liées aux Microsoft Lumia 950 XL, un smartphone mobile Windows 10 développé par Microsoft?\"\n",
    "println(que_and_sub[que1])\n",
    "remove_subcase(search_valid_word(dict, que1))"
   ]
  },
  {
   "cell_type": "code",
   "execution_count": 20,
   "id": "291f9d9f-35cf-43e0-bb02-d592c42972c1",
   "metadata": {},
   "outputs": [
    {
     "data": {
      "text/plain": [
       "2-element Vector{String}:\n",
       " \"智能手机\"\n",
       " \"BlackBerry Priv\""
      ]
     },
     "execution_count": 20,
     "metadata": {},
     "output_type": "execute_result"
    }
   ],
   "source": [
    "que2 = \"黑莓有限公司推出的基于android的slider智能手机BlackBerry Priv的相关产品（作品）属于什么类型\"\n",
    "remove_subcase(search_valid_word(dict_zh, que2))\n",
    "# triple_zh: BlackBerry_Priv\trelated\tBlackBerry_Classic"
   ]
  },
  {
   "cell_type": "code",
   "execution_count": 12,
   "id": "0027e801-51a8-47de-a7c2-214733ae8cf6",
   "metadata": {},
   "outputs": [
    {
     "data": {
      "text/plain": [
       "2-element Vector{String}:\n",
       " \"加拿大\"\n",
       " \"安大略進步保守黨\""
      ]
     },
     "execution_count": 12,
     "metadata": {},
     "output_type": "execute_result"
    }
   ],
   "source": [
    "get_subject(\"加拿大安大略省的一个政党安大略進步保守黨持有席位的议会所属的党派是什么\")"
   ]
  },
  {
   "cell_type": "code",
   "execution_count": 35,
   "id": "05530f58-4ad7-4502-85f3-03be8f24eb20",
   "metadata": {
    "collapsed": true,
    "jupyter": {
     "outputs_hidden": true
    },
    "tags": []
   },
   "outputs": [
    {
     "data": {
      "text/plain": [
       "299-element Vector{String}:\n",
       " \"日本皇室附属分支的成员華頂博信的父亲的出生地是哪里\"\n",
       " \"非洲南部的一个王国斯威士兰的最大城市的信息来源于谁\"\n",
       " \"受英国天体物理学家约瑟琳·贝尔·伯奈尔影响的人在哪里上班\"\n",
       " \"古埃及女王美麗奈茨的子女的前一任是谁\"\n",
       " \"加拿大安大略省的一个政党安大略進步保守黨持有席位的议会所属的党派是什么\"\n",
       " \"加拿大第23任总理；皮埃尔·特鲁多的长子賈斯汀·杜魯多的父母的父母是谁\"\n",
       " \"英国多塞特的一个城镇和平民教区比明斯特的郡东部是什么地方\"\n",
       " \"美国职业篮球队休斯敦火箭的教练是谁的上一任\"\n",
       " \"英国牛津郡白马谷的一个集镇和平民教区旺塔奇的郡西部是什么地方\"\n",
       " \"荷兰的一个省弗莱福兰省的最大城市的电话号码是哪个国家的\"\n",
       " \"古埃及帝国和迦南叛军之间的一场战斗米吉多战役的将领的爸爸是谁\"\n",
       " \"美国传教士羅啻的国籍所属的区域西北部是什么地方\"\n",
       " \"罗马皇后加拉·普拉西提阿的后裔是哪个帝国的朝代\"\n",
       " ⋮\n",
       " \"澳大利亚维多利亚州的一座城市謝珀頓的郡东南边的地方叫什么\"\n",
       " \"乌兹别克斯坦足球运动员法浩特·塔德吉耶夫的国家队的位置属于哪个区划\"\n",
       " \"英格兰林肯郡的一个集镇和平民教区斯利福德的郡西南边的地方叫什么\"\n",
       " \"西班牙的国家公园卡夫雷拉島國家公園的所属群岛的邮政编码类型是什么\"\n",
       " \"谁是捷克足球运动员伊万·哈谢克的出生国家的皇帝\"\n",
       " \"日本王子（1902-1953）秩父宮雍仁親王的父亲的信仰宗教是什么\"\n",
       " \"阿尔巴尼亚足球运动员鲁迪·瓦塔的国家队的举办地被谁租用\"\n",
       " \"新罗女王善德女王的父亲的配偶是哪位\"\n",
       " \"法国国王（1544-1560）弗朗索瓦二世 (法兰西)的母亲的后裔的上一代是什么\"\n",
       " \"越南统治者阮福淍的父亲的下一任是谁\"\n",
       " \"罗马帝国的皇后，君士坦丁大帝的母亲（250-330）聖海倫納的后裔属于哪个帝国\"\n",
       " \"丹麦独立视频游戏开发商和出版商Playdead所在国家有什么代表\""
      ]
     },
     "execution_count": 35,
     "metadata": {},
     "output_type": "execute_result"
    }
   ],
   "source": [
    "fails"
   ]
  },
  {
   "cell_type": "code",
   "execution_count": 26,
   "id": "5cf37b8a-f9ac-486d-a86c-71d15b3030bc",
   "metadata": {},
   "outputs": [
    {
     "data": {
      "text/plain": [
       "0.9364921503161185"
      ]
     },
     "execution_count": 26,
     "metadata": {},
     "output_type": "execute_result"
    }
   ],
   "source": [
    "# fails 放在 multi_sols.txt\n",
    "# 可行策略是取多个匹配中字符长度最大的一个\n",
    "\n",
    "# 训练集准确率\n",
    "13183/14077"
   ]
  },
  {
   "cell_type": "markdown",
   "id": "d5d5d8cd-bacf-4383-b2f0-5131736335b4",
   "metadata": {},
   "source": [
    "注记：\n",
    "   - 加上多匹配 299 个问题，比率还能再提高\n",
    "   - 加上错位的问题，比率还有进一步提升"
   ]
  },
  {
   "cell_type": "markdown",
   "id": "4c8849fe-26ea-4bbd-a5aa-b8e829f136dc",
   "metadata": {},
   "source": [
    "#### 测试集"
   ]
  },
  {
   "cell_type": "code",
   "execution_count": 2,
   "id": "7a742721-6254-4622-a230-6488820a1eb9",
   "metadata": {
    "collapsed": true,
    "jupyter": {
     "outputs_hidden": true
    },
    "tags": []
   },
   "outputs": [
    {
     "data": {
      "text/plain": [
       "1500-element Vector{String}:\n",
       " \"where is the constituency of th\" ⋯ 34 bytes ⋯ \", a hong kong politician, from?\"\n",
       " \"who is the successor of the par\" ⋯ 36 bytes ⋯ \"Tavistock, an irish politician?\"\n",
       " \"who is the leader of the administrative region to which 热那亚总督 belongs?\"\n",
       " \"who preceded the parent of 富兰克林·德拉诺·罗斯福三世, an american economist?\"\n",
       " \"which draft team does the autho\" ⋯ 80 bytes ⋯ \"ariq and peter gunz, belong to?\"\n",
       " \"who is before the parent of 贾瓦哈\" ⋯ 71 bytes ⋯ \" minister of india (1889-1964)?\"\n",
       " \"where does the location provinc\" ⋯ 21 bytes ⋯ \" a mine in mongolia, belong to?\"\n",
       " \"who does the origin of Aryabhata (crater) influence's name?\"\n",
       " \"what is the genre of the author\" ⋯ 33 bytes ⋯ \"ng performed by carlos santana?\"\n",
       " \"which title does the parent of \" ⋯ 44 bytes ⋯ \" american economist, belong to?\"\n",
       " \"what is the parent moutain of the client of Ira Goldstein?\"\n",
       " \"who did a job before the parent of Francis Russell, Marquess of Tavistock?\"\n",
       " \"what is the type of the people,\" ⋯ 32 bytes ⋯ \" name as USS Mauna Kea (AE-22)?\"\n",
       " ⋮\n",
       " \"Savez-vous quel fuseau horaire \" ⋯ 83 bytes ⋯ \" community of catalonia, spain?\"\n",
       " \"À quel parti appartient Le nom du navire de USCGC Dallas (WHEC-716)\"\n",
       " \"Savez-vous quel est le type de \" ⋯ 83 bytes ⋯ \"an association football player?\"\n",
       " \"Savez-vous où se trouve la vill\" ⋯ 52 bytes ⋯ \"Paulo (rugby league, born 1993)\"\n",
       " \"Quel est le niveau de gestion à\" ⋯ 91 bytes ⋯ \" article de la liste wikimedia?\"\n",
       " \"Qui sont les personnes affectées par éponyme de Protagoras (crater)\"\n",
       " \"Quel est le nom de la division \" ⋯ 59 bytes ⋯ \"ulldogs women's basketball team\"\n",
       " \"Savez-vous quel est le nom de l\" ⋯ 132 bytes ⋯ \"-ball universitaire américain?\"\n",
       " \"Qui est le prédécesseurs de Le chef de Dokumacılar\"\n",
       " \"Quel est le niveau de gestion à\" ⋯ 31 bytes ⋯ \"ennent de Trujillo State Anthem\"\n",
       " \"Quel est le niveau de gestion à\" ⋯ 37 bytes ⋯ \" Tanaecia, un genus of insects?\"\n",
       " \"Quel est le niveau de gestion à\" ⋯ 38 bytes ⋯ \"LA Bruins men's basketball team\""
      ]
     },
     "execution_count": 2,
     "metadata": {},
     "output_type": "execute_result"
    }
   ],
   "source": [
    "# 测试集结果\n",
    "txts = rstrip(read(open(\"../data/valid_data.txt\", \"r\"), String))\n",
    "ques = String[strip(last(split(txt, '\\t'))) for txt in split(txts, '\\n')]\n",
    "ques = rectify_que.(ques)"
   ]
  },
  {
   "cell_type": "code",
   "execution_count": 12,
   "id": "3fbc019d-d078-47e5-b2e6-fd2a915c9472",
   "metadata": {},
   "outputs": [
    {
     "data": {
      "text/html": [
       "# 1 method for generic function <b>rectify_que</b>:<ul><li> rectify_que(que::<b>AbstractString</b>) in Main at <a href=\"file:///home/rex/work_space/7 others/ccks/CCKS-mKGQA/src/rectify.jl\" target=\"_blank\">/home/rex/work_space/7 others/ccks/CCKS-mKGQA/src/rectify.jl:18</a></li> </ul>"
      ],
      "text/plain": [
       "# 1 method for generic function \"rectify_que\":\n",
       "[1] rectify_que(que::AbstractString) in Main at /home/rex/work_space/7 others/ccks/CCKS-mKGQA/src/rectify.jl:18"
      ]
     },
     "execution_count": 12,
     "metadata": {},
     "output_type": "execute_result"
    }
   ],
   "source": [
    "methods(rectify_que)"
   ]
  },
  {
   "cell_type": "code",
   "execution_count": 13,
   "id": "b3251efe-15ab-4c61-8aa5-443685b03b9a",
   "metadata": {},
   "outputs": [
    {
     "data": {
      "text/plain": [
       "4-element Vector{String}:\n",
       " \"who is the father of G-related event related personsurjara-Pratihara?\"\n",
       " \"which national team does S's coacheattle Sounders FC 2 belong to?\"\n",
       " \"what is the club that S's head coacheattle Sounders FC 2 belongs to?\"\n",
       " \"which sport does 2's coach014–15 SC Freiburg season play?\""
      ]
     },
     "execution_count": 13,
     "metadata": {},
     "output_type": "execute_result"
    }
   ],
   "source": [
    "# 统计\n",
    "valids, fails = Tuple{String, String}[], String[]\n",
    "for que in ques\n",
    "    subs = get_subject(que)\n",
    "    length(subs) == 1 ? push!(valids, (que, first(subs))) : push!(fails, que)\n",
    "end\n",
    "filter(i->isempty(get_subject(i)), fails)"
   ]
  },
  {
   "cell_type": "markdown",
   "id": "7e95ff66-e65b-4acc-9d8a-b0a8ff735afe",
   "metadata": {},
   "source": [
    "#### 机器翻译"
   ]
  },
  {
   "cell_type": "code",
   "execution_count": 20,
   "id": "bef840d9-1ff5-4561-93de-d50d8a8762ce",
   "metadata": {},
   "outputs": [
    {
     "data": {
      "text/plain": [
       "4-element Vector{String}:\n",
       " \"who is the father of G-related event related personsurjara-Pratihara?\"\n",
       " \"which national team does S's coacheattle Sounders FC 2 belong to?\"\n",
       " \"what is the club that S's head coacheattle Sounders FC 2 belongs to?\"\n",
       " \"which sport does 2's coach014–15 SC Freiburg season play?\""
      ]
     },
     "execution_count": 20,
     "metadata": {},
     "output_type": "execute_result"
    }
   ],
   "source": [
    "valids, fails = Tuple{String, String}[], String[]\n",
    "for que in ques\n",
    "    subs = get_subject(que)\n",
    "    !isempty(subs) ? push!(valids, (que, argmax(length, subs))) : push!(fails, que)\n",
    "end\n",
    "filter(i->isempty(get_subject(i)), fails)"
   ]
  },
  {
   "cell_type": "code",
   "execution_count": 27,
   "id": "860be0ad-07fd-4d4f-beef-d8826f529f19",
   "metadata": {
    "collapsed": true,
    "jupyter": {
     "outputs_hidden": true
    },
    "tags": []
   },
   "outputs": [
    {
     "data": {
      "text/plain": [
       "501-element Vector{String}:\n",
       " \"whose ancestor is the father of\" ⋯ 29 bytes ⋯ \"o dynasty of korea (955-981),？?\"\n",
       " \"美国犹他州达吉特县的一个城镇NER南部的地点西南部的地点属于哪个区划\"\n",
       " \"和NER名称一样的人或事物属于什么类型\"\n",
       " \"与NER有相同名称的人、事、物对谁产生了影响\"\n",
       " \"NER的所在城市南部的地点的区划是什么\"\n",
       " \"NER的所在城市西北部的地点的所属区域是什么\"\n",
       " \"NER的选举获胜者的继任者是哪位\"\n",
       " \"NER的位置北部的地点的区划是什么\"\n",
       " \"NER的头衔的首任是谁的上一任\"\n",
       " \"NER的头衔的第一人在什么地方出生的\"\n",
       " \"美国犹他州顶峰县的一个城镇NER西南部的地点北部的地点的所属区域是什么\"\n",
       " \"NER的所在省份北部的地点所属的国家区域是哪里\"\n",
       " \"NER，1991年版的国际足联女足世界杯，its的举办地东北部的地点领导人的头衔是什么\"\n",
       " ⋮\n",
       " \"NER的总部地址南部的地点的所属区域是什么\"\n",
       " \"足球队的一个赛季NER的位置的上一代领导人的头衔有哪些\"\n",
       " \"NER的所属地点的行政中心的领导人叫什么\"\n",
       " \"美国犹他州桑皮特县的一个城镇NER南部的地点东部的地点的时区是什么\"\n",
       " \"1854年至1859年帕尔马和皮亚琴察的公爵NER的后裔的最后任有哪些后代\"\n",
       " \"NER的举办地南部的地点属于哪个时区\"\n",
       " \"美国犹他州米勒德县的一个城镇NER东南部的地点北部的地点属于哪个时区\"\n",
       " \"NER，一项体育赛事，其所在城市西部的城市是哪个区的\"\n",
       " \"NER的头衔的第一人的君王是谁\"\n",
       " \"NER北部的地点西部的地点属于哪个时区\"\n",
       " \"NER的举办地西部的地点的省会是哪里\"\n",
       " \"NER的举办地的继任者的上一代是什么\""
      ]
     },
     "execution_count": 27,
     "metadata": {},
     "output_type": "execute_result"
    }
   ],
   "source": [
    "valids_ner = [replace(que, sub => \"NER\") for (que, sub) in valids]\n",
    "french_ques = filter(isfrench, valids_ner)\n",
    "chinese_ques = filter(!isfrench, valids_ner)"
   ]
  },
  {
   "cell_type": "code",
   "execution_count": 33,
   "id": "cac89730-0376-4eaf-a70b-1af046285ce2",
   "metadata": {
    "collapsed": true,
    "jupyter": {
     "outputs_hidden": true
    },
    "tags": []
   },
   "outputs": [
    {
     "data": {
      "text/plain": [
       "995×1 Matrix{String}:\n",
       " \"where is the constituency of th\" ⋯ 26 bytes ⋯ \", a hong kong politician, from?\"\n",
       " \"who is the successor of the parent of NER, an irish politician?\"\n",
       " \"who is the leader of the administrative region to which NER belongs?\"\n",
       " \"who preceded the parent of NER, an american economist?\"\n",
       " \"which draft team does the autho\" ⋯ 60 bytes ⋯ \"ariq and peter gunz, belong to?\"\n",
       " \"who is before the parent of NER\" ⋯ 54 bytes ⋯ \" minister of india (1889-1964)?\"\n",
       " \"where does the location province of NER, a mine in mongolia, belong to?\"\n",
       " \"who does the origin of NER influence's name?\"\n",
       " \"what is the genre of the author of NER, a song performed by carlos santana?\"\n",
       " \"which title does the parent of NER, an american economist, belong to?\"\n",
       " \"what is the parent moutain of the client of NER?\"\n",
       " \"who did a job before the parent of NER?\"\n",
       " \"what is the type of the people, things and things with the same name as NER?\"\n",
       " ⋮\n",
       " \"Savez-vous quel fuseau horaire \" ⋯ 73 bytes ⋯ \" community of catalonia, spain?\"\n",
       " \"À quel parti appartient Le nom du navire de NER\"\n",
       " \"Savez-vous quel est le type de \" ⋯ 66 bytes ⋯ \"an association football player?\"\n",
       " \"Savez-vous où se trouve la ville de L’emplacement de Lieu de naissance de NER\"\n",
       " \"Quel est le niveau de gestion à\" ⋯ 40 bytes ⋯ \" article de la liste wikimedia?\"\n",
       " \"Qui sont les personnes affectées par éponyme de NER\"\n",
       " \"Quel est le nom de la division administrative de Le sud-est de Site de NER\"\n",
       " \"Savez-vous quel est le nom de l\" ⋯ 85 bytes ⋯ \"t-ball universitaire américain?\"\n",
       " \"Qui est le prédécesseurs de Le chef de NER\"\n",
       " \"Quel est le niveau de gestion à Capital de Pays auquel appartiennent de NER\"\n",
       " \"Quel est le niveau de gestion à\" ⋯ 32 bytes ⋯ \"to de NER, un genus of insects?\"\n",
       " \"Quel est le niveau de gestion à Le nord-ouest de Site de NER\""
      ]
     },
     "execution_count": 33,
     "metadata": {},
     "output_type": "execute_result"
    }
   ],
   "source": [
    "save_xlsx(\"../data/translate/french_valid.xlsx\", french_ques)"
   ]
  },
  {
   "cell_type": "code",
   "execution_count": 34,
   "id": "0847a9e3-1ecb-4f28-bd1d-a5c6ecf8288c",
   "metadata": {
    "collapsed": true,
    "jupyter": {
     "outputs_hidden": true
    },
    "tags": []
   },
   "outputs": [
    {
     "data": {
      "text/plain": [
       "501×1 Matrix{String}:\n",
       " \"whose ancestor is the father of\" ⋯ 29 bytes ⋯ \"o dynasty of korea (955-981),？?\"\n",
       " \"美国犹他州达吉特县的一个城镇NER南部的地点西南部的地点属于哪个区划\"\n",
       " \"和NER名称一样的人或事物属于什么类型\"\n",
       " \"与NER有相同名称的人、事、物对谁产生了影响\"\n",
       " \"NER的所在城市南部的地点的区划是什么\"\n",
       " \"NER的所在城市西北部的地点的所属区域是什么\"\n",
       " \"NER的选举获胜者的继任者是哪位\"\n",
       " \"NER的位置北部的地点的区划是什么\"\n",
       " \"NER的头衔的首任是谁的上一任\"\n",
       " \"NER的头衔的第一人在什么地方出生的\"\n",
       " \"美国犹他州顶峰县的一个城镇NER西南部的地点北部的地点的所属区域是什么\"\n",
       " \"NER的所在省份北部的地点所属的国家区域是哪里\"\n",
       " \"NER，1991年版的国际足联女足世界杯，its的举办地东北部的地点领导人的头衔是什么\"\n",
       " ⋮\n",
       " \"NER的总部地址南部的地点的所属区域是什么\"\n",
       " \"足球队的一个赛季NER的位置的上一代领导人的头衔有哪些\"\n",
       " \"NER的所属地点的行政中心的领导人叫什么\"\n",
       " \"美国犹他州桑皮特县的一个城镇NER南部的地点东部的地点的时区是什么\"\n",
       " \"1854年至1859年帕尔马和皮亚琴察的公爵NER的后裔的最后任有哪些后代\"\n",
       " \"NER的举办地南部的地点属于哪个时区\"\n",
       " \"美国犹他州米勒德县的一个城镇NER东南部的地点北部的地点属于哪个时区\"\n",
       " \"NER，一项体育赛事，其所在城市西部的城市是哪个区的\"\n",
       " \"NER的头衔的第一人的君王是谁\"\n",
       " \"NER北部的地点西部的地点属于哪个时区\"\n",
       " \"NER的举办地西部的地点的省会是哪里\"\n",
       " \"NER的举办地的继任者的上一代是什么\""
      ]
     },
     "execution_count": 34,
     "metadata": {},
     "output_type": "execute_result"
    }
   ],
   "source": [
    "save_xlsx(\"../data/translate/chinese_valid.xlsx\", chinese_ques)"
   ]
  },
  {
   "cell_type": "code",
   "execution_count": 39,
   "id": "af549a43-9eed-4b39-921e-bbfb3b185c9d",
   "metadata": {},
   "outputs": [
    {
     "data": {
      "text/plain": [
       "lower (generic function with 1 method)"
      ]
     },
     "execution_count": 39,
     "metadata": {},
     "output_type": "execute_result"
    }
   ],
   "source": [
    "lower(st) = replace(st, \n",
    "    \"What \"=>\"what \", \n",
    "    \"Which \"=>\"which \", \n",
    "    \"Where \" => \"where \",\n",
    "    \"Do \" => \"do \",\n",
    "    \"In which \" => \"in which \",\n",
    "    \"Who \" => \"who \",\n",
    "    \"How \" => \"how \"\n",
    ")"
   ]
  },
  {
   "cell_type": "code",
   "execution_count": 40,
   "id": "20dd436a-8b6d-497d-905a-1d3a71dbd208",
   "metadata": {
    "collapsed": true,
    "jupyter": {
     "outputs_hidden": true
    },
    "tags": []
   },
   "outputs": [
    {
     "data": {
      "text/plain": [
       "995-element Vector{String}:\n",
       " \"where is the constituency of th\" ⋯ 26 bytes ⋯ \", a hong kong politician, from?\"\n",
       " \"who is the successor of the parent of NER, an Irish politician?\"\n",
       " \"who is the leader of the administrative region to which NER belongs?\"\n",
       " \"who preceded the parent of NER, an american economist?\"\n",
       " \"which draft team does the autho\" ⋯ 60 bytes ⋯ \"ariq and peter gunz, belong to?\"\n",
       " \"who is before the parent of NER\" ⋯ 54 bytes ⋯ \" minister of india (1889-1964)?\"\n",
       " \"where does the location province of NER, a mine in mongolia, belong to?\"\n",
       " \"who does the origin of NER influence's name?\"\n",
       " \"what is the genre of the author of NER, a song performed by carlos santana?\"\n",
       " \"which title does the parent of NER, an american economist, belong to?\"\n",
       " \"what is the parent mountain of the client of NER?\"\n",
       " \"who did a job before the parent of NER?\"\n",
       " \"what is the type of the people, things and things with the same name as NER?\"\n",
       " ⋮\n",
       " \"do you know what time zone is i\" ⋯ 66 bytes ⋯ \" community of catalonia, spain?\"\n",
       " \"To which party belongs The name of the ship of NER\"\n",
       " \"do you know what type of zoning\" ⋯ 51 bytes ⋯ \"an association football player?\"\n",
       " \"do you know where is the city of The location of Birthplace of NER\"\n",
       " \"what is the level of management\" ⋯ 25 bytes ⋯ \"n, a wikimedia listing article?\"\n",
       " \"who are the NER eponymous affected people\"\n",
       " \"what is the name of the administrative division of the Southeast of NER site\"\n",
       " \"do you know what is the name of\" ⋯ 66 bytes ⋯ \"ican college basketball season?\"\n",
       " \"who is the predecessors of The leader of NER\"\n",
       " \"what is the level of management at Country Capital to which NER belong\"\n",
       " \"what is the level of management\" ⋯ 21 bytes ⋯ \"to Caption, a genus of insects?\"\n",
       " \"what is the level of management at NER's North West Site\""
      ]
     },
     "execution_count": 40,
     "metadata": {},
     "output_type": "execute_result"
    }
   ],
   "source": [
    "chinese_en_ques = lower.(read_xlsx(\"../data/translate/MT_chinese_valid.xlsx\"))\n",
    "french_en_ques = lower.(read_xlsx(\"../data/translate/MT_french_valid.xlsx\"))"
   ]
  },
  {
   "cell_type": "code",
   "execution_count": 41,
   "id": "e353de45-5bcc-4f64-9fee-f7f32dd2e073",
   "metadata": {},
   "outputs": [],
   "source": [
    "open(\"../data/translate/valid.txt\", \"w\") do io\n",
    "    for que in vcat(chinese_en_ques, french_en_ques)\n",
    "        println(io, que)\n",
    "    end\n",
    "end"
   ]
  },
  {
   "cell_type": "code",
   "execution_count": 42,
   "id": "fbaed3de-dec5-44cc-9517-87a9ae14cde5",
   "metadata": {
    "collapsed": true,
    "jupyter": {
     "outputs_hidden": true
    },
    "tags": []
   },
   "outputs": [
    {
     "data": {
      "text/plain": [
       "1496-element Vector{String}:\n",
       " \"whose ancestor is the father of\" ⋯ 30 bytes ⋯ \" dynasty of korea (955-981),? ?\"\n",
       " \"A town in Dudgett County, Utah,\" ⋯ 75 bytes ⋯ \"west, which division belongs to\"\n",
       " \"what type of person or thing with the same name as NER\"\n",
       " \"who is affected by the person, thing, or thing with the same name as NER?\"\n",
       " \"what is the zoning of the locat\" ⋯ 19 bytes ⋯ \" the city where NER is located?\"\n",
       " \"what is the area of the locatio\" ⋯ 21 bytes ⋯ \" the city where NER is located?\"\n",
       " \"who is the successor of NER's election winner?\"\n",
       " \"what is the zoning of the location in the north of NER?\"\n",
       " \"who is the last of the title of NER?\"\n",
       " \"where was the first person with the title of NER born?\"\n",
       " \"A town in Pinnacle County, Utah\" ⋯ 62 bytes ⋯ \" and the location in the north?\"\n",
       " \"what is the country region of t\" ⋯ 39 bytes ⋯ \" province where NER is located?\"\n",
       " \"NER, the 1991 edition of the FI\" ⋯ 57 bytes ⋯ \"er in the northeast of its host\"\n",
       " ⋮\n",
       " \"do you know what time zone is i\" ⋯ 66 bytes ⋯ \" community of catalonia, spain?\"\n",
       " \"To which party belongs The name of the ship of NER\"\n",
       " \"do you know what type of zoning\" ⋯ 51 bytes ⋯ \"an association football player?\"\n",
       " \"do you know where is the city of The location of Birthplace of NER\"\n",
       " \"what is the level of management\" ⋯ 25 bytes ⋯ \"n, a wikimedia listing article?\"\n",
       " \"who are the NER eponymous affected people\"\n",
       " \"what is the name of the administrative division of the Southeast of NER site\"\n",
       " \"do you know what is the name of\" ⋯ 66 bytes ⋯ \"ican college basketball season?\"\n",
       " \"who is the predecessors of The leader of NER\"\n",
       " \"what is the level of management at Country Capital to which NER belong\"\n",
       " \"what is the level of management\" ⋯ 21 bytes ⋯ \"to Caption, a genus of insects?\"\n",
       " \"what is the level of management at NER's North West Site\""
      ]
     },
     "execution_count": 42,
     "metadata": {},
     "output_type": "execute_result"
    }
   ],
   "source": [
    "valid_ques = vcat(chinese_en_ques, french_en_ques)"
   ]
  },
  {
   "cell_type": "code",
   "execution_count": 47,
   "id": "f4162a3f-96f8-403e-8a3f-82d711f7d7c1",
   "metadata": {
    "collapsed": true,
    "jupyter": {
     "outputs_hidden": true
    },
    "tags": []
   },
   "outputs": [
    {
     "data": {
      "text/plain": [
       "13755-element Vector{String}:\n",
       " \"which dynasty does the legislature of NER's country belong to?\"\n",
       " \"what is the nationality of the leader of NER?\"\n",
       " \"what is the location of NER? what constituency is the location in the west?\"\n",
       " \"who is the president of NER's alma mater\"\n",
       " \"NER, a Chinese politician (1913-2010) who nominated his title\"\n",
       " \"awhat division does the archipelago of the city NER in Cuba belong to?\"\n",
       " \"who is the agent of the person in charge of NER?\"\n",
       " \"which party did the Japanese politician NER play belong to?\"\n",
       " \"which country system is used fo\" ⋯ 25 bytes ⋯ \"hed by the location of the NER?\"\n",
       " \"what is the predecessor of the previous generation of the descendants of NER\"\n",
       " \"where is the capital (or provin\" ⋯ 27 bytes ⋯ \"ies and regions affected by NER\"\n",
       " \"what is the governing body of the leaders of NER?\"\n",
       " \"what is the name of the ocean to the northeast of NER's largest city?\"\n",
       " ⋮\n",
       " \"which sport does the tenant of the location of NER play?\"\n",
       " \"who is the monarch of the one that is after election of NER?\"\n",
       " \"where does the successor of the deputy of NER belong to?\"\n",
       " \"do you know what is the level o\" ⋯ 41 bytes ⋯ \"municipality of Spain, is part?\"\n",
       " \"do you know who is the wife of The father of NER\"\n",
       " \"what is the predecessor of Parents of NER\"\n",
       " \"do you know what will be the ne\" ⋯ 26 bytes ⋯ \"vision series-related products?\"\n",
       " \"where is the alma mater of the eponym of NER?\"\n",
       " \"do you know who is the leader of The leader of NER\"\n",
       " \"do you know what timezone South\" ⋯ 41 bytes ⋯ \"ll tournament took place is in?\"\n",
       " \"do You Know Who's Head of the NER Location Publishing Event\"\n",
       " \"who is the responsible actor for NER\""
      ]
     },
     "execution_count": 47,
     "metadata": {},
     "output_type": "execute_result"
    }
   ],
   "source": [
    "txts = rstrip(read(open(\"../data/translate/train_data.txt\", \"r\"), String))\n",
    "ques = String[strip(first(split(txt, '\\t'))) for txt in split(txts, '\\n')]\n",
    "ques = rectify_que.(ques)"
   ]
  },
  {
   "cell_type": "code",
   "execution_count": 50,
   "id": "3fd5907a-70fd-4f5e-92fe-0f8a04f20157",
   "metadata": {
    "collapsed": true,
    "jupyter": {
     "outputs_hidden": true
    },
    "tags": []
   },
   "outputs": [
    {
     "data": {
      "text/plain": [
       "13755-element Vector{String}:\n",
       " \"which dynasty does the legislature of ner's country belong to?\"\n",
       " \"what is the nationality of the leader of ner?\"\n",
       " \"what is the location of ner? what constituency is the location in the west?\"\n",
       " \"who is the president of ner's alma mater\"\n",
       " \"ner, a chinese politician (1913-2010) who nominated his title\"\n",
       " \"awhat division does the archipelago of the city ner in cuba belong to?\"\n",
       " \"who is the agent of the person in charge of ner?\"\n",
       " \"which party did the japanese politician ner play belong to?\"\n",
       " \"which country system is used fo\" ⋯ 25 bytes ⋯ \"hed by the location of the ner?\"\n",
       " \"what is the predecessor of the previous generation of the descendants of ner\"\n",
       " \"where is the capital (or provin\" ⋯ 27 bytes ⋯ \"ies and regions affected by ner\"\n",
       " \"what is the governing body of the leaders of ner?\"\n",
       " \"what is the name of the ocean to the northeast of ner's largest city?\"\n",
       " ⋮\n",
       " \"which sport does the tenant of the location of ner play?\"\n",
       " \"who is the monarch of the one that is after election of ner?\"\n",
       " \"where does the successor of the deputy of ner belong to?\"\n",
       " \"do you know what is the level o\" ⋯ 41 bytes ⋯ \"municipality of spain, is part?\"\n",
       " \"do you know who is the wife of the father of ner\"\n",
       " \"what is the predecessor of parents of ner\"\n",
       " \"do you know what will be the ne\" ⋯ 26 bytes ⋯ \"vision series-related products?\"\n",
       " \"where is the alma mater of the eponym of ner?\"\n",
       " \"do you know who is the leader of the leader of ner\"\n",
       " \"do you know what timezone south\" ⋯ 41 bytes ⋯ \"ll tournament took place is in?\"\n",
       " \"do you know who's head of the ner location publishing event\"\n",
       " \"who is the responsible actor for ner\""
      ]
     },
     "execution_count": 50,
     "metadata": {},
     "output_type": "execute_result"
    }
   ],
   "source": [
    "lowercase.(ques)"
   ]
  },
  {
   "cell_type": "code",
   "execution_count": 51,
   "id": "4318b078-876a-4bd7-8f70-b3812dc38ac6",
   "metadata": {},
   "outputs": [
    {
     "data": {
      "text/plain": [
       "514"
      ]
     },
     "execution_count": 51,
     "metadata": {},
     "output_type": "execute_result"
    }
   ],
   "source": [
    "unique_ques = Set(lowercase.(ques))\n",
    "count(in(unique_ques), lowercase.(valid_ques))"
   ]
  }
 ],
 "metadata": {
  "kernelspec": {
   "display_name": "Julia 1.7.2",
   "language": "julia",
   "name": "julia-1.7"
  },
  "language_info": {
   "file_extension": ".jl",
   "mimetype": "application/julia",
   "name": "julia",
   "version": "1.7.2"
  }
 },
 "nbformat": 4,
 "nbformat_minor": 5
}
