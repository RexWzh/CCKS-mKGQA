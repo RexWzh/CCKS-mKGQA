{
 "cells": [
  {
   "cell_type": "code",
   "execution_count": 50,
   "id": "abc2a2cd-67fa-48cd-917b-e5aa13f85980",
   "metadata": {},
   "outputs": [],
   "source": [
    "import os\n",
    "from collections import defaultdict, OrderedDict\n",
    "os.chdir(\"../data\")"
   ]
  },
  {
   "cell_type": "code",
   "execution_count": 88,
   "id": "84795a18-ef19-4f28-bb9a-c79a2b2488c3",
   "metadata": {},
   "outputs": [],
   "source": [
    "# 读入数据\n",
    "with open(\"translate/valid_ques.txt\", \"r\") as f:\n",
    "     valid_ques_ner = [txt.strip().split('\\t') for txt in f.readlines()]\n",
    "        \n",
    "with open(\"translate/train_ques.txt\", \"r\") as f:\n",
    "    train_ques_sols = [txt.strip().split('\\t') for txt in f.readlines()]\n",
    "\n",
    "with open(\"translate/triples.txt\", \"r\") as f:\n",
    "    triples = [txt.strip().split('\\t') for txt in f.readlines()]"
   ]
  },
  {
   "cell_type": "markdown",
   "id": "8de76d33-705c-4d72-8904-69ac7c8ef86b",
   "metadata": {
    "tags": []
   },
   "source": [
    "### 构建子图"
   ]
  },
  {
   "cell_type": "code",
   "execution_count": 138,
   "id": "17f18954-8ef3-4c79-a580-949847bdf1d3",
   "metadata": {},
   "outputs": [],
   "source": [
    "\"字符转换\"\n",
    "_shift = lambda st:st.replace(' ', '_')\n",
    "\n",
    "def nocycle(sol):\n",
    "    \"\"\"子图是否带圈\"\"\"\n",
    "    objs = [obj for i, obj in enumerate(sol) if i % 2 == 0]\n",
    "    return len(objs) == len(set(objs))\n",
    "\n",
    "# 构建子图\n",
    "def construct_subgraph(sub, edges, jump=3):\n",
    "    \"\"\"\n",
    "    - 构造以 sub 为顶点的3/4跳子图\n",
    "    - 返回按层得到的列表(BFS)\n",
    "    - 特别注意：edges 中空格为 _\n",
    "    \"\"\"\n",
    "    next_level, res = [(_shift(sub),)], []\n",
    "    for _ in range(jump):\n",
    "        level, next_level = next_level, []\n",
    "        for edge in level:\n",
    "            s = edge[-1]\n",
    "            if s not in edges:continue\n",
    "            # 下一层节点(保留路径)\n",
    "            next_level.extend(edge + newedge for newedge in edges[s]) \n",
    "        res.append([path for path in next_level if nocycle(path)])\n",
    "    return res"
   ]
  },
  {
   "cell_type": "markdown",
   "id": "f023e698-a9eb-449e-9c0a-1b7877e3db5f",
   "metadata": {},
   "source": [
    "### 处理验证集"
   ]
  },
  {
   "cell_type": "code",
   "execution_count": 125,
   "id": "83775384-993f-4727-b83f-2f51ed0ff527",
   "metadata": {
    "tags": []
   },
   "outputs": [
    {
     "data": {
      "text/plain": [
       "4225"
      ]
     },
     "execution_count": 125,
     "metadata": {},
     "output_type": "execute_result"
    }
   ],
   "source": [
    "# 构建边集（**必要时添加反向关系**）\n",
    "edges = defaultdict(list)\n",
    "for sub, rel, obj in triples:\n",
    "    edges[sub].append((rel, obj))\n",
    "    edges[obj].append((rel, sub))\n",
    "sort_edges = list(sorted(edges.items(), key=lambda i:-len(i[-1])))"
   ]
  },
  {
   "cell_type": "code",
   "execution_count": 139,
   "id": "900296ef-46c9-4eff-af8e-dd7ad960f23a",
   "metadata": {},
   "outputs": [
    {
     "data": {
      "text/plain": [
       "124"
      ]
     },
     "execution_count": 139,
     "metadata": {},
     "output_type": "execute_result"
    }
   ],
   "source": [
    "# 不存在两跳的数据集（哪怕反向）\n",
    "nonsol = []\n",
    "subgraphs = {}\n",
    "for que, ner in valid_ques_ner: # 存在部分重复问题，这部分会被覆盖\n",
    "    subgraphs[que] = construct_subgraph(ner, edges)\n",
    "    if not len(subgraphs[que][1]):\n",
    "        nonsol.append(que)\n",
    "len(nonsol)"
   ]
  },
  {
   "cell_type": "code",
   "execution_count": 140,
   "id": "cbcb3dba-6560-462a-b503-d0011d19075a",
   "metadata": {},
   "outputs": [
    {
     "data": {
      "text/plain": [
       "143"
      ]
     },
     "execution_count": 140,
     "metadata": {},
     "output_type": "execute_result"
    }
   ],
   "source": [
    "# 构建边集（**必要时添加反向关系**）\n",
    "edges = defaultdict(list)\n",
    "for sub, rel, obj in triples:\n",
    "    edges[sub].append((rel, obj))\n",
    "sort_edges = list(sorted(edges.items(), key=lambda i:-len(i[-1])))\n",
    "len(sort_edges[0][1]) # 143 条边，然而仅有一跳"
   ]
  },
  {
   "cell_type": "code",
   "execution_count": 141,
   "id": "3110a402-b364-46f0-9b0f-9823c215e0aa",
   "metadata": {},
   "outputs": [
    {
     "data": {
      "text/plain": [
       "309"
      ]
     },
     "execution_count": 141,
     "metadata": {},
     "output_type": "execute_result"
    }
   ],
   "source": [
    "# 不存在两跳的数据集（哪怕反向）\n",
    "nonsol = []\n",
    "subgraphs = {}\n",
    "for que, ner in valid_ques_ner: # 存在部分重复问题，这部分会被覆盖\n",
    "    subgraphs[que] = construct_subgraph(ner, edges)\n",
    "    if not len(subgraphs[que][1]):\n",
    "        nonsol.append(que)\n",
    "len(nonsol)"
   ]
  }
 ],
 "metadata": {
  "kernelspec": {
   "display_name": "Python 3 (ipykernel)",
   "language": "python",
   "name": "python3"
  },
  "language_info": {
   "codemirror_mode": {
    "name": "ipython",
    "version": 3
   },
   "file_extension": ".py",
   "mimetype": "text/x-python",
   "name": "python",
   "nbconvert_exporter": "python",
   "pygments_lexer": "ipython3",
   "version": "3.8.10"
  }
 },
 "nbformat": 4,
 "nbformat_minor": 5
}
