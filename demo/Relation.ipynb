{
 "cells": [
  {
   "cell_type": "code",
   "execution_count": 24,
   "id": "abc2a2cd-67fa-48cd-917b-e5aa13f85980",
   "metadata": {},
   "outputs": [],
   "source": [
    "import os\n",
    "from collections import defaultdict, OrderedDict\n",
    "os.chdir(\"../data\")"
   ]
  },
  {
   "cell_type": "code",
   "execution_count": 25,
   "id": "84795a18-ef19-4f28-bb9a-c79a2b2488c3",
   "metadata": {},
   "outputs": [],
   "source": [
    "# 读入数据\n",
    "with open(\"translate/valid_ques.txt\", \"r\") as f:\n",
    "     valid_ques_ner = [txt.strip().split('\\t') for txt in f.readlines()]\n",
    "        \n",
    "with open(\"translate/train_ques.txt\", \"r\") as f:\n",
    "    train_ques_sols = [txt.strip().split('\\t') for txt in f.readlines()]\n",
    "\n",
    "with open(\"translate/triples.txt\", \"r\") as f:\n",
    "    triples = [txt.strip().split('\\t') for txt in f.readlines()]"
   ]
  },
  {
   "cell_type": "markdown",
   "id": "8de76d33-705c-4d72-8904-69ac7c8ef86b",
   "metadata": {
    "tags": []
   },
   "source": [
    "### 构建子图"
   ]
  },
  {
   "cell_type": "code",
   "execution_count": 26,
   "id": "17f18954-8ef3-4c79-a580-949847bdf1d3",
   "metadata": {},
   "outputs": [],
   "source": [
    "def nocycle(sol):\n",
    "    \"\"\"子图是否带圈\"\"\"\n",
    "    objs = [obj for i, obj in enumerate(sol) if i % 2 == 0]\n",
    "    return len(objs) == len(set(objs))\n",
    "\n",
    "# 构建子图\n",
    "def construct_subgraph(sub, edges, jump=3):\n",
    "    \"\"\"\n",
    "    - 构造以 sub 为顶点的3/4跳子图\n",
    "    - 返回按层得到的列表(BFS)\n",
    "    - 特别注意：edges 中空格为 _\n",
    "    \"\"\"\n",
    "    next_level, res = [(sub,)], []\n",
    "    for _ in range(jump):\n",
    "        level, next_level = next_level, []\n",
    "        for edge in level:\n",
    "            s = edge[-1]\n",
    "            if s not in edges:continue\n",
    "            # 下一层节点(保留路径)\n",
    "            next_level.extend(edge + newedge for newedge in edges[s]) \n",
    "        res.append([path for path in next_level if nocycle(path)])\n",
    "    return res"
   ]
  },
  {
   "cell_type": "markdown",
   "id": "f023e698-a9eb-449e-9c0a-1b7877e3db5f",
   "metadata": {},
   "source": [
    "### 处理验证集"
   ]
  },
  {
   "cell_type": "code",
   "execution_count": null,
   "id": "1e9c1561-7a42-4d5e-9dd4-3cda7bffd244",
   "metadata": {},
   "outputs": [],
   "source": [
    "[rel, rel3]\n",
    "[rel, rel2]"
   ]
  },
  {
   "cell_type": "code",
   "execution_count": 17,
   "id": "83775384-993f-4727-b83f-2f51ed0ff527",
   "metadata": {
    "tags": []
   },
   "outputs": [],
   "source": [
    "# 构建边集（**必要时添加反向关系**）\n",
    "edges = defaultdict(list)\n",
    "for sub, rel, obj in triples:\n",
    "    edges[sub].append((rel, obj))\n",
    "    edges[obj].append((rel, sub))\n",
    "sort_edges = list(sorted(edges.items(), key=lambda i:-len(i[-1])))"
   ]
  },
  {
   "cell_type": "code",
   "execution_count": 18,
   "id": "900296ef-46c9-4eff-af8e-dd7ad960f23a",
   "metadata": {},
   "outputs": [
    {
     "data": {
      "text/plain": [
       "67"
      ]
     },
     "execution_count": 18,
     "metadata": {},
     "output_type": "execute_result"
    }
   ],
   "source": [
    "# 不存在两跳的数据集（哪怕反向）\n",
    "nonsol = []\n",
    "subgraphs = {}\n",
    "for que, ner in valid_ques_ner: # 存在部分重复问题，这部分会被覆盖\n",
    "    subgraphs[que] = construct_subgraph(ner, edges)\n",
    "    if not len(subgraphs[que][1]):\n",
    "        nonsol.append((que, ner))\n",
    "len(nonsol)"
   ]
  },
  {
   "cell_type": "code",
   "execution_count": 27,
   "id": "cbcb3dba-6560-462a-b503-d0011d19075a",
   "metadata": {},
   "outputs": [
    {
     "data": {
      "text/plain": [
       "143"
      ]
     },
     "execution_count": 27,
     "metadata": {},
     "output_type": "execute_result"
    }
   ],
   "source": [
    "# 构建边集（**必要时添加反向关系**）\n",
    "edges = defaultdict(list)\n",
    "for sub, rel, obj in triples:\n",
    "    edges[sub].append((rel, obj))\n",
    "sort_edges = list(sorted(edges.items(), key=lambda i:-len(i[-1])))\n",
    "len(sort_edges[0][1]) # 143 条边，然而仅有一跳"
   ]
  },
  {
   "cell_type": "code",
   "execution_count": 28,
   "id": "3110a402-b364-46f0-9b0f-9823c215e0aa",
   "metadata": {},
   "outputs": [
    {
     "data": {
      "text/plain": [
       "153"
      ]
     },
     "execution_count": 28,
     "metadata": {},
     "output_type": "execute_result"
    }
   ],
   "source": [
    "# 不存在两跳的数据集（哪怕反向）\n",
    "nonsol = []\n",
    "subgraphs = {}\n",
    "for que, ner in valid_ques_ner: # 存在部分重复问题，这部分会被覆盖\n",
    "    subgraphs[que] = construct_subgraph(ner, edges)\n",
    "    if not len(subgraphs[que][1]):\n",
    "        nonsol.append((que, ner))\n",
    "len(nonsol)"
   ]
  },
  {
   "cell_type": "code",
   "execution_count": 29,
   "id": "f22fa1f3-e74a-407f-b767-e5f8eebd8df9",
   "metadata": {
    "collapsed": true,
    "jupyter": {
     "outputs_hidden": true
    },
    "tags": []
   },
   "outputs": [
    {
     "data": {
      "text/plain": [
       "[('what is the parent mountain of the client of NER?', 'ira_goldstein'),\n",
       " ('which one is known as the prime minister of the one that is after election of NER, a wahl?',\n",
       "  'peruvian_general_election,_1985'),\n",
       " ('who is the successor of the leader of NER?',\n",
       "  'colony_of_greenland_(1950–53)'),\n",
       " ('what is the location of the alma mater of NER?', 'phil_bentley'),\n",
       " ('what does the people, things and things with the same name as NER belong to?',\n",
       "  'french_ironclad_alma'),\n",
       " ('where is the author of NER, a live album by milt jackson, born?',\n",
       "  'the_milt_jackson_big_4'),\n",
       " ('what causes the people, things and things with the same name as NER?',\n",
       "  'greek_destroyer_pindos'),\n",
       " ('what is on the south of the people, things and things with the same name as NER?',\n",
       "  'yongfeng-class_coastal_defense_ship'),\n",
       " ('who is the manager of the team that won NER?', '1968–69_fdgb-pokal'),\n",
       " (\"what is the timezong of NER's southern region?\", 'poboleda'),\n",
       " (\"what is the origin of NER's name?\", 'cori_(lunar_crater)'),\n",
       " ('where is the birthplace of the coach of NER?', 'hafez_hashim'),\n",
       " ('where does the person and things that shares the same name with NER belong to?',\n",
       "  'uss_winnemucca_(pc-1145)'),\n",
       " ('where is the client of NER located?', 'ira_goldstein'),\n",
       " ('what is the occupation of the leader of NER?',\n",
       "  'french_legislative_election,_1827'),\n",
       " ('which dynasty does the father of NER belong to?',\n",
       "  'princess_of_zhongshan_(northern_qi)'),\n",
       " ('who takes the place of the father of NER?', 'princess_liyang'),\n",
       " ('which title does the bay that NER, an american astronomer, is famous for belong to?',\n",
       "  'steven_vogt'),\n",
       " ('which affiliation does the alma mater of NER belong to?',\n",
       "  'ed_jackson_(tennessee_politician)'),\n",
       " ('what is the deathpalce of the person whose name is used to name NER?',\n",
       "  'lippershey_(crater)'),\n",
       " ('where is the alma mater of NER located?', 'mark_van_ameyde'),\n",
       " ('what it the product of the team that won NER, a french motocross rider?',\n",
       "  'thomas_pagès'),\n",
       " ('where is the birthplace of the one that is influenced by NER?',\n",
       "  'bernard_lewis'),\n",
       " ('what is the nickname of the alma mater of NER?',\n",
       "  'paul_bailey_(politician)'),\n",
       " ('where does the event of NER take place?', 'empire_of_china_(1915–16)'),\n",
       " ('who is the female parent of the person and things that shares the same name with NER?',\n",
       "  'mv_prins_harald'),\n",
       " ('which league does the team that won NER belong to?',\n",
       "  '1923–24_atromitos_f.c._season'),\n",
       " ('who is before the father of NER?', 'princess_of_qingdu'),\n",
       " ('what is the occupation of the author of NER?',\n",
       "  'lovers_(cannonball_adderley_album)'),\n",
       " ('who married the eponym of NER?', 'cori_(lunar_crater)'),\n",
       " (\"where did the origin of NER study's name?\", 'nagaoka_(crater)'),\n",
       " ('which affiliation does the alma mater of NER belong to?',\n",
       "  'frank_darling_(architect)'),\n",
       " ('which dynasty is the leader of NER, an a mostly dhulbahante state based in the khatumo region which opposed imperialism that existed from the years 1896 until 1921, born?',\n",
       "  'dervish_state'),\n",
       " ('what is the location country of the client of NER?', 'warner_elevator_row'),\n",
       " ('what is the warrior of the person and things that shares the same name with NER?',\n",
       "  'sas_isandlwana_(f146)'),\n",
       " ('which place is called as the subdivision of the city in the south of NER?',\n",
       "  'vall-llobrega'),\n",
       " (\"which national team does NER's coach belong to?\", 'seattle_sounders_fc_2'),\n",
       " ('what is the address of the person whose name is used to name NER',\n",
       "  'cori_(lunar_crater)'),\n",
       " ('which country does the person whose name is used to name NER, a crater on mercury, belong to?',\n",
       "  'mendes_pinto_(crater)'),\n",
       " ('which country does the alma mater of NER belong to?', 'shin_chang-jae'),\n",
       " ('what is the alma mater of the one that is influenced by NER?',\n",
       "  'alain_badiou'),\n",
       " ('which label does the author of NER work for?', 'the_milt_jackson_big_4'),\n",
       " ('what is spoken by the leader of NER?', 'dervish_state'),\n",
       " (\"what is the club that NER's head coach belongs to?\",\n",
       "  'seattle_sounders_fc_2'),\n",
       " ('what is the style of the father of NER, a chinese martial artist and physician?',\n",
       "  'wong_fei_hung'),\n",
       " ('who commanded the name included in the NER?', 'germanic_wars'),\n",
       " ('who is the successor of the father of NER?', 'princess_of_qingdu'),\n",
       " ('who takes the place of the war that happened in the era of NER?',\n",
       "  'united_netherlands_sovereign_duchy'),\n",
       " ('what is the region of the chief town of NER?', 'canton_of_liévin-sud'),\n",
       " ('what is the title of the war that happened in the era of NER?',\n",
       "  'united_netherlands_sovereign_duchy'),\n",
       " ('which type of post code does the people, things and things with the same name as NER belong to?',\n",
       "  'uss_winnemucca_(pc-1145)'),\n",
       " ('what is the warrior of the name included in the NER?', 'germanic_wars'),\n",
       " ('what does the country admin division of the archipelago that NER belongs to belong to?',\n",
       "  'new_britain_island'),\n",
       " ('what is the combatant of the event of NER?', 'fețele_albe_dacian_fortress'),\n",
       " ('where did the commander of NER, an an offense by mahdist forces against british and egyptian troops, die?',\n",
       "  'siege_of_khartoum'),\n",
       " ('what is the origin of the author of NER?', 'parachilna_(album)'),\n",
       " ('who is the father of the leader of NER?', 'yue_(state)'),\n",
       " ('which dynasty is the person and things that shares the same name with NER born?',\n",
       "  'uss_schley_(dd-103)'),\n",
       " ('what is the source of information of the combatant of NER?',\n",
       "  'battle_of_bangorach'),\n",
       " ('where does the one that is after election of NER live?',\n",
       "  'peruvian_general_election,_1985'),\n",
       " ('who married the father of NER?', 'goryeo_kwangjong'),\n",
       " ('what is the ethnicity of the people, things and things with the same name as NER?',\n",
       "  'mv_yulius_fuchik'),\n",
       " ('where did the eponym of NER die?', 'eijkman_(crater)'),\n",
       " ('where is the address of NER related events', 'empire_of_china_(1915–16)'),\n",
       " (\"what is the nickname of NER's alma mater?\", 'mark_van_ameyde'),\n",
       " (\"who is the successor of NER's election winner?\",\n",
       "  'democratic_party_(hk)_leadership_election,_2002'),\n",
       " (\"NER's election winner who's successor\",\n",
       "  'german_presidential_election,_2009'),\n",
       " ('In a French state (as of March 2015) which district is the main town of NER',\n",
       "  'canton_of_neuilly-saint-front'),\n",
       " ('what is the common language of people, things and things that have the same name as NER?',\n",
       "  'french_destroyer_tonkinois'),\n",
       " (\"who is the leader of NER's successor?\", 'colony_of_greenland_(1950–53)'),\n",
       " ('who are the generals of the people in NER?', 'germanic_wars'),\n",
       " ('which district does the mayor of NER belong to?', 'canton_of_remiremont'),\n",
       " (\"what is NER's famous work of the same name?\",\n",
       "  'spanish_cruiser_don_antonio_de_ulloa'),\n",
       " (\"which party does Wallner's election winner belong to?\",\n",
       "  'united_states_senate_election_in_south_dakota,_2014'),\n",
       " ('NER, a song sung by skrillex, what is the occupation of its creator',\n",
       "  'ragga_bomb'),\n",
       " (\"NER's election winner who's successor\",\n",
       "  'persian_legislative_election,_1906'),\n",
       " ('what is the division of the southern city of NER?', 'tortellà'),\n",
       " (\"which president does the NER's election winner serve?\",\n",
       "  'bosnian_general_election,_2014'),\n",
       " ('where does the source of the NER name belong?', 'cézanne_(crater)'),\n",
       " (\"who is NER's father's successor?\", 'princess_of_qingdu'),\n",
       " ('A country dominated by Durbar Khant, located in the region of Hatumo, where the leader against the imperialist NER that existed from 1896 to 1921 was born',\n",
       "  'dervish_state'),\n",
       " ('what time zone is the location south of NER in?', 'poboleda'),\n",
       " (\"which NER's client belongs to?\", 'ira_goldstein'),\n",
       " ('what race is the person, thing, thing with the same name as NER?',\n",
       "  'mv_yulius_fuchik'),\n",
       " (\"which country is NER's customer from?\", 'warner_elevator_row'),\n",
       " ('where did the name NER come from?', 'eijkman_(crater)'),\n",
       " (\"what are the affiliations of NER's alma mater\",\n",
       "  'ed_jackson_(tennessee_politician)'),\n",
       " ('what are the countries with the same name participating in NER',\n",
       "  'sas_isandlwana_(f146)'),\n",
       " ('who does the information about the participating countries of Middle-earth NER come from?',\n",
       "  'battle_of_bangorach'),\n",
       " ('where was the creator of NER born', 'the_milt_jackson_big_4'),\n",
       " (\"which institution does NER's alma mater belong to?\",\n",
       "  'frank_darling_(architect)'),\n",
       " (\"where are NER's customers located?\", 'ira_goldstein'),\n",
       " ('what is the alma mater of someone affected by NER', 'alain_badiou'),\n",
       " ('where is the birthplace of the coach of the Malaysian badminton player NER',\n",
       "  'hafez_hashim'),\n",
       " ('what is the name of the alma mater of the person named NER?',\n",
       "  'nagaoka_(crater)'),\n",
       " ('where did the person named NER die', 'lippershey_(crater)'),\n",
       " (\"what is the name of the country's prime minister of walner's election winner\",\n",
       "  'peruvian_general_election,_1985'),\n",
       " ('where is the southern part of the person or thing with the same name as NER',\n",
       "  'yongfeng-class_coastal_defense_ship'),\n",
       " (\"which empire does NER's father belong to?\",\n",
       "  'princess_of_zhongshan_(northern_qi)'),\n",
       " ('what does the creator of NER do?', 'lovers_(cannonball_adderley_album)'),\n",
       " ('what region does the mayor of NER belong to in the country?',\n",
       "  'canton_of_liévin-sud'),\n",
       " ('what is the administrative region of the archipelago where NER is located?',\n",
       "  'new_britain_island'),\n",
       " ('where did the creators of NER originate from?', 'parachilna_(album)'),\n",
       " (\"where did Wallner's election winners live?\",\n",
       "  'peruvian_general_election,_1985'),\n",
       " ('what is the nationality of the person whose name is used to name the NER?',\n",
       "  'mendes_pinto_(crater)'),\n",
       " ('what is the area to which the site belongs to the south of NER, a village in the province of Girona, Catalonia, Spain',\n",
       "  'vall-llobrega'),\n",
       " ('who is the spouse of the person named NER?', 'cori_(lunar_crater)'),\n",
       " ('WHAT PRODUCTS FROM THE TEAM OF FRENCH MOTOCROSS NER NER', 'thomas_pagès'),\n",
       " ('where is the address of the event involved in NER',\n",
       "  'empire_of_china_(1915–16)'),\n",
       " ('where are the birthplaces of those affected by NER', 'bernard_lewis'),\n",
       " ('what caused the name of the warship NER during World War II',\n",
       "  'greek_destroyer_pindos'),\n",
       " (\"in which state is NER's alma mater?\", 'mark_van_ameyde'),\n",
       " ('what is the dynasty of The father of NER',\n",
       "  'princess_of_zhongshan_(northern_qi)'),\n",
       " (\"what is the race of NER's ship name\", 'mv_yulius_fuchik'),\n",
       " ('who are the generals participating in the NER name', 'germanic_wars'),\n",
       " ('what are the countries of people, things and things with the same name as participating NER',\n",
       "  'sas_isandlwana_(f146)'),\n",
       " ('do you know where NER customer come from', 'ira_goldstein'),\n",
       " (\"do you know what NER's eponymous job is\", 'cori_(lunar_crater)'),\n",
       " ('where is the alma mater of Persons Affected by an NER', 'alain_badiou'),\n",
       " ('what is the next term of the NER era, a precursor of the united kingdom of the netherlands from 1813 to 1815?',\n",
       "  'united_netherlands_sovereign_duchy'),\n",
       " ('do you know what happened during the NER ship name',\n",
       "  'french_ironclad_alma'),\n",
       " ('where is the location of the NER Client', 'ira_goldstein'),\n",
       " ('do you know which league NER team one season football team will play in?',\n",
       "  '1923–24_atromitos_f.c._season'),\n",
       " ('From what era did the The leader of NER come', 'dervish_state'),\n",
       " ('do you know where the origin of the name of the NERdied',\n",
       "  'lippershey_(crater)'),\n",
       " (\"where is the location of NER's Alma mater\", 'phil_bentley'),\n",
       " ('do you know who is the heir of The leader of NER',\n",
       "  'colony_of_greenland_(1950–53)'),\n",
       " (\"what are the countries of NER's name, a wikimedia list article, participating?\",\n",
       "  'germanic_wars'),\n",
       " ('do you know who is the president of Alma mater of NER', 'shin_chang-jae'),\n",
       " ('do you know which national team belongs to NER South',\n",
       "  'seattle_sounders_fc_2'),\n",
       " ('do you know what is the name of the administrative district of Southern NER',\n",
       "  'vall-llobrega'),\n",
       " ('do you know where is the eponymous address of NER', 'cori_(lunar_crater)'),\n",
       " ('where is the position of the Events in NER', 'empire_of_china_(1915–16)'),\n",
       " ('do you know where the birthplace of Persons affected by an NER is?',\n",
       "  'bernard_lewis'),\n",
       " ('do you know what is the source of the Country of NER, a middle-earth, participant?',\n",
       "  'battle_of_bangorach'),\n",
       " ('do you know what is the country of NER Client', 'warner_elevator_row'),\n",
       " ('what is the time zone used by NER South', 'poboleda'),\n",
       " ('who is the NER team manager for fall 2016-2017?', '1968–69_fdgb-pokal'),\n",
       " ('where is the title of Election after NER',\n",
       "  'united_states_senate_election_in_south_dakota,_2014'),\n",
       " ('who will be Election after NER next',\n",
       "  'bulgarian_parliamentary_election,_1986'),\n",
       " ('do you know who was the people, things and things with the same name as NER before',\n",
       "  'spanish_cruiser_don_antonio_de_ulloa'),\n",
       " (\"do you know where the birthplace of NER's Coach is?\", 'hafez_hashim'),\n",
       " ('where is the address of the NER team',\n",
       "  '1986_paraguayan_primera_división_season'),\n",
       " ('what musical instrument did NER, a sovereign state in south america, use?',\n",
       "  'heart_&_soul_(ron_carter_and_cedar_walton_album)'),\n",
       " ('what is the type of The name of NER',\n",
       "  'list_of_awards_and_nominations_received_by_lorde'),\n",
       " ('what eponymous domain of NER belongs to', \"d'alembert_(crater)\"),\n",
       " ('do you know where is the city of Alma mater from NER',\n",
       "  'ed_jackson_(tennessee_politician)'),\n",
       " ('do you know what is the district of The main city of NER, a canton of France?',\n",
       "  'canton_of_moreuil'),\n",
       " ('what is the level of management at NER South', 'la_nou_de_gaià'),\n",
       " ('In what state is The name of the ship from NER',\n",
       "  'japanese_cruiser_mogami_(1934)'),\n",
       " (\"where is NER's eponymous death place\", 'barringer_(lunar_crater)'),\n",
       " (\"do you know what is the famous work of NER's eponymous\",\n",
       "  'eijkman_(crater)'),\n",
       " ('do you know what time zone is in South of NER, a village in the province of girona and autonomous community of catalonia, spain?',\n",
       "  'vall-llobrega')]"
      ]
     },
     "execution_count": 29,
     "metadata": {},
     "output_type": "execute_result"
    }
   ],
   "source": [
    "ira_goldstein client ASB_bank"
   ]
  },
  {
   "cell_type": "code",
   "execution_count": null,
   "id": "8b0fc231-6b63-40b0-8962-b06f73861c45",
   "metadata": {},
   "outputs": [],
   "source": []
  }
 ],
 "metadata": {
  "kernelspec": {
   "display_name": "Python 3 (ipykernel)",
   "language": "python",
   "name": "python3"
  },
  "language_info": {
   "codemirror_mode": {
    "name": "ipython",
    "version": 3
   },
   "file_extension": ".py",
   "mimetype": "text/x-python",
   "name": "python",
   "nbconvert_exporter": "python",
   "pygments_lexer": "ipython3",
   "version": "3.8.10"
  }
 },
 "nbformat": 4,
 "nbformat_minor": 5
}
