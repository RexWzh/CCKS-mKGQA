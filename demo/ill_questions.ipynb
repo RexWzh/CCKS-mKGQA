{
 "cells": [
  {
   "cell_type": "markdown",
   "id": "51440344-c5c3-4030-9519-c8509eed3ee1",
   "metadata": {},
   "source": [
    "### 错误问题纠正"
   ]
  },
  {
   "cell_type": "code",
   "execution_count": 1,
   "id": "1caa5e07-ca20-4d48-a84c-b2200f3b3173",
   "metadata": {},
   "outputs": [
    {
     "name": "stdout",
     "output_type": "stream",
     "text": [
      "导入成功，内容概要：\n",
      "    | 变量名 | 说明 |\n",
      "    | ---- | ---- |\n",
      "    | zh_triples/en_triples | 三元组 |\n",
      "    | zh_subs/en_subs | 头实体 |\n",
      "    | zh_objs/en_objs | 尾实体 |\n",
      "    | zh_rels/en_rels | 关系 |\n",
      "    | zh_entity/en_entity | 实体（头和尾） |\n",
      "    | ILLs | 英文 => 中文对齐 |\n",
      "    | ILLs_zh_en | 中文 => 英文对齐|\n",
      "    | train_data | 训练集 |\n"
     ]
    }
   ],
   "source": [
    "# 导入数据\n",
    "include(\"../src/readfiles.jl\")"
   ]
  },
  {
   "cell_type": "code",
   "execution_count": 2,
   "id": "4b5def68-132d-469e-bbee-82288db66fcb",
   "metadata": {
    "tags": []
   },
   "outputs": [],
   "source": [
    "# 处理错误问题的正则表达式\n",
    "# 只纠正错误问题，而不会影响其他问题\n",
    "lg, rg, substr = \"([A-Z])\", raw\"([\\w ,'()/–\\-\\.]+)\", s\"\\g<1>\\g<2>\"\n",
    "ill_rules(rep) = Regex(lg * rep * rg) => SubstitutionString(substr * rep)\n",
    "ill_pattern = ill_rules.([\n",
    "        \"'s name\", # 211\n",
    "        \"'s southern region\", # 190\n",
    "        \" known\", # 166\n",
    "        \"'s famous works\", # 140\n",
    "        \"-related products\", # 101\n",
    "        \"'s related products\", # 63\n",
    "        \" related events\", # 35\n",
    "]);\n",
    "push!(ill_pattern,\n",
    "    r\"([^A-Za-z0-9])-held parliament([^A-Za-z0-9]+)(?<![ ?])\" => s\"\\g<1>\\g<2>-held parliament\", # 21\n",
    "    r\"which ([^A-Za-z0-9]) belongs([^A-Za-z0-9]+)(?<![ ?])\" => s\"\\g<1>\\g<2> belongs\", # 16\n",
    ");"
   ]
  },
  {
   "cell_type": "code",
   "execution_count": 3,
   "id": "7e8ce209-b62c-4667-804d-7a2ea6776029",
   "metadata": {
    "collapsed": true,
    "jupyter": {
     "outputs_hidden": true
    },
    "tags": []
   },
   "outputs": [
    {
     "data": {
      "text/plain": [
       "15-element Vector{String}:\n",
       " \"Savez-vous ce qu’est la dynastie ?\"\n",
       " \"Savez-vous quels sont les pays participants\"\n",
       " \"who married the person of T-related eventhose Were the Days (song)?\"\n",
       " \"what is the position of the country related to B-related eventsyzantine Crete?\"\n",
       " \"which title does M-related event related personsecklenburg-Güstrow own?\"\n",
       " \"who is the key people of 2's data source016–17 AFC Wimbledon season?\"\n",
       " \"what is children of the person of T related eventhose Were the Days (song)?\"\n",
       " \"Saviez-vous que la série du produits liés à l'ENTITÉest?\"\n",
       " \"what is originated from the person of A related eventncient Corinth?\"\n",
       " \"where is the birthplace of A-related event related personsncient Corinth?\"\n",
       " \"who is the owner of the sources of 2 related data016–17 AFC Wimbledon season?\"\n",
       " \"what is the club that 2's head coach006 Santos FC season belongs to?\"\n",
       " \"Savez-vous qu'avant produits liés à l'ENTITÉest?\"\n",
       " \"which country is 2's season006 Santos FC season born?\"\n",
       " \"produits liés à l'ENTITÉbasé sur ce\""
      ]
     },
     "execution_count": 3,
     "metadata": {},
     "output_type": "execute_result"
    }
   ],
   "source": [
    "ill_ques = String[] # 不能直接提取头实体的问题\n",
    "valid_ques = String[] # 能直接提取头实体的问题\n",
    "a1, a2 = 0, 0\n",
    "for (que, sol) in train_data\n",
    "    ob = replace(first(sol)[2], '_' => ' ')\n",
    "    que = replace(que, ill_pattern...)\n",
    "    occursin(ob, que) ? push!(valid_ques, que) : push!(ill_ques, que)\n",
    "end\n",
    "ill_ques"
   ]
  },
  {
   "cell_type": "code",
   "execution_count": 5,
   "id": "d29e5126-1de9-4956-938e-baf3560b1ac7",
   "metadata": {},
   "outputs": [],
   "source": [
    "# 保存结果\n",
    "open(\"../data/extract/valid_ques.txt\", \"w\") do io\n",
    "    for que in valid_ques\n",
    "        println(io, que)\n",
    "    end\n",
    "end"
   ]
  },
  {
   "cell_type": "markdown",
   "id": "e2abc310-8fce-45fc-bef2-18c5e381dc5f",
   "metadata": {},
   "source": [
    "### 调试过程"
   ]
  },
  {
   "cell_type": "code",
   "execution_count": 241,
   "id": "49bc87cb-b59a-418f-94d6-63467b413a52",
   "metadata": {
    "tags": []
   },
   "outputs": [
    {
     "name": "stdout",
     "output_type": "stream",
     "text": [
      "15\n"
     ]
    }
   ],
   "source": [
    "newspecial = String[]\n",
    "for que in ill_ques\n",
    "    ob = replace(first(train_data[que])[2], '_' => ' ')\n",
    "    new_que = replace(que, ill_pattern...)\n",
    "    if !occursin(ob, new_que)\n",
    "        push!(newspecial, new_que)\n",
    "        new_que != que && println(que,'\\n', new_que)\n",
    "    end\n",
    "end\n",
    "println(length(newspecial))"
   ]
  },
  {
   "cell_type": "code",
   "execution_count": 243,
   "id": "173cdd2e-37f1-4bf4-9182-133ebfdfc1ca",
   "metadata": {
    "tags": []
   },
   "outputs": [
    {
     "name": "stdout",
     "output_type": "stream",
     "text": [
      "Savez-vous ce qu’est la dynastie ?\n",
      "Savez-vous quels sont les pays participants\n",
      "who married the person of T-related eventhose Were the Days (song)?\n",
      "what is the position of the country related to B-related eventsyzantine Crete?\n",
      "which title does M-related event related personsecklenburg-Güstrow own?\n",
      "who is the key people of 2's data source016–17 AFC Wimbledon season?\n",
      "what is children of the person of T related eventhose Were the Days (song)?\n",
      "Saviez-vous que la série du produits liés à l'ENTITÉest?\n",
      "what is originated from the person of A related eventncient Corinth?\n",
      "where is the birthplace of A-related event related personsncient Corinth?\n",
      "who is the owner of the sources of 2 related data016–17 AFC Wimbledon season?\n",
      "what is the club that 2's head coach006 Santos FC season belongs to?\n",
      "Savez-vous qu'avant produits liés à l'ENTITÉest?\n",
      "which country is 2's season006 Santos FC season born?\n",
      "produits liés à l'ENTITÉbasé sur ce\n"
     ]
    }
   ],
   "source": [
    "# que = newspecial[5]\n",
    "# print(que)\n",
    "# train_data[que]\n",
    "println.(newspecial);"
   ]
  }
 ],
 "metadata": {
  "kernelspec": {
   "display_name": "Julia 1.7.2",
   "language": "julia",
   "name": "julia-1.7"
  },
  "language_info": {
   "file_extension": ".jl",
   "mimetype": "application/julia",
   "name": "julia",
   "version": "1.7.2"
  }
 },
 "nbformat": 4,
 "nbformat_minor": 5
}
