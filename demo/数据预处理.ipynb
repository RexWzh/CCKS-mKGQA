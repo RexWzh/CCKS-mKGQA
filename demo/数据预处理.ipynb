{
 "cells": [
  {
   "cell_type": "markdown",
   "id": "27a49800-41ea-4286-ab3c-858eae2155ef",
   "metadata": {
    "tags": []
   },
   "source": [
    "### 处理内容\n",
    "1. 提取三元组的关键词\n",
    "2. 训练集分解为：问题 + 解答\n",
    "3. 删除重复数据"
   ]
  },
  {
   "cell_type": "code",
   "execution_count": 2,
   "id": "950eb032-cf38-4369-a92e-aff62bbe2a83",
   "metadata": {},
   "outputs": [
    {
     "name": "stdout",
     "output_type": "stream",
     "text": [
      "/home/rex/work_space/7 others/ccks/CCKS-mKGQA/data\n"
     ]
    }
   ],
   "source": [
    ";cd ../data"
   ]
  },
  {
   "cell_type": "markdown",
   "id": "8f0a97e0-d933-4994-b928-74a6a6f5f0e4",
   "metadata": {
    "tags": []
   },
   "source": [
    "### 关键词提取\n",
    "存储在 `extract` 目录下"
   ]
  },
  {
   "cell_type": "markdown",
   "id": "033204e4-78d4-409c-8219-542b8e50eb99",
   "metadata": {
    "tags": []
   },
   "source": [
    "### 第一部分\n",
    "ILLs(zh-en).txt, triple_en.txt, triple_zh.txt"
   ]
  },
  {
   "cell_type": "code",
   "execution_count": 3,
   "id": "44b6b962-8c25-4665-bd4c-9b2e5c8f9299",
   "metadata": {},
   "outputs": [
    {
     "data": {
      "text/plain": [
       "r\"<http://zh.dbpedia.org/property/(.*)>\""
      ]
     },
     "execution_count": 3,
     "metadata": {},
     "output_type": "execute_result"
    }
   ],
   "source": [
    "en_obj_reg = r\"<http://dbpedia.org/resource/(.*)>\"\n",
    "en_rel_reg = r\"<http://dbpedia.org/property/(.*)>\"\n",
    "zh_obj_reg = r\"<http://zh.dbpedia.org/resource/(.*)>\"\n",
    "zh_rel_reg = r\"<http://zh.dbpedia.org/property/(.*)>\""
   ]
  },
  {
   "cell_type": "code",
   "execution_count": 4,
   "id": "3e91bb23-0fc6-4c65-86cb-652e60b0c85f",
   "metadata": {},
   "outputs": [
    {
     "data": {
      "text/plain": [
       "line2triple (generic function with 1 method)"
      ]
     },
     "execution_count": 4,
     "metadata": {},
     "output_type": "execute_result"
    }
   ],
   "source": [
    "get_txt(reg, txt) = match(reg, txt).captures[1]\n",
    "function line2triple(line; en=true)\n",
    "    txts = split(line, ' ')\n",
    "    rel, obj = en ? (en_rel_reg, en_obj_reg) : (zh_rel_reg, zh_obj_reg)\n",
    "    Tuple(get_txt.([obj, rel, obj], txts))\n",
    "end"
   ]
  },
  {
   "cell_type": "code",
   "execution_count": 145,
   "id": "db9da215-c27f-42d6-a20e-c45a8949eaf0",
   "metadata": {},
   "outputs": [
    {
     "name": "stdout",
     "output_type": "stream",
     "text": [
      "(\"Gokuraku-ji_(Kamakura)\", \"denomination\", \"Shingon_Buddhism\")\n",
      "(\"中华人民共和国外交部\", \"c\", \"中華民國外交部\")\n"
     ]
    }
   ],
   "source": [
    "line_en = \"<http://dbpedia.org/resource/Gokuraku-ji_(Kamakura)> <http://dbpedia.org/property/denomination> <http://dbpedia.org/resource/Shingon_Buddhism>\"\n",
    "line_zh = \"<http://zh.dbpedia.org/resource/中华人民共和国外交部> <http://zh.dbpedia.org/property/c> <http://zh.dbpedia.org/resource/中華民國外交部>\"\n",
    "println(line2triple(line_en))\n",
    "println(line2triple(line_zh;en=false))"
   ]
  },
  {
   "cell_type": "code",
   "execution_count": 146,
   "id": "864a4969-cbfe-46ac-b7af-a07d14342cdd",
   "metadata": {},
   "outputs": [],
   "source": [
    "# 处理英文三元组\n",
    "output_io = open(\"extract/triple_en.txt\", \"w\")\n",
    "open(\"triple_en.txt\", \"r\") do io\n",
    "    for i in 1:162544\n",
    "        txt = join(line2triple(readline(io)), '\\t')\n",
    "        write(output_io, txt, \"\\n\")\n",
    "    end\n",
    "end\n",
    "close(output_io)"
   ]
  },
  {
   "cell_type": "code",
   "execution_count": 214,
   "id": "deb01b23-de1e-4946-9150-bf1def8ba116",
   "metadata": {},
   "outputs": [],
   "source": [
    "## 处理乱码\n",
    "rel_rules = (\n",
    "    r\"\\d上一節目\" => \"上一節目\",\n",
    "    r\"\\d+下一節目\" => \"下一節目\",\n",
    "    \"région\" => \"region\",\n",
    "    \"département\" => \"department\");"
   ]
  },
  {
   "cell_type": "code",
   "execution_count": 215,
   "id": "1b6f5ac8-3284-4eed-b4eb-7a566f1e5ae7",
   "metadata": {},
   "outputs": [],
   "source": [
    "# 处理中文三元组\n",
    "output_io = open(\"extract/triple_zh.txt\", \"w\")\n",
    "open(\"triple_zh.txt\", \"r\") do io\n",
    "    for i in 1:104941\n",
    "        txt = join(line2triple(readline(io); en=false), '\\t')\n",
    "        txt = replace(txt, rel_rules...)\n",
    "        write(output_io, txt, \"\\n\")\n",
    "    end\n",
    "end\n",
    "close(output_io)"
   ]
  },
  {
   "cell_type": "code",
   "execution_count": 7,
   "id": "6c8db788-61a7-4e6e-8fad-4fac07a5bc01",
   "metadata": {},
   "outputs": [],
   "source": [
    "# 处理实体对齐\n",
    "filename = \"ILLs(zh-en).txt\"\n",
    "output_io = open(\"extract/$filename\", \"w\")\n",
    "open(filename, \"r\") do io\n",
    "    for i in 1:13636\n",
    "        txt = split(readline(io), ' ')\n",
    "        write(output_io, get_txt(en_obj_reg, txt[1]), '\\t',\n",
    "            get_txt(zh_obj_reg, txt[3]), '\\n')\n",
    "    end\n",
    "end\n",
    "close(output_io)"
   ]
  },
  {
   "cell_type": "code",
   "execution_count": 8,
   "id": "8f5ebd9e-d36c-4d8f-8549-4b18756ece61",
   "metadata": {},
   "outputs": [
    {
     "name": "stdout",
     "output_type": "stream",
     "text": [
      "13636\t13249\n"
     ]
    }
   ],
   "source": [
    "# 删除重复信息\n",
    "txts = rstrip(read(open(\"extract/ILLs(zh-en).txt\", \"r\"), String))\n",
    "doubles = NTuple{2, String}[Tuple(split(txt, '\\t')) for txt in split(txts, '\\n')]\n",
    "unique_doubles = unique(doubles)\n",
    "println(length(doubles),'\\t', length(unique_doubles))\n",
    "# 13636\t13249\n",
    "# 存在重复，比如：Princess_Alexia_of_Greece_and_Denmark\n",
    "\n",
    "# 补充知识对齐\n",
    "new_rel = (\n",
    "    \"Huizhou\" => \"惠州市\",\n",
    "    \"Leonid_Brezhnev\" => \"列昂尼德·伊里奇·勃列日涅夫\",\n",
    "    \"Li_Qingzhao\" => \"李清照\",\n",
    "    \"Sun_Lianzhong\" => \"孫連仲\"\n",
    ")\n",
    "\n",
    "open(\"extract/ILLs(zh-en).txt\", \"w\") do io\n",
    "    for (en, zh) in unique_doubles\n",
    "        println(io, en, '\\t', zh)\n",
    "    end\n",
    "    for (en, zh) in new_rel\n",
    "        println(io, en,'\\t', zh)\n",
    "    end\n",
    "end"
   ]
  },
  {
   "cell_type": "markdown",
   "id": "098cc238-95e3-4cbc-92e0-91d7236f534d",
   "metadata": {
    "jp-MarkdownHeadingCollapsed": true,
    "tags": []
   },
   "source": [
    "### 第二部分\n",
    "train_data.txt"
   ]
  },
  {
   "cell_type": "code",
   "execution_count": null,
   "id": "eed0ecc7-0cc3-4e35-8b95-c2baec395553",
   "metadata": {},
   "outputs": [],
   "source": [
    "# 删除重复信息\n",
    "function unique_txts(infile, outfile)\n",
    "    text = String[]\n",
    "    open(infile, \"r\") do io\n",
    "        for _ in 1:14262\n",
    "            push!(text, readline(io))\n",
    "        end\n",
    "    end\n",
    "    output = open(outfile, \"w\")\n",
    "    for line in unique!(text)\n",
    "        write(output, line, '\\n')\n",
    "    end\n",
    "    close(output)\n",
    "end\n",
    "unique_txts(\"train_data.txt\", \"train_data_unique.txt\")"
   ]
  },
  {
   "cell_type": "code",
   "execution_count": 150,
   "id": "28894cee-8e49-4149-ae35-0f2e9c52ccf2",
   "metadata": {
    "tags": []
   },
   "outputs": [
    {
     "data": {
      "text/plain": [
       "QandA"
      ]
     },
     "execution_count": 150,
     "metadata": {},
     "output_type": "execute_result"
    }
   ],
   "source": [
    "\"\"\"获取三元组信息\"\"\"\n",
    "function get_info(triple)\n",
    "    s1 = match(zh_obj_reg, first(triple))\n",
    "    isnothing(s1) || return \"zh\\t\" * join(get_txt.(\n",
    "            [zh_obj_reg, zh_rel_reg, zh_obj_reg], triple),'\\t')\n",
    "    return \"en\\t\" * join(get_txt.(\n",
    "            [en_obj_reg, en_rel_reg, en_obj_reg], triple),'\\t')\n",
    "end\n",
    "\n",
    "\"\"\"拆分问题和答案\"\"\"\n",
    "function QandA(txt)\n",
    "    que, ans = split(txt, '\\t')\n",
    "    ans = split(ans, '#')\n",
    "    len = Int(length(ans)/3)\n",
    "    \"{$(len)} $(que)\\n\" *\n",
    "    join([get_info(ans[3 * i - 2: 3 * i]) for i in 1:len],'\\n','\\n')\n",
    "end"
   ]
  },
  {
   "cell_type": "code",
   "execution_count": 151,
   "id": "be67a2d5-c5af-497a-82b3-68736413a90c",
   "metadata": {},
   "outputs": [
    {
     "name": "stdout",
     "output_type": "stream",
     "text": [
      "{2} which official language is used by the country that is affected by 1957 Mongolia earthquake?\n",
      "en\t1957_Mongolia_earthquake\tcountriesAffected\tMongolia\n",
      "zh\t蒙古国\t官方文字\t蒙古字母"
     ]
    }
   ],
   "source": [
    "txt = \"which official language is used by the country that is affected by 1957 Mongolia earthquake?\t<http://dbpedia.org/resource/1957_Mongolia_earthquake>#<http://dbpedia.org/property/countriesAffected>#<http://dbpedia.org/resource/Mongolia>#<http://zh.dbpedia.org/resource/蒙古国>#<http://zh.dbpedia.org/property/官方文字>#<http://zh.dbpedia.org/resource/蒙古字母>\"\n",
    "print(QandA(txt))"
   ]
  },
  {
   "cell_type": "code",
   "execution_count": 152,
   "id": "951de0b2-48a8-478c-af8e-9a8d882d4086",
   "metadata": {},
   "outputs": [],
   "source": [
    "# 处理训练集\n",
    "output_io = open(\"extract/train_data.txt\", \"w\")\n",
    "# dict = Dict{Char,Int}('2'=>0, '3'=>0)\n",
    "open(\"train_data_unique.txt\", \"r\") do io\n",
    "    for i in 1:14077\n",
    "        println(output_io, QandA(readline(io)), '\\n')\n",
    "    end\n",
    "end\n",
    "close(output_io)"
   ]
  },
  {
   "cell_type": "code",
   "execution_count": 154,
   "id": "619be6ff-3d19-4780-b8d3-8069e3c16154",
   "metadata": {},
   "outputs": [
    {
     "data": {
      "text/plain": [
       "13770"
      ]
     },
     "execution_count": 154,
     "metadata": {},
     "output_type": "execute_result"
    }
   ],
   "source": [
    "## 检查训练集的解答与关键字\n",
    "solutions = Dict{String, Vector{NTuple{4, String}}}()\n",
    "# ques, sols =  String[], Vector{NTuple{4, String}}[] # 存在多解的问题\n",
    "open(\"extract/train_data.txt\", \"r\") do io\n",
    "    for _ in 1:14077\n",
    "        que = readline(io)\n",
    "        ind, que = parse(Int, que[2]), que[5:end]\n",
    "        # haskey(solutions, que) && (push!(ques, que);push!(sols,solutions[que]))\n",
    "        solutions[que] = [Tuple(split(readline(io), '\\t')) for _ in 1:ind]\n",
    "        readline(io)\n",
    "    end\n",
    "end\n",
    "length(solutions)"
   ]
  },
  {
   "cell_type": "markdown",
   "id": "35805f33-a027-454b-95ec-2ec1a894044d",
   "metadata": {
    "tags": []
   },
   "source": [
    "### 统计词频"
   ]
  },
  {
   "cell_type": "code",
   "execution_count": 216,
   "id": "9f755675-de22-4772-94b1-311f6c88f91a",
   "metadata": {},
   "outputs": [
    {
     "name": "stdout",
     "output_type": "stream",
     "text": [
      "(77541, 1141, 2.7067228949845887)\n"
     ]
    },
    {
     "data": {
      "text/plain": [
       "(122525, 1639, 2.6532381146704753)"
      ]
     },
     "execution_count": 216,
     "metadata": {},
     "output_type": "execute_result"
    }
   ],
   "source": [
    "# 中文三元组，实体，关系\n",
    "txts = rstrip(read(open(\"extract/triple_zh.txt\", \"r\"), String))\n",
    "zh_triples = [NTuple{3,String}(split(txt, '\\t')) for txt in split(txts, '\\n')]\n",
    "zh_objs = unique!(vcat(first.(zh_triples), last.(zh_triples)))\n",
    "zh_rels = unique(triple[2] for triple in zh_triples)\n",
    "println((length(zh_objs), length(zh_rels), 2*length(zh_triples)/length(zh_objs)))\n",
    "\n",
    "# 英文三元组，实体，关系\n",
    "txts = rstrip(read(open(\"extract/triple_en.txt\", \"r\"), String))\n",
    "en_triples = [NTuple{3,String}(split(txt, '\\t')) for txt in split(txts, '\\n')]\n",
    "en_objs = unique!(vcat(first.(en_triples), last.(en_triples)))\n",
    "en_rels = unique(triple[2] for triple in en_triples)\n",
    "length(en_objs), length(en_rels),2*length(en_triples)/length(en_objs)"
   ]
  },
  {
   "cell_type": "code",
   "execution_count": 218,
   "id": "d46a68ec-898a-494b-ba75-fae0e8a17df1",
   "metadata": {},
   "outputs": [],
   "source": [
    "# 记录中文关系\n",
    "non_en_rels = filter(i->!all(isascii,i), zh_rels)\n",
    "open(\"extract/purezh_rels.txt\", \"w\") do io\n",
    "    for line in non_en_rels\n",
    "        println(io, line)\n",
    "    end\n",
    "end"
   ]
  },
  {
   "cell_type": "code",
   "execution_count": 202,
   "id": "11fc010e-71c1-4788-8278-f4a3c126fb8e",
   "metadata": {},
   "outputs": [],
   "source": [
    "using DataStructures"
   ]
  },
  {
   "cell_type": "code",
   "execution_count": 226,
   "id": "2913ab9a-80d0-473b-ae8e-d8688056edf7",
   "metadata": {
    "collapsed": true,
    "jupyter": {
     "outputs_hidden": true
    },
    "tags": []
   },
   "outputs": [
    {
     "data": {
      "text/plain": [
       "OrderedDict{String, Int64} with 77541 entries:\n",
       "  \"欧洲中部时… => 1992\n",
       "  \"欧洲中部夏… => 1972\n",
       "  \"省_(西班牙… => 1277\n",
       "  \"西班牙行政… => 1237\n",
       "  \"國家\"       => 914\n",
       "  \"美國行政區… => 822\n",
       "  \"美利堅合眾… => 494\n",
       "  \"加泰罗尼亚\" => 409\n",
       "  \"巴西行政区… => 406\n",
       "  \"匈牙利行政… => 364\n",
       "  \"美國\"       => 316\n",
       "  \"美国\"       => 292\n",
       "  \"英語\"       => 280\n",
       "  \"卡斯蒂利亚… => 278\n",
       "  \"北美山区时… => 273\n",
       "  \"北美山区日… => 262\n",
       "  \"歌手\"       => 212\n",
       "  \"德国行政区… => 210\n",
       "  \"县_(德国)\"  => 194\n",
       "  \"天主教\"     => 188\n",
       "  \"犹他州\"     => 177\n",
       "  \"国家\"       => 161\n",
       "  \"阿拉斯区\"   => 159\n",
       "  \"北美中部时… => 157\n",
       "  \"犹他州行政… => 153\n",
       "  ⋮            => ⋮"
      ]
     },
     "execution_count": 226,
     "metadata": {},
     "output_type": "execute_result"
    }
   ],
   "source": [
    "# 中文实体频次\n",
    "zh_count_obj = Dict(counter(vcat(first.(zh_triples), last.(zh_triples))))\n",
    "sort(zh_count_obj, by=i->zh_count_obj[i], rev=true)"
   ]
  },
  {
   "cell_type": "code",
   "execution_count": 228,
   "id": "45f313f5-e581-4d86-8ca6-5dd02c9e9ae5",
   "metadata": {
    "collapsed": true,
    "jupyter": {
     "outputs_hidden": true
    },
    "tags": []
   },
   "outputs": [
    {
     "data": {
      "text/plain": [
       "OrderedDict{String, Int64} with 1141 entries:\n",
       "  \"subdivisionName\" => 8287\n",
       "  \"subdivisionType\" => 8049\n",
       "  \"timezone\"        => 3943\n",
       "  \"predecessor\"     => 3509\n",
       "  \"successor\"       => 3300\n",
       "  \"title\"           => 3044\n",
       "  \"genre\"           => 1996\n",
       "  \"arrondissement\"  => 1698\n",
       "  \"canton\"          => 1645\n",
       "  \"timezone1Dst\"    => 1593\n",
       "  \"name\"            => 1566\n",
       "  \"location\"        => 1547\n",
       "  \"timezoneDst\"     => 1434\n",
       "  \"starring\"        => 1392\n",
       "  \"almaMater\"       => 1391\n",
       "  \"party\"           => 1331\n",
       "  \"type\"            => 1317\n",
       "  \"after\"           => 1281\n",
       "  \"before\"          => 1256\n",
       "  \"religion\"        => 1223\n",
       "  \"stadium\"         => 1210\n",
       "  \"office\"          => 1159\n",
       "  \"discoverySite\"   => 1153\n",
       "  \"clubs\"           => 1077\n",
       "  \"city\"            => 1028\n",
       "  ⋮                 => ⋮"
      ]
     },
     "execution_count": 228,
     "metadata": {},
     "output_type": "execute_result"
    }
   ],
   "source": [
    "# 中文关系频次\n",
    "zh_count_rel = Dict(counter(triple[2] for triple in zh_triples))\n",
    "sort(zh_count_rel, by=i->zh_count_rel[i], rev=true)"
   ]
  },
  {
   "cell_type": "code",
   "execution_count": 227,
   "id": "3dfbc345-6010-441c-ac74-83390b0d5d71",
   "metadata": {
    "collapsed": true,
    "jupyter": {
     "outputs_hidden": true
    },
    "tags": []
   },
   "outputs": [
    {
     "data": {
      "text/plain": [
       "OrderedDict{String, Int64} with 122525 entries:\n",
       "  \"Countries_of_the_world\"                   => 4211\n",
       "  \"Voivodeships_of_Poland\"                   => 2840\n",
       "  \"List_of_sovereign_states\"                 => 2003\n",
       "  \"List_of_countries\"                        => 1519\n",
       "  \"Autonomous_communities_of_Spain\"          => 1138\n",
       "  \"Political_divisions_of_the_United_States\" => 715\n",
       "  \"Federal_Information_Processing_Standard\"  => 641\n",
       "  \"Regions_of_the_Czech_Republic\"            => 510\n",
       "  \"ZIP_code\"                                 => 492\n",
       "  \"Districts_of_Serbia\"                      => 470\n",
       "  \"Postal_code\"                              => 414\n",
       "  \"Districts_of_the_Czech_Republic\"          => 412\n",
       "  \"Provinces_and_territories_of_Canada\"      => 410\n",
       "  \"Provinces_of_Spain\"                       => 402\n",
       "  \"Auckland\"                                 => 366\n",
       "  \"Municipalities_of_Serbia\"                 => 343\n",
       "  \"New_Zealand\"                              => 343\n",
       "  \"Captain_(association_football)\"           => 325\n",
       "  \"Provinces_of_Algeria\"                     => 324\n",
       "  \"Counties_of_Hungary\"                      => 311\n",
       "  \"Regions_of_Brazil\"                        => 303\n",
       "  \"Austria\"                                  => 296\n",
       "  \"Belgium\"                                  => 295\n",
       "  \"States_of_Brazil\"                         => 275\n",
       "  \"Region_(Quebec)\"                          => 273\n",
       "  ⋮                                          => ⋮"
      ]
     },
     "execution_count": 227,
     "metadata": {},
     "output_type": "execute_result"
    }
   ],
   "source": [
    "# 英文实体频次\n",
    "en_count_obj = Dict(counter(vcat(first.(en_triples), last.(en_triples))))\n",
    "sort(en_count_obj, by=i->en_count_obj[i], rev=true)"
   ]
  },
  {
   "cell_type": "code",
   "execution_count": 229,
   "id": "9198a566-2c36-41c6-8535-8cb35579c6fe",
   "metadata": {
    "collapsed": true,
    "jupyter": {
     "outputs_hidden": true
    },
    "tags": []
   },
   "outputs": [
    {
     "data": {
      "text/plain": [
       "OrderedDict{String, Int64} with 1639 entries:\n",
       "  \"subdivisionType\" => 24072\n",
       "  \"title\"           => 11363\n",
       "  \"stadium\"         => 9072\n",
       "  \"location\"        => 8705\n",
       "  \"before\"          => 5006\n",
       "  \"after\"           => 4925\n",
       "  \"birthPlace\"      => 3433\n",
       "  \"name\"            => 2993\n",
       "  \"club\"            => 2777\n",
       "  \"predecessor\"     => 2493\n",
       "  \"team\"            => 2078\n",
       "  \"north\"           => 2005\n",
       "  \"postalCodeType\"  => 1976\n",
       "  \"south\"           => 1829\n",
       "  \"east\"            => 1819\n",
       "  \"west\"            => 1719\n",
       "  \"issue\"           => 1687\n",
       "  \"seat\"            => 1631\n",
       "  \"deathPlace\"      => 1490\n",
       "  \"studio\"          => 1480\n",
       "  \"northeast\"       => 1357\n",
       "  \"southeast\"       => 1279\n",
       "  \"blankName\"       => 1278\n",
       "  \"southwest\"       => 1252\n",
       "  \"northwest\"       => 1237\n",
       "  ⋮                 => ⋮"
      ]
     },
     "execution_count": 229,
     "metadata": {},
     "output_type": "execute_result"
    }
   ],
   "source": [
    "# 英文关系频次\n",
    "en_count_rel = Dict(counter(triple[2] for triple in en_triples))\n",
    "sort(en_count_rel, by=i->en_count_rel[i], rev=true)"
   ]
  }
 ],
 "metadata": {
  "kernelspec": {
   "display_name": "Julia 1.7.2",
   "language": "julia",
   "name": "julia-1.7"
  },
  "language_info": {
   "file_extension": ".jl",
   "mimetype": "application/julia",
   "name": "julia",
   "version": "1.7.2"
  }
 },
 "nbformat": 4,
 "nbformat_minor": 5
}
