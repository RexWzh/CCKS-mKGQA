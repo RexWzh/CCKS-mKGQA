{
 "cells": [
  {
   "cell_type": "code",
   "execution_count": 1,
   "id": "e9769bdb-c67c-4b21-9e34-45ee8ce164ec",
   "metadata": {},
   "outputs": [
    {
     "name": "stderr",
     "output_type": "stream",
     "text": [
      "\u001b[32m\u001b[1m    Updating\u001b[22m\u001b[39m registry at `~/.julia/registries/General.toml`\n",
      "\u001b[32m\u001b[1m   Resolving\u001b[22m\u001b[39m package versions...\n",
      "\u001b[32m\u001b[1m   Installed\u001b[22m\u001b[39m Languages ─ v0.4.3\n"
     ]
    },
    {
     "ename": "LoadError",
     "evalue": "InterruptException:",
     "output_type": "error",
     "traceback": [
      "InterruptException:",
      "",
      "Stacktrace:",
      "  [1] poptask(W::Base.InvasiveLinkedListSynchronized{Task})",
      "    @ Base ./task.jl:827",
      "  [2] wait()",
      "    @ Base ./task.jl:836",
      "  [3] wait(c::Base.GenericCondition{Base.Threads.SpinLock})",
      "    @ Base ./condition.jl:123",
      "  [4] wait_readnb(x::Base.PipeEndpoint, nb::Int64)",
      "    @ Base ./stream.jl:413",
      "  [5] read(stream::Base.PipeEndpoint)",
      "    @ Base ./stream.jl:876",
      "  [6] read(cmd::Cmd)",
      "    @ Base ./process.jl:417",
      "  [7] collect_artifacts(pkg_root::String; platform::Base.BinaryPlatforms.Platform)",
      "    @ Pkg.Operations /opt/julia-1.7.2/share/julia/stdlib/v1.7/Pkg/src/Operations.jl:587",
      "  [8] download_artifacts(env::Pkg.Types.EnvCache; platform::Base.BinaryPlatforms.Platform, julia_version::VersionNumber, verbose::Bool, io::IJulia.IJuliaStdio{Base.PipeEndpoint})",
      "    @ Pkg.Operations /opt/julia-1.7.2/share/julia/stdlib/v1.7/Pkg/src/Operations.jl:614",
      "  [9] add(ctx::Pkg.Types.Context, pkgs::Vector{Pkg.Types.PackageSpec}, new_git::Set{Base.UUID}; preserve::Pkg.Types.PreserveLevel, platform::Base.BinaryPlatforms.Platform)",
      "    @ Pkg.Operations /opt/julia-1.7.2/share/julia/stdlib/v1.7/Pkg/src/Operations.jl:1182",
      " [10] add(ctx::Pkg.Types.Context, pkgs::Vector{Pkg.Types.PackageSpec}; preserve::Pkg.Types.PreserveLevel, platform::Base.BinaryPlatforms.Platform, kwargs::Base.Pairs{Symbol, IJulia.IJuliaStdio{Base.PipeEndpoint}, Tuple{Symbol}, NamedTuple{(:io,), Tuple{IJulia.IJuliaStdio{Base.PipeEndpoint}}}})",
      "    @ Pkg.API /opt/julia-1.7.2/share/julia/stdlib/v1.7/Pkg/src/API.jl:268",
      " [11] add(pkgs::Vector{Pkg.Types.PackageSpec}; io::IJulia.IJuliaStdio{Base.PipeEndpoint}, kwargs::Base.Pairs{Symbol, Union{}, Tuple{}, NamedTuple{(), Tuple{}}})",
      "    @ Pkg.API /opt/julia-1.7.2/share/julia/stdlib/v1.7/Pkg/src/API.jl:149",
      " [12] add(pkgs::Vector{Pkg.Types.PackageSpec})",
      "    @ Pkg.API /opt/julia-1.7.2/share/julia/stdlib/v1.7/Pkg/src/API.jl:144",
      " [13] do_cmd!(command::Pkg.REPLMode.Command, repl::IJulia.MiniREPL)",
      "    @ Pkg.REPLMode /opt/julia-1.7.2/share/julia/stdlib/v1.7/Pkg/src/REPLMode/REPLMode.jl:407",
      " [14] do_cmd(repl::IJulia.MiniREPL, input::String; do_rethrow::Bool)",
      "    @ Pkg.REPLMode /opt/julia-1.7.2/share/julia/stdlib/v1.7/Pkg/src/REPLMode/REPLMode.jl:385",
      " [15] top-level scope",
      "    @ In[1]:1",
      " [16] eval",
      "    @ ./boot.jl:373 [inlined]",
      " [17] include_string(mapexpr::typeof(REPL.softscope), mod::Module, code::String, filename::String)",
      "    @ Base ./loading.jl:1196"
     ]
    },
    {
     "name": "stderr",
     "output_type": "stream",
     "text": [
      "ERROR: LoadError: InterruptException:\n",
      "Stacktrace:\n",
      " [1] include(fname::String)\n",
      "   @ Base.MainInclude ./client.jl:451\n",
      " [2] top-level scope\n",
      "   @ none:5\n",
      "in expression starting at /home/rex/.julia/packages/LLVMExtra_jll/mTgCB/.pkg/select_artifacts.jl:1\n",
      "in expression starting at /home/rex/.julia/packages/LLVMExtra_jll/mTgCB/.pkg/select_artifacts.jl:1\n"
     ]
    }
   ],
   "source": [
    "] add Languages"
   ]
  }
 ],
 "metadata": {
  "kernelspec": {
   "display_name": "Julia 1.7.2",
   "language": "julia",
   "name": "julia-1.7"
  },
  "language_info": {
   "file_extension": ".jl",
   "mimetype": "application/julia",
   "name": "julia",
   "version": "1.7.2"
  }
 },
 "nbformat": 4,
 "nbformat_minor": 5
}
