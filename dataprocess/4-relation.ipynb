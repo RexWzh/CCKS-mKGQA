{
 "cells": [
  {
   "cell_type": "markdown",
   "id": "773ab8fc-4169-4ab1-9f98-b61d002604e7",
   "metadata": {},
   "source": [
    "# 计算子图"
   ]
  },
  {
   "cell_type": "code",
   "execution_count": 1,
   "id": "d8d856b5-a07b-44cc-996b-6a714a8b2d58",
   "metadata": {},
   "outputs": [
    {
     "data": {
      "text/plain": [
       "isfrench (generic function with 2 methods)"
      ]
     },
     "execution_count": 1,
     "metadata": {},
     "output_type": "execute_result"
    }
   ],
   "source": [
    "include(\"../src/loaddata.jl\")"
   ]
  },
  {
   "cell_type": "code",
   "execution_count": 15,
   "id": "f0d89b2c-b633-4586-8805-85e801d1b906",
   "metadata": {
    "tags": []
   },
   "outputs": [],
   "source": [
    "# 验证集\n",
    "txts = split(strip(read(open(\"translate/valid_ques.txt\", \"r\"), String)), '\\n')\n",
    "valid_ques_ner = [split(txt, '\\t') for txt in txts]\n",
    "valid_ques = first.(valid_ques_ner)\n",
    "\n",
    "# 训练集\n",
    "txts = split(strip(read(open(\"translate/train_ques.txt\", \"r\"), String)), '\\n')\n",
    "train_ques_sols = [split(txt, '\\t') for txt in txts]\n",
    "train_ques = first.(train_ques_sols);"
   ]
  },
  {
   "cell_type": "code",
   "execution_count": 9,
   "id": "b00c6f1f-8c78-4fb1-a26b-6a794eaf2522",
   "metadata": {
    "tags": []
   },
   "outputs": [
    {
     "data": {
      "text/plain": [
       "518-element Vector{SubString{String}}:\n",
       " \"who does the origin of NER influence's name?\"\n",
       " \"what is the parent mountain of the client of NER?\"\n",
       " \"who did a job before the parent of NER?\"\n",
       " \"what is the profession of the one that is after election of NER?\"\n",
       " \"who is before the commander of NER?\"\n",
       " \"who did a job before the one that is after election of NER?\"\n",
       " \"what is spoken by the name included in the NER?\"\n",
       " \"where is the team that won NER grounded?\"\n",
       " \"who is the leader of the combatant of NER?\"\n",
       " \"what is the religion of the event happened in NER?\"\n",
       " \"what is the house of the commander of NER?\"\n",
       " \"where does the one that is after election of NER belong to?\"\n",
       " \"who is the successor of the leader of NER?\"\n",
       " ⋮\n",
       " \"do you know what is the name of\" ⋯ 52 bytes ⋯ \"ires, a wikimedia list article?\"\n",
       " \"do you know who is the head of the The head of the NER\"\n",
       " \"do you know where is the admini\" ⋯ 25 bytes ⋯ \"ovince where the NER is located\"\n",
       " \"what is the level of management\" ⋯ 32 bytes ⋯ \"ercollegiate basketball season?\"\n",
       " \"what is the Model Regulation of The province where the NER is located\"\n",
       " \"do you know what time zone is in East of NER location, a football team season?\"\n",
       " \"what is the nationality of Election after NER\"\n",
       " \"where is NER's eponymous Alma Mater\"\n",
       " \"where is the administrative center of Western NER County\"\n",
       " \"do you know who was the Election after NER before\"\n",
       " \"who are the NER eponymous affected people\"\n",
       " \"who is the predecessors of The leader of NER\""
      ]
     },
     "execution_count": 9,
     "metadata": {},
     "output_type": "execute_result"
    }
   ],
   "source": [
    "goodones = filter(in(Set(train_ques)), valid_ques)"
   ]
  },
  {
   "cell_type": "code",
   "execution_count": 21,
   "id": "cd967168-37bb-432a-a7ee-18c54ba02c8c",
   "metadata": {},
   "outputs": [
    {
     "data": {
      "text/plain": [
       "\"what is the parent mountain of the client of NER?\""
      ]
     },
     "execution_count": 21,
     "metadata": {},
     "output_type": "execute_result"
    }
   ],
   "source": [
    "goodones[2]"
   ]
  },
  {
   "cell_type": "code",
   "execution_count": 24,
   "id": "2a555c29-718f-4287-aa36-a71c34c875b3",
   "metadata": {},
   "outputs": [
    {
     "data": {
      "text/plain": [
       "4-element Vector{SubString{String}}:\n",
       " \"who did a job before the parent of NER?\"\n",
       " \"Rosario_Ferré\"\n",
       " \"parents\"\n",
       " \"after\""
      ]
     },
     "execution_count": 24,
     "metadata": {},
     "output_type": "execute_result"
    }
   ],
   "source": [
    "train_ques_sols[findfirst(==(goodones[3]), train_ques)]"
   ]
  },
  {
   "cell_type": "code",
   "execution_count": 26,
   "id": "9d95d937-ef2e-42bd-9b9c-8f9c1017d792",
   "metadata": {},
   "outputs": [
    {
     "data": {
      "text/plain": [
       "2-element Vector{SubString{String}}:\n",
       " \"who did a job before the parent of NER?\"\n",
       " \"Francis Russell, Marquess of Tavistock\""
      ]
     },
     "execution_count": 26,
     "metadata": {},
     "output_type": "execute_result"
    }
   ],
   "source": [
    "valid_ques_ner[findfirst(==(goodones[3]), valid_ques)]"
   ]
  },
  {
   "cell_type": "code",
   "execution_count": null,
   "id": "ad040323-4575-4510-a207-e9b4192826ae",
   "metadata": {},
   "outputs": [],
   "source": [
    "Francis_Russell,_Marquess_of_Tavistock\tparents\tJohn_Russell,_4th_Duke_of_Bedford\n",
    "John_Russell,_4th_Duke_of_Bedford\ttitle\tLord_Lieutenant_of_Devon"
   ]
  }
 ],
 "metadata": {
  "kernelspec": {
   "display_name": "Julia 1.7.2",
   "language": "julia",
   "name": "julia-1.7"
  },
  "language_info": {
   "file_extension": ".jl",
   "mimetype": "application/julia",
   "name": "julia",
   "version": "1.7.2"
  }
 },
 "nbformat": 4,
 "nbformat_minor": 5
}
