{
 "cells": [
  {
   "cell_type": "markdown",
   "id": "c038dde3-eadc-4f0d-a4cf-e4dee52d1dec",
   "metadata": {},
   "source": [
    "## 路径还原-模糊匹配"
   ]
  },
  {
   "cell_type": "code",
   "execution_count": 44,
   "id": "d40d03ca-75e1-4668-a674-e7def0c732e9",
   "metadata": {},
   "outputs": [
    {
     "data": {
      "text/plain": [
       "\"submit\""
      ]
     },
     "execution_count": 44,
     "metadata": {},
     "output_type": "execute_result"
    }
   ],
   "source": [
    "include(\"../src/CCKS-mKGQA.jl\")\n",
    "include(\"../src/tools/regexpr.jl\") # 正则表达\n",
    "include(\"../src/loaddata/extractdata.jl\") # 原始数据\n",
    "include(\"../src/loaddata/translatedata.jl\") # 翻译数据\n",
    "include(\"../src/tools/ettalign.jl\") # 对齐工具\n",
    "include(\"../src/tools/distance.jl\") # 距离函数\n",
    "include(\"../src/process/submitpath.jl\") # 数据提交\n",
    "include(\"../src/datatype.jl\")\n",
    "mkpath(\"submit\")"
   ]
  },
  {
   "cell_type": "code",
   "execution_count": 45,
   "id": "ded107ba-5815-4bbc-997b-248c80c08bf4",
   "metadata": {
    "tags": []
   },
   "outputs": [],
   "source": [
    "illpath = \"ILLs_official\"\n",
    "illpath = \"ILLs_4\"\n",
    "illpath = \"ILLs_3\"\n",
    "illpath = \"ILLs_wiki\"\n",
    "# illpath = \"ILLs_11\"\n",
    "# illpath = \"ILLs_12\"\n",
    "include(\"../src/loaddata/illsdata.jl\");"
   ]
  },
  {
   "cell_type": "code",
   "execution_count": 3,
   "id": "da70130e-8409-4aaa-9830-91bfbb1e9fe5",
   "metadata": {},
   "outputs": [],
   "source": [
    "mt_train_ques = replace.(lowercase.(mt_train_ques), '?' =>\"\", r\"(do|did) you know \" => \"\", r\"(.*)/ .*\" => s\"\\g<1>\");\n",
    "mt_valid_ques = replace.(lowercase.(mt_valid_ques), '?' =>\"\", r\"(do|did) you know \" => \"\", r\"(.*)/ .*\" => s\"\\g<1>\");"
   ]
  },
  {
   "cell_type": "markdown",
   "id": "3da7fd72-4230-424e-8f10-969a3ff4fdf3",
   "metadata": {
    "tags": []
   },
   "source": [
    "### 生成结果"
   ]
  },
  {
   "cell_type": "code",
   "execution_count": 51,
   "id": "d6b612a8-a62b-4616-a700-e191efa3dd8a",
   "metadata": {
    "tags": []
   },
   "outputs": [
    {
     "name": "stdout",
     "output_type": "stream",
     "text": [
      "64\t7\n",
      "34\t1\n"
     ]
    }
   ],
   "source": [
    "submit_id = \"deduct-ills11\"\n",
    "sols = split.(strip.(split(strip(read(open(\"predict/predict_data_0728.txt\", \"r\"), String)), '\\n')),'\\t')\n",
    "push!(sols[427], \"language\")\n",
    "push!(sols[526], \"language\")\n",
    "push!(sols[1283], \"language\")\n",
    "push!(sols[986], \"profession\")\n",
    "push!(sols[589], \"profession\")\n",
    "push!(sols[688], \"profession\")\n",
    "push!(sols[1194], \"education_level\")\n",
    "noans = \"<http://dbpedia.org/resource/Francis_Russell,_Marquess_of_Tavistock>#<http://dbpedia.org/property/parents>#<http://dbpedia.org/resource/John_Russell,_4th_Duke_of_Bedford>#<http://zh.dbpedia.org/resource/第四代贝德福德公爵约翰·罗素>#<http://zh.dbpedia.org/property/successor>#<http://zh.dbpedia.org/resource/丹尼尔·芬奇，第八代温奇尔西伯爵>\";\n",
    "# 返回结果\n",
    "res = Vector{String}(undef, 1500)\n",
    "fails, notgood = Int[], Int[]\n",
    "## 精确匹配\n",
    "for (i, sol) in enumerate(sols)\n",
    "    que, rels = ill_valid_ques[i], sol[3:end]\n",
    "    ner, rawner = ill_valid_ners[i], valid_ners[i]\n",
    "    # 精确路径\n",
    "    submits = precise_submit(ner, rels, illsdata)\n",
    "    isempty(submits) && (push!(fails, i);continue) # 无解\n",
    "    bettersubmits = filter(contains(rawner), submits) # 不需要实体链接\n",
    "    isempty(bettersubmits) ? push!(notgood, i) : (submits = bettersubmits)\n",
    "    res[i] = first(submits)\n",
    "end\n",
    "println(length(fails), '\\t', length(notgood))\n",
    "flush(stdout)\n",
    "res[fails] .= noans\n",
    "yestoday = copy(res)\n",
    "## 模糊匹配\n",
    "vaguefails, vague_inds, vague_res, vaguenotgood = Int[], Int[], String[], Int[]\n",
    "for (i, sol) in enumerate(sols)\n",
    "    (i ∉ fails || length(sol) ≤ 3) && continue\n",
    "    que, rels = ill_valid_ques[i], sol[3:end]\n",
    "    ner, rawner = ill_valid_ners[i], valid_ners[i]\n",
    "    # 精确路径\n",
    "    submits = vague_submit(ner, rels, illsdata)\n",
    "    isempty(submits) && (push!(vaguefails, i);continue) # 无解\n",
    "    bettersubmits = filter(contains(rawner), submits) # 不需要实体链接\n",
    "    isempty(bettersubmits) ? push!(vaguenotgood, i) : (submits = bettersubmits)\n",
    "    push!(vague_res, first(submits))\n",
    "    push!(vague_inds, i)\n",
    "    res[i] = first(submits)\n",
    "end\n",
    "println(length(fails) - length(vague_inds), '\\t', length(vaguenotgood))"
   ]
  },
  {
   "cell_type": "code",
   "execution_count": 49,
   "id": "e62dec3e-c39e-4de1-96fb-99b6d6f6035f",
   "metadata": {},
   "outputs": [],
   "source": [
    "open(\"fails.txt\", \"w\") do io \n",
    "    for i in fails\n",
    "        println(io, i, '\\t', mt_valid_ques[i], '\\t', join(sols[i][3:end], '\\t'))\n",
    "    end\n",
    "end"
   ]
  },
  {
   "cell_type": "markdown",
   "id": "e7872552-e730-4711-9ff8-8eb12620a35a",
   "metadata": {
    "tags": []
   },
   "source": [
    "### 问题纠正"
   ]
  },
  {
   "cell_type": "code",
   "execution_count": 78,
   "id": "8381750f-0568-4c08-8984-da2392442253",
   "metadata": {},
   "outputs": [
    {
     "name": "stdout",
     "output_type": "stream",
     "text": [
      "BEST_(After_School_album)的创作者做什么职业的\n",
      "what do the creators of NER do?\n",
      "title\tnote\n"
     ]
    }
   ],
   "source": [
    "ind = 193\n",
    "println(valid_ques[ind])\n",
    "println(mt_valid_ques[ind])\n",
    "println(join(sols[ind][3:end], '\\t'))"
   ]
  },
  {
   "cell_type": "code",
   "execution_count": 53,
   "id": "35980391-4089-49a3-bacf-4bbe7a29892c",
   "metadata": {
    "tags": []
   },
   "outputs": [
    {
     "name": "stdout",
     "output_type": "stream",
     "text": [
      "precise 392\n",
      "precise 213\n",
      "precise 1085\n",
      "precise 503\n",
      "precise 1428\n",
      "precise 1465\n",
      "precise 480\n",
      "precise 93\n",
      "precise 231\n"
     ]
    }
   ],
   "source": [
    "rels = Dict(\n",
    "    83  => (\"chieftown\", \"canton\"),\n",
    "    193 => (\"chronology\", \"profession\"),\n",
    "    213 => (\"title\", \"lyrics\", \"profession\"),\n",
    "    231 => (\"regent\", \"issue\", \"title\"),\n",
    "    93 => (\"club\", \"captain\", \"countryofbirth\"),\n",
    "    234 => (\"teams\", \"founder\", \"birth_place\"),\n",
    "    392 => (\"lyrics\", \"before\", \"nationality\"),\n",
    "    480 => (\"club\", \"captain\", \"countryofbirth\"),\n",
    "    421 => (\"chronology\", \"profession\"),\n",
    "    503 => (\"title\", \"first\", \"awards\"),\n",
    "    705 => (\"ship_namesake\", \"eponym\", \"issue\"),\n",
    "    858 => (\"after\", \"producer\", \"club\"),\n",
    "    1026 => (\"club\", \"captain\", \"profession\"),\n",
    "    1058 => (\"parent\", \"east\", \"timezone\"),\n",
    "    1085 => (\"title\", \"first\", \"battles\"),\n",
    "    1343 => (\"s\", \"timezone\"),\n",
    "    # 1421 => (\"sponsor\", \"starring\"),\n",
    "    1434 => (\"chieftown\", \"canton\"),\n",
    "    1465 => (\"city\", \"named_for\", \"combatant\"),\n",
    "    1428 => (\"lyrics\", \"before\", \"profession\")\n",
    ")\n",
    "for (ind, rel) in rels\n",
    "    subm = precise_submit(mt_valid_ques_ner[ind][2], rel, illsdata)\n",
    "    isempty(subm) ? (subm = vague_submit(mt_valid_ques_ner[ind][2], rel, illsdata)) : println(\"precise $ind\")\n",
    "    res[ind] = subm[1]\n",
    "end"
   ]
  },
  {
   "cell_type": "code",
   "execution_count": 54,
   "id": "6443cb9a-dab2-46af-a3ba-9558958b4bbc",
   "metadata": {},
   "outputs": [],
   "source": [
    "submit_io = open(\"submit/submit_$submit_id.txt\", \"w\")\n",
    "demo_io = open(\"submit_test/demo_$submit_id.txt\", \"w\")\n",
    "println(submit_io, \"id\\tans_path\")\n",
    "for (i, sol) in enumerate(res)\n",
    "    println(submit_io, i-1, '\\t', sol)\n",
    "    info = triple_info.(partition(split(sol, '#'), 3))\n",
    "    sol == noans && continue\n",
    "    println(demo_io, i-1, '\\t', join(mt_valid_ques_ner[i], '\\t'))\n",
    "    println.(Ref(demo_io), info)\n",
    "    println(demo_io)\n",
    "end\n",
    "close(submit_io)\n",
    "close(demo_io)"
   ]
  },
  {
   "cell_type": "markdown",
   "id": "c25a4d94-8960-4bc7-a17d-2c72e5e3287f",
   "metadata": {
    "jp-MarkdownHeadingCollapsed": true,
    "tags": []
   },
   "source": [
    "### 问题纠正"
   ]
  },
  {
   "cell_type": "code",
   "execution_count": null,
   "id": "75299254-2c54-4b34-996c-2c8157e8df8c",
   "metadata": {},
   "outputs": [],
   "source": [
    "\"provincial capital of a person or thing\" => \"seat\""
   ]
  },
  {
   "cell_type": "code",
   "execution_count": 48,
   "id": "4a923a9f-5496-48b3-97bb-41329c61c710",
   "metadata": {},
   "outputs": [],
   "source": [
    "dict_precise_ques = DefaultDict{String, Vector{Tuple}}(Vector{Tuple})\n",
    "for (que, rels) in zip(mt_train_ques, mt_train_rels)\n",
    "    que = replace(lowercase(que), '?' => \"\")\n",
    "    Tuple(rels) ∈ dict_precise_ques[que] && continue\n",
    "    push!(dict_precise_ques[que], Tuple(rels))\n",
    "end"
   ]
  },
  {
   "cell_type": "code",
   "execution_count": 108,
   "id": "470d2143-c558-4d2c-b692-b932e68b0f5b",
   "metadata": {},
   "outputs": [
    {
     "data": {
      "text/plain": [
       "true"
      ]
     },
     "execution_count": 108,
     "metadata": {},
     "output_type": "execute_result"
    }
   ],
   "source": [
    "haskey(dict_precise_ques, mt_valid_ques[78])"
   ]
  },
  {
   "cell_type": "code",
   "execution_count": 50,
   "id": "2febe745-ef2e-4319-aace-bdec293fd738",
   "metadata": {},
   "outputs": [
    {
     "name": "stdout",
     "output_type": "stream",
     "text": [
      "842\n"
     ]
    }
   ],
   "source": [
    "validfails = filter(ind -> haskey(dict_precise_ques, mt_valid_ques[ind]), fails)\n",
    "for ind in validfails\n",
    "    que, ner = mt_valid_ques[ind], mt_valid_ques_ner[ind][2]\n",
    "    isempty(precise_submit(ner, dict_precise_ques[que][1], illsdata)) || println(ind)\n",
    "end"
   ]
  },
  {
   "cell_type": "code",
   "execution_count": null,
   "id": "10a805d6-2d58-4830-9382-dd66289acebe",
   "metadata": {},
   "outputs": [],
   "source": [
    "dict_precise_ques"
   ]
  },
  {
   "cell_type": "code",
   "execution_count": 34,
   "id": "d714b438-0209-4927-a4a5-eb470375b87c",
   "metadata": {
    "collapsed": true,
    "jupyter": {
     "outputs_hidden": true
    },
    "tags": []
   },
   "outputs": [
    {
     "name": "stdout",
     "output_type": "stream",
     "text": [
      "true\n"
     ]
    },
    {
     "data": {
      "text/plain": [
       "6-element Vector{String}:\n",
       " \"Ride_Me_(album)的头衔的作词者的语言是什么\"\n",
       " \"Savez-vous quelle langue Paroles de Le titre de Ride_Me_(album) utilise\"\n",
       " \"Savez-vous quelle langue Paroles de Le titre de Ride_Me_(album) utilise\"\n",
       " \"Ride_Me_(album)的头衔的作词者做什么职业的\"\n",
       " \"what is the job of the lyrics of the title of Ride_Me_(album)?\"\n",
       " \"where is the lyrics of the title of Ride_Me_(album) educated?\""
      ]
     },
     "execution_count": 34,
     "metadata": {},
     "output_type": "execute_result"
    }
   ],
   "source": [
    "# ride me\n",
    "list1 = [427, 526, 986, 688, 1194]\n",
    "println(all(in(vaguefails), list1))\n",
    "pushfirst!(list1, 317)\n",
    "valid_ques[list1]"
   ]
  },
  {
   "cell_type": "code",
   "execution_count": 45,
   "id": "e1cc0f0a-29df-466d-830d-557e2a07a9bd",
   "metadata": {},
   "outputs": [
    {
     "data": {
      "text/plain": [
       "1-element Vector{Tuple{String, String}}:\n",
       " (\"important positions\", \"office\")"
      ]
     },
     "execution_count": 45,
     "metadata": {},
     "output_type": "execute_result"
    }
   ],
   "source": [
    "dicts = readtuples(\"analyse/dict_men2rel_tmp.txt\"; size=2)\n",
    "push!(dicts, (\"important positions\", \"office\"))\n",
    "filter(i->i[1]==\"important positions\", dicts)"
   ]
  },
  {
   "cell_type": "markdown",
   "id": "4da68e3a-c7b8-4dd1-bdbe-26cd548b7c64",
   "metadata": {},
   "source": [
    "### 数据对比"
   ]
  },
  {
   "cell_type": "code",
   "execution_count": 56,
   "id": "0d948f7e-9b03-4eda-b51b-b62363813b8d",
   "metadata": {},
   "outputs": [
    {
     "name": "stdout",
     "output_type": "stream",
     "text": [
      "数据差异 260, ills3 新解数 2\n"
     ]
    }
   ],
   "source": [
    "# 数据比对\n",
    "cmp = open(\"submit_test/compare_wiki_ills3.txt\", \"w\")\n",
    "i = j = 0\n",
    "name1, name2 = \"wiki\", \"ills3\"\n",
    "for (k, que, ner, res1, res2) in zip(1:1500, mt_valid_ques, valid_ners, wiki, ills3)\n",
    "    res1 == res2 && continue\n",
    "    println(cmp, k, '\\t', que, '\\t', ner)\n",
    "    if res1 == noans\n",
    "        println(cmp, \"$name1\\nNONE\\n$name2\")\n",
    "        println.(Ref(cmp), triple_info.(partition(split(res2, '#'), 3)))\n",
    "        j += 1\n",
    "    elseif res2 == noans\n",
    "        println(cmp, \"$name1\")\n",
    "        println.(Ref(cmp), triple_info.(partition(split(res1, '#'), 3)))\n",
    "        println(cmp, \"$name2\\nNONE\")\n",
    "    else\n",
    "        println(cmp, \"$name1\")\n",
    "        println.(Ref(cmp), triple_info.(partition(split(res1, '#'), 3)))\n",
    "        println(cmp, \"$name2\")\n",
    "        println.(Ref(cmp), triple_info.(partition(split(res2, '#'), 3)))\n",
    "    end\n",
    "    println(cmp)\n",
    "    i += 1\n",
    "end\n",
    "close(cmp)\n",
    "println(\"数据差异 $i, $name2 新解数 $j\")"
   ]
  },
  {
   "cell_type": "code",
   "execution_count": null,
   "id": "f29d287a-14eb-4a7d-a9d2-1260b74a977f",
   "metadata": {},
   "outputs": [],
   "source": [
    "453\n",
    "257\n",
    "260"
   ]
  },
  {
   "cell_type": "code",
   "execution_count": 45,
   "id": "32ebc9f9-2638-4d8b-9763-dd9b04073b5a",
   "metadata": {},
   "outputs": [
    {
     "data": {
      "text/plain": [
       "0.8"
      ]
     },
     "execution_count": 45,
     "metadata": {},
     "output_type": "execute_result"
    }
   ],
   "source": [
    "(1500 - 300)/1500"
   ]
  }
 ],
 "metadata": {
  "kernelspec": {
   "display_name": "Julia 1.7.2",
   "language": "julia",
   "name": "julia-1.7"
  },
  "language_info": {
   "file_extension": ".jl",
   "mimetype": "application/julia",
   "name": "julia",
   "version": "1.7.2"
  }
 },
 "nbformat": 4,
 "nbformat_minor": 5
}
