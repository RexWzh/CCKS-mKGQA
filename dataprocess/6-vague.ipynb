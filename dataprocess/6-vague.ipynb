{
 "cells": [
  {
   "cell_type": "markdown",
   "id": "c038dde3-eadc-4f0d-a4cf-e4dee52d1dec",
   "metadata": {},
   "source": [
    "## 路径还原-模糊匹配"
   ]
  },
  {
   "cell_type": "code",
   "execution_count": 1,
   "id": "d40d03ca-75e1-4668-a674-e7def0c732e9",
   "metadata": {},
   "outputs": [
    {
     "data": {
      "text/plain": [
       "\"submit\""
      ]
     },
     "execution_count": 1,
     "metadata": {},
     "output_type": "execute_result"
    }
   ],
   "source": [
    "include(\"../src/CCKS-mKGQA.jl\")\n",
    "include(\"../src/tools/regexpr.jl\") # 正则表达\n",
    "include(\"../src/loaddata/extractdata.jl\") # 原始数据\n",
    "include(\"../src/loaddata/translatedata.jl\") # 翻译数据\n",
    "include(\"../src/tools/ettalign.jl\") # 对齐工具\n",
    "include(\"../src/tools/distance.jl\") # 距离函数\n",
    "include(\"../src/process/submitpath.jl\") # 数据提交\n",
    "include(\"../src/datatype.jl\")\n",
    "mkpath(\"submit\")"
   ]
  },
  {
   "cell_type": "code",
   "execution_count": 78,
   "id": "ded107ba-5815-4bbc-997b-248c80c08bf4",
   "metadata": {
    "tags": []
   },
   "outputs": [],
   "source": [
    "illpath = \"ILLs_official\"\n",
    "include(\"../src/loaddata/illsdata.jl\");"
   ]
  },
  {
   "cell_type": "markdown",
   "id": "3da7fd72-4230-424e-8f10-969a3ff4fdf3",
   "metadata": {
    "tags": []
   },
   "source": [
    "### 生成结果"
   ]
  },
  {
   "cell_type": "code",
   "execution_count": 29,
   "id": "ce91e2d3-4c3c-4654-8981-b4dc1331193c",
   "metadata": {},
   "outputs": [
    {
     "data": {
      "text/plain": [
       "2-element Vector{String}:\n",
       " \"<http://dbpedia.org/resource/Es\" ⋯ 221 bytes ⋯ \"dbpedia.org/resource/爱沙尼亚共和国党>\"\n",
       " \"<http://dbpedia.org/resource/Es\" ⋯ 221 bytes ⋯ \"dbpedia.org/resource/祖國與共和國聯盟>\""
      ]
     },
     "execution_count": 29,
     "metadata": {},
     "output_type": "execute_result"
    }
   ],
   "source": [
    "tmp = precise_submit(\"Estonian_election_election,_2003\", [\"after_election\", \"party\"], illsdata)\n",
    "# println.(triple_info.(partition(split(tmp, '#'), 3)))"
   ]
  },
  {
   "cell_type": "code",
   "execution_count": 92,
   "id": "33ab4e99-975a-4b29-9b9a-052ab3cd656d",
   "metadata": {},
   "outputs": [
    {
     "name": "stdout",
     "output_type": "stream",
     "text": [
      "\"ILLs_official\"\t9802\n",
      "\"ILLs_1\"\t23998\n",
      "\"ILLs_2\"\t18441\n",
      "\"ILLs_3\"\t37119\n",
      "\"ILLs_4\"\t62259\n",
      "\"ILLs_5\"\t13132\n",
      "\"ILLs_6\"\t19828\n",
      "\"ILLs_7\"\t52388\n",
      "\"ILLs_8\"\t50565\n",
      "\"ILLs_wiki\"\t29655\n"
     ]
    }
   ],
   "source": [
    "illpath = \"ILLs_official\"\n",
    "include(\"../src/loaddata/illsdata.jl\")\n",
    "println(illsdata, '\\t', length(illsdata.mtILLs))\n",
    "for i in 1:8\n",
    "    illpath = \"ILLs_$i\"\n",
    "    include(\"../src/loaddata/illsdata.jl\")\n",
    "    println(illsdata, '\\t', length(illsdata.mtILLs))\n",
    "    flush(stdout)\n",
    "end\n",
    "illpath = \"ILLs_wiki\"\n",
    "include(\"../src/loaddata/illsdata.jl\")\n",
    "println(illsdata, '\\t', length(illsdata.mtILLs))"
   ]
  },
  {
   "cell_type": "code",
   "execution_count": 60,
   "id": "d6b612a8-a62b-4616-a700-e191efa3dd8a",
   "metadata": {
    "tags": []
   },
   "outputs": [
    {
     "name": "stdout",
     "output_type": "stream",
     "text": [
      "286\t15\n",
      "182\t7\n"
     ]
    }
   ],
   "source": [
    "submit_id = \"deduct-ills4\"\n",
    "sols = split.(strip.(split(strip(read(open(\"predict/predict_data_bertsim.txt\", \"r\"), String)), '\\n')),'\\t')\n",
    "noans = \"<http://dbpedia.org/resource/Francis_Russell,_Marquess_of_Tavistock>#<http://dbpedia.org/property/parents>#<http://dbpedia.org/resource/John_Russell,_4th_Duke_of_Bedford>#<http://zh.dbpedia.org/resource/第四代贝德福德公爵约翰·罗素>#<http://zh.dbpedia.org/property/successor>#<http://zh.dbpedia.org/resource/丹尼尔·芬奇，第八代温奇尔西伯爵>\";\n",
    "# 返回结果\n",
    "res = Vector{String}(undef, 1500)\n",
    "fails, notgood = Int[], Int[]\n",
    "## 精确匹配\n",
    "for (i, sol) in enumerate(sols)\n",
    "    que, rels = ill_valid_ques[i], sol[3:end]\n",
    "    ner, rawner = ill_valid_ners[i], valid_ners[i]\n",
    "    # 精确路径\n",
    "    submits = precise_submit(ner, rels, illsdata)\n",
    "    isempty(submits) && (push!(fails, i);continue) # 无解\n",
    "    bettersubmits = filter(contains(rawner), submits) # 不需要实体链接\n",
    "    isempty(bettersubmits) ? push!(notgood, i) : (submits = bettersubmits)\n",
    "    res[i] = first(submits)\n",
    "end\n",
    "println(length(fails), '\\t', length(notgood))\n",
    "flush(stdout)\n",
    "res[fails] .= noans\n",
    "yestoday = copy(res)\n",
    "## 模糊匹配\n",
    "vaguefails, vague_inds, vague_res, vaguenotgood = Int[], Int[], String[], Int[]\n",
    "for (i, sol) in enumerate(sols)\n",
    "    (i ∉ fails || length(sol) ≤ 3) && continue\n",
    "    que, rels = ill_valid_ques[i], sol[3:end]\n",
    "    ner, rawner = ill_valid_ners[i], valid_ners[i]\n",
    "    # 精确路径\n",
    "    submits = vague_submit(ner, rels, illsdata)\n",
    "    isempty(submits) && (push!(vaguefails, i);continue) # 无解\n",
    "    bettersubmits = filter(contains(rawner), submits) # 不需要实体链接\n",
    "    isempty(bettersubmits) ? push!(vaguenotgood, i) : (submits = bettersubmits)\n",
    "    push!(vague_res, first(submits))\n",
    "    push!(vague_inds, i)\n",
    "    res[i] = first(submits)\n",
    "end\n",
    "println(length(fails) - length(vague_inds), '\\t', length(vaguenotgood))"
   ]
  },
  {
   "cell_type": "code",
   "execution_count": 42,
   "id": "2f19ee9a-b872-4041-b91f-942f0902cf07",
   "metadata": {
    "collapsed": true,
    "jupyter": {
     "outputs_hidden": true
    },
    "tags": []
   },
   "outputs": [
    {
     "data": {
      "text/plain": [
       "1500-element Vector{String}:\n",
       " \"<http://dbpedia.org/resource/Cé\" ⋯ 199 bytes ⋯ \".dbpedia.org/resource/阿希尔·戈尔基>\"\n",
       " \"<http://dbpedia.org/resource/20\" ⋯ 406 bytes ⋯ \"esource/Duchesne_County,_Utah>\"\n",
       " \"<http://dbpedia.org/resource/He\" ⋯ 314 bytes ⋯ \"://zh.dbpedia.org/resource/歌手>\"\n",
       " \"<http://dbpedia.org/resource/UE\" ⋯ 349 bytes ⋯ \"://zh.dbpedia.org/resource/巴黎>\"\n",
       " \"<http://dbpedia.org/resource/Ta\" ⋯ 214 bytes ⋯ \"//zh.dbpedia.org/resource/梁肅戎>\"\n",
       " \"<http://dbpedia.org/resource/Un\" ⋯ 246 bytes ⋯ \"zh.dbpedia.org/resource/迪克·切尼>\"\n",
       " \"<http://dbpedia.org/resource/Ho\" ⋯ 204 bytes ⋯ \"://zh.dbpedia.org/resource/歌手>\"\n",
       " \"<http://dbpedia.org/resource/Fr\" ⋯ 216 bytes ⋯ \"h.dbpedia.org/resource/欧根·斯普勒>\"\n",
       " \"<http://dbpedia.org/resource/20\" ⋯ 377 bytes ⋯ \"rg/resource/Zosimades_Stadium>\"\n",
       " \"<http://dbpedia.org/resource/Ci\" ⋯ 243 bytes ⋯ \".dbpedia.org/resource/捷克共和国总统>\"\n",
       " \"<http://dbpedia.org/resource/El\" ⋯ 253 bytes ⋯ \"bpedia.org/resource/香港立法會議員列表>\"\n",
       " \"<http://dbpedia.org/resource/Es\" ⋯ 221 bytes ⋯ \"dbpedia.org/resource/爱沙尼亚共和国党>\"\n",
       " \"<http://dbpedia.org/resource/Fr\" ⋯ 231 bytes ⋯ \"pedia.org/resource/腓力二世_(马其顿)>\"\n",
       " ⋮\n",
       " \"<http://dbpedia.org/resource/Vo\" ⋯ 200 bytes ⋯ \"//zh.dbpedia.org/resource/物理學>\"\n",
       " \"<http://dbpedia.org/resource/Fr\" ⋯ 209 bytes ⋯ \"//zh.dbpedia.org/resource/里沃利>\"\n",
       " \"<http://dbpedia.org/resource/Fr\" ⋯ 226 bytes ⋯ \"h.dbpedia.org/resource/欧根·斯普勒>\"\n",
       " \"<http://dbpedia.org/resource/It\" ⋯ 206 bytes ⋯ \"//zh.dbpedia.org/resource/倫巴底>\"\n",
       " \"<http://dbpedia.org/resource/St\" ⋯ 212 bytes ⋯ \"://zh.dbpedia.org/resource/歌手>\"\n",
       " \"<http://dbpedia.org/resource/MS\" ⋯ 206 bytes ⋯ \"://zh.dbpedia.org/resource/罗马>\"\n",
       " \"<http://dbpedia.org/resource/Is\" ⋯ 224 bytes ⋯ \"zh.dbpedia.org/resource/利庫德集團>\"\n",
       " \"<http://dbpedia.org/resource/Na\" ⋯ 244 bytes ⋯ \"h.dbpedia.org/resource/安华依不拉欣>\"\n",
       " \"<http://dbpedia.org/resource/20\" ⋯ 380 bytes ⋯ \".dbpedia.org/resource/北京工人体育场>\"\n",
       " \"<http://dbpedia.org/resource/Re\" ⋯ 350 bytes ⋯ \".dbpedia.org/resource/自民党.自由党>\"\n",
       " \"<http://dbpedia.org/resource/Fr\" ⋯ 235 bytes ⋯ \"zh.dbpedia.org/resource/法国众议院>\"\n",
       " \"<http://dbpedia.org/resource/Ba\" ⋯ 192 bytes ⋯ \"://zh.dbpedia.org/resource/修士>\""
      ]
     },
     "execution_count": 42,
     "metadata": {},
     "output_type": "execute_result"
    }
   ],
   "source": [
    "res[427] = res[526] = res[317]\n",
    "res[986] = res[688] = precise_submit(\"Ride_Me_(album)\", [\"title\", \"lyrics\", \"profession\"], illsdata)[1]\n",
    "res[1194] = precise_submit(\"Ride_Me_(album)\", [\"title\", \"lyrics\", \"education_level\"], illsdata)[1]\n",
    "today = res"
   ]
  },
  {
   "cell_type": "code",
   "execution_count": 43,
   "id": "6443cb9a-dab2-46af-a3ba-9558958b4bbc",
   "metadata": {},
   "outputs": [],
   "source": [
    "submit_io = open(\"submit/submit_$submit_id.txt\", \"w\")\n",
    "demo_io = open(\"submit_test/demo_$submit_id.txt\", \"w\")\n",
    "println(submit_io, \"id\\tans_path\")\n",
    "for (i, sol) in enumerate(res)\n",
    "    println(submit_io, i-1, '\\t', sol)\n",
    "    info = triple_info.(partition(split(sol, '#'), 3))\n",
    "    sol == noans && continue\n",
    "    println(demo_io, i-1, '\\t', join(mt_valid_ques_ner[i], '\\t'))\n",
    "    println.(Ref(demo_io), info)\n",
    "    println(demo_io)\n",
    "end\n",
    "close(submit_io)\n",
    "close(demo_io)"
   ]
  },
  {
   "cell_type": "code",
   "execution_count": 41,
   "id": "9e79d25b-f918-468a-b2fa-cc57d2f938be",
   "metadata": {},
   "outputs": [
    {
     "name": "stdout",
     "output_type": "stream",
     "text": [
      "317|what is the language of the lyricist of the title of NER|[\"title\", \"lyrics\", \"language\"]\n",
      "427|do You Know what Language Lyrics Of NER's Title Is Using|[\"title\", \"lyrics\"]\n",
      "526|do You Know what Language Lyrics Of NER's Title Is Using|[\"title\", \"lyrics\"]\n",
      "688|what is the job of the lyrics of the title of NER?|[\"title\", \"lyrics\"]\n",
      "986|what does a lyricist with the title of NER do?|[\"title\", \"lyrics\"]\n",
      "1194|where is the lyrics of the title of NER educated?|[\"title\", \"lyrics\"]\n"
     ]
    }
   ],
   "source": [
    "for ind in findall(i->i[2]==\"Ride_Me_(album)\", valid_ques_ner)\n",
    "    println(ind, '|', mt_valid_ques[ind], '|', String.(sols[ind][3:end]))\n",
    "end"
   ]
  },
  {
   "cell_type": "markdown",
   "id": "c25a4d94-8960-4bc7-a17d-2c72e5e3287f",
   "metadata": {},
   "source": [
    "### 数据分析"
   ]
  },
  {
   "cell_type": "code",
   "execution_count": 44,
   "id": "0d948f7e-9b03-4eda-b51b-b62363813b8d",
   "metadata": {},
   "outputs": [
    {
     "name": "stdout",
     "output_type": "stream",
     "text": [
      "数据差异 34, After 新解数 34\n"
     ]
    }
   ],
   "source": [
    "# 数据比对\n",
    "cmp = open(\"submit_test/compare_yes_tod.txt\", \"w\")\n",
    "i = j = 0\n",
    "name1, name2 = \"Before\", \"After\"\n",
    "for (k, que, ner, res1, res2) in zip(1:1500, mt_valid_ques, valid_ners, yestoday, today)\n",
    "    res1 == res2 && continue\n",
    "    println(cmp, k, '\\t', que, '\\t', ner)\n",
    "    if res1 == noans\n",
    "        println(cmp, \"$name1\\nNONE\\n$name2\")\n",
    "        println.(Ref(cmp), triple_info.(partition(split(res2, '#'), 3)))\n",
    "        j += 1\n",
    "    elseif res2 == noans\n",
    "        println(cmp, \"$name1\")\n",
    "        println.(Ref(cmp), triple_info.(partition(split(res1, '#'), 3)))\n",
    "        println(cmp, \"$name2\\nNONE\")\n",
    "    else\n",
    "        println(cmp, \"$name1\")\n",
    "        println.(Ref(cmp), triple_info.(partition(split(res1, '#'), 3)))\n",
    "        println(cmp, \"$name2\")\n",
    "        println.(Ref(cmp), triple_info.(partition(split(res2, '#'), 3)))\n",
    "    end\n",
    "    println(cmp)\n",
    "    i += 1\n",
    "end\n",
    "close(cmp)\n",
    "println(\"数据差异 $i, $name2 新解数 $j\")"
   ]
  }
 ],
 "metadata": {
  "kernelspec": {
   "display_name": "Julia 1.7.2",
   "language": "julia",
   "name": "julia-1.7"
  },
  "language_info": {
   "file_extension": ".jl",
   "mimetype": "application/julia",
   "name": "julia",
   "version": "1.7.2"
  }
 },
 "nbformat": 4,
 "nbformat_minor": 5
}
