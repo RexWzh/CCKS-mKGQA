{
 "cells": [
  {
   "cell_type": "markdown",
   "id": "7c6936c3-6c27-44ae-992f-66c6b6d32368",
   "metadata": {},
   "source": [
    "### 优化问题"
   ]
  },
  {
   "cell_type": "code",
   "execution_count": 38,
   "id": "fa726a93-75ae-480c-992a-cf6c7793651f",
   "metadata": {
    "tags": []
   },
   "outputs": [
    {
     "data": {
      "text/plain": [
       "\"refine\""
      ]
     },
     "execution_count": 38,
     "metadata": {},
     "output_type": "execute_result"
    }
   ],
   "source": [
    "include(\"../src/translatedata.jl\")\n",
    "mkpath(\"refine\")"
   ]
  },
  {
   "cell_type": "code",
   "execution_count": 37,
   "id": "c56d18cc-b699-4962-a229-b3fcdf20d46e",
   "metadata": {},
   "outputs": [
    {
     "data": {
      "text/plain": [
       "refine_que (generic function with 1 method)"
      ]
     },
     "execution_count": 37,
     "metadata": {},
     "output_type": "execute_result"
    }
   ],
   "source": [
    "function refine_que(que)\n",
    "    ',' ∈ que || return que\n",
    "    parts = split(que, ',')\n",
    "    strip(parts[2])[1] == 'a' || return que\n",
    "    join(parts[[1,3:end...]])\n",
    "end"
   ]
  },
  {
   "cell_type": "code",
   "execution_count": 40,
   "id": "b45f8582-9630-4a2d-9375-9a1e271800a9",
   "metadata": {},
   "outputs": [],
   "source": [
    "open(\"refine/train_ques.txt\", \"w\") do io\n",
    "    for sols in train_ques_sols\n",
    "        que = refine_que(first(sols))\n",
    "        println(io, que,'\\t', join(sols[2:end], '\\t'))\n",
    "    end\n",
    "end"
   ]
  },
  {
   "cell_type": "code",
   "execution_count": 24,
   "id": "56408241-0e33-4ff5-8f54-f76647453b73",
   "metadata": {
    "collapsed": true,
    "jupyter": {
     "outputs_hidden": true
    },
    "tags": []
   },
   "outputs": [
    {
     "data": {
      "text/plain": [
       "4272-element Vector{String}:\n",
       " \"which format does the cause of \" ⋯ 40 bytes ⋯ \"during world war ii, belong to?\"\n",
       " \"which mountain range does the c\" ⋯ 17 bytes ⋯ \"kyscraper in london, belong to?\"\n",
       " \"what is the official language o\" ⋯ 20 bytes ⋯ \"s affected by NER, an erdbeben?\"\n",
       " \"who leads the country that is a\" ⋯ 70 bytes ⋯ \"south coasts of anatolia (262)?\"\n",
       " \"who gave birth to the parent of NER, a greek mythological figure?\"\n",
       " \"where is the client of NER, a palace in prague, czech republic, born?\"\n",
       " \"where is the client of NER, a villa, born?\"\n",
       " \"who makes the law of the combatant of NER, a battle?\"\n",
       " \"what is the legislature of the combatant of NER, a battle?\"\n",
       " \"which family does the car that \" ⋯ 33 bytes ⋯ \"ablet, is related to belong to?\"\n",
       " \"what lies on the west of the ci\" ⋯ 58 bytes ⋯ \" district council of hong kong?\"\n",
       " \"who takes the place of the father of NER, a south korean rapper?\"\n",
       " \"what lies on the northeast of t\" ⋯ 17 bytes ⋯ \"s affected by NER, an erdbeben?\"\n",
       " ⋮\n",
       " \"do you know what is the name of\" ⋯ 59 bytes ⋯ \"th of NER, an ice hockey coach?\"\n",
       " \"who will be the front of the st\" ⋯ 30 bytes ⋯ \", a football team season, next?\"\n",
       " \"do you know what is the name of\" ⋯ 62 bytes ⋯ \"ires, a wikimedia list article?\"\n",
       " \"do you know what is the name of\" ⋯ 78 bytes ⋯ \"ican college basketball season?\"\n",
       " \"which party belongs Client of The title of NER, a city in laos?\"\n",
       " \"do you know what is the success\" ⋯ 26 bytes ⋯ \"ion of NER, a king of burgundy?\"\n",
       " \"what is the dynasty to which Hu\" ⋯ 22 bytes ⋯ \"n, a king of austrasia belongs?\"\n",
       " \"do you know who is the heir to \" ⋯ 17 bytes ⋯ \"ssor, a wikimedia list article?\"\n",
       " \"where is the arrondissement of \" ⋯ 62 bytes ⋯ \"ench association football club?\"\n",
       " \"do you know what is the managem\" ⋯ 63 bytes ⋯ \" army medal of honor recipient?\"\n",
       " \"what is the branch of Client of The title of NER, an ira member?\"\n",
       " \"what is the division type of Na\" ⋯ 23 bytes ⋯ \" NER, an ecuadorian footballer?\""
      ]
     },
     "execution_count": 24,
     "metadata": {},
     "output_type": "execute_result"
    }
   ],
   "source": [
    "data = filter(i->',' ∈ i, train_ques)"
   ]
  },
  {
   "cell_type": "code",
   "execution_count": 17,
   "id": "d8c69241-75ee-41f0-99d1-ce0fc3baa9a6",
   "metadata": {},
   "outputs": [
    {
     "data": {
      "text/plain": [
       "5-element Vector{String}:\n",
       " \"what is the title leader of the bay that NER is famous for?\"\n",
       " \"what is the logo of the car that NER is related to?\"\n",
       " \"which format does the cause of \" ⋯ 40 bytes ⋯ \"during world war ii, belong to?\"\n",
       " \"what is the parent mountain of the client of NER?\"\n",
       " \"which mountain range does the client of NER belong to?\""
      ]
     },
     "execution_count": 17,
     "metadata": {},
     "output_type": "execute_result"
    }
   ],
   "source": [
    "train_ques[[1,2, 3:5...]]"
   ]
  },
  {
   "cell_type": "code",
   "execution_count": 31,
   "id": "479e6af5-1c2d-4598-801e-d06ea17039cc",
   "metadata": {},
   "outputs": [
    {
     "data": {
      "text/plain": [
       "5-element Vector{Int64}:\n",
       "  1\n",
       "  7\n",
       "  8\n",
       "  9\n",
       " 10"
      ]
     },
     "execution_count": 31,
     "metadata": {},
     "output_type": "execute_result"
    }
   ],
   "source": [
    "a[[1,7:end...]]"
   ]
  },
  {
   "cell_type": "code",
   "execution_count": 36,
   "id": "9f6ac062-466d-4718-bcb5-ab62368b391f",
   "metadata": {},
   "outputs": [
    {
     "data": {
      "text/plain": [
       "\"which mountain range does the client of NER, a skyscraper in london, belong to?\""
      ]
     },
     "execution_count": 36,
     "metadata": {},
     "output_type": "execute_result"
    }
   ],
   "source": [
    "data[2]"
   ]
  },
  {
   "cell_type": "code",
   "execution_count": 35,
   "id": "89899ad1-fb3c-4309-9af9-3ceb6b7d4899",
   "metadata": {},
   "outputs": [
    {
     "data": {
      "text/plain": [
       "\"which format does the cause of NER belong to?\""
      ]
     },
     "execution_count": 35,
     "metadata": {},
     "output_type": "execute_result"
    }
   ],
   "source": [
    "refine_ques(data[1])"
   ]
  }
 ],
 "metadata": {
  "kernelspec": {
   "display_name": "Julia 1.7.2",
   "language": "julia",
   "name": "julia-1.7"
  },
  "language_info": {
   "file_extension": ".jl",
   "mimetype": "application/julia",
   "name": "julia",
   "version": "1.7.2"
  }
 },
 "nbformat": 4,
 "nbformat_minor": 5
}
