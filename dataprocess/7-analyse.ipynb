{
 "cells": [
  {
   "cell_type": "markdown",
   "id": "d8f3fe5f-001d-42d8-860a-ddd3d0f2d72c",
   "metadata": {},
   "source": [
    "# 数据分析"
   ]
  },
  {
   "cell_type": "markdown",
   "id": "df107136-7b7e-49e4-bdf3-2623bb4fdcb6",
   "metadata": {},
   "source": [
    "预处理\n",
    "1. 将 2/3 跳进行分类\n",
    "2. 剔除无关信息，比如 do you know/ who did a job 等\n",
    "3. 找出错误问题（策略待拟）\n",
    "\n",
    "关系抽取\n",
    "1. 识别关系在实体中的对齐，以及关系之间的对齐\n",
    "2. 识别问题中的关系模式\n",
    "\n",
    "语言模式\n",
    "- 1-5040 英文\n",
    "- 5041-9507 中文\n",
    "- 9508-14051 法语"
   ]
  },
  {
   "cell_type": "markdown",
   "id": "ee1428f0-9a68-4fdc-bb9b-c13ad12bf0e9",
   "metadata": {},
   "source": [
    "### 初始化"
   ]
  },
  {
   "cell_type": "code",
   "execution_count": null,
   "id": "85325615-1dc5-4139-ace2-32ad5f63b960",
   "metadata": {},
   "outputs": [],
   "source": [
    "include(\"../src/CCKS-mKGQA.jl\")\n",
    "include(\"../src/loaddata/extractdata.jl\") # 原始数据\n",
    "include(\"../src/loaddata/translatedata.jl\") # 翻译数据\n",
    "include(\"../src/tools/ettalign.jl\") # 对齐工具\n",
    "include(\"../src/datatype.jl\") # 数据结构\n",
    "include(\"../src/tools/distance.jl\")"
   ]
  },
  {
   "cell_type": "code",
   "execution_count": null,
   "id": "059ac5fd-5f44-4620-aa9a-02f4ad3fb887",
   "metadata": {},
   "outputs": [],
   "source": [
    "# illpath = \"ILLs_1\"\n",
    "# illpath = \"ILLs_2\"\n",
    "# illpath = \"ILLs_3\"\n",
    "# illpath = \"ILLs_4\"\n",
    "illpath = \"ILLs_official\"\n",
    "# illpath = \"ILLs_wiki\"\n",
    "include(\"../src/loaddata/illsdata.jl\");"
   ]
  },
  {
   "cell_type": "code",
   "execution_count": null,
   "id": "e6330aba-d149-434e-9541-bf610935e32a",
   "metadata": {},
   "outputs": [],
   "source": [
    "function simplify_que(que)\n",
    "    que = strip(replace(lowercase(que), rules...))\n",
    "    newque = strip(replace(que, rules...))\n",
    "    while newque != que\n",
    "        que = newque\n",
    "        newque = strip(replace(que, rules...))\n",
    "    end\n",
    "    que\n",
    "end\n",
    "query_rel(rel) = [que for (que, ner, rels...) in mt_train_ques_rels if rel ∈ rels]\n",
    "function quesinfo(id)\n",
    "    println(\"原始问句，翻译问句，简化问句，提交三元组\")\n",
    "    println(train_ques_ner[id][1])\n",
    "    println(mt_train_ques[id])\n",
    "    println(current_ques[id])\n",
    "    println.(train_sols[id])\n",
    "end"
   ]
  },
  {
   "cell_type": "markdown",
   "id": "a378dff5-a1a8-4c7e-8df7-614e9ff30ece",
   "metadata": {
    "tags": []
   },
   "source": [
    "### 预处理及数据分析"
   ]
  },
  {
   "cell_type": "code",
   "execution_count": null,
   "id": "d8e274ba-35a9-402f-843e-3912d297b6db",
   "metadata": {},
   "outputs": [],
   "source": [
    "middlewords = \"(does|did|does|do|are|is|was|he|she|her|his|they|the|that|a|an|of\" # 介词助动词\n",
    "middlewords *= \"|[\\\\d-]+|used to|belong(s|)( to|)|involved (in|)|zoning\" # 短语\n",
    "middlewords *= \"|in|to|ner's|at|by|ners|ner|one|from)\"\n",
    "\n",
    "rules = (\n",
    "    # 重复问句\n",
    "    r\"(.*)/ .*\" => s\"\\g<1>\",\n",
    "    # 平凡语句\n",
    "    r\"(who did a job|do you know|the car )\" => \"\",\n",
    "    # 修饰词\n",
    "    r\", (a|an) .*?[,?]\" => \"\",\n",
    "    # 介词助动词等\n",
    "    \"'s \" => \" \",\n",
    "    r\"'s$\" => \"\",\n",
    "    Regex(\"^$middlewords \") => \"\",\n",
    "    Regex(\" $middlewords \") => \" \",\n",
    "    Regex(\" $middlewords\\$\") => \"\",\n",
    "    \"united states\" => \"\",\n",
    "    # 疑问词\n",
    "    r\"(which|where|who|when|what's|what|how|whose) \" => \" \",\n",
    "    \"?\" => \"\",\n",
    "    \",\" => \"\",\n",
    "    \"-\" => \" \",\n",
    "    r\"\\(.*\\)\" => \"\",\n",
    "    r\" {2,}\" => \" \",\n",
    ");"
   ]
  },
  {
   "cell_type": "code",
   "execution_count": null,
   "id": "f96685e1-2932-43de-90be-fe07c37ee55b",
   "metadata": {},
   "outputs": [],
   "source": [
    "# 处理训练集\n",
    "# 问题集\n",
    "current_ques = simplify_que.(mt_train_ques)\n",
    "# 问题关系\n",
    "current_rels = [querel[3:end] for querel in mt_train_ques_rels]\n",
    "traversed = Set{String}()\n",
    "jump2, jump3 = Tuple[], Tuple[]\n",
    "for (i, (que, rels)) in enumerate(zip(current_ques, current_rels))\n",
    "    txt = join([que,'|', rels...], '\\t')\n",
    "    # txt ∈ traversed ? continue : push!(traversed, txt)\n",
    "    length(rels) == 2 ? push!(jump2, (i, que, rels)) : push!(jump3, (i, que, rels))\n",
    "end\n",
    "sort!(jump2; by=i->length(split(i[2], ' ')))\n",
    "sort!(jump3; by=i->length(split(i[2], ' ')))\n",
    "\n",
    "open(\"analyse/jump2.txt\", \"w\") do io\n",
    "    for (id, que, rels) in jump2\n",
    "        println(io, id, '\\t', que, \"|\\t|\", join(rels, '\\t'))\n",
    "    end\n",
    "end\n",
    "open(\"analyse/jump3.txt\", \"w\") do io\n",
    "    for (id, que, rels) in jump3\n",
    "        println(io, id, '\\t', que, \"|\\t|\", join(rels, '\\t'))\n",
    "    end\n",
    "end"
   ]
  },
  {
   "cell_type": "code",
   "execution_count": null,
   "id": "6aeb0bf7-6d2f-45b4-a3a4-bb3ee5a774c9",
   "metadata": {
    "tags": []
   },
   "outputs": [],
   "source": [
    "sort_count(@. length(split(getindex(jump2, 2), ' ')))"
   ]
  },
  {
   "cell_type": "code",
   "execution_count": null,
   "id": "c00d97e3-2ad4-48bf-8d06-98fa67b4428d",
   "metadata": {
    "tags": []
   },
   "outputs": [],
   "source": [
    "sort_count(@. length(split(getindex(jump3, 2), ' ')))"
   ]
  },
  {
   "cell_type": "markdown",
   "id": "ea08710f-d093-42d9-bf01-f40e80e83af8",
   "metadata": {
    "jp-MarkdownHeadingCollapsed": true,
    "tags": []
   },
   "source": [
    "### 方案一，相似度匹配 + 人工纠正"
   ]
  },
  {
   "cell_type": "code",
   "execution_count": null,
   "id": "f9b51917-6ce0-4b98-b65a-2ad3f20fbff3",
   "metadata": {
    "tags": []
   },
   "outputs": [],
   "source": [
    "# 筛选一跳问题\n",
    "smallcases = filter(i->length(split(i[2])) == 1, jump2)\n",
    "trainques, trainrels = getindex.(smallcases, 2), getindex.(smallcases, 3)\n",
    "\n",
    "# 按相似度构建字典\n",
    "dict_rel_align = DefaultDict{String, Vector{String}}(Vector{String})\n",
    "for (que, (r1, r2)) in zip(trainques, trainrels)\n",
    "    rel = dist(que, r1) < dist(que, r2) ? r1 : r2\n",
    "    rel ∈ dict_rel_align[que] && continue\n",
    "    push!(dict_rel_align[que], rel)\n",
    "end\n",
    "counter(length.(values(dict_rel_align)))"
   ]
  },
  {
   "cell_type": "code",
   "execution_count": null,
   "id": "1cb567b9-f0e5-430f-95d4-260fc6c2838b",
   "metadata": {
    "tags": []
   },
   "outputs": [],
   "source": [
    "# 打印当前结果\n",
    "for (rel, val) in dict_rel_align\n",
    "    isempty(val) && continue\n",
    "    length(val) == 1 && val[1] == rel && continue\n",
    "    println(rel, '\\t', val)\n",
    "end"
   ]
  },
  {
   "cell_type": "code",
   "execution_count": null,
   "id": "55392265-53b8-4c92-a857-cde18584e9e3",
   "metadata": {},
   "outputs": [],
   "source": [
    "# 删除强相关\n",
    "delete!.(Ref(dict_rel_align), [\"addition\", \"come\", \"subject\", \"people\", \"next\", \"successor\"])\n",
    "# 纠正转义\n",
    "rectify_rules = (\n",
    "    \"author\" => [\"chronology\"],\n",
    "    \"master\" => [\"controlledby\"],\n",
    "    \"mayor\" => [\"chieftown\"],\n",
    "    \"descendants\" => [\"issue\"],\n",
    "    \"descendant\" => [\"issue\"],\n",
    "    \"creator\" => [\"chronology\"],\n",
    "    \"head\" => [\"sponsor\"],\n",
    "    \"next to\" => [\"alongside\"], # 弱晒\n",
    "    \"father\" => [\"father\", \"parent\", \"parents\"], # 考虑“关系对齐”\n",
    "    \"key people\" => [\"key_people\"],\n",
    "    \"important people\" => [\"key_people\"],\n",
    "    \"people\" => [\"name\"]\n",
    ")\n",
    "for (key, val) in rectify_rules\n",
    "    dict_rel_align[key] = val\n",
    "end\n",
    "# 记录弱相关\n",
    "dict_weak = Dict(\n",
    "    \"successor\" => [\"issue\", \"children\"] # 后代近形词\n",
    ")"
   ]
  },
  {
   "cell_type": "code",
   "execution_count": null,
   "id": "f871f0b9-9d0f-4691-9034-01fc778a4e6e",
   "metadata": {
    "tags": []
   },
   "outputs": [],
   "source": [
    "# 不确定时，查询原问句\n",
    "# quesinfo(6387)\n",
    "\n",
    "# 可能错误的项，查询其他问题\n",
    "jump2[findall(contains(\"successor\"), getindex.(jump2, 2))]\n",
    "\n",
    "# 可能错误的项，反向查询\n",
    "# filter(i->\"name\" in last(i), jump2)\n",
    "\n",
    "# 查询训练集原题\n",
    "# filter(i->occursin(\"people\", lowercase(i[1])) && !(\"key_people\" ∈ i), mt_train_ques_rels)\n",
    "# query_rel(\"alongside\")"
   ]
  },
  {
   "cell_type": "code",
   "execution_count": null,
   "id": "e8af281b-2c75-4430-bdff-e4bf77c0f25d",
   "metadata": {
    "tags": []
   },
   "outputs": [],
   "source": [
    "open(\"analyse/rel_align_1.txt\", \"w\") do io\n",
    "    for (key, val) in dict_rel_align\n",
    "        println(io, key, \"|\\t|\", join(val, '\\t'))\n",
    "    end\n",
    "end"
   ]
  },
  {
   "cell_type": "markdown",
   "id": "8abb3e3f-2210-4e22-a7dd-78b99151bb2b",
   "metadata": {
    "tags": []
   },
   "source": [
    "### 方案二-倒序匹配 + 人工纠正"
   ]
  },
  {
   "cell_type": "code",
   "execution_count": null,
   "id": "c9361d90-56d6-4315-95cf-d14f0c884097",
   "metadata": {
    "tags": []
   },
   "outputs": [],
   "source": [
    "smallcases = filter(i->length(split(i[2])) == 2, jump2)\n",
    "trainwords, trainrels = split.(getindex.(smallcases, 2), ' '), getindex.(smallcases, 3)\n",
    "\n",
    "# 按相似度构建字典\n",
    "dict_rel_align2 = DefaultDict{String, Vector{String}}(Vector{String})\n",
    "for ((w1, w2), (r1, r2)) in zip(trainwords, trainrels)\n",
    "    # 就近匹配\n",
    "    # r1, r2 = dist(w1, r1) + dist(w2, r2) < dist(w1, r2) + dist(w2, r1) ? (r1, r2) : (r2, r1)\n",
    "    # 旧方案\n",
    "    # rel1 ∉ dict_rel_align2[w1] && push!(dict_rel_align2[w1], rel1)\n",
    "    # rel2 ∉ dict_rel_align2[w2] && push!(dict_rel_align2[w2], rel2)\n",
    "    # 反向加入单词，并考虑词频\n",
    "    (haskey(dict_rel_align, w1) && r2 ∈ dict_rel_align[w1]) || push!(dict_rel_align2[w1], r2)\n",
    "    (haskey(dict_rel_align, w2) && r1 ∈ dict_rel_align[w2]) || push!(dict_rel_align2[w2], r1)\n",
    "end\n",
    "sort_count(length.(values(dict_rel_align2)));"
   ]
  },
  {
   "cell_type": "code",
   "execution_count": null,
   "id": "8f08f70d-14c7-4bc4-aadb-748edc1b16a2",
   "metadata": {
    "tags": []
   },
   "outputs": [],
   "source": [
    "sorted_rel_align2 = DefaultDict{String, AbstractDict}(AbstractDict)\n",
    "for (key, val) in dict_rel_align2\n",
    "    sorted_rel_align2[key] = sort_count(val) # 可以只用 counter, sort 方便观察\n",
    "end\n",
    "valid_rel_align2 = DefaultDict{String, Vector{String}}(Vector{String})\n",
    "for (key, val) in sorted_rel_align2\n",
    "    # 距离小或者频次高\n",
    "    valids = filter(i->dist(i, key) ≤ 3 || val[i] ≥ 3, keys(val))\n",
    "    valids = sort!(collect(valids); by=i->-val[i])\n",
    "    isempty(valids) && continue\n",
    "    # 排除已经得到的部分\n",
    "    valid_rel_align2[key] = filter(∉(dict_rel_align[key]), valids)\n",
    "end\n",
    "valid_rel_align2;"
   ]
  },
  {
   "cell_type": "code",
   "execution_count": null,
   "id": "504fa212-4f43-4ae4-8349-22715e4f2287",
   "metadata": {
    "tags": []
   },
   "outputs": [],
   "source": [
    "# 不确定时，查询原问句\n",
    "# quesinfo(5153)\n",
    "\n",
    "# 可能错误的项，查询其他问题\n",
    "(jump2[findall(contains(\"offspring\"), getindex.(jump2, 2))])\n",
    "# jump3[findall(contains(\"timeline\"), getindex.(jump3, 2))]\n",
    "# jump2[findall(i->occursin(\"born\", i[2]) && !occursin(\"birth_place\", i[2]), jump2)]\n",
    "\n",
    "# 可能错误的项，反向查询\n",
    "# filter(i->\"education\" in last(i), jump2)\n",
    "\n",
    "# 查询训练集原题\n",
    "# filter(i->occursin(\"city\", lowercase(i[1])) && \"location_city\" ∈ i, mt_train_ques_rels)\n",
    "# filter(i->occursin(\"largest city\", lowercase(i[1])), mt_train_ques_rels)\n",
    "\n",
    "# 已有结果\n",
    "# dict_rel_align[\"product\"]"
   ]
  },
  {
   "cell_type": "code",
   "execution_count": 37,
   "id": "c36b4228-dc82-48b2-91e5-d78b72ad91b6",
   "metadata": {},
   "outputs": [
    {
     "data": {
      "text/plain": [
       "OrderedDict{SubString{String}, Int64} with 45 entries:\n",
       "  \"after_election\" => 317\n",
       "  \"birth_place\"    => 19\n",
       "  \"death_place\"    => 17\n",
       "  \"monarch\"        => 11\n",
       "  \"successor\"      => 11\n",
       "  \"religion\"       => 10\n",
       "  \"nationality\"    => 10\n",
       "  \"state\"          => 10\n",
       "  \"branch\"         => 10\n",
       "  \"president\"      => 10\n",
       "  \"title\"          => 10\n",
       "  \"spouse\"         => 10\n",
       "  \"profession\"     => 10\n",
       "  \"primeminister\"  => 10\n",
       "  \"country\"        => 10\n",
       "  \"constituency\"   => 10\n",
       "  \"party\"          => 10\n",
       "  \"alma_mater\"     => 10\n",
       "  \"occupation\"     => 9\n",
       "  \"residence\"      => 9\n",
       "  \"predecessor\"    => 9\n",
       "  \"before\"         => 8\n",
       "  \"battles\"        => 8\n",
       "  \"order\"          => 8\n",
       "  \"children\"       => 8\n",
       "  ⋮                => ⋮"
      ]
     },
     "execution_count": 37,
     "metadata": {},
     "output_type": "execute_result"
    }
   ],
   "source": [
    "rels = vcat(current_rels[findall(i->occursin(\" election of \", lowercase(i[1])), mt_train_ques_rels)]...)\n",
    "sort_count(rels)"
   ]
  },
  {
   "cell_type": "code",
   "execution_count": null,
   "id": "8cb45b60-393d-48f5-a989-78b629c43602",
   "metadata": {
    "tags": []
   },
   "outputs": [],
   "source": [
    "valids = collect(valid_rel_align2)\n",
    "i = 1\n",
    "for (key, val) in valids[72:end]\n",
    "    length(val) == 1 && val[1] == key && continue\n",
    "    println(i, ' ', key, '\\t', join(val, '\\t'))\n",
    "    i += 1\n",
    "end"
   ]
  },
  {
   "cell_type": "code",
   "execution_count": null,
   "id": "fde73f2f-8b0a-4227-9a28-2acbd249c66a",
   "metadata": {},
   "outputs": [],
   "source": [
    "# 删除强相关\n",
    "delete!.(Ref(valid_rel_align2), [\"descendant\", \"sponsor\", \"lead\", \"successor\"])\n",
    "# 纠正转义\n",
    "rectify_rules = (\n",
    "    \"beside ner\" => [\"alongside\"],\n",
    "    \"died\" => [\"death_place\"],\n",
    "    \"product\" => [\"products\"],\n",
    "    \"spouses\" => [\"spouse\"],\n",
    "    \"general\" => [\"commander\"],\n",
    "    \"represents\" => [\"deputy\"],\n",
    "    \"represent\" => [\"deputy\"],\n",
    "    \"address\" => [\"residence\", \"honorific_prefix\", \"ground\"],\n",
    "    \"timeline\" => [\"chronology\"],\n",
    "    \"area\" => [\"area\", \"subdivision_name\", \"region\"],\n",
    "    \"after\" => [\"successor\", \"next_show\"],\n",
    "    \"graduate\" => [\"education\"], # 正序\n",
    "    \"came\" => [\"birth_place\"],\n",
    "    \"job\" => [\"ccupation\", \"profession\"],\n",
    "    \"influence\" => [\"influenced\", \"influences\"],\n",
    "    \"influenced\" => [\"influenced\", \"influences\"],\n",
    "    \"east\" => [\"east\"],\n",
    "    \"born\" => [\"birth_place\"], # 顺序正向\n",
    "    \"customer\" => [\"client\"],\n",
    "    \"located\" => [\"location\", \"country\", \"state\", \"city\"], # 放在末尾\n",
    "    \"work\" => [\"work_institutions\", \"workplaces\"],\n",
    "    \"succeed\" => [\"succession\"], # 顺序正向\n",
    "    \"death\" => [\"death_place\"],\n",
    "    \"eponymous\" => [\"eponym\"],\n",
    "    \"live\" => [\"residence\"],\n",
    "    \"largest city\" => [\"largest_city\", \"largest_city_name\"],\n",
    "    \"city\" => []\n",
    ")\n",
    "for (key, val) in rectify_rules\n",
    "    valid_rel_align2[key] = val\n",
    "end\n",
    "# 完全相等\n",
    "same_rels = [\"title\", \"title leader\", \"location\", \"after election\",\n",
    "    \"spouse\", \"coach\", \"eponym\", \"alongside\"]\n",
    "for rel in same_rels\n",
    "    valid_rel_align2[rel] = [replace(rel, ' '=>'_')]\n",
    "end"
   ]
  },
  {
   "cell_type": "markdown",
   "id": "f3fdcf59-3e02-433c-8c61-fecd90725898",
   "metadata": {
    "tags": []
   },
   "source": [
    "### 方案3-词频筛选"
   ]
  },
  {
   "cell_type": "code",
   "execution_count": null,
   "id": "c8ba7ccd-1cdc-47b1-8a7c-669456491607",
   "metadata": {
    "tags": []
   },
   "outputs": [],
   "source": [
    "pairs = collect(sort_count(getindex.(mt_triples, 2)))"
   ]
  },
  {
   "cell_type": "code",
   "execution_count": null,
   "id": "9a1942bd-6e17-40d9-a21a-4b12940ac8d5",
   "metadata": {},
   "outputs": [],
   "source": [
    "consecutive(que::AbstractString, k::Int) = consecutive(split(que, ' '), k)\n",
    "consecutive(words::Vector, k::Int) = [join(words[i:i+k-1], '_') for i in 1:length(words)-k+1]"
   ]
  },
  {
   "cell_type": "code",
   "execution_count": null,
   "id": "bf2a6210-5bb4-43df-9f99-a534e3e1bf80",
   "metadata": {},
   "outputs": [],
   "source": [
    "rels = unique!(vcat(current_rels...))\n",
    "rel = rels[5]\n",
    "num = count(i->rel ∈ i, current_rels)\n",
    "println(rel, '\\t', num)\n",
    "sort_count(vcat(split.(current_ques[findall(i->rel ∈ i, current_rels)], ' ')...))\n",
    "# sort_count(vcat(consecutive.(current_ques[findall(i->rel ∈ i, current_rels)], 2)...))"
   ]
  },
  {
   "cell_type": "code",
   "execution_count": null,
   "id": "71e470a6-7c6f-4adf-a5c5-eca21c8f57cc",
   "metadata": {
    "tags": []
   },
   "outputs": [],
   "source": [
    "rel, _ = pairs[4]\n",
    "println(rel)\n",
    "ques = simplify_que.(query_rel(rel))\n",
    "println(length(ques))\n",
    "words = vcat(unique!.(split.(ques))...)\n",
    "sort_count(words)"
   ]
  }
 ],
 "metadata": {
  "kernelspec": {
   "display_name": "Julia 1.7.2",
   "language": "julia",
   "name": "julia-1.7"
  },
  "language_info": {
   "file_extension": ".jl",
   "mimetype": "application/julia",
   "name": "julia",
   "version": "1.7.2"
  }
 },
 "nbformat": 4,
 "nbformat_minor": 5
}
