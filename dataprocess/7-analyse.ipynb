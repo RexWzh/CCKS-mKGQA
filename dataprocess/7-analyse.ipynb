{
 "cells": [
  {
   "cell_type": "markdown",
   "id": "d8f3fe5f-001d-42d8-860a-ddd3d0f2d72c",
   "metadata": {},
   "source": [
    "# 数据分析"
   ]
  },
  {
   "cell_type": "markdown",
   "id": "df107136-7b7e-49e4-bdf3-2623bb4fdcb6",
   "metadata": {},
   "source": [
    "训练集语言\n",
    "- 1-5040 英文\n",
    "- 5041-9507 中文\n",
    "- 9508-14051 法语\n",
    "\n",
    "匹配策略\n",
    "1. 精确匹配"
   ]
  },
  {
   "cell_type": "markdown",
   "id": "ee1428f0-9a68-4fdc-bb9b-c13ad12bf0e9",
   "metadata": {},
   "source": [
    "### 初始化"
   ]
  },
  {
   "cell_type": "code",
   "execution_count": 59,
   "id": "85325615-1dc5-4139-ace2-32ad5f63b960",
   "metadata": {},
   "outputs": [],
   "source": [
    "include(\"../src/CCKS-mKGQA.jl\")\n",
    "include(\"../src/loaddata/extractdata.jl\") # 原始数据\n",
    "include(\"../src/loaddata/translatedata.jl\") # 翻译数据\n",
    "include(\"../src/tools/ettalign.jl\") # 对齐工具\n",
    "include(\"../src/datatype.jl\") # 数据结构\n",
    "include(\"../src/tools/distance.jl\")\n",
    "mt_train_rels = [querel[3:end] for querel in mt_train_ques_rels];"
   ]
  },
  {
   "cell_type": "code",
   "execution_count": 2,
   "id": "059ac5fd-5f44-4620-aa9a-02f4ad3fb887",
   "metadata": {},
   "outputs": [],
   "source": [
    "# illpath = \"ILLs_1\"\n",
    "# illpath = \"ILLs_2\"\n",
    "# illpath = \"ILLs_3\"\n",
    "# illpath = \"ILLs_4\"\n",
    "illpath = \"ILLs_official\"\n",
    "# illpath = \"ILLs_wiki\"\n",
    "include(\"../src/loaddata/illsdata.jl\");"
   ]
  },
  {
   "cell_type": "markdown",
   "id": "2ac931bb-392a-4167-a238-223f0e9d098e",
   "metadata": {
    "jp-MarkdownHeadingCollapsed": true,
    "tags": []
   },
   "source": [
    "### 精确匹配"
   ]
  },
  {
   "cell_type": "code",
   "execution_count": 10,
   "id": "29cdbe46-9fa2-4abb-a091-db270e022956",
   "metadata": {},
   "outputs": [],
   "source": [
    "# 训练集已有关系\n",
    "dict_precise_ques = DefaultDict{String, Vector{Tuple}}(Vector{Tuple})\n",
    "for (que, _, rels...) in mt_train_ques_rels\n",
    "    Tuple(rels) ∈ dict_precise_ques[que] && continue\n",
    "    push!(dict_precise_ques[que], Tuple(rels))\n",
    "end"
   ]
  },
  {
   "cell_type": "code",
   "execution_count": 16,
   "id": "fbe8b34f-2515-4971-9581-1b3f40c457ae",
   "metadata": {},
   "outputs": [
    {
     "data": {
      "text/plain": [
       "2-element Vector{Tuple}:\n",
       " (\"influences\", \"work_institutions\")\n",
       " (\"influences\", \"workplaces\")"
      ]
     },
     "execution_count": 16,
     "metadata": {},
     "output_type": "execute_result"
    }
   ],
   "source": [
    "que = \"where does the man who influenced NER work?\"\n",
    "dict_precise_ques[que]"
   ]
  },
  {
   "cell_type": "markdown",
   "id": "a378dff5-a1a8-4c7e-8df7-614e9ff30ece",
   "metadata": {
    "jp-MarkdownHeadingCollapsed": true,
    "tags": []
   },
   "source": [
    "### 去停用词"
   ]
  },
  {
   "cell_type": "code",
   "execution_count": 2,
   "id": "e6330aba-d149-434e-9541-bf610935e32a",
   "metadata": {},
   "outputs": [
    {
     "data": {
      "text/plain": [
       "quesinfo (generic function with 1 method)"
      ]
     },
     "execution_count": 2,
     "metadata": {},
     "output_type": "execute_result"
    }
   ],
   "source": [
    "# 去停用词\n",
    "function simplify_que(que)\n",
    "    que = strip(replace(lowercase(que), rules...))\n",
    "    newque = strip(replace(que, rules...))\n",
    "    while newque != que\n",
    "        que = newque\n",
    "        newque = strip(replace(que, rules...))\n",
    "    end\n",
    "    que\n",
    "end\n",
    "\n",
    "function quesinfo(id)\n",
    "    println(\"原始问句 | 翻译问句 | 简化问句 | 提交三元组\")\n",
    "    println(train_ques_ner[id][1])\n",
    "    println(mt_train_ques[id])\n",
    "    println(current_ques[id])\n",
    "    println.(train_sols[id])\n",
    "end"
   ]
  },
  {
   "cell_type": "code",
   "execution_count": 3,
   "id": "d8e274ba-35a9-402f-843e-3912d297b6db",
   "metadata": {},
   "outputs": [],
   "source": [
    "middlewords = \"(does|did|does|do|are|is|was|he|she|her|his|they|the|that|a|an|of\" # 介词助动词\n",
    "middlewords *= \"|[\\\\d-]+|used to|belong(s|)( to|)|involved (in|)|zoning\" # 短语\n",
    "middlewords *= \"|in|to|ner's|at|by|ners|ner|one|from)\"\n",
    "\n",
    "rules = (\n",
    "    r\"(.*)/ .*\" => s\"\\g<1>\", # 重复问句\n",
    "    r\"(who did a job|do you know|the car )\" => \"\", # 平凡短语\n",
    "    r\", (a|an) .*?[,?]\" => \"\", # 修饰词\n",
    "    \"'s \" => \" \",\n",
    "    r\"'s$\" => \"\",\n",
    "    Regex(\"^$middlewords \") => \"\",\n",
    "    Regex(\" $middlewords \") => \" \",\n",
    "    Regex(\" $middlewords\\$\") => \"\",\n",
    "    \"united states\" => \"\",\n",
    "    r\"(which|where|who|when|what's|what|how|whose) \" => \" \", # 疑问词\n",
    "    \"?\" => \"\",\n",
    "    \",\" => \"\",\n",
    "    \"-\" => \" \",\n",
    "    r\"\\(.*\\)\" => \"\",\n",
    "    r\" {2,}\" => \" \", # 消除空格\n",
    ");"
   ]
  },
  {
   "cell_type": "code",
   "execution_count": 18,
   "id": "f96685e1-2932-43de-90be-fe07c37ee55b",
   "metadata": {
    "tags": []
   },
   "outputs": [],
   "source": [
    "# 处理训练集\n",
    "# 问题集\n",
    "current_ques = simplify_que.(mt_train_ques)\n",
    "# 问题关系\n",
    "current_rels = [querel[3:end] for querel in mt_train_ques_rels]\n",
    "traversed = Set{String}()\n",
    "jump2, jump3 = Tuple[], Tuple[]\n",
    "for (i, (que, rels)) in enumerate(zip(current_ques, current_rels))\n",
    "    txt = join([que,'|', rels...], '\\t')\n",
    "    # txt ∈ traversed ? continue : push!(traversed, txt)\n",
    "    length(rels) == 2 ? push!(jump2, (i, que, rels)) : push!(jump3, (i, que, rels))\n",
    "end\n",
    "sort!(jump2; by=i->length(split(i[2], ' ')))\n",
    "sort!(jump3; by=i->length(split(i[2], ' ')));"
   ]
  },
  {
   "cell_type": "markdown",
   "id": "63c2f0a5-9d6c-490b-b7da-56ee2b0d1024",
   "metadata": {
    "tags": []
   },
   "source": [
    "### 方案4-辅助生成"
   ]
  },
  {
   "cell_type": "code",
   "execution_count": 56,
   "id": "7d83b94d-e145-47a4-a273-3b49849710bc",
   "metadata": {
    "collapsed": true,
    "jupyter": {
     "outputs_hidden": true
    },
    "tags": []
   },
   "outputs": [
    {
     "data": {
      "text/plain": [
       "9-element Vector{String}:\n",
       " \"what is the logo of the car that NER is related to?\"\n",
       " \"what is the basis of the car that NER is related to?\"\n",
       " \"what is the basis of the car that NER is related to?\"\n",
       " \"what is the series of the car that NER is related to?\"\n",
       " \"what is the series of the car that NER is related to?\"\n",
       " \"what is the series of the car that NER is related to?\"\n",
       " \"what is the title of the car that NER is related to?\"\n",
       " \"what is the title of the car that NER is related to?\"\n",
       " \"what is the type of the car that NER is related to?\""
      ]
     },
     "execution_count": 56,
     "metadata": {},
     "output_type": "execute_result"
    }
   ],
   "source": [
    "# 二跳问题以及正则模板\n",
    "test_ques = filter(i->length(split(i[2]))==2, jump2) # 筛选两单词的问题\n",
    "tpls = Vector{Regex}(undef, length(jump2)) # 从两单词问题提取正则模板\n",
    "train_men2rel = Vector{Dict}(undef, length(mt_train_ques)) # 训练集中的 mention => relation 字典\n",
    "\n",
    "# 提取 mens\n",
    "ind, mens, (rel1, rel2) = test_ques[1]\n",
    "men1, men2 = mens = split(mens)\n",
    "\n",
    "# 正向匹配距离更大\n",
    "if dist(men1, rel1) + dist(men2, rel2) ≥ dist(men1, rel2) + dist(men2, rel1)\n",
    "    men1, men2 = men2, men1\n",
    "end\n",
    "\n",
    "# 建立字典\n",
    "train_men2rel[ind] = men2rel = Dict(men1 => rel1, men2 => rel2)\n",
    "\n",
    "# 生成模板\n",
    "que = mt_train_ques[ind]\n",
    "tpls[1] = tpl = Regex(replace(que, rel2 => \"(?P<men2>.*)\", rel1 => \"(?P<men1>.*)\"))\n",
    "\n",
    "# 模板用于提取字典\n",
    "inds = filter(ismatch(tpl), mt_train_ques)"
   ]
  },
  {
   "cell_type": "code",
   "execution_count": 58,
   "id": "cdf2d3cd-c56f-44d2-bb7c-33c1c3352b84",
   "metadata": {},
   "outputs": [
    {
     "data": {
      "text/plain": [
       "14051-element Vector{Vector{SubString{String}}}:\n",
       " [\"known_for\", \"title_leader\"]\n",
       " [\"related\", \"logo\"]\n",
       " [\"result\", \"format\"]\n",
       " [\"client\", \"parent\"]\n",
       " [\"client\", \"parent\"]\n",
       " [\"client\", \"parent\"]\n",
       " [\"client\", \"parent\"]\n",
       " [\"countries_affected\", \"official_text\"]\n",
       " [\"countries_affected\", \"official_text\"]\n",
       " [\"countries_affected\", \"leader_name\"]\n",
       " [\"countries_affected\", \"leader_name\"]\n",
       " [\"notable_works\", \"author\"]\n",
       " [\"notable_works\", \"author\"]\n",
       " ⋮\n",
       " [\"birth_place\", \"northwest\", \"leader_title\"]\n",
       " [\"southwest\", \"north\", \"timezone_dst\"]\n",
       " [\"location\", \"west\", \"constituency_westminster\"]\n",
       " [\"predecessor\", \"title\", \"incumbent\"]\n",
       " [\"subject\", \"successor\", \"successor\"]\n",
       " [\"stadium\", \"n\", \"canton\"]\n",
       " [\"death_place\", \"southeast\", \"subdivision_type\"]\n",
       " [\"candidate\", \"predecessor\", \"title\"]\n",
       " [\"location\", \"northwest\", \"subdivision_name\"]\n",
       " [\"title\", \"appointer\", \"branch\"]\n",
       " [\"nationalteam\", \"location\", \"subdivision_type\"]\n",
       " [\"stadium\", \"seat\", \"region\"]"
      ]
     },
     "execution_count": 58,
     "metadata": {},
     "output_type": "execute_result"
    }
   ],
   "source": []
  },
  {
   "cell_type": "code",
   "execution_count": null,
   "id": "3102a538-1661-4405-975f-6429a9894af5",
   "metadata": {},
   "outputs": [],
   "source": [
    "for ind in inds\n",
    "    dict = match(tpl, mt_train_ques[ind])\n",
    "    men1, men2 = dict[\"men1\"], dict[\"men2\"]\n",
    "    rel1, rel2 = \n",
    "    train_men2rel[ind] = men2rel = Dict(men1 => rel1, men2 => rel2)\n",
    "end"
   ]
  },
  {
   "cell_type": "code",
   "execution_count": 47,
   "id": "2594966b-980e-40eb-b81c-150acc2296ac",
   "metadata": {},
   "outputs": [
    {
     "data": {
      "text/plain": [
       "7-element Vector{Vector{SubString{String}}}:\n",
       " [\"what is NER's coach's ex\", \"Houston_Rockets\", \"coach\", \"before\"]\n",
       " [\"what is NER's father's ex\", \"Konoe_Tadabo\", \"father\", \"before\"]\n",
       " [\"what is NER's coach's ex\", \"turkey_national_football_team\", \"coach\", \"before\"]\n",
       " [\"what is NER's father's ex\", \"Princess_Yongchang_(Northern_Qi)\", \"father\", \"before\"]\n",
       " [\"what is NER's father's alma mater\", \"Toshihiko_Torama\", \"father\", \"alma_mater\"]\n",
       " [\"what is NER's coach's ex\", \"croatian_football_federation\", \"coach\", \"before\"]\n",
       " [\"what is NER's father's ex\", \"Jade_City\", \"father\", \"before\"]"
      ]
     },
     "execution_count": 47,
     "metadata": {},
     "output_type": "execute_result"
    }
   ],
   "source": [
    "mt_train_ques_rels[findall(ismatch(Regex(\"what is NER's (.*)'s (.*)\")), mt_train_ques)]"
   ]
  },
  {
   "cell_type": "code",
   "execution_count": 31,
   "id": "e99946a7-54f7-4ede-af6b-f08f9ffc4349",
   "metadata": {},
   "outputs": [
    {
     "data": {
      "text/plain": [
       "RegexMatch(\"what is the logo of the car that NER is related to\", rel2=\"logo\", rel1=\"related\")"
      ]
     },
     "execution_count": 31,
     "metadata": {},
     "output_type": "execute_result"
    }
   ],
   "source": [
    "que = mt_train_ques[2]\n",
    "rel2, rel1 = split(simplify_que(que))\n",
    "reg = Regex(replace(que, rel2 => \"(?P<rel2>.*)\", rel1 => \"(?P<rel1>.*)\"))\n",
    "res = match(reg, que)"
   ]
  },
  {
   "cell_type": "code",
   "execution_count": 38,
   "id": "8e1a73b7-7a96-4bcc-8afa-94ea290b7339",
   "metadata": {},
   "outputs": [
    {
     "data": {
      "text/plain": [
       "\"related\""
      ]
     },
     "execution_count": 38,
     "metadata": {},
     "output_type": "execute_result"
    }
   ],
   "source": [
    "res[\"rel1\"]"
   ]
  },
  {
   "cell_type": "code",
   "execution_count": 44,
   "id": "c1b9aedd-0f84-4229-8f72-370a3c903e96",
   "metadata": {},
   "outputs": [
    {
     "name": "stdout",
     "output_type": "stream",
     "text": [
      "what is the logo of the car that NER is related to?\trelated\tlogo|\t|related logo\n",
      "what is the basis of the car that NER is related to?\trelated\tbasis|\t|related based_on\n",
      "what is the basis of the car that NER is related to?\trelated\tbasis|\t|related based_on\n",
      "what is the series of the car that NER is related to?\trelated\tseries|\t|related series\n",
      "what is the series of the car that NER is related to?\trelated\tseries|\t|related series\n",
      "what is the series of the car that NER is related to?\trelated\tseries|\t|related series\n",
      "what is the title of the car that NER is related to?\trelated\ttitle|\t|related title\n",
      "what is the title of the car that NER is related to?\trelated\ttitle|\t|related title\n",
      "what is the type of the car that NER is related to?\trelated\ttype|\t|related type\n"
     ]
    }
   ],
   "source": [
    "for i in findall(ismatch(reg), mt_train_ques)\n",
    "    que = mt_train_ques[i]\n",
    "    res = match(reg, que)\n",
    "    rel1, rel2 = res[\"rel1\"], res[\"rel2\"]\n",
    "    println(que, '\\t', rel1, '\\t', rel2, \"|\\t|\", join(current_rels[i], ' '))\n",
    "end"
   ]
  },
  {
   "cell_type": "code",
   "execution_count": 30,
   "id": "c00d97e3-2ad4-48bf-8d06-98fa67b4428d",
   "metadata": {
    "tags": []
   },
   "outputs": [],
   "source": [
    "for (key, rels) in dict_rel_align\n",
    "    if !haskey(dict_rel_align2, key)\n",
    "        dict_rel_align2[key] = dict_rel_align[key]\n",
    "    else\n",
    "        rs = dict_rel_align2[key]\n",
    "        append!(rs, filter(∉(rs), dict_rel_align[key]))\n",
    "    end\n",
    "end"
   ]
  },
  {
   "cell_type": "markdown",
   "id": "ea08710f-d093-42d9-bf01-f40e80e83af8",
   "metadata": {
    "jp-MarkdownHeadingCollapsed": true,
    "tags": []
   },
   "source": [
    "### 方案一，相似度匹配 + 人工纠正"
   ]
  },
  {
   "cell_type": "code",
   "execution_count": 23,
   "id": "f9b51917-6ce0-4b98-b65a-2ad3f20fbff3",
   "metadata": {
    "tags": []
   },
   "outputs": [
    {
     "data": {
      "text/plain": [
       "Accumulator{Int64, Int64} with 3 entries:\n",
       "  2 => 2\n",
       "  3 => 1\n",
       "  1 => 36"
      ]
     },
     "execution_count": 23,
     "metadata": {},
     "output_type": "execute_result"
    }
   ],
   "source": [
    "# 筛选一跳问题\n",
    "smallcases = filter(i->length(split(i[2])) == 1, jump2)\n",
    "trainques, trainrels = getindex.(smallcases, 2), getindex.(smallcases, 3)\n",
    "\n",
    "# 按相似度构建字典\n",
    "dict_rel_align = DefaultDict{String, Vector{String}}(Vector{String})\n",
    "for (que, (r1, r2)) in zip(trainques, trainrels)\n",
    "    rel = dist(que, r1) < dist(que, r2) ? r1 : r2\n",
    "    rel ∈ dict_rel_align[que] && continue\n",
    "    push!(dict_rel_align[que], rel)\n",
    "end\n",
    "counter(length.(values(dict_rel_align)))"
   ]
  },
  {
   "cell_type": "code",
   "execution_count": 24,
   "id": "1cb567b9-f0e5-430f-95d4-260fc6c2838b",
   "metadata": {
    "tags": []
   },
   "outputs": [
    {
     "name": "stdout",
     "output_type": "stream",
     "text": [
      "addition\t[\"industry\"]\n",
      "chairman\t[\"president\"]\n",
      "come\t[\"parent\"]\n",
      "incident\t[\"event\"]\n",
      "singer\t[\"extra\"]\n",
      "northwest\t[\"nw\"]\n",
      "parent\t[\"parents\"]\n",
      "people\t[\"name\"]\n",
      "subject\t[\"theme\"]\n",
      "creators\t[\"chronology\"]\n",
      "manager\t[\"sponsor\"]\n",
      "author\t[\"profession\", \"occupation\"]\n",
      "sponsors\t[\"sponsor\"]\n",
      "master\t[\"industry\"]\n",
      "mayor\t[\"canton\"]\n",
      "descendants\t[\"issue\"]\n",
      "creator\t[\"occupation\", \"artist\", \"after\"]\n",
      "descendant\t[\"successor\", \"issue\"]\n",
      "next\t[\"alongside\"]\n",
      "head\t[\"location_city\"]\n",
      "successor\t[\"issue\"]\n",
      "father\t[\"after\"]\n",
      "play\t[\"alongside\"]\n",
      "battle\t[\"battles\"]\n"
     ]
    }
   ],
   "source": [
    "# 打印当前结果\n",
    "for (rel, val) in dict_rel_align\n",
    "    isempty(val) && continue\n",
    "    length(val) == 1 && val[1] == rel && continue\n",
    "    println(rel, '\\t', val)\n",
    "end"
   ]
  },
  {
   "cell_type": "code",
   "execution_count": 25,
   "id": "55392265-53b8-4c92-a857-cde18584e9e3",
   "metadata": {},
   "outputs": [
    {
     "data": {
      "text/plain": [
       "Dict{String, Vector{String}} with 1 entry:\n",
       "  \"successor\" => [\"issue\", \"children\"]"
      ]
     },
     "execution_count": 25,
     "metadata": {},
     "output_type": "execute_result"
    }
   ],
   "source": [
    "# 删除强相关\n",
    "delete!.(Ref(dict_rel_align), [\"addition\", \"come\", \"subject\", \"people\", \"next\", \"successor\"])\n",
    "# 纠正转义\n",
    "rectify_rules = (\n",
    "    \"author\" => [\"chronology\"],\n",
    "    \"master\" => [\"controlledby\"],\n",
    "    \"mayor\" => [\"chieftown\"],\n",
    "    \"descendants\" => [\"issue\"],\n",
    "    \"descendant\" => [\"issue\"],\n",
    "    \"creator\" => [\"chronology\"],\n",
    "    \"head\" => [\"sponsor\"],\n",
    "    \"next to\" => [\"alongside\"], # 弱晒\n",
    "    \"father\" => [\"father\", \"parent\", \"parents\"], # 考虑“关系对齐”\n",
    "    \"key people\" => [\"key_people\"],\n",
    "    \"important people\" => [\"key_people\"],\n",
    "    \"people\" => [\"name\"]\n",
    ")\n",
    "for (key, val) in rectify_rules\n",
    "    dict_rel_align[key] = val\n",
    "end\n",
    "# 记录弱相关\n",
    "dict_weak = Dict(\n",
    "    \"successor\" => [\"issue\", \"children\"] # 后代近形词\n",
    ")"
   ]
  },
  {
   "cell_type": "code",
   "execution_count": null,
   "id": "f871f0b9-9d0f-4691-9034-01fc778a4e6e",
   "metadata": {
    "tags": []
   },
   "outputs": [],
   "source": [
    "# 不确定时，查询原问句\n",
    "# quesinfo(6387)\n",
    "\n",
    "# 可能错误的项，查询其他问题\n",
    "jump2[findall(contains(\"successor\"), getindex.(jump2, 2))]\n",
    "\n",
    "# 可能错误的项，反向查询\n",
    "# filter(i->\"name\" in last(i), jump2)\n",
    "\n",
    "# 查询训练集原题\n",
    "# filter(i->occursin(\"people\", lowercase(i[1])) && !(\"key_people\" ∈ i), mt_train_ques_rels)\n",
    "# query_rel(\"alongside\")"
   ]
  },
  {
   "cell_type": "code",
   "execution_count": 51,
   "id": "e8af281b-2c75-4430-bdff-e4bf77c0f25d",
   "metadata": {
    "tags": []
   },
   "outputs": [],
   "source": [
    "open(\"analyse/rel_align_1.txt\", \"w\") do io\n",
    "    for (key, val) in dict_rel_align\n",
    "        println(io, key, \"|\\t|\", join(val, '\\t'))\n",
    "    end\n",
    "end"
   ]
  },
  {
   "cell_type": "markdown",
   "id": "8abb3e3f-2210-4e22-a7dd-78b99151bb2b",
   "metadata": {
    "jp-MarkdownHeadingCollapsed": true,
    "tags": []
   },
   "source": [
    "### 方案二-倒序匹配 + 人工纠正"
   ]
  },
  {
   "cell_type": "code",
   "execution_count": 26,
   "id": "c9361d90-56d6-4315-95cf-d14f0c884097",
   "metadata": {
    "tags": []
   },
   "outputs": [],
   "source": [
    "smallcases = filter(i->length(split(i[2])) == 2, jump2)\n",
    "trainwords, trainrels = split.(getindex.(smallcases, 2), ' '), getindex.(smallcases, 3)\n",
    "\n",
    "# 按相似度构建字典\n",
    "dict_rel_align2 = DefaultDict{String, Vector{String}}(Vector{String})\n",
    "for ((w1, w2), (r1, r2)) in zip(trainwords, trainrels)\n",
    "    # 就近匹配\n",
    "    # r1, r2 = dist(w1, r1) + dist(w2, r2) < dist(w1, r2) + dist(w2, r1) ? (r1, r2) : (r2, r1)\n",
    "    # 旧方案\n",
    "    # rel1 ∉ dict_rel_align2[w1] && push!(dict_rel_align2[w1], rel1)\n",
    "    # rel2 ∉ dict_rel_align2[w2] && push!(dict_rel_align2[w2], rel2)\n",
    "    # 反向加入单词，并考虑词频\n",
    "    (haskey(dict_rel_align, w1) && r2 ∈ dict_rel_align[w1]) || push!(dict_rel_align2[w1], r2)\n",
    "    (haskey(dict_rel_align, w2) && r1 ∈ dict_rel_align[w2]) || push!(dict_rel_align2[w2], r1)\n",
    "end\n",
    "sort_count(length.(values(dict_rel_align2)));"
   ]
  },
  {
   "cell_type": "code",
   "execution_count": 27,
   "id": "8f08f70d-14c7-4bc4-aadb-748edc1b16a2",
   "metadata": {
    "tags": []
   },
   "outputs": [],
   "source": [
    "sorted_rel_align2 = DefaultDict{String, AbstractDict}(AbstractDict)\n",
    "for (key, val) in dict_rel_align2\n",
    "    sorted_rel_align2[key] = sort_count(val) # 可以只用 counter, sort 方便观察\n",
    "end\n",
    "valid_rel_align2 = DefaultDict{String, Vector{String}}(Vector{String})\n",
    "for (key, val) in sorted_rel_align2\n",
    "    # 距离小或者频次高\n",
    "    valids = filter(i->dist(i, key) ≤ 3 || val[i] ≥ 3, keys(val))\n",
    "    valids = sort!(collect(valids); by=i->-val[i])\n",
    "    isempty(valids) && continue\n",
    "    # 排除已经得到的部分\n",
    "    valid_rel_align2[key] = filter(∉(dict_rel_align[key]), valids)\n",
    "end\n",
    "valid_rel_align2;"
   ]
  },
  {
   "cell_type": "code",
   "execution_count": null,
   "id": "504fa212-4f43-4ae4-8349-22715e4f2287",
   "metadata": {
    "tags": []
   },
   "outputs": [],
   "source": [
    "# 不确定时，查询原问句\n",
    "# quesinfo(5153)\n",
    "\n",
    "# 可能错误的项，查询其他问题\n",
    "(jump2[findall(contains(\"offspring\"), getindex.(jump2, 2))])\n",
    "# jump3[findall(contains(\"timeline\"), getindex.(jump3, 2))]\n",
    "# jump2[findall(i->occursin(\"born\", i[2]) && !occursin(\"birth_place\", i[2]), jump2)]\n",
    "\n",
    "# 可能错误的项，反向查询\n",
    "# filter(i->\"education\" in last(i), jump2)\n",
    "\n",
    "# 查询训练集原题\n",
    "# filter(i->occursin(\"city\", lowercase(i[1])) && \"location_city\" ∈ i, mt_train_ques_rels)\n",
    "# filter(i->occursin(\"largest city\", lowercase(i[1])), mt_train_ques_rels)\n",
    "\n",
    "# 已有结果\n",
    "# dict_rel_align[\"product\"]"
   ]
  },
  {
   "cell_type": "code",
   "execution_count": 28,
   "id": "8cb45b60-393d-48f5-a989-78b629c43602",
   "metadata": {
    "tags": []
   },
   "outputs": [
    {
     "name": "stdout",
     "output_type": "stream",
     "text": [
      "1 gender\tgenre\n",
      "2 city\tcity\tlocation_city\tlargest_city\n",
      "3 offspring\tissue\n",
      "4 predecessor\tpredecessor\tbefore\tafter\tfather\tsuccessor\n",
      "5 starring\tsponsor\n",
      "6 largest\teast\n",
      "7 preceded\tpreceded_by\n",
      "8 buried\tissue\n",
      "9 empire\tdynasty\n",
      "10 predecessors\tpredecessor\n",
      "11 legislature\tlegislature\tsuccession\n",
      "12 year\tyears\n",
      "13 winner\tresult\tafter_election\n",
      "14 leaders\tleader\tresidence\n",
      "15 developers\tdeveloper\n",
      "16 designed\tdesigner\n",
      "17 rules\tregent\n",
      "18 affected\tcountries_affected\n",
      "19 led\tleader\n",
      "20 events\tevent\n",
      "21 responsible\tproducts\tindustry\n",
      "22 homelands\tcountryofbirth\n",
      "23 book\tnotable_works\n",
      "24 happened\tevent\n",
      "25 president\tpresident\tchairman\n",
      "26 county\tshire_county\tregion\n",
      "27 originated\tchildren\n",
      "28 ex\tbefore\tcoach\tfather\tprev\n",
      "29 famous\tlocation\tfam\n",
      "30 next\talongside\tsuccession\tafter\tbefore\tfather\tdeath_place\n",
      "31 married\tspouse\n",
      "32 birthplace\tbirth_place\torigin\teponym\n",
      "33 province\tstate/province\tprovince\n",
      "34 team\tdivision\n",
      "35 actor\tstarring\n",
      "36 positioning\tposition\n",
      "37 addition\textra\n",
      "38 era\tera\teponym\n",
      "39 come\teponym\tclient\tsponsor\tname\n",
      "40 ruler\tregent\tleader\n",
      "41 home\thouse\n",
      "42 issued\tissue\n",
      "43 district\tarrondissement\n",
      "44 head\tleader\ttitle_leader\tseats1_title\tleader_name\n",
      "45 causes\tresult\n",
      "46 generals\tcommander\n",
      "47 chief\tleader\tarrondissement\n",
      "48 league\tdivision\tleague\n",
      "49 agent\tdeputy\n",
      "50 mater\talma_mater\n",
      "51 name\teponym\tdeath_place\n",
      "52 dynasty\thouse\tdynasty\n",
      "53 last\tafter\tprev\tlast\n",
      "54 controller\tcontrolledby\n",
      "55 chef\tleader\n",
      "56 leads\tleader\n",
      "57 problem\tissue\n",
      "58 play\toffice\n",
      "59 division\tsubdivision_type\tteam\n",
      "60 establishedevent\testablished_event\n",
      "61 leader\tseats1_title\ttitle_leader\tsuccession\tbefore\talma_mater\tbirth_place\tdeath_place\n",
      "62 client\tindustry\tsuccession\tproducts\tspouse\tdeath_place\tparent\n",
      "63 deathpalce\tdeath_place\n",
      "64 developer\tdeveloper\tsponsor\n",
      "65 ruled\tregent\n",
      "66 subject\ttheme\tsubject\n",
      "67 creators\torigin\n",
      "68 occupations\toccupation\n",
      "69 theme\tdirector\tartist\n",
      "70 produced\tproducer\n",
      "71 estate\tsuccession\n",
      "72 before\tbefore\tpredecessor\tafter\talongside\tleader\n",
      "73 things\trelated\n",
      "74 die\tcommander\teponym\talongside\tfather\tissue\tleader\tchronology\n",
      "75 winners\tafter_election\n",
      "76 label\tlabel\tchronology\n",
      "77 works\tnotable_works\n",
      "78 spoken\tlanguage\n",
      "79 cause\tresult\n",
      "80 cities\tlegislature\n",
      "81 position\tplace\n",
      "82 heir\tsuccessor\tsuccession\n",
      "83 industry\tindustry\tclient\tsponsor\n",
      "84 region\tregion\teponym\tclient\tsubdivision_name\n",
      "85 domain\teponym\n",
      "86 type\ttype\tgenre\teponym\tcompany_type\n",
      "87 appointee\tappointer\n",
      "88 founded\tfounder\n",
      "89 land\tlocation_country\n",
      "90 successors\tsuccessor\n",
      "91 author\tbirth_place\twriter\tauthor\n",
      "92 regnet\tregent\n",
      "93 created\tcreator\tartist\n",
      "94 southern\tsouth\n",
      "95 mentor\tdirector\ttheme\tsponsor\n",
      "96 northern\tnorth\n",
      "97 father\tafter\tsuccessor\tdeath_place\tsuccession\tbirth_place\tspouse\tbefore\n",
      "98 directed\tdirector\n",
      "99 originate\tchronology\n",
      "100 parents\teducation\n",
      "101 commander\tcommander\tbirth_place\tdeath_place\n",
      "102 alma\tlocation\n",
      "103 made\tproducer\n",
      "104 chronology\tlabel\n",
      "105 study\tleader\n",
      "106 origin\torigin\tfield\n",
      "107 kind\tgenre\ttype\n",
      "108 education\teponym\n",
      "109 origins\torigin\n",
      "110 played\talongside\n",
      "111 timezone\ttimezone1_dst\ttimezone\n",
      "112 manager\tdirector\tparent\tmanager\n",
      "113 town\tchieftown\n",
      "114 cradle\torigin\n",
      "115 products\tclient\tproducts\n",
      "116 race\tethnicity\teponym\n",
      "117 leading\tevent_start\tleader\n",
      "118 owns\towner\n",
      "119 published\tpublisher\n",
      "120 wife\tspouse\teponym\tclient\tchronology\n",
      "121 developed\tdeveloper\n",
      "122 part\tname\tpartof\n",
      "123 children\tparents\n",
      "124 wrote\twriter\n",
      "125 election\tafter_election\tconstituency\torder\thonorific_suffix\toccupation\n",
      "126 artist\tartist\ttheme\n"
     ]
    }
   ],
   "source": [
    "valids = collect(valid_rel_align2)\n",
    "i = 1\n",
    "for (key, val) in valids[72:end]\n",
    "    length(val) == 1 && val[1] == key && continue\n",
    "    println(i, ' ', key, '\\t', join(val, '\\t'))\n",
    "    i += 1\n",
    "end"
   ]
  },
  {
   "cell_type": "code",
   "execution_count": 17,
   "id": "fde73f2f-8b0a-4227-9a28-2acbd249c66a",
   "metadata": {},
   "outputs": [],
   "source": [
    "# 删除强相关\n",
    "delete!.(Ref(valid_rel_align2), [\"descendant\", \"sponsor\", \"lead\", \"successor\"])\n",
    "# 纠正转义\n",
    "rectify_rules = (\n",
    "    \"beside ner\" => [\"alongside\"],\n",
    "    \"died\" => [\"death_place\"],\n",
    "    \"product\" => [\"products\"],\n",
    "    \"spouses\" => [\"spouse\"],\n",
    "    \"general\" => [\"commander\"],\n",
    "    \"represents\" => [\"deputy\"],\n",
    "    \"represent\" => [\"deputy\"],\n",
    "    \"address\" => [\"residence\", \"honorific_prefix\", \"ground\"],\n",
    "    \"timeline\" => [\"chronology\"],\n",
    "    \"area\" => [\"area\", \"subdivision_name\", \"region\"],\n",
    "    \"after\" => [\"successor\", \"next_show\"],\n",
    "    \"graduate\" => [\"education\"], # 正序\n",
    "    \"came\" => [\"birth_place\"],\n",
    "    \"job\" => [\"ccupation\", \"profession\"],\n",
    "    \"influence\" => [\"influenced\", \"influences\"],\n",
    "    \"influenced\" => [\"influenced\", \"influences\"],\n",
    "    \"east\" => [\"east\"],\n",
    "    \"born\" => [\"birth_place\"], # 顺序正向\n",
    "    \"customer\" => [\"client\"],\n",
    "    \"located\" => [\"location\", \"country\", \"state\", \"city\"], # 放在末尾\n",
    "    \"work\" => [\"work_institutions\", \"workplaces\"],\n",
    "    \"succeed\" => [\"succession\"], # 顺序正向\n",
    "    \"death\" => [\"death_place\"],\n",
    "    \"eponymous\" => [\"eponym\"],\n",
    "    \"live\" => [\"residence\"],\n",
    "    \"largest city\" => [\"largest_city\", \"largest_city_name\"],\n",
    "    \"city\" => []\n",
    ")\n",
    "for (key, val) in rectify_rules\n",
    "    valid_rel_align2[key] = val\n",
    "end\n",
    "# 完全相等\n",
    "same_rels = [\"title\", \"title leader\", \"location\", \"after election\",\n",
    "    \"spouse\", \"coach\", \"eponym\", \"alongside\"]\n",
    "for rel in same_rels\n",
    "    valid_rel_align2[rel] = [replace(rel, ' '=>'_')]\n",
    "end"
   ]
  },
  {
   "cell_type": "markdown",
   "id": "f3fdcf59-3e02-433c-8c61-fecd90725898",
   "metadata": {
    "tags": []
   },
   "source": [
    "### 方案3-词频筛选"
   ]
  },
  {
   "cell_type": "code",
   "execution_count": null,
   "id": "c8ba7ccd-1cdc-47b1-8a7c-669456491607",
   "metadata": {
    "tags": []
   },
   "outputs": [],
   "source": [
    "pairs = collect(sort_count(getindex.(mt_triples, 2)))"
   ]
  },
  {
   "cell_type": "code",
   "execution_count": null,
   "id": "9a1942bd-6e17-40d9-a21a-4b12940ac8d5",
   "metadata": {},
   "outputs": [],
   "source": [
    "consecutive(que::AbstractString, k::Int) = consecutive(split(que, ' '), k)\n",
    "consecutive(words::Vector, k::Int) = [join(words[i:i+k-1], '_') for i in 1:length(words)-k+1]"
   ]
  },
  {
   "cell_type": "code",
   "execution_count": null,
   "id": "bf2a6210-5bb4-43df-9f99-a534e3e1bf80",
   "metadata": {},
   "outputs": [],
   "source": [
    "rels = unique!(vcat(current_rels...))\n",
    "rel = rels[5]\n",
    "num = count(i->rel ∈ i, current_rels)\n",
    "println(rel, '\\t', num)\n",
    "sort_count(vcat(split.(current_ques[findall(i->rel ∈ i, current_rels)], ' ')...))\n",
    "# sort_count(vcat(consecutive.(current_ques[findall(i->rel ∈ i, current_rels)], 2)...))"
   ]
  },
  {
   "cell_type": "code",
   "execution_count": null,
   "id": "71e470a6-7c6f-4adf-a5c5-eca21c8f57cc",
   "metadata": {
    "tags": []
   },
   "outputs": [],
   "source": [
    "rel, _ = pairs[4]\n",
    "println(rel)\n",
    "ques = simplify_que.(query_rel(rel))\n",
    "println(length(ques))\n",
    "words = vcat(unique!.(split.(ques))...)\n",
    "sort_count(words)"
   ]
  }
 ],
 "metadata": {
  "kernelspec": {
   "display_name": "Julia 1.7.2",
   "language": "julia",
   "name": "julia-1.7"
  },
  "language_info": {
   "file_extension": ".jl",
   "mimetype": "application/julia",
   "name": "julia",
   "version": "1.7.2"
  }
 },
 "nbformat": 4,
 "nbformat_minor": 5
}
