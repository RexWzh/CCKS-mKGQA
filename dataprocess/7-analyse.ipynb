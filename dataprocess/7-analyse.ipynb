{
 "cells": [
  {
   "cell_type": "markdown",
   "id": "d8f3fe5f-001d-42d8-860a-ddd3d0f2d72c",
   "metadata": {},
   "source": [
    "# 数据分析"
   ]
  },
  {
   "cell_type": "markdown",
   "id": "df107136-7b7e-49e4-bdf3-2623bb4fdcb6",
   "metadata": {},
   "source": [
    "拟定方案：用模板匹配构建 mention => relation 字典\n",
    "\n",
    "注：方案未完全实现"
   ]
  },
  {
   "cell_type": "markdown",
   "id": "ee1428f0-9a68-4fdc-bb9b-c13ad12bf0e9",
   "metadata": {},
   "source": [
    "### 初始化"
   ]
  },
  {
   "cell_type": "code",
   "execution_count": 190,
   "id": "85325615-1dc5-4139-ace2-32ad5f63b960",
   "metadata": {},
   "outputs": [
    {
     "data": {
      "text/plain": [
       "chardist"
      ]
     },
     "execution_count": 190,
     "metadata": {},
     "output_type": "execute_result"
    }
   ],
   "source": [
    "include(\"../src/CCKS-mKGQA.jl\")\n",
    "include(\"../src/tools/regexpr.jl\")\n",
    "include(\"../src/process/translate.jl\")\n",
    "include(\"../src/tools/xlsx.jl\")\n",
    "include(\"../src/loaddata/extractdata.jl\") # 原始数据\n",
    "include(\"../src/loaddata/translatedata.jl\") # 翻译数据\n",
    "include(\"../src/tools/ettalign.jl\") # 对齐工具\n",
    "include(\"../src/datatype.jl\") # 数据结构\n",
    "include(\"../src/tools/distance.jl\")"
   ]
  },
  {
   "cell_type": "code",
   "execution_count": 191,
   "id": "457e270f-ae89-4da8-bb0c-6e23e8d45870",
   "metadata": {},
   "outputs": [],
   "source": [
    "## include ILLs files\n",
    "illpath = \"ILLs_4\"\n",
    "include(\"../src/loaddata/illsdata.jl\");"
   ]
  },
  {
   "cell_type": "code",
   "execution_count": 109,
   "id": "0005df7d-2100-4df7-824a-259e80f7054e",
   "metadata": {},
   "outputs": [],
   "source": [
    "edges = DefaultDict{String, Vector{Tuple}}(Vector{Tuple})\n",
    "for (_, sub, rel, obj) in raw_triples\n",
    "    push!(edges[sub], (rel, obj))\n",
    "end"
   ]
  },
  {
   "cell_type": "code",
   "execution_count": 27,
   "id": "a362c122-d1b6-4afc-b052-2cd8143fb2ae",
   "metadata": {},
   "outputs": [],
   "source": [
    "# 预处理\n",
    "# mt_train_ques = first.(unique!(mt_train_ques_rels))\n",
    "mt_train_ques = replace.(lowercase.(mt_train_ques), '?' =>\"\", \"do you know \" => \"\", r\"(.*)/ .*\" => s\"\\g<1>\");"
   ]
  },
  {
   "cell_type": "markdown",
   "id": "2ac931bb-392a-4167-a238-223f0e9d098e",
   "metadata": {
    "tags": []
   },
   "source": [
    "### 精确匹配"
   ]
  },
  {
   "cell_type": "code",
   "execution_count": 145,
   "id": "29cdbe46-9fa2-4abb-a091-db270e022956",
   "metadata": {},
   "outputs": [],
   "source": [
    "# 训练集已有关系\n",
    "dict_precise_ques = DefaultDict{String, Vector{Tuple}}(Vector{Tuple})\n",
    "for (que, _, rels...) in mt_train_ques_rels\n",
    "    Tuple(rels) ∈ dict_precise_ques[que] && continue\n",
    "    push!(dict_precise_ques[que], Tuple(rels))\n",
    "end"
   ]
  },
  {
   "cell_type": "code",
   "execution_count": null,
   "id": "fbe8b34f-2515-4971-9581-1b3f40c457ae",
   "metadata": {},
   "outputs": [
    {
     "data": {
      "text/plain": [
       "2-element Vector{Tuple}:\n",
       " (\"influences\", \"work_institutions\")\n",
       " (\"influences\", \"workplaces\")"
      ]
     },
     "execution_count": 146,
     "metadata": {},
     "output_type": "execute_result"
    }
   ],
   "source": [
    "que = \"where does the man who influenced NER work?\"\n",
    "dict_precise_ques[que]"
   ]
  },
  {
   "cell_type": "markdown",
   "id": "a378dff5-a1a8-4c7e-8df7-614e9ff30ece",
   "metadata": {
    "tags": []
   },
   "source": [
    "### 去停用词"
   ]
  },
  {
   "cell_type": "code",
   "execution_count": 3,
   "id": "e6330aba-d149-434e-9541-bf610935e32a",
   "metadata": {},
   "outputs": [
    {
     "data": {
      "text/plain": [
       "quesinfo (generic function with 1 method)"
      ]
     },
     "execution_count": 3,
     "metadata": {},
     "output_type": "execute_result"
    }
   ],
   "source": [
    "# 去停用词\n",
    "function simplify_que(que)\n",
    "    que = strip(replace(que, rules...))\n",
    "    newque = strip(replace(que, rules...))\n",
    "    while newque != que\n",
    "        que = newque\n",
    "        newque = strip(replace(que, rules...))\n",
    "    end\n",
    "    que\n",
    "end\n",
    "\n",
    "function quesinfo(id)\n",
    "    println(\"原始问句 | 翻译问句 | 简化问句 | 提交三元组\")\n",
    "    println(train_ques_ner[id][1])\n",
    "    println(mt_train_ques[id])\n",
    "    println(current_ques[id])\n",
    "    println.(train_sols[id])\n",
    "end"
   ]
  },
  {
   "cell_type": "code",
   "execution_count": 4,
   "id": "d8e274ba-35a9-402f-843e-3912d297b6db",
   "metadata": {},
   "outputs": [],
   "source": [
    "middlewords = \"(does|did|does|do|are|is|was|he|she|her|his|they|the|that|a|an|of\" # 介词助动词\n",
    "middlewords *= \"|[\\\\d-]+|used to|belong(s|)( to|)|involved (in|)|zoning\" # 短语\n",
    "middlewords *= \"|in|to|ner's|at|by|ners|ner|one|from)\"\n",
    "\n",
    "rules = (\n",
    "    r\"(.*)/ .*\" => s\"\\g<1>\", # 重复问句\n",
    "    r\"(who did a job|do you know|the car )\" => \"\", # 平凡短语\n",
    "    r\", (a|an) .*?[,?]\" => \"\", # 修饰词\n",
    "    \"'s \" => \" \",\n",
    "    r\"'s$\" => \"\",\n",
    "    Regex(\"^$middlewords \") => \"\",\n",
    "    Regex(\" $middlewords \") => \" \",\n",
    "    Regex(\" $middlewords\\$\") => \"\",\n",
    "    \"united states\" => \"\",\n",
    "    r\"(which|where|who|when|what's|what|how|whose) \" => \" \", # 疑问词\n",
    "    \"?\" => \"\",\n",
    "    \",\" => \"\",\n",
    "    \"-\" => \" \",\n",
    "    r\"\\(.*\\)\" => \"\",\n",
    "    r\" {2,}\" => \" \", # 消除空格\n",
    ");"
   ]
  },
  {
   "cell_type": "code",
   "execution_count": 5,
   "id": "f96685e1-2932-43de-90be-fe07c37ee55b",
   "metadata": {
    "tags": []
   },
   "outputs": [],
   "source": [
    "# 处理训练集\n",
    "# 问题集\n",
    "current_ques = simplify_que.(mt_train_ques)\n",
    "# 问题关系\n",
    "current_rels = [querel[3:end] for querel in mt_train_ques_rels]\n",
    "traversed = Set{String}()\n",
    "jump2, jump3 = Tuple{Int, String, Vector{String}}[], Tuple{Int, String, Vector{String}}[]\n",
    "for (i, (que, rels)) in enumerate(zip(current_ques, current_rels))\n",
    "    txt = join([que,'|', rels...], '\\t')\n",
    "    # txt ∈ traversed ? continue : push!(traversed, txt)\n",
    "    length(rels) == 2 ? push!(jump2, (i, que, rels)) : push!(jump3, (i, que, rels))\n",
    "end\n",
    "sort!(jump2; by=i->length(split(i[2], ' ')))\n",
    "sort!(jump3; by=i->length(split(i[2], ' ')));"
   ]
  },
  {
   "cell_type": "markdown",
   "id": "63c2f0a5-9d6c-490b-b7da-56ee2b0d1024",
   "metadata": {
    "tags": []
   },
   "source": [
    "### 方案4-辅助生成"
   ]
  },
  {
   "cell_type": "code",
   "execution_count": 55,
   "id": "5eafea83-16be-460c-8903-21636874b6e2",
   "metadata": {},
   "outputs": [
    {
     "data": {
      "text/plain": [
       "Set{Dict}()"
      ]
     },
     "execution_count": 55,
     "metadata": {},
     "output_type": "execute_result"
    }
   ],
   "source": [
    "# 筛选两单词问题\n",
    "# ind men rels\n",
    "test_ques = filter(i->length(split(i[2]))==2, jump2)\n",
    "\n",
    "# 从两单词问题提取正则模板\n",
    "tpls = Dict{Int, Regex}()\n",
    "\n",
    "# 训练集的 mention => relation 字典\n",
    "train_men2rel = Dict{Int, Dict}()\n",
    "# traversed_inds = fill(false, length(mt_train_ques))\n",
    "traversed = Set{Dict}()"
   ]
  },
  {
   "cell_type": "code",
   "execution_count": null,
   "id": "0a4ab599-bc8a-4900-a57b-e0b1e90f619b",
   "metadata": {},
   "outputs": [
    {
     "name": "stdout",
     "output_type": "stream",
     "text": [
      "question:\twhere is the capital (or provincial capital) of the country (city) affected by ner\n",
      "mention => rels:\tDict(\"affected\" => \"countries_affected\", \"capital\" => \"capital\")\n",
      "template:\tr\"^where is the (?P<men2>.*)  (?P<men1>.*) by ner$\"\n"
     ]
    }
   ],
   "source": [
    "# 生成模板\n",
    "testind = 1241\n",
    "# 提取 mentions\n",
    "ind, mens, (rel1, rel2) = test_ques[testind]\n",
    "men1, men2 = String.(split(mens))\n",
    "\n",
    "# 若反向匹配更优\n",
    "if chardist(men1, rel1) + chardist(men2, rel2) ≥ chardist(men1, rel2) + chardist(men2, rel1)\n",
    "    men1, men2 = men2, men1\n",
    "end\n",
    "\n",
    "# 建立字典\n",
    "train_men2rel[ind] = men2rel = Dict(men1 => rel1, men2 => rel2)\n",
    "\n",
    "# 生成模板\n",
    "que = mt_train_ques[ind]\n",
    "if men1 == men2\n",
    "    println(ind, '\\t', que)\n",
    "else\n",
    "    tpls[testind] = tpl = Regex('^' * replace(que, men2 => \"(?P<men2>.*)\", men1 => \"(?P<men1>.*)\", r\"\\(.*\\)\" => \"\") * '$')\n",
    "    println(\"question:\\t\", que)\n",
    "    println(\"mention => rels:\\t\", men2rel)\n",
    "    println(\"template:\\t\", tpl)\n",
    "end"
   ]
  },
  {
   "cell_type": "code",
   "execution_count": 31,
   "id": "7d83b94d-e145-47a4-a273-3b49849710bc",
   "metadata": {
    "tags": []
   },
   "outputs": [],
   "source": [
    "# 将模板应用于训练集\n",
    "inds = findall(ismatch(tpl), mt_train_ques)\n",
    "newdicts = Set{Dict}()\n",
    "for ind in inds\n",
    "    # 提取关系\n",
    "    que = mt_train_ques[ind]\n",
    "    length(que) == 5 && continue # 三跳问题略过\n",
    "    dict = match(tpl, que)\n",
    "    men1, men2 = String.([dict[\"men1\"], dict[\"men2\"]])\n",
    "    rel1, rel2 = mt_train_rels[ind]\n",
    "    max(length(split(men1)), length(split(men2))) > 3 && continue # 字符过长略过\n",
    "    # 记录关系\n",
    "    train_men2rel[ind] = men2rel = Dict(men1 => rel1, men2 => rel2)\n",
    "    men2rel ∈ values(newdicts) || push!(newdicts, men2rel)\n",
    "end\n",
    "union!(traversed, newdicts)\n",
    "println(length(newdicts))"
   ]
  },
  {
   "cell_type": "code",
   "execution_count": 67,
   "id": "72544365-a6f5-4580-8a95-ea35674d3df5",
   "metadata": {},
   "outputs": [],
   "source": [
    "# 筛选两单词问题\n",
    "# ind men rels\n",
    "test_ques = filter(i->length(split(i[2]))==2, jump2)\n",
    "\n",
    "# 从两单词问题提取正则模板\n",
    "tpls = Dict{Int, Regex}()\n",
    "invalids = [\"does\", \"did\", \"does\", \"do\", \"are\", \"is\", \"was\", \"he\", \"she\", \"her\", \"his\", \"they\", \"the\", \"that\", \"a\", \"an\", \"of\", \"in\", \"to\", \"ner's\", \"at\", \"by\", \"ners\", \"ner\", \"one\", \"from\"];"
   ]
  },
  {
   "cell_type": "code",
   "execution_count": 9,
   "id": "571ca44a-58be-4fd9-9b84-372d7126c49c",
   "metadata": {
    "tags": []
   },
   "outputs": [],
   "source": [
    "pairs = sort!(unique!(vcat(collect.(traversed)...)), by=i->length(first(i)));"
   ]
  },
  {
   "cell_type": "code",
   "execution_count": 10,
   "id": "0754f42a-c914-448c-9f46-1e894819aeee",
   "metadata": {},
   "outputs": [],
   "source": [
    "dict_io = open(\"analyse/dict_men2rel.txt\", \"w\")\n",
    "for (key, val) in filter(i->i[1]==i[2], pairs)\n",
    "    println(dict_io, key, '\\t', val)\n",
    "end\n",
    "for (key, val) in filter(i->i[1]!=i[2], pairs)\n",
    "    println(dict_io, key, '\\t', val)\n",
    "end\n",
    "close(dict_io)\n",
    "\n",
    "que_io = open(\"analyse/que_men2rel.txt\", \"w\")\n",
    "for vals in sort!(collect.(traversed); by = i -> min(length(i[1][1]), length(i[2][1])))\n",
    "    println(que_io, vals)\n",
    "end\n",
    "close(que_io)"
   ]
  }
 ],
 "metadata": {
  "kernelspec": {
   "display_name": "Julia 1.7.2",
   "language": "julia",
   "name": "julia-1.7"
  },
  "language_info": {
   "file_extension": ".jl",
   "mimetype": "application/julia",
   "name": "julia",
   "version": "1.7.2"
  }
 },
 "nbformat": 4,
 "nbformat_minor": 5
}
