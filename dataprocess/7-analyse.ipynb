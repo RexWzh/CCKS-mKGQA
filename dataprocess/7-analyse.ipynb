{
 "cells": [
  {
   "cell_type": "markdown",
   "id": "d8f3fe5f-001d-42d8-860a-ddd3d0f2d72c",
   "metadata": {},
   "source": [
    "# 数据分析"
   ]
  },
  {
   "cell_type": "markdown",
   "id": "df107136-7b7e-49e4-bdf3-2623bb4fdcb6",
   "metadata": {},
   "source": [
    "预处理\n",
    "1. 将 2/3 跳进行分类\n",
    "2. 剔除无关信息，比如 do you know/ who did a job 等\n",
    "3. 找出错误问题（策略待拟）\n",
    "\n",
    "关系抽取\n",
    "1. 识别关系在实体中的对齐，以及关系之间的对齐\n",
    "2. 识别问题中的关系模式\n",
    "\n",
    "语言模式\n",
    "- 1-5040 英文\n",
    "- 5041-9507 中文\n",
    "- 9508-14051 法语"
   ]
  },
  {
   "cell_type": "code",
   "execution_count": 4,
   "id": "85325615-1dc5-4139-ace2-32ad5f63b960",
   "metadata": {},
   "outputs": [],
   "source": [
    "include(\"../src/CCKS-mKGQA.jl\")\n",
    "include(\"../src/loaddata/extractdata.jl\") # 原始数据\n",
    "include(\"../src/loaddata/translatedata.jl\") # 翻译数据\n",
    "include(\"../src/tools/ettalign.jl\") # 对齐工具\n",
    "include(\"../src/datatype.jl\") # 数据结构"
   ]
  },
  {
   "cell_type": "code",
   "execution_count": 9,
   "id": "059ac5fd-5f44-4620-aa9a-02f4ad3fb887",
   "metadata": {},
   "outputs": [],
   "source": [
    "# illpath = \"ILLs_1\"\n",
    "# illpath = \"ILLs_2\"\n",
    "# illpath = \"ILLs_3\"\n",
    "# illpath = \"ILLs_4\"\n",
    "illpath = \"ILLs_official\"\n",
    "# illpath = \"ILLs_wiki\"\n",
    "include(\"../src/loaddata/illsdata.jl\");"
   ]
  },
  {
   "cell_type": "code",
   "execution_count": 6,
   "id": "c3db7317-6b1c-4022-ac65-6ecd01492999",
   "metadata": {},
   "outputs": [
    {
     "data": {
      "text/plain": [
       "query_rel (generic function with 1 method)"
      ]
     },
     "execution_count": 6,
     "metadata": {},
     "output_type": "execute_result"
    }
   ],
   "source": [
    "ismatch(reg::Regex, txt) = !isnothing(match(reg, txt))\n",
    "ismatch(reg::Regex) = Base.Fix1(ismatch, reg)\n",
    "query_rel(rel) = [que for (que, ner, rels...) in mt_train_ques_rels if rel ∈ rels]"
   ]
  },
  {
   "cell_type": "code",
   "execution_count": 61,
   "id": "e6330aba-d149-434e-9541-bf610935e32a",
   "metadata": {},
   "outputs": [
    {
     "data": {
      "text/plain": [
       "quesinfo (generic function with 1 method)"
      ]
     },
     "execution_count": 61,
     "metadata": {},
     "output_type": "execute_result"
    }
   ],
   "source": [
    "function simplify_que(que)\n",
    "    que = strip(replace(lowercase(que), rules...))\n",
    "    newque = strip(replace(que, rules...))\n",
    "    while newque != que\n",
    "        que = newque\n",
    "        newque = strip(replace(que, rules...))\n",
    "    end\n",
    "    que\n",
    "end\n",
    "function quesinfo(id)\n",
    "    println(\"原始问句，翻译问句，简化问句，提交三元组\")\n",
    "    println(train_ques_ner[id][1])\n",
    "    println(mt_train_ques[id])\n",
    "    println(current_ques[id])\n",
    "    println.(train_sols[id])\n",
    "end"
   ]
  },
  {
   "cell_type": "code",
   "execution_count": 80,
   "id": "831d4b31-e0d5-489b-a7c2-cbe297675a85",
   "metadata": {},
   "outputs": [
    {
     "name": "stdout",
     "output_type": "stream",
     "text": [
      "原始问句，翻译问句，简化问句，提交三元组\n",
      "在2014–15 AFC Ajax season里的人士属于哪个青年俱乐部\n",
      "which youth club do people in NER belong to?\n",
      "youth club people\n",
      "(\"en\", \"2014–15_AFC_Ajax_season\", \"name\", \"Ricardo_Kishna\")\n",
      "(\"zh\", \"里卡多·基舒拿\", \"youthclubs\", \"ADO海牙\")\n"
     ]
    },
    {
     "data": {
      "text/plain": [
       "2-element Vector{Nothing}:\n",
       " nothing\n",
       " nothing"
      ]
     },
     "execution_count": 80,
     "metadata": {},
     "output_type": "execute_result"
    }
   ],
   "source": [
    "quesinfo(5572)"
   ]
  },
  {
   "cell_type": "code",
   "execution_count": 83,
   "id": "d8e274ba-35a9-402f-843e-3912d297b6db",
   "metadata": {},
   "outputs": [],
   "source": [
    "middlewords = \"(does|did|does|do|are|is|was|he|she|her|his|they|the|that|a|an|of\" # 介词助动词\n",
    "middlewords *= \"|[\\\\d-]+|used to|belong(s|)( to|)|involved (in|)|zoning\" # 短语\n",
    "middlewords *= \"|in|to|ner's|at|by|ners|ner|one|from)\"\n",
    "\"united states,(which|where|who|when|what's|what|how|whose)\"\n",
    "\n",
    "rules = (\n",
    "    # 重复问句\n",
    "    r\"(.*)/ .*\" => s\"\\g<1>\",\n",
    "    # 平凡语句\n",
    "    r\"(who did a job|do you know|the car )\" => \"\",\n",
    "    # 修饰词\n",
    "    r\", (a|an) .*?[,?]\" => \"\",\n",
    "    # 介词助动词等\n",
    "    \"'s \" => \" \",\n",
    "    r\"'s$\" => \"\",\n",
    "    Regex(\"^$middlewords \") => \"\",\n",
    "    Regex(\" $middlewords \") => \" \",\n",
    "    Regex(\" $middlewords\\$\") => \"\",\n",
    "    \"united states\" => \"\",\n",
    "    # 疑问词\n",
    "    r\"(which|where|who|when|what's|what|how|whose) \" => \" \",\n",
    "    \"?\" => \"\",\n",
    "    \",\" => \"\",\n",
    "    \"-\" => \" \",\n",
    "    r\"\\(.*\\)\" => \"\",\n",
    "    r\" {2,}\" => \" \",\n",
    ");"
   ]
  },
  {
   "cell_type": "code",
   "execution_count": 88,
   "id": "6aeb0bf7-6d2f-45b4-a3a4-bb3ee5a774c9",
   "metadata": {},
   "outputs": [
    {
     "data": {
      "text/plain": [
       "OrderedDict{Int64, Int64} with 18 entries:\n",
       "  4  => 539\n",
       "  5  => 535\n",
       "  3  => 535\n",
       "  6  => 300\n",
       "  7  => 168\n",
       "  8  => 97\n",
       "  9  => 70\n",
       "  10 => 48\n",
       "  2  => 40\n",
       "  11 => 26\n",
       "  12 => 17\n",
       "  13 => 12\n",
       "  16 => 3\n",
       "  15 => 3\n",
       "  14 => 3\n",
       "  19 => 2\n",
       "  20 => 1\n",
       "  18 => 1"
      ]
     },
     "execution_count": 88,
     "metadata": {},
     "output_type": "execute_result"
    }
   ],
   "source": [
    "sort_count(@. length(split(getindex(jump3, 2), ' ')))"
   ]
  },
  {
   "cell_type": "code",
   "execution_count": 87,
   "id": "24ba0a49-1b3a-4dea-8fa7-5341e47512c7",
   "metadata": {
    "collapsed": true,
    "jupyter": {
     "outputs_hidden": true
    },
    "tags": []
   },
   "outputs": [
    {
     "data": {
      "text/plain": [
       "OrderedDict{Int64, Int64} with 18 entries:\n",
       "  3  => 1502\n",
       "  2  => 1248\n",
       "  4  => 891\n",
       "  5  => 484\n",
       "  6  => 287\n",
       "  7  => 228\n",
       "  8  => 132\n",
       "  9  => 83\n",
       "  1  => 70\n",
       "  10 => 51\n",
       "  11 => 24\n",
       "  12 => 16\n",
       "  13 => 8\n",
       "  14 => 4\n",
       "  20 => 3\n",
       "  15 => 2\n",
       "  19 => 1\n",
       "  18 => 1"
      ]
     },
     "execution_count": 87,
     "metadata": {},
     "output_type": "execute_result"
    }
   ],
   "source": [
    "sort_count(@. length(split(getindex(jump2, 2), ' ')))"
   ]
  },
  {
   "cell_type": "code",
   "execution_count": 84,
   "id": "f96685e1-2932-43de-90be-fe07c37ee55b",
   "metadata": {},
   "outputs": [],
   "source": [
    "current_ques = simplify_que.(mt_train_ques)\n",
    "current_rels = [querel[3:end] for querel in mt_train_ques_rels]\n",
    "traversed = Set{String}()\n",
    "jump2, jump3 = Tuple{Int, String, String}[], Tuple{Int, String, String}[]\n",
    "for (i, (que, rels)) in enumerate(zip(current_ques, current_rels))\n",
    "    txt = [que, join(rels, '\\t')]\n",
    "    join(txt, '\\t') ∈ traversed ? continue : push!(traversed, join(txt, '\\t'))\n",
    "    length(rels) == 2 ? push!(jump2, (i, txt...)) : push!(jump3, (i, txt...))\n",
    "end\n",
    "sort!(jump2; by=i->length(split(i[2], ' ')))\n",
    "sort!(jump3; by=i->length(split(i[2], ' ')))\n",
    "\n",
    "open(\"analyse/jump2.txt\", \"w\") do io\n",
    "    for (id, que, rels) in jump2\n",
    "        println(io, id, '\\t', que, \"|\\t|\", rels)\n",
    "    end\n",
    "end\n",
    "open(\"analyse/jump3.txt\", \"w\") do io\n",
    "    for (id, que, rels) in jump3\n",
    "        println(io, id, '\\t', que, \"|\\t|\", rels)\n",
    "    end\n",
    "end"
   ]
  },
  {
   "cell_type": "code",
   "execution_count": 6,
   "id": "4c514bac-976f-45e9-978f-5145c5ab032f",
   "metadata": {},
   "outputs": [],
   "source": [
    "open(\"valid_ques.txt\", \"w\") do io\n",
    "    for que in ill_valid_ques\n",
    "        println(io, simplify_que(que))\n",
    "    end\n",
    "end"
   ]
  },
  {
   "cell_type": "markdown",
   "id": "f3fdcf59-3e02-433c-8c61-fecd90725898",
   "metadata": {
    "tags": []
   },
   "source": [
    "### 统计词频"
   ]
  },
  {
   "cell_type": "code",
   "execution_count": 184,
   "id": "c8ba7ccd-1cdc-47b1-8a7c-669456491607",
   "metadata": {},
   "outputs": [],
   "source": [
    "pairs = collect(sort_count(getindex.(mt_triples, 2)));"
   ]
  },
  {
   "cell_type": "code",
   "execution_count": 187,
   "id": "71e470a6-7c6f-4adf-a5c5-eca21c8f57cc",
   "metadata": {
    "tags": []
   },
   "outputs": [
    {
     "name": "stdout",
     "output_type": "stream",
     "text": [
      "location\n",
      "951\n"
     ]
    },
    {
     "data": {
      "text/plain": [
       "OrderedDict{SubString{String}, Int64} with 317 entries:\n",
       "  \"location\"       => 774\n",
       "  \"to\"             => 162\n",
       "  \"in\"             => 140\n",
       "  \"team\"           => 138\n",
       "  \"event\"          => 132\n",
       "  \"national\"       => 130\n",
       "  \"east\"           => 104\n",
       "  \"name\"           => 101\n",
       "  \"north\"          => 86\n",
       "  \"leader\"         => 82\n",
       "  \"west\"           => 80\n",
       "  \"subdivision\"    => 72\n",
       "  \"type\"           => 70\n",
       "  \"title\"          => 58\n",
       "  \"located\"        => 57\n",
       "  \"position\"       => 56\n",
       "  \"capital\"        => 48\n",
       "  \"starts\"         => 47\n",
       "  \"administrative\" => 45\n",
       "  \"established\"    => 43\n",
       "  \"zone\"           => 40\n",
       "  \"eastern\"        => 40\n",
       "  \"northwest\"      => 38\n",
       "  \"time\"           => 38\n",
       "  \"division\"       => 38\n",
       "  ⋮                => ⋮"
      ]
     },
     "execution_count": 187,
     "metadata": {},
     "output_type": "execute_result"
    }
   ],
   "source": [
    "rel, _ = pairs[4]\n",
    "println(rel)\n",
    "ques = simplify_que.(query_rel(rel))\n",
    "println(length(ques))\n",
    "words = vcat(unique!.(split.(ques))...)\n",
    "sort_count(words)"
   ]
  }
 ],
 "metadata": {
  "kernelspec": {
   "display_name": "Julia 1.7.2",
   "language": "julia",
   "name": "julia-1.7"
  },
  "language_info": {
   "file_extension": ".jl",
   "mimetype": "application/julia",
   "name": "julia",
   "version": "1.7.2"
  }
 },
 "nbformat": 4,
 "nbformat_minor": 5
}
