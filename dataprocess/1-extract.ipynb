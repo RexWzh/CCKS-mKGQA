{
 "cells": [
  {
   "cell_type": "markdown",
   "id": "5ffd645f-9fb0-4605-aa1b-369435dc0a56",
   "metadata": {},
   "source": [
    "# 预处理"
   ]
  },
  {
   "cell_type": "markdown",
   "id": "e7882767-2ae6-4678-84fd-37bf307a1ff1",
   "metadata": {
    "tags": []
   },
   "source": [
    "### 概要/说明："
   ]
  },
  {
   "cell_type": "markdown",
   "id": "d29d979d-2871-4dc4-a65e-f0d4dbbdbdec",
   "metadata": {},
   "source": [
    "- 从 `raw_data` 提取数据，放在 `extract`\n",
    "- 输入 `include(\"../src/extractdata.jl\")` 导入提取内容"
   ]
  },
  {
   "cell_type": "markdown",
   "id": "66e6caed-1c13-4a5c-abf4-3dfe4943d47c",
   "metadata": {
    "tags": []
   },
   "source": [
    "主要内容：\n",
    "- 提取训练数据: `问题-实体\\n 三元组1，2，3`\n",
    "- 提取对齐信息：去重去等，补充少量对齐（从训练集得来）\n",
    "- 纠正错位问题：规则参见 `../src/regexpr.jl`"
   ]
  },
  {
   "cell_type": "markdown",
   "id": "738e773a-ccf0-41a2-bc0b-490d5207cd19",
   "metadata": {
    "tags": []
   },
   "source": [
    "### 导入正则表达式"
   ]
  },
  {
   "cell_type": "code",
   "execution_count": 35,
   "id": "9f6d8c45-31e1-4b84-b793-9a1f6f0d2601",
   "metadata": {},
   "outputs": [
    {
     "data": {
      "text/plain": [
       "rectify_que (generic function with 1 method)"
      ]
     },
     "execution_count": 35,
     "metadata": {},
     "output_type": "execute_result"
    }
   ],
   "source": [
    "# 从链接中提取关键词\n",
    "cd(\"../data\")\n",
    "mkpath(\"extract\")\n",
    "include(\"../src/regexpr.jl\")"
   ]
  },
  {
   "cell_type": "code",
   "execution_count": 36,
   "id": "e1d1691f-4224-4339-a721-8334ef099485",
   "metadata": {
    "tags": []
   },
   "outputs": [],
   "source": [
    "# 提取英文三元组\n",
    "extract_io = open(\"extract/triple_en.txt\", \"w\")\n",
    "open(\"raw_data/triple_en.txt\", \"r\") do io\n",
    "    while true\n",
    "        line = readline(io)\n",
    "        isempty(line) && break\n",
    "        println(extract_io, join(line2triple(line), '\\t'))\n",
    "    end\n",
    "end\n",
    "close(extract_io)"
   ]
  },
  {
   "cell_type": "code",
   "execution_count": 37,
   "id": "1a260156-28ff-4bbd-b6b8-d7c80cf758f2",
   "metadata": {
    "tags": []
   },
   "outputs": [],
   "source": [
    "# 提取中文三元组\n",
    "extract_io = open(\"extract/triple_zh.txt\", \"w\")\n",
    "open(\"raw_data/triple_zh.txt\", \"r\") do io\n",
    "    while true\n",
    "        line = readline(io)\n",
    "        isempty(line) && break\n",
    "        println(extract_io, join(line2triple(line;en=false), '\\t'))\n",
    "    end\n",
    "end\n",
    "close(extract_io)"
   ]
  },
  {
   "cell_type": "markdown",
   "id": "9dd551fe-08bc-4cf4-9249-d639d3a72f08",
   "metadata": {
    "tags": []
   },
   "source": [
    "### 实体对齐"
   ]
  },
  {
   "cell_type": "code",
   "execution_count": 38,
   "id": "60021859-4296-4615-a4ac-931954040e7e",
   "metadata": {
    "tags": []
   },
   "outputs": [],
   "source": [
    "# 提取实体对齐\n",
    "doubles = Tuple{String,String}[]\n",
    "open(\"raw_data/ILLs(zh-en).txt\", \"r\") do io\n",
    "    while true\n",
    "        line = readline(io)\n",
    "        isempty(line) && break\n",
    "        en, _, zh = split(line, ' ')\n",
    "        push!(doubles, \n",
    "            (get_txt(en_obj_reg, en), get_txt(zh_obj_reg, zh)))\n",
    "    end\n",
    "end\n",
    "unique!(doubles) # 去重\n",
    "push!(doubles, # 补充知识图谱对齐\n",
    "    (\"Huizhou\" , \"惠州市\"),\n",
    "    (\"Leonid_Brezhnev\", \"列昂尼德·伊里奇·勃列日涅夫\"),\n",
    "    (\"Li_Qingzhao\", \"李清照\"),\n",
    "    (\"Sun_Lianzhong\", \"孫連仲\"))\n",
    "\n",
    "# 写入文件\n",
    "open(\"extract/ILLs(zh-en).txt\", \"w\") do io\n",
    "    for (en, zh) in doubles\n",
    "        en == zh && continue\n",
    "        println(io, en, '\\t', zh)\n",
    "    end\n",
    "end"
   ]
  },
  {
   "cell_type": "markdown",
   "id": "7b55fead-ed94-4629-b1a7-013930257c99",
   "metadata": {},
   "source": [
    "### 训练集"
   ]
  },
  {
   "cell_type": "code",
   "execution_count": 39,
   "id": "3c09d29b-e194-4a67-a384-663ca431eda8",
   "metadata": {},
   "outputs": [
    {
     "data": {
      "text/plain": [
       "QandA"
      ]
     },
     "execution_count": 39,
     "metadata": {},
     "output_type": "execute_result"
    }
   ],
   "source": [
    "# 提取训练集信息\n",
    "\"\"\"获取三元组信息\"\"\"\n",
    "function triple_info(triple)\n",
    "    s1 = match(en_obj_reg, first(triple))\n",
    "    isnothing(s1) ? \"zh\\t\" * join(get_txt.(\n",
    "            [zh_obj_reg, zh_rel_reg, zh_obj_reg], triple),'\\t') : \"en\\t\" * join(get_txt.(\n",
    "            [en_obj_reg, en_rel_reg, en_obj_reg], triple),'\\t')\n",
    "end\n",
    "\n",
    "\"\"\"拆分问题和答案\"\"\"\n",
    "function QandA(txt)\n",
    "    que, sols = split(txt, '\\t')\n",
    "    que, sols = rectify_que(que), split(sols, '#')\n",
    "    ner = split(triple_info(sols[1:3]), '\\t')[2]\n",
    "    \"$que\\t$ner\\n\" *\n",
    "    join([triple_info(sols[3 * i - 2: 3 * i]) for i in 1:Int(length(sols)/3)],'\\n','\\n')\n",
    "end\n",
    "# print(QandA(\"which official language is used by the country that is affected by 1957 Mongolia earthquake?\t<http://dbpedia.org/resource/1957_Mongolia_earthquake>#<http://dbpedia.org/property/countriesAffected>#<http://dbpedia.org/resource/Mongolia>#<http://zh.dbpedia.org/resource/蒙古国>#<http://zh.dbpedia.org/property/官方文字>#<http://zh.dbpedia.org/resource/蒙古字母>\"))"
   ]
  },
  {
   "cell_type": "code",
   "execution_count": 40,
   "id": "275e8a77-3d34-43eb-ad5a-704a7af44d36",
   "metadata": {
    "tags": []
   },
   "outputs": [],
   "source": [
    "# 写入文件\n",
    "txts = unique!(split(strip(read(open(\"raw_data/train_data.txt\", \"r\"), String)), '\\n'))\n",
    "extract_io = open(\"extract/train_data.txt\", \"w\")\n",
    "\n",
    "# 跳过 26 个乱码问题\n",
    "error = [2507,2961,9562,9669,10640,10699,10981,11374,11539,11730,11914,11983,11990,12042,12229,12281,12373,12629,12676,12767, 853, 1832, 2020, 2376, 2959, 2051]\n",
    "for (i, txt) in enumerate(txts)\n",
    "    i ∈ error && continue\n",
    "    println(extract_io, QandA(txt), '\\n')\n",
    "end\n",
    "close(extract_io)"
   ]
  },
  {
   "cell_type": "markdown",
   "id": "58d0a893-ba9d-4f3d-a1ad-e86085ba3894",
   "metadata": {},
   "source": [
    "### 验证集"
   ]
  },
  {
   "cell_type": "code",
   "execution_count": 41,
   "id": "e364a8d1-73a9-47eb-8c2f-a98019ba0e62",
   "metadata": {
    "tags": []
   },
   "outputs": [],
   "source": [
    "# 处理验证集\n",
    "txts = split(strip(read(open(\"raw_data/valid_data.txt\", \"r\"), String)), '\\n')\n",
    "valid_ques = rectify_que.([last(split(strip(txt), '\\t')) for txt in txts])\n",
    "valid_ques[233] = \"which national team does Seattle Sounders FC 2's coach belong to?\"\n",
    "valid_ques[284] = \"what is the club that Seattle Sounders FC 2's head coach belongs to?\"\n",
    "valid_ques[418] = \"which sport does 2014–15 SC Freiburg season's coach play?\"\n",
    "valid_ques[280] = \"who is the predecessor of the one that is after election of Italian general election, 1874?\"\n",
    "\n",
    "extract_io = open(\"extract/valid_data.txt\", \"w\")\n",
    "for que in valid_ques\n",
    "    println(extract_io, que)\n",
    "end\n",
    "close(extract_io)"
   ]
  },
  {
   "cell_type": "code",
   "execution_count": null,
   "id": "368bc1ba-2847-4978-8725-2243aa65c6a8",
   "metadata": {},
   "outputs": [],
   "source": []
  }
 ],
 "metadata": {
  "kernelspec": {
   "display_name": "Julia 1.7.2",
   "language": "julia",
   "name": "julia-1.7"
  },
  "language_info": {
   "file_extension": ".jl",
   "mimetype": "application/julia",
   "name": "julia",
   "version": "1.7.2"
  }
 },
 "nbformat": 4,
 "nbformat_minor": 5
}
