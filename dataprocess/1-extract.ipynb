{
 "cells": [
  {
   "cell_type": "markdown",
   "id": "5ffd645f-9fb0-4605-aa1b-369435dc0a56",
   "metadata": {},
   "source": [
    "# 预处理"
   ]
  },
  {
   "cell_type": "markdown",
   "id": "e7882767-2ae6-4678-84fd-37bf307a1ff1",
   "metadata": {
    "tags": []
   },
   "source": [
    "### 概要/说明："
   ]
  },
  {
   "cell_type": "markdown",
   "id": "d29d979d-2871-4dc4-a65e-f0d4dbbdbdec",
   "metadata": {},
   "source": [
    "- 从 `raw_data` 提取数据，放在 `extract`\n",
    "- 输入 `include(\"../src/extractdata.jl\")` 导入提取内容"
   ]
  },
  {
   "cell_type": "markdown",
   "id": "66e6caed-1c13-4a5c-abf4-3dfe4943d47c",
   "metadata": {
    "tags": []
   },
   "source": [
    "主要内容：\n",
    "- 提取训练数据: `问题-实体\\n 三元组1，2，3`\n",
    "- 提取对齐信息：去重去等，补充少量对齐（从训练集得来）\n",
    "- 纠正错位问题：规则参见 `../src/regexpr.jl`"
   ]
  },
  {
   "cell_type": "markdown",
   "id": "738e773a-ccf0-41a2-bc0b-490d5207cd19",
   "metadata": {
    "tags": []
   },
   "source": [
    "### 导入正则表达式"
   ]
  },
  {
   "cell_type": "code",
   "execution_count": 6,
   "id": "9f6d8c45-31e1-4b84-b793-9a1f6f0d2601",
   "metadata": {},
   "outputs": [
    {
     "data": {
      "text/plain": [
       "rectify_que (generic function with 1 method)"
      ]
     },
     "execution_count": 6,
     "metadata": {},
     "output_type": "execute_result"
    }
   ],
   "source": [
    "# 从链接中提取关键词\n",
    "cd(\"../data/\")\n",
    "mkpath(\"extract\")\n",
    "include(\"../src/tools/regexpr.jl\")"
   ]
  },
  {
   "cell_type": "code",
   "execution_count": 7,
   "id": "e1d1691f-4224-4339-a721-8334ef099485",
   "metadata": {
    "tags": []
   },
   "outputs": [],
   "source": [
    "# 提取英文三元组\n",
    "extract_io = open(\"extract/triple_en.txt\", \"w\")\n",
    "open(\"raw_data/triple_en.txt\", \"r\") do io\n",
    "    while true\n",
    "        line = readline(io)\n",
    "        isempty(line) && break\n",
    "        println(extract_io, join(line2triple(line), '\\t'))\n",
    "    end\n",
    "end\n",
    "close(extract_io)"
   ]
  },
  {
   "cell_type": "code",
   "execution_count": 4,
   "id": "1a260156-28ff-4bbd-b6b8-d7c80cf758f2",
   "metadata": {
    "tags": []
   },
   "outputs": [],
   "source": [
    "# 提取中文三元组\n",
    "extract_io = open(\"extract/triple_zh.txt\", \"w\")\n",
    "open(\"raw_data/triple_zh.txt\", \"r\") do io\n",
    "    while true\n",
    "        line = readline(io)\n",
    "        isempty(line) && break\n",
    "        println(extract_io, join(line2triple(line;en=false), '\\t'))\n",
    "    end\n",
    "end\n",
    "close(extract_io)"
   ]
  },
  {
   "cell_type": "markdown",
   "id": "9dd551fe-08bc-4cf4-9249-d639d3a72f08",
   "metadata": {
    "jp-MarkdownHeadingCollapsed": true,
    "tags": []
   },
   "source": [
    "### 实体对齐"
   ]
  },
  {
   "cell_type": "code",
   "execution_count": 5,
   "id": "60021859-4296-4615-a4ac-931954040e7e",
   "metadata": {
    "tags": []
   },
   "outputs": [],
   "source": [
    "# 提取实体对齐\n",
    "doubles = Tuple{String,String}[]\n",
    "open(\"raw_data/ILLs(zh-en).txt\", \"r\") do io\n",
    "    while true\n",
    "        line = readline(io)\n",
    "        isempty(line) && break\n",
    "        en, _, zh = split(line, ' ')\n",
    "        push!(doubles, \n",
    "            (get_txt(en_obj_reg, en), get_txt(zh_obj_reg, zh)))\n",
    "    end\n",
    "end\n",
    "unique!(doubles) # 去重\n",
    "push!(doubles, # 补充知识图谱对齐\n",
    "    (\"Huizhou\" , \"惠州市\"),\n",
    "    (\"Leonid_Brezhnev\", \"列昂尼德·伊里奇·勃列日涅夫\"),\n",
    "    (\"Li_Qingzhao\", \"李清照\"),\n",
    "    (\"Sun_Lianzhong\", \"孫連仲\"))\n",
    "\n",
    "# 写入文件\n",
    "open(\"extract/ILLs(zh-en).txt\", \"w\") do io\n",
    "    for (en, zh) in doubles\n",
    "        en == zh && continue\n",
    "        println(io, en, '\\t', zh)\n",
    "    end\n",
    "end"
   ]
  },
  {
   "cell_type": "markdown",
   "id": "7b55fead-ed94-4629-b1a7-013930257c99",
   "metadata": {
    "tags": []
   },
   "source": [
    "### 训练集"
   ]
  },
  {
   "cell_type": "code",
   "execution_count": 1,
   "id": "3c09d29b-e194-4a67-a384-663ca431eda8",
   "metadata": {},
   "outputs": [
    {
     "data": {
      "text/plain": [
       "QandA"
      ]
     },
     "execution_count": 1,
     "metadata": {},
     "output_type": "execute_result"
    }
   ],
   "source": [
    "# 提取训练集信息\n",
    "\n",
    "# print(QandA(\"which official language is used by the country that is affected by 1957 Mongolia earthquake?\t<http://dbpedia.org/resource/1957_Mongolia_earthquake>#<http://dbpedia.org/property/countriesAffected>#<http://dbpedia.org/resource/Mongolia>#<http://zh.dbpedia.org/resource/蒙古国>#<http://zh.dbpedia.org/property/官方文字>#<http://zh.dbpedia.org/resource/蒙古字母>\"))"
   ]
  },
  {
   "cell_type": "code",
   "execution_count": 48,
   "id": "275e8a77-3d34-43eb-ad5a-704a7af44d36",
   "metadata": {
    "tags": []
   },
   "outputs": [],
   "source": [
    "# 写入文件\n",
    "txts = unique!(split(strip(read(open(\"raw_data/train_data.txt\", \"r\"), String)), '\\n'))\n",
    "extract_io = open(\"extract/train_data.txt\", \"w\")\n",
    "train_ques_io = open(\"extract/train_ques.txt\", \"w\")\n",
    "\n",
    "# 跳过 26 个乱码问题\n",
    "error = [2507,2961,9562,9669,10640,10699,10981,11374,11539,11730,11914,11983,11990,12042,12229,12281,12373,12629,12676,12767, 853, 1832, 2020, 2376, 2959, 2051]\n",
    "for (i, txt) in enumerate(txts)\n",
    "    i ∈ error && continue\n",
    "    que, sols = split(strip(txt), '\\t')\n",
    "    que, sols = rectify_que(que), split(sols, '#')\n",
    "    triples = triple_info.(partition(sols, 3))\n",
    "    ner = triples[1][2]\n",
    "    # 训练集 + ner + 三元组\n",
    "    println(extract_io, que, '\\t', ner)\n",
    "    println(extract_io, join(join.(triples, '\\t'), '\\n'), '\\n')\n",
    "    # 训练集 + ner + 关系\n",
    "    println(train_ques_io, que, '\\t', ner, '\\t', join(getindex.(triples, 3), '\\t'))\n",
    "end\n",
    "close(extract_io)"
   ]
  },
  {
   "cell_type": "markdown",
   "id": "58d0a893-ba9d-4f3d-a1ad-e86085ba3894",
   "metadata": {},
   "source": [
    "### 验证集"
   ]
  },
  {
   "cell_type": "code",
   "execution_count": 8,
   "id": "e364a8d1-73a9-47eb-8c2f-a98019ba0e62",
   "metadata": {
    "tags": []
   },
   "outputs": [],
   "source": [
    "# 处理验证集\n",
    "txts = split(strip(read(open(\"raw_data/valid_data.txt\", \"r\"), String)), '\\n')\n",
    "valid_ques = rectify_que.([last(split(strip(txt), '\\t')) for txt in txts])\n",
    "valid_ques[233] = \"which national team does Seattle Sounders FC 2's coach belong to?\"\n",
    "valid_ques[284] = \"what is the club that Seattle Sounders FC 2's head coach belongs to?\"\n",
    "valid_ques[418] = \"which sport does 2014–15 SC Freiburg season's coach play?\"\n",
    "valid_ques[280] = \"who is the predecessor of the one that is after election of Italian general election, 1874?\"\n",
    "\n",
    "extract_io = open(\"extract/valid_data.txt\", \"w\")\n",
    "for que in valid_ques\n",
    "    println(extract_io, que)\n",
    "end\n",
    "close(extract_io)"
   ]
  },
  {
   "cell_type": "markdown",
   "id": "d658afc5-4d38-442f-8b4c-d8483555cc34",
   "metadata": {},
   "source": [
    "### 最终验证集"
   ]
  },
  {
   "cell_type": "code",
   "execution_count": 9,
   "id": "237b4f5c-5fe2-465d-9aea-f04b0a9eda05",
   "metadata": {
    "collapsed": true,
    "jupyter": {
     "outputs_hidden": true
    },
    "tags": []
   },
   "outputs": [
    {
     "data": {
      "text/plain": [
       "1500-element Vector{String}:\n",
       " \"who is influenced by the origin of Cézanne_(crater)'s name?\"\n",
       " \"Savez-vous quel est le nom de l\" ⋯ 135 bytes ⋯ \"-ball universitaire américain?\"\n",
       " \"Hero_(Super_Junior_album)的头衔的作词者的职业是什么\"\n",
       " \"Savez-vous où est le berceau de\" ⋯ 27 bytes ⋯ \"e club de UEFA_Euro_2012_squads\"\n",
       " \"Qui est le prédécesseurs de Élection après Taiwan_legislative_election,_1995\"\n",
       " \"who is the predecessor of the o\" ⋯ 53 bytes ⋯ \"ction_in_Wyoming,_2000, a wahl?\"\n",
       " \"what is the job of the author o\" ⋯ 29 bytes ⋯ \"io drama written by paul magrs?\"\n",
       " \"和French_cruiser_Georges_Leygues名称一样的人或事物的前任是什么\"\n",
       " \"Savez-vous où se trouve l'adres\" ⋯ 59 bytes ⋯ \"14–15_Panathinaikos_F.C._season\"\n",
       " \"Savez-vous quelles sont les pos\" ⋯ 63 bytes ⋯ \"Party_leadership_election,_1997\"\n",
       " \"what is the office of the one t\" ⋯ 66 bytes ⋯ \"onstituency)_by-election,_2001?\"\n",
       " \"À quel parti appartient Élection après Estonian_parliamentary_election,_2003\"\n",
       " \"who is the predecessor of the p\" ⋯ 45 bytes ⋯ \"s French_ship_Alexandre_(1857)?\"\n",
       " ⋮\n",
       " \"Volta_(crater)名称的来源属于哪个领域的\"\n",
       " \"Savez-vous où se déroule la Le nom du navire de French_ship_Rivoli_(1810)?\"\n",
       " \"who is earlier than the one tha\" ⋯ 26 bytes ⋯ \"nch_legislative_election,_1914?\"\n",
       " \"Savez-vous où se déroule la Le nom du navire de Italian_cruiser_Varese?\"\n",
       " \"what is the author of Stormy_Weather_(Lena_Horne_album)?\"\n",
       " \"where is the people, things and\" ⋯ 54 bytes ⋯ \"lian line passenger ship, born?\"\n",
       " \"which party does the one that i\" ⋯ 34 bytes ⋯ \"ative_election,_1981 belong to?\"\n",
       " \"Savez-vous qui est le prédécess\" ⋯ 41 bytes ⋯ \"Party_leadership_election,_2001\"\n",
       " \"2010_FIFA_World_Cup_qualification_–_AFC_Third_Round的举办地的继任者的继任者是哪位\"\n",
       " \"Reuss_(river)的发源地的立法机构属于哪个党派\"\n",
       " \"which title does the one that i\" ⋯ 27 bytes ⋯ \"legislative_election,_1893 own?\"\n",
       " \"what is the origin of Baco_(crater)'s name?\""
      ]
     },
     "execution_count": 9,
     "metadata": {},
     "output_type": "execute_result"
    }
   ],
   "source": [
    "txts = split(strip(read(open(\"raw_data/valid_data.txt\", \"r\"), String)), '\\n')\n",
    "valid_ques = rectify_que.([last(split(strip(txt), '\\t')) for txt in txts])"
   ]
  },
  {
   "cell_type": "code",
   "execution_count": 10,
   "id": "529c3a7b-9049-4e3a-abf8-ad1ffbdc799f",
   "metadata": {},
   "outputs": [],
   "source": [
    "extract_io = open(\"extract/valid_data.txt\", \"w\")\n",
    "for que in valid_ques\n",
    "    println(extract_io, que)\n",
    "end\n",
    "close(extract_io)"
   ]
  }
 ],
 "metadata": {
  "kernelspec": {
   "display_name": "Julia 1.7.2",
   "language": "julia",
   "name": "julia-1.7"
  },
  "language_info": {
   "file_extension": ".jl",
   "mimetype": "application/julia",
   "name": "julia",
   "version": "1.7.2"
  }
 },
 "nbformat": 4,
 "nbformat_minor": 5
}
