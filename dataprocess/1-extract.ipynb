{
 "cells": [
  {
   "cell_type": "markdown",
   "id": "5ffd645f-9fb0-4605-aa1b-369435dc0a56",
   "metadata": {},
   "source": [
    "# 预处理"
   ]
  },
  {
   "cell_type": "markdown",
   "id": "e7882767-2ae6-4678-84fd-37bf307a1ff1",
   "metadata": {
    "tags": []
   },
   "source": [
    "### 概要/说明："
   ]
  },
  {
   "cell_type": "markdown",
   "id": "d29d979d-2871-4dc4-a65e-f0d4dbbdbdec",
   "metadata": {},
   "source": [
    "- 从 `raw_data` 提取数据，放在 `extract`\n",
    "- 输入 `include(\"../src/extractdata.jl\")` 导入提取内容"
   ]
  },
  {
   "cell_type": "markdown",
   "id": "66e6caed-1c13-4a5c-abf4-3dfe4943d47c",
   "metadata": {
    "tags": []
   },
   "source": [
    "主要内容：\n",
    "- 提取训练数据: `问题-实体\\n 三元组1，2，3`\n",
    "- 提取对齐信息：去重去等，补充少量对齐（从训练集得来）\n",
    "- 纠正错位问题：规则参见 `../src/regexpr.jl`"
   ]
  },
  {
   "cell_type": "markdown",
   "id": "738e773a-ccf0-41a2-bc0b-490d5207cd19",
   "metadata": {
    "tags": []
   },
   "source": [
    "### 导入正则表达式"
   ]
  },
  {
   "cell_type": "code",
   "execution_count": 1,
   "id": "9f6d8c45-31e1-4b84-b793-9a1f6f0d2601",
   "metadata": {},
   "outputs": [
    {
     "data": {
      "text/plain": [
       "rectify_que (generic function with 1 method)"
      ]
     },
     "execution_count": 1,
     "metadata": {},
     "output_type": "execute_result"
    }
   ],
   "source": [
    "# 从链接中提取关键词\n",
    "cd(\"../data/\")\n",
    "mkpath(\"extract\")\n",
    "include(\"../src/tools/regexpr.jl\")"
   ]
  },
  {
   "cell_type": "code",
   "execution_count": 3,
   "id": "e1d1691f-4224-4339-a721-8334ef099485",
   "metadata": {
    "tags": []
   },
   "outputs": [],
   "source": [
    "# 提取英文三元组\n",
    "extract_io = open(\"extract/triple_en.txt\", \"w\")\n",
    "open(\"raw_data/triple_en.txt\", \"r\") do io\n",
    "    while true\n",
    "        line = readline(io)\n",
    "        isempty(line) && break\n",
    "        println(extract_io, join(line2triple(line), '\\t'))\n",
    "    end\n",
    "end\n",
    "close(extract_io)"
   ]
  },
  {
   "cell_type": "code",
   "execution_count": 4,
   "id": "1a260156-28ff-4bbd-b6b8-d7c80cf758f2",
   "metadata": {
    "tags": []
   },
   "outputs": [],
   "source": [
    "# 提取中文三元组\n",
    "extract_io = open(\"extract/triple_zh.txt\", \"w\")\n",
    "open(\"raw_data/triple_zh.txt\", \"r\") do io\n",
    "    while true\n",
    "        line = readline(io)\n",
    "        isempty(line) && break\n",
    "        println(extract_io, join(line2triple(line;en=false), '\\t'))\n",
    "    end\n",
    "end\n",
    "close(extract_io)"
   ]
  },
  {
   "cell_type": "markdown",
   "id": "9dd551fe-08bc-4cf4-9249-d639d3a72f08",
   "metadata": {
    "jp-MarkdownHeadingCollapsed": true,
    "tags": []
   },
   "source": [
    "### 实体对齐"
   ]
  },
  {
   "cell_type": "code",
   "execution_count": 5,
   "id": "60021859-4296-4615-a4ac-931954040e7e",
   "metadata": {
    "tags": []
   },
   "outputs": [],
   "source": [
    "# 提取实体对齐\n",
    "doubles = Tuple{String,String}[]\n",
    "open(\"raw_data/ILLs(zh-en).txt\", \"r\") do io\n",
    "    while true\n",
    "        line = readline(io)\n",
    "        isempty(line) && break\n",
    "        en, _, zh = split(line, ' ')\n",
    "        push!(doubles, \n",
    "            (get_txt(en_obj_reg, en), get_txt(zh_obj_reg, zh)))\n",
    "    end\n",
    "end\n",
    "unique!(doubles) # 去重\n",
    "push!(doubles, # 补充知识图谱对齐\n",
    "    (\"Huizhou\" , \"惠州市\"),\n",
    "    (\"Leonid_Brezhnev\", \"列昂尼德·伊里奇·勃列日涅夫\"),\n",
    "    (\"Li_Qingzhao\", \"李清照\"),\n",
    "    (\"Sun_Lianzhong\", \"孫連仲\"))\n",
    "\n",
    "# 写入文件\n",
    "open(\"extract/ILLs(zh-en).txt\", \"w\") do io\n",
    "    for (en, zh) in doubles\n",
    "        en == zh && continue\n",
    "        println(io, en, '\\t', zh)\n",
    "    end\n",
    "end"
   ]
  },
  {
   "cell_type": "markdown",
   "id": "7b55fead-ed94-4629-b1a7-013930257c99",
   "metadata": {
    "jp-MarkdownHeadingCollapsed": true,
    "tags": []
   },
   "source": [
    "### 训练集"
   ]
  },
  {
   "cell_type": "code",
   "execution_count": 1,
   "id": "3c09d29b-e194-4a67-a384-663ca431eda8",
   "metadata": {},
   "outputs": [
    {
     "data": {
      "text/plain": [
       "QandA"
      ]
     },
     "execution_count": 1,
     "metadata": {},
     "output_type": "execute_result"
    }
   ],
   "source": [
    "# 提取训练集信息\n",
    "import Base.Iterators:partition\n",
    "\n",
    "\"\"\"获取三元组信息\"\"\"\n",
    "function triple_info(triple)\n",
    "    s1 = match(en_obj_reg, first(triple))\n",
    "    isnothing(s1) ? \"zh\\t\" * join(get_txt.(\n",
    "            [zh_obj_reg, zh_rel_reg, zh_obj_reg], triple),'\\t') : \"en\\t\" * join(get_txt.(\n",
    "            [en_obj_reg, en_rel_reg, en_obj_reg], triple),'\\t')\n",
    "end\n",
    "# print(QandA(\"which official language is used by the country that is affected by 1957 Mongolia earthquake?\t<http://dbpedia.org/resource/1957_Mongolia_earthquake>#<http://dbpedia.org/property/countriesAffected>#<http://dbpedia.org/resource/Mongolia>#<http://zh.dbpedia.org/resource/蒙古国>#<http://zh.dbpedia.org/property/官方文字>#<http://zh.dbpedia.org/resource/蒙古字母>\"))"
   ]
  },
  {
   "cell_type": "code",
   "execution_count": 48,
   "id": "275e8a77-3d34-43eb-ad5a-704a7af44d36",
   "metadata": {
    "tags": []
   },
   "outputs": [],
   "source": [
    "# 写入文件\n",
    "txts = unique!(split(strip(read(open(\"raw_data/train_data.txt\", \"r\"), String)), '\\n'))\n",
    "extract_io = open(\"extract/train_data.txt\", \"w\")\n",
    "train_ques_io = open(\"extract/train_ques.txt\", \"w\")\n",
    "\n",
    "# 跳过 26 个乱码问题\n",
    "error = [2507,2961,9562,9669,10640,10699,10981,11374,11539,11730,11914,11983,11990,12042,12229,12281,12373,12629,12676,12767, 853, 1832, 2020, 2376, 2959, 2051]\n",
    "for (i, txt) in enumerate(txts)\n",
    "    i ∈ error && continue\n",
    "    que, sols = split(strip(txt), '\\t')\n",
    "    que, sols = rectify_que(que), split(sols, '#')\n",
    "    triples = triple_info.(partition(sols, 3))\n",
    "    ner = triples[1][2]\n",
    "    # 训练集 + ner + 三元组\n",
    "    println(extract_io, que, '\\t', ner)\n",
    "    println(extract_io, join(join.(triples, '\\t'), '\\n'), '\\n')\n",
    "    # 训练集 + ner + 关系\n",
    "    println(train_ques_io, que, '\\t', ner, '\\t', join(getindex.(triples, 3), '\\t'))\n",
    "end\n",
    "close(extract_io)"
   ]
  },
  {
   "cell_type": "markdown",
   "id": "58d0a893-ba9d-4f3d-a1ad-e86085ba3894",
   "metadata": {},
   "source": [
    "### 验证集"
   ]
  },
  {
   "cell_type": "code",
   "execution_count": 8,
   "id": "e364a8d1-73a9-47eb-8c2f-a98019ba0e62",
   "metadata": {
    "tags": []
   },
   "outputs": [],
   "source": [
    "# 处理验证集\n",
    "txts = split(strip(read(open(\"raw_data/valid_data.txt\", \"r\"), String)), '\\n')\n",
    "valid_ques = rectify_que.([last(split(strip(txt), '\\t')) for txt in txts])\n",
    "valid_ques[233] = \"which national team does Seattle Sounders FC 2's coach belong to?\"\n",
    "valid_ques[284] = \"what is the club that Seattle Sounders FC 2's head coach belongs to?\"\n",
    "valid_ques[418] = \"which sport does 2014–15 SC Freiburg season's coach play?\"\n",
    "valid_ques[280] = \"who is the predecessor of the one that is after election of Italian general election, 1874?\"\n",
    "\n",
    "extract_io = open(\"extract/valid_data.txt\", \"w\")\n",
    "for que in valid_ques\n",
    "    println(extract_io, que)\n",
    "end\n",
    "close(extract_io)"
   ]
  },
  {
   "cell_type": "markdown",
   "id": "d658afc5-4d38-442f-8b4c-d8483555cc34",
   "metadata": {},
   "source": [
    "### 最终验证集"
   ]
  },
  {
   "cell_type": "code",
   "execution_count": 4,
   "id": "237b4f5c-5fe2-465d-9aea-f04b0a9eda05",
   "metadata": {
    "collapsed": true,
    "jupyter": {
     "outputs_hidden": true
    },
    "tags": []
   },
   "outputs": [
    {
     "data": {
      "text/plain": [
       "1500-element Vector{String}:\n",
       " \"Batea,_Tarragona，西班牙塔拉戈纳市，其西北方地点属于哪个区划\"\n",
       " \"Savez-vous où est le berceau de\" ⋯ 27 bytes ⋯ \"e club de UEFA_Euro_2012_squads\"\n",
       " \"Savez-vous quel fuseau horaire \" ⋯ 28 bytes ⋯ \"ia, une municipalité d'espagne?\"\n",
       " \"which house does the legislatur\" ⋯ 46 bytes ⋯ \"iver in switzerland, belong to?\"\n",
       " \"which rank does the people, thi\" ⋯ 34 bytes ⋯ \"as USS_Abele_(AN-58) belong to?\"\n",
       " \"which league does the operator \" ⋯ 40 bytes ⋯ \"._season takes place belong to?\"\n",
       " \"what is the timezong of the city in the south of Polinyà?\"\n",
       " \"Qu'est-ce que l'université de L’entraîneur de 中國國家女子排球隊\"\n",
       " \"who is the predecessor of the p\" ⋯ 17 bytes ⋯ \"Russell,_Marquess_of_Tavistock?\"\n",
       " \"被用来命名Cori_(lunar_crater)的人住过的地方有哪些\"\n",
       " \"Savez-vous où est le lieu de na\" ⋯ 42 bytes ⋯ \"ser_Foch, un barku den fransia?\"\n",
       " \"和HMS_Starling_(1829)名称一样的人或事物的分类等级是什么\"\n",
       " \"what is the timezong of the city in the south of Pinós?\"\n",
       " ⋮\n",
       " \"Savez-vous qui est le prédécess\" ⋯ 41 bytes ⋯ \"Party_leadership_election,_2001\"\n",
       " \"Savez-vous qui est à côté du Le père de la 劉伯媛\"\n",
       " \"名字被用于命名Galvani_(crater)的人逝世的地方是哪里\"\n",
       " \"what is the name of the predece\" ⋯ 44 bytes ⋯ \"sian_Games_–_Squads belongs to?\"\n",
       " \"達利奧·丹贊奴域的国家队的位置的立法机构是什么\"\n",
       " \"战争爱尔兰内战的参与国之前的机构叫什么\"\n",
       " \"Où est la ville de L’opérateur \" ⋯ 26 bytes ⋯ \"oulée la 2016–17_PAOK_FC_season\"\n",
       " \"Savez-vous quel est le nom de l\" ⋯ 33 bytes ⋯ \"de Nord-ouest de Mieres,_Girona\"\n",
       " \"what is the office of the leader of London_local_elections,_2018?\"\n",
       " \"Savez-vous quel fuseau horaire \" ⋯ 94 bytes ⋯ \"t-ball universitaire américain?\"\n",
       " \"what is the subdivision name of\" ⋯ 83 bytes ⋯ \" of football team, takes place?\"\n",
       " \"Quel instrument de musique Chro\" ⋯ 21 bytes ⋯ \"Hearts_of_Winter a-t-il utilisé\""
      ]
     },
     "execution_count": 4,
     "metadata": {},
     "output_type": "execute_result"
    }
   ],
   "source": [
    "txts = split(strip(read(open(\"raw_data/valid_data.txt\", \"r\"), String)), '\\n')\n",
    "valid_ques = rectify_que.([last(split(strip(txt), '\\t')) for txt in txts])"
   ]
  },
  {
   "cell_type": "code",
   "execution_count": 5,
   "id": "529c3a7b-9049-4e3a-abf8-ad1ffbdc799f",
   "metadata": {},
   "outputs": [],
   "source": [
    "extract_io = open(\"extract/valid_data.txt\", \"w\")\n",
    "for que in valid_ques\n",
    "    println(extract_io, que)\n",
    "end\n",
    "close(extract_io)"
   ]
  }
 ],
 "metadata": {
  "kernelspec": {
   "display_name": "Julia 1.7.2",
   "language": "julia",
   "name": "julia-1.7"
  },
  "language_info": {
   "file_extension": ".jl",
   "mimetype": "application/julia",
   "name": "julia",
   "version": "1.7.2"
  }
 },
 "nbformat": 4,
 "nbformat_minor": 5
}
