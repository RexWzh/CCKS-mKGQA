{
 "cells": [
  {
   "cell_type": "markdown",
   "id": "66e6caed-1c13-4a5c-abf4-3dfe4943d47c",
   "metadata": {},
   "source": [
    "# 数据预处理\n",
    "主要内容：\n",
    "- 提取链接中的实体和关系，纠正部分单词（不影响NER）\n",
    "- 分割问题与解答\n",
    "- 去除重复数据\n",
    "- 纠正乱码数据\n",
    "\n",
    "数据预处理的同时，也保留原始数据，用于最后提交"
   ]
  },
  {
   "cell_type": "markdown",
   "id": "738e773a-ccf0-41a2-bc0b-490d5207cd19",
   "metadata": {},
   "source": [
    "### 正则表达式"
   ]
  },
  {
   "cell_type": "code",
   "execution_count": 18,
   "id": "9f6d8c45-31e1-4b84-b793-9a1f6f0d2601",
   "metadata": {},
   "outputs": [
    {
     "data": {
      "text/plain": [
       "rectify_que (generic function with 1 method)"
      ]
     },
     "execution_count": 18,
     "metadata": {},
     "output_type": "execute_result"
    }
   ],
   "source": [
    "# 从链接中提取关键词\n",
    "cd(\"../data\")\n",
    "mkpath(\"extract\")\n",
    "include(\"../src/regexpr.jl\")"
   ]
  },
  {
   "cell_type": "markdown",
   "id": "8d41f789-1f09-4ad4-836d-3afaffd44aef",
   "metadata": {
    "jp-MarkdownHeadingCollapsed": true,
    "tags": []
   },
   "source": [
    "### 英文关系"
   ]
  },
  {
   "cell_type": "code",
   "execution_count": 24,
   "id": "e1d1691f-4224-4339-a721-8334ef099485",
   "metadata": {
    "tags": []
   },
   "outputs": [],
   "source": [
    "# 翻译英文关系\n",
    "en_rules = (\n",
    "    \"dépt\" => \"dept\",\n",
    "    \"rég\" => \"reg\",\n",
    "    \"mittelstädte\" => \"medium-sized_towns\",\n",
    "    \"président\" => \"president\",\n",
    "    \"écoulement\" => \"flow\",\n",
    "    \"résidenceOfficielle\" => \"official_residence\",\n",
    "    \"département\" => \"department\",\n",
    "    \"siège\" => \"headquarters\")\n",
    "\n",
    "# 提取英文三元组\n",
    "extract_io = open(\"extract/triple_en.txt\", \"w\")\n",
    "raw_io = open(\"raw_triple/triple_en.txt\", \"w\")\n",
    "open(\"raw_data/triple_en.txt\", \"r\") do io\n",
    "    while true\n",
    "        line = readline(io)\n",
    "        isempty(line) && break\n",
    "        txt = join(line2triple(line), '\\t')\n",
    "        println(raw_io, txt)\n",
    "        txt = replace(txt, en_rules...)\n",
    "        println(extract_io, txt)\n",
    "    end\n",
    "end\n",
    "close(extract_io)\n",
    "close(raw_io)"
   ]
  },
  {
   "cell_type": "markdown",
   "id": "06e8df3d-8fff-4699-90fa-78bebee66b8c",
   "metadata": {
    "jp-MarkdownHeadingCollapsed": true,
    "tags": []
   },
   "source": [
    "### 中文关系"
   ]
  },
  {
   "cell_type": "code",
   "execution_count": 23,
   "id": "1a260156-28ff-4bbd-b6b8-d7c80cf758f2",
   "metadata": {},
   "outputs": [],
   "source": [
    "# 翻译中文\n",
    "zh_rules = (\n",
    "    r\"\\d上一節目\" => \"上一節目\",\n",
    "    r\"\\d+下一節目\" => \"下一節目\",\n",
    "    \"région\" => \"region\",\n",
    "    \"département\" => \"department\")\n",
    "\n",
    "# 提取中文三元组\n",
    "extract_io = open(\"extract/triple_zh.txt\", \"w\")\n",
    "raw_io = open(\"raw_triple/triple_zh.txt\", \"w\")\n",
    "open(\"raw_data/triple_zh.txt\", \"r\") do io\n",
    "    while true\n",
    "        line = readline(io)\n",
    "        isempty(line) && break\n",
    "        txt = join(line2triple(line; en=false), '\\t')\n",
    "        println(raw_io, txt)\n",
    "        txt = replace(txt, zh_rules...)\n",
    "        println(extract_io, txt)\n",
    "    end\n",
    "end\n",
    "close(extract_io)\n",
    "close(raw_io)"
   ]
  },
  {
   "cell_type": "markdown",
   "id": "9dd551fe-08bc-4cf4-9249-d639d3a72f08",
   "metadata": {
    "jp-MarkdownHeadingCollapsed": true,
    "tags": []
   },
   "source": [
    "### 实体对齐"
   ]
  },
  {
   "cell_type": "code",
   "execution_count": 22,
   "id": "60021859-4296-4615-a4ac-931954040e7e",
   "metadata": {
    "tags": []
   },
   "outputs": [],
   "source": [
    "# 提取实体对齐\n",
    "doubles = Tuple{String,String}[]\n",
    "open(\"raw_data/ILLs(zh-en).txt\", \"r\") do io\n",
    "    while true\n",
    "        line = readline(io)\n",
    "        isempty(line) && break\n",
    "        txt = split(line, ' ')\n",
    "        push!(doubles, \n",
    "            (get_txt(en_obj_reg, txt[1]), get_txt(zh_obj_reg, txt[3])))\n",
    "    end\n",
    "end\n",
    "unique!(doubles) # 去重\n",
    "push!(doubles, # 补充知识图谱对齐\n",
    "    (\"Huizhou\" , \"惠州市\"),\n",
    "    (\"Leonid_Brezhnev\", \"列昂尼德·伊里奇·勃列日涅夫\"),\n",
    "    (\"Li_Qingzhao\", \"李清照\"),\n",
    "    (\"Sun_Lianzhong\", \"孫連仲\"))\n",
    "\n",
    "# 写入文件\n",
    "open(\"extract/ILLs(zh-en).txt\", \"w\") do io\n",
    "    for (en, zh) in doubles\n",
    "        println(io, en, '\\t', zh)\n",
    "    end\n",
    "end"
   ]
  },
  {
   "cell_type": "markdown",
   "id": "7b55fead-ed94-4629-b1a7-013930257c99",
   "metadata": {},
   "source": [
    "### 训练集"
   ]
  },
  {
   "cell_type": "code",
   "execution_count": 12,
   "id": "3c09d29b-e194-4a67-a384-663ca431eda8",
   "metadata": {},
   "outputs": [
    {
     "data": {
      "text/plain": [
       "QandA"
      ]
     },
     "execution_count": 12,
     "metadata": {},
     "output_type": "execute_result"
    }
   ],
   "source": [
    "# 提取训练集信息\n",
    "\"\"\"获取三元组信息\"\"\"\n",
    "function triple_info(triple)\n",
    "    s1 = match(en_obj_reg, first(triple))\n",
    "    isnothing(s1) ? \"zh\\t\" * join(get_txt.(\n",
    "            [zh_obj_reg, zh_rel_reg, zh_obj_reg], triple),'\\t') : \"en\\t\" * join(get_txt.(\n",
    "            [en_obj_reg, en_rel_reg, en_obj_reg], triple),'\\t')\n",
    "end\n",
    "\n",
    "\"\"\"拆分问题和答案\"\"\"\n",
    "function QandA(txt)\n",
    "    que, sols = split(txt, '\\t')\n",
    "    que, sols = rectify_que(que), split(sols, '#')\n",
    "    ner = split(triple_info(sols[1:3]), '\\t')[2]\n",
    "    \"$que\\t$ner\\n\" *\n",
    "    join([triple_info(sols[3 * i - 2: 3 * i]) for i in 1:Int(length(sols)/3)],'\\n','\\n')\n",
    "end\n",
    "# print(QandA(\"which official language is used by the country that is affected by 1957 Mongolia earthquake?\t<http://dbpedia.org/resource/1957_Mongolia_earthquake>#<http://dbpedia.org/property/countriesAffected>#<http://dbpedia.org/resource/Mongolia>#<http://zh.dbpedia.org/resource/蒙古国>#<http://zh.dbpedia.org/property/官方文字>#<http://zh.dbpedia.org/resource/蒙古字母>\"))"
   ]
  },
  {
   "cell_type": "code",
   "execution_count": 16,
   "id": "275e8a77-3d34-43eb-ad5a-704a7af44d36",
   "metadata": {
    "tags": []
   },
   "outputs": [],
   "source": [
    "# 写入文件\n",
    "txts = unique!(split(strip(read(open(\"raw_data/train_data.txt\", \"r\"), String)), '\\n'))\n",
    "extract_io = open(\"extract/train_data.txt\", \"w\")\n",
    "for txt in txts\n",
    "    println(extract_io, QandA(txt), '\\n')\n",
    "end\n",
    "close(extract_io)"
   ]
  },
  {
   "cell_type": "markdown",
   "id": "58d0a893-ba9d-4f3d-a1ad-e86085ba3894",
   "metadata": {},
   "source": [
    "### 验证集"
   ]
  },
  {
   "cell_type": "code",
   "execution_count": 27,
   "id": "e364a8d1-73a9-47eb-8c2f-a98019ba0e62",
   "metadata": {
    "tags": []
   },
   "outputs": [],
   "source": [
    "# 处理验证集\n",
    "txts = split(strip(read(open(\"raw_data/valid_data.txt\", \"r\"), String)), '\\n')\n",
    "valid_ques = rectify_que.([last(split(strip(txt), '\\t')) for txt in txts])\n",
    "valid_ques[233] = \"which national team does Seattle Sounders FC 2's coach belong to?\"\n",
    "valid_ques[284] = \"what is the club that Seattle Sounders FC 2's head coach belongs to?\"\n",
    "valid_ques[418] = \"which sport does 2014–15 SC Freiburg season's coach play?\"\n",
    "\n",
    "extract_io = open(\"extract/valid_data.txt\", \"w\")\n",
    "for que in valid_ques\n",
    "    println(extract_io, que)\n",
    "end\n",
    "close(extract_io)"
   ]
  }
 ],
 "metadata": {
  "kernelspec": {
   "display_name": "Julia 1.7.2",
   "language": "julia",
   "name": "julia-1.7"
  },
  "language_info": {
   "file_extension": ".jl",
   "mimetype": "application/julia",
   "name": "julia",
   "version": "1.7.2"
  }
 },
 "nbformat": 4,
 "nbformat_minor": 5
}
