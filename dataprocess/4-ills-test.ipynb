{
 "cells": [
  {
   "cell_type": "markdown",
   "id": "ea2792e4-0327-4f9f-ba6d-e2e58ed6476c",
   "metadata": {
    "tags": []
   },
   "source": [
    "# 实体对齐"
   ]
  },
  {
   "cell_type": "code",
   "execution_count": 1,
   "id": "d4e210e2-d054-4343-a125-9ab9758a2fc0",
   "metadata": {
    "tags": []
   },
   "outputs": [],
   "source": [
    "include(\"../src/CCKS-mKGQA.jl\")\n",
    "include(\"../src/loaddata/extractdata.jl\")\n",
    "include(\"../src/loaddata/translatedata.jl\")\n",
    "include(\"../src/tools/ettalign.jl\")\n",
    "include(\"../src/datatype.jl\")\n",
    "# mkpath.(\"EA_data/\" .* ([\"\", \"ILLs_1\", \"ILLs_2\", \"ILLs_3\", \"ILLs_4\", \"ILLs_official\", \"ILLs_wiki\"]))"
   ]
  },
  {
   "cell_type": "markdown",
   "id": "7b447677-4991-4c4b-9892-efa895008b1e",
   "metadata": {
    "tags": []
   },
   "source": [
    "### 生成数据\n",
    "ILLs => `train_ques, train_data, valid_ques, triples, equivills`"
   ]
  },
  {
   "cell_type": "code",
   "execution_count": null,
   "id": "7a784688-4dca-4847-9993-e2eda66eaf87",
   "metadata": {
    "tags": []
   },
   "outputs": [],
   "source": [
    "illpath = \"ILLs_1\"\n",
    "# illpath = \"ILLs_2\"\n",
    "# illpath = \"ILLs_3\"\n",
    "# illpath = \"ILLs_4\"\n",
    "# illpath = \"ILLs_official\"\n",
    "# illpath = \"ILLs_wiki\"\n",
    "include(\"../src/loaddata/illsdata.jl\")\n",
    "equivills_values = unique!(sort!(collect(values(illsdata.equivILLs)); by=length, rev=true));"
   ]
  },
  {
   "cell_type": "markdown",
   "id": "8506d0b8-8932-4a71-ba3f-c1dde6f64117",
   "metadata": {
    "jp-MarkdownHeadingCollapsed": true,
    "tags": []
   },
   "source": [
    "### 测试"
   ]
  },
  {
   "cell_type": "code",
   "execution_count": 47,
   "id": "621955c7-cb0c-4b1c-8570-c9375d9cb30c",
   "metadata": {},
   "outputs": [],
   "source": [
    "subs = unique!(first.(illsdata.ills_triples))\n",
    "edges = illsdata.ills_edges\n",
    "# 第一跳\n",
    "jumps = Dict(sub => [length(edges[sub])] for sub in subs)\n",
    "# 第二跳\n",
    "for sub in subs\n",
    "    push!(jumps[sub], sum(haskey(jumps, obj) && jumps[obj][1] for (rel, obj) in edges[sub]))\n",
    "end\n",
    "# 第三跳\n",
    "for sub in subs\n",
    "    push!(jumps[sub], sum(haskey(jumps, obj) && jumps[obj][2] for (rel, obj) in edges[sub]))\n",
    "end"
   ]
  },
  {
   "cell_type": "code",
   "execution_count": 39,
   "id": "f31d598e-a7da-49e6-be0a-0ade6251887c",
   "metadata": {},
   "outputs": [
    {
     "name": "stdout",
     "output_type": "stream",
     "text": [
      "ILLs_4\n",
      "[0, 24311, 31355]\n"
     ]
    },
    {
     "data": {
      "text/plain": [
       "(23, 73)"
      ]
     },
     "execution_count": 39,
     "metadata": {},
     "output_type": "execute_result"
    }
   ],
   "source": [
    "# ILLs 4\n",
    "println(illsdata.illsname)\n",
    "println([count(iszero, getindex.(values(jumps), i)) for i in 1:3])\n",
    "count(i->jumps[i][2]==0, ill_valid_ners), count(i->jumps[i][3]==0, ill_valid_ners)"
   ]
  },
  {
   "cell_type": "code",
   "execution_count": 42,
   "id": "ebb0f694-86d2-48ff-9de3-ad3af58c17ef",
   "metadata": {},
   "outputs": [
    {
     "name": "stdout",
     "output_type": "stream",
     "text": [
      "ILLs_3\n",
      "[0, 37283, 48256]\n"
     ]
    },
    {
     "data": {
      "text/plain": [
       "(61, 137)"
      ]
     },
     "execution_count": 42,
     "metadata": {},
     "output_type": "execute_result"
    }
   ],
   "source": [
    "# ILLs 3\n",
    "println(illsdata.illsname)\n",
    "println([count(iszero, getindex.(values(jumps), i)) for i in 1:3])\n",
    "count(i->jumps[i][2]==0, ill_valid_ners), count(i->jumps[i][3]==0, ill_valid_ners)"
   ]
  },
  {
   "cell_type": "code",
   "execution_count": 36,
   "id": "d3ff131b-7acf-44c0-a97c-b89122662fef",
   "metadata": {},
   "outputs": [
    {
     "name": "stdout",
     "output_type": "stream",
     "text": [
      "ILLs_official\n",
      "[0, 52268, 67437]\n"
     ]
    },
    {
     "data": {
      "text/plain": [
       "(156, 352)"
      ]
     },
     "execution_count": 36,
     "metadata": {},
     "output_type": "execute_result"
    }
   ],
   "source": [
    "# 官方 ILLs\n",
    "println(illsdata.illsname)\n",
    "println([count(iszero, getindex.(values(jumps), i)) for i in 1:3])\n",
    "count(i->jumps[i][2]==0, ill_valid_ners), count(i->jumps[i][3]==0, ill_valid_ners)"
   ]
  },
  {
   "cell_type": "code",
   "execution_count": 48,
   "id": "151edc77-eb89-4c33-baec-7393bf167422",
   "metadata": {},
   "outputs": [
    {
     "name": "stdout",
     "output_type": "stream",
     "text": [
      "ILLs_1\n",
      "[0, 44396, 57285]\n"
     ]
    },
    {
     "data": {
      "text/plain": [
       "(80, 209)"
      ]
     },
     "execution_count": 48,
     "metadata": {},
     "output_type": "execute_result"
    }
   ],
   "source": [
    "# ILLs 1\n",
    "println(illsdata.illsname)\n",
    "println([count(iszero, getindex.(values(jumps), i)) for i in 1:3])\n",
    "count(i->jumps[i][2]==0, ill_valid_ners), count(i->jumps[i][3]==0, ill_valid_ners)"
   ]
  },
  {
   "cell_type": "code",
   "execution_count": 45,
   "id": "60c73e4a-b6f7-4c40-9bb0-e92fdc723158",
   "metadata": {},
   "outputs": [
    {
     "name": "stdout",
     "output_type": "stream",
     "text": [
      "ILLs_2\n",
      "[0, 47455, 61439]\n"
     ]
    },
    {
     "data": {
      "text/plain": [
       "(98, 263)"
      ]
     },
     "execution_count": 45,
     "metadata": {},
     "output_type": "execute_result"
    }
   ],
   "source": [
    "# ILLs 2\n",
    "println(illsdata.illsname)\n",
    "println([count(iszero, getindex.(values(jumps), i)) for i in 1:3])\n",
    "count(i->jumps[i][2]==0, ill_valid_ners), count(i->jumps[i][3]==0, ill_valid_ners)"
   ]
  },
  {
   "cell_type": "code",
   "execution_count": 32,
   "id": "08b409d4-6887-424b-a1a5-b23a44278fdc",
   "metadata": {},
   "outputs": [
    {
     "name": "stdout",
     "output_type": "stream",
     "text": [
      "ILLs_wiki\n",
      "[0, 38070, 49921]\n"
     ]
    },
    {
     "data": {
      "text/plain": [
       "(6, 103)"
      ]
     },
     "execution_count": 32,
     "metadata": {},
     "output_type": "execute_result"
    }
   ],
   "source": [
    "# wiki ILLs\n",
    "println(illsdata.illsname)\n",
    "println([count(iszero, getindex.(values(jumps), i)) for i in 1:3])\n",
    "count(i->jumps[i][2]==0, ill_valid_ners), count(i->jumps[i][3]==0, ill_valid_ners)"
   ]
  },
  {
   "cell_type": "markdown",
   "id": "b9ca798c-522c-460e-8fcf-6a90357af2ec",
   "metadata": {
    "jp-MarkdownHeadingCollapsed": true,
    "tags": []
   },
   "source": [
    "### 保存"
   ]
  },
  {
   "cell_type": "code",
   "execution_count": 49,
   "id": "ba61850e-cf1d-4dc9-a2a9-000d7a893bef",
   "metadata": {},
   "outputs": [],
   "source": [
    "open(\"EA_data/$illpath/triples.txt\", \"w\") do io\n",
    "    for triple in illsdata.ills_triples\n",
    "        println(io, join(triple, '\\t'))\n",
    "    end\n",
    "end\n",
    "\n",
    "open(\"EA_data/$illpath/train_ques.txt\", \"w\") do io\n",
    "    for (que, ner, rels) in zip(ill_train_ques, ill_train_ners, ill_train_rels)\n",
    "        que = replace(que, r\", (a|an) .*?[,?]\" => \"\")\n",
    "        println(io, que, '\\t', ner, '\\t', join(rels, '\\t'))\n",
    "    end\n",
    "end\n",
    "\n",
    "open(\"EA_data/$illpath/train_data.txt\", \"w\") do io\n",
    "    for (que, ner, sols) in zip(ill_train_ques, ill_train_ners, ill_train_sols)\n",
    "        que = replace(que, r\", (a|an) .*?[,?]\" => \"\")\n",
    "        println(io, que, '\\t', ner)\n",
    "        for sol in sols\n",
    "            println(io, join(sol, '\\t'))\n",
    "        end\n",
    "        println(io)\n",
    "    end\n",
    "end\n",
    "\n",
    "open(\"EA_data/$illpath/valid_ques.txt\", \"w\") do io\n",
    "    for (que, ner) in zip(ill_valid_ques, ill_valid_ners)\n",
    "        que = replace(que, r\", (a|an) .*?[,?]\" => \"\")\n",
    "        println(io, que, '\\t', ner)\n",
    "    end\n",
    "end\n",
    "\n",
    "open(\"EA_data/$illpath/equivills.txt\", \"w\") do io\n",
    "    for line in equivills_values\n",
    "        println(io, join(line, '\\t'))\n",
    "    end\n",
    "end"
   ]
  }
 ],
 "metadata": {
  "kernelspec": {
   "display_name": "Julia 1.7.2",
   "language": "julia",
   "name": "julia-1.7"
  },
  "language_info": {
   "file_extension": ".jl",
   "mimetype": "application/julia",
   "name": "julia",
   "version": "1.7.2"
  }
 },
 "nbformat": 4,
 "nbformat_minor": 5
}
