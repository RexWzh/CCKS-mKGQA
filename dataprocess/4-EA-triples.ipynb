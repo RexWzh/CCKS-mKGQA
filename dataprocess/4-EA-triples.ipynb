{
 "cells": [
  {
   "cell_type": "markdown",
   "id": "ea2792e4-0327-4f9f-ba6d-e2e58ed6476c",
   "metadata": {},
   "source": [
    "# 实体对齐"
   ]
  },
  {
   "cell_type": "code",
   "execution_count": 3,
   "id": "d4e210e2-d054-4343-a125-9ab9758a2fc0",
   "metadata": {
    "tags": []
   },
   "outputs": [
    {
     "data": {
      "text/plain": [
       "\"EA_data\""
      ]
     },
     "execution_count": 3,
     "metadata": {},
     "output_type": "execute_result"
    }
   ],
   "source": [
    "include(\"../src/translatedata.jl\")\n",
    "mkpath(\"EA_data\")"
   ]
  },
  {
   "cell_type": "code",
   "execution_count": 4,
   "id": "e0e37d8c-396b-440f-bfa6-5c5a5e8d0e33",
   "metadata": {
    "collapsed": true,
    "jupyter": {
     "outputs_hidden": true
    },
    "tags": []
   },
   "outputs": [
    {
     "data": {
      "text/plain": [
       "Dict{SubString{String}, SubString{String}} with 9774 entries:\n",
       "  \"Cambridge_United_Football_Club\"     => \"Cambridge_United_FC\"\n",
       "  \"san_amaro_da_imperatris\"            => \"Santo_Amaro_da_Imperatriz\"\n",
       "  \"Somi_M1931_submachine_gun\"          => \"Suomi_KP_/_-31\"\n",
       "  \"Ramiro_III_(Leon)\"                  => \"Ramiro_III_of_Leon\"\n",
       "  \"Naval_Moralejo\"                     => \"Navalmoralejo\"\n",
       "  \"Abade\"                              => \"Abadeh\"\n",
       "  \"Theodor_Swedberg\"                   => \"Theodor_Svedberg\"\n",
       "  \"Portwater_County_(Kansas)\"          => \"Pottawatomie_County,_Kansas\"\n",
       "  \"FBI_director\"                       => \"Director_of_the_Federal_Bureau_of_In…\n",
       "  \"Hennepin_County_(Minnesota)\"        => \"Hennepin_County,_Minnesota\"\n",
       "  \"Azov_Sea\"                           => \"Sea_of_Azov\"\n",
       "  \"Chelyabinsk_Region\"                 => \"Chelyabinsk_Oblast\"\n",
       "  \"onturia_de_la_cantera\"              => \"Hontoria_de_la_Cantera\"\n",
       "  \"west_jerez\"                         => \"Sigeres\"\n",
       "  \"Godfrey_Harold_Hardy\"               => \"GH_Hardy\"\n",
       "  \"Lightspeed_Masked_Man_21\"           => \"Eyeshield_21\"\n",
       "  \"Namco_Palace\"                       => \"Namco\"\n",
       "  \"Georgia_Dream_-_Democratic_Georgia\" => \"Georgian_Dream\"\n",
       "  \"P.J._Patterson\"                     => \"PJ_Patterson\"\n",
       "  \"Orinda_Nova,_Maranhao\"              => \"Olinda_Nova_do_Maranhao\"\n",
       "  \"Nob_Sampo\"                          => \"Norzang\"\n",
       "  \"little_soldier\"                     => \"Minions_(movies)\"\n",
       "  \"Shenmue_series\"                     => \"Shenmue_(series)\"\n",
       "  \"Wallapuk\"                           => \"Volapuk\"\n",
       "  \"Bill_Football_Club\"                 => \"FC_Biel-Bienne\"\n",
       "  ⋮                                    => ⋮"
      ]
     },
     "execution_count": 4,
     "metadata": {},
     "output_type": "execute_result"
    }
   ],
   "source": [
    "dict_word_zh2en = Dict((=>).(last.(ILLs), first.(ILLs)))"
   ]
  },
  {
   "cell_type": "code",
   "execution_count": 9,
   "id": "ba61850e-cf1d-4dc9-a2a9-000d7a893bef",
   "metadata": {},
   "outputs": [],
   "source": [
    "open(\"EA_data/triples.txt\", \"w\") do io\n",
    "    for (sub, rel, obj) in triples\n",
    "        sub = get(dict_word_zh2en, sub, sub)\n",
    "        obj = get(dict_word_zh2en, sub, sub)\n",
    "        println(io, sub, '\\t', rel, '\\t', obj)\n",
    "    end\n",
    "end\n",
    "open(\"EA_data/train_ques.txt\", \"w\") do io\n",
    "    for sol in train_ques_sols\n",
    "        que, ner, rels = sol[1], sol[2], sol[3:end]\n",
    "        ner = get(dict_word_zh2en, ner, ner)\n",
    "        println(io, que, '\\t', ner, '\\t', join(rels, '\\t'))\n",
    "    end\n",
    "end\n",
    "\n",
    "open(\"EA_data/valid_ques.txt\", \"w\") do io\n",
    "    for (que, ner) in valid_ques_ner\n",
    "        ner = get(dict_word_zh2en, ner, ner)\n",
    "        println(io, que, '\\t', ner)\n",
    "    end\n",
    "end"
   ]
  },
  {
   "cell_type": "code",
   "execution_count": 24,
   "id": "b1c106b7-65f4-4f01-83c3-2b50f36df7c6",
   "metadata": {
    "collapsed": true,
    "jupyter": {
     "outputs_hidden": true
    },
    "tags": []
   },
   "outputs": [
    {
     "data": {
      "text/plain": [
       "OrderedDict{String, Int64} with 40887 entries:\n",
       "  \"靚太唔易做_(第… => 23\n",
       "  \"靚太唔易做_(第… => 21\n",
       "  \"大英帝國勳章\"  => 7\n",
       "  \"法兰克国王列表… => 7\n",
       "  \"天主教會\"      => 6\n",
       "  \"西班牙自治區\"  => 6\n",
       "  \"阿斯特里德公主… => 5\n",
       "  \"美国州份\"      => 5\n",
       "  \"聖米迦勒及聖喬… => 5\n",
       "  \"哲學博士\"      => 4\n",
       "  \"新教\"          => 4\n",
       "  \"巴斯勳章\"      => 4\n",
       "  \"罗曼诺夫王朝\"  => 4\n",
       "  \"奧地利大公國\"  => 4\n",
       "  \"汉朝\"          => 4\n",
       "  \"万代南梦宫娱乐… => 4\n",
       "  \"自殺攻擊\"      => 4\n",
       "  \"几内亚比绍总统… => 4\n",
       "  \"缅甸行政区划\"  => 4\n",
       "  \"近世\"          => 4\n",
       "  \"越南君主列表\"  => 4\n",
       "  \"老挝君主列表\"  => 4\n",
       "  \"車輛號牌\"      => 4\n",
       "  \"美國郵區編號\"  => 4\n",
       "  \"巴基斯坦行政区… => 4\n",
       "  ⋮               => ⋮"
      ]
     },
     "execution_count": 24,
     "metadata": {},
     "output_type": "execute_result"
    }
   ],
   "source": [
    "c = sort_count(last.(wiki_ills))"
   ]
  },
  {
   "cell_type": "code",
   "execution_count": 23,
   "id": "fdcc7faa-3f57-4d3f-b2a1-590fd8b43bad",
   "metadata": {
    "collapsed": true,
    "jupyter": {
     "outputs_hidden": true
    },
    "tags": []
   },
   "outputs": [
    {
     "data": {
      "text/plain": [
       "23-element Vector{Tuple{String, String}}:\n",
       " (\"Desperate_Housewives_(season_2)\", \"靚太唔易做_(第二季)\")\n",
       " (\"You_Could_Drive_a_Person_Crazy\", \"靚太唔易做_(第二季)\")\n",
       " (\"You'll_Never_Get_Away_from_Me\", \"靚太唔易做_(第二季)\")\n",
       " (\"My_Heart_Belongs_to_Daddy_(Desperate_Housewives)\", \"靚太唔易做_(第二季)\")\n",
       " (\"They_Asked_Me_Why_I_Believe_in_You\", \"靚太唔易做_(第二季)\")\n",
       " (\"I_Wish_I_Could_Forget_You\", \"靚太唔易做_(第二季)\")\n",
       " (\"Color_and_Light\", \"靚太唔易做_(第二季)\")\n",
       " (\"The_Sun_Won't_Set_(Desperate_Housewives)\", \"靚太唔易做_(第二季)\")\n",
       " (\"That's_Good,_That's_Bad_(Desperate_Housewives)\", \"靚太唔易做_(第二季)\")\n",
       " (\"Coming_Home_(Desperate_Housewives)\", \"靚太唔易做_(第二季)\")\n",
       " (\"One_More_Kiss_(Desperate_Housewives)\", \"靚太唔易做_(第二季)\")\n",
       " (\"We're_Gonna_Be_All_Right\", \"靚太唔易做_(第二季)\")\n",
       " (\"There's_Something_About_a_War\", \"靚太唔易做_(第二季)\")\n",
       " (\"Silly_People_(Desperate_Housewives)\", \"靚太唔易做_(第二季)\")\n",
       " (\"Thank_You_So_Much\", \"靚太唔易做_(第二季)\")\n",
       " (\"There_Is_No_Other_Way_(Desperate_Housewives)\", \"靚太唔易做_(第二季)\")\n",
       " (\"Could_I_Leave_You%3F\", \"靚太唔易做_(第二季)\")\n",
       " (\"Everybody_Says_Don't_(season_two_episode)\", \"靚太唔易做_(第二季)\")\n",
       " (\"Don't_Look_at_Me_(Desperate_Housewives)\", \"靚太唔易做_(第二季)\")\n",
       " (\"It_Wasn't_Meant_to_Happen\", \"靚太唔易做_(第二季)\")\n",
       " (\"I_Know_Things_Now\", \"靚太唔易做_(第二季)\")\n",
       " (\"No_One_Is_Alone_(Desperate_Housewives)\", \"靚太唔易做_(第二季)\")\n",
       " (\"Remember_(Desperate_Housewives)\", \"靚太唔易做_(第二季)\")"
      ]
     },
     "execution_count": 23,
     "metadata": {},
     "output_type": "execute_result"
    }
   ],
   "source": [
    "filter(i->i[2] == \"靚太唔易做_(第二季)\", wiki_ills)"
   ]
  },
  {
   "cell_type": "code",
   "execution_count": 21,
   "id": "a52a1fbe-fa15-4d4c-89bc-b09483b2e74f",
   "metadata": {},
   "outputs": [
    {
     "data": {
      "text/plain": [
       "8-element Vector{Tuple{String, String}}:\n",
       " (\"ZIP_Code\", \"美國郵區編號\")\n",
       " (\"ZIP_Code\", \"美國郵政編號\")\n",
       " (\"ZIP_Code\", \"美国邮政编码\")\n",
       " (\"ZIP_Code\", \"ZIP_code\")\n",
       " (\"ZIP_Code\", \"美國郵政編碼\")\n",
       " (\"ZIP_Code\", \"美国邮区编号\")\n",
       " (\"ZIP_Code\", \"美國郵遞區號\")\n",
       " (\"ZIP_Code\", \"美国邮政编号\")"
      ]
     },
     "execution_count": 21,
     "metadata": {},
     "output_type": "execute_result"
    }
   ],
   "source": [
    "filter(i->i[1]==\"ZIP_Code\", wiki_ills)"
   ]
  },
  {
   "cell_type": "code",
   "execution_count": 7,
   "id": "fd76d455-cd69-4bb0-a5b9-328311217690",
   "metadata": {},
   "outputs": [
    {
     "data": {
      "text/plain": [
       "sort_count (generic function with 1 method)"
      ]
     },
     "execution_count": 7,
     "metadata": {},
     "output_type": "execute_result"
    }
   ],
   "source": [
    "function sort_count(list)\n",
    "    c_list = counter(list)\n",
    "    sort(Dict(c_list), by=i->c_list[i], rev=true)\n",
    "end"
   ]
  },
  {
   "cell_type": "code",
   "execution_count": 8,
   "id": "ef0fc8b4-7eb2-4e2f-9a4f-91918ea0b115",
   "metadata": {},
   "outputs": [
    {
     "data": {
      "text/plain": [
       "triple_byills (generic function with 2 methods)"
      ]
     },
     "execution_count": 8,
     "metadata": {},
     "output_type": "execute_result"
    }
   ],
   "source": [
    "# 对齐函数\n",
    "entity_zh2en(ent) = haskey(wiki_ills, ent) ? wiki_ills[ent] : ent\n",
    "triple_byills(triple::Tuple) = triple_byills(triple...)\n",
    "triple_byills(sub, rel, obj) = (entity_zh2en(sub), MT_rels[rel], entity_zh2en(obj))"
   ]
  },
  {
   "cell_type": "code",
   "execution_count": 16,
   "id": "d31bc33e-4d6b-4325-ab49-3f2d99ceb681",
   "metadata": {
    "tags": []
   },
   "outputs": [
    {
     "data": {
      "text/plain": [
       "2-element Vector{Int64}:\n",
       " 267485\n",
       " 262564"
      ]
     },
     "execution_count": 16,
     "metadata": {},
     "output_type": "execute_result"
    }
   ],
   "source": [
    "# 三元组对齐合并\n",
    "triples = triple_byills.(vcat(zh_triples, en_triples))\n",
    "uniquetriples = unique(triples)\n",
    "length.([triples, uniquetriples])"
   ]
  },
  {
   "cell_type": "code",
   "execution_count": 7,
   "id": "8bca7018-bc3e-4052-9e6d-dcf6e3b79949",
   "metadata": {},
   "outputs": [],
   "source": [
    "# 写入文件\n",
    "open(\"ILLs/triples.txt\", \"w\") do io\n",
    "    for triple in uniquetriples\n",
    "        println(io, join(triple, '\\t'))\n",
    "    end\n",
    "end"
   ]
  },
  {
   "cell_type": "code",
   "execution_count": 17,
   "id": "b7a4867e-893e-4f07-83b7-c9a4ab3c0188",
   "metadata": {},
   "outputs": [],
   "source": [
    "using DataStructures\n",
    "edges = DefaultDict{String, Vector{Tuple}}(Vector{Tuple})\n",
    "for (sub, rel, obj) in triples\n",
    "    push!(edges[sub], (rel, obj))\n",
    "end"
   ]
  },
  {
   "cell_type": "code",
   "execution_count": 18,
   "id": "66635c43-64f8-4a01-b542-586f1f925428",
   "metadata": {
    "tags": []
   },
   "outputs": [],
   "source": [
    "subs = unique!(first.(triples))\n",
    "# 第一跳\n",
    "jumps = Dict(sub => [length(edges[sub])] for sub in subs)\n",
    "# 第二跳\n",
    "for sub in subs\n",
    "    push!(jumps[sub], sum(haskey(jumps, obj) && jumps[obj][1] for (rel, obj) in edges[sub]))\n",
    "end\n",
    "# 第三跳\n",
    "for sub in subs\n",
    "    push!(jumps[sub], sum(haskey(jumps, obj) && jumps[obj][2] for (rel, obj) in edges[sub]))\n",
    "end"
   ]
  },
  {
   "cell_type": "code",
   "execution_count": 19,
   "id": "22753c93-f9ed-4efe-b706-2cd0741ace5b",
   "metadata": {},
   "outputs": [
    {
     "data": {
      "text/plain": [
       "jump_two (generic function with 1 method)"
      ]
     },
     "execution_count": 19,
     "metadata": {},
     "output_type": "execute_result"
    }
   ],
   "source": [
    "jump_three(sub) = haskey(jumps, sub) ? jumps[sub][3] : 0\n",
    "jump_two(sub) = haskey(jumps, sub) ? jumps[sub][2] : 0"
   ]
  },
  {
   "cell_type": "code",
   "execution_count": 20,
   "id": "3f23327f-4b15-456d-94f6-7e207c2209b9",
   "metadata": {},
   "outputs": [],
   "source": [
    "fail2, fail3 = String[], String[]\n",
    "for (que, ner) in train_ques_ner\n",
    "    jump_two(ner) == 0 && push!(fail2, ner)\n",
    "    jump_three(ner) == 0 && push!(fail3, ner)\n",
    "end"
   ]
  },
  {
   "cell_type": "code",
   "execution_count": 32,
   "id": "c6f0794c-51b4-44a1-854e-5f1373e4af0b",
   "metadata": {
    "tags": []
   },
   "outputs": [
    {
     "data": {
      "text/plain": [
       "122523-element Vector{String}:\n",
       " \"Government_of_the_Republic_of_China_in_Guangzhou\"\n",
       " \"Zhang_Xiaoya\"\n",
       " \"Random_Thoughts_(Faye_Wong_album)\"\n",
       " \"Republic_of_China_presidential_election,_1913\"\n",
       " \"French_frigate_Descartes\"\n",
       " \"French_submarine_Archimède\"\n",
       " \"Charles_Simonyi\"\n",
       " \"HSwMS_Thordön\"\n",
       " \"Iraqi_parliamentary_election,_1984\"\n",
       " \"Silulu_A'etonu\"\n",
       " \"Zhou_dynasty_(690–705)\"\n",
       " \"Lakas–CMD\"\n",
       " \"USRC_James_Madison_(1807)\"\n",
       " ⋮\n",
       " \"Giulio_Ciccone\"\n",
       " \"Vassiliki_Thanou-Christophilou\"\n",
       " \"Cherbourg-en-Cotentin\"\n",
       " \"Old_Road_F.C.\"\n",
       " \"Carin_Strömberg\"\n",
       " \"Catalonia_Government_2016-\"\n",
       " \"Team_BMS_BIRN\"\n",
       " \"List_of_heads_of_government_of_Ethiopia\"\n",
       " \"Ohio_Aviators_(rugby)\"\n",
       " \"Denver_Stampede\"\n",
       " \"2016–17_Championnat_National\"\n",
       " \"Philip_May\""
      ]
     },
     "execution_count": 32,
     "metadata": {},
     "output_type": "execute_result"
    }
   ],
   "source": [
    "unique(en_words)"
   ]
  },
  {
   "cell_type": "code",
   "execution_count": 34,
   "id": "14dbd2d7-8b78-439c-836a-79624a04814e",
   "metadata": {},
   "outputs": [
    {
     "data": {
      "text/plain": [
       "1-element Vector{Vector{SubString{String}}}:\n",
       " [\"\"]"
      ]
     },
     "execution_count": 34,
     "metadata": {},
     "output_type": "execute_result"
    }
   ],
   "source": [
    "train_ques_sols"
   ]
  },
  {
   "cell_type": "code",
   "execution_count": 42,
   "id": "600377b6-8164-4682-a2d6-069ade9dc070",
   "metadata": {},
   "outputs": [
    {
     "data": {
      "text/plain": [
       "30000000"
      ]
     },
     "execution_count": 42,
     "metadata": {},
     "output_type": "execute_result"
    }
   ],
   "source": [
    "2000 * 15000"
   ]
  },
  {
   "cell_type": "code",
   "execution_count": 30,
   "id": "47596453-d53e-41db-a39b-f8c503973cce",
   "metadata": {
    "tags": []
   },
   "outputs": [
    {
     "data": {
      "text/plain": [
       "107531-element Vector{Int64}:\n",
       " 5448\n",
       " 3924\n",
       " 3759\n",
       " 3746\n",
       " 3466\n",
       " 2755\n",
       " 2701\n",
       " 2622\n",
       " 2589\n",
       " 2532\n",
       " 2416\n",
       " 2398\n",
       " 2392\n",
       "    ⋮\n",
       "    0\n",
       "    0\n",
       "    0\n",
       "    0\n",
       "    0\n",
       "    0\n",
       "    0\n",
       "    0\n",
       "    0\n",
       "    0\n",
       "    0\n",
       "    0"
      ]
     },
     "execution_count": 30,
     "metadata": {},
     "output_type": "execute_result"
    }
   ],
   "source": [
    "sort(getindex.(values(jumps), 3), rev=true)"
   ]
  },
  {
   "cell_type": "code",
   "execution_count": 23,
   "id": "ef37bde5-53c5-49e8-8964-a20262d8cbba",
   "metadata": {
    "collapsed": true,
    "jupyter": {
     "outputs_hidden": true
    },
    "tags": []
   },
   "outputs": [
    {
     "data": {
      "text/plain": [
       "2556-element Vector{String}:\n",
       " \"茶裏王\"\n",
       " \"Changes_(advertisement)\"\n",
       " \"Xinjiang_under_Qing_rule\"\n",
       " \"賈斯汀·杜魯多\"\n",
       " \"约翰·肯尼迪\"\n",
       " \"Villa_Farnesina\"\n",
       " \"乌克兰苏维埃社会主义共和国\"\n",
       " \"安昌公主\"\n",
       " \"珉\"\n",
       " \"Pobeda_(watch)\"\n",
       " \"Piaggio_Ciao\"\n",
       " \"Toyoha_mine\"\n",
       " \"Camafuca_diamond_mine\"\n",
       " ⋮\n",
       " \"弗朗索瓦二世_(法兰西)\"\n",
       " \"沙姆什·阿达德五世\"\n",
       " \"亨利·利文斯顿\"\n",
       " \"安曼國際體育場\"\n",
       " \"蒂蒂克拉\"\n",
       " \"亨利·利文斯顿\"\n",
       " \"弗朗索瓦二世_(法兰西)\"\n",
       " \"亨利·利文斯顿\"\n",
       " \"克里斯蒂娜·费尔南德斯·德基什内尔\"\n",
       " \"沙姆什·阿达德五世\"\n",
       " \"亨利·利文斯顿\"\n",
       " \"黎棟國\""
      ]
     },
     "execution_count": 23,
     "metadata": {},
     "output_type": "execute_result"
    }
   ],
   "source": [
    "fail3"
   ]
  },
  {
   "cell_type": "code",
   "execution_count": 21,
   "id": "083be913-7ce3-4647-b26d-959a4f29768d",
   "metadata": {
    "tags": []
   },
   "outputs": [
    {
     "data": {
      "text/plain": [
       "1360-element Vector{String}:\n",
       " \"賈斯汀·杜魯多\"\n",
       " \"约翰·肯尼迪\"\n",
       " \"乌克兰苏维埃社会主义共和国\"\n",
       " \"休斯敦火箭\"\n",
       " \"葡萄牙國家足球隊\"\n",
       " \"丹麥足球協會\"\n",
       " \"土耳其國家足球隊\"\n",
       " \"侠胆雄狮\"\n",
       " \"侠胆雄狮_(2012年电视剧)\"\n",
       " \"肯塔基州副州长\"\n",
       " \"伊格爾·瓦西里耶維奇·庫爾恰托夫\"\n",
       " \"班都斯戰役\"\n",
       " \"阿方索四世_(莱昂)\"\n",
       " ⋮\n",
       " \"弗朗索瓦二世_(法兰西)\"\n",
       " \"沙姆什·阿达德五世\"\n",
       " \"亨利·利文斯顿\"\n",
       " \"安曼國際體育場\"\n",
       " \"蒂蒂克拉\"\n",
       " \"亨利·利文斯顿\"\n",
       " \"弗朗索瓦二世_(法兰西)\"\n",
       " \"亨利·利文斯顿\"\n",
       " \"克里斯蒂娜·费尔南德斯·德基什内尔\"\n",
       " \"沙姆什·阿达德五世\"\n",
       " \"亨利·利文斯顿\"\n",
       " \"黎棟國\""
      ]
     },
     "execution_count": 21,
     "metadata": {},
     "output_type": "execute_result"
    }
   ],
   "source": [
    "fail2"
   ]
  },
  {
   "cell_type": "code",
   "execution_count": 22,
   "id": "a2677362-1bd7-44fe-92d7-b75af140b4b1",
   "metadata": {
    "tags": []
   },
   "outputs": [
    {
     "data": {
      "text/plain": [
       "104941-element Vector{Tuple{String, String, String}}:\n",
       " (\"Sichuan\", \"capital\", \"成都市\")\n",
       " (\"Sichuan\", \"西北\", \"青海\")\n",
       " (\"Sichuan\", \"北\", \"甘肃\")\n",
       " (\"Sichuan\", \"東北\", \"陕西\")\n",
       " (\"Sichuan\", \"西\", \"西藏\")\n",
       " (\"Sichuan\", \"東\", \"重庆\")\n",
       " (\"Sichuan\", \"南\", \"云南\")\n",
       " (\"Faye_Wong\", \"語言\", \"國語\")\n",
       " (\"Faye_Wong\", \"語言\", \"粤語\")\n",
       " (\"Faye_Wong\", \"語言\", \"英語\")\n",
       " (\"Faye_Wong\", \"配偶\", \"竇唯\")\n",
       " (\"Faye_Wong\", \"配偶\", \"李亞鵬\")\n",
       " (\"袁世凯\", \"monarch\", \"宣統帝\")\n",
       " ⋮\n",
       " (\"古特曼·贝拉\", \"managerclubs\", \"沃绍什体育俱乐部\")\n",
       " (\"港區_(東京都)\", \"自治體\", \"品川區\")\n",
       " (\"卡伦顿战役\", \"result\", \"詹姆斯党\")\n",
       " (\"演播时刻\", \"network\", \"英國廣播公司第二台\")\n",
       " (\"亚当·博格丹\", \"nationalteam\", \"Hungary_national_under-21_football_team\")\n",
       " (\"江陵之战_(208年)\", \"combatant\", \"孙权\")\n",
       " (\"江陵之战_(208年)\", \"commander\", \"曹仁\")\n",
       " (\"闲山岛海战\", \"commander\", \"九鬼嘉隆\")\n",
       " (\"Kyodo_Television\", \"majorShareholder\", \"關西電視台\")\n",
       " (\"稻生之戰\", \"place\", \"尾張國\")\n",
       " (\"阿利安薩石油\", \"league\", \"哥倫比亞足球甲級聯賽\")\n",
       " (\"長島一向一揆\", \"partof\", \"石山合戰\")"
      ]
     },
     "execution_count": 22,
     "metadata": {},
     "output_type": "execute_result"
    }
   ],
   "source": [
    "# 实体对齐合并\n",
    "\"用 ILLs 翻译实体和关系\"\n",
    "zh2en_byILLs(st::String) = haskey(ILLs_zh_en, st) ? ILLs_zh_en[st] : st\n",
    "zh2en_byILLs(triple::Tuple) = zh2en_byILLs.(triple)\n",
    "zh_triples_byILLs = zh2en_byILLs.(zh_triples)"
   ]
  },
  {
   "cell_type": "code",
   "execution_count": null,
   "id": "ecc7cb1b-fb18-47eb-a887-32d37a1f21e7",
   "metadata": {},
   "outputs": [],
   "source": [
    "\"问题简化（去除逗号）\"\n",
    "function refine_que(que)\n",
    "    ',' ∈ que || return que\n",
    "    parts = split(que, ',')\n",
    "    strip(parts[2])[1] == 'a' || return que\n",
    "    join(parts[[1,3:end...]])\n",
    "end"
   ]
  },
  {
   "cell_type": "code",
   "execution_count": 12,
   "id": "ef492ae9-335a-4e8c-842a-d756400deaf4",
   "metadata": {},
   "outputs": [
    {
     "data": {
      "text/plain": [
       "read_excel_triple (generic function with 1 method)"
      ]
     },
     "execution_count": 12,
     "metadata": {},
     "output_type": "execute_result"
    }
   ],
   "source": [
    "\"\"\"翻译三元组\"\"\"\n",
    "function write_excel_triple(triples, filename)\n",
    "    filename = split(filename, '.')[1]\n",
    "    part1 = @view(triples[1:(5 * 10 ^ 4)])\n",
    "    part2 = @view(triples[(5 * 10 ^ 4 + 1):end])\n",
    "    write_xlsx(filename * \"_1.xlsx\", permutedims(hcat(collect.(part1)...)))\n",
    "    write_xlsx(filename * \"_2.xlsx\", permutedims(hcat(collect.(part2)...)))\n",
    "end\n",
    "\n",
    "function read_excel_triple(filename)\n",
    "    filename = split(filename, '.')[1]\n",
    "    part1 = permutedims(read_xlsx(filename * \"_1_MT.xlsx\"))\n",
    "    part2 = permutedims(read_xlsx(filename * \"_2_MT.xlsx\"))\n",
    "    triples = NTuple{3, String}[]\n",
    "    for (sub, rel, obj) in eachcol(hcat(part1, part2))\n",
    "        push!(triples, (\n",
    "                replace(strip(sub), ' '=>'_'),\n",
    "                replace(strip(rel), ' '=>\"\"), \n",
    "                replace(strip(obj), ' ' => '_')))\n",
    "    end\n",
    "    triples\n",
    "end"
   ]
  },
  {
   "cell_type": "code",
   "execution_count": 13,
   "id": "2472f8a1-020f-48e0-9783-b680ff6f789b",
   "metadata": {},
   "outputs": [
    {
     "ename": "LoadError",
     "evalue": "SystemError: opening file \"translate/triples.txt\": 没有那个文件或目录",
     "output_type": "error",
     "traceback": [
      "SystemError: opening file \"translate/triples.txt\": 没有那个文件或目录",
      "",
      "Stacktrace:",
      "  [1] systemerror(p::String, errno::Int32; extrainfo::Nothing)",
      "    @ Base ./error.jl:174",
      "  [2] #systemerror#68",
      "    @ ./error.jl:173 [inlined]",
      "  [3] systemerror",
      "    @ ./error.jl:173 [inlined]",
      "  [4] open(fname::String; lock::Bool, read::Bool, write::Nothing, create::Nothing, truncate::Nothing, append::Nothing)",
      "    @ Base ./iostream.jl:293",
      "  [5] open(fname::String, mode::String; lock::Bool)",
      "    @ Base ./iostream.jl:355",
      "  [6] open",
      "    @ ./iostream.jl:355 [inlined]",
      "  [7] readtriples(path::String)",
      "    @ Main ./In[13]:3",
      "  [8] top-level scope",
      "    @ In[13]:6",
      "  [9] eval",
      "    @ ./boot.jl:373 [inlined]",
      " [10] include_string(mapexpr::typeof(REPL.softscope), mod::Module, code::String, filename::String)",
      "    @ Base ./loading.jl:1196"
     ]
    }
   ],
   "source": [
    "\n",
    "\n",
    "\n",
    "# 处理翻译后的图谱\n",
    "en_triples_lower = readtriples(\"translate/triple_en_lower.txt\")\n",
    "zh_triples_lower = readtriples(\"translate/triple_zh_lower.txt\")\n",
    "\n",
    "# 原始图谱\n",
    "raw_en_triples = readtriples(\"raw_triple/triple_en.txt\")\n",
    "raw_zh_triples = readtriples(\"raw_triple/triple_zh.txt\")\n",
    "\n",
    "# 建立翻译关系\n",
    "MT_en_raw2new = Dict((=>).(raw_en_triples, en_triples_lower))\n",
    "MT_zh_raw2new = Dict((=>).(raw_zh_triples, zh_triples_lower))\n",
    "MT_en_new2raw = Dict((=>).(en_triples_lower, raw_en_triples))\n",
    "MT_zh_new2raw = Dict((=>).(zh_triples_lower, raw_zh_triples))\n",
    "\n",
    "ner_raw2new = Dict((=>).(first.(vcat(raw_en_triples, raw_zh_triples)),\n",
    "        first.(vcat(en_triples_lower, zh_triples_lower))))\n",
    "\n",
    "ner_new2raw = Dict((=>).(first.(vcat(raw_en_triples, raw_zh_triples)),\n",
    "        first.(vcat(en_triples_lower, zh_triples_lower))))\n"
   ]
  }
 ],
 "metadata": {
  "kernelspec": {
   "display_name": "Julia 1.7.2",
   "language": "julia",
   "name": "julia-1.7"
  },
  "language_info": {
   "file_extension": ".jl",
   "mimetype": "application/julia",
   "name": "julia",
   "version": "1.7.2"
  }
 },
 "nbformat": 4,
 "nbformat_minor": 5
}
