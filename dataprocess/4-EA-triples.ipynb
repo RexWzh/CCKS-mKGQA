{
 "cells": [
  {
   "cell_type": "markdown",
   "id": "ea2792e4-0327-4f9f-ba6d-e2e58ed6476c",
   "metadata": {},
   "source": [
    "# 实体对齐"
   ]
  },
  {
   "cell_type": "code",
   "execution_count": 57,
   "id": "d4e210e2-d054-4343-a125-9ab9758a2fc0",
   "metadata": {
    "tags": []
   },
   "outputs": [
    {
     "data": {
      "text/plain": [
       "\"EA_data\""
      ]
     },
     "execution_count": 57,
     "metadata": {},
     "output_type": "execute_result"
    }
   ],
   "source": [
    "include(\"../src/translatedata.jl\")\n",
    "include(\"../src/ettalign.jl\")\n",
    "mkpath(\"EA_data\")"
   ]
  },
  {
   "cell_type": "code",
   "execution_count": 42,
   "id": "6f21f081-6c63-4789-a2ac-35e2f0a9c50c",
   "metadata": {
    "collapsed": true,
    "jupyter": {
     "outputs_hidden": true
    },
    "tags": []
   },
   "outputs": [
    {
     "data": {
      "text/plain": [
       "14051-element Vector{Tuple{SubString{String}, AbstractString}}:\n",
       " (\"what is the title leader of the bay that NER is famous for?\", \"Reman\")\n",
       " (\"what is the logo of the car that NER is related to?\", \"king_of_tea\")\n",
       " (\"which format does the cause of NER, a japanese biological warfare plan during world war ii, belong to?\", \"Night_Sakura\")\n",
       " (\"what is the parent mountain of the client of NER?\", \"Ball_Bearing_(advertisement)\")\n",
       " (\"which mountain range does the client of NER belong to?\", \"Cake_(advertisement)\")\n",
       " (\"which mountain range does the client of NER belong to?\", \"Changes_(advertisement)\")\n",
       " (\"which mountain range does the client of NER, a skyscraper in london, belong to?\", \"Lots_Road_South_Tower\")\n",
       " (\"which official language is used by the country that is affected by NER?\", \"1957_Mongolia_earthquake\")\n",
       " (\"what is the official language of the country that is affected by NER, an erdbeben?\", \"1957_Mongolia_earthquake\")\n",
       " (\"what is the leader name of the country that is affected by NER?\", \"262_Southwest_Anatolia_earthquake\")\n",
       " (\"who leads the country that is affected by NER, an earthquake which devastated cities on the west and south coasts of anatolia (262)?\", \"262_Southwest_Anatolia_earthquake\")\n",
       " (\"who is the author of the works that make NER known?\", \"Al-Nasa'i\")\n",
       " (\"who is the author of the works that make NER known?\", \"Charles_Simonyi\")\n",
       " ⋮\n",
       " (\"do you know who is the leader of the Northwest of NER's Birthplace\", \"Iqbal_Karim_Bhuiyan\")\n",
       " (\"what time zone uses North of Southwest NER\", \"Camers_(Utah)\")\n",
       " (\"do you know where is the constituency of the West of NER location\", \"1995–96_Sheffield_Wednesday_FC_season\")\n",
       " (\"do you know who is on the NER Predecessor title?\", \"Li_Dongguo\")\n",
       " (\"do you know who is the heir to NER's Topic Successor, a wikimedia list article?\", \"List_of_public_art_in_Greenwich\")\n",
       " (\"where is the arrondissement of East of The stadium where the NER took place, a season of a French association football club?\", \"2004–05_Chamois_Niortais_FC_season\")\n",
       " (\"do you know what is the management level of Southeast of NER's place of death, a united states army medal of honor recipient?\", \"Willis_H_Downs\")\n",
       " (\"do you know where is the title of Predecessor of Candidate of NER\", \"South_Shields_(UK_Parliament_constituency)\")\n",
       " (\"do you know what is the name of the administrative district of the North West of the location of NER\", \"2014_Sao_Paulo_FC_season\")\n",
       " (\"what is the branch of Client of The title of NER, an ira member?\", \"Joseph_Macmanus\")\n",
       " (\"what is the division type of National team location of NER, an ecuadorian footballer?\", \"Phyllis_Poyer\")\n",
       " (\"where is the Zone region covered by the The stadium where the NER took place\", \"2015_Malaysia_Premier_League\")"
      ]
     },
     "execution_count": 42,
     "metadata": {},
     "output_type": "execute_result"
    }
   ],
   "source": [
    "ea_triples = [(get(dict_ILLs, sub, sub), rel, get(dict_ILLs, obj, obj)) for (sub, rel, obj) in triples]\n",
    "train_ques_ner = [(que, get(dict_ILLs, ner, ner)) for (que, ner) in train_ques_rels]"
   ]
  },
  {
   "cell_type": "code",
   "execution_count": 58,
   "id": "493db3c4-5e75-4174-a64d-28576509ed1b",
   "metadata": {
    "tags": []
   },
   "outputs": [
    {
     "data": {
      "text/plain": [
       "Dict{String, String} with 19574 entries:\n",
       "  \"Naval_Moralejo\"          => \"Naval_Moralejo\"\n",
       "  \"New_London_County,_Conn… => \"New_London_County_(Connecticut)\"\n",
       "  \"Priapus\"                 => \"Priaps\"\n",
       "  \"Xi_County,_Henan\"        => \"Xixian\"\n",
       "  \"Portwater_County_(Kansa… => \"Portwater_County_(Kansas)\"\n",
       "  \"Association_of_American… => \"American_Association_of_Colleges_and_Universiti…\n",
       "  \"FBI_director\"            => \"FBI_director\"\n",
       "  \"Tiszabercel\"             => \"tisauberzell\"\n",
       "  \"Joseph_McCarthy\"         => \"Joseph_Redmond_McCarthy\"\n",
       "  \"Azov_Sea\"                => \"Azov_Sea\"\n",
       "  \"Chelyabinsk_Region\"      => \"Chelyabinsk_Region\"\n",
       "  \"Beire_(Paredes)\"         => \"Berry_(Portugal)\"\n",
       "  \"Young_Africans_SC\"       => \"young_african_sports_club\"\n",
       "  \"west_jerez\"              => \"west_jerez\"\n",
       "  \"Godfrey_Harold_Hardy\"    => \"Godfrey_Harold_Hardy\"\n",
       "  \"2011-12_DFB_Cup\"         => \"2011-2012_German_FA_Cup\"\n",
       "  \"Yves_Brechet\"            => \"Yves_Brecher\"\n",
       "  \"Lightspeed_Masked_Man_2… => \"Lightspeed_Masked_Man_21\"\n",
       "  \"N-I_(rocket)\"            => \"NI_launch_vehicle\"\n",
       "  \"Namco_Palace\"            => \"Namco_Palace\"\n",
       "  \"NY\"                      => \"Uni_(Hungary)\"\n",
       "  \"Filipe_Nyusi\"            => \"Felipe_Nyusi\"\n",
       "  \"Orinda_Nova,_Maranhao\"   => \"Orinda_Nova,_Maranhao\"\n",
       "  \"Roman_Catholic_Diocese_… => \"Catholic_Diocese_of_Dunkeld\"\n",
       "  \"Argente\"                 => \"Alhunt\"\n",
       "  ⋮                         => ⋮"
      ]
     },
     "execution_count": 58,
     "metadata": {},
     "output_type": "execute_result"
    }
   ],
   "source": [
    "dict_ILLs = ill2dict(ILLs)"
   ]
  },
  {
   "cell_type": "code",
   "execution_count": null,
   "id": "95c1a512-b921-4593-8a22-a7815ff80eac",
   "metadata": {},
   "outputs": [],
   "source": []
  },
  {
   "cell_type": "code",
   "execution_count": 30,
   "id": "ba61850e-cf1d-4dc9-a2a9-000d7a893bef",
   "metadata": {},
   "outputs": [],
   "source": [
    "open(\"EA_data/triples.txt\", \"w\") do io\n",
    "    for (sub, rel, obj) in triples\n",
    "        sub = get(dict_ILLs, sub, sub)\n",
    "        obj = get(dict_ILLs, sub, sub)\n",
    "        println(io, sub, '\\t', rel, '\\t', obj)\n",
    "    end\n",
    "end\n",
    "open(\"EA_data/train_ques.txt\", \"w\") do io\n",
    "    for sol in train_ques_sols\n",
    "        que, ner, rels = sol[1], sol[2], sol[3:end]\n",
    "        ner = get(dict_ILLs, ner, ner)\n",
    "        println(io, que, '\\t', ner, '\\t', join(rels, '\\t'))\n",
    "    end\n",
    "end\n",
    "\n",
    "open(\"EA_data/valid_ques.txt\", \"w\") do io\n",
    "    for (que, ner) in valid_ques_ner\n",
    "        ner = get(dict_ILLs, ner, ner)\n",
    "        println(io, que, '\\t', ner)\n",
    "    end\n",
    "end"
   ]
  },
  {
   "cell_type": "code",
   "execution_count": 7,
   "id": "fd76d455-cd69-4bb0-a5b9-328311217690",
   "metadata": {},
   "outputs": [
    {
     "data": {
      "text/plain": [
       "sort_count (generic function with 1 method)"
      ]
     },
     "execution_count": 7,
     "metadata": {},
     "output_type": "execute_result"
    }
   ],
   "source": [
    "function sort_count(list)\n",
    "    c_list = counter(list)\n",
    "    sort(Dict(c_list), by=i->c_list[i], rev=true)\n",
    "end"
   ]
  },
  {
   "cell_type": "code",
   "execution_count": 35,
   "id": "b7a4867e-893e-4f07-83b7-c9a4ab3c0188",
   "metadata": {},
   "outputs": [],
   "source": [
    "using DataStructures\n",
    "edges = DefaultDict{String, Vector{Tuple}}(Vector{Tuple})\n",
    "for (sub, rel, obj) in ea_triples\n",
    "    push!(edges[sub], (rel, obj))\n",
    "end"
   ]
  },
  {
   "cell_type": "code",
   "execution_count": 36,
   "id": "66635c43-64f8-4a01-b542-586f1f925428",
   "metadata": {
    "tags": []
   },
   "outputs": [],
   "source": [
    "subs = unique!(first.(ea_triples))\n",
    "# 第一跳\n",
    "jumps = Dict(sub => [length(edges[sub])] for sub in subs)\n",
    "# 第二跳\n",
    "for sub in subs\n",
    "    push!(jumps[sub], sum(haskey(jumps, obj) && jumps[obj][1] for (rel, obj) in edges[sub]))\n",
    "end\n",
    "# 第三跳\n",
    "for sub in subs\n",
    "    push!(jumps[sub], sum(haskey(jumps, obj) && jumps[obj][2] for (rel, obj) in edges[sub]))\n",
    "end"
   ]
  },
  {
   "cell_type": "code",
   "execution_count": 37,
   "id": "22753c93-f9ed-4efe-b706-2cd0741ace5b",
   "metadata": {},
   "outputs": [
    {
     "data": {
      "text/plain": [
       "jump_two (generic function with 1 method)"
      ]
     },
     "execution_count": 37,
     "metadata": {},
     "output_type": "execute_result"
    }
   ],
   "source": [
    "jump_three(sub) = haskey(jumps, sub) ? jumps[sub][3] : 0\n",
    "jump_two(sub) = haskey(jumps, sub) ? jumps[sub][2] : 0"
   ]
  },
  {
   "cell_type": "code",
   "execution_count": 43,
   "id": "3f23327f-4b15-456d-94f6-7e207c2209b9",
   "metadata": {},
   "outputs": [],
   "source": [
    "fail2, fail3 = String[], String[]\n",
    "for (que, ner) in train_ques_ner\n",
    "    jump_two(ner) == 0 && push!(fail2, ner)\n",
    "    jump_three(ner) == 0 && push!(fail3, ner)\n",
    "end"
   ]
  },
  {
   "cell_type": "code",
   "execution_count": 54,
   "id": "c0c31bdd-d1e0-4dff-acb0-ad010e79babc",
   "metadata": {
    "collapsed": true,
    "jupyter": {
     "outputs_hidden": true
    },
    "tags": []
   },
   "outputs": [
    {
     "data": {
      "text/plain": [
       "119371-element Vector{Int64}:\n",
       " 4699\n",
       " 3398\n",
       " 2866\n",
       " 2596\n",
       " 2580\n",
       " 2170\n",
       " 2155\n",
       " 2004\n",
       " 1929\n",
       " 1927\n",
       " 1876\n",
       " 1783\n",
       " 1780\n",
       "    ⋮\n",
       "    0\n",
       "    0\n",
       "    0\n",
       "    0\n",
       "    0\n",
       "    0\n",
       "    0\n",
       "    0\n",
       "    0\n",
       "    0\n",
       "    0\n",
       "    0"
      ]
     },
     "execution_count": 54,
     "metadata": {},
     "output_type": "execute_result"
    }
   ],
   "source": [
    "sort(getindex.(values(jumps), 3), rev=true)"
   ]
  },
  {
   "cell_type": "code",
   "execution_count": 47,
   "id": "e37ed11f-dc04-414e-b2ba-ffcef4168f75",
   "metadata": {},
   "outputs": [
    {
     "data": {
      "text/plain": [
       "sort_count (generic function with 1 method)"
      ]
     },
     "execution_count": 47,
     "metadata": {},
     "output_type": "execute_result"
    }
   ],
   "source": [
    "using DataStructures\n",
    "function sort_count(list)\n",
    "    c_list = counter(list)\n",
    "    sort(Dict(c_list), by=i->c_list[i], rev=true)\n",
    "end"
   ]
  }
 ],
 "metadata": {
  "kernelspec": {
   "display_name": "Julia 1.7.2",
   "language": "julia",
   "name": "julia-1.7"
  },
  "language_info": {
   "file_extension": ".jl",
   "mimetype": "application/julia",
   "name": "julia",
   "version": "1.7.2"
  }
 },
 "nbformat": 4,
 "nbformat_minor": 5
}
