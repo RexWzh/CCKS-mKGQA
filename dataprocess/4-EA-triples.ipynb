{
 "cells": [
  {
   "cell_type": "markdown",
   "id": "ea2792e4-0327-4f9f-ba6d-e2e58ed6476c",
   "metadata": {},
   "source": [
    "# 实体对齐"
   ]
  },
  {
   "cell_type": "code",
   "execution_count": 9,
   "id": "d4e210e2-d054-4343-a125-9ab9758a2fc0",
   "metadata": {
    "tags": []
   },
   "outputs": [
    {
     "data": {
      "text/plain": [
       "5-element Vector{String}:\n",
       " \"EA_data\"\n",
       " \"EA_data/ILLs_1\"\n",
       " \"EA_data/ILLs_2\"\n",
       " \"EA_data/ILLs_official\"\n",
       " \"EA_data/ILLs_wiki\""
      ]
     },
     "execution_count": 9,
     "metadata": {},
     "output_type": "execute_result"
    }
   ],
   "source": [
    "include(\"../src/CCKS-mKGQA.jl\")\n",
    "include(\"../src/extractdata.jl\")\n",
    "include(\"../src/translatedata.jl\")\n",
    "include(\"../src/ettalign.jl\")\n",
    "mkpath.(\"EA_data/\" .* ([\"\", \"ILLs_1\", \"ILLs_2\", \"ILLs_official\", \"ILLs_wiki\"]))"
   ]
  },
  {
   "cell_type": "markdown",
   "id": "7b447677-4991-4c4b-9892-efa895008b1e",
   "metadata": {
    "tags": []
   },
   "source": [
    "### 初始化"
   ]
  },
  {
   "cell_type": "markdown",
   "id": "b8c800a5-9c82-4d2b-a205-882490b6628b",
   "metadata": {
    "jp-MarkdownHeadingCollapsed": true,
    "tags": []
   },
   "source": [
    "#### 模型对齐-1"
   ]
  },
  {
   "cell_type": "code",
   "execution_count": 22,
   "id": "bdfb32b7-52a6-4cbc-a24f-2445c1aa5678",
   "metadata": {
    "tags": []
   },
   "outputs": [],
   "source": [
    "# ILLs => 对齐字典\n",
    "path = \"ILLs_1\"\n",
    "newILLs = readtuples(\"EA_data/$path/ETT_Pairs.txt\";size=2)\n",
    "filter!(i->i[1] != \"Gregoire_Kayibanda\", newILLs);"
   ]
  },
  {
   "cell_type": "markdown",
   "id": "7a97bc0a-d764-4a93-ab16-d50d66057c85",
   "metadata": {
    "tags": []
   },
   "source": [
    "#### 模型对齐-2"
   ]
  },
  {
   "cell_type": "code",
   "execution_count": 26,
   "id": "6c92eb70-8205-4fc7-b187-b44133fb9598",
   "metadata": {
    "tags": []
   },
   "outputs": [],
   "source": [
    "# ILLs => 对齐字典\n",
    "path = \"ILLs_2\"\n",
    "newILLs = readtuples(\"EA_data/$path/ILLs_predict-7.6.txt\"; size=2);"
   ]
  },
  {
   "cell_type": "markdown",
   "id": "eae76c97-ba0d-4cbf-bbb8-eaf50a1fc08f",
   "metadata": {
    "jp-MarkdownHeadingCollapsed": true,
    "tags": []
   },
   "source": [
    "#### 模型对齐-3"
   ]
  },
  {
   "cell_type": "code",
   "execution_count": 57,
   "id": "1fec218b-3612-40c8-828d-2c3e5cc8ae40",
   "metadata": {
    "collapsed": true,
    "jupyter": {
     "outputs_hidden": true
    },
    "tags": []
   },
   "outputs": [
    {
     "data": {
      "text/plain": [
       "48131-element Vector{Tuple{String, String}}:\n",
       " (\"Corrales_de_Duero\", \"科拉莱斯德杜埃罗\")\n",
       " (\"Fairview,_Montana\", \"费尔维尤_(蒙大拿州)\")\n",
       " (\"Wells_(UK_Parliament_constituency)\", \"韋爾斯_(英國國會選區)\")\n",
       " (\"Golden_Beach,_Florida\", \"金沙滩_(佛罗里达州)\")\n",
       " (\"Tokyo_Juliet_(TV_series)\", \"東方茱麗葉\")\n",
       " (\"Ibagué\", \"伊瓦格\")\n",
       " (\"Springville,_Utah\", \"史普林维尔_(犹他州)\")\n",
       " (\"Pyin_Oo_Lwin_District\", \"彬乌伦县\")\n",
       " (\"Scotland_national_under-21_football_team\", \"蘇格蘭21歲以下足球代表隊\")\n",
       " (\"Middle_East\", \"中东\")\n",
       " (\"Huntingdon_and_Peterborough\", \"亨廷登-彼得伯勒郡\")\n",
       " (\"Brasília_de_Minas\", \"巴西利亚-迪米纳斯\")\n",
       " (\"Dhofar_Governorate\", \"佐法爾省\")\n",
       " ⋮\n",
       " (\"Henagar,_Alabama\", \"黑纳格_(阿拉巴马州)\")\n",
       " (\"Men_in_Black_II\", \"黑色會\")\n",
       " (\"The_Snowmen\", \"黑道家族\")\n",
       " (\"Black_Hawk_(Amtrak_train)\", \"黑鷹計劃\")\n",
       " (\"Nouvion-sur-Meuse\", \"默兹河畔巴祖瓦勒\")\n",
       " (\"Delta_Amacuro\", \"黛兒塔\")\n",
       " (\"Zapadni_Mojstir\", \"鼠标垫\")\n",
       " (\"Led_Zeppelin_II\", \"齐柏林飞船_(乐团)\")\n",
       " (\"August_Hlond\", \"齐格蒙特·奥古斯特\")\n",
       " (\"Zimány\", \"齐马尼\")\n",
       " (\"Łagówek\", \"龔偉怡\")\n",
       " (\"Kamei_Korenori\", \"龜井茲矩\")"
      ]
     },
     "execution_count": 57,
     "metadata": {},
     "output_type": "execute_result"
    }
   ],
   "source": [
    "# ILLs => 对齐字典\n",
    "path = \"ILLs_3\"\n",
    "newILLs = readtuples(\"EA_data/$path/ILLs_predict_zh_en.txt\"; size=2)\n",
    "wordset = Set(words)\n",
    "filter!(i->i[1] ∈ wordset, newILLs)\n",
    "# filter(i->i[1] ∉ wordset, newILLs)"
   ]
  },
  {
   "cell_type": "markdown",
   "id": "036de381-1225-4296-8156-037db912b8da",
   "metadata": {
    "tags": []
   },
   "source": [
    "#### 原始 ILLs"
   ]
  },
  {
   "cell_type": "code",
   "execution_count": 4,
   "id": "e4639f77-52a4-44b9-b8dc-cdaa8130e5bf",
   "metadata": {
    "tags": []
   },
   "outputs": [],
   "source": [
    "path = \"ILLs_official\"\n",
    "newILLs = ILLs;"
   ]
  },
  {
   "cell_type": "markdown",
   "id": "f23f8232-c112-4e33-9a39-7b9996ae5c9b",
   "metadata": {
    "tags": []
   },
   "source": [
    "#### wiki ILLs"
   ]
  },
  {
   "cell_type": "code",
   "execution_count": 10,
   "id": "8d67a1b6-66fa-4713-be36-5258aacc43ea",
   "metadata": {
    "tags": []
   },
   "outputs": [],
   "source": [
    "path = \"ILLs_wiki\"\n",
    "newILLs = wiki_ILLs;"
   ]
  },
  {
   "cell_type": "markdown",
   "id": "4e81d9ee-92fc-4932-a48d-b3fc58237a78",
   "metadata": {
    "tags": []
   },
   "source": [
    "### 生成文件"
   ]
  },
  {
   "cell_type": "code",
   "execution_count": 58,
   "id": "bef39191-5bad-4826-aae9-78e11f43726e",
   "metadata": {
    "tags": []
   },
   "outputs": [
    {
     "name": "stdout",
     "output_type": "stream",
     "text": [
      "对齐数目：\t[48131, 37119]\n",
      "元组数目：\t[267399, 263036]\n"
     ]
    }
   ],
   "source": [
    "mt_newILLs = [getindex.(Ref(dict_words), pair) for pair in newILLs]\n",
    "filter!(i->i[1]!=i[2], unique!(mt_newILLs))\n",
    "println(\"对齐数目：\\t\", length.([newILLs, mt_newILLs])) # 13055 => 9802\n",
    "dict_ILLs = ill2dict(mt_newILLs)\n",
    "\n",
    "# 翻译三元组\n",
    "mt_triples = triple_byMT.(triples)\n",
    "\n",
    "# 对齐三元组\n",
    "triple_byills(triple) = triple_byills(triple...)\n",
    "triple_byills(sub, rel, obj) = (get(dict_ILLs, sub, sub), rel, get(dict_ILLs, obj, obj))\n",
    "ill_triples = unique!(triple_byills.(mt_triples))\n",
    "println(\"元组数目：\\t\", length.([triples, ill_triples]))\n",
    "\n",
    "# 验证集\n",
    "ill_valid_ners = [get(dict_ILLs, ner, ner) for ner in last.(mt_valid_ques_ner)]\n",
    "ill_valid_ques = first.(mt_valid_ques_ner)\n",
    "\n",
    "# 训练集\n",
    "ill_train_ners = [get(dict_ILLs, ner, ner) for ner in getindex.(mt_train_ques_rels, 2)]\n",
    "ill_train_ques = mt_train_ques;\n",
    "ill_train_sols = [triple_byills.(triple_byMT.(getindex.(sols, Ref(2:4)))) for sols in train_sols]\n",
    "ill_train_rels = [getindex.(sols, 2) for sols in ill_train_sols];"
   ]
  },
  {
   "cell_type": "markdown",
   "id": "8506d0b8-8932-4a71-ba3f-c1dde6f64117",
   "metadata": {
    "tags": []
   },
   "source": [
    "### 测试"
   ]
  },
  {
   "cell_type": "code",
   "execution_count": 59,
   "id": "621955c7-cb0c-4b1c-8570-c9375d9cb30c",
   "metadata": {},
   "outputs": [],
   "source": [
    "edges = DefaultDict{String, Vector{Tuple}}(Vector{Tuple})\n",
    "for (sub, rel, obj) in ill_triples\n",
    "    push!(edges[sub], (rel, obj))\n",
    "end\n",
    "\n",
    "subs = unique!(first.(ill_triples))\n",
    "# 第一跳\n",
    "jumps = Dict(sub => [length(edges[sub])] for sub in subs)\n",
    "# 第二跳\n",
    "for sub in subs\n",
    "    push!(jumps[sub], sum(haskey(jumps, obj) && jumps[obj][1] for (rel, obj) in edges[sub]))\n",
    "end\n",
    "# 第三跳\n",
    "for sub in subs\n",
    "    push!(jumps[sub], sum(haskey(jumps, obj) && jumps[obj][2] for (rel, obj) in edges[sub]))\n",
    "end"
   ]
  },
  {
   "cell_type": "code",
   "execution_count": 60,
   "id": "ebb0f694-86d2-48ff-9de3-ad3af58c17ef",
   "metadata": {},
   "outputs": [
    {
     "name": "stdout",
     "output_type": "stream",
     "text": [
      "[0, 37283, 48256]\n"
     ]
    },
    {
     "data": {
      "text/plain": [
       "(61, 137)"
      ]
     },
     "execution_count": 60,
     "metadata": {},
     "output_type": "execute_result"
    }
   ],
   "source": [
    "# ILLs 3\n",
    "println([count(iszero, getindex.(values(jumps), i)) for i in 1:3])\n",
    "count(i->jumps[i][2]==0, ill_valid_ners), count(i->jumps[i][3]==0, ill_valid_ners)"
   ]
  },
  {
   "cell_type": "code",
   "execution_count": 45,
   "id": "d3ff131b-7acf-44c0-a97c-b89122662fef",
   "metadata": {},
   "outputs": [
    {
     "name": "stdout",
     "output_type": "stream",
     "text": [
      "[0, 52268, 67437]\n"
     ]
    },
    {
     "data": {
      "text/plain": [
       "(156, 352)"
      ]
     },
     "execution_count": 45,
     "metadata": {},
     "output_type": "execute_result"
    }
   ],
   "source": [
    "# 官方 ILLs\n",
    "println([count(iszero, getindex.(values(jumps), i)) for i in 1:3])\n",
    "count(i->jumps[i][2]==0, ill_valid_ners), count(i->jumps[i][3]==0, ill_valid_ners)"
   ]
  },
  {
   "cell_type": "code",
   "execution_count": 25,
   "id": "151edc77-eb89-4c33-baec-7393bf167422",
   "metadata": {},
   "outputs": [
    {
     "name": "stdout",
     "output_type": "stream",
     "text": [
      "[0, 44396, 57285]\n"
     ]
    },
    {
     "data": {
      "text/plain": [
       "(80, 209)"
      ]
     },
     "execution_count": 25,
     "metadata": {},
     "output_type": "execute_result"
    }
   ],
   "source": [
    "# ILLs 1\n",
    "println([count(iszero, getindex.(values(jumps), i)) for i in 1:3])\n",
    "count(i->jumps[i][2]==0, ill_valid_ners), count(i->jumps[i][3]==0, ill_valid_ners)"
   ]
  },
  {
   "cell_type": "code",
   "execution_count": 10,
   "id": "60c73e4a-b6f7-4c40-9bb0-e92fdc723158",
   "metadata": {},
   "outputs": [
    {
     "name": "stdout",
     "output_type": "stream",
     "text": [
      "[0, 47455, 61439]\n"
     ]
    },
    {
     "data": {
      "text/plain": [
       "(98, 263)"
      ]
     },
     "execution_count": 10,
     "metadata": {},
     "output_type": "execute_result"
    }
   ],
   "source": [
    "# ILLs 2\n",
    "println([count(iszero, getindex.(values(jumps), i)) for i in 1:3])\n",
    "count(i->jumps[i][2]==0, ill_valid_ners), count(i->jumps[i][3]==0, ill_valid_ners)"
   ]
  },
  {
   "cell_type": "code",
   "execution_count": 8,
   "id": "08b409d4-6887-424b-a1a5-b23a44278fdc",
   "metadata": {},
   "outputs": [
    {
     "name": "stdout",
     "output_type": "stream",
     "text": [
      "[0, 38070, 49921]\n"
     ]
    },
    {
     "data": {
      "text/plain": [
       "(6, 103)"
      ]
     },
     "execution_count": 8,
     "metadata": {},
     "output_type": "execute_result"
    }
   ],
   "source": [
    "# wiki ILLs\n",
    "println([count(iszero, getindex.(values(jumps), i)) for i in 1:3])\n",
    "count(i->jumps[i][2]==0, ill_valid_ners), count(i->jumps[i][3]==0, ill_valid_ners)"
   ]
  },
  {
   "cell_type": "code",
   "execution_count": 7,
   "id": "fd76d455-cd69-4bb0-a5b9-328311217690",
   "metadata": {},
   "outputs": [
    {
     "data": {
      "text/plain": [
       "sort_count (generic function with 1 method)"
      ]
     },
     "execution_count": 7,
     "metadata": {},
     "output_type": "execute_result"
    }
   ],
   "source": [
    "function sort_count(list)\n",
    "    c_list = counter(list)\n",
    "    sort(Dict(c_list), by=i->c_list[i], rev=true)\n",
    "end"
   ]
  },
  {
   "cell_type": "markdown",
   "id": "b9ca798c-522c-460e-8fcf-6a90357af2ec",
   "metadata": {},
   "source": [
    "### 保存"
   ]
  },
  {
   "cell_type": "code",
   "execution_count": 61,
   "id": "ba61850e-cf1d-4dc9-a2a9-000d7a893bef",
   "metadata": {},
   "outputs": [],
   "source": [
    "open(\"EA_data/$path/triples.txt\", \"w\") do io\n",
    "    for triple in ill_triples\n",
    "        println(io, join(triple, '\\t'))\n",
    "    end\n",
    "end\n",
    "\n",
    "open(\"EA_data/$path/train_ques.txt\", \"w\") do io\n",
    "    for (que, ner, rels) in zip(ill_train_ques, ill_train_ners, ill_train_rels)\n",
    "        println(io, que, '\\t', ner, '\\t', join(rels, '\\t'))\n",
    "    end\n",
    "end\n",
    "\n",
    "open(\"EA_data/$path/train_data.txt\", \"w\") do io\n",
    "    for (que, ner, sols) in zip(ill_train_ques, ill_train_ners, ill_train_sols)\n",
    "        println(io, que, '\\t', ner)\n",
    "        for sol in sols\n",
    "            println(io, join(sol, '\\t'))\n",
    "        end\n",
    "        println(io)\n",
    "    end\n",
    "end\n",
    "\n",
    "open(\"EA_data/$path/valid_ques.txt\", \"w\") do io\n",
    "    for (que, ner) in zip(ill_valid_ques, ill_valid_ners)\n",
    "        println(io, que, '\\t', ner)\n",
    "    end\n",
    "end"
   ]
  }
 ],
 "metadata": {
  "kernelspec": {
   "display_name": "Julia 1.7.2",
   "language": "julia",
   "name": "julia-1.7"
  },
  "language_info": {
   "file_extension": ".jl",
   "mimetype": "application/julia",
   "name": "julia",
   "version": "1.7.2"
  }
 },
 "nbformat": 4,
 "nbformat_minor": 5
}
