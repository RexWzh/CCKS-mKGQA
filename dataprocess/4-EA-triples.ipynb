{
 "cells": [
  {
   "cell_type": "markdown",
   "id": "ea2792e4-0327-4f9f-ba6d-e2e58ed6476c",
   "metadata": {},
   "source": [
    "# 实体对齐"
   ]
  },
  {
   "cell_type": "markdown",
   "id": "551538d2-8f4c-4698-bbf4-8cd7a80c1d4c",
   "metadata": {},
   "source": [
    "注：由于存在重复的三元组，提交不知道会不会区分这些情形\n",
    "- 比如假设 tri1 即为 en 也为 zh，那么\n",
    "- en -> zh -> en 和 zh -> zh -> en 都将作为答案"
   ]
  },
  {
   "cell_type": "code",
   "execution_count": 1,
   "id": "d4e210e2-d054-4343-a125-9ab9758a2fc0",
   "metadata": {
    "tags": []
   },
   "outputs": [
    {
     "data": {
      "text/plain": [
       "5-element Vector{String}:\n",
       " \"EA_data\"\n",
       " \"EA_data/ILLs_1\"\n",
       " \"EA_data/ILLs_2\"\n",
       " \"EA_data/ILLs_official\"\n",
       " \"EA_data/ILLs_wiki\""
      ]
     },
     "execution_count": 1,
     "metadata": {},
     "output_type": "execute_result"
    }
   ],
   "source": [
    "include(\"../src/CCKS-mKGQA.jl\")\n",
    "include(\"../src/extractdata.jl\")\n",
    "include(\"../src/translatedata.jl\")\n",
    "include(\"../src/ettalign.jl\")\n",
    "mkpath.(\"EA_data/\" .* ([\"\", \"ILLs_1\", \"ILLs_2\", \"ILLs_official\", \"ILLs_wiki\"]))"
   ]
  },
  {
   "cell_type": "markdown",
   "id": "b8c800a5-9c82-4d2b-a205-882490b6628b",
   "metadata": {},
   "source": [
    "### 模型对齐-旧"
   ]
  },
  {
   "cell_type": "code",
   "execution_count": 2,
   "id": "bdfb32b7-52a6-4cbc-a24f-2445c1aa5678",
   "metadata": {
    "tags": []
   },
   "outputs": [],
   "source": [
    "# ILLs => 对齐字典\n",
    "path = \"ILLs_1\"\n",
    "newILLs = split(strip(read(open(\"EA_data/$path/ETT_Pairs.txt\", \"r\"), String)), '\\n')\n",
    "newILLs = Tuple.(split.(newILLs, '\\t'))\n",
    "filter!(i->i[1] != \"Gregoire_Kayibanda\", newILLs);"
   ]
  },
  {
   "cell_type": "markdown",
   "id": "7a97bc0a-d764-4a93-ab16-d50d66057c85",
   "metadata": {},
   "source": [
    "### 模型对齐-新"
   ]
  },
  {
   "cell_type": "code",
   "execution_count": 3,
   "id": "6c92eb70-8205-4fc7-b187-b44133fb9598",
   "metadata": {
    "tags": []
   },
   "outputs": [],
   "source": [
    "# ILLs => 对齐字典\n",
    "path = \"ILLs_2\"\n",
    "newILLs = split(strip(read(open(\"EA_data/$path/ILLs_predict-7.6.txt\", \"r\"), String)), '\\n')\n",
    "newILLs = Tuple.(split.(newILLs, '\\t'));"
   ]
  },
  {
   "cell_type": "markdown",
   "id": "036de381-1225-4296-8156-037db912b8da",
   "metadata": {},
   "source": [
    "### 原始 ILLs"
   ]
  },
  {
   "cell_type": "code",
   "execution_count": 4,
   "id": "e4639f77-52a4-44b9-b8dc-cdaa8130e5bf",
   "metadata": {
    "tags": []
   },
   "outputs": [],
   "source": [
    "path = \"ILLs_official\"\n",
    "newILLs = ILLs;"
   ]
  },
  {
   "cell_type": "markdown",
   "id": "f23f8232-c112-4e33-9a39-7b9996ae5c9b",
   "metadata": {},
   "source": [
    "### wiki ILLs"
   ]
  },
  {
   "cell_type": "code",
   "execution_count": 5,
   "id": "8d67a1b6-66fa-4713-be36-5258aacc43ea",
   "metadata": {
    "tags": []
   },
   "outputs": [],
   "source": [
    "path = \"ILLs_wiki\"\n",
    "newILLs = wiki_ILLs;"
   ]
  },
  {
   "cell_type": "code",
   "execution_count": 6,
   "id": "bef39191-5bad-4826-aae9-78e11f43726e",
   "metadata": {
    "tags": []
   },
   "outputs": [
    {
     "name": "stdout",
     "output_type": "stream",
     "text": [
      "[42072, 29655]\n"
     ]
    }
   ],
   "source": [
    "mt_newILLs = [(dict_words[en], dict_words[zh]) for (en, zh) in newILLs]\n",
    "filter!(i->i[1]!=i[2], unique!(mt_newILLs))\n",
    "println(length.([newILLs, mt_newILLs])) # 13055 => 9802\n",
    "dict_ILLs = ill2dict(mt_newILLs)\n",
    "\n",
    "# 翻译三元组\n",
    "mt_triples = triple_byMT.(triples)\n",
    "\n",
    "# 对齐三元组\n",
    "triple_byills(triple) = triple_byills(triple...)\n",
    "triple_byills(sub, rel, obj) = (get(dict_ILLs, sub, sub), rel, get(dict_ILLs, obj, obj))\n",
    "ill_triples = triple_byills.(mt_triples)\n",
    "\n",
    "# 验证集\n",
    "ill_valid_ners = [get(dict_ILLs, ner, ner) for ner in last.(mt_valid_ques_ner)]\n",
    "ill_valid_ques = first.(mt_valid_ques_ner)\n",
    "\n",
    "# 训练集\n",
    "ill_train_ners = [get(dict_ILLs, ner, ner) for ner in getindex.(mt_train_ques_rels, 2)]\n",
    "ill_train_ques = mt_train_ques;\n",
    "ill_train_sols = [triple_byills.(triple_byMT.(getindex.(sols, Ref(2:4)))) for sols in train_sols]\n",
    "ill_train_rels = [getindex.(sols, 2) for sols in ill_train_sols];"
   ]
  },
  {
   "cell_type": "markdown",
   "id": "8506d0b8-8932-4a71-ba3f-c1dde6f64117",
   "metadata": {
    "tags": []
   },
   "source": [
    "### 测试"
   ]
  },
  {
   "cell_type": "code",
   "execution_count": 7,
   "id": "621955c7-cb0c-4b1c-8570-c9375d9cb30c",
   "metadata": {},
   "outputs": [],
   "source": [
    "using DataStructures\n",
    "edges = DefaultDict{String, Vector{Tuple}}(Vector{Tuple})\n",
    "for (sub, rel, obj) in ill_triples\n",
    "    push!(edges[sub], (rel, obj))\n",
    "end\n",
    "\n",
    "subs = unique!(first.(ill_triples))\n",
    "# 第一跳\n",
    "jumps = Dict(sub => [length(edges[sub])] for sub in subs)\n",
    "# 第二跳\n",
    "for sub in subs\n",
    "    push!(jumps[sub], sum(haskey(jumps, obj) && jumps[obj][1] for (rel, obj) in edges[sub]))\n",
    "end\n",
    "# 第三跳\n",
    "for sub in subs\n",
    "    push!(jumps[sub], sum(haskey(jumps, obj) && jumps[obj][2] for (rel, obj) in edges[sub]))\n",
    "end"
   ]
  },
  {
   "cell_type": "code",
   "execution_count": 45,
   "id": "d3ff131b-7acf-44c0-a97c-b89122662fef",
   "metadata": {},
   "outputs": [
    {
     "name": "stdout",
     "output_type": "stream",
     "text": [
      "[0, 52268, 67437]\n"
     ]
    },
    {
     "data": {
      "text/plain": [
       "(156, 352)"
      ]
     },
     "execution_count": 45,
     "metadata": {},
     "output_type": "execute_result"
    }
   ],
   "source": [
    "# 官方 ILLs\n",
    "println([count(iszero, getindex.(values(jumps), i)) for i in 1:3])\n",
    "count(i->jumps[i][2]==0, ill_valid_ners), count(i->jumps[i][3]==0, ill_valid_ners)"
   ]
  },
  {
   "cell_type": "code",
   "execution_count": 32,
   "id": "151edc77-eb89-4c33-baec-7393bf167422",
   "metadata": {},
   "outputs": [
    {
     "name": "stdout",
     "output_type": "stream",
     "text": [
      "[0, 44396, 57285]\n"
     ]
    },
    {
     "data": {
      "text/plain": [
       "(80, 209)"
      ]
     },
     "execution_count": 32,
     "metadata": {},
     "output_type": "execute_result"
    }
   ],
   "source": [
    "# 旧 ILLs\n",
    "println([count(iszero, getindex.(values(jumps), i)) for i in 1:3])\n",
    "count(i->jumps[i][2]==0, ill_valid_ners), count(i->jumps[i][3]==0, ill_valid_ners)"
   ]
  },
  {
   "cell_type": "code",
   "execution_count": 10,
   "id": "60c73e4a-b6f7-4c40-9bb0-e92fdc723158",
   "metadata": {},
   "outputs": [
    {
     "name": "stdout",
     "output_type": "stream",
     "text": [
      "[0, 47455, 61439]\n"
     ]
    },
    {
     "data": {
      "text/plain": [
       "(98, 263)"
      ]
     },
     "execution_count": 10,
     "metadata": {},
     "output_type": "execute_result"
    }
   ],
   "source": [
    "# 新 ILLs\n",
    "println([count(iszero, getindex.(values(jumps), i)) for i in 1:3])\n",
    "count(i->jumps[i][2]==0, ill_valid_ners), count(i->jumps[i][3]==0, ill_valid_ners)"
   ]
  },
  {
   "cell_type": "code",
   "execution_count": 8,
   "id": "08b409d4-6887-424b-a1a5-b23a44278fdc",
   "metadata": {},
   "outputs": [
    {
     "name": "stdout",
     "output_type": "stream",
     "text": [
      "[0, 38070, 49921]\n"
     ]
    },
    {
     "data": {
      "text/plain": [
       "(6, 103)"
      ]
     },
     "execution_count": 8,
     "metadata": {},
     "output_type": "execute_result"
    }
   ],
   "source": [
    "# wiki ILLs\n",
    "println([count(iszero, getindex.(values(jumps), i)) for i in 1:3])\n",
    "count(i->jumps[i][2]==0, ill_valid_ners), count(i->jumps[i][3]==0, ill_valid_ners)"
   ]
  },
  {
   "cell_type": "code",
   "execution_count": 7,
   "id": "fd76d455-cd69-4bb0-a5b9-328311217690",
   "metadata": {},
   "outputs": [
    {
     "data": {
      "text/plain": [
       "sort_count (generic function with 1 method)"
      ]
     },
     "execution_count": 7,
     "metadata": {},
     "output_type": "execute_result"
    }
   ],
   "source": [
    "function sort_count(list)\n",
    "    c_list = counter(list)\n",
    "    sort(Dict(c_list), by=i->c_list[i], rev=true)\n",
    "end"
   ]
  },
  {
   "cell_type": "markdown",
   "id": "b9ca798c-522c-460e-8fcf-6a90357af2ec",
   "metadata": {},
   "source": [
    "### 保存"
   ]
  },
  {
   "cell_type": "code",
   "execution_count": 46,
   "id": "ba61850e-cf1d-4dc9-a2a9-000d7a893bef",
   "metadata": {},
   "outputs": [],
   "source": [
    "open(\"EA_data/$path/triples.txt\", \"w\") do io\n",
    "    for triple in ill_triples\n",
    "        println(io, join(triple, '\\t'))\n",
    "    end\n",
    "end\n",
    "\n",
    "open(\"EA_data/$path/train_ques.txt\", \"w\") do io\n",
    "    for (que, ner, rels) in zip(ill_train_ques, ill_train_ners, ill_train_rels)\n",
    "        println(io, que, '\\t', ner, '\\t', join(rels, '\\t'))\n",
    "    end\n",
    "end\n",
    "\n",
    "open(\"EA_data/$path/train_data.txt\", \"w\") do io\n",
    "    for (que, ner, sols) in zip(ill_train_ques, ill_train_ners, ill_train_sols)\n",
    "        println(io, que, '\\t', ner)\n",
    "        for sol in sols\n",
    "            println(io, join(sol, '\\t'))\n",
    "        end\n",
    "        println(io)\n",
    "    end\n",
    "end\n",
    "\n",
    "open(\"EA_data/$path/valid_ques.txt\", \"w\") do io\n",
    "    for (que, ner) in zip(ill_valid_ques, ill_valid_ners)\n",
    "        println(io, que, '\\t', ner)\n",
    "    end\n",
    "end"
   ]
  }
 ],
 "metadata": {
  "kernelspec": {
   "display_name": "Julia 1.7.2",
   "language": "julia",
   "name": "julia-1.7"
  },
  "language_info": {
   "file_extension": ".jl",
   "mimetype": "application/julia",
   "name": "julia",
   "version": "1.7.2"
  }
 },
 "nbformat": 4,
 "nbformat_minor": 5
}
