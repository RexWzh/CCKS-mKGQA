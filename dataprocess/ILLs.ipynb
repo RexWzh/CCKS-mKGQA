{
 "cells": [
  {
   "cell_type": "code",
   "execution_count": 6,
   "id": "7afbb904-dd6c-48ba-b0e6-9f0d7a34a802",
   "metadata": {
    "tags": []
   },
   "outputs": [
    {
     "data": {
      "text/plain": [
       "get_tags (generic function with 2 methods)"
      ]
     },
     "execution_count": 6,
     "metadata": {},
     "output_type": "execute_result"
    }
   ],
   "source": [
    "include(\"../src/extractdata.jl\")\n",
    "include(\"../src/scrap.jl\")"
   ]
  },
  {
   "cell_type": "code",
   "execution_count": 8,
   "id": "f211f8d2-648a-482e-95a7-59c8f94a9d1e",
   "metadata": {},
   "outputs": [
    {
     "data": {
      "text/plain": [
       "\"Longtang,_Hainan\""
      ]
     },
     "execution_count": 8,
     "metadata": {},
     "output_type": "execute_result"
    }
   ],
   "source": [
    "word = \"龙塘镇_(海口市)\"\n",
    "get_wiki_zh2en(word)"
   ]
  },
  {
   "cell_type": "code",
   "execution_count": 17,
   "id": "5a5bd41c-6523-4aa8-9df9-69ba3e85ba0f",
   "metadata": {
    "collapsed": true,
    "jupyter": {
     "outputs_hidden": true
    },
    "tags": []
   },
   "outputs": [
    {
     "data": {
      "text/plain": [
       "HTTP.Messages.Response:\n",
       "\"\"\"\n",
       "HTTP/1.1 200 OK\r\n",
       "date: Thu, 30 Jun 2022 13:03:52 GMT\r\n",
       "server: mw1355.eqiad.wmnet\r\n",
       "x-content-type-options: nosniff\r\n",
       "content-language: zh\r\n",
       "vary: Accept-Encoding,Cookie,Accept-Language,Authorization\r\n",
       "last-modified: Wed, 29 Jun 2022 01:24:17 GMT\r\n",
       "content-type: text/html; charset=UTF-8\r\n",
       "age: 680\r\n",
       "x-cache: cp5007 miss, cp5016 hit/29\r\n",
       "x-cache-status: hit-front\r\n",
       "server-timing: cache;desc=\"hit-front\", host;desc=\"cp5016\"\r\n",
       "strict-transport-security: max-age=106384710; includeSubDomains; preload\r\n",
       "report-to: { \"group\": \"wm_nel\", \"max_age\": 86400, \"endpoints\": [{ \"url\": \"https://intake-logging.wikimedia.org/v1/events?stream=w3c.reportingapi.network_error&schema_uri=/w3c/reportingapi/network_error/1.0.0\" }] }\r\n",
       "nel: { \"report_to\": \"wm_nel\", \"max_age\": 86400, \"failure_fraction\": 0.05, \"success_fraction\": 0.0}\r\n",
       "set-cookie: WMF-Last-Access=30-Jun-2022;Path=/;HttpOnly;secure;Expires=Mon, 01 Aug 2022 12:00:00 GMT, WMF-Last-Access-Global=30-Jun-2022;Path=/;Domain=.wikipedia.org;HttpOnly;secure;Expires=Mon, 01 Aug 2022 12:00:00 GMT\r\n",
       "accept-ch: Sec-CH-UA-Arch,Sec-CH-UA-Bitness,Sec-CH-UA-Full-Version-List,Sec-CH-UA-Model,Sec-CH-UA-Platform-Version\r\n",
       "permissions-policy: interest-cohort=(),ch-ua-arch=(self \"intake-analytics.wikimedia.org\"),ch-ua-bitness=(self \"intake-analytics.wikimedia.org\"),ch-ua-full-version-list=(self \"intake-analytics.wikimedia.org\"),ch-ua-model=(self \"intake-analytics.wikimedia.org\"),ch-ua-platform-version=(self \"intake-analytics.wikimedia.org\")\r\n",
       "x-client-ip: 146.19.174.31\r\n",
       "cache-control: private, s-maxage=0, max-age=0, must-revalidate\r\n",
       "set-cookie: GeoIP=HK:::22.26:114.17:v4; Path=/; secure; Domain=.wikipedia.org\r\n",
       "accept-ranges: bytes\r\n",
       "content-length: 47903\r\n",
       "\r\n",
       "<!DOCTYPE html>\n",
       "<html class=\"client-nojs\" lang=\"zh\" dir=\"ltr\">\n",
       "<head>\n",
       "<meta charset=\"UTF-8\"/>\n",
       "<title>龙塘镇 (海口市) - 维基百科，自由的百科全书</title>\n",
       "<script>document.documentElement.className=\"client-js\";RLCONF={\"wgBreakFrames\":false,\"wgSeparatorTransformTable\":[\"\",\"\"],\"wgDigitTransformTable\":[\"\",\"\"],\"wgDefaultDateFormat\":\"zh\",\"wgMonthNames\":[\"\",\"1月\",\"2月\",\"3月\",\"4月\",\"5月\",\"6月\",\"7月\",\"8月\",\"9月\",\"10月\",\"11月\",\"12月\"],\"wgRequestId\":\"e236f26e-9a2f-41cf-8131-0d6dbf7ad14d\",\"wgCSPNonce\":false,\"wgCanonicalNamespace\":\"\",\"wgCanonicalSpecialPageName\":false,\"wgNamespaceNumber\":0,\"wgPageName\":\"龙塘镇_(海口市)\",\"wgTitle\":\"龙塘镇 (海口市)\",\"wgCurRevisionId\":63819439,\"wgRevisionId\":63819439,\"wgArticleId\":972898,\"wgIsArticle\":true,\"wgIsRedirect\":false,\"wgAction\":\"view\",\"wgUserName\":null,\"wgUserGroups\":[\"*\"],\"wgCategories\":[\"全部小作品\",\"海南小作品\",\"琼山区行政区划\",\"海口建制镇\",\"海南乡镇\"],\"wgPageContentLanguage\":\"zh\",\"wgPageCo\n",
       "⋮\n",
       "47903-byte body\n",
       "\"\"\""
      ]
     },
     "execution_count": 17,
     "metadata": {},
     "output_type": "execute_result"
    }
   ],
   "source": [
    "r = HTTP.get(addr)"
   ]
  },
  {
   "cell_type": "code",
   "execution_count": 21,
   "id": "2b5405bc-714d-4c6d-a8f8-860e82f03a91",
   "metadata": {
    "tags": []
   },
   "outputs": [
    {
     "name": "stdout",
     "output_type": "stream",
     "text": [
      "  7.407380 seconds (47.72 k allocations: 5.507 MiB, 0.52% compilation time)\n",
      "  8.091447 seconds (281.96 k allocations: 24.690 MiB, 0.11% gc time, 0.61% compilation time)\n"
     ]
    },
    {
     "data": {
      "text/plain": [
       "10-element Vector{String}:\n",
       " \"Longtang,_Hainan\"\n",
       " \"Longtang,_Hainan\"\n",
       " \"Longtang,_Hainan\"\n",
       " \"Longtang,_Hainan\"\n",
       " \"Longtang,_Hainan\"\n",
       " \"Longtang,_Hainan\"\n",
       " \"Longtang,_Hainan\"\n",
       " \"Longtang,_Hainan\"\n",
       " \"Longtang,_Hainan\"\n",
       " \"Longtang,_Hainan\""
      ]
     },
     "execution_count": 21,
     "metadata": {},
     "output_type": "execute_result"
    }
   ],
   "source": [
    "addr = \"https://zh.wikipedia.org/wiki/$word\"\n",
    "@time [HTTP.get(addr) for _ in 1:10]\n",
    "@time [get_wiki_zh2en(word) for _ in 1:10];"
   ]
  },
  {
   "cell_type": "code",
   "execution_count": 6,
   "id": "09f34c5e-071a-4abc-8c73-51949eaacfd9",
   "metadata": {},
   "outputs": [
    {
     "data": {
      "text/plain": [
       "get_tags (generic function with 2 methods)"
      ]
     },
     "execution_count": 6,
     "metadata": {},
     "output_type": "execute_result"
    }
   ],
   "source": [
    "using HTTP\n",
    "using Gumbo\n",
    "using AbstractTrees\n",
    "function get_wiki_zh2en(word)\n",
    "    # 下载数据\n",
    "    addr = \"https://zh.wikipedia.org/wiki/$word\"\n",
    "    r = HTTP.get(addr)\n",
    "    # 处理数据\n",
    "    r_parsed = parsehtml(String(r.body))\n",
    "    body = r_parsed.root[2]\n",
    "    nav = get_tags(body, :nav, \"id\" => \"p-lang\")\n",
    "    langs = get_tags(nav, :ul, \"class\" => \"vector-menu-content-list\")\n",
    "    # 提取英文\n",
    "    for lang in langs.children\n",
    "        if lang.attributes[\"class\"] == \"interlanguage-link interwiki-en mw-list-item\"\n",
    "            en = lang.children[1].attributes[\"title\"]\n",
    "            return replace(en, \" – 英语\" => \"\", ' ' => '_')\n",
    "        end\n",
    "    end\n",
    "    \"\"\n",
    "end\n",
    "\n",
    "function get_tags(body, symbol::Symbol, pair::Pair)\n",
    "    for ele in PreOrderDFS(body)\n",
    "        try\n",
    "            tag(ele) == symbol && ele.attributes[pair[1]] == pair[2] && return ele\n",
    "        catch\n",
    "        end\n",
    "    end\n",
    "end"
   ]
  },
  {
   "cell_type": "code",
   "execution_count": null,
   "id": "7b29f0b5-046c-488e-a10b-43975181a882",
   "metadata": {},
   "outputs": [],
   "source": []
  }
 ],
 "metadata": {
  "kernelspec": {
   "display_name": "Julia 1.7.2",
   "language": "julia",
   "name": "julia-1.7"
  },
  "language_info": {
   "file_extension": ".jl",
   "mimetype": "application/julia",
   "name": "julia",
   "version": "1.7.2"
  }
 },
 "nbformat": 4,
 "nbformat_minor": 5
}
