{
 "cells": [
  {
   "cell_type": "code",
   "execution_count": 1,
   "id": "7afbb904-dd6c-48ba-b0e6-9f0d7a34a802",
   "metadata": {
    "tags": []
   },
   "outputs": [
    {
     "data": {
      "text/plain": [
       "get_tag"
      ]
     },
     "execution_count": 1,
     "metadata": {},
     "output_type": "execute_result"
    }
   ],
   "source": [
    "include(\"../src/extractdata.jl\")\n",
    "include(\"../src/scrap.jl\")"
   ]
  },
  {
   "cell_type": "code",
   "execution_count": 2,
   "id": "ffca98c8-5c96-4aaf-a0b5-c695bd34af90",
   "metadata": {},
   "outputs": [],
   "source": [
    "en_words = unique!(vcat(first.(en_triples), last.(en_triples)))\n",
    "enSet = Set(en_words)\n",
    "zh_words = unique!(vcat(first.(zh_triples), last.(zh_triples)))\n",
    "zhSet = Set(zh_words);"
   ]
  },
  {
   "cell_type": "code",
   "execution_count": 3,
   "id": "c52dcd9a-e241-4348-b254-db5317e393bd",
   "metadata": {
    "collapsed": true,
    "jupyter": {
     "outputs_hidden": true
    },
    "tags": []
   },
   "outputs": [
    {
     "data": {
      "text/plain": [
       "37558-element Vector{Tuple{SubString{String}, String}}:\n",
       " (\"四川省\", \"Sichuan\")\n",
       " (\"王菲\", \"Faye_Wong\")\n",
       " (\"袁世凯\", \"Yuan_Shikai\")\n",
       " (\"勒内·笛卡尔\", \"René_Descartes\")\n",
       " (\"克洛泰尔一世\", \"Chlothar_I\")\n",
       " (\"聖尼古拉球場\", \"Stadio_San_Nicola\")\n",
       " (\"阮慶\", \"Nguyễn_Khánh\")\n",
       " (\"陳文香\", \"Trần_Văn_Hương\")\n",
       " (\"黃晉發\", \"Huỳnh_Tấn_Phát\")\n",
       " (\"南越南共和國\", \"Provisional_Revolutionary_Government_of_the_Republic_of_South_Vietnam\")\n",
       " (\"沙查·巴隆·科恩\", \"Sacha_Baron_Cohen\")\n",
       " (\"海斯廷斯\", \"Hastings\")\n",
       " (\"洛斯雷亚莱霍斯\", \"Los_Realejos\")\n",
       " ⋮\n",
       " (\"拉努斯\", \"Lanús\")\n",
       " (\"日本棋院\", \"Nihon_Ki-in\")\n",
       " (\"加拿大改革黨\", \"Reform_Party_of_Canada\")\n",
       " (\"自治区_(墨西哥)\", \"Municipalities_of_Mexico\")\n",
       " (\"溫莎大學\", \"University_of_Windsor\")\n",
       " (\"俄羅斯21歲以下國家足球隊\", \"Russia_national_under-21_football_team\")\n",
       " (\"加蓬总理\", \"Prime_Minister_of_Gabon\")\n",
       " (\"科摩罗总统\", \"List_of_heads_of_state_of_the_Comoros\")\n",
       " (\"数码宝贝系列电子游戏列表\", \"List_of_Digimon_video_games\")\n",
       " (\"巴登\", \"Baden\")\n",
       " (\"季米特里斯·库楚巴斯\", \"Dimitris_Koutsoumpas\")\n",
       " (\"KILL_la_KILL\", \"Kill_la_Kill\")"
      ]
     },
     "execution_count": 3,
     "metadata": {},
     "output_type": "execute_result"
    }
   ],
   "source": [
    "txts = split(strip(read(open(\"ILLs/wiki_ills_zh2en.txt\", \"r\"), String)), '\\n')\n",
    "MT_ILLs_zh2en = [(zh, replace(en, ' '=>'_')) for (zh, en) in split.(txts, '\\t')]\n",
    "MT_ILLs_valid1 = filter(i->i[2] ∈ enSet, MT_ILLs_zh2en)"
   ]
  },
  {
   "cell_type": "code",
   "execution_count": 4,
   "id": "bb5e551d-5277-41d1-b5d7-7b37da9f1e2a",
   "metadata": {
    "collapsed": true,
    "jupyter": {
     "outputs_hidden": true
    },
    "tags": []
   },
   "outputs": [
    {
     "data": {
      "text/plain": [
       "34713-element Vector{Tuple{String, SubString{String}}}:\n",
       " (\"基督教穆斯林民主力量党\", \"Lakas–CMD\")\n",
       " (\"朱善璐\", \"Zhu_Shanlu\")\n",
       " (\"潮汕地區\", \"Chaoshan\")\n",
       " (\"薩蘭縣\", \"Saran_district\")\n",
       " (\"卡尔瓦略\", \"Carballo\")\n",
       " (\"白俄罗斯共和国国歌\", \"My_Belarusy\")\n",
       " (\"克勞斯·阿洛夫斯\", \"Klaus_Allofs\")\n",
       " (\"阿尔盖罗\", \"Alghero\")\n",
       " (\"西拉法葉\", \"West_Lafayette,_Indiana\")\n",
       " (\"薩道義\", \"Ernest_Mason_Satow\")\n",
       " (\"阿菲永卡拉希萨尔\", \"Afyonkarahisar\")\n",
       " (\"斯坦利·鲍德温\", \"Stanley_Baldwin\")\n",
       " (\"色萨利\", \"Thessaly\")\n",
       " ⋮\n",
       " (\"杨诗曼\", \"Agnez_Mo\")\n",
       " (\"弗里德蘭戰役\", \"Battle_of_Friedland\")\n",
       " (\"金盞花屬\", \"Calendula\")\n",
       " (\"黛菲\", \"Duffy_(singer)\")\n",
       " (\"巴黎第九大学\", \"Paris_Dauphine_University\")\n",
       " (\"加州州立大學洛杉磯分校\", \"California_State_University,_Los_Angeles\")\n",
       " (\"桑坦德銀行\", \"Banco_Santander\")\n",
       " (\"阿尔托大学\", \"Aalto_University\")\n",
       " (\"葛麗絲·霍普\", \"Grace_Hopper\")\n",
       " (\"彭震海\", \"Pang_Chun-hoi\")\n",
       " (\"德克薩斯理工大學\", \"Texas_Tech_University\")\n",
       " (\"温尼马卡_(内华达州)\", \"Winnemucca,_Nevada\")"
      ]
     },
     "execution_count": 4,
     "metadata": {},
     "output_type": "execute_result"
    }
   ],
   "source": [
    "txts = split(strip(read(open(\"ILLs/wiki_ills_en2zh.txt\", \"r\"), String)), '\\n')\n",
    "MT_ILLs_en2zh = [(en, replace(zh, ' '=>'_')) for (en, zh) in split.(txts, '\\t')]\n",
    "MT_ILLs_valid2 = reverse.(filter(i->i[2] ∈ zhSet, MT_ILLs_en2zh))"
   ]
  },
  {
   "cell_type": "code",
   "execution_count": 2,
   "id": "525310dd-5b31-474d-be82-4c556bdf4bf8",
   "metadata": {},
   "outputs": [
    {
     "data": {
      "text/plain": [
       "Tuple{String, String}[]"
      ]
     },
     "execution_count": 2,
     "metadata": {},
     "output_type": "execute_result"
    }
   ],
   "source": [
    "filter(i->i[1]==i[2], ILLs)"
   ]
  },
  {
   "cell_type": "code",
   "execution_count": 9,
   "id": "429a3a8e-ac50-4b44-ad84-4f9967655818",
   "metadata": {
    "collapsed": true,
    "jupyter": {
     "outputs_hidden": true
    },
    "tags": []
   },
   "outputs": [
    {
     "data": {
      "text/plain": [
       "42115-element Vector{Tuple{AbstractString, AbstractString}}:\n",
       " (\"基督教穆斯林民主力量党\", \"Lakas–CMD\")\n",
       " (\"朱善璐\", \"Zhu_Shanlu\")\n",
       " (\"潮汕地區\", \"Chaoshan\")\n",
       " (\"薩蘭縣\", \"Saran_district\")\n",
       " (\"卡尔瓦略\", \"Carballo\")\n",
       " (\"白俄罗斯共和国国歌\", \"My_Belarusy\")\n",
       " (\"克勞斯·阿洛夫斯\", \"Klaus_Allofs\")\n",
       " (\"阿尔盖罗\", \"Alghero\")\n",
       " (\"西拉法葉\", \"West_Lafayette,_Indiana\")\n",
       " (\"薩道義\", \"Ernest_Mason_Satow\")\n",
       " (\"阿菲永卡拉希萨尔\", \"Afyonkarahisar\")\n",
       " (\"斯坦利·鲍德温\", \"Stanley_Baldwin\")\n",
       " (\"色萨利\", \"Thessaly\")\n",
       " ⋮\n",
       " (\"天津权健足球俱乐部\", \"Tianjin_Quanjian_F.C.\")\n",
       " (\"约翰·克里\", \"John_Kerry\")\n",
       " (\"莫拉德夫雷\", \"Móra_d'Ebre\")\n",
       " (\"卡諾\", \"Kano\")\n",
       " (\"成都钱宝足球俱乐部\", \"Chengdu_Qianbao_F.C.\")\n",
       " (\"西里尔·内维尔，第一代内维尔男爵\", \"Cyril_Newall,_1st_Baron_Newall\")\n",
       " (\"占碑市\", \"Jambi_City\")\n",
       " (\"巴讷费尔德\", \"Barneveld\")\n",
       " (\"美国联邦最高法院大法官列表\", \"List_of_Justices_of_the_Supreme_Court_of_the_United_States\")\n",
       " (\"新界西選區\", \"New_Territories_West_(constituency)\")\n",
       " (\"九龍西選區\", \"Kowloon_West_(constituency)\")\n",
       " (\"列昂尼德·伊里奇·勃列日涅夫\", \"Leonid_Brezhnev\")"
      ]
     },
     "execution_count": 9,
     "metadata": {},
     "output_type": "execute_result"
    }
   ],
   "source": [
    "MT_ILLs_valid = filter(i->i[1]!=i[2], union(MT_ILLs_valid2, MT_ILLs_valid1, reverse.(ILLs)))"
   ]
  },
  {
   "cell_type": "code",
   "execution_count": 10,
   "id": "ebdf58ed-7db1-4ba2-aed7-be4be3bfe57f",
   "metadata": {
    "tags": []
   },
   "outputs": [],
   "source": [
    "open(\"ILLs/ILLs_valid.txt\", \"w\") do io\n",
    "    for (zh, en) in MT_ILLs_valid\n",
    "        println(io, en,'\\t', zh)\n",
    "    end\n",
    "end"
   ]
  }
 ],
 "metadata": {
  "kernelspec": {
   "display_name": "Julia 1.7.2",
   "language": "julia",
   "name": "julia-1.7"
  },
  "language_info": {
   "file_extension": ".jl",
   "mimetype": "application/julia",
   "name": "julia",
   "version": "1.7.2"
  }
 },
 "nbformat": 4,
 "nbformat_minor": 5
}
