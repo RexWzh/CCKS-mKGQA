{
 "cells": [
  {
   "cell_type": "markdown",
   "id": "f45af22f-ebc4-4733-89e9-557d64260d1f",
   "metadata": {
    "tags": []
   },
   "source": [
    "## 路径还原-精确匹配"
   ]
  },
  {
   "cell_type": "markdown",
   "id": "8f04227b-cf50-4423-8423-d2e363350641",
   "metadata": {},
   "source": [
    "注：存在 86 个重复三元组，提交不知道会不会遇到这些情形\n",
    "- 比如假设 triple1 即为 en 也为 zh，那么\n",
    "- en -> zh -> en 和 zh -> zh -> en 都将作为答案"
   ]
  },
  {
   "cell_type": "code",
   "execution_count": 34,
   "id": "68dc088e-7472-4dad-a09d-daf731f10930",
   "metadata": {
    "tags": []
   },
   "outputs": [
    {
     "data": {
      "text/plain": [
       "\"submit\""
      ]
     },
     "execution_count": 34,
     "metadata": {},
     "output_type": "execute_result"
    }
   ],
   "source": [
    "include(\"../src/CCKS-mKGQA.jl\")\n",
    "include(\"../src/loaddata/extractdata.jl\") # 原始数据\n",
    "include(\"../src/loaddata/translatedata.jl\") # 翻译数据\n",
    "include(\"../src/tools/ettalign.jl\") # 对齐工具\n",
    "include(\"../src/tools/distance.jl\") # 距离函数\n",
    "include(\"../src/process/submitpath.jl\") # 数据提交\n",
    "include(\"../src/datatype.jl\")\n",
    "mkpath(\"submit\")"
   ]
  },
  {
   "cell_type": "code",
   "execution_count": 35,
   "id": "5fb65ee8-120c-4a59-8488-2fea341c63b9",
   "metadata": {
    "tags": []
   },
   "outputs": [],
   "source": [
    "# illpath = \"ILLs_1\"\n",
    "# illpath = \"ILLs_2\"\n",
    "# illpath = \"ILLs_3\"\n",
    "illpath = \"ILLs_4\"\n",
    "# illpath = \"ILLs_official\"\n",
    "# illpath = \"ILLs_wiki\"\n",
    "include(\"../src/loaddata/illsdata.jl\");"
   ]
  },
  {
   "cell_type": "markdown",
   "id": "13d9a817-d221-4305-b7bc-92b4bc7f3af8",
   "metadata": {
    "tags": []
   },
   "source": [
    "### 反转字典"
   ]
  },
  {
   "cell_type": "code",
   "execution_count": 36,
   "id": "ad8416ad-a743-4ce1-8b74-44f786c49720",
   "metadata": {},
   "outputs": [
    {
     "name": "stdout",
     "output_type": "stream",
     "text": [
      "重复元组的信息\n"
     ]
    },
    {
     "data": {
      "text/plain": [
       "OrderedDict{Int64, Int64} with 4 entries:\n",
       "  1 => 257850\n",
       "  2 => 4735\n",
       "  3 => 51\n",
       "  4 => 3"
      ]
     },
     "execution_count": 36,
     "metadata": {},
     "output_type": "execute_result"
    }
   ],
   "source": [
    "# 元组逆向\n",
    "println(\"重复元组的信息\")\n",
    "sort_count(length.(values(illsdata.triple_ills2raw)))"
   ]
  },
  {
   "cell_type": "markdown",
   "id": "21442162-69ac-4c10-b5f6-8d521dec1632",
   "metadata": {
    "tags": []
   },
   "source": [
    "### 精确匹配"
   ]
  },
  {
   "cell_type": "code",
   "execution_count": 37,
   "id": "1bbeee73-1cc5-4930-8cf5-04c3e23cc3c9",
   "metadata": {
    "tags": []
   },
   "outputs": [
    {
     "name": "stdout",
     "output_type": "stream",
     "text": [
      "242\t10\n"
     ]
    }
   ],
   "source": [
    "submit_id = \"precise-ill3model-ill4path\"\n",
    "sols = split.(strip.(split(strip(read(open(\"predict/predict_data_0713-0.txt\", \"r\"), String)), '\\n')),'\\t')\n",
    "noans = \"<http://dbpedia.org/resource/Francis_Russell,_Marquess_of_Tavistock>#<http://dbpedia.org/property/parents>#<http://dbpedia.org/resource/John_Russell,_4th_Duke_of_Bedford>#<http://zh.dbpedia.org/resource/第四代贝德福德公爵约翰·罗素>#<http://zh.dbpedia.org/property/successor>#<http://zh.dbpedia.org/resource/丹尼尔·芬奇，第八代温奇尔西伯爵>\";\n",
    "\n",
    "# 返回结果\n",
    "res = Vector{String}(undef, 1500)\n",
    "fails, notgood = Int[], Int[]\n",
    "## 精确匹配\n",
    "for (i, sol) in enumerate(sols)\n",
    "    que, rels = ill_valid_ques[i], sol[3:end]\n",
    "    ner, rawner = ill_valid_ners[i], valid_ques_ner[i][2]\n",
    "    # 精确路径\n",
    "    submits = precise_submit(ner, rels, illsdata)\n",
    "    isempty(submits) && (push!(fails, i);continue)\n",
    "    bettersubmits = filter(contains(rawner), submits)\n",
    "    isempty(bettersubmits) ? push!(notgood, i) : (submits = bettersubmits)\n",
    "    res[i] = first(submits)\n",
    "end\n",
    "println(length(fails), '\\t', length(notgood))\n",
    "\n",
    "## 剩下部分放弃\n",
    "res[fails] .= noans\n",
    "open(\"submit/submit_$submit_id.txt\", \"w\") do io\n",
    "    println(io, \"id\\tans_path\")\n",
    "    for (i, sol) in enumerate(res)\n",
    "        println(io, i, '\\t', sol)\n",
    "    end\n",
    "end"
   ]
  },
  {
   "cell_type": "code",
   "execution_count": 38,
   "id": "a7623b0a-974c-4730-aa55-9d21cc646046",
   "metadata": {},
   "outputs": [
    {
     "data": {
      "text/plain": [
       "0.7145866454689984"
      ]
     },
     "execution_count": 38,
     "metadata": {},
     "output_type": "execute_result"
    }
   ],
   "source": [
    "(0.5993 * 1500) / (1500 - 242)"
   ]
  },
  {
   "cell_type": "code",
   "execution_count": 6,
   "id": "6d993dee-78e5-4193-8ce2-ca8ee0673d58",
   "metadata": {},
   "outputs": [
    {
     "data": {
      "text/plain": [
       "0.7512861736334404"
      ]
     },
     "execution_count": 6,
     "metadata": {},
     "output_type": "execute_result"
    }
   ],
   "source": [
    "# ill3模型 + ill1路径\n",
    "0.4673 / (1500 - 567) * 1500"
   ]
  },
  {
   "cell_type": "code",
   "execution_count": 28,
   "id": "8a9172d0-307a-478c-a9dd-756baf822f54",
   "metadata": {},
   "outputs": [
    {
     "data": {
      "text/plain": [
       "(0.7589681774349084, 0.13822894168466524)"
      ]
     },
     "execution_count": 28,
     "metadata": {},
     "output_type": "execute_result"
    }
   ],
   "source": [
    "# ill3模型 + ill3路径\n",
    "0.5247 / (1500 - 463) * 1500, ceil(0.5673 * 1500 - 0.5247 * 1500) / 463"
   ]
  },
  {
   "cell_type": "code",
   "execution_count": 19,
   "id": "e71b76dc-8d27-488b-bfe1-1928714c0876",
   "metadata": {},
   "outputs": [
    {
     "data": {
      "text/plain": [
       "0.7608837209302325"
      ]
     },
     "execution_count": 19,
     "metadata": {},
     "output_type": "execute_result"
    }
   ],
   "source": [
    "# ill3模型 + ill4路径\n",
    "0.5453 / (1500 - 425) * 1500"
   ]
  },
  {
   "cell_type": "markdown",
   "id": "4a3cffa1-8126-45e8-b0a5-40bf118e1326",
   "metadata": {
    "tags": []
   },
   "source": [
    "提交结果分析\n",
    "\n",
    " | ILLs | 准确率 | 完全无解 | 使用路径推理 | 缺二跳(验证集/图谱) | 缺三跳(验证集/图谱) | \n",
    " | ---- | ----- | ----- | ----- | ------ | ---- |\n",
    " | 官方 | 0.3513 |573 | 323 | 156/52268 | 352/67437 | \n",
    " | ILLs2 | | 551 | 221 | 98/47455 | 263/61439 | \n",
    " | ILLs1 | 0.374 | 543 | 210 | 80/44396 | 209/57285 |\n",
    " | ILLs3 | 0.3833 | 535 | 183 | 61/37283 | 137/48256 |\n",
    " | wiki | 0.422 | 478 | 134 | 6/38070 | 103/49921 |\n",
    " | ill3 模型 + wiki 路径| 0.692 | 175 | 12 | - | - |\n",
    " | ill3 模型 + ill3 路径| 0.5673 | 301 | 162 | - | - |\n",
    " | ill3 模型 + ill4 路径| 0.5753 | 260 | 165 | - | - |\n",
    " | wiki 模型 + ill3 路径| 0.612 | - | - |\n",
    " | wiki 模型 + ill4 路径| 0.6193 | 190 | 158 | - | - |\n",
    " | wiki 模型 + wiki 路径| 0.734 | - | - | - | - |\n",
    " | ill4 模型 + ill4 路径| 0.5993 | - | - | - | - |\n"
   ]
  }
 ],
 "metadata": {
  "kernelspec": {
   "display_name": "Julia 1.7.2",
   "language": "julia",
   "name": "julia-1.7"
  },
  "language_info": {
   "file_extension": ".jl",
   "mimetype": "application/julia",
   "name": "julia",
   "version": "1.7.2"
  }
 },
 "nbformat": 4,
 "nbformat_minor": 5
}
