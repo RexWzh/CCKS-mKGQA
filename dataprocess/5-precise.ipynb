{
 "cells": [
  {
   "cell_type": "markdown",
   "id": "f45af22f-ebc4-4733-89e9-557d64260d1f",
   "metadata": {
    "tags": []
   },
   "source": [
    "## 路径还原-精确匹配"
   ]
  },
  {
   "cell_type": "markdown",
   "id": "8f04227b-cf50-4423-8423-d2e363350641",
   "metadata": {},
   "source": [
    "注：存在 86 个重复三元组，提交不知道会不会遇到这些情形\n",
    "- 比如假设 triple1 即为 en 也为 zh，那么\n",
    "- en -> zh -> en 和 zh -> zh -> en 都将作为答案"
   ]
  },
  {
   "cell_type": "code",
   "execution_count": 6,
   "id": "68dc088e-7472-4dad-a09d-daf731f10930",
   "metadata": {
    "tags": []
   },
   "outputs": [
    {
     "data": {
      "text/plain": [
       "\"submit\""
      ]
     },
     "execution_count": 6,
     "metadata": {},
     "output_type": "execute_result"
    }
   ],
   "source": [
    "include(\"../src/CCKS-mKGQA.jl\")\n",
    "include(\"../src/tools/regexpr.jl\") # 正则表达\n",
    "include(\"../src/loaddata/extractdata.jl\") # 原始数据\n",
    "include(\"../src/loaddata/translatedata.jl\") # 翻译数据\n",
    "include(\"../src/tools/ettalign.jl\") # 对齐工具\n",
    "include(\"../src/tools/distance.jl\") # 距离函数\n",
    "include(\"../src/process/submitpath.jl\") # 数据提交\n",
    "include(\"../src/datatype.jl\")\n",
    "mkpath(\"submit\")"
   ]
  },
  {
   "cell_type": "code",
   "execution_count": 7,
   "id": "5fb65ee8-120c-4a59-8488-2fea341c63b9",
   "metadata": {
    "tags": []
   },
   "outputs": [],
   "source": [
    "# illpath = \"ILLs_1\"\n",
    "# illpath = \"ILLs_2\"\n",
    "# illpath = \"ILLs_3\"\n",
    "# illpath = \"ILLs_4\"\n",
    "# illpath = \"ILLs_official\"\n",
    "illpath = \"ILLs_wiki\"\n",
    "include(\"../src/loaddata/illsdata.jl\");"
   ]
  },
  {
   "cell_type": "code",
   "execution_count": 8,
   "id": "ad8416ad-a743-4ce1-8b74-44f786c49720",
   "metadata": {},
   "outputs": [
    {
     "name": "stdout",
     "output_type": "stream",
     "text": [
      "重复元组的信息\n"
     ]
    },
    {
     "data": {
      "text/plain": [
       "OrderedDict{Int64, Int64} with 4 entries:\n",
       "  1 => 255662\n",
       "  2 => 5857\n",
       "  3 => 31\n",
       "  4 => 4"
      ]
     },
     "execution_count": 8,
     "metadata": {},
     "output_type": "execute_result"
    }
   ],
   "source": [
    "# 元组逆向\n",
    "println(\"重复元组的信息\")\n",
    "sort_count(length.(values(illsdata.triple_ills2raw)))"
   ]
  },
  {
   "cell_type": "markdown",
   "id": "21442162-69ac-4c10-b5f6-8d521dec1632",
   "metadata": {
    "tags": []
   },
   "source": [
    "### 精确匹配"
   ]
  },
  {
   "cell_type": "code",
   "execution_count": 9,
   "id": "1bbeee73-1cc5-4930-8cf5-04c3e23cc3c9",
   "metadata": {
    "tags": []
   },
   "outputs": [
    {
     "name": "stdout",
     "output_type": "stream",
     "text": [
      "207\t10\n"
     ]
    }
   ],
   "source": [
    "submit_id = \"0728\"\n",
    "sols = split.(strip.(split(strip(read(open(\"predict/predict_data_bertsim.txt\", \"r\"), String)), '\\n')),'\\t')\n",
    "noans = \"<http://dbpedia.org/resource/Francis_Russell,_Marquess_of_Tavistock>#<http://dbpedia.org/property/parents>#<http://dbpedia.org/resource/John_Russell,_4th_Duke_of_Bedford>#<http://zh.dbpedia.org/resource/第四代贝德福德公爵约翰·罗素>#<http://zh.dbpedia.org/property/successor>#<http://zh.dbpedia.org/resource/丹尼尔·芬奇，第八代温奇尔西伯爵>\";\n",
    "\n",
    "# 返回结果\n",
    "res = Vector{String}(undef, 1500)\n",
    "fails, notgood = Int[], Int[]\n",
    "## 精确匹配\n",
    "for (i, sol) in enumerate(sols)\n",
    "    que, rels = ill_valid_ques[i], sol[3:end]\n",
    "    ner, rawner = ill_valid_ners[i], valid_ners[i]\n",
    "    # 精确路径\n",
    "    submits = precise_submit(ner, rels, illsdata)\n",
    "    isempty(submits) && (push!(fails, i);continue) # 无解\n",
    "    bettersubmits = filter(contains(rawner), submits) # 不需要实体链接\n",
    "    isempty(bettersubmits) ? push!(notgood, i) : (submits = bettersubmits)\n",
    "    res[i] = first(submits)\n",
    "end\n",
    "println(length(fails), '\\t', length(notgood))\n",
    "\n",
    "## 剩下部分放弃\n",
    "res[fails] .= noans\n",
    "submit_io = open(\"submit/submit_$submit_id.txt\", \"w\")\n",
    "demo_io = open(\"submit_test/demo_$submit_id.txt\", \"w\")\n",
    "println(submit_io, \"id\\tans_path\")\n",
    "for (i, sol) in enumerate(res)\n",
    "    println(submit_io, i-1, '\\t', sol)\n",
    "    info = triple_info.(partition(split(sol, '#'), 3))\n",
    "    sol == noans && continue\n",
    "    println(demo_io, i-1, '\\t', join(mt_valid_ques_ner[i], '\\t'))\n",
    "    println.(Ref(demo_io), info)\n",
    "    println(demo_io)\n",
    "end\n",
    "close(submit_io)\n",
    "close(demo_io)"
   ]
  },
  {
   "cell_type": "code",
   "execution_count": 8,
   "id": "27aecfe0-2a80-4d96-9f36-74455b5f5abf",
   "metadata": {},
   "outputs": [
    {
     "data": {
      "text/plain": [
       "0.8121499176276772"
      ]
     },
     "execution_count": 8,
     "metadata": {},
     "output_type": "execute_result"
    }
   ],
   "source": [
    "# 准确率\n",
    "0.6573 * 1500 / (1500 - 286)"
   ]
  },
  {
   "cell_type": "markdown",
   "id": "bfd45144-a7ac-4fdb-b1d9-0588547f63ec",
   "metadata": {},
   "source": [
    "### 数据分析"
   ]
  },
  {
   "cell_type": "code",
   "execution_count": 10,
   "id": "485e966a-f620-45bc-ba65-ca6f3c058fee",
   "metadata": {},
   "outputs": [],
   "source": [
    "fail_io = open(\"fails.txt\", \"w\")\n",
    "for (que, ner, rels...) in sols[fails]\n",
    "    println(fail_io, que, '\\t', ner)\n",
    "    println(fail_io, join(rels, '\\t'))\n",
    "    println(fail_io)\n",
    "end\n",
    "# println.(Ref(fail_io), join.(sols[fails], '\\t'))\n",
    "close(fail_io)"
   ]
  },
  {
   "cell_type": "code",
   "execution_count": 55,
   "id": "d70eff14-e71c-498b-b31d-985862e6221f",
   "metadata": {},
   "outputs": [
    {
     "name": "stdout",
     "output_type": "stream",
     "text": [
      "数据差异 153, TODAY 新解数 24\n"
     ]
    }
   ],
   "source": [
    "# 数据比对\n",
    "cmp = open(\"submit_test/compare_yes_tod.txt\", \"w\")\n",
    "i = j = 0\n",
    "name1, name2 = \"YESTODAY\", \"TODAY\"\n",
    "for (k, que, ner, res1, res2) in zip(1:1500, mt_valid_ques, valid_ners, yestoday, today)\n",
    "    res1 == res2 && continue\n",
    "    println(cmp, k, '\\t', que, '\\t', ner)\n",
    "    if res1 == noans\n",
    "        println(cmp, \"$name1\\nNONE\\n$name2\")\n",
    "        println.(Ref(cmp), triple_info.(partition(split(res2, '#'), 3)))\n",
    "        j += 1\n",
    "    elseif res2 == noans\n",
    "        println(cmp, \"$name1\")\n",
    "        println.(Ref(cmp), triple_info.(partition(split(res1, '#'), 3)))\n",
    "        println(cmp, \"$name2\\nNONE\")\n",
    "    else\n",
    "        println(cmp, \"$name1\")\n",
    "        println.(Ref(cmp), triple_info.(partition(split(res1, '#'), 3)))\n",
    "        println(cmp, \"$name2\")\n",
    "        println.(Ref(cmp), triple_info.(partition(split(res2, '#'), 3)))\n",
    "    end\n",
    "    println(cmp)\n",
    "    i += 1\n",
    "end\n",
    "close(cmp)\n",
    "println(\"数据差异 $i, $name2 新解数 $j\")"
   ]
  }
 ],
 "metadata": {
  "kernelspec": {
   "display_name": "Julia 1.7.2",
   "language": "julia",
   "name": "julia-1.7"
  },
  "language_info": {
   "file_extension": ".jl",
   "mimetype": "application/julia",
   "name": "julia",
   "version": "1.7.2"
  }
 },
 "nbformat": 4,
 "nbformat_minor": 5
}
