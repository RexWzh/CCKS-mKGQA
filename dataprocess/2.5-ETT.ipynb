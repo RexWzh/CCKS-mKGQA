{
 "cells": [
  {
   "cell_type": "markdown",
   "id": "a0156d58-b1bf-4948-a275-0aed8394d234",
   "metadata": {},
   "source": [
    "## 关系对齐"
   ]
  },
  {
   "cell_type": "code",
   "execution_count": 1,
   "id": "de4676f9-1a4e-484c-8b77-471be3c49da9",
   "metadata": {},
   "outputs": [
    {
     "data": {
      "text/plain": [
       "isfrench (generic function with 2 methods)"
      ]
     },
     "execution_count": 1,
     "metadata": {},
     "output_type": "execute_result"
    }
   ],
   "source": [
    "include(\"../src/xlsx.jl\")\n",
    "include(\"../src/extractdata.jl\")\n",
    "include(\"../src/translate.jl\")"
   ]
  },
  {
   "cell_type": "code",
   "execution_count": 40,
   "id": "5c08452c-3259-4b1d-a111-f6bd59b4a305",
   "metadata": {
    "tags": []
   },
   "outputs": [],
   "source": [
    "# write_xlsx(\"excel_data/ILLs.xlsx\", permutedims(hcat(collect.(ILLs)...)))"
   ]
  },
  {
   "cell_type": "code",
   "execution_count": 38,
   "id": "1ea4bf67-ee9c-4405-a87e-262d1b97dc3c",
   "metadata": {
    "collapsed": true,
    "jupyter": {
     "outputs_hidden": true
    },
    "tags": []
   },
   "outputs": [
    {
     "data": {
      "text/plain": [
       "8319-element Vector{Tuple{String, String}}:\n",
       " (\"guixers\", \"jixels\")\n",
       " (\"westvoorne\", \"westforne\")\n",
       " (\"ronjohnsonbaseball\", \"ronjohnsonbaseballplayer\")\n",
       " (\"maychan\", \"chenjiajia\")\n",
       " (\"catherineofnavarre\", \"katherinenavarra\")\n",
       " (\"pyinoolwindistrict\", \"pyinoolwincounty\")\n",
       " (\"cyranoagency\", \"bignoseloverloveoperationgroup\")\n",
       " (\"qianlongemperor\", \"emperorqianlong\")\n",
       " (\"princephilippedukeoforléans18691926\", \"philipdukeoforleans\")\n",
       " (\"thomasckinkaid\", \"thomaskinkade\")\n",
       " (\"197677europeancup\", \"197677europeanchampionscup\")\n",
       " (\"thegoodthebadandtheugly\", \"twilightthree\")\n",
       " (\"parkhillskentucky\", \"parkhillkentucky\")\n",
       " ⋮\n",
       " (\"ptolemyxalexanderi\", \"ptolemyx\")\n",
       " (\"28thhongkongfilmawards\", \"the28thhongkongfilmawards\")\n",
       " (\"khamtaisiphandon\", \"candysipanton\")\n",
       " (\"socialwelfareconstituency\", \"socialwelfarefunctionalconstituency\")\n",
       " (\"navoiy\", \"navoi\")\n",
       " (\"inbeepark\", \"parkinbee\")\n",
       " (\"listofpremiersofbermuda\", \"primeministerofbermuda\")\n",
       " (\"bìnhđịnhprovince\", \"binhdinhprovince\")\n",
       " (\"evacheng\", \"zhengruhua\")\n",
       " (\"stevenpoon\", \"panguolian\")\n",
       " (\"emperormingofnorthernzhou\", \"zhoumingdi\")\n",
       " (\"leonidbrezhnev\", \"leonidilyichbrezhnev\")"
      ]
     },
     "execution_count": 38,
     "metadata": {},
     "output_type": "execute_result"
    }
   ],
   "source": [
    "modify(txt) = lowercase(filter(i->isletter(i) || isdigit(i), txt))\n",
    "ILLs_MT = permutedims(read_xlsx(\"excel_data/ILLs_MT.xlsx\"))\n",
    "ILLs_MT = [(modify(a), modify(b)) for (a, b) in eachcol(ILLs_MT)]\n",
    "fails = filter(i->i[1]!=i[2], ILLs_MT)"
   ]
  },
  {
   "cell_type": "code",
   "execution_count": null,
   "id": "643b6736-421e-48f6-a395-4e0c5f1943f0",
   "metadata": {},
   "outputs": [],
   "source": []
  }
 ],
 "metadata": {
  "kernelspec": {
   "display_name": "Julia 1.7.2",
   "language": "julia",
   "name": "julia-1.7"
  },
  "language_info": {
   "file_extension": ".jl",
   "mimetype": "application/julia",
   "name": "julia",
   "version": "1.7.2"
  }
 },
 "nbformat": 4,
 "nbformat_minor": 5
}
