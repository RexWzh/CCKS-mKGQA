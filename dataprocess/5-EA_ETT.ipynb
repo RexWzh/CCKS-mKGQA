{
 "cells": [
  {
   "cell_type": "markdown",
   "id": "a0156d58-b1bf-4948-a275-0aed8394d234",
   "metadata": {},
   "source": [
    "## 关系对齐"
   ]
  },
  {
   "cell_type": "code",
   "execution_count": null,
   "id": "540ead06-c711-40d4-a164-8814c14d19ba",
   "metadata": {},
   "outputs": [],
   "source": [
    "using StringDistances\n",
    "using Distances"
   ]
  },
  {
   "cell_type": "code",
   "execution_count": null,
   "id": "de4676f9-1a4e-484c-8b77-471be3c49da9",
   "metadata": {
    "tags": []
   },
   "outputs": [],
   "source": [
    "using DataStructures\n",
    "include(\"../src/xlsx.jl\")\n",
    "include(\"../src/regexpr.jl\")\n",
    "include(\"../src/extractdata.jl\")\n",
    "include(\"../src/translatedata.jl\")\n",
    "mkpath(\"ILLs\")"
   ]
  },
  {
   "cell_type": "markdown",
   "id": "9e430fd8-ec15-4c90-94c9-a92876c85633",
   "metadata": {},
   "source": [
    "### 相关函数"
   ]
  },
  {
   "cell_type": "code",
   "execution_count": 2,
   "id": "a284e16e-c714-49c3-ab57-a37213bdea1f",
   "metadata": {},
   "outputs": [
    {
     "data": {
      "text/plain": [
       "count_list (generic function with 1 method)"
      ]
     },
     "execution_count": 2,
     "metadata": {},
     "output_type": "execute_result"
    }
   ],
   "source": [
    "function get_triple_sign(line)\n",
    "    triple = split(strip(line), ' ')\n",
    "    subsign, relsign, objsign = \"en\", \"en\", \"en\"\n",
    "    sub = get_txt(en_obj_reg, triple[1])\n",
    "    rel = get_txt(en_rel_reg, triple[2])\n",
    "    obj = get_txt(en_obj_reg, triple[3])\n",
    "    isempty(sub) && (sub = get_txt(zh_obj_reg, triple[1]);subsign = \"zh\")\n",
    "    isempty(rel) && (rel = get_txt(zh_rel_reg, triple[2]);relsign = \"zh\")\n",
    "    isempty(obj) && (obj = get_txt(zh_obj_reg, triple[3]);objsign = \"zh\")\n",
    "    [(sub, rel, obj), (subsign, relsign, objsign)]\n",
    "end\n",
    "function count_list(list)\n",
    "    c_list = counter(list)\n",
    "    sort(Dict(c_list), by=i->c_list[i], rev=true)\n",
    "end"
   ]
  },
  {
   "cell_type": "code",
   "execution_count": 4,
   "id": "65bcc193-8299-45be-ade3-5f69681d4a8a",
   "metadata": {},
   "outputs": [
    {
     "data": {
      "text/plain": [
       "14077"
      ]
     },
     "execution_count": 4,
     "metadata": {},
     "output_type": "execute_result"
    }
   ],
   "source": [
    "length(train_ques_ner)"
   ]
  },
  {
   "cell_type": "code",
   "execution_count": 11,
   "id": "a05bc20d-d611-47ca-8e42-b96c95360001",
   "metadata": {},
   "outputs": [
    {
     "data": {
      "text/plain": [
       "1.05"
      ]
     },
     "execution_count": 11,
     "metadata": {},
     "output_type": "execute_result"
    }
   ],
   "source": [
    "0.0007 * 1500 "
   ]
  },
  {
   "cell_type": "code",
   "execution_count": null,
   "id": "428d2563-ca27-4d13-9ce9-8dc80c9e06d9",
   "metadata": {
    "tags": []
   },
   "outputs": [],
   "source": [
    "c = count_list(first.(train_ques_ner))"
   ]
  },
  {
   "cell_type": "markdown",
   "id": "0d764447-3ffe-4279-92e5-a993a9439f6a",
   "metadata": {
    "tags": []
   },
   "source": [
    "### 测试"
   ]
  },
  {
   "cell_type": "code",
   "execution_count": 3,
   "id": "1b98c81d-06f6-4224-9897-bde52ef3c55a",
   "metadata": {},
   "outputs": [],
   "source": []
  },
  {
   "cell_type": "code",
   "execution_count": 26,
   "id": "09e25f34-bba0-4d8d-8814-2ceb57770858",
   "metadata": {},
   "outputs": [
    {
     "data": {
      "text/plain": [
       "false"
      ]
     },
     "execution_count": 26,
     "metadata": {},
     "output_type": "execute_result"
    }
   ],
   "source": [
    "que = \"who is the leader of the administrative region to which NER belongs?\"\n",
    "trained = unique(train_ques)\n",
    "que ∈ trained"
   ]
  },
  {
   "cell_type": "code",
   "execution_count": 30,
   "id": "f027a82c-0b70-479c-a15a-1de93f050f38",
   "metadata": {
    "collapsed": true,
    "jupyter": {
     "outputs_hidden": true
    },
    "tags": []
   },
   "outputs": [
    {
     "data": {
      "text/plain": [
       "9849-element Vector{SubString{String}}:\n",
       " \"what is the title of the administrative region to NER belongs?\"\n",
       " \"who makes the law of the administrative region to NER belongs?\"\n",
       " \"what titles does the administrative region to which NER belongs?\"\n",
       " \"what is the legislature of the administrative region to NER belongs?\"\n",
       " \"what is the seat title of the administrative region to NER belongs?\"\n",
       " \"which title does the administrative region to NER belong to?\"\n",
       " \"what is the legislature of the \" ⋯ 20 bytes ⋯ \"n for which NER is responsible?\"\n",
       " \"which event establishes the administrative region to NER belongs?\"\n",
       " \"what is the zip code of the district (division) to which NER belongs\"\n",
       " \"what is the division of the division (division) to which NER belongs\"\n",
       " \"what is the division of the adm\" ⋯ 21 bytes ⋯ \" the area to which NER belongs?\"\n",
       " \"who is the leader of the legislature where the NER is held?\"\n",
       " \"what is the east of the administrative area responsible for NER?\"\n",
       " ⋮\n",
       " \"do you know what is the organiz\" ⋯ 143 bytes ⋯ \"highland guatemala., bavarian?\"\n",
       " \"which language is commonly used\" ⋯ 139 bytes ⋯ \"rian civil war, is located in?\"\n",
       " \"what is the rank of the one tha\" ⋯ 144 bytes ⋯ \"ith secret counting technique?\"\n",
       " \"Second daughter of John the Bli\" ⋯ 148 bytes ⋯ \"at dynasty does she belong to?\"\n",
       " \"who is the predecessor of the p\" ⋯ 154 bytes ⋯ \"ournament season, takes place?\"\n",
       " \"A chemical analysis method in w\" ⋯ 151 bytes ⋯ \"ct the related products of NER\"\n",
       " \"which house does the successor \" ⋯ 165 bytes ⋯ \" john ii of france, belong to?\"\n",
       " \"which dynasty does the successo\" ⋯ 167 bytes ⋯ \" john ii of france, belong to?\"\n",
       " \"do you know what is the organiz\" ⋯ 165 bytes ⋯ \"ootball competition, Bavarian?\"\n",
       " \"do you know what is related to \" ⋯ 173 bytes ⋯ \"ected using mass spectrometry?\"\n",
       " \"who is the predecessor of the p\" ⋯ 196 bytes ⋯ \"y apple inc, released in 2013?\"\n",
       " \"who is the predecessor of the p\" ⋯ 221 bytes ⋯ \"keted by samsung electronics ?\""
      ]
     },
     "execution_count": 30,
     "metadata": {},
     "output_type": "execute_result"
    }
   ],
   "source": [
    "sort(trained, by=x->evaluate(Levenshtein(), que, x)) # 前四个首跳均为 body"
   ]
  },
  {
   "cell_type": "code",
   "execution_count": null,
   "id": "d8305e6f-99bf-4f6b-9781-a947cb0e72f9",
   "metadata": {},
   "outputs": [],
   "source": [
    "evaluate(Levenshtein(), x, y)"
   ]
  },
  {
   "cell_type": "markdown",
   "id": "1ac1d121-0e20-40b6-94b9-b7977718f243",
   "metadata": {
    "tags": []
   },
   "source": [
    "### 收纳"
   ]
  },
  {
   "cell_type": "code",
   "execution_count": 139,
   "id": "31f7f795-b51b-448a-8a3e-4bfe5235ec73",
   "metadata": {},
   "outputs": [],
   "source": [
    "# 读取数据\n",
    "merged_triples = NTuple{3, String}[]\n",
    "signs = NTuple{3, String}[]\n",
    "open(\"ILLs_fusion/merged_ILLs_KG_en_zh.txt\", \"r\") do io\n",
    "    while true\n",
    "        line = readline(io)\n",
    "        isempty(line) && break\n",
    "        triple, sign = get_triple_sign(line)\n",
    "        push!(merged_triples, triple)\n",
    "        push!(signs, sign)\n",
    "    end\n",
    "end\n",
    "zh_triples_ILLs = merged_triples[162545:end]\n",
    "zh_signs = signs[162545:end]\n",
    "\n",
    "# 写入数据\n",
    "# extract_io = open(\"extract/merged_en_zh_byILLs.txt\", \"w\")\n",
    "# open(\"ILLs_fusion/merged_ILLs_KG_en_zh.txt\", \"r\") do io\n",
    "#     while (line = readline(io)) != \"\"\n",
    "#         triple, sign = get_triple_sign(line)\n",
    "#         println(extract_io, join(triple, '\\t'))\n",
    "#     end\n",
    "# end"
   ]
  },
  {
   "cell_type": "code",
   "execution_count": 160,
   "id": "b6ced484-3118-4540-9a2c-520447abc47d",
   "metadata": {
    "collapsed": true,
    "jupyter": {
     "outputs_hidden": true
    },
    "tags": []
   },
   "outputs": [
    {
     "data": {
      "text/plain": [
       "54197-element Vector{Tuple{String, String}}:\n",
       " (\"Sichuan\", \"四川省\")\n",
       " (\"Chengdu\", \"成都市\")\n",
       " (\"Faye_Wong\", \"王菲\")\n",
       " (\"Yuan_Shikai\", \"袁世凯\")\n",
       " (\"Yikuang,_Prince_Qing\", \"奕劻\")\n",
       " (\"Lou_Tseng-Tsiang\", \"陸徵祥\")\n",
       " (\"Li_Yuanhong\", \"黎元洪\")\n",
       " (\"René_Descartes\", \"勒内·笛卡尔\")\n",
       " (\"French_people\", \"法兰西人\")\n",
       " (\"Plato\", \"柏拉图\")\n",
       " (\"Aristotle\", \"亚里士多德\")\n",
       " (\"Augustine_(disambiguation)\", \"奥古斯丁\")\n",
       " (\"Arnos\", \"阿尔诺\")\n",
       " ⋮\n",
       " (\"2004_UEFA_Intertoto_Cup\", \"2004年歐洲足協圖圖盃\")\n",
       " (\"Naypyidaw_Safari_Park\", \"内比都狩猎旅行公园\")\n",
       " (\"MacBook_(Retina)\", \"MacBook_(Retina显示屏)\")\n",
       " (\"Enoch_Derant_Lakoué\", \"埃諾克·德朗·拉庫埃\")\n",
       " (\"Qaraqosh_Protection_Committee\", \"克拉克斯保护委员会\")\n",
       " (\"2009_UEFA_European_Under-19_Championship\", \"2009年歐洲U-19足球錦標賽\")\n",
       " (\"Denmark_women's_national_handball_team\", \"丹麥國家女子手球隊\")\n",
       " (\"François_Bozizé\", \"弗朗索瓦·博齐泽\")\n",
       " (\"S.V._Zulte_Waregem\", \"聚尔特瓦勒海姆体育俱乐部\")\n",
       " (\"K.V._Kortrijk\", \"皇家哥積克足球會\")\n",
       " (\"Kenny_Smith\", \"肯尼·史密斯\")\n",
       " (\"Art_Gallery_of_Ontario\", \"安大略美术馆\")"
      ]
     },
     "execution_count": 160,
     "metadata": {},
     "output_type": "execute_result"
    }
   ],
   "source": [
    "# 中文存在一对多的情况\n",
    "downloadILLs = Tuple{String, String}[]\n",
    "for (raw, new, sign) in zip(zh_triples, zh_triples_ILLs, zh_signs)\n",
    "    new[1] == new[3] && continue\n",
    "    sign[1] == \"en\" && new[1] != raw[1] && push!(downloadILLs, (new[1], raw[1]))\n",
    "    sign[3] == \"en\" && new[3] != raw[3] && push!(downloadILLs, (new[3], raw[3]))\n",
    "end\n",
    "unique!(downloadILLs) # 58556"
   ]
  },
  {
   "cell_type": "code",
   "execution_count": 171,
   "id": "edd41593-3e21-453a-8a52-5268ca22a3b2",
   "metadata": {},
   "outputs": [],
   "source": [
    "# 合并后的实体对齐\n",
    "open(\"ILLs/combine_ills.txt\", \"w\") do io\n",
    "    for (en, zh) in sort(unique!(vcat(downloadILLs, ILLs)), by=last)\n",
    "        println(io, en, '\\t', zh)\n",
    "    end\n",
    "end"
   ]
  },
  {
   "cell_type": "code",
   "execution_count": 174,
   "id": "75024289-7046-497e-b112-7475612d5cef",
   "metadata": {},
   "outputs": [],
   "source": [
    "# 不在 ILLs 中的实体对齐\n",
    "open(\"ILLs/new_ills.txt\", \"w\") do io\n",
    "    for (en, zh) in sort(filter(∉(Set(ILLs)), downloadILLs), by=last)\n",
    "        println(io, en, '\\t', zh)\n",
    "    end\n",
    "end"
   ]
  },
  {
   "cell_type": "code",
   "execution_count": 35,
   "id": "7d3f350e-ceec-4d48-ad1f-38a5f8cd4e60",
   "metadata": {},
   "outputs": [],
   "source": [
    "dlILLs = Dict{String, String}()\n",
    "en_subs = Set(first.(en_triples))\n",
    "for ele in zip(zh_triples, zh_triples_ILLs, signs), (raw, new, sign) in zip(ele...)\n",
    "    sign == \"en\" && isascii(new) && (dlILLs[raw] = new)\n",
    "end"
   ]
  },
  {
   "cell_type": "code",
   "execution_count": 39,
   "id": "00696505-0c46-4fd1-956d-e0092b06c6a1",
   "metadata": {
    "tags": []
   },
   "outputs": [],
   "source": [
    "fails = Tuple{String, String}[]\n",
    "for (key, val) in ILLs_zh_en\n",
    "    (haskey(dlILLs, key) && dlILLs[key] == val) || push!(fails, (key, val))\n",
    "end"
   ]
  },
  {
   "cell_type": "code",
   "execution_count": 60,
   "id": "a8f51835-9a3d-448a-9126-9af7a35b586e",
   "metadata": {
    "collapsed": true,
    "jupyter": {
     "outputs_hidden": true
    },
    "tags": []
   },
   "outputs": [
    {
     "data": {
      "text/plain": [
       "Set{String} with 86608 elements:\n",
       "  \"1914–15_NHA_season\"\n",
       "  \"TOMfest\"\n",
       "  \"Xenophon_Overton_Pindall\"\n",
       "  \"Jingzhou\"\n",
       "  \"Vyškov_District\"\n",
       "  \"Bajmok\"\n",
       "  \"Peter_Brown_(rugby_league)\"\n",
       "  \"Tiszabercel\"\n",
       "  \"Catherine_Ardagh\"\n",
       "  \"La_Bazoque,_Calvados\"\n",
       "  \"Glades_County,_Florida\"\n",
       "  \"Bihor_County\"\n",
       "  \"Araksavan\"\n",
       "  \"Ruth_Worsley\"\n",
       "  \"Le_Mans\"\n",
       "  \"Luxembourg_Stock_Exchange\"\n",
       "  \"Beatriz_Corredor\"\n",
       "  \"Montgomery,_Alabama\"\n",
       "  \"Witowy_Most\"\n",
       "  \"Győrzámoly\"\n",
       "  \"Game_6_of_the_1998_NBA_Finals\"\n",
       "  \"Piątkowa,_Lesser_Poland_Voivodeship\"\n",
       "  \"USNS_Mission_Capistrano_(T-AO-112)\"\n",
       "  \"Benedictine_University\"\n",
       "  \"Halifax,_Nova_Scotia\"\n",
       "  ⋮ "
      ]
     },
     "execution_count": 60,
     "metadata": {},
     "output_type": "execute_result"
    }
   ],
   "source": [
    "en_objs = Set(last.(en_triples))\n",
    "en_subs = Set(first.(en_triples))"
   ]
  },
  {
   "cell_type": "code",
   "execution_count": 67,
   "id": "de333ff6-d59c-456d-bb4a-7bc09a3db46d",
   "metadata": {},
   "outputs": [],
   "source": [
    "necc_ILLs, necc_triples = Set{Tuple{String, String}}(), NTuple{3, String}[]\n",
    "for (raw, new, sign) in zip(zh_triples, zh_triples_ILLs, signs)\n",
    "    # 英文实体，头接尾，尾接头\n",
    "    flag = false\n",
    "    if sign[1] == \"en\" && !isascii(raw[1]) && new[1] ∈ en_objs\n",
    "        tmp = (raw[1], new[1])\n",
    "        tmp ∈ necc_ILLs || (push!(necc_ILLs, tmp); flag=true)\n",
    "    end\n",
    "    if sign[3] == \"en\" && !isascii(raw[3]) && new[3] ∈ en_subs\n",
    "        tmp = (raw[3], new[3])\n",
    "        tmp ∈ necc_ILLs || (push!(necc_ILLs, tmp); flag=true)\n",
    "    end\n",
    "    flag && push!(necc_triples, raw)\n",
    "end"
   ]
  },
  {
   "cell_type": "code",
   "execution_count": 74,
   "id": "fbf2dae6-7bfe-46ef-8add-bae2547f2f33",
   "metadata": {},
   "outputs": [
    {
     "name": "stdout",
     "output_type": "stream",
     "text": [
      "中文实体总数:\t87031\n",
      "非 ILLs 对齐实体数目:\t75790\n"
     ]
    }
   ],
   "source": [
    "words = unique!(vcat(first.(zh_triples), last.(zh_triples_ILLs)))\n",
    "println(\"中文实体总数:\\t\", length(words))\n",
    "non_ILLs = filter(∉(keys(ILLs_zh_en)), words)\n",
    "println(\"非 ILLs 对齐实体数目:\\t\", length(non_ILLs))\n"
   ]
  },
  {
   "cell_type": "code",
   "execution_count": 68,
   "id": "8ec6a2ec-6a35-46e3-b6cb-dc130dd4dd87",
   "metadata": {
    "collapsed": true,
    "jupyter": {
     "outputs_hidden": true
    },
    "tags": []
   },
   "outputs": [
    {
     "data": {
      "text/plain": [
       "Set{Tuple{String, String}} with 20940 elements:\n",
       "  (\"戴立克的進化\", \"Evolution_of_the_Daleks\")\n",
       "  (\"2014年南美自由盃\", \"Estadio_Defensores_del_Chaco\")\n",
       "  (\"紹斯波特\", \"Southport\")\n",
       "  (\"阿尔塔薛西斯二世\", \"Artaxerxes_II_of_Persia\")\n",
       "  (\"宋嘉澍\", \"Charlie_Soong\")\n",
       "  (\"恩納省\", \"Enna\")\n",
       "  (\"玛丽亚·费奥多罗芙娜皇后_(保罗一世)\", \"Maria_Feodorovna_(Sophie_Dorothea_of_…\n",
       "  (\"尼古拉斯_(希腊王子)\", \"Prince_Nikolaos_of_Greece_and_Denmark\")\n",
       "  (\"约翰内斯堡大学\", \"University_of_Johannesburg\")\n",
       "  (\"華特迪士尼工作室電影\", \"Walt_Disney_Studios_Motion_Pictures\")\n",
       "  (\"禤智輝\", \"Geoff_Hoon\")\n",
       "  (\"師利·奧羅賓多\", \"Sri_Aurobindo\")\n",
       "  (\"南美洲足球協會\", \"CONMEBOL\")\n",
       "  (\"里克·斯科特\", \"Charlie_Crist\")\n",
       "  (\"奥洛特\", \"西班牙行政区划\")\n",
       "  (\"八打雁省\", \"Batangas\")\n",
       "  (\"奥克兰_(加利福尼亚州)\", \"Oakland,_California\")\n",
       "  (\"佛罗里达州\", \"Florida\")\n",
       "  (\"西烏克蘭人民共和國\", \"Ukraine\")\n",
       "  (\"格拉涅纳德莱斯加里格斯\", \"Granyena_de_les_Garrigues\")\n",
       "  (\"路易斯·博塔\", \"Pretoria\")\n",
       "  (\"苏尔坦·本·阿卜杜勒-阿齐兹·阿勒沙特\", \"Sultan_bin_Abdulaziz\")\n",
       "  (\"皮乌拉\", \"Piura\")\n",
       "  (\"小野寺五典\", \"Itsunori_Onodera\")\n",
       "  (\"金永南\", \"Kim_Yong-nam\")\n",
       "  ⋮ "
      ]
     },
     "execution_count": 68,
     "metadata": {},
     "output_type": "execute_result"
    }
   ],
   "source": [
    "necc_ILLs\n",
    "\"约翰内斯堡大学\" => \"University of Johannesburg\"\n",
    "\"華特迪士尼工作室電影\" => \"Walt Disney Studios Electric\""
   ]
  },
  {
   "cell_type": "code",
   "execution_count": 42,
   "id": "c6640dfb-6dc6-4d48-8af1-f528e02c98ff",
   "metadata": {
    "collapsed": true,
    "jupyter": {
     "outputs_hidden": true
    },
    "tags": []
   },
   "outputs": [
    {
     "name": "stdout",
     "output_type": "stream",
     "text": [
      "Deçan\tDistricts_of_Kosovo\n",
      "Farsta_(borough)\tPostal_codes_in_Sweden\n",
      "Ciechanowiec\tGmina\n",
      "Wejherowo\tPowiat\n",
      "Hill_County,_Montana\tHavre,_Montana\n",
      "Ken's_Bar_II\tJazz\n",
      "Thomas_Gold\tIthaca,_New_York\n",
      "FK_Voždovac\tBelgrade\n",
      "Apies_River\tSouth_Africa\n",
      "Scott_Moir\tLondon,_Ontario\n",
      "Mahamat_Kamoun\tCentral_African_Republic\n",
      "Albert_Lutuli\tAfrican_National_Congress\n",
      "Kep_Province\tDistricts_of_Cambodia\n",
      "Éamon_de_Valera\tCathal_Brugha\n",
      "Flag_of_Lancashire\tFriends_of_Real_Lancashire\n",
      "Adult_Swim\tCartoon_Network\n",
      "Peugeot_208\tVolkswagen_Polo_R_WRC\n",
      "Sheridan_County,_North_Dakota\tMcClusky,_North_Dakota\n",
      "El_Escorial\tJuan_Bautista_de_Toledo\n",
      "2014_FIFA_World_Cup_qualification_–_CONCACAF_Second_Round\tGuatemala_City\n",
      "2011_Rugby_World_Cup\tWestpac_Stadium\n",
      "Fayette_County,_Georgia\tFayetteville,_Georgia\n",
      "Young_Money_Entertainment\tMack_Maine\n",
      "Atlantic_Star\tArctic_Star\n",
      "E=MC²_(Mariah_Carey_album)\tTaiwan\n",
      "Kurenai_(song)\tMarc_Bolan\n",
      "Rise_of_the_Guardians\tAlec_Baldwin\n",
      "Illumos\tUnix\n",
      "Leduc,_Alberta\tEnvironment_Canada\n",
      "Villeneuve-sur-Lot\tAquitaine\n",
      "Hrant_Bagratyan\tArmenia\n",
      "Antártica_Chilena_Province\tGovernor\n",
      "Cemal_Gürsel\tAnkara\n",
      "Obzor\tBurgas_Province\n",
      "Henrietta_Swan_Leavitt\tCambridge,_Massachusetts\n",
      "Abdul_Qadir_(Afghan_communist)\tSunni_Islam\n",
      "Microsoft_Visual_Studio_Express\tMicrosoft\n",
      "Province_of_Oristano\tSardinia\n",
      "Victor_Ambartsumian\tArmenia\n",
      "Tieton,_Washington\tFederal_Information_Processing_Standard\n",
      "Minoru_Yamasaki\tUnited_States\n",
      "DodgeBall:_A_True_Underdog_Story\tBen_Stiller\n",
      "Naypyidaw\tBBC\n",
      "Union_County,_New_Mexico\tClayton,_New_Mexico\n",
      "Eidos_Interactive\tSquare_Enix\n",
      "Gloria_Grahame\tCalifornia\n",
      "Sony_Xperia_tipo\tSony_Xperia_E\n",
      "Northfield,_Minnesota\tZIP_code\n",
      "Tombstone,_Arizona\tZIP_code\n",
      "Canton,_South_Dakota\tLincoln_County,_South_Dakota\n",
      "In_the_Night_Garden...\tBBC\n",
      "2015–16_Leicester_City_F.C._season\tLiverpool\n",
      "La_Verne,_California\tZIP_code\n",
      "Nokia_Lumia_610\tNokia\n",
      "Sioux_County,_North_Dakota\tFort_Yates,_North_Dakota\n",
      "Baia_de_Arieș\tSubdivisions_of_Romania\n",
      "Sejny\tVoivodeships_of_Poland\n",
      "2010_AFC_Futsal_Championship\tTashkent\n",
      "Podkowa_Leśna\tMasovian_Voivodeship\n",
      "Curtis_Institute_of_Music\tUnited_States\n",
      "Brigham_Young_University–Idaho\tRexburg,_Idaho\n",
      "Nova_Kakhovka\tMayor\n",
      "Leszek_Miller\tPeople's_Republic_of_Poland\n",
      "Thomas_Young_(scientist)\tQuaker\n",
      "Włodawa\tPowiat\n",
      "Wright_Solar\tGo_North_East\n",
      "Martinsburg,_Missouri\tCity\n",
      "Dmitri_Mendeleev\tRussian_Empire\n",
      "Palestine,_Texas\tCity\n",
      "Veternik\tCountries_of_the_world\n",
      "Albert_Kerscher\tGermany\n",
      "Beach_kabaddi_at_the_2010_Asian_Beach_Games\tMuscat,_Oman\n",
      "Abadeh\tCounty\n",
      "Fridtjof_Nansen\tJohannes_Irgens\n",
      "Modern_Jazz_Quartet\tJazz\n",
      "Augmented_Satellite_Launch_Vehicle\tSatellite_Launch_Vehicle\n",
      "Dig_Your_Own_Hole\tElectronica\n",
      "Antonio_José_Cavanilles\tMadrid\n",
      "Čakovec\tCounties_of_Croatia\n",
      "Batman:_The_Brave_and_the_Bold\tCartoon_Network\n",
      "Werner_Mölders\tRoman_Catholic_Church\n",
      "Haji_Mohammad_Chamkani\tSunni_Islam\n",
      "San_Mateo,_California\tList_of_sovereign_states\n",
      "Cartaxo\tMayor\n",
      "Ismaïl_Omar_Guelleh\tAbdoulkader_Kamil_Mohamed\n",
      "Linda_McMahon\tGreenwich,_Connecticut\n",
      "Thorvald_Stauning\tCopenhagen\n",
      "Helen_Gahagan_Douglas\tBarnard_College\n",
      "Titian\tItaly\n",
      "Lidköping\tCountry\n",
      "Routledge\tLondon\n",
      "The_King_of_Fighters\tSNK_Playmore\n",
      "Thuận_An\tCountries_of_the_world\n",
      "Province_of_Enna\tEnna\n",
      "Macon_County,_Tennessee\tLafayette,_Tennessee\n",
      "Pierce_County,_North_Dakota\tRugby,_North_Dakota\n",
      "Syed_Nazrul_Islam\tIslam\n",
      "Hot_Spring_County,_Arkansas\tMalvern,_Arkansas\n",
      "Faisalabad\tDistricts_of_Pakistan\n",
      "Tabaré_Vázquez\tUruguay\n",
      "Camille_Chautemps\tWashington,_D.C.\n",
      "Royal_Dutch_Football_Association\tMichael_van_Praag\n",
      "Saint-Claude,_Jura\tCanton_of_Saint-Claude,_Jura\n",
      "Battle_of_Chacabuco\tBernardo_O'Higgins\n",
      "Alright,_Still\tLily_Allen\n",
      "Club_Bolívar\tBolivia\n",
      "Jermaine_Dupri\tUnited_States\n",
      "Montserrat\tBritish_Overseas_Territories\n",
      "Åmål\tCountry\n",
      "Worth_County,_Missouri\tGrant_City,_Missouri\n",
      "Carter_County,_Montana\tEkalaka,_Montana\n",
      "Suffolk,_Virginia\tCountries_of_the_world\n",
      "Czech_Republic_national_football_team\tEden_Arena\n",
      "2013_Philippine_Peace_Cup\tBacolod\n",
      "Vito_Volterra\tRome\n",
      "Richard_Christopher_Carrington\tEngland\n",
      "William_Edward_Story\tWorcester,_Massachusetts\n",
      "Aviva_Stadium\tPopulous_(company)\n",
      "Jack-Jack_Attack\tBrad_Bird\n",
      "Del_Norte_County,_California\tCrescent_City,_California\n",
      "Vazgen_Manukyan\tArmenia\n",
      "Marie_of_Romania\tGrand_Duchess_Maria_Alexandrovna_of_Russia\n",
      "La_Verkin,_Utah\tFederal_Information_Processing_Standard\n",
      "Quantico,_Virginia\tFederal_Information_Processing_Standard\n",
      "Tomb_Raider\tEidos_Interactive\n",
      "Metropolitan_City_of_Messina\tSicily\n",
      "Glen_Ellyn,_Illinois\tCivil_township\n",
      "Wanstead\tLeyton_and_Wanstead_(UK_Parliament_constituency)\n",
      "Never_Gone\tMax_Martin\n",
      "Hale_County,_Texas\tPlainview,_Texas\n",
      "Jiangxin_Island\tPostal_code_of_China\n",
      "Tiberios_III\tConstantinople\n",
      "Williamsport,_Pennsylvania\tCity\n",
      "Jamil_al-Midfai\tIraq\n",
      "Troyan\tList_of_postal_codes_in_Bulgaria\n",
      "Captain_Marvel_(Marvel_Comics)\tOngoing_series\n",
      "Scarba\tScotland\n",
      "Slippery_When_Wet\tRichie_Sambora\n",
      "Diamond_Bar,_California\tZIP_code\n",
      "North_Harbour_Stadium\tAuckland_Council\n",
      "Stepney\tBethnal_Green_and_Bow_(UK_Parliament_constituency)\n",
      "Johannes_Franz_Hartmann\tSaxony\n",
      "Dauphin_County,_Pennsylvania\tHarrisburg,_Pennsylvania\n",
      "Frank_Murkowski\tSeattle,_Washington\n",
      "Port_Jefferson,_New_York\tUnited_States\n",
      "AbeBooks\tAmazon.com\n",
      "Pratt_&_Whitney_F135\tPratt_&_Whitney\n",
      "Keri_Hilson\tKanye_West\n",
      "Chih-I_Tsao\tTaiwan\n",
      "Martin_Ziguélé\tAbel_Goumba\n",
      "Herentals\tArrondissement_of_Turnhout\n",
      "Ma'loula\tNahiyah\n",
      "George_Lawrence_Price\tBelgium\n",
      "Carlyle_Smith_Beals\tOntario\n",
      "Klaus_Tschütscher\tAdrian_Hasler\n",
      "Yuri_Kondratyuk\tRussian_Empire\n",
      "Safari_(web_browser)\tApple_Inc.\n",
      "York_County,_Nebraska\tYork,_Nebraska\n",
      "Dhanbad\tEnglish\n",
      "Beemster\tChristian_Democratic_Appeal\n",
      "Sarah_Vaughan\tPiano\n",
      "Saint-Avold\tRadical_Party_(France)\n",
      "Ségolène_Royal\tMichel_Barnier\n",
      "Ilocos_Sur\tList_of_ZIP_codes_in_the_Philippines\n",
      "Hippocrates\tBoston\n",
      "Nova_Pazova\tDistricts_of_Serbia\n",
      "Lajos_Batthyány\tHungary\n",
      "Iolu_Abil\tEdward_Natapei\n",
      "GHV2\tErotica_(song)\n",
      "Howard_Dean\tNew_York\n",
      "Peterborough,_New_Hampshire\tZIP_code\n",
      "Ventspils\tPostal_code\n",
      "2012_AFC_U-19_Championship_qualification\tBangkok\n",
      "Mato_Grosso_do_Sul\tCampo_Grande\n",
      "Mitchell,_South_Dakota\tDavison_County,_South_Dakota\n",
      "Nokia_N77\tNokia\n",
      "Better_Portable_Graphics\tLossy_data_compression\n",
      "Netherlands_men's_national_field_hockey_team\tMaximiliano_Caldas\n",
      "Hillsborough_County,_Florida\tTampa,_Florida\n",
      "Khakassia\tSupreme_Council_of_the_Republic_of_Khakassia\n",
      "Íþróttabandalag_Akraness\tAkranes\n",
      "Dane_Cook\tStand-up_comedy\n",
      "Kołobrzeg\tGmina\n",
      "2016–17_Leicester_City_F.C._season\tSunderland_A.F.C.\n",
      "HTML\tWHATWG\n",
      "Chick_Corea\tWarner_Bros._Records\n",
      "Drôme\tDidier_Guillaume\n",
      "Ulrich_Salchow\tDenmark\n",
      "That's_My_Boy_(2012_film)\tAdam_Sandler\n",
      "Hermann_Carl_Vogel\tGerman_Empire\n",
      "Warhammer_Online:_Age_of_Reckoning\tMMORPG\n",
      "Taungoo\tChristianity\n",
      "Falkenbergs_FF\tFalkenberg\n",
      "Bolesław_Bierut\tMoscow\n",
      "Armen_Darbinyan\tArmenia\n",
      "Wilfried_Martens\tFrance\n",
      "Dangerous_(Michael_Jackson_album)\tMichael_Jackson\n",
      "Winnetka,_Illinois\tZIP_code\n",
      "Ramiro_I_of_Asturias\tOviedo\n",
      "Marstrand\tMunicipalities_of_Sweden\n",
      "Philip_Dimitrov\tBulgaria\n",
      "Walk_of_My_Life\tJ-Pop\n",
      "İzmit\tCountries_of_the_world\n",
      "Okaloosa_County,_Florida\tCrestview,_Florida\n",
      "Samsung_Galaxy_S_Advance\tSamsung_Galaxy\n",
      "Off_the_Wall\tPaul_McCartney\n",
      "Theatre_Royal,_Bath\tGeorge_Dance_the_Younger\n",
      "Manatee_County,_Florida\tBradenton,_Florida\n",
      "Frostburg,_Maryland\tFederal_Information_Processing_Standard\n",
      "Hradec_Králové_Region\tCzech_Republic\n",
      "Charan_Singh\tMorarji_Desai\n",
      "Divide_County,_North_Dakota\tCrosby,_North_Dakota\n",
      "Arthur_Auwers\tBerlin\n",
      "Xavier_Bettel\tLuxembourg\n",
      "Germany_national_under-21_football_team\tEden_Arena\n",
      "Fernand_Bouisson\tAntibes\n",
      "Roy_Campbell_Jr.\tUnited_States\n",
      "Joan_Laporta\tEnric_Reyna\n",
      "Comedy_Central\tNew_York_City\n",
      "Mart_Laar\tEstonia\n",
      "Intercontinental_Cup_(football)\tUEFA\n",
      "Weber_State_University\tUnited_States\n",
      "EuroBasket_2015\tLille\n",
      "Linn_County,_Iowa\tCedar_Rapids,_Iowa\n",
      "Eadwig\tGloucester\n",
      "Beat_It\tMichael_Jackson\n",
      "Vanderhoof,_British_Columbia\tEnvironment_Canada\n",
      "Florian_Cajori\tCalifornia\n",
      "John_Boozman\tFort_Smith,_Arkansas\n",
      "CD_Leganés\tEstadio_Municipal_de_Butarque\n",
      "Robert_Adam\tScotland\n",
      "John_VI_Kantakouzenos\tGreece\n",
      "Ray_Romano\tStand-up_comedy\n",
      "Anton_Ewald\tSweden\n",
      "Indian_Wells,_California\tZIP_code\n",
      "Friend_Richardson\tCalifornia\n",
      "Lars_Kolind\tCand.scient.\n",
      "Olly_Murs\tMichael_Jackson\n",
      "Heinrich_Schwabe\tDessau\n",
      "Nokia_Lumia_925\tNokia\n",
      "Poplar,_London\tPoplar_and_Limehouse_(UK_Parliament_constituency)\n",
      "Giles_County,_Virginia\tPearisburg,_Virginia\n",
      "Tony_Fernandes\tMalaysia\n",
      "101955_Bennu\tBennu\n",
      "Antonio_Cánovas_del_Castillo\tGipuzkoa\n",
      "Golmud\tPostal_code_of_China\n",
      "BBC_Sport\tBBC\n",
      "Apayao\tTagalog_language\n",
      "Jozef_Tiso\tCzechoslovakia\n",
      "Andy_Richter\tUnited_States\n",
      "Prince_Fushimi_Hiroyoshi\tJapan\n",
      "Béchar\tList_of_postal_codes_in_Algeria\n",
      "2010_Copa_Libertadores\tEstadio_Omnilife\n",
      "Gee_(EP)\tDance-pop\n",
      "Alice_in_Chains\tColumbia_Records\n",
      "HTC_Wildfire_S\tHTC\n",
      "Charlotte's_Web_(2006_film)\tDanny_Elfman\n",
      "Georgia_Moffett\tUnited_Kingdom\n"
     ]
    }
   ],
   "source": [
    "for (key, val) in fails\n",
    "    haskey(dlILLs, key) && println(val, '\\t', dlILLs[key])\n",
    "end"
   ]
  },
  {
   "cell_type": "code",
   "execution_count": 48,
   "id": "0e5ca74e-00b3-4a47-9f8d-bdfde8c4f1cd",
   "metadata": {
    "collapsed": true,
    "jupyter": {
     "outputs_hidden": true
    },
    "tags": []
   },
   "outputs": [
    {
     "data": {
      "text/plain": [
       "Dict{String, String} with 42868 entries:\n",
       "  \"美格福斯\"          => \"Magnavox\"\n",
       "  \"德索托縣_(佛羅里達… => \"DeSoto_County,_Florida\"\n",
       "  \"1934年世界盃外圍賽… => \"1934_FIFA_World_Cup_qualification\"\n",
       "  \"教宗斯德望一世\"    => \"Pope_Stephen_I\"\n",
       "  \"阿尔比区\"          => \"Arrondissement_of_Albi\"\n",
       "  \"弗萊明_(紐約州)\"   => \"Fleming,_New_York\"\n",
       "  \"巴利语\"            => \"Pali\"\n",
       "  \"戴夫·格鲁辛\"       => \"Dave_Grusin\"\n",
       "  \"康斯坦丁诺斯·德米… => \"Konstantinos_Demertzis\"\n",
       "  \"利根川\"            => \"Tone_River\"\n",
       "  \"蒙克斯科纳_(南卡罗… => \"Moncks_Corner,_South_Carolina\"\n",
       "  \"泰赖什凯\"          => \"Tereske\"\n",
       "  \"狐狸與獵狗2\"       => \"The_Fox_and_the_Hound_2\"\n",
       "  \"Bernie_Brillstein\" => \"Bernie_Brillstein\"\n",
       "  \"普勒斯顿_(肯塔基州… => \"Prestonsburg,_Kentucky\"\n",
       "  \"塔斯馬尼亞大學\"    => \"University_of_Tasmania\"\n",
       "  \"绍塞迪利亚\"        => \"Saucedilla\"\n",
       "  \"确认死亡\"          => \"Confirmed_Dead\"\n",
       "  \"馬鞍山_(香港市鎮)\" => \"Ma_On_Shan_(town)\"\n",
       "  \"萨克森王国\"        => \"Kingdom_of_Saxony\"\n",
       "  \"贝尔纳多特王朝\"    => \"House_of_Bernadotte\"\n",
       "  \"天主教奥三棉示总教… => \"Roman_Catholic_Archdiocese_of_Ozamiz\"\n",
       "  \"菲鷹航空541號班機… => \"Air_Philippines_Flight_541\"\n",
       "  \"易卜拉欣·纳西尔\"   => \"Ibrahim_Nasir\"\n",
       "  \"甘科諾拉火山\"      => \"Mount_Gamkonora\"\n",
       "  ⋮                   => ⋮"
      ]
     },
     "execution_count": 48,
     "metadata": {},
     "output_type": "execute_result"
    }
   ],
   "source": [
    "filter(i->!haskey(ILLs_zh_en, i[1]), dlILLs)"
   ]
  },
  {
   "cell_type": "code",
   "execution_count": 40,
   "id": "5c08452c-3259-4b1d-a111-f6bd59b4a305",
   "metadata": {
    "tags": []
   },
   "outputs": [],
   "source": [
    "# write_xlsx(\"excel_data/ILLs.xlsx\", permutedims(hcat(collect.(ILLs)...)))"
   ]
  },
  {
   "cell_type": "code",
   "execution_count": 38,
   "id": "1ea4bf67-ee9c-4405-a87e-262d1b97dc3c",
   "metadata": {
    "collapsed": true,
    "jupyter": {
     "outputs_hidden": true
    },
    "tags": []
   },
   "outputs": [
    {
     "data": {
      "text/plain": [
       "8319-element Vector{Tuple{String, String}}:\n",
       " (\"guixers\", \"jixels\")\n",
       " (\"westvoorne\", \"westforne\")\n",
       " (\"ronjohnsonbaseball\", \"ronjohnsonbaseballplayer\")\n",
       " (\"maychan\", \"chenjiajia\")\n",
       " (\"catherineofnavarre\", \"katherinenavarra\")\n",
       " (\"pyinoolwindistrict\", \"pyinoolwincounty\")\n",
       " (\"cyranoagency\", \"bignoseloverloveoperationgroup\")\n",
       " (\"qianlongemperor\", \"emperorqianlong\")\n",
       " (\"princephilippedukeoforléans18691926\", \"philipdukeoforleans\")\n",
       " (\"thomasckinkaid\", \"thomaskinkade\")\n",
       " (\"197677europeancup\", \"197677europeanchampionscup\")\n",
       " (\"thegoodthebadandtheugly\", \"twilightthree\")\n",
       " (\"parkhillskentucky\", \"parkhillkentucky\")\n",
       " ⋮\n",
       " (\"ptolemyxalexanderi\", \"ptolemyx\")\n",
       " (\"28thhongkongfilmawards\", \"the28thhongkongfilmawards\")\n",
       " (\"khamtaisiphandon\", \"candysipanton\")\n",
       " (\"socialwelfareconstituency\", \"socialwelfarefunctionalconstituency\")\n",
       " (\"navoiy\", \"navoi\")\n",
       " (\"inbeepark\", \"parkinbee\")\n",
       " (\"listofpremiersofbermuda\", \"primeministerofbermuda\")\n",
       " (\"bìnhđịnhprovince\", \"binhdinhprovince\")\n",
       " (\"evacheng\", \"zhengruhua\")\n",
       " (\"stevenpoon\", \"panguolian\")\n",
       " (\"emperormingofnorthernzhou\", \"zhoumingdi\")\n",
       " (\"leonidbrezhnev\", \"leonidilyichbrezhnev\")"
      ]
     },
     "execution_count": 38,
     "metadata": {},
     "output_type": "execute_result"
    }
   ],
   "source": [
    "modify(txt) = lowercase(filter(i->isletter(i) || isdigit(i), txt))\n",
    "ILLs_MT = permutedims(read_xlsx(\"excel_data/ILLs_MT.xlsx\"))\n",
    "ILLs_MT = [(modify(a), modify(b)) for (a, b) in eachcol(ILLs_MT)]\n",
    "fails = filter(i->i[1]!=i[2], ILLs_MT)"
   ]
  }
 ],
 "metadata": {
  "kernelspec": {
   "display_name": "Julia 1.7.2",
   "language": "julia",
   "name": "julia-1.7"
  },
  "language_info": {
   "file_extension": ".jl",
   "mimetype": "application/julia",
   "name": "julia",
   "version": "1.7.2"
  }
 },
 "nbformat": 4,
 "nbformat_minor": 5
}
