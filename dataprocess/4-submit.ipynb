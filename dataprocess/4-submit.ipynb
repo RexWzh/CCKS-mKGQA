{
 "cells": [
  {
   "cell_type": "markdown",
   "id": "f45af22f-ebc4-4733-89e9-557d64260d1f",
   "metadata": {},
   "source": [
    "# 路径还原与问题提交\n",
    "\n",
    "代码参见 `../src/submit.jl`，调用 `submit(predict)` 将预测数据转化为提交格式\n",
    "\n",
    "函数说明：\n",
    "- `standard_triple(triple, lang)` 还原单个带链接的三元组\n",
    "- `submit_format(triples, langs)` 将多个三元组转化为标准格式\n",
    "- `standard_path(path)` 将路径中的三元组转化为翻译前的三元组，同时返回语言信息\n",
    "- `find_paths(ner, rels)` 寻找以 `ner` 为起点，`rels` 为路径的子图\n",
    "- `submit(sol; check = false)` 根据预测数据检索路径，`check` 指定是否根据跳数及跨语言进行筛选\n",
    "\n",
    "补充说明：\n",
    "- `find_paths, submit` 依赖变量 `edges`\n",
    "- `recover_paths` 依赖变量 `MT_zh_new2raw, MT_en_new2raw`\n",
    "- 这三个函数与翻译相关"
   ]
  },
  {
   "cell_type": "code",
   "execution_count": 1,
   "id": "68dc088e-7472-4dad-a09d-daf731f10930",
   "metadata": {
    "tags": []
   },
   "outputs": [
    {
     "data": {
      "text/plain": [
       "\"submit\""
      ]
     },
     "execution_count": 1,
     "metadata": {},
     "output_type": "execute_result"
    }
   ],
   "source": [
    "include(\"../src/translatedata.jl\")\n",
    "include(\"../src/deduction.jl\")\n",
    "include(\"../src/submit.jl\")\n",
    "mkpath(\"submit\")"
   ]
  },
  {
   "cell_type": "markdown",
   "id": "09d5dfe9-5739-4db0-a199-ed7a5607800c",
   "metadata": {},
   "source": [
    "### 问题提交"
   ]
  },
  {
   "cell_type": "code",
   "execution_count": null,
   "id": "ee028d63-9dba-4ba2-9638-0e6c4266d983",
   "metadata": {
    "tags": []
   },
   "outputs": [],
   "source": [
    "# 读取预测结果\n",
    "submit_id = 13\n",
    "sols = split(strip(read(open(\"predict_data.txt\", \"r\"), String)), '\\n')\n",
    "temp = submit(sols[1])\n",
    "fails = String[]\n",
    "open(\"submit/submit_$(submit_id).txt\", \"w\") do io\n",
    "    println(io, \"id\\tans_path\")\n",
    "    for (i, predict) in enumerate(sols)\n",
    "        line = temp\n",
    "        try\n",
    "            line = submit(predict)\n",
    "        catch\n",
    "            # 没有合适解的情况\n",
    "            push!(fails, predict)\n",
    "        end\n",
    "        println(io, i-1, '\\t', line)\n",
    "    end\n",
    "end"
   ]
  }
 ],
 "metadata": {
  "kernelspec": {
   "display_name": "Julia 1.7.2",
   "language": "julia",
   "name": "julia-1.7"
  },
  "language_info": {
   "file_extension": ".jl",
   "mimetype": "application/julia",
   "name": "julia",
   "version": "1.7.2"
  }
 },
 "nbformat": 4,
 "nbformat_minor": 5
}
