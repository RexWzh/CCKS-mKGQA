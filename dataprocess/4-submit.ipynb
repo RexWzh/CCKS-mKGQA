{
 "cells": [
  {
   "cell_type": "markdown",
   "id": "f45af22f-ebc4-4733-89e9-557d64260d1f",
   "metadata": {},
   "source": [
    "# 路径还原与问题提交\n",
    "\n",
    "代码参见 `../src/submit.jl`，调用 `submit(predict)` 将预测数据转化为提交格式\n",
    "\n",
    "函数说明：\n",
    "- `standard_triple(triple, lang)` 还原单个带链接的三元组\n",
    "- `submit_format(triples, langs)` 将多个三元组转化为标准格式\n",
    "- `standard_path(path)` 将路径中的三元组转化为翻译前的三元组，同时返回语言信息\n",
    "- `find_paths(ner, rels)` 寻找以 `ner` 为起点，`rels` 为路径的子图\n",
    "- `submit(sol; check = false)` 根据预测数据检索路径，`check` 指定是否根据跳数及跨语言进行筛选\n",
    "\n",
    "补充说明：\n",
    "- `find_paths, submit` 依赖变量 `edges`\n",
    "- `recover_paths` 依赖变量 `MT_zh_new2raw, MT_en_new2raw`\n",
    "- 这三个函数与翻译相关"
   ]
  },
  {
   "cell_type": "code",
   "execution_count": 212,
   "id": "ae3b4385-e624-4255-9c3b-568ce7fd89cf",
   "metadata": {},
   "outputs": [
    {
     "data": {
      "text/plain": [
       "397.05"
      ]
     },
     "execution_count": 212,
     "metadata": {},
     "output_type": "execute_result"
    }
   ],
   "source": [
    "1500  * 0.2647"
   ]
  },
  {
   "cell_type": "code",
   "execution_count": 131,
   "id": "68dc088e-7472-4dad-a09d-daf731f10930",
   "metadata": {
    "tags": []
   },
   "outputs": [
    {
     "data": {
      "text/plain": [
       "\"submit\""
      ]
     },
     "execution_count": 131,
     "metadata": {},
     "output_type": "execute_result"
    }
   ],
   "source": [
    "include(\"../src/translatedata.jl\")\n",
    "include(\"../src/submit.jl\")\n",
    "include(\"../src/deduction.jl\")\n",
    "mkpath(\"submit\")"
   ]
  },
  {
   "cell_type": "code",
   "execution_count": 137,
   "id": "1fbcbcd5-2cce-43cc-b2f0-2b1caae716d5",
   "metadata": {},
   "outputs": [
    {
     "data": {
      "text/plain": [
       "top10"
      ]
     },
     "execution_count": 137,
     "metadata": {},
     "output_type": "execute_result"
    }
   ],
   "source": [
    "# 初始化查询字典\n",
    "train_rels = DefaultDict{String, Vector{Tuple}}(Vector{Tuple})\n",
    "for sols in unique(train_ques_sols)\n",
    "    que = first(sols)\n",
    "    rels = Tuple(@view(sols[3:end]))\n",
    "    rels ∉ train_rels[que] && push!(train_rels[que], rels)\n",
    "end\n",
    "\"匹配最近 10 个问题\"\n",
    "top10 = nearby(unique(train_ques))"
   ]
  },
  {
   "cell_type": "markdown",
   "id": "09d5dfe9-5739-4db0-a199-ed7a5607800c",
   "metadata": {},
   "source": [
    "### 问题提交"
   ]
  },
  {
   "cell_type": "code",
   "execution_count": 177,
   "id": "fac9871e-cc12-4ae7-b6df-c9b29ba9787f",
   "metadata": {},
   "outputs": [
    {
     "data": {
      "text/plain": [
       "2-element Vector{Any}:\n",
       " \"ez\"\n",
       " [(\"Felix_Chung\", \"alongside\", \"Vincent_Fang_(entrepreneur)\"), (\"方剛\", \"constituency\", \"批發及零售界功能界別\")]"
      ]
     },
     "execution_count": 177,
     "metadata": {},
     "output_type": "execute_result"
    }
   ],
   "source": [
    "sol = valid_ques_ner[1]\n",
    "que, ner = sol\n",
    "rels = find_rels(que)\n",
    "find_paths_vague(ner, rels)"
   ]
  },
  {
   "cell_type": "code",
   "execution_count": 151,
   "id": "4d6d1403-0c94-4737-a9a4-a1e2eff97974",
   "metadata": {},
   "outputs": [
    {
     "data": {
      "text/plain": [
       "submit"
      ]
     },
     "execution_count": 151,
     "metadata": {},
     "output_type": "execute_result"
    }
   ],
   "source": [
    "# 基本函数\n",
    "\"问题-ner-若干关系 => 标准形式\"\n",
    "function submit(sol)\n",
    "    # 提取信息\n",
    "    sol = split(sol, '\\t')\n",
    "    que, ner, rels = sol[1], sol[2], sol[3:end]\n",
    "    # ind = findfirst(==([que, ner]), valid_ques_ner) - 1\n",
    "    # 获取问题解答\n",
    "    paths = filter(i->length(unique(i[1]))>1, find_paths(ner, rels))\n",
    "    if !isempty(paths)\n",
    "        sign, path = last(paths)\n",
    "    else\n",
    "        rels = find_rels(refine_que(que))\n",
    "        sign, path = find_paths_vague(ner, rels)\n",
    "    end \n",
    "    submit_format(path, sign)\n",
    "end"
   ]
  },
  {
   "cell_type": "code",
   "execution_count": 129,
   "id": "05edcf27-4c03-486d-ba73-d02731bdad42",
   "metadata": {},
   "outputs": [
    {
     "data": {
      "text/plain": [
       "find_rels (generic function with 1 method)"
      ]
     },
     "execution_count": 129,
     "metadata": {},
     "output_type": "execute_result"
    }
   ],
   "source": [
    "function find_rels(que)\n",
    "    ques, scores = top10(que)\n",
    "    rels = vcat([train_rels[que] for que in ques]...)\n",
    "    rel1 = first(sort_count(counter(first.(rels))))[1]\n",
    "    rel2 = first(sort_count(counter(take(2).(rels))))[1]\n",
    "    return [rel1, rel2]\n",
    "end"
   ]
  },
  {
   "cell_type": "code",
   "execution_count": 176,
   "id": "0e200371-a065-4a3d-880c-22d1ab5d0ebd",
   "metadata": {},
   "outputs": [
    {
     "data": {
      "text/plain": [
       "find_paths_vague"
      ]
     },
     "execution_count": 176,
     "metadata": {},
     "output_type": "execute_result"
    }
   ],
   "source": [
    "\"寻找子图，但推理对齐\"\n",
    "function find_paths_vague(ner, rels)\n",
    "    tri1 = filter(i->i[1]==ner && i[2]==rels[1], triples)[1]\n",
    "    possible = filter(i->i[2] == rels[2], triples)\n",
    "    res, scores = nearby(first.(possible), tri1[3]; char=false)\n",
    "    tri2 = filter(i->i[1]==res[1] && i[2]==rels[2], triples)[1]\n",
    "    if length(rels) == 2\n",
    "        standard_path([tri1, tri2])[1]\n",
    "    else\n",
    "        possible = filter(i->i[2] == rels[3], triples)\n",
    "        res, scores = nearby(first.(possible), tri2[3]; char=false)\n",
    "        tri3 = filter(i->i[1]==res[1] && i[2]==rels[3], triples)[1]\n",
    "        standard_path([tri1, tri2, tri3])[1]\n",
    "    end\n",
    "end"
   ]
  },
  {
   "cell_type": "code",
   "execution_count": 34,
   "id": "e6677df5-9045-4bf8-be2a-28d826ee061b",
   "metadata": {},
   "outputs": [
    {
     "data": {
      "text/plain": [
       "find_paths"
      ]
     },
     "execution_count": 34,
     "metadata": {},
     "output_type": "execute_result"
    }
   ],
   "source": [
    "\"寻找子图，并返回三元组（精确子图）\"\n",
    "function find_paths(ner, rels)\n",
    "    paths = [[(ner, \"\", ner)]] # 初始路径\n",
    "    for rel in rels, _ in eachindex(paths)\n",
    "        path = popfirst!(paths) \n",
    "        ner = path[end][end] # 取路径终点\n",
    "        haskey(edges, ner) || continue\n",
    "        for (newrel, obj) in edges[ner]\n",
    "            newrel == rel && push!(paths, vcat(path, (ner, newrel, obj)))\n",
    "        end\n",
    "    end\n",
    "    popfirst!.(paths)\n",
    "    filter(i->length(unique(i[1]))>1, vcat(standard_path.(paths)...))\n",
    "end"
   ]
  },
  {
   "cell_type": "code",
   "execution_count": null,
   "id": "67cce163-bd87-47c2-b124-b75dee741eb8",
   "metadata": {},
   "outputs": [
    {
     "data": {
      "text/plain": [
       "2-element Vector{SubString{String}}:\n",
       " \"where is the constituency of the one who is alongside NER from?\"\n",
       " \"felix_chung\""
      ]
     },
     "execution_count": 187,
     "metadata": {},
     "output_type": "execute_result"
    }
   ],
   "source": [
    "valid_ques_ner[1]"
   ]
  },
  {
   "cell_type": "code",
   "execution_count": null,
   "id": "69be3626-bd8d-400f-b0bf-6460de9affe0",
   "metadata": {},
   "outputs": [
    {
     "data": {
      "text/plain": [
       "2-element Vector{SubString{String}}:\n",
       " \"eponym\"\n",
       " \"leader\""
      ]
     },
     "execution_count": 188,
     "metadata": {},
     "output_type": "execute_result"
    }
   ],
   "source": [
    "find_rels(ner)"
   ]
  },
  {
   "cell_type": "code",
   "execution_count": 193,
   "id": "17938613-14af-49ad-bd75-1454a8fe321d",
   "metadata": {},
   "outputs": [
    {
     "data": {
      "text/plain": [
       "\"<http://dbpedia.org/resource/Felix_Chung>#<http://dbpedia.org/property/alongside>#<http://dbpedia.org/resource/Vincent_Fang_(entrepreneur)>#<http://zh.dbpedia.org/resource/方剛>#<http://zh.dbpedia.org/property/constituency>#<http://zh.dbpedia.org/resource/批發及零售界功能界別>\""
      ]
     },
     "execution_count": 193,
     "metadata": {},
     "output_type": "execute_result"
    }
   ],
   "source": [
    "que, ner = valid_ques_ner[1]\n",
    "rels = find_rels(que)\n",
    "sign, path = find_paths_vague(ner, rels)\n",
    "submit_format(path, sign)"
   ]
  },
  {
   "cell_type": "code",
   "execution_count": 206,
   "id": "52875c32-622d-401d-a834-ee3417920657",
   "metadata": {
    "tags": []
   },
   "outputs": [],
   "source": [
    "# 读取预测结果\n",
    "submit_id = 12\n",
    "fails = String[]\n",
    "open(\"submit/submit_$(submit_id).txt\", \"w\") do io\n",
    "    println(io, \"id\\tans_path\")\n",
    "    for (i, (que, ner)) in enumerate(valid_ques_ner)\n",
    "        rels = find_rels(que)\n",
    "        line = temp\n",
    "        # 没有合适解的情况\n",
    "        try\n",
    "            sign, path = find_paths_vague(ner, rels)\n",
    "            line = submit_format(path, sign)\n",
    "        catch\n",
    "            try\n",
    "                line = submit(sols[i])\n",
    "            catch\n",
    "            end\n",
    "            push!(fails, que)\n",
    "        end\n",
    "        println(io, i-1, '\\t', line)\n",
    "    end\n",
    "end"
   ]
  },
  {
   "cell_type": "code",
   "execution_count": 181,
   "id": "ee028d63-9dba-4ba2-9638-0e6c4266d983",
   "metadata": {
    "tags": []
   },
   "outputs": [],
   "source": [
    "# 读取预测结果\n",
    "sols = split(strip(read(open(\"predict_data.txt\", \"r\"), String)), '\\n')\n",
    "temp = submit(sols[1])\n",
    "fails = String[]\n",
    "submit_id = 12\n",
    "open(\"submit/submit_$(submit_id).txt\", \"w\") do io\n",
    "    println(io, \"id\\tans_path\")\n",
    "    for (i, predict) in enumerate(sols)\n",
    "        line = temp\n",
    "        try\n",
    "            line = submit(predict)\n",
    "        catch\n",
    "            push!(fails, predict)\n",
    "        end\n",
    "        # 没有合适解的情况\n",
    "        println(io, i-1, '\\t', line)\n",
    "    end\n",
    "end"
   ]
  },
  {
   "cell_type": "code",
   "execution_count": null,
   "id": "81c8df93-9d99-42ff-892c-423c054d7aa5",
   "metadata": {},
   "outputs": [
    {
     "data": {
      "text/plain": [
       "397.05"
      ]
     },
     "execution_count": 153,
     "metadata": {},
     "output_type": "execute_result"
    }
   ],
   "source": [
    "0.2647 * 1500"
   ]
  },
  {
   "cell_type": "code",
   "execution_count": 4,
   "id": "d17fc167-994f-4361-b8e2-dba871ebb5c7",
   "metadata": {},
   "outputs": [],
   "source": [
    "fails, multisol, submit_id = String[], String[], 8\n",
    "open(\"submit/submit_$(submit_id).txt\", \"w\") do io\n",
    "    println(io, \"id\\tans_path\")\n",
    "    for (i, predict) in enumerate(sols)\n",
    "        lines = submit(predict; check=true)\n",
    "        # 多解的情况\n",
    "        length(lines) > 1 && push!(multisol, predict)\n",
    "        # 没有合适解的情况\n",
    "        isempty(lines) && (lines = submit(predict); push!(fails, predict))\n",
    "        println(io, i-1, '\\t', last(lines))\n",
    "    end\n",
    "end"
   ]
  }
 ],
 "metadata": {
  "kernelspec": {
   "display_name": "Julia 1.7.2",
   "language": "julia",
   "name": "julia-1.7"
  },
  "language_info": {
   "file_extension": ".jl",
   "mimetype": "application/julia",
   "name": "julia",
   "version": "1.7.2"
  }
 },
 "nbformat": 4,
 "nbformat_minor": 5
}
