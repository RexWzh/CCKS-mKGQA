{
 "cells": [
  {
   "cell_type": "markdown",
   "id": "f45af22f-ebc4-4733-89e9-557d64260d1f",
   "metadata": {
    "tags": []
   },
   "source": [
    "## 路径还原与问题提交\n",
    "\n",
    "`include(\"../src/submit.jl\")` 导入工具\n",
    "\n",
    "调用 `submit(predict)` 将预测数据转化为提交格式"
   ]
  },
  {
   "cell_type": "code",
   "execution_count": 2,
   "id": "b1fc79bd-f159-48a3-a375-b2119bfe4099",
   "metadata": {},
   "outputs": [],
   "source": [
    "using DataStructures"
   ]
  },
  {
   "cell_type": "code",
   "execution_count": 3,
   "id": "68dc088e-7472-4dad-a09d-daf731f10930",
   "metadata": {
    "tags": []
   },
   "outputs": [
    {
     "data": {
      "text/plain": [
       "\"submit\""
      ]
     },
     "execution_count": 3,
     "metadata": {},
     "output_type": "execute_result"
    }
   ],
   "source": [
    "include(\"../src/translatedata.jl\")\n",
    "# include(\"../src/deduction.jl\")\n",
    "include(\"../src/submit.jl\")\n",
    "mkpath(\"submit\")"
   ]
  },
  {
   "cell_type": "code",
   "execution_count": null,
   "id": "5fa4f65b-3963-4289-9fbf-422685114bd1",
   "metadata": {},
   "outputs": [],
   "source": [
    "# 读取预测结果\n",
    "submit_id = 13\n",
    "sols = split(strip(read(open(\"predict_data.txt\", \"r\"), String)), '\\n')\n",
    "temp = submit(sols[1])\n",
    "fails = String[]\n",
    "open(\"submit/submit_$(submit_id).txt\", \"w\") do io\n",
    "    println(io, \"id\\tans_path\")\n",
    "    for (i, predict) in enumerate(sols)\n",
    "        line = temp\n",
    "        try\n",
    "            line = submit(predict)\n",
    "        catch\n",
    "            # 没有合适解的情况\n",
    "            push!(fails, predict)\n",
    "        end\n",
    "        println(io, i-1, '\\t', line)\n",
    "    end\n",
    "end"
   ]
  },
  {
   "cell_type": "markdown",
   "id": "92b0dee7-b50e-407e-9856-3cedaff6be62",
   "metadata": {
    "tags": []
   },
   "source": [
    "## 调试内容"
   ]
  },
  {
   "cell_type": "markdown",
   "id": "43da6190-8e94-46d0-b066-7e57cfcdf89c",
   "metadata": {
    "jp-MarkdownHeadingCollapsed": true,
    "tags": []
   },
   "source": [
    "### 三元组 => 提交形式"
   ]
  },
  {
   "cell_type": "markdown",
   "id": "bf72e578-cbab-44de-b836-7093772974ce",
   "metadata": {
    "jp-MarkdownHeadingCollapsed": true,
    "tags": []
   },
   "source": [
    "#### 函数"
   ]
  },
  {
   "cell_type": "code",
   "execution_count": 2,
   "id": "5b883dc5-c67a-4d03-9b42-d9162d6c6be9",
   "metadata": {
    "collapsed": true,
    "jupyter": {
     "outputs_hidden": true
    },
    "tags": []
   },
   "outputs": [
    {
     "data": {
      "text/plain": [
       "Dict{Tuple{String, String, String}, Tuple{String, String, String}} with 104903 entries:\n",
       "  (\"amhara\", \"settlementtype\",… => (\"阿姆哈拉州\", \"settlementType\", \"埃塞俄比亚…\n",
       "  (\"dai_cunyi\", \"parents\", \"hu… => (\"戴存义\", \"parents\", \"戴德生\")\n",
       "  (\"dunn_center,_north_dakota\"… => (\"邓恩森特_(北达科他州)\", \"subdivisionType\",…\n",
       "  (\"giorgio_moroder\", \"genre\",… => (\"乔吉奥·莫罗德尔\", \"genre\", \"Dance_(music)\")\n",
       "  (\"south_china_football_team\"… => (\"南華足球隊\", \"league\", \"香港超級聯賽\")\n",
       "  (\"zulfikar_ali_bhutto\", \"cou… => (\"佐勒菲卡尔·阿里·布托\", \"country\", \"巴基斯坦…\n",
       "  (\"ariarathes_ii_of_cappadoci… => (\"阿里阿拉特二世\", \"after\", \"阿里阿拉內斯二世…\n",
       "  (\"catholic_archdiocese_of_sa… => (\"天主教聖路易斯波托西總教區\", \"territory\", …\n",
       "  (\"paul_easton\", \"monarch\", \"… => (\"保羅·伊斯臣\", \"monarch\", \"威廉三世_(尼德蘭…\n",
       "  (\"timothy_harris\", \"office\",… => (\"提摩西·哈里斯\", \"office\", \"圣基茨和尼维斯总…\n",
       "  (\"edward_viii\", \"successor\",… => (\"爱德华八世\", \"successor\", \"乔治六世\")\n",
       "  (\"zhong_wuyan_(movie)\", \"sta… => (\"鍾無艷_(電影)\", \"starring\", \"梅艳芳\")\n",
       "  (\"bard_college\", \"logo\", \"fi… => (\"巴德学院\", \"logo\", \"File:Bard_logo.png\")\n",
       "  (\"pegatron_united_technology… => (\"和碩聯合科技\", \"products\", \"光碟機\")\n",
       "  (\"asteroid_4745\", \"discovery… => (\"小行星4745\", \"discoverySite\", \"帕洛马山\")\n",
       "  (\"niel_amos\", \"sport\", \"trac… => (\"尼耶爾·阿莫斯\", \"sport\", \"田徑\")\n",
       "  (\"t-75_60mm_mortar\", \"type\",… => (\"T-75式60公厘迫擊炮\", \"type\", \"迫击炮\")\n",
       "  (\"daqing_city\", \"leadertitle… => (\"大庆市\", \"leaderTitle\", \"市长\")\n",
       "  (\"mohammad_elbaradei\", \"pred… => (\"穆罕默德·巴拉迪\", \"predecessor\", \"漢斯·布利…\n",
       "  (\"prievidza\", \"subdivisionna… => (\"普列維扎\", \"subdivisionName\", \"斯洛伐克\")\n",
       "  (\"new_territories\", \"country… => (\"新界\", \"countryAdminDivisions\", \"沙田區\")\n",
       "  (\"rolandas_paxas\", \"predeces… => (\"罗兰达斯·帕克萨斯\", \"predecessor\", \"安德留…\n",
       "  (\"bossost\", \"timezone\", \"cen… => (\"博索斯特\", \"timezone\", \"欧洲中部时间\")\n",
       "  (\"the_simpsons\", \"prev\", \"cr… => (\"辛普森一家\", \"prev\", \"歪星撞地球\")\n",
       "  (\"el_rosario\", \"subdivisionn… => (\"埃尔罗萨里奥\", \"subdivisionName\", \"圣克鲁斯…\n",
       "  ⋮                             => ⋮"
      ]
     },
     "execution_count": 2,
     "metadata": {},
     "output_type": "execute_result"
    }
   ],
   "source": [
    "# 三元组还原\n",
    "en_standard = Dict((=>).(en_triples_lower, raw_en_triples))\n",
    "zh_standard = Dict((=>).(zh_triples_lower, raw_zh_triples))"
   ]
  },
  {
   "cell_type": "code",
   "execution_count": 3,
   "id": "f349e67d-bb69-43c6-a3a4-ba4b51403b76",
   "metadata": {},
   "outputs": [
    {
     "data": {
      "text/plain": [
       "triple2link"
      ]
     },
     "execution_count": 3,
     "metadata": {},
     "output_type": "execute_result"
    }
   ],
   "source": [
    "\"三元组 => 提交形式\"\n",
    "function triple2link(triple, lang)\n",
    "    sub, rel, obj = triple\n",
    "    if lang == 'e'\n",
    "        \"<http://dbpedia.org/resource/$sub>#\" * \n",
    "        \"<http://dbpedia.org/property/$rel>#\" *\n",
    "        \"<http://dbpedia.org/resource/$obj>\"\n",
    "    elseif lang == 'z'\n",
    "        \"<http://zh.dbpedia.org/resource/$sub>#\" * \n",
    "        \"<http://zh.dbpedia.org/property/$rel>#\" *\n",
    "        \"<http://zh.dbpedia.org/resource/$obj>\"\n",
    "    end\n",
    "end"
   ]
  },
  {
   "cell_type": "markdown",
   "id": "597e1ae9-89ad-456c-bfe6-ff2ab715ec0b",
   "metadata": {
    "jp-MarkdownHeadingCollapsed": true,
    "tags": []
   },
   "source": [
    "#### 测试"
   ]
  },
  {
   "cell_type": "code",
   "execution_count": 4,
   "id": "fcdedda7-b79a-4f80-9491-fed23d90d6a1",
   "metadata": {},
   "outputs": [
    {
     "name": "stdout",
     "output_type": "stream",
     "text": [
      "检索图谱：\n",
      "(\"leopold_iii_of_belgium\", \"title\", \"duke_of_brabant\")\n",
      "英文图谱匹配结果：\n",
      "(\"Leopold_III_of_Belgium\", \"title\", \"Duke_of_Brabant\")\n",
      "提交链接-英文图谱：\n",
      "<http://dbpedia.org/resource/leopold_iii_of_belgium>#<http://dbpedia.org/property/title>#<http://dbpedia.org/resource/duke_of_brabant>\n"
     ]
    }
   ],
   "source": [
    "triple = rand(triples)\n",
    "println(\"检索图谱：\\n\", triple)\n",
    "zh = haskey(zh_standard, triple) ? zh_standard[triple] : \"\"\n",
    "en = haskey(en_standard, triple) ? en_standard[triple] : \"\"\n",
    "isempty(zh) || println(\"中文图谱匹配结果：\\n\", zh)\n",
    "isempty(en) || println(\"英文图谱匹配结果：\\n\", en)\n",
    "print(\"提交链接-\")\n",
    "isempty(zh) || println(\"中文图谱：\\n\", triple2link(triple, 'z'))\n",
    "isempty(en) || println(\"英文图谱：\\n\", triple2link(triple, 'e'))"
   ]
  },
  {
   "cell_type": "markdown",
   "id": "bc802d50-117b-4c16-b486-0f2bca998772",
   "metadata": {
    "tags": []
   },
   "source": [
    "### 寻找路径（不考虑路径推理）"
   ]
  },
  {
   "cell_type": "markdown",
   "id": "d8ddc5f9-d506-45ae-b00a-2c2fdb8f3794",
   "metadata": {
    "tags": []
   },
   "source": [
    "#### 函数"
   ]
  },
  {
   "cell_type": "code",
   "execution_count": 7,
   "id": "3a23bca4-4395-4bd8-b418-991ca481a5f5",
   "metadata": {},
   "outputs": [],
   "source": [
    "# 初始化边集\n",
    "edges = DefaultDict{String, Vector{Tuple}}(Vector{Tuple})\n",
    "for (sub, rel, obj) in triples\n",
    "    push!(edges[sub], (rel, obj))\n",
    "end"
   ]
  },
  {
   "cell_type": "code",
   "execution_count": 8,
   "id": "2418e8fc-ec31-4314-9dd7-4fd29d9e9086",
   "metadata": {
    "tags": []
   },
   "outputs": [
    {
     "data": {
      "text/plain": [
       "find_paths"
      ]
     },
     "execution_count": 8,
     "metadata": {},
     "output_type": "execute_result"
    }
   ],
   "source": [
    "\"寻找从 ner 出发以 rels 为关系的子图（不做路径推理）\"\n",
    "function find_paths(ner, rels)\n",
    "    paths = [[(ner, \"\", ner)]] # 初始路径\n",
    "    for rel in rels, _ in eachindex(paths)\n",
    "        path = popfirst!(paths) \n",
    "        ner = path[end][end] # 取路径终点\n",
    "        for (newrel, obj) in edges[ner]\n",
    "            newrel == rel && push!(paths, vcat(path, (ner, newrel, obj)))\n",
    "        end\n",
    "    end\n",
    "    popfirst!.(paths) # 去除路径的初始节点（平凡）\n",
    "    paths\n",
    "end"
   ]
  },
  {
   "cell_type": "markdown",
   "id": "fa8d6f56-26a7-450e-914a-d6daf4d3494e",
   "metadata": {
    "jp-MarkdownHeadingCollapsed": true,
    "tags": []
   },
   "source": [
    "#### 测试"
   ]
  },
  {
   "cell_type": "code",
   "execution_count": 9,
   "id": "9f9bdea4-fda7-4798-a40f-f6f53e4ac1bf",
   "metadata": {},
   "outputs": [
    {
     "name": "stdout",
     "output_type": "stream",
     "text": [
      "头结点和关系：\n",
      "telegonos\tparents\tparents\n",
      "\n",
      "第 1 条路径\n",
      "(\"telegonos\", \"parents\", \"odysseus\")\n",
      "(\"odysseus\", \"parents\", \"laertes\")\n",
      "\n",
      "第 2 条路径\n",
      "(\"telegonos\", \"parents\", \"odysseus\")\n",
      "(\"odysseus\", \"parents\", \"anticlea\")\n"
     ]
    }
   ],
   "source": [
    "sol = rand(train_ques_sols)\n",
    "que, ner, rels = sol[1], sol[2], sol[3:end]\n",
    "println(\"头结点和关系：\")\n",
    "println(ner, '\\t', join(rels, '\\t'))\n",
    "paths = find_paths(ner, rels)\n",
    "for (i, path) in enumerate(paths)\n",
    "    println(\"\\n第 $i 条路径\")\n",
    "    for triple in path\n",
    "        println(triple)\n",
    "    end\n",
    "end"
   ]
  },
  {
   "cell_type": "markdown",
   "id": "72852aeb-be6b-43de-a8c0-732427129274",
   "metadata": {
    "tags": []
   },
   "source": [
    "### 提取跨语言路径"
   ]
  },
  {
   "cell_type": "markdown",
   "id": "4731d21e-5f4a-49a2-9ecb-dfc7af72f293",
   "metadata": {
    "tags": []
   },
   "source": [
    "#### 函数"
   ]
  },
  {
   "cell_type": "code",
   "execution_count": 1,
   "id": "25ca20ca-83d4-4a83-8390-99db92d6cd78",
   "metadata": {},
   "outputs": [
    {
     "data": {
      "text/plain": [
       "valid_path"
      ]
     },
     "execution_count": 1,
     "metadata": {},
     "output_type": "execute_result"
    }
   ],
   "source": [
    "\"翻译的三元组路径 => 原始三元组路径 + 三元组语言信息\"\n",
    "function valid_path(path)\n",
    "    signs = [\"\"]\n",
    "    # BFS 搜索可能的符号信息\n",
    "    for triple in path, _ in eachindex(signs)\n",
    "        s = popfirst!(signs) # 当前符号路径\n",
    "        haskey(zh_standard, triple) && push!(signs, s * \"z\")\n",
    "        haskey(en_standard, triple) && push!(signs, s * \"e\")\n",
    "    end\n",
    "    [[sign, [s == 'z' ? zh_standard[t] : en_standard[t] \n",
    "            for (s,t) in zip(sign, path)]] for sign in signs if length(unique(sign)) > 1]\n",
    "end"
   ]
  },
  {
   "cell_type": "code",
   "execution_count": 11,
   "id": "14e80768-1a8c-4b11-bbdc-6b12dfc4239f",
   "metadata": {},
   "outputs": [
    {
     "data": {
      "text/plain": [
       "submit_format"
      ]
     },
     "execution_count": 11,
     "metadata": {},
     "output_type": "execute_result"
    }
   ],
   "source": [
    "\"三元组路径 => 提交形式\"\n",
    "submit_format(triples, langs) = join([triple2link(triple, lang)\n",
    "        for (triple, lang) in zip(triples, langs)], '#')"
   ]
  },
  {
   "cell_type": "markdown",
   "id": "d634b43f-e5a5-49aa-95e3-e75197a24656",
   "metadata": {
    "tags": []
   },
   "source": [
    "#### 测试"
   ]
  },
  {
   "cell_type": "code",
   "execution_count": 12,
   "id": "da3f9f87-c144-4d06-87e5-81f02c4361e4",
   "metadata": {
    "collapsed": true,
    "jupyter": {
     "outputs_hidden": true
    },
    "tags": []
   },
   "outputs": [
    {
     "name": "stdout",
     "output_type": "stream",
     "text": [
      "问题，命名实体，关系：\n",
      "what is the title of the person whose name is used to name the NER?\n",
      "nansen_(lunar_crater)\teponym\ttitle\n",
      "\n",
      "可行路径:\n",
      "<http://dbpedia.org/resource/Nansen_(lunar_crater)>#<http://dbpedia.org/property/eponym>#<http://dbpedia.org/resource/Fridtjof_Nansen>#<http://zh.dbpedia.org/resource/弗里乔夫·南森>#<http://zh.dbpedia.org/property/title>#<http://zh.dbpedia.org/resource/Rector_of_the_University_of_St_Andrews>\n",
      "\n",
      "可行路径:\n",
      "<http://dbpedia.org/resource/Nansen_(lunar_crater)>#<http://dbpedia.org/property/eponym>#<http://dbpedia.org/resource/Fridtjof_Nansen>#<http://dbpedia.org/resource/Fridtjof_Nansen>#<http://dbpedia.org/property/title>#<http://dbpedia.org/resource/Rector_of_the_University_of_St_Andrews>\n",
      "\n",
      "可行路径:\n",
      "<http://dbpedia.org/resource/Nansen_(lunar_crater)>#<http://dbpedia.org/property/eponym>#<http://dbpedia.org/resource/Fridtjof_Nansen>#<http://zh.dbpedia.org/resource/弗里乔夫·南森>#<http://zh.dbpedia.org/property/title>#<http://zh.dbpedia.org/resource/List_of_diplomats_from_Norway_to_the_United_Kingdom>\n",
      "\n",
      "可行路径:\n",
      "<http://dbpedia.org/resource/Nansen_(lunar_crater)>#<http://dbpedia.org/property/eponym>#<http://dbpedia.org/resource/Fridtjof_Nansen>#<http://dbpedia.org/resource/Fridtjof_Nansen>#<http://dbpedia.org/property/title>#<http://dbpedia.org/resource/List_of_diplomats_from_Norway_to_the_United_Kingdom>\n"
     ]
    }
   ],
   "source": [
    "sol = rand(train_ques_sols)\n",
    "que, ner, rels = sol[1], sol[2], sol[3:end]\n",
    "println(\"问题，命名实体，关系：\\n\", que)\n",
    "println(ner, '\\t', join(rels, '\\t'))\n",
    "\n",
    "paths = find_paths(ner, rels)\n",
    "for path in paths, (sign, tris) in valid_path(path)\n",
    "    println(\"\\n可行路径:\")\n",
    "    println(submit_format(tris, sign))\n",
    "end"
   ]
  },
  {
   "cell_type": "markdown",
   "id": "09d5dfe9-5739-4db0-a199-ed7a5607800c",
   "metadata": {
    "tags": []
   },
   "source": [
    "### 问题提交"
   ]
  },
  {
   "cell_type": "markdown",
   "id": "f91f0581-1c16-41b9-9bf4-4edb6c167d9c",
   "metadata": {
    "tags": []
   },
   "source": [
    "#### 函数"
   ]
  },
  {
   "cell_type": "code",
   "execution_count": 26,
   "id": "6a839d4d-003a-409c-968a-ff7f3569fa10",
   "metadata": {},
   "outputs": [
    {
     "data": {
      "text/plain": [
       "valid_submit (generic function with 3 methods)"
      ]
     },
     "execution_count": 26,
     "metadata": {},
     "output_type": "execute_result"
    }
   ],
   "source": [
    "valid_submit(sol::AbstractString) = valid_submit(split(sol, '\\t'))\n",
    "function valid_submit(sol::AbstractVector)\n",
    "    que, ner, rels = sol[1], sol[2], sol[3:end]\n",
    "    paths = find_paths(ner, rels)\n",
    "    valids = String[]\n",
    "    for path in paths, (sign, tris) in valid_path(path)\n",
    "        push!(valids, submit_format(tris, sign))\n",
    "    end\n",
    "    valids\n",
    "end"
   ]
  }
 ],
 "metadata": {
  "kernelspec": {
   "display_name": "Julia 1.7.2",
   "language": "julia",
   "name": "julia-1.7"
  },
  "language_info": {
   "file_extension": ".jl",
   "mimetype": "application/julia",
   "name": "julia",
   "version": "1.7.2"
  }
 },
 "nbformat": 4,
 "nbformat_minor": 5
}
