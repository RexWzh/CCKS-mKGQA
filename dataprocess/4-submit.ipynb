{
 "cells": [
  {
   "cell_type": "markdown",
   "id": "f45af22f-ebc4-4733-89e9-557d64260d1f",
   "metadata": {},
   "source": [
    "# 路径还原与问题提交\n",
    "\n",
    "代码参见 `../src/submit.jl`，调用 `submit(predict)` 将预测数据转化为提交格式\n",
    "\n",
    "函数说明：\n",
    "- `standard_triple(triple, lang)` 还原单个带链接的三元组\n",
    "- `submit_format(triples, langs)` 将多个三元组转化为标准格式\n",
    "- `standard_path(path)` 将路径中的三元组转化为翻译前的三元组，同时返回语言信息\n",
    "- `find_paths(ner, rels)` 寻找以 `ner` 为起点，`rels` 为路径的子图\n",
    "- `submit(sol; check = false)` 根据预测数据检索路径，`check` 指定是否根据跳数及跨语言进行筛选\n",
    "\n",
    "补充说明：\n",
    "- `find_paths, submit` 依赖变量 `edges`\n",
    "- `recover_paths` 依赖变量 `MT_zh_new2raw, MT_en_new2raw`\n",
    "- 这三个函数与翻译相关"
   ]
  },
  {
   "cell_type": "markdown",
   "id": "09d5dfe9-5739-4db0-a199-ed7a5607800c",
   "metadata": {},
   "source": [
    "### 问题提交"
   ]
  },
  {
   "cell_type": "code",
   "execution_count": 3,
   "id": "68dc088e-7472-4dad-a09d-daf731f10930",
   "metadata": {
    "tags": []
   },
   "outputs": [
    {
     "data": {
      "text/plain": [
       "\"submit\""
      ]
     },
     "execution_count": 3,
     "metadata": {},
     "output_type": "execute_result"
    }
   ],
   "source": [
    "include(\"../src/translatedata.jl\")\n",
    "include(\"../src/submit.jl\")\n",
    "mkpath(\"submit\")"
   ]
  },
  {
   "cell_type": "code",
   "execution_count": 9,
   "id": "ee028d63-9dba-4ba2-9638-0e6c4266d983",
   "metadata": {
    "tags": []
   },
   "outputs": [],
   "source": [
    "# 读取预测结果\n",
    "sols = split(strip(read(open(\"predict_data.txt\", \"r\"), String)), '\\n')\n",
    "# sols = [replace(sol, r\"#\\d+\" => \"\") for sol in sols]"
   ]
  },
  {
   "cell_type": "code",
   "execution_count": 7,
   "id": "d17fc167-994f-4361-b8e2-dba871ebb5c7",
   "metadata": {},
   "outputs": [],
   "source": [
    "fails, multisol, submit_id = String[], String[], 7\n",
    "open(\"submit/submit_$(submit_id).txt\", \"w\") do io\n",
    "    println(io, \"id\\tans_path\")\n",
    "    for (i, predict) in enumerate(sols)\n",
    "        lines = submit(predict; check=true)\n",
    "        # 多解的情况\n",
    "        length(lines) > 1 && push!(multisol, predict)\n",
    "        # 没有合适解的情况\n",
    "        isempty(lines) && (lines = submit(predict); push!(fails, predict))\n",
    "        println(io, i-1, '\\t', last(lines))\n",
    "    end\n",
    "end"
   ]
  },
  {
   "cell_type": "code",
   "execution_count": 8,
   "id": "fa87335a-f872-4e94-8334-9880d3e993fb",
   "metadata": {
    "tags": []
   },
   "outputs": [],
   "source": [
    "fails;"
   ]
  },
  {
   "cell_type": "code",
   "execution_count": 11,
   "id": "2c5f4e36-e297-4096-914b-6c5fc38200a4",
   "metadata": {
    "tags": []
   },
   "outputs": [
    {
     "data": {
      "text/plain": [
       "count_list (generic function with 1 method)"
      ]
     },
     "execution_count": 11,
     "metadata": {},
     "output_type": "execute_result"
    }
   ],
   "source": [
    "function count_list(list)\n",
    "    c_list = counter(list)\n",
    "    sort(Dict(c_list), by=i->c_list[i], rev=true)\n",
    "end"
   ]
  }
 ],
 "metadata": {
  "kernelspec": {
   "display_name": "Julia 1.7.2",
   "language": "julia",
   "name": "julia-1.7"
  },
  "language_info": {
   "file_extension": ".jl",
   "mimetype": "application/julia",
   "name": "julia",
   "version": "1.7.2"
  }
 },
 "nbformat": 4,
 "nbformat_minor": 5
}
