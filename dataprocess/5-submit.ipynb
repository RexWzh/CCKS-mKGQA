{
 "cells": [
  {
   "cell_type": "markdown",
   "id": "09d5dfe9-5739-4db0-a199-ed7a5607800c",
   "metadata": {},
   "source": [
    "### 问题提交"
   ]
  },
  {
   "cell_type": "code",
   "execution_count": 1,
   "id": "68dc088e-7472-4dad-a09d-daf731f10930",
   "metadata": {
    "tags": []
   },
   "outputs": [
    {
     "data": {
      "text/plain": [
       "submit_format"
      ]
     },
     "execution_count": 1,
     "metadata": {},
     "output_type": "execute_result"
    }
   ],
   "source": [
    "include(\"../src/submit.jl\")"
   ]
  },
  {
   "cell_type": "code",
   "execution_count": 2,
   "id": "da2e33b9-f8fa-4317-8cab-2b3666e6978a",
   "metadata": {},
   "outputs": [
    {
     "data": {
      "text/plain": [
       "\"who is the leader of the combatant of NER?\\tgrief_night\\tcombatant\\tleader\""
      ]
     },
     "execution_count": 2,
     "metadata": {},
     "output_type": "execute_result"
    }
   ],
   "source": [
    "sol = \"who is the leader of the combatant of NER?\tgrief_night\tcombatant\tleader\""
   ]
  },
  {
   "cell_type": "code",
   "execution_count": 3,
   "id": "d6fa6178-d456-45e1-acd6-64889b080466",
   "metadata": {},
   "outputs": [
    {
     "data": {
      "text/plain": [
       "\"27\\t<http://zh.dbpedia.org/resource/悲痛之夜>#<http://zh.dbpedia.org/property/combatant>#<http://zh.dbpedia.org/resource/阿兹特克帝国>#<http://dbpedia.org/resource/Aztec_Empire>#<http://dbpedia.org/property/leader>#<http://dbpedia.org/resource/Itzcoatl>\""
      ]
     },
     "execution_count": 3,
     "metadata": {},
     "output_type": "execute_result"
    }
   ],
   "source": [
    "submit(sol)"
   ]
  },
  {
   "cell_type": "code",
   "execution_count": 144,
   "id": "4bd3d891-04b5-4991-a70e-69092652e62e",
   "metadata": {
    "collapsed": true,
    "jupyter": {
     "outputs_hidden": true,
     "source_hidden": true
    },
    "tags": []
   },
   "outputs": [
    {
     "ename": "LoadError",
     "evalue": "BoundsError: attempt to access 2-element Vector{Tuple{String, String, String}} at index [3]",
     "output_type": "error",
     "traceback": [
      "BoundsError: attempt to access 2-element Vector{Tuple{String, String, String}} at index [3]",
      "",
      "Stacktrace:",
      "  [1] getindex",
      "    @ ./array.jl:861 [inlined]",
      "  [2] indexed_iterate",
      "    @ ./tuple.jl:90 [inlined]",
      "  [3] standard_triple(triple::Vector{Tuple{String, String, String}}; lang::String)",
      "    @ Main ./In[142]:2",
      "  [4] #51",
      "    @ ./none:0 [inlined]",
      "  [5] iterate",
      "    @ ./generator.jl:47 [inlined]",
      "  [6] collect(itr::Base.Generator{Base.Iterators.Zip{Tuple{Vector{Vector{Tuple{String, String, String}}}, Vector{String}}}, var\"#51#52\"})",
      "    @ Base ./array.jl:724",
      "  [7] submit_format(triples::Vector{Vector{Tuple{String, String, String}}}, tags::Vector{String})",
      "    @ Main ./In[142]:13",
      "  [8] submit(sol::String)",
      "    @ Main ./In[143]:19",
      "  [9] top-level scope",
      "    @ In[144]:2",
      " [10] eval",
      "    @ ./boot.jl:373 [inlined]",
      " [11] include_string(mapexpr::typeof(REPL.softscope), mod::Module, code::String, filename::String)",
      "    @ Base ./loading.jl:1196"
     ]
    }
   ],
   "source": [
    "sol = \"who is the leader of the combatant of NER?\tgrief_night\tcombatant\tleader\"\n",
    "submit(sol)"
   ]
  }
 ],
 "metadata": {
  "kernelspec": {
   "display_name": "Julia 1.7.2",
   "language": "julia",
   "name": "julia-1.7"
  },
  "language_info": {
   "file_extension": ".jl",
   "mimetype": "application/julia",
   "name": "julia",
   "version": "1.7.2"
  }
 },
 "nbformat": 4,
 "nbformat_minor": 5
}
