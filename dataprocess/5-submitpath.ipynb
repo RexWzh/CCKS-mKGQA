{
 "cells": [
  {
   "cell_type": "markdown",
   "id": "f45af22f-ebc4-4733-89e9-557d64260d1f",
   "metadata": {
    "tags": []
   },
   "source": [
    "## 路径还原"
   ]
  },
  {
   "cell_type": "markdown",
   "id": "8f04227b-cf50-4423-8423-d2e363350641",
   "metadata": {},
   "source": [
    "注：存在 86 个重复三元组，提交不知道会不会遇到这些情形\n",
    "- 比如假设 triple1 即为 en 也为 zh，那么\n",
    "- en -> zh -> en 和 zh -> zh -> en 都将作为答案"
   ]
  },
  {
   "cell_type": "code",
   "execution_count": 212,
   "id": "68dc088e-7472-4dad-a09d-daf731f10930",
   "metadata": {
    "tags": []
   },
   "outputs": [
    {
     "data": {
      "text/plain": [
       "\"submit\""
      ]
     },
     "execution_count": 212,
     "metadata": {},
     "output_type": "execute_result"
    }
   ],
   "source": [
    "include(\"../src/CCKS-mKGQA.jl\")\n",
    "include(\"../src/loaddata/extractdata.jl\") # 原始数据\n",
    "include(\"../src/loaddata/translatedata.jl\") # 翻译数据\n",
    "include(\"../src/tools/ettalign.jl\") # 对齐工具\n",
    "include(\"../src/tools/distance.jl\") # 距离函数\n",
    "include(\"../src/process/submitpath.jl\") # 数据提交\n",
    "mkpath(\"submit\")"
   ]
  },
  {
   "cell_type": "code",
   "execution_count": 192,
   "id": "5fb65ee8-120c-4a59-8488-2fea341c63b9",
   "metadata": {
    "tags": []
   },
   "outputs": [
    {
     "name": "stdout",
     "output_type": "stream",
     "text": [
      "对齐数目-翻译后的数目：\t[33801, 23998]\n"
     ]
    }
   ],
   "source": [
    "illpath = \"ILLs_1\"\n",
    "# illpath = \"ILLs_2\"\n",
    "# illpath = \"ILLs_3\"\n",
    "# illpath = \"ILLs_4\"\n",
    "# illpath = \"ILLs_official\"\n",
    "# illpath = \"ILLs_wiki\"\n",
    "include(\"../src/loaddata/illsdata.jl\");"
   ]
  },
  {
   "cell_type": "markdown",
   "id": "13d9a817-d221-4305-b7bc-92b4bc7f3af8",
   "metadata": {
    "tags": []
   },
   "source": [
    "### 反转字典"
   ]
  },
  {
   "cell_type": "code",
   "execution_count": 117,
   "id": "ad8416ad-a743-4ce1-8b74-44f786c49720",
   "metadata": {},
   "outputs": [
    {
     "name": "stdout",
     "output_type": "stream",
     "text": [
      "重复元组的信息\n"
     ]
    },
    {
     "data": {
      "text/plain": [
       "OrderedDict{Int64, Int64} with 3 entries:\n",
       "  1 => 260361\n",
       "  2 => 3541\n",
       "  3 => 14"
      ]
     },
     "execution_count": 117,
     "metadata": {},
     "output_type": "execute_result"
    }
   ],
   "source": [
    "# 元组逆向\n",
    "println(\"重复元组的信息\")\n",
    "sort_count(length.(values(dict_triples_rev)))"
   ]
  },
  {
   "cell_type": "markdown",
   "id": "21442162-69ac-4c10-b5f6-8d521dec1632",
   "metadata": {
    "jp-MarkdownHeadingCollapsed": true,
    "tags": []
   },
   "source": [
    "### 精确匹配"
   ]
  },
  {
   "cell_type": "code",
   "execution_count": 182,
   "id": "1bbeee73-1cc5-4930-8cf5-04c3e23cc3c9",
   "metadata": {
    "tags": []
   },
   "outputs": [
    {
     "name": "stdout",
     "output_type": "stream",
     "text": [
      "567\t2\n"
     ]
    }
   ],
   "source": [
    "submit_id = \"precise-ill3model-ill4path\"\n",
    "sols = split.(strip.(split(strip(read(open(\"predict/predict_data_0708.txt\", \"r\"), String)), '\\n')),'\\t')\n",
    "noans = \"<http://dbpedia.org/resource/Francis_Russell,_Marquess_of_Tavistock>#<http://dbpedia.org/property/parents>#<http://dbpedia.org/resource/John_Russell,_4th_Duke_of_Bedford>#<http://zh.dbpedia.org/resource/第四代贝德福德公爵约翰·罗素>#<http://zh.dbpedia.org/property/successor>#<http://zh.dbpedia.org/resource/丹尼尔·芬奇，第八代温奇尔西伯爵>\";\n",
    "\n",
    "# 返回结果\n",
    "res = Vector{String}(undef, 1500)\n",
    "fails, notgood = Int[], Int[]\n",
    "## 精确匹配\n",
    "for (i, sol) in enumerate(sols)\n",
    "    que, rels = ill_valid_ques[i], sol[3:end]\n",
    "    ner, rawner = ill_valid_ners[i], valid_ques_ner[i][2]\n",
    "    # 精确路径\n",
    "    submits = precise_submit(ner, rels, edges, dict_triples_rev)\n",
    "    isempty(submits) && (push!(fails, i);continue)\n",
    "    bettersubmits = filter(contains(rawner), submits)\n",
    "    isempty(bettersubmits) ? push!(notgood, i) : (submits = bettersubmits)\n",
    "    res[i] = first(submits)\n",
    "end\n",
    "println(length(fails), '\\t', length(notgood))\n",
    "\n",
    "## 剩下部分放弃\n",
    "res[fails] .= noans\n",
    "open(\"submit/submit_$submit_id.txt\", \"w\") do io\n",
    "    println(io, \"id\\tans_path\")\n",
    "    for (i, sol) in enumerate(res)\n",
    "        println(io, i, '\\t', sol)\n",
    "    end\n",
    "end"
   ]
  },
  {
   "cell_type": "code",
   "execution_count": 6,
   "id": "6d993dee-78e5-4193-8ce2-ca8ee0673d58",
   "metadata": {},
   "outputs": [
    {
     "data": {
      "text/plain": [
       "0.7512861736334404"
      ]
     },
     "execution_count": 6,
     "metadata": {},
     "output_type": "execute_result"
    }
   ],
   "source": [
    "# ill3 + ill1\n",
    "0.4673 / (1500 - 567) * 1500"
   ]
  },
  {
   "cell_type": "code",
   "execution_count": 18,
   "id": "8a9172d0-307a-478c-a9dd-756baf822f54",
   "metadata": {},
   "outputs": [
    {
     "data": {
      "text/plain": [
       "0.7589681774349084"
      ]
     },
     "execution_count": 18,
     "metadata": {},
     "output_type": "execute_result"
    }
   ],
   "source": [
    "# ill3 + ill3\n",
    "0.5247 / (1500 - 463) * 1500"
   ]
  },
  {
   "cell_type": "code",
   "execution_count": 19,
   "id": "e71b76dc-8d27-488b-bfe1-1928714c0876",
   "metadata": {},
   "outputs": [
    {
     "data": {
      "text/plain": [
       "0.7608837209302325"
      ]
     },
     "execution_count": 19,
     "metadata": {},
     "output_type": "execute_result"
    }
   ],
   "source": [
    "# ill3 + ill4\n",
    "0.5453 / (1500 - 425) * 1500"
   ]
  },
  {
   "cell_type": "code",
   "execution_count": 131,
   "id": "50d668cc-88c0-40f1-b90d-77f60a5c128f",
   "metadata": {},
   "outputs": [
    {
     "data": {
      "text/plain": [
       "0.6673"
      ]
     },
     "execution_count": 131,
     "metadata": {},
     "output_type": "execute_result"
    }
   ],
   "source": [
    "(0.5453 * 1500 + 183) /1500"
   ]
  },
  {
   "cell_type": "markdown",
   "id": "5b4a9741-7462-443a-a853-f578937be286",
   "metadata": {},
   "source": [
    "### 相似匹配"
   ]
  },
  {
   "cell_type": "code",
   "execution_count": 187,
   "id": "d4c6cd07-a0fd-4331-9ba7-3d199cbe929e",
   "metadata": {
    "tags": []
   },
   "outputs": [
    {
     "name": "stdout",
     "output_type": "stream",
     "text": [
      "425\t8\n"
     ]
    }
   ],
   "source": [
    "submit_id = \"vague-ill3model-ill4path-ill1deduct\"\n",
    "sols = split.(strip.(split(strip(read(open(\"predict/predict_data_0708.txt\", \"r\"), String)), '\\n')),'\\t')\n",
    "noans = \"<http://dbpedia.org/resource/Francis_Russell,_Marquess_of_Tavistock>#<http://dbpedia.org/property/parents>#<http://dbpedia.org/resource/John_Russell,_4th_Duke_of_Bedford>#<http://zh.dbpedia.org/resource/第四代贝德福德公爵约翰·罗素>#<http://zh.dbpedia.org/property/successor>#<http://zh.dbpedia.org/resource/丹尼尔·芬奇，第八代温奇尔西伯爵>\";\n",
    "\n",
    "# 返回结果\n",
    "res = Vector{String}(undef, 1500)\n",
    "fails, notgood = Int[], Int[]\n",
    "## 精确匹配\n",
    "for (i, sol) in enumerate(sols)\n",
    "    que, rels = ill_valid_ques[i], sol[3:end]\n",
    "    ner, rawner = ill_valid_ners[i], valid_ques_ner[i][2]\n",
    "    # 精确路径\n",
    "    submits = precise_submit(ner, rels, edges, dict_triples_rev)\n",
    "    isempty(submits) && (push!(fails, i); res[i]=noans; continue)\n",
    "    bettersubmits = filter(contains(rawner), submits)\n",
    "    isempty(bettersubmits) ? push!(notgood, i) : (submits = bettersubmits)\n",
    "    res[i] = first(submits)\n",
    "end\n",
    "println(length(fails), '\\t', length(notgood))"
   ]
  },
  {
   "cell_type": "code",
   "execution_count": 193,
   "id": "cf1d6d82-8e4a-4a0d-983a-37e0fb47bddd",
   "metadata": {},
   "outputs": [],
   "source": [
    "# 训练集已有关系\n",
    "dict_trainrels = DefaultDict{String, Vector{Tuple}}(Vector{Tuple})\n",
    "for (que, _, rels...) in mt_train_ques_rels\n",
    "    Tuple(rels) ∈ dict_trainrels[que] && continue\n",
    "    push!(dict_trainrels[que], Tuple(rels))\n",
    "end"
   ]
  },
  {
   "cell_type": "code",
   "execution_count": 214,
   "id": "3125e046-54e1-43d9-b0f3-c19636e4982d",
   "metadata": {
    "tags": []
   },
   "outputs": [
    {
     "name": "stdout",
     "output_type": "stream",
     "text": [
      "7\t66\t232\t318\t321\t394\t433\t486\t489\t501\t511\t541\t545\t546\t570\t578\t585\t597\t606\t610\t612\t624\t632\t634\t637\t639\t663\t689\t691\t706\t715\t726\t727\t730\t760\t971\t984\t989\t991\t994\t995\t996\t998\t999\t1133\t1171\t1186\t1216\t1218\t1231\t1232\t1235\t1245\t1249\t1264\t1270\t1282\t1290\t1294\t1297\t1303\t1313\t1315\t1324\t1331\t1348\t1350\t1359\t1361\t1363\t1391\t1393\t1396\t1415\t1452\t1458\t1459\t1460\t1465\t1468\t1487\t1492\t1495\t"
     ]
    },
    {
     "data": {
      "text/plain": [
       "342"
      ]
     },
     "execution_count": 214,
     "metadata": {},
     "output_type": "execute_result"
    }
   ],
   "source": [
    "## 剩下部分相似匹配 + 路径推理\n",
    "failagain = Int[]\n",
    "for i in fails\n",
    "    rawner = ill_valid_ners[i]\n",
    "    que = findbest(ill_train_ques, ill_valid_ques[i])\n",
    "    submits = vcat([vague_submit(ner, rels, ill_triples, dict_triples_rev)\n",
    "        for rels in dict_trainrels[que]]...)\n",
    "    isempty(submits) && (push!(failagain, i); res[i]=noans; continue)\n",
    "    bettersubmits = filter(contains(rawner), submits)\n",
    "    isempty(bettersubmits) ? push!(notgood, i) : (submits = bettersubmits)\n",
    "    res[i] = first(submits)\n",
    "    print(i,'\\t')\n",
    "    flush(stdout)\n",
    "end\n",
    "length(failagain)"
   ]
  },
  {
   "cell_type": "code",
   "execution_count": 215,
   "id": "a4abe479-24ff-4be0-8647-f8f6895171b7",
   "metadata": {
    "tags": []
   },
   "outputs": [],
   "source": [
    "open(\"submit/submit_$submit_id.txt\", \"w\") do io\n",
    "    println(io, \"id\\tans_path\")\n",
    "    for (i, sol) in enumerate(res)\n",
    "        println(io, i-1, '\\t', sol)\n",
    "    end\n",
    "end"
   ]
  },
  {
   "cell_type": "code",
   "execution_count": 213,
   "id": "1e85939a-0de0-42d1-a6c0-7e482b92fd22",
   "metadata": {},
   "outputs": [
    {
     "data": {
      "text/plain": [
       "dist (generic function with 1 method)"
      ]
     },
     "execution_count": 213,
     "metadata": {},
     "output_type": "execute_result"
    }
   ],
   "source": [
    "function dist(target, word; char=true)\n",
    "    char || (words = equivills[word])\n",
    "    target, word = lowercase.([target, word])\n",
    "    char || (target = split(target, '_'); word = split(word, '_'))\n",
    "    if char || isempty(words) # 问题匹配\n",
    "        all(∉(Set(target)), word) && return typemax(Int)\n",
    "        evaluate(Levenshtein(), target, word)\n",
    "    else\n",
    "        # 实体匹配\n",
    "        words = split.(lowercase.(words), '_')\n",
    "        all(all(∉(Set(target)), word) for word in words) && return typemax(Int)\n",
    "        minimum(evaluate(Levenshtein(), target, word) for word in words)\n",
    "    end\n",
    "end"
   ]
  },
  {
   "cell_type": "code",
   "execution_count": 204,
   "id": "193c527c-b411-49aa-9297-de8657eb39a0",
   "metadata": {},
   "outputs": [
    {
     "data": {
      "text/plain": [
       "SubString{String}[]"
      ]
     },
     "execution_count": 204,
     "metadata": {},
     "output_type": "execute_result"
    }
   ],
   "source": [
    "equivills[\"\"]"
   ]
  },
  {
   "cell_type": "code",
   "execution_count": 64,
   "id": "ebcebf13-fcc4-44d9-8b88-39ac3317e498",
   "metadata": {},
   "outputs": [
    {
     "data": {
      "text/plain": [
       "0.13822894168466524"
      ]
     },
     "execution_count": 64,
     "metadata": {},
     "output_type": "execute_result"
    }
   ],
   "source": [
    "64 / 463"
   ]
  },
  {
   "cell_type": "markdown",
   "id": "4a4380ba-43c6-4b76-8860-7267ee29f59a",
   "metadata": {
    "jp-MarkdownHeadingCollapsed": true,
    "tags": []
   },
   "source": [
    "### 模糊匹配"
   ]
  },
  {
   "cell_type": "code",
   "execution_count": 54,
   "id": "3d69fef8-af67-4a49-9596-c1da2838edd9",
   "metadata": {
    "tags": []
   },
   "outputs": [
    {
     "name": "stdout",
     "output_type": "stream",
     "text": [
      "无解\t路径推理可解\t完全无解\n",
      "[463, 463, 0]\n"
     ]
    }
   ],
   "source": [
    "submit_id = \"pureill3\"\n",
    "sols = split.(strip.(split(strip(read(open(\"predict/predict_data_0708.txt\", \"r\"), String)), '\\n')),'\\t')\n",
    "noans = \"<http://dbpedia.org/resource/Francis_Russell,_Marquess_of_Tavistock>#<http://dbpedia.org/property/parents>#<http://dbpedia.org/resource/John_Russell,_4th_Duke_of_Bedford>#<http://zh.dbpedia.org/resource/第四代贝德福德公爵约翰·罗素>#<http://zh.dbpedia.org/property/successor>#<http://zh.dbpedia.org/resource/丹尼尔·芬奇，第八代温奇尔西伯爵>\";\n",
    "\n",
    "fails = []\n",
    "notgood = []\n",
    "none = String[]\n",
    "open(\"submit/submit_$(submit_id).txt\", \"w\") do io\n",
    "    println(io, \"id\\tans_path\")\n",
    "    for (i, sol) in enumerate(sols)\n",
    "        que, rels = sol[1], sol[3:end]\n",
    "        ner, rawner = ill_valid_ners[i], valid_ques_ner[i][2]\n",
    "        res = precise_submit(ner, rels, edges, dict_triples_rev)\n",
    "        if isempty(res) # 匹配不到答案\n",
    "            push!(fails, [que, rels])\n",
    "            for best in 1:8\n",
    "                res = vague_submit(ner, rels, ill_triples, dict_triples_rev;best=best) # 寻找模糊路径\n",
    "                isempty(res) || break\n",
    "            end\n",
    "            isempty(res) && (push!(none, que); res = [noans])\n",
    "        else\n",
    "            betterres = filter(str->occursin(rawner, str), res)\n",
    "            isempty(betterres) ? push!(notgood, (i, rawner, ner, res)) : (res = betterres)\n",
    "        end\n",
    "        println(io, i-1, '\\t', first(res))\n",
    "    end\n",
    "end\n",
    "println(\"无解\\t路径推理可解\\t完全无解\")\n",
    "println([length(fails), length(fails)-length(none), length(none)])"
   ]
  },
  {
   "cell_type": "code",
   "execution_count": 56,
   "id": "66563d0b-d491-44ff-b335-c20dd1ee609b",
   "metadata": {},
   "outputs": [
    {
     "data": {
      "text/plain": [
       "0.8205882352941177"
      ]
     },
     "execution_count": 56,
     "metadata": {},
     "output_type": "execute_result"
    }
   ],
   "source": [
    "0.5673 * 1500 / (1500-463)"
   ]
  },
  {
   "cell_type": "code",
   "execution_count": 28,
   "id": "49361602-c1b2-4b94-898e-9c95e6de5a35",
   "metadata": {},
   "outputs": [],
   "source": [
    "open(\"nonsol0708.txt\", \"w\") do io\n",
    "    for (que, rels) in fails\n",
    "        println(io, que, '\\t', join(rels, '\\t'))\n",
    "    end\n",
    "end"
   ]
  },
  {
   "cell_type": "code",
   "execution_count": 21,
   "id": "7b5679bb-22a2-44db-be6d-1fe74219dd3f",
   "metadata": {},
   "outputs": [
    {
     "data": {
      "text/plain": [
       "2-element Vector{Any}:\n",
       " \"where is the constituency of th\" ⋯ 26 bytes ⋯ \", a hong kong politician, from?\"\n",
       " SubString{String}[\"alongside\", \"honorificsuffix\"]"
      ]
     },
     "execution_count": 21,
     "metadata": {},
     "output_type": "execute_result"
    }
   ],
   "source": [
    "fails[1]"
   ]
  },
  {
   "cell_type": "markdown",
   "id": "4a3cffa1-8126-45e8-b0a5-40bf118e1326",
   "metadata": {
    "tags": []
   },
   "source": [
    "提交结果分析\n",
    "\n",
    " | ILLs | 准确率 | 完全无解 | 使用路径推理 | 缺二跳(验证集/图谱) | 缺三跳(验证集/图谱) | \n",
    " | ---- | ----- | ----- | ----- | ------ | ---- |\n",
    " | 官方 | 0.3513 |573 | 323 | 156/52268 | 352/67437 | \n",
    " | ILLs2 | | 551 | 221 | 98/47455 | 263/61439 | \n",
    " | ILLs1 | 0.374 | 543 | 210 | 80/44396 | 209/57285 |\n",
    " | ILLs3 | 0.3833 | 535 | 183 | 61/37283 | 137/48256 |\n",
    " | wiki | 0.422 | 478 | 134 | 6/38070 | 103/49921 |\n",
    " | ill3 模型 + wiki 路径| 0.692 | 175 | 12 | - | - |\n",
    " | ill3 模型 + ill3 路径| 0.5673 | 301 | 162 | - | - |\n",
    " | ill3 模型 + ill4 路径| 0.5753 | 260 | 165 | - | - |\n",
    " | wiki 模型 + ill3 路径| 0.612 | - | - |\n",
    " | wiki 模型 + ill4 路径| 0.6193 | 190 | 158 | - | - |\n",
    " | wiki 模型 + wiki 路径| 0.734 | - | - | - | - |\n",
    " | ill4 模型 + ill4 路径| 0.5993 | - | - | - | - |\n"
   ]
  },
  {
   "cell_type": "code",
   "execution_count": 48,
   "id": "aa08fd29-8969-4da9-a6e0-1f7656679b58",
   "metadata": {
    "tags": []
   },
   "outputs": [
    {
     "data": {
      "text/plain": [
       "0.8197976878612717"
      ]
     },
     "execution_count": 48,
     "metadata": {},
     "output_type": "execute_result"
    }
   ],
   "source": [
    "0.5673 * 1500 / (1500-462)"
   ]
  },
  {
   "cell_type": "markdown",
   "id": "604100e4-f443-409a-ba9f-d29a48b2aab3",
   "metadata": {
    "jp-MarkdownHeadingCollapsed": true,
    "tags": []
   },
   "source": [
    "### 测试对齐"
   ]
  },
  {
   "cell_type": "code",
   "execution_count": 7,
   "id": "ac3b2f36-fe6c-4bd4-9c9b-abd5c711b7c0",
   "metadata": {},
   "outputs": [
    {
     "data": {
      "text/plain": [
       "get_rel (generic function with 1 method)"
      ]
     },
     "execution_count": 7,
     "metadata": {},
     "output_type": "execute_result"
    }
   ],
   "source": [
    "include(\"../src/regexpr.jl\")\n",
    "function get_rel(link)\n",
    "    zh = get_txt(zh_rel_reg, link)\n",
    "    dict_rels[isempty(zh) ? get_txt(en_rel_reg, link) : zh]\n",
    "end"
   ]
  },
  {
   "cell_type": "code",
   "execution_count": 8,
   "id": "381d1958-382a-4048-9b0e-51852a6f199a",
   "metadata": {
    "tags": []
   },
   "outputs": [],
   "source": [
    "sols = last.(split.(split(strip(read(open(\"submit_11.txt\", \"r\"), String)), '\\n')[2:end], '\\t'))\n",
    "sols = [sol[2:3:end] for sol in split.(sols, '#')]\n",
    "sols = [get_rel.(sol) for sol in sols];"
   ]
  },
  {
   "cell_type": "code",
   "execution_count": 61,
   "id": "9132dd02-aebf-486c-aba1-0a03c7c3b263",
   "metadata": {},
   "outputs": [
    {
     "data": {
      "text/plain": [
       "(718, 0, 535)"
      ]
     },
     "execution_count": 61,
     "metadata": {},
     "output_type": "execute_result"
    }
   ],
   "source": [
    "submit_id = 21\n",
    "noans = \"<http://dbpedia.org/resource/Francis_Russell,_Marquess_of_Tavistock>#<http://dbpedia.org/property/parents>#<http://dbpedia.org/resource/John_Russell,_4th_Duke_of_Bedford>#<http://zh.dbpedia.org/resource/第四代贝德福德公爵约翰·罗素>#<http://zh.dbpedia.org/property/successor>#<http://zh.dbpedia.org/resource/丹尼尔·芬奇，第八代温奇尔西伯爵>\";\n",
    "\n",
    "fails = String[]\n",
    "notgood = []\n",
    "none = String[]\n",
    "open(\"submit/submit_$(submit_id).txt\", \"w\") do io\n",
    "    println(io, \"id\\tans_path\")\n",
    "    for (i, rels) in enumerate(sols)\n",
    "        que = mt_valid_ques[i]\n",
    "        ner, rawner = ill_valid_ners[i], valid_ques_ner[i][2]\n",
    "        res = precise_submit(ner, rels, edges, dict_triples_rev)\n",
    "        if isempty(res) # 匹配不到答案\n",
    "            push!(fails, que)\n",
    "            res = vague_submit(ner, rels, ill_triples, dict_triples_rev) # 寻找模糊路径\n",
    "            isempty(res) && (push!(none, que); res = [noans])\n",
    "        else\n",
    "            betterres = filter(str->occursin(rawner, str), res)\n",
    "            isempty(betterres) ? push!(notgood, (i, rawner, ner, res)) : (res = betterres)\n",
    "        end\n",
    "        println(io, i-1, '\\t', first(res))\n",
    "    end\n",
    "end\n",
    "length(fails), length(notgood), length(none)"
   ]
  },
  {
   "cell_type": "markdown",
   "id": "26eaddad-90b9-4d10-aad7-f6be959f0ac0",
   "metadata": {
    "tags": []
   },
   "source": [
    "### 对齐程度分析"
   ]
  },
  {
   "cell_type": "code",
   "execution_count": null,
   "id": "bc8d5e9d-ed25-40a9-9f9e-50c13f89f203",
   "metadata": {},
   "outputs": [],
   "source": [
    "# ILLs 3\n",
    "# 535 完全无解 183 路径推理\n",
    "# 训练集\n",
    "# 缺二跳 37283 缺三跳 48256\n",
    "# 验证集\n",
    "# 缺二跳 61 缺三跳 137"
   ]
  },
  {
   "cell_type": "code",
   "execution_count": 16,
   "id": "fee67adc-356b-4c89-b271-57b1e95f9ef8",
   "metadata": {},
   "outputs": [],
   "source": [
    "# wiki ILLs\n",
    "# 478 完全无解 134 路径推理\n",
    "# 训练集\n",
    "# 缺二跳 38070 缺三跳 49921\n",
    "# 验证集\n",
    "# 缺二跳 6 缺三跳 103"
   ]
  },
  {
   "cell_type": "markdown",
   "id": "93ec6647-c6be-4db0-96c1-d744ac01cd28",
   "metadata": {
    "tags": []
   },
   "source": [
    "### 关系抽取"
   ]
  },
  {
   "cell_type": "code",
   "execution_count": 106,
   "id": "a6da26b9-3774-45ad-91b8-c34e9a62c56a",
   "metadata": {
    "collapsed": true,
    "jupyter": {
     "outputs_hidden": true
    },
    "tags": []
   },
   "outputs": [
    {
     "data": {
      "text/plain": [
       "1500-element Vector{String}:\n",
       " \"where is the constituency of th\" ⋯ 26 bytes ⋯ \", a hong kong politician, from?\"\n",
       " \"who is the successor of the parent of NER, an Irish politician?\"\n",
       " \"who is the leader of the administrative region to which NER belongs?\"\n",
       " \"who preceded the parent of NER, an american economist?\"\n",
       " \"which draft team does the autho\" ⋯ 60 bytes ⋯ \"ariq and peter gunz, belong to?\"\n",
       " \"who is before the parent of NER\" ⋯ 54 bytes ⋯ \" minister of india (1889-1964)?\"\n",
       " \"where does the location province of NER, a mine in mongolia, belong to?\"\n",
       " \"who does the origin of NER influence's name?\"\n",
       " \"what is the genre of the author of NER, a song performed by carlos santana?\"\n",
       " \"which title does the parent of NER, an american economist, belong to?\"\n",
       " \"what is the parent mountain of the client of NER?\"\n",
       " \"who did a job before the parent of NER?\"\n",
       " \"what is the type of the people, things and things with the same name as NER?\"\n",
       " ⋮\n",
       " \"do you know what time zone is i\" ⋯ 66 bytes ⋯ \" community of catalonia, spain?\"\n",
       " \"To which party belongs The name of the ship of NER\"\n",
       " \"do you know what type of zoning\" ⋯ 51 bytes ⋯ \"an association football player?\"\n",
       " \"do you know where is the city of The location of Birthplace of NER\"\n",
       " \"what is the level of management\" ⋯ 25 bytes ⋯ \"n, a wikimedia listing article?\"\n",
       " \"who are the NER eponymous affected people\"\n",
       " \"what is the name of the administrative division of the Southeast of NER site\"\n",
       " \"do you know what is the name of\" ⋯ 66 bytes ⋯ \"ican college basketball season?\"\n",
       " \"who is the predecessors of The leader of NER\"\n",
       " \"what is the level of management at Country Capital to which NER belong\"\n",
       " \"what is the level of management\" ⋯ 21 bytes ⋯ \"to Caption, a genus of insects?\"\n",
       " \"what is the level of management at NER's North West Site\""
      ]
     },
     "execution_count": 106,
     "metadata": {},
     "output_type": "execute_result"
    }
   ],
   "source": [
    "for que in mt_valid_ques\n",
    "    nears = top10(que)\n",
    "end"
   ]
  },
  {
   "cell_type": "code",
   "execution_count": 247,
   "id": "17995fc4-ffc2-4b68-b0ae-ad51fc444c03",
   "metadata": {},
   "outputs": [],
   "source": [
    "rel_rules = (\n",
    "    r\"(where|what|who|which|do you know) \" => \" \",\n",
    "    r\" (does|did|does|the|that|is|of) \" => \" \",\n",
    "    r\"^(does|did|does|the|that|is) \" => \" \",\n",
    "    r\", (a|an) .*?[,?]\" => \"\",\n",
    "    r\" {2,}\" => \" \",\n",
    "    # \"belong to\" => \"\",\n",
    "    \"?\" => \"\",\n",
    "    \"NER's\" => \"\",\n",
    "    \"NER\" => \"\"\n",
    ")\n",
    "template_train_ques = String[]\n",
    "for que in mt_train_ques\n",
    "    que = strip(replace(que, rel_rules...))\n",
    "    que = strip(replace(que, rel_rules...))\n",
    "    que = strip(replace(que, rel_rules...))\n",
    "    push!(template_train_ques, que)\n",
    "end\n",
    "\n",
    "template_valid_ques = String[]\n",
    "for que in mt_valid_ques\n",
    "    que = strip(replace(que, rel_rules...))\n",
    "    que = strip(replace(que, rel_rules...))\n",
    "    que = strip(replace(que, rel_rules...))\n",
    "    push!(template_valid_ques, que)\n",
    "end\n",
    "\n",
    "# open(\"template/valid_ques.txt\", \"w\") do io\n",
    "#     # for que in mt_valid_ques\n",
    "    \n",
    "# end"
   ]
  },
  {
   "cell_type": "code",
   "execution_count": 248,
   "id": "4478b37e-bdce-41c6-80b0-f59a307b2775",
   "metadata": {
    "collapsed": true,
    "jupyter": {
     "outputs_hidden": true
    },
    "tags": []
   },
   "outputs": [
    {
     "data": {
      "text/plain": [
       "650-element Vector{String}:\n",
       " \"constituency one alongside from\"\n",
       " \"successor parent\"\n",
       " \"location province belong to\"\n",
       " \"origin influence's name\"\n",
       " \"genre author\"\n",
       " \"title parent belong to\"\n",
       " \"parent mountain client\"\n",
       " \"a job before parent\"\n",
       " \"profession one after election\"\n",
       " \"before commander\"\n",
       " \"a job before one after election\"\n",
       " \"spoken by name included in\"\n",
       " \"married author\"\n",
       " ⋮\n",
       " \"title The winner\"\n",
       " \"level management at Southeast Site\"\n",
       " \"Model Regulation The province located\"\n",
       " \"time zone in East location\"\n",
       " \"nationality Election after\"\n",
       " \"eponymous Alma Mater\"\n",
       " \"administrative center Western County\"\n",
       " \"title Election after\"\n",
       " \"was Election after before\"\n",
       " \"time zone in South spain\"\n",
       " \"are eponymous affected people\"\n",
       " \"predecessors The leader\""
      ]
     },
     "execution_count": 249,
     "metadata": {},
     "output_type": "execute_result"
    }
   ],
   "source": [
    "filter(∈(Set(template_train_ques), template_valid_ques)"
   ]
  },
  {
   "cell_type": "code",
   "execution_count": 224,
   "id": "097eb5f5-622b-45d0-9fd1-41db0c77cbff",
   "metadata": {},
   "outputs": [],
   "source": [
    "txts = []\n",
    "for (i, (que, _, rels...)) in enumerate(mt_train_ques_rels)\n",
    "    newque = strip(replace(que, rel_rules...))\n",
    "    newque = strip(replace(newque, rel_rules...))\n",
    "    newque = strip(replace(newque, rel_rules...))\n",
    "    occursin(\"where\", newque) && (push!(txts, join([newque, '|', rels...], '\\t')))\n",
    "end\n",
    "open(\"template/where.txt\", \"w\") do io\n",
    "    for txt in unique(txts)\n",
    "        println(io, txt)\n",
    "    end\n",
    "end"
   ]
  },
  {
   "cell_type": "code",
   "execution_count": null,
   "id": "cf2d9684-258f-4d93-8a79-4ef6e3b056dc",
   "metadata": {},
   "outputs": [],
   "source": [
    "txt"
   ]
  },
  {
   "cell_type": "code",
   "execution_count": 240,
   "id": "ac62b53a-824c-41d5-a33f-047560dd518f",
   "metadata": {},
   "outputs": [
    {
     "data": {
      "text/plain": [
       "4-element Vector{Vector{SubString{String}}}:\n",
       " [\"what is the leader of NER?\", \"Galactic_Empire_(Star_Wars)\", \"leader\", \"occupation\"]\n",
       " [\"what is the eponym of NER?\", \"Drygalski_(crater)\", \"eponym\", \"occupation\"]\n",
       " [\"what is the eponym of NER?\", \"Agatharchides_(crater)\", \"eponym\", \"occupation\"]\n",
       " [\"what is the singer of NER?\", \"I'm_Talking_with_My_Mouth\", \"extra\", \"occupation\"]"
      ]
     },
     "execution_count": 240,
     "metadata": {},
     "output_type": "execute_result"
    }
   ],
   "source": [
    "mt_train_ques_rels[[93, 223,227, 381]]"
   ]
  },
  {
   "cell_type": "code",
   "execution_count": 244,
   "id": "b206eb0d-97fb-43e0-bd8a-b4c1212ac3d7",
   "metadata": {
    "collapsed": true,
    "jupyter": {
     "outputs_hidden": true
    },
    "tags": []
   },
   "outputs": [
    {
     "name": "stdout",
     "output_type": "stream",
     "text": [
      "what is the leader of NER?\tleader\toccupation\n",
      "what is the eponym of NER?\teponym\toccupation\n",
      "what is the eponym of NER?\teponym\toccupation\n",
      "what is the singer of NER?\textra\toccupation\n",
      "what is the singer of NER, an album by alexz johnson?\textra\toccupation\n",
      "what is the singer of NER, a 2014 animated film by phil lord and chris miller?\textra\tprofession\n",
      "what is the parent of NER, a hong kong banker and politician?\tparents\toccupation\n",
      "what is the parent of NER, a hong kong businessman?\tparents\toccupation\n",
      "what is the parent of NER, an american businessman and diplomat (1914-1993)?\tparents\toccupation\n",
      "what is the author of NER?\tchronology\tprofession\n",
      "what is the author of NER?\tchronology\tprofession\n",
      "what is the author of NER, an album by vixx?\tchronology\tprofession\n",
      "what is the author of NER?\tchronology\tprofession\n",
      "what is the client of NER, a villa?\tclient\toccupation\n",
      "what is the author of NER, a live album?\tchronology\toccupation\n",
      "what is the author of NER?\tchronology\toccupation\n",
      "what is the author of NER, an album by art garfunkel?\tchronology\toccupation\n",
      "what is the author of NER?\tchronology\toccupation\n",
      "what is the author of NER?\tchronology\toccupation\n",
      "what is the author of NER, an album by kenny clarke/francy boland big band?\tchronology\toccupation\n",
      "who is the leader of NER, a fascist regime in romania?\tleader\tmonarch\n",
      "who is the leader of NER, a spanish author (1893-1936)?\tleader\tmonarch\n",
      "who is the sponsor of NER?\tsponsor\tartist\n",
      "who is the sponsor of NER?\tsponsor\tproducer\n",
      "where is the mayor of NER\tchieftown\tcanton\n",
      "where is the NER incident\tevent\tlocation\n",
      "who is the sponsor of NER?\tsponsor\tsuccessor\n",
      "where is the mayor of NER\tchieftown\tcanton\n",
      "who is the descendant of NER?\tissue\tsuccessor\n",
      "who is the creator of NER?\tchronology\tartist\n",
      "who is the descendant of NER?\tissue\tsuccessor\n",
      "who is the sponsor of NER?\tsponsor\tdirector\n",
      "who is the descendant of NER?\tissue\tsuccessor\n",
      "where is the mayor of NER\tchieftown\tcanton\n",
      "who is the leader of NER?\tleader\tafter\n",
      "where is the mayor of NER\tchieftown\tcanton\n",
      "where is the mayor of NER\tchieftown\tcanton\n",
      "who is the sponsor of NER?\tsponsor\tartist\n",
      "who is the creator of NER?\tchronology\tafter\n",
      "who is the sponsor of NER?\tsponsor\tdirector\n",
      "where is NER's team?\tteam\tground\n",
      "where is the subject of NER\ttheme\tlocation\n",
      "where is NER's team?\tteam\tground\n",
      "who is the descendant of NER?\tissue\tafter\n",
      "who is the leader of NER?\tleader\tsuccessor\n",
      "where is the mayor of NER\tchieftown\tcanton\n",
      "where is the theme of NER\ttheme\tlocation\n",
      "who is the chairman of NER, an award granted by the royal society of edinburgh?\tsponsor\tpresident\n",
      "do you know where is the manager of NER, a basketball team?\tsponsor\tlocation\n",
      "do you know where is the manager of NER, a basketball team?\tsponsor\tlocation\n",
      "do you know where is the eponym of NER, a catena on mercury?\teponym\tlocation\n",
      "do you know where the name of NER, an effects of a tropical cyclone in honduras was?\tname\tareas\n",
      "do you know where is the NER name\tname\tlocation\n"
     ]
    },
    {
     "data": {
      "text/plain": [
       "Any[]"
      ]
     },
     "execution_count": 244,
     "metadata": {},
     "output_type": "execute_result"
    }
   ],
   "source": [
    "mysols = []\n",
    "for (i, que) in enumerate(template_ques)\n",
    "    word = split(que)\n",
    "    length(word) == 1 && println(join(mt_train_ques_rels[i][[1,3:end...]], '\\t'))\n",
    "    # length(word) == 1 && push!(mysols, [i, word])\n",
    "    # length(word) == 2 && push!(mysols, [i, word])\n",
    "end\n",
    "mysols"
   ]
  },
  {
   "cell_type": "code",
   "execution_count": 231,
   "id": "59c99ad0-47fc-4cd5-9b53-c1c371bc2ac0",
   "metadata": {},
   "outputs": [
    {
     "data": {
      "text/plain": [
       "4-element Vector{Vector{SubString{String}}}:\n",
       " [\"where is the NER incident\", \"Weimar_Republic\", \"event\", \"location\"]\n",
       " [\"where is NER's team?\", \"Holsten-Deutschland-Cup\", \"team\", \"ground\"]\n",
       " [\"who is the producer of the creator of Danny Elfman's compilation album NER?\", \"Nightmare_Revisited\", \"chronology\", \"producer\"]\n",
       " [\"do you know where is the NER name\", \"List_of_administrative_divisions_of_Ili\", \"name\", \"location\"]"
      ]
     },
     "execution_count": 231,
     "metadata": {},
     "output_type": "execute_result"
    }
   ],
   "source": [
    "mt_train_ques_rels[[5808, 7670, 7929, 12689]]"
   ]
  },
  {
   "cell_type": "code",
   "execution_count": 125,
   "id": "d4fc0218-bfaf-4d4b-bfbe-3b5cfed30d14",
   "metadata": {},
   "outputs": [
    {
     "data": {
      "text/plain": [
       "RegexMatch(\"constituency of one\", 1=\"constituency\", 2=\"one\")"
      ]
     },
     "execution_count": 125,
     "metadata": {},
     "output_type": "execute_result"
    }
   ],
   "source": [
    "match(r\"(\\w*) of (\\w*)\", template_ques[1])"
   ]
  },
  {
   "cell_type": "code",
   "execution_count": 139,
   "id": "c62402fc-983c-4772-84fc-bfb5438fcc5b",
   "metadata": {
    "collapsed": true,
    "jupyter": {
     "outputs_hidden": true
    },
    "tags": []
   },
   "outputs": [
    {
     "data": {
      "text/plain": [
       "1137-element Vector{Union{Nothing, RegexMatch}}:\n",
       " RegexMatch(\"constituency of one alongside\", 1=\"constituency \", 2=\" one alongside\")\n",
       " RegexMatch(\"successor of parent of\", 1=\"successor of parent \", 2=\"\")\n",
       " RegexMatch(\"leader of administrative region to belongs\", 1=\"leader \", 2=\" administrative region to belongs\")\n",
       " RegexMatch(\"preceded parent of\", 1=\"preceded parent \", 2=\"\")\n",
       " RegexMatch(\"draft team author of\", 1=\"draft team author \", 2=\"\")\n",
       " RegexMatch(\"before parent of\", 1=\"before parent \", 2=\"\")\n",
       " RegexMatch(\"location province of\", 1=\"location province \", 2=\"\")\n",
       " RegexMatch(\"origin of influence's name\", 1=\"origin \", 2=\" influence's name\")\n",
       " RegexMatch(\"genre of author of\", 1=\"genre of author \", 2=\"\")\n",
       " RegexMatch(\"title parent of\", 1=\"title parent \", 2=\"\")\n",
       " RegexMatch(\"parent mountain of client of\", 1=\"parent mountain of client \", 2=\"\")\n",
       " RegexMatch(\"a job before parent of\", 1=\"a job before parent \", 2=\"\")\n",
       " RegexMatch(\"type of people, things and things with same name as\", 1=\"type \", 2=\" people, things and things with same name as\")\n",
       " ⋮\n",
       " RegexMatch(\"party belongs to The life of The stadium took place\", 1=\"party belongs to The life \", 2=\" The stadium took place\")\n",
       " RegexMatch(\"time zone in South of\", 1=\"time zone in South \", 2=\"\")\n",
       " RegexMatch(\"To party belongs The name of ship of\", 1=\"To party belongs The name of ship \", 2=\"\")\n",
       " RegexMatch(\"type of zoning at National team location of\", 1=\"type of zoning at National team location \", 2=\"\")\n",
       " RegexMatch(\"city of The location of Birthplace of\", 1=\"city of The location of Birthplace \", 2=\"\")\n",
       " RegexMatch(\"level of management at West of 's location\", 1=\"level of management at West \", 2=\" 's location\")\n",
       " RegexMatch(\"name of administrative division of Southeast of site\", 1=\"name of administrative division of Southeast \", 2=\" site\")\n",
       " RegexMatch(\"name of administrative district of The Northwest Site of\", 1=\"name of administrative district of The Northwest Site \", 2=\"\")\n",
       " RegexMatch(\"predecessors of The leader of\", 1=\"predecessors of The leader \", 2=\"\")\n",
       " RegexMatch(\"level of management at Country Capital to belong\", 1=\"level \", 2=\" management at Country Capital to belong\")\n",
       " RegexMatch(\"level of management at 's West of Photo Caption\", 1=\"level of management at 's West \", 2=\" Photo Caption\")\n",
       " RegexMatch(\"level of management at 's North West Site\", 1=\"level \", 2=\" management at 's North West Site\")"
      ]
     },
     "execution_count": 139,
     "metadata": {},
     "output_type": "execute_result"
    }
   ],
   "source": [
    "filter(!isnothing, match.(r\"^(.*)of(.*)$\", template_ques))"
   ]
  },
  {
   "cell_type": "code",
   "execution_count": 138,
   "id": "a79e30d8-a0be-4383-bd6e-02730f29da44",
   "metadata": {
    "tags": []
   },
   "outputs": [
    {
     "data": {
      "text/plain": [
       "485-element Vector{Union{Nothing, RegexMatch}}:\n",
       " RegexMatch(\"successor of parent of\", 1=\"successor \", 2=\" parent \", 3=\"\")\n",
       " RegexMatch(\"genre of author of\", 1=\"genre \", 2=\" author \", 3=\"\")\n",
       " RegexMatch(\"parent mountain of client of\", 1=\"parent mountain \", 2=\" client \", 3=\"\")\n",
       " RegexMatch(\"profession of one after election of\", 1=\"profession \", 2=\" one after election \", 3=\"\")\n",
       " RegexMatch(\"one known as prime minister of one after election of\", 1=\"one known as prime minister \", 2=\" one after election \", 3=\"\")\n",
       " RegexMatch(\"headquarters of combatant of\", 1=\"headquarters \", 2=\" combatant \", 3=\"\")\n",
       " RegexMatch(\"title of eponym of\", 1=\"title \", 2=\" eponym \", 3=\"\")\n",
       " RegexMatch(\"leader of combatant of\", 1=\"leader \", 2=\" combatant \", 3=\"\")\n",
       " RegexMatch(\"house of commander of\", 1=\"house \", 2=\" commander \", 3=\"\")\n",
       " RegexMatch(\"successor of leader of\", 1=\"successor \", 2=\" leader \", 3=\"\")\n",
       " RegexMatch(\"location of alma mater of\", 1=\"location \", 2=\" alma mater \", 3=\"\")\n",
       " RegexMatch(\"succession of commander of\", 1=\"succession \", 2=\" commander \", 3=\"\")\n",
       " RegexMatch(\"region of location province of\", 1=\"region \", 2=\" location province \", 3=\"\")\n",
       " ⋮\n",
       " RegexMatch(\"address of The operator of The stadium took place\", 1=\"address \", 2=\" The operator \", 3=\" The stadium took place\")\n",
       " RegexMatch(\"predecessor of Inaugural speech of The title of\", 1=\"predecessor of Inaugural speech \", 2=\" The title \", 3=\"\")\n",
       " RegexMatch(\"are products of The owner of 's club\", 1=\"are products \", 2=\" The owner \", 3=\" 's club\")\n",
       " RegexMatch(\"name of administrative district of The North of Millionaires\", 1=\"name of administrative district \", 2=\" The North \", 3=\" Millionaires\")\n",
       " RegexMatch(\"To party belongs The name of ship of\", 1=\"To party belongs The name \", 2=\" ship \", 3=\"\")\n",
       " RegexMatch(\"type of zoning at National team location of\", 1=\"type \", 2=\" zoning at National team location \", 3=\"\")\n",
       " RegexMatch(\"city of The location of Birthplace of\", 1=\"city of The location \", 2=\" Birthplace \", 3=\"\")\n",
       " RegexMatch(\"level of management at West of 's location\", 1=\"level \", 2=\" management at West \", 3=\" 's location\")\n",
       " RegexMatch(\"name of administrative division of Southeast of site\", 1=\"name of administrative division \", 2=\" Southeast \", 3=\" site\")\n",
       " RegexMatch(\"name of administrative district of The Northwest Site of\", 1=\"name of administrative district \", 2=\" The Northwest Site \", 3=\"\")\n",
       " RegexMatch(\"predecessors of The leader of\", 1=\"predecessors \", 2=\" The leader \", 3=\"\")\n",
       " RegexMatch(\"level of management at 's West of Photo Caption\", 1=\"level \", 2=\" management at 's West \", 3=\" Photo Caption\")"
      ]
     },
     "execution_count": 138,
     "metadata": {},
     "output_type": "execute_result"
    }
   ],
   "source": [
    "filter(!isnothing, match.(r\"^(.*)of(.*)of(.*)$\", template_ques))"
   ]
  },
  {
   "cell_type": "code",
   "execution_count": 136,
   "id": "7c78565f-3143-4df7-8563-1b5760e228b1",
   "metadata": {},
   "outputs": [
    {
     "data": {
      "text/plain": [
       "11-element Vector{Union{Nothing, RegexMatch}}:\n",
       " RegexMatch(\"legislature of country of birth of\", 1=\"legislature\", 2=\"country\", 3=\"birth\")\n",
       " RegexMatch(\"source of information of combatant of\", 1=\"source\", 2=\"information\", 3=\"combatant\")\n",
       " RegexMatch(\"timezong of east of south of\", 1=\"timezong\", 2=\"east\", 3=\"south\")\n",
       " RegexMatch(\"timezong of east of south of\", 1=\"timezong\", 2=\"east\", 3=\"south\")\n",
       " RegexMatch(\"deathpalce of successor of descendant of\", 1=\"deathpalce\", 2=\"successor\", 3=\"descendant\")\n",
       " RegexMatch(\"timezong of west of location of\", 1=\"timezong\", 2=\"west\", 3=\"location\")\n",
       " RegexMatch(\"title of consort of ruler of\", 1=\"title\", 2=\"consort\", 3=\"ruler\")\n",
       " RegexMatch(\"successor of successor of descendants of\", 1=\"successor\", 2=\"successor\", 3=\"descendants\")\n",
       " RegexMatch(\"successor of successor of descendants of\", 1=\"successor\", 2=\"successor\", 3=\"descendants\")\n",
       " RegexMatch(\"form of title of venue of\", 1=\"form\", 2=\"title\", 3=\"venue\")\n",
       " RegexMatch(\"father of ruler of descendants of\", 1=\"father\", 2=\"ruler\", 3=\"descendants\")"
      ]
     },
     "execution_count": 136,
     "metadata": {},
     "output_type": "execute_result"
    }
   ],
   "source": [
    "filter(!isnothing, match.(r\"^(\\w*) of (\\w*) of (\\w*) of$\", template_ques))"
   ]
  },
  {
   "cell_type": "code",
   "execution_count": 95,
   "id": "6886ec5b-1f03-403d-81b2-fe3566909cc5",
   "metadata": {},
   "outputs": [
    {
     "data": {
      "text/plain": [
       "(::Base.Fix1{typeof(nearby), Vector{String}}) (generic function with 1 method)"
      ]
     },
     "execution_count": 95,
     "metadata": {},
     "output_type": "execute_result"
    }
   ],
   "source": [
    "\"匹配最近 10 个问题\"\n",
    "templates = unique(mt_train_ques)\n",
    "top10 = nearby(templates)"
   ]
  }
 ],
 "metadata": {
  "kernelspec": {
   "display_name": "Julia 1.7.2",
   "language": "julia",
   "name": "julia-1.7"
  },
  "language_info": {
   "file_extension": ".jl",
   "mimetype": "application/julia",
   "name": "julia",
   "version": "1.7.2"
  }
 },
 "nbformat": 4,
 "nbformat_minor": 5
}
