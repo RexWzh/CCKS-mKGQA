{
 "cells": [
  {
   "cell_type": "markdown",
   "id": "f45af22f-ebc4-4733-89e9-557d64260d1f",
   "metadata": {
    "tags": []
   },
   "source": [
    "## 路径还原"
   ]
  },
  {
   "cell_type": "markdown",
   "id": "8f04227b-cf50-4423-8423-d2e363350641",
   "metadata": {},
   "source": [
    "注：存在 86 个重复三元组，提交不知道会不会遇到这些情形\n",
    "- 比如假设 triple1 即为 en 也为 zh，那么\n",
    "- en -> zh -> en 和 zh -> zh -> en 都将作为答案"
   ]
  },
  {
   "cell_type": "code",
   "execution_count": 1,
   "id": "68dc088e-7472-4dad-a09d-daf731f10930",
   "metadata": {
    "tags": []
   },
   "outputs": [
    {
     "data": {
      "text/plain": [
       "valid_path"
      ]
     },
     "execution_count": 1,
     "metadata": {},
     "output_type": "execute_result"
    }
   ],
   "source": [
    "include(\"../src/CCKS-mKGQA.jl\")\n",
    "include(\"../src/extractdata.jl\")\n",
    "include(\"../src/translatedata.jl\")\n",
    "include(\"../src/ettalign.jl\")\n",
    "# include(\"../src/deduction.jl\")\n",
    "include(\"../src/submitpath.jl\")\n",
    "# mkpath(\"submit\")"
   ]
  },
  {
   "cell_type": "markdown",
   "id": "d7397895-3f69-42d4-adbc-92f13b106d9a",
   "metadata": {},
   "source": [
    "### 初始化"
   ]
  },
  {
   "cell_type": "code",
   "execution_count": 2,
   "id": "dfd582c2-47b0-447c-94cd-9ef4ab7586dd",
   "metadata": {},
   "outputs": [],
   "source": [
    "filepath = \"ILLs_2\"\n",
    "newILLs = readtuples(\"EA_data/$filepath/ETT_Pairs.txt\"; size=2)\n",
    "filter!(i->i[1] != \"Gregoire_Kayibanda\", newILLs);"
   ]
  },
  {
   "cell_type": "markdown",
   "id": "13d9a817-d221-4305-b7bc-92b4bc7f3af8",
   "metadata": {
    "tags": []
   },
   "source": [
    "### 翻译和构建"
   ]
  },
  {
   "cell_type": "code",
   "execution_count": 3,
   "id": "ad8416ad-a743-4ce1-8b74-44f786c49720",
   "metadata": {},
   "outputs": [
    {
     "name": "stdout",
     "output_type": "stream",
     "text": [
      "重复元组的信息\n"
     ]
    },
    {
     "data": {
      "text/plain": [
       "OrderedDict{Int64, Int64} with 4 entries:\n",
       "  1 => 255733\n",
       "  2 => 5823\n",
       "  3 => 30\n",
       "  4 => 4"
      ]
     },
     "execution_count": 3,
     "metadata": {},
     "output_type": "execute_result"
    }
   ],
   "source": [
    "# ILLs 单词翻译\n",
    "mt_newILLs = [getindex.(Ref(dict_words), pair) for pair in newILLs]\n",
    "filter!(i->i[1]!=i[2], unique!(mt_newILLs))\n",
    "dict_ILLs = ill2dict(mt_newILLs)\n",
    "ill_valid_ners = [get(dict_ILLs, ner, ner) for ner in last.(mt_valid_ques_ner)]\n",
    "\n",
    "# ILLs 元组翻译\n",
    "triple_byills(triple) = triple_byills(triple...)\n",
    "triple_byills(sub, rel, obj) = (get(dict_ILLs, sub, sub), rel, get(dict_ILLs, obj, obj))\n",
    "triple_raw2ill(triple...) = triple_byills(triple_byMT(triple...))\n",
    "ill_triples = triple_raw2ill.(triples)\n",
    "\n",
    "# 构建边集\n",
    "edges = DefaultDict{String, Vector{Tuple}}(Vector{Tuple})\n",
    "for (sub, rel, obj) in ill_triples\n",
    "    push!(edges[sub], (rel, obj))\n",
    "end\n",
    "\n",
    "# 元组逆向\n",
    "f(raw_triple) = String.(triple_raw2ill(raw_triple[2:end]))\n",
    "raw_triples = vcat(tuplejoin.(Ref((\"zh\",)), zh_triples), tuplejoin.(Ref((\"en\",)), en_triples))\n",
    "elt1, elt2 = eltype(raw_triples), typeof(f(raw_triples[1]))\n",
    "dict_triples_rev = DefaultDict{elt2, Vector{elt1}}(Vector{elt1})\n",
    "for triple in raw_triples\n",
    "    push!(dict_triples_rev[f(triple)], triple)\n",
    "end\n",
    "println(\"重复元组的信息\")\n",
    "sort_count(length.(values(dict_triples_rev)))"
   ]
  },
  {
   "cell_type": "markdown",
   "id": "4d98fee7-83a0-47af-abfb-db1bcf73cc1b",
   "metadata": {},
   "source": [
    "### 提交解答"
   ]
  },
  {
   "cell_type": "markdown",
   "id": "21442162-69ac-4c10-b5f6-8d521dec1632",
   "metadata": {},
   "source": [
    "#### 精确匹配"
   ]
  },
  {
   "cell_type": "code",
   "execution_count": 45,
   "id": "4162ba6d-8a42-4b4d-95c6-2b63c537b798",
   "metadata": {},
   "outputs": [
    {
     "data": {
      "text/plain": [
       "precise_submit (generic function with 1 method)"
      ]
     },
     "execution_count": 45,
     "metadata": {},
     "output_type": "execute_result"
    }
   ],
   "source": [
    "\"\"\"提交精确匹配\"\"\"\n",
    "precise_submit(ner, rels, edges, dict) = submit_format.(\n",
    "    vcat(valid_path.(find_paths(ner, rels, edges), Ref(dict))...))\n",
    "# function precise_submit(ner, rels, edges, dict)\n",
    "#     res = String[]\n",
    "#     for path in find_paths(ner, rels, edges)\n",
    "#         for rawpath in valid_path(path, dict)\n",
    "#             push!(res, submit_format(rawpath))\n",
    "#         end\n",
    "#     end\n",
    "#     res\n",
    "# end"
   ]
  },
  {
   "cell_type": "code",
   "execution_count": 49,
   "id": "1bbeee73-1cc5-4930-8cf5-04c3e23cc3c9",
   "metadata": {
    "tags": []
   },
   "outputs": [
    {
     "data": {
      "text/plain": [
       "(667, 1)"
      ]
     },
     "execution_count": 49,
     "metadata": {},
     "output_type": "execute_result"
    }
   ],
   "source": [
    "submit_id = 17\n",
    "sols = split.(strip.(split(strip(read(open(\"predict/predict_data_2.txt\", \"r\"), String)), '\\n')),'\\t')\n",
    "noans = \"<http://dbpedia.org/resource/Francis_Russell,_Marquess_of_Tavistock>#<http://dbpedia.org/property/parents>#<http://dbpedia.org/resource/John_Russell,_4th_Duke_of_Bedford>#<http://zh.dbpedia.org/resource/第四代贝德福德公爵约翰·罗素>#<http://zh.dbpedia.org/property/successor>#<http://zh.dbpedia.org/resource/丹尼尔·芬奇，第八代温奇尔西伯爵>\";\n",
    "\n",
    "fails = String[]\n",
    "notgood = []\n",
    "open(\"submit/submit_$(submit_id).txt\", \"w\") do io\n",
    "    println(io, \"id\\tans_path\")\n",
    "    for (i, sol) in enumerate(sols)\n",
    "        que, rels = sol[1], sol[3:end]\n",
    "        ner, rawner = ill_valid_ners[i], valid_ques_ner[i][2]\n",
    "        res = precise_submit(ner, rels, edges, dict_triples_rev)\n",
    "        if isempty(res)\n",
    "            push!(fails, que)\n",
    "            println(io, i-1, '\\t', noans)\n",
    "        else\n",
    "            betterres = filter(str->occursin(rawner, str), res)\n",
    "            isempty(betterres) ? push!(notgood, (i, rawner, ner, res)) : (res = betterres)\n",
    "            println(io, i-1, '\\t', first(res))\n",
    "        end\n",
    "    end\n",
    "end\n",
    "length(fails), length(notgood)"
   ]
  },
  {
   "cell_type": "markdown",
   "id": "4a4380ba-43c6-4b76-8860-7267ee29f59a",
   "metadata": {},
   "source": [
    "#### 模糊匹配"
   ]
  },
  {
   "cell_type": "code",
   "execution_count": null,
   "id": "e4f4873a-a230-4222-9834-04d25e6f3871",
   "metadata": {},
   "outputs": [],
   "source": [
    "submit_id = 17\n",
    "sols = split.(strip.(split(strip(read(open(\"predict/predict_data_2.txt\", \"r\"), String)), '\\n')),'\\t')\n",
    "noans = \"<http://dbpedia.org/resource/Francis_Russell,_Marquess_of_Tavistock>#<http://dbpedia.org/property/parents>#<http://dbpedia.org/resource/John_Russell,_4th_Duke_of_Bedford>#<http://zh.dbpedia.org/resource/第四代贝德福德公爵约翰·罗素>#<http://zh.dbpedia.org/property/successor>#<http://zh.dbpedia.org/resource/丹尼尔·芬奇，第八代温奇尔西伯爵>\";\n",
    "\n",
    "fails = String[]\n",
    "notgood = []\n",
    "open(\"submit/submit_$(submit_id).txt\", \"w\") do io\n",
    "    println(io, \"id\\tans_path\")\n",
    "    for (i, sol) in enumerate(sols)\n",
    "        que, rels = sol[1], sol[3:end]\n",
    "        ner, rawner = ill_valid_ners[i], valid_ques_ner[i][2]\n",
    "        res = precise_submit(ner, rels, edges, dict_triples_rev)\n",
    "        if isempty(res)\n",
    "            push!(fails, que)\n",
    "            println(io, i-1, '\\t', noans)\n",
    "        else\n",
    "            betterres = filter(str->occursin(rawner, str), res)\n",
    "            isempty(betterres) ? push!(notgood, (i, rawner, ner, res)) : (res = betterres)\n",
    "            println(io, i-1, '\\t', first(res))\n",
    "        end\n",
    "    end\n",
    "end\n",
    "length(fails), length(notgood)"
   ]
  },
  {
   "cell_type": "code",
   "execution_count": null,
   "id": "4b7f8c42-5de1-47ea-b5dc-14f127305533",
   "metadata": {},
   "outputs": [],
   "source": []
  }
 ],
 "metadata": {
  "kernelspec": {
   "display_name": "Julia 1.7.2",
   "language": "julia",
   "name": "julia-1.7"
  },
  "language_info": {
   "file_extension": ".jl",
   "mimetype": "application/julia",
   "name": "julia",
   "version": "1.7.2"
  }
 },
 "nbformat": 4,
 "nbformat_minor": 5
}
