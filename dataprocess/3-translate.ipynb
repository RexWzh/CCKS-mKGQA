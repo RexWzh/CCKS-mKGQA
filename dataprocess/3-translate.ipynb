{
 "cells": [
  {
   "cell_type": "markdown",
   "id": "bf1b80db-2c24-4a04-888d-d28177c1ff94",
   "metadata": {
    "tags": []
   },
   "source": [
    "# 知识图谱与问题翻译\n",
    "概要/说明：\n",
    "    - 翻译文件放在 `translate/`，翻译过程的交互文件放在 `excel_data/`\n",
    "    - Julia 中输入 `include(\"translatedata.jl\")` 导入翻译后的数据\n",
    "\n",
    "主要内容：\n",
    "- 翻译准备工作\n",
    "    - 尝试了 Tensor2Tensor 的预训练模型，但官方文档只找到 `德文=>英文` 现成的工具，数据和调参不会弄（弃用）\n",
    "    - 谷歌翻译支持 API 调用，但官方 API 需付费，而 GitHub 第三方编写的 API 不稳定（弃用）\n",
    "    - 最后使用谷歌提供的文档翻译功能（免费，但仅支持 pdf, excel 等，不支持 txt 文本）\n",
    "    - 其中 PDF 翻译容易产生排版错位，所以决定用 Excel 进行数据交互\n",
    "    - Excel 相关函数代码参见 `../src/xlsx.jl`\n",
    "- 翻译知识图谱\n",
    "    - 用官方提供的 ILLs 文件将中文三元组转化到英文三元组中\n",
    "    - 将英文三元组以及对齐后的中文三元组写入 Excel 文件，并进行翻译\n",
    "    - 读入翻译后的 Excel 文件，微调格式(统一小写等)\n",
    "    - 将中英文结果合并去重，写入 `translate/`\n",
    "- 翻译训练集和验证集\n",
    "    - 由于谷歌翻译一次只能将处理一种语言，我们将问题分 `英法` 和 `汉语` 两类进行翻译\n",
    "    - 为避免命名实体在翻译后丢失，我们先将实体名替换为 NER 再做翻译工作\n",
    "    - 替换也利于区分语言，我们通过字符编码模式区分两类问题，分别进行翻译\n",
    "    - 训练集翻译和提取结果放在 `translate/`\n",
    "- 相关说明\n",
    "    - 处理图谱和问题的函数代码放在 `../src/translate.jl` 文件下\n",
    "    - 后续计算发现，即使先对齐再翻译，还是有少量对齐结果被破坏，比如\n",
    "    ```jl\n",
    "    emperor_go-mizunoo => emperor_go - mizunoo # 空格\n",
    "    克里特埃米爾國 => emirate_of_crete => emirates_of_crete # 单复数\n",
    "    ```\n",
    "\n",
    "> 由于 ILLs 不足以提供所有的对齐关系，实体翻译还会进一步处理"
   ]
  },
  {
   "cell_type": "code",
   "execution_count": 15,
   "id": "ffbeac11-84c1-4cd3-8f3d-c84013568819",
   "metadata": {
    "tags": []
   },
   "outputs": [
    {
     "data": {
      "text/plain": [
       "2-element Vector{String}:\n",
       " \"excel_data\"\n",
       " \"translate\""
      ]
     },
     "execution_count": 15,
     "metadata": {},
     "output_type": "execute_result"
    }
   ],
   "source": [
    "include(\"../src/xlsx.jl\")\n",
    "include(\"../src/extractdata.jl\")\n",
    "include(\"../src/translate.jl\")\n",
    "mkpath.([\"excel_data\", \"translate\"])"
   ]
  },
  {
   "cell_type": "markdown",
   "id": "1a6e078d-0ef3-4517-b7b5-d6d734a83d39",
   "metadata": {
    "tags": []
   },
   "source": [
    "### 实体对齐"
   ]
  },
  {
   "cell_type": "code",
   "execution_count": 16,
   "id": "134e630e-a996-4ff5-98c3-54ce310707d6",
   "metadata": {
    "collapsed": true,
    "jupyter": {
     "outputs_hidden": true
    },
    "tags": []
   },
   "outputs": [
    {
     "data": {
      "text/plain": [
       "104941-element Vector{Tuple{String, String, String}}:\n",
       " (\"Sichuan\", \"capital\", \"成都市\")\n",
       " (\"Sichuan\", \"西北\", \"青海\")\n",
       " (\"Sichuan\", \"北\", \"甘肃\")\n",
       " (\"Sichuan\", \"東北\", \"陕西\")\n",
       " (\"Sichuan\", \"西\", \"西藏\")\n",
       " (\"Sichuan\", \"東\", \"重庆\")\n",
       " (\"Sichuan\", \"南\", \"云南\")\n",
       " (\"Faye_Wong\", \"語言\", \"國語\")\n",
       " (\"Faye_Wong\", \"語言\", \"粤語\")\n",
       " (\"Faye_Wong\", \"語言\", \"英語\")\n",
       " (\"Faye_Wong\", \"配偶\", \"竇唯\")\n",
       " (\"Faye_Wong\", \"配偶\", \"李亞鵬\")\n",
       " (\"袁世凯\", \"monarch\", \"宣統帝\")\n",
       " ⋮\n",
       " (\"古特曼·贝拉\", \"managerclubs\", \"沃绍什体育俱乐部\")\n",
       " (\"港區_(東京都)\", \"自治體\", \"品川區\")\n",
       " (\"卡伦顿战役\", \"result\", \"詹姆斯党\")\n",
       " (\"演播时刻\", \"network\", \"英國廣播公司第二台\")\n",
       " (\"亚当·博格丹\", \"nationalteam\", \"Hungary_national_under-21_football_team\")\n",
       " (\"江陵之战_(208年)\", \"combatant\", \"孙权\")\n",
       " (\"江陵之战_(208年)\", \"commander\", \"曹仁\")\n",
       " (\"闲山岛海战\", \"commander\", \"九鬼嘉隆\")\n",
       " (\"Kyodo_Television\", \"majorShareholder\", \"關西電視台\")\n",
       " (\"稻生之戰\", \"place\", \"尾張國\")\n",
       " (\"阿利安薩石油\", \"league\", \"哥倫比亞足球甲級聯賽\")\n",
       " (\"長島一向一揆\", \"partof\", \"石山合戰\")"
      ]
     },
     "execution_count": 16,
     "metadata": {},
     "output_type": "execute_result"
    }
   ],
   "source": [
    "# 实体对齐合并\n",
    "\"用 ILLs 翻译实体和关系\"\n",
    "zh2en_byILLs(st::String) = haskey(ILLs_zh_en, st) ? ILLs_zh_en[st] : st\n",
    "zh2en_byILLs(triple::Tuple) = zh2en_byILLs.(triple)\n",
    "zh_triples_byILLs = zh2en_byILLs.(zh_triples)"
   ]
  },
  {
   "cell_type": "markdown",
   "id": "9046f513-4d84-4a83-ad6e-b04df8a64be7",
   "metadata": {
    "tags": []
   },
   "source": [
    "### 知识图谱翻译"
   ]
  },
  {
   "cell_type": "code",
   "execution_count": 18,
   "id": "bdd1871a-b492-47e3-8d65-c40800ec6430",
   "metadata": {
    "tags": []
   },
   "outputs": [
    {
     "data": {
      "text/plain": [
       "1904"
      ]
     },
     "execution_count": 18,
     "metadata": {},
     "output_type": "execute_result"
    }
   ],
   "source": [
    "# 写入对齐文件\n",
    "# write_excel_triple(zh_triples_byILLs, \"excel_data/triples/triple_zh.xlsx\")\n",
    "\n",
    "# 谷歌翻译后 => 读取翻译文件\n",
    "zh_triples_MT = read_excel_triple(\"excel_data/triples/triple_zh.xlsx\")\n",
    "zh_triples_lower = [lowercase.(triple) for triple in zh_triples_MT]\n",
    "en_triples_lower = [lowercase.(triple) for triple in en_triples]\n",
    "\n",
    "# 合并三元组（重复个数 1904 个）\n",
    "triples = vcat(en_triples_lower, zh_triples_lower)\n",
    "length(en_triples) + length(zh_triples) - length(unique!(triples))"
   ]
  },
  {
   "cell_type": "code",
   "execution_count": 19,
   "id": "0ef49259-069f-4d8b-bf0c-d09a84e5ac10",
   "metadata": {},
   "outputs": [],
   "source": [
    "# 写入文件\n",
    "open(\"translate/triple_zh_lower.txt\", \"w\") do io\n",
    "    for triple in zh_triples_lower\n",
    "        println(io, join(triple, '\\t'))\n",
    "    end\n",
    "end\n",
    "\n",
    "open(\"translate/triple_en_lower.txt\", \"w\") do io\n",
    "    for triple in en_triples_lower\n",
    "        println(io, join(triple, '\\t'))\n",
    "    end\n",
    "end\n",
    "\n",
    "open(\"translate/triples.txt\", \"w\") do io\n",
    "    for triple in triples\n",
    "        println(io, join(triple, '\\t'))\n",
    "    end\n",
    "end"
   ]
  },
  {
   "cell_type": "markdown",
   "id": "d91ba699-9ad7-4297-ba77-6762369ee5a0",
   "metadata": {
    "tags": []
   },
   "source": [
    "### 训练集翻译"
   ]
  },
  {
   "cell_type": "code",
   "execution_count": 6,
   "id": "afc4b6c1-6414-4652-81b9-786e8256cd8f",
   "metadata": {
    "collapsed": true,
    "jupyter": {
     "outputs_hidden": true
    },
    "tags": []
   },
   "outputs": [
    {
     "data": {
      "text/plain": [
       "14051-element Vector{SubString{String}}:\n",
       " \"what is the title leader of the bay that NER is famous for?\"\n",
       " \"what is the logo of the car that NER is related to?\"\n",
       " \"which format does the cause of \" ⋯ 40 bytes ⋯ \"during world war ii, belong to?\"\n",
       " \"what is the parent mountain of the client of NER?\"\n",
       " \"which mountain range does the client of NER belong to?\"\n",
       " \"which mountain range does the client of NER belong to?\"\n",
       " \"which mountain range does the c\" ⋯ 17 bytes ⋯ \"kyscraper in london, belong to?\"\n",
       " \"which official language is used by the country that is affected by NER?\"\n",
       " \"what is the official language o\" ⋯ 20 bytes ⋯ \"s affected by NER, an erdbeben?\"\n",
       " \"what is the leader name of the country that is affected by NER?\"\n",
       " \"who leads the country that is a\" ⋯ 70 bytes ⋯ \"south coasts of anatolia (262)?\"\n",
       " \"who is the author of the works that make NER known?\"\n",
       " \"who is the author of the works that make NER known?\"\n",
       " ⋮\n",
       " \"do you know who is the leader of the Northwest of NER's Birthplace\"\n",
       " \"what time zone uses North of Southwest NER\"\n",
       " \"do you know where is the constituency of the West of NER location\"\n",
       " \"do you know who is on the NER Predecessor title?\"\n",
       " \"do you know who is the heir to \" ⋯ 17 bytes ⋯ \"ssor, a wikimedia list article?\"\n",
       " \"where is the arrondissement of \" ⋯ 62 bytes ⋯ \"ench association football club?\"\n",
       " \"do you know what is the managem\" ⋯ 63 bytes ⋯ \" army medal of honor recipient?\"\n",
       " \"do you know where is the title of Predecessor of Candidate of NER\"\n",
       " \"do you know what is the name of\" ⋯ 38 bytes ⋯ \"rth West of the location of NER\"\n",
       " \"what is the branch of Client of The title of NER, an ira member?\"\n",
       " \"what is the division type of Na\" ⋯ 23 bytes ⋯ \" NER, an ecuadorian footballer?\"\n",
       " \"where is the Zone region covered by the The stadium where the NER took place\""
      ]
     },
     "execution_count": 6,
     "metadata": {},
     "output_type": "execute_result"
    }
   ],
   "source": [
    "# 筛选非乱码问题，并替换实体名\n",
    "train_ques, new_sols = String[], Vector{NTuple{4, String}}[]\n",
    "for ((que, ner), sol) in zip(train_ques_ner, train_sols)\n",
    "    ner, que = _2space(ner), replace(que, '？'=>'?')\n",
    "    if occursin(ner, que)\n",
    "        push!(train_ques, replace(que, ner=>\"NER\"))\n",
    "        push!(new_sols, sol)\n",
    "    end\n",
    "end\n",
    "\n",
    "# 分类并保存文件\n",
    "# MT_questions(train_ques, \"excel_data/ques/train_ques\")\n",
    "\n",
    "# 谷歌翻译后 => 读取翻译文件\n",
    "MT_train_ques = MT_questions(train_ques, \"excel_data/ques/train_ques\";write = false)"
   ]
  },
  {
   "cell_type": "code",
   "execution_count": 7,
   "id": "1a1d6c32-2739-4c1b-bbad-f103baebbb0a",
   "metadata": {
    "collapsed": true,
    "jupyter": {
     "outputs_hidden": true
    },
    "tags": []
   },
   "outputs": [
    {
     "data": {
      "text/plain": [
       "14051-element Vector{Vector{Tuple{String, String, String}}}:\n",
       " [(\"reman\", \"knownfor\", \"state_peace_and_development_council\"), (\"state_peace_and_development_council\", \"titleleader\", \"list_of_presidents_of_myanmar\")]\n",
       " [(\"king_of_tea\", \"related\", \"ito_en\"), (\"ito_en\", \"logo\", \"file:ito_en-logo.jpg\")]\n",
       " [(\"night_sakura\", \"result\", \"surrender_of_japan\"), (\"surrender_of_japan\", \"format\", \"ogg\")]\n",
       " [(\"ball_bearing_(advertisement)\", \"client\", \"lexus\"), (\"lexus\", \"parent\", \"toyota_cars\")]\n",
       " [(\"cake_(advertisement)\", \"client\", \"škoda_auto\"), (\"škoda_auto\", \"parent\", \"audifoss_group\")]\n",
       " [(\"changes_(advertisement)\", \"client\", \"volkswagen\"), (\"volkswagen\", \"parent\", \"volkswagen_group\")]\n",
       " [(\"lots_road_south_tower\", \"client\", \"hutchison_whampoa\"), (\"hutchison_whampoa\", \"parent\", \"cheung_kong_hutchison_industries\")]\n",
       " [(\"1957_mongolia_earthquake\", \"countriesaffected\", \"mongolia\"), (\"mongolia\", \"officialtext\", \"mongolian_script\")]\n",
       " [(\"1957_mongolia_earthquake\", \"countriesaffected\", \"mongolia\"), (\"mongolia\", \"officialtext\", \"mongolian_cyrillic\")]\n",
       " [(\"262_southwest_anatolia_earthquake\", \"countriesaffected\", \"turkey\"), (\"turkey\", \"leadername\", \"binali_yildirim\")]\n",
       " [(\"262_southwest_anatolia_earthquake\", \"countriesaffected\", \"turkey\"), (\"turkey\", \"leadername\", \"recep_tayyip_erdoğan\")]\n",
       " [(\"al-nasa'i\", \"notableworks\", \"al-sunan_al-sughra\"), (\"al-sunan_al-sughra\", \"author\", \"nasayi\")]\n",
       " [(\"charles_simonyi\", \"notableworks\", \"microsoft_office\"), (\"microsoft_office\", \"author\", \"microsoft\")]\n",
       " ⋮\n",
       " [(\"iqbal_karim_bhuiyan\", \"birthplace\", \"comilla\"), (\"comilla\", \"northwest\", \"narayanganj\"), (\"narayanganj\", \"leadertitle\", \"mayor\")]\n",
       " [(\"kamas,_utah\", \"southwest\", \"heber_city,_utah\"), (\"heber_city,_utah\", \"north\", \"hideout,_utah\"), (\"hideout,_utah\", \"timezonedst\", \"daylight_savings_time_in_north_american_mountains\")]\n",
       " [(\"1995–96_sheffield_wednesday_f.c._season\", \"location\", \"greater_london\"), (\"greater_london\", \"west\", \"berkshire\"), (\"berkshire\", \"constituencywestminster\", \"bracknell__(uk_parliamentary_constituency)\")]\n",
       " [(\"lai_tung-kwok\", \"predecessor\", \"ambrose_lee\"), (\"ambrose_lee\", \"title\", \"secretary_for_security\"), (\"secretary_for_security\", \"incumbent\", \"lai_tung-kwok\")]\n",
       " [(\"list_of_public_art_in_greenwich\", \"subject\", \"william_iv_of_the_united_kingdom\"), (\"william_iv_of_the_united_kingdom\", \"successor\", \"ernest_augustus,_king_of_hanover\"), (\"ernest_augustus,_king_of_hanover\", \"successor\", \"georg_v_(hanover)\")]\n",
       " [(\"2004–05_chamois_niortais_f.c._season\", \"stadium\", \"amiens\"), (\"amiens\", \"n\", \"poulainville\"), (\"poulainville\", \"canton\", \"north_amiens_county\")]\n",
       " [(\"willis_h._downs\", \"deathplace\", \"jamestown,_north_dakota\"), (\"jamestown,_north_dakota\", \"southeast\", \"montpelier,_north_dakota\"), (\"montpelier,_north_dakota\", \"subdivisiontype\", \"political_divisions_of_the_united_states\")]\n",
       " [(\"south_shields_(uk_parliament_constituency)\", \"candidate\", \"emma_lewell-buck\"), (\"emma_lewell-buck\", \"predecessor\", \"david_miliband\"), (\"david_miliband\", \"title\", \"minister_of_communities_and_local_government\")]\n",
       " [(\"2014_são_paulo_f.c._season\", \"location\", \"cuiabá\"), (\"cuiabá\", \"northwest\", \"acorizal\"), (\"acorizal\", \"subdivisionname\", \"mato_grosso\")]\n",
       " [(\"joseph_macmanus\", \"title\", \"executive_secretary_of_the_united_states_department_of_state\"), (\"executive_secretary_of_the_united_states_department_of_state\", \"appointer\", \"john_kerry\"), (\"john_kerry\", \"branch\", \"us_navy\")]\n",
       " [(\"phyllis_poyer\", \"nationalteam\", \"ecuador_national_football_team\"), (\"ecuador_national_football_team\", \"location\", \"los_angeles\"), (\"los_angeles\", \"subdivisiontype\", \"list_of_counties_in_california\")]\n",
       " [(\"2015_malaysia_premier_league\", \"stadium\", \"malacca\"), (\"malacca\", \"seat\", \"malacca_city\"), (\"malacca_city\", \"region\", \"list_of_world_heritage_sites_in_asia_and_the_pacific\")]"
      ]
     },
     "execution_count": 7,
     "metadata": {},
     "output_type": "execute_result"
    }
   ],
   "source": [
    "# 翻译知识图谱\n",
    "MT_triple_zh = Dict((=>).(zh_triples, zh_triples_lower))\n",
    "MT_triple_en = Dict((=>).(en_triples, en_triples_lower))\n",
    "MT_sol(sol::Tuple) =  first(sol) == \"zh\" ? MT_triple_zh[sol[2:end]] : MT_triple_en[sol[2:end]]\n",
    "MT_train_sols = [MT_sol.(sols) for sols in new_sols]"
   ]
  },
  {
   "cell_type": "code",
   "execution_count": 20,
   "id": "34010e05-f8a2-4265-adb4-b153fc643485",
   "metadata": {},
   "outputs": [],
   "source": [
    "# 写入数据\n",
    "open(\"translate/train_data.txt\", \"w\") do io\n",
    "    for (que, sols) in zip(MT_train_ques, MT_train_sols)\n",
    "        que = refine_que(que)\n",
    "        println(io, que)\n",
    "        for sol in sols\n",
    "            println(io, join(sol, '\\t'))\n",
    "        end\n",
    "        println(io)\n",
    "    end\n",
    "end\n",
    "\n",
    "open(\"translate/train_ques.txt\", \"w\") do io\n",
    "    for (que, sols) in zip(MT_train_ques, MT_train_sols)\n",
    "        que = refine_que(que)\n",
    "        println(io, join(vcat([que, sols[1][1]], [sol[2] for sol in sols]), '\\t'))\n",
    "    end\n",
    "end"
   ]
  },
  {
   "cell_type": "markdown",
   "id": "52fc14d3-d9e5-422e-9a90-bba00b5b6fdd",
   "metadata": {
    "tags": []
   },
   "source": [
    "### 验证集翻译"
   ]
  },
  {
   "cell_type": "code",
   "execution_count": 9,
   "id": "871bbdc1-6e95-44a7-affa-0d16023250ba",
   "metadata": {
    "collapsed": true,
    "jupyter": {
     "outputs_hidden": true
    },
    "tags": []
   },
   "outputs": [
    {
     "data": {
      "text/plain": [
       "1500-element Vector{SubString{String}}:\n",
       " \"where is the constituency of th\" ⋯ 26 bytes ⋯ \", a hong kong politician, from?\"\n",
       " \"who is the successor of the parent of NER, an Irish politician?\"\n",
       " \"who is the leader of the administrative region to which NER belongs?\"\n",
       " \"who preceded the parent of NER, an american economist?\"\n",
       " \"which draft team does the autho\" ⋯ 60 bytes ⋯ \"ariq and peter gunz, belong to?\"\n",
       " \"who is before the parent of NER\" ⋯ 54 bytes ⋯ \" minister of india (1889-1964)?\"\n",
       " \"where does the location province of NER, a mine in mongolia, belong to?\"\n",
       " \"who does the origin of NER influence's name?\"\n",
       " \"what is the genre of the author of NER, a song performed by carlos santana?\"\n",
       " \"which title does the parent of NER, an american economist, belong to?\"\n",
       " \"what is the parent mountain of the client of NER?\"\n",
       " \"who did a job before the parent of NER?\"\n",
       " \"what is the type of the people, things and things with the same name as NER?\"\n",
       " ⋮\n",
       " \"do you know what time zone is i\" ⋯ 66 bytes ⋯ \" community of catalonia, spain?\"\n",
       " \"To which party belongs The name of the ship of NER\"\n",
       " \"do you know what type of zoning\" ⋯ 51 bytes ⋯ \"an association football player?\"\n",
       " \"do you know where is the city of The location of Birthplace of NER\"\n",
       " \"what is the level of management\" ⋯ 25 bytes ⋯ \"n, a wikimedia listing article?\"\n",
       " \"who are the NER eponymous affected people\"\n",
       " \"what is the name of the administrative division of the Southeast of NER site\"\n",
       " \"do you know what is the name of\" ⋯ 66 bytes ⋯ \"ican college basketball season?\"\n",
       " \"who is the predecessors of The leader of NER\"\n",
       " \"what is the level of management at Country Capital to which NER belong\"\n",
       " \"what is the level of management\" ⋯ 21 bytes ⋯ \"to Caption, a genus of insects?\"\n",
       " \"what is the level of management at NER's North West Site\""
      ]
     },
     "execution_count": 9,
     "metadata": {},
     "output_type": "execute_result"
    }
   ],
   "source": [
    "# 读取数据\n",
    "txts = split(strip(read(open(\"ner_data/valid_data_ner.txt\", \"r\"), String)), '\\n')\n",
    "valid_ques_ner = [split(txt, '\\t') for txt in txts]\n",
    "\n",
    "# 关键词替换\n",
    "valid_ques = [replace(que, _2space(ner) => \"NER\", '？'=>'?') for (que, ner) in valid_ques_ner]\n",
    "\n",
    "# 分类和写入\n",
    "# MT_questions(valid_ques, \"excel_data/ques/valid_ques\")\n",
    "\n",
    "# 谷歌翻译 => MT_xxx\n",
    "# 读入翻译文件\n",
    "valid_ques_MT = MT_questions(valid_ques, \"excel_data/ques/valid_ques\"; write=false)"
   ]
  },
  {
   "cell_type": "code",
   "execution_count": 10,
   "id": "f51b259d-b541-4ef8-be4c-e54389423419",
   "metadata": {
    "collapsed": true,
    "jupyter": {
     "outputs_hidden": true
    },
    "tags": []
   },
   "outputs": [
    {
     "data": {
      "text/plain": [
       "104941-element Vector{Tuple{String, String, String}}:\n",
       " (\"四川省\", \"capital\", \"成都市\")\n",
       " (\"四川省\", \"西北\", \"青海\")\n",
       " (\"四川省\", \"北\", \"甘肃\")\n",
       " (\"四川省\", \"東北\", \"陕西\")\n",
       " (\"四川省\", \"西\", \"西藏\")\n",
       " (\"四川省\", \"東\", \"重庆\")\n",
       " (\"四川省\", \"南\", \"云南\")\n",
       " (\"王菲\", \"語言\", \"國語\")\n",
       " (\"王菲\", \"語言\", \"粤語\")\n",
       " (\"王菲\", \"語言\", \"英語\")\n",
       " (\"王菲\", \"配偶\", \"竇唯\")\n",
       " (\"王菲\", \"配偶\", \"李亞鵬\")\n",
       " (\"袁世凯\", \"monarch\", \"宣統帝\")\n",
       " ⋮\n",
       " (\"古特曼·贝拉\", \"managerclubs\", \"沃绍什体育俱乐部\")\n",
       " (\"港區_(東京都)\", \"自治體\", \"品川區\")\n",
       " (\"卡伦顿战役\", \"result\", \"詹姆斯党\")\n",
       " (\"演播时刻\", \"network\", \"英國廣播公司第二台\")\n",
       " (\"亚当·博格丹\", \"nationalteam\", \"匈牙利21歲以下國家足球隊\")\n",
       " (\"江陵之战_(208年)\", \"combatant\", \"孙权\")\n",
       " (\"江陵之战_(208年)\", \"commander\", \"曹仁\")\n",
       " (\"闲山岛海战\", \"commander\", \"九鬼嘉隆\")\n",
       " (\"共同電視\", \"majorShareholder\", \"關西電視台\")\n",
       " (\"稻生之戰\", \"place\", \"尾張國\")\n",
       " (\"阿利安薩石油\", \"league\", \"哥倫比亞足球甲級聯賽\")\n",
       " (\"長島一向一揆\", \"partof\", \"石山合戰\")"
      ]
     },
     "execution_count": 10,
     "metadata": {},
     "output_type": "execute_result"
    }
   ],
   "source": [
    "# 三元组\n",
    "function readtriples(path)\n",
    "    txts = strip(read(open(path, \"r\"), String))\n",
    "    [NTuple{3, String}(split(txt, '\\t')) for txt in split(txts, '\\n')]\n",
    "end\n",
    "raw_en_triples = readtriples(\"raw_triple/triple_en.txt\")\n",
    "raw_zh_triples = readtriples(\"raw_triple/triple_zh.txt\")"
   ]
  },
  {
   "cell_type": "code",
   "execution_count": 12,
   "id": "f5536e83-1e0f-48d2-b255-edd6a6940296",
   "metadata": {
    "collapsed": true,
    "jupyter": {
     "outputs_hidden": true
    },
    "tags": []
   },
   "outputs": [
    {
     "data": {
      "text/plain": [
       "Dict{String, String} with 132085 entries:\n",
       "  \"Xenophon_Overton_Pindall\"            => \"xenophon_overton_pindall\"\n",
       "  \"Jingzhou\"                            => \"jingzhou\"\n",
       "  \"Vyškov_District\"                     => \"vyškov_district\"\n",
       "  \"Bajmok\"                              => \"bajmok\"\n",
       "  \"學托擴_(堪薩斯州)\"                   => \"chautauqua,_kansas\"\n",
       "  \"Tiszabercel\"                         => \"tiszabercel\"\n",
       "  \"贝尔纳多特王朝\"                      => \"bernadotte_dynasty\"\n",
       "  \"天主教奥三棉示总教区\"                => \"catholic_archdiocese_of_osmanthus\"\n",
       "  \"威廉·格萊斯頓\"                       => \"william_gladstone\"\n",
       "  \"薩卡特卡斯礦工\"                      => \"zacatecas_miners\"\n",
       "  \"La_Bazoque,_Calvados\"                => \"la_bazoque,_calvados\"\n",
       "  \"沙陶\"                                => \"sáta\"\n",
       "  \"Le_Mans\"                             => \"le_mans\"\n",
       "  \"恐怖蠟像館\"                          => \"house_of_wax_(2005_film)\"\n",
       "  \"Luxembourg_Stock_Exchange\"           => \"luxembourg_stock_exchange\"\n",
       "  \"Beatriz_Corredor\"                    => \"beatriz_corredor\"\n",
       "  \"Montgomery,_Alabama\"                 => \"montgomery,_alabama\"\n",
       "  \"Witowy_Most\"                         => \"witowy_most\"\n",
       "  \"Piątkowa,_Lesser_Poland_Voivodeship\" => \"piątkowa,_lesser_poland_voivodeship\"\n",
       "  \"USNS_Mission_Capistrano_(T-AO-112)\"  => \"usns_mission_capistrano_(t-ao-112)\"\n",
       "  \"多羅間俊彥\"                          => \"toshihiko_torama\"\n",
       "  \"Prime_Minister_of_Kyrgyzstan\"        => \"prime_minister_of_kyrgyzstan\"\n",
       "  \"Dwight_Eddleman\"                     => \"dwight_eddleman\"\n",
       "  \"Tabya,_Sid_Bel_Abbés\"                => \"tabya,_sid_bel_abbés\"\n",
       "  \"弗里茨·舍费尔\"                       => \"fritz_schaefer\"\n",
       "  ⋮                                     => ⋮"
      ]
     },
     "execution_count": 12,
     "metadata": {},
     "output_type": "execute_result"
    }
   ],
   "source": [
    "ner_dict = Dict((=>).(first.(vcat(raw_en_triples, raw_zh_triples)), first.(triples)))"
   ]
  },
  {
   "cell_type": "code",
   "execution_count": 14,
   "id": "7f5abbe1-b58d-4019-9e7a-75ad2913e1fc",
   "metadata": {},
   "outputs": [],
   "source": [
    "# 翻译命名实体-旧命名实体从 zh_triples, en_triples, ILLs 中匹配\n",
    "open(\"translate/valid_ques.txt\", \"w\") do io\n",
    "    for (que, ner) in zip(valid_ques_MT, last.(valid_ques_ner))\n",
    "        ner ∈ keys(ner_dict) && (ner = ner_dict[ner])\n",
    "        # que = refine_que(que)\n",
    "        println(io, que, '\\t', ner)\n",
    "        @assert ner ∈ values(ner_dict)\n",
    "    end\n",
    "end"
   ]
  }
 ],
 "metadata": {
  "kernelspec": {
   "display_name": "Julia 1.7.2",
   "language": "julia",
   "name": "julia-1.7"
  },
  "language_info": {
   "file_extension": ".jl",
   "mimetype": "application/julia",
   "name": "julia",
   "version": "1.7.2"
  }
 },
 "nbformat": 4,
 "nbformat_minor": 5
}
