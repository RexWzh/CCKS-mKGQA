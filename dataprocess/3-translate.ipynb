{
 "cells": [
  {
   "cell_type": "markdown",
   "id": "19890ec7-baef-400c-80d0-7c8d5939627f",
   "metadata": {
    "tags": []
   },
   "source": [
    "# 知识图谱与问题翻译"
   ]
  },
  {
   "cell_type": "markdown",
   "id": "26e80fc8-d9c3-467f-be10-3bdce3abef0e",
   "metadata": {
    "jp-MarkdownHeadingCollapsed": true,
    "tags": []
   },
   "source": [
    "### 概要/说明：\n",
    "- `include(\"translatedata.jl\")` 导入翻译后的数据\n",
    "- 翻译文件放在 `translate/`\n",
    "- 函数工具 `../src/xlsx.jl` 和 `../src/translate.jl`"
   ]
  },
  {
   "cell_type": "markdown",
   "id": "bf1b80db-2c24-4a04-888d-d28177c1ff94",
   "metadata": {
    "tags": []
   },
   "source": [
    "细节：\n",
    "- 准备工作\n",
    "    - 尝试了 Tensor2Tensor 的预训练模型，但官方文档只找到 `德文=>英文` 现成的工具（弃用）\n",
    "    - 谷歌翻译支持 API 调用，但官方 API 需付费，而 GitHub 第三方编写的 API 不稳定（弃用）\n",
    "    - 最后使用谷歌提供的文档翻译功能（免费，仅支持 pdf, excel 等，不支持 txt 文本）\n",
    "    - 决定方案： Excel 进行数据交互，函数工具 `../src/xlsx.jl`\n",
    "- 翻译训练集和验证集\n",
    "    - 我们将问题分 `英法` 和 `汉语` 两类进行单语言翻译\n",
    "    - 翻译前将实体名替换为 \"NER\" \n",
    "\n",
    "> 由于官方提供的 `ILLs(zh-en).txt` 不足以提供所有实体的对齐，三元组翻译放在后边进行"
   ]
  },
  {
   "cell_type": "markdown",
   "id": "6e6c2fa2-c59c-414e-be1f-4748b721b29d",
   "metadata": {
    "tags": []
   },
   "source": [
    "### 导入数据和工具"
   ]
  },
  {
   "cell_type": "code",
   "execution_count": 1,
   "id": "ffbeac11-84c1-4cd3-8f3d-c84013568819",
   "metadata": {
    "tags": []
   },
   "outputs": [
    {
     "data": {
      "text/plain": [
       "5-element Vector{String}:\n",
       " \"excel_data\"\n",
       " \"translate\"\n",
       " \"translate/triples\"\n",
       " \"translate/words\"\n",
       " \"translate/ILLs\""
      ]
     },
     "execution_count": 1,
     "metadata": {},
     "output_type": "execute_result"
    }
   ],
   "source": [
    "include(\"../src/xlsx.jl\")\n",
    "include(\"../src/extractdata.jl\")\n",
    "include(\"../src/translate.jl\")\n",
    "mkpath.([\"excel_data\", \"translate\", \"translate/triples\", \"translate/words\", \"translate/ILLs\"])"
   ]
  },
  {
   "cell_type": "markdown",
   "id": "4b4ec6c3-f411-442a-b8f2-a1d2aeb9de1d",
   "metadata": {
    "tags": []
   },
   "source": [
    "### 翻译三元组"
   ]
  },
  {
   "cell_type": "markdown",
   "id": "5a93968e-d982-4495-80f4-db6ce220c5a9",
   "metadata": {
    "tags": []
   },
   "source": [
    "#### 翻译关系"
   ]
  },
  {
   "cell_type": "code",
   "execution_count": 2,
   "id": "a8a0000e-4d1a-401c-afac-5469c19e3a02",
   "metadata": {},
   "outputs": [],
   "source": [
    "# 关系中的少量规则修改\n",
    "rel_rules = (\n",
    "    \"mittelstädte\" => \"medium-sized_towns\",\n",
    "    \"écoulement\" => \"flow\",\n",
    "    \"résidenceOfficielle\" => \"official_residence\",\n",
    "    \"siège\" => \"headquarters\",\n",
    "    r\"\\d上一節目\" => \"上一節目\",\n",
    "    r\"\\d+下一節目\" => \"下一節目\",\n",
    "    \"é\" => \"e\");"
   ]
  },
  {
   "cell_type": "code",
   "execution_count": 20,
   "id": "c3f9ed9c-245b-4746-a6f2-047b4447e947",
   "metadata": {},
   "outputs": [
    {
     "name": "stdout",
     "output_type": "stream",
     "text": [
      "[1142, 1635, 2216]\n"
     ]
    }
   ],
   "source": [
    "# 获取关系\n",
    "zh_rels = unique!(replace.(getindex.(zh_triples, 2), rel_rules...))\n",
    "en_rels = unique!(replace.(getindex.(en_triples, 2), rel_rules...))\n",
    "rels = union(zh_rels, en_rels)\n",
    "println(length.([zh_rels, en_rels, rels]))"
   ]
  },
  {
   "cell_type": "code",
   "execution_count": 4,
   "id": "cf1b4fe5-bcc0-4f65-b3a2-6fecf81377d4",
   "metadata": {
    "collapsed": true,
    "jupyter": {
     "outputs_hidden": true
    },
    "tags": []
   },
   "outputs": [
    {
     "data": {
      "text/plain": [
       "Dict{String, String} with 2216 entries:\n",
       "  \"schoolTradition\"           => \"schooltradition\"\n",
       "  \"action\"                    => \"action\"\n",
       "  \"mainOrgan\"                 => \"mainorgan\"\n",
       "  \"西\"                        => \"west\"\n",
       "  \"garrisonLabel\"             => \"garrisonlabel\"\n",
       "  \"namedFor\"                  => \"namedfor\"\n",
       "  \"demoCd\"                    => \"democd\"\n",
       "  \"upperUnit\"                 => \"upperunit\"\n",
       "  \"municunit\"                 => \"municunit\"\n",
       "  \"locationCity\"              => \"locationcity\"\n",
       "  \"軍種\"                      => \"military\"\n",
       "  \"blankData\"                 => \"blankdata\"\n",
       "  \"subprefectures\"            => \"subprefectures\"\n",
       "  \"分類\"                      => \"classification\"\n",
       "  \"firstRider\"                => \"firstrider\"\n",
       "  \"postNoms\"                  => \"postnoms\"\n",
       "  \"worldPlace\"                => \"worldplace\"\n",
       "  \"placeofbirth\"              => \"placeofbirth\"\n",
       "  \"开国君主\"                  => \"foundingmonarch\"\n",
       "  \"continentalcup1Qualifiers\" => \"continentalcup1qualifiers\"\n",
       "  \"honorificPrefix\"           => \"honorificprefix\"\n",
       "  \"environmentalProtection\"   => \"environmentalprotection\"\n",
       "  \"sp\"                        => \"sp\"\n",
       "  \"olympicPlace\"              => \"olympicplace\"\n",
       "  \"borders\"                   => \"borders\"\n",
       "  ⋮                           => ⋮"
      ]
     },
     "execution_count": 4,
     "metadata": {},
     "output_type": "execute_result"
    }
   ],
   "source": [
    "# 写入 Excel\n",
    "# write_xlsx(\"excel_data/triples/rels.xlsx\", rels)\n",
    "# 读取翻译\n",
    "MT_rels = lowercase.(strip.(read_xlsx(\"excel_data/triples/rels_MT.xlsx\")))\n",
    "MT_rels = replace.(MT_rels, \" \"=>\"\", \"ゲームジャンル\" => \"gamegenre\", \"ジャンル\" => \"genre\")\n",
    "# 构建翻译\n",
    "dict_rels = Dict((=>).(rels, MT_rels))"
   ]
  },
  {
   "cell_type": "code",
   "execution_count": 21,
   "id": "9bc3e46d-dc85-4024-9f6b-03682d6791c4",
   "metadata": {},
   "outputs": [],
   "source": [
    "open(\"translate/words/rels_zh2en.txt\", \"w\") do io\n",
    "    for (rel1, rel2) in zip(rels, MT_rels)\n",
    "        println(io, rel1, '\\t', rel2)\n",
    "    end\n",
    "end"
   ]
  },
  {
   "cell_type": "markdown",
   "id": "7f6e7e66-dd3c-405e-8cd2-6b4e0d108ad2",
   "metadata": {
    "tags": []
   },
   "source": [
    "#### 翻译实体"
   ]
  },
  {
   "cell_type": "code",
   "execution_count": 9,
   "id": "bad3a5e2-0dc7-44c4-ba6f-b730774a0a92",
   "metadata": {
    "collapsed": true,
    "jupyter": {
     "outputs_hidden": true
    },
    "tags": []
   },
   "outputs": [
    {
     "data": {
      "text/plain": [
       "Dict{String, String} with 48566 entries:\n",
       "  \"1914–15_NHA_season\"      => \"1914-15_NHA_season\"\n",
       "  \"De_Eendracht,_Gietervee… => \"From_Eendracht,_Gieterveen\"\n",
       "  \"Maple_Leaf_Sports_&_Ent… => \"Maple_Leaf_Sports_&_Entertainment\"\n",
       "  \"Kovácshida\"              => \"Kovacshida\"\n",
       "  \"Xi_County,_Henan\"        => \"Xi_County,_Henan\"\n",
       "  \"2007_European_Baseball_… => \"2007_European_Baseball_Championship_-_Qualifica…\n",
       "  \"Vyškov_District\"         => \"Vyskov_District\"\n",
       "  \"Peter_Brown_(rugby_leag… => \"Peter_Brown_(rugby_league)\"\n",
       "  \"Lubowidz,_Masovian_Voiv… => \"Lubowidz,_Masovian_Voivodeship\"\n",
       "  \"Beire_(Paredes)\"         => \"Beire_(Walls)\"\n",
       "  \"La_Bazoque,_Calvados\"    => \"La_Bazoque,_Calvados\"\n",
       "  \"Glades_County,_Florida\"  => \"Glades_County,_Fla.\"\n",
       "  \"Province_of_Jaén_(Spain… => \"Province_of_Jaen_(Spain)\"\n",
       "  \"Szydłowiec_County\"       => \"Szydlowiec_County\"\n",
       "  \"Libert_H._Boeynaems\"     => \"Libert_H._Boeynaems\"\n",
       "  \"The_Million_Dollar_Hote… => \"The_Million_Dollar_Hotel_(soundtrack)\"\n",
       "  \"Finley,_Washington\"      => \"Finley,_Wash.\"\n",
       "  \"Parallax_(Star_Trek:_Vo… => \"Parallax_(Star_Trek:_Voyager)\"\n",
       "  \"Montgomery,_Alabama\"     => \"Montgomery,_Alabama\"\n",
       "  \"Győrzámoly\"              => \"Gyorzamoly\"\n",
       "  \"Piątkowa,_Lesser_Poland… => \"Piatkowa,_Lesser_Poland_Voivodeship\"\n",
       "  \"USNS_Mission_Capistrano… => \"USNS_Mission_Capistrano_(T-AO-112)\"\n",
       "  \"Halifax,_Nova_Scotia\"    => \"Halifax,_Nova_Scotia\"\n",
       "  \"Fort_Meade,_Florida\"     => \"Fort_Meade,_Fla.\"\n",
       "  \"Tabya,_Sid_Bel_Abbés\"    => \"Tabya,_Sid_Bel_Abbots\"\n",
       "  ⋮                         => ⋮"
      ]
     },
     "execution_count": 9,
     "metadata": {},
     "output_type": "execute_result"
    }
   ],
   "source": [
    "# 英文实体\n",
    "en_subs, en_objs = @. unique!([first(en_triples), last(en_triples)])\n",
    "en_words = union(en_subs, en_objs)\n",
    "enset = Set(en_words)\n",
    "\n",
    "# 翻译英文图谱中的非英语实体\n",
    "en_nonen = filter(!isenglish, en_words)\n",
    "# write_xlsx(\"excel_data/triples/en_words/en_nonenglish.xlsx\", _2space.(en_nonen))\n",
    "MT_en_nonen = strip.(read_xlsx(\"excel_data/triples/en_words/en_nonenglish_fr_ge_vn.xlsx\"))\n",
    "MT_en_nonen = replace.(MT_en_nonen, ' ' => '_')\n",
    "en_words_dict = Dict((=>).(en_nonen, MT_en_nonen))\n",
    "\n",
    "# 中文实体\n",
    "zh_subs, zh_objs = @. unique!([first(zh_triples), last(zh_triples)])\n",
    "zh_words = union(zh_subs, zh_objs)\n",
    "zhset = Set(zh_words)\n",
    "\n",
    "# 翻译中文图谱中不落在英文实体的部分\n",
    "zh_nonen = filter(∉(enset), zh_words)\n",
    "write_xlsx(\"excel_data/triples/zh_words/zh_nonenglish.xlsx\", _2space.(zh_nonen))\n",
    "MT_zh_nonen = strip.(read_xlsx(\"excel_data/triples/zh_words/zh_nonenglish_en.xlsx\"))\n",
    "MT_zh_nonen = replace.(MT_zh_nonen, ' ' => '_')\n",
    "zh_words_dict = Dict((=>).(zh_nonen, MT_zh_nonen))\n",
    "\n",
    "# 翻译整合\n",
    "words = union(zh_words, en_words)\n",
    "words_dict = Dict(union(zh_words_dict, en_words_dict))"
   ]
  },
  {
   "cell_type": "code",
   "execution_count": 16,
   "id": "4ede5a12-a528-44ab-924a-664bf1290c0c",
   "metadata": {},
   "outputs": [],
   "source": [
    "open(\"translate/words/zh_subs.txt\", \"w\") do io\n",
    "    for sub in zh_subs\n",
    "        println(io, sub, '\\t', get(words_dict, sub, sub))\n",
    "    end\n",
    "end\n",
    "\n",
    "open(\"translate/words/zh_objs.txt\", \"w\") do io\n",
    "    for obj in zh_objs\n",
    "        println(io, obj, '\\t', get(words_dict, obj, obj))\n",
    "    end\n",
    "end\n",
    "\n",
    "open(\"translate/words/zh_words.txt\", \"w\") do io\n",
    "    for obj in zh_words\n",
    "        println(io, obj, '\\t', get(words_dict, obj, obj))\n",
    "    end\n",
    "end\n",
    "\n",
    "\n",
    "open(\"translate/words/en_subs.txt\", \"w\") do io\n",
    "    for sub in en_subs\n",
    "        println(io, sub, '\\t', get(words_dict, sub, sub))\n",
    "    end\n",
    "end\n",
    "\n",
    "open(\"translate/words/en_objs.txt\", \"w\") do io\n",
    "    for obj in en_objs\n",
    "        println(io, obj, '\\t', get(words_dict, obj, obj))\n",
    "    end\n",
    "end\n",
    "\n",
    "open(\"translate/words/en_words.txt\", \"w\") do io\n",
    "    for obj in en_words\n",
    "        println(io, obj, '\\t', get(words_dict, obj, obj))\n",
    "    end\n",
    "end"
   ]
  },
  {
   "cell_type": "code",
   "execution_count": 17,
   "id": "28b4a096-e896-4968-8816-ea7dd6632314",
   "metadata": {
    "tags": []
   },
   "outputs": [],
   "source": [
    "triples = NTuple{3, String}[]\n",
    "# 导出英文三元组\n",
    "open(\"translate/triples/en_triples.txt\", \"w\") do io\n",
    "    for (sub, rel, obj) in en_triples\n",
    "        sub = get(words_dict, sub, sub)\n",
    "        obj = get(words_dict, obj, obj)\n",
    "        rel = get(dict_rels, rel, rel)\n",
    "        triple = (sub, rel, obj)\n",
    "        push!(triples, triple)\n",
    "        println(io, join(triple, '\\t'))\n",
    "    end\n",
    "end\n",
    "\n",
    "# 中文三元组\n",
    "open(\"translate/triples/zh_triples.txt\", \"w\") do io\n",
    "    for (sub, rel, obj) in zh_triples\n",
    "        sub = get(words_dict, sub, sub)\n",
    "        obj = get(words_dict, obj, obj)\n",
    "        rel = get(dict_rels, rel, rel)\n",
    "        triple = (sub, rel, obj)\n",
    "        push!(triples, triple)\n",
    "        println(io, join(triple, '\\t'))\n",
    "    end\n",
    "end\n",
    "\n",
    "\n",
    "# 中英文合并\n",
    "write_txt(\"translate/triples/triples.txt\", unique!(triples))\n",
    "\n",
    "# 对齐实体：有 3261 个多在翻译后被对齐\n",
    "open(\"translate/ILLs/ILLs(zh-en).txt\", \"w\") do io\n",
    "    for (en, zh) in ILLs\n",
    "        en = get(words_dict, en, en)\n",
    "        zh = get(words_dict, zh, zh)\n",
    "        en == zh && continue\n",
    "        println(io, en, '\\t', zh)\n",
    "    end\n",
    "end \n"
   ]
  },
  {
   "cell_type": "markdown",
   "id": "d91ba699-9ad7-4297-ba77-6762369ee5a0",
   "metadata": {
    "tags": []
   },
   "source": [
    "### 训练集翻译"
   ]
  },
  {
   "cell_type": "code",
   "execution_count": 29,
   "id": "50d72b54-4a0e-46a5-8632-32b5c78704de",
   "metadata": {},
   "outputs": [
    {
     "data": {
      "text/plain": [
       "sol2rel (generic function with 1 method)"
      ]
     },
     "execution_count": 29,
     "metadata": {},
     "output_type": "execute_result"
    }
   ],
   "source": [
    "# 提取关系\n",
    "sol2rel(sol) = getindex.(Ref(dict_rels), getindex.(sol, 3))"
   ]
  },
  {
   "cell_type": "code",
   "execution_count": 30,
   "id": "afc4b6c1-6414-4652-81b9-786e8256cd8f",
   "metadata": {
    "tags": []
   },
   "outputs": [],
   "source": [
    "# 筛选非乱码，替换实体名\n",
    "# 训练集问题，实体，关系\n",
    "train_ques, train_ners, train_rels = String[], String[], Vector{String}[]\n",
    "for ((que, ner), sol) in zip(train_ques_ner, train_sols)\n",
    "    nerspace, que = _2space(ner), replace(que, '？'=>'?')\n",
    "    if occursin(nerspace, que) # 过滤乱码情况\n",
    "        push!(train_ques, replace(que, nerspace=> \"NER\"))\n",
    "        push!(train_ners, get(words_dict, ner, ner))\n",
    "        push!(train_rels, sol2rel(sol))\n",
    "    end\n",
    "end"
   ]
  },
  {
   "cell_type": "code",
   "execution_count": 31,
   "id": "c91b3988-cb60-481f-b8d4-747411b0df94",
   "metadata": {
    "tags": []
   },
   "outputs": [
    {
     "data": {
      "text/plain": [
       "14051-element Vector{String}:\n",
       " \"what is the title leader of the bay that NER is famous for?\"\n",
       " \"what is the logo of the car that NER is related to?\"\n",
       " \"which format does the cause of \" ⋯ 40 bytes ⋯ \"during world war ii, belong to?\"\n",
       " \"what is the parent mountain of the client of NER?\"\n",
       " \"which mountain range does the client of NER belong to?\"\n",
       " \"which mountain range does the client of NER belong to?\"\n",
       " \"which mountain range does the c\" ⋯ 17 bytes ⋯ \"kyscraper in london, belong to?\"\n",
       " \"which official language is used by the country that is affected by NER?\"\n",
       " \"what is the official language o\" ⋯ 20 bytes ⋯ \"s affected by NER, an erdbeben?\"\n",
       " \"what is the leader name of the country that is affected by NER?\"\n",
       " \"who leads the country that is a\" ⋯ 70 bytes ⋯ \"south coasts of anatolia (262)?\"\n",
       " \"who is the author of the works that make NER known?\"\n",
       " \"who is the author of the works that make NER known?\"\n",
       " ⋮\n",
       " \"do you know who is the leader of the Northwest of NER's Birthplace\"\n",
       " \"what time zone uses North of Southwest NER\"\n",
       " \"do you know where is the constituency of the West of NER location\"\n",
       " \"do you know who is on the NER Predecessor title?\"\n",
       " \"do you know who is the heir to \" ⋯ 17 bytes ⋯ \"ssor, a wikimedia list article?\"\n",
       " \"where is the arrondissement of \" ⋯ 62 bytes ⋯ \"ench association football club?\"\n",
       " \"do you know what is the managem\" ⋯ 63 bytes ⋯ \" army medal of honor recipient?\"\n",
       " \"do you know where is the title of Predecessor of Candidate of NER\"\n",
       " \"do you know what is the name of\" ⋯ 38 bytes ⋯ \"rth West of the location of NER\"\n",
       " \"what is the branch of Client of The title of NER, an ira member?\"\n",
       " \"what is the division type of Na\" ⋯ 23 bytes ⋯ \" NER, an ecuadorian footballer?\"\n",
       " \"where is the Zone region covered by the The stadium where the NER took place\""
      ]
     },
     "execution_count": 31,
     "metadata": {},
     "output_type": "execute_result"
    }
   ],
   "source": [
    "# 保存问题\n",
    "# MT_questions(train_ques, \"excel_data/ques/train_ques\")\n",
    "\n",
    "# 读取翻译问题\n",
    "MT_train_ques = MT_questions(train_ques, \"excel_data/ques/train_ques\";write=false)"
   ]
  },
  {
   "cell_type": "code",
   "execution_count": 32,
   "id": "34010e05-f8a2-4265-adb4-b153fc643485",
   "metadata": {},
   "outputs": [],
   "source": [
    "# 写入文件\n",
    "open(\"translate/ques/train_ques.txt\", \"w\") do io\n",
    "    for (que, ner, rels) in zip(MT_train_ques, train_ners, train_rels)\n",
    "        println(io, que, '\\t', ner, '\\t', join(rels, '\\t'))\n",
    "    end\n",
    "end"
   ]
  },
  {
   "cell_type": "markdown",
   "id": "52fc14d3-d9e5-422e-9a90-bba00b5b6fdd",
   "metadata": {
    "tags": []
   },
   "source": [
    "### 验证集翻译"
   ]
  },
  {
   "cell_type": "code",
   "execution_count": 22,
   "id": "871bbdc1-6e95-44a7-affa-0d16023250ba",
   "metadata": {
    "collapsed": true,
    "jupyter": {
     "outputs_hidden": true
    },
    "tags": []
   },
   "outputs": [
    {
     "data": {
      "text/plain": [
       "1500-element Vector{AbstractString}:\n",
       " \"Felix_Chung\"\n",
       " \"Francis_Russell,_Marquess_of_Tavistock\"\n",
       " \"Governor_of_Genoa\"\n",
       " \"Franklin_Delano_Roosevelt_III\"\n",
       " \"The_Way_It's_Goin'_Down\"\n",
       " \"Jawaharlal_Nehru\"\n",
       " \"Khuut_coal_mine\"\n",
       " \"Aryabhata_(crater)\"\n",
       " \"They_All_Went_to_Mexico\"\n",
       " \"Franklin_Delano_Roosevelt_III\"\n",
       " \"Ira_Goldstein\"\n",
       " \"Francis_Russell,_Marquess_of_Tavistock\"\n",
       " \"USS_Mauna_Kea_(AE-22)\"\n",
       " ⋮\n",
       " \"Vall-llobrega\"\n",
       " \"USCGC_Dallas_(WHEC-716)\"\n",
       " \"Ragnar_Kravan\"\n",
       " \"Junior_Paulo_(rugby_league,_born_1993)\"\n",
       " \"List_of_National_Cultural_Treasures_in_the_Philippines\"\n",
       " \"Protagoras_(crater)\"\n",
       " \"2014-15_Gonzaga_Bulldogs_women's_basketball_team\"\n",
       " \"2015-16_Utah_State_Aggies_men's_basketball_team\"\n",
       " \"Documentary\"\n",
       " \"Trujillo_State_Anthem\"\n",
       " \"Tanaecia\"\n",
       " \"2011-12_UCLA_Bruins_men's_basketball_team\""
      ]
     },
     "execution_count": 22,
     "metadata": {},
     "output_type": "execute_result"
    }
   ],
   "source": [
    "# 读取数据\n",
    "txts = split(strip(read(open(\"extract/valid_data_ner.txt\", \"r\"), String)), '\\n')\n",
    "valid_ques_ner = [split(txt, '\\t') for txt in txts]\n",
    "\n",
    "# 关键词替换\n",
    "valid_ques = [replace(que, _2space(ner) => \"NER\", '？'=>'?') for (que, ner) in valid_ques_ner]\n",
    "\n",
    "valid_ners = [get(words_dict, ner, ner) for ner in last.(valid_ques_ner)]"
   ]
  },
  {
   "cell_type": "code",
   "execution_count": 24,
   "id": "c8ee4ee1-88b8-47fe-acdd-34a036ec89d8",
   "metadata": {
    "collapsed": true,
    "jupyter": {
     "outputs_hidden": true
    },
    "tags": []
   },
   "outputs": [
    {
     "data": {
      "text/plain": [
       "1500-element Vector{String}:\n",
       " \"where is the constituency of th\" ⋯ 26 bytes ⋯ \", a hong kong politician, from?\"\n",
       " \"who is the successor of the parent of NER, an Irish politician?\"\n",
       " \"who is the leader of the administrative region to which NER belongs?\"\n",
       " \"who preceded the parent of NER, an american economist?\"\n",
       " \"which draft team does the autho\" ⋯ 60 bytes ⋯ \"ariq and peter gunz, belong to?\"\n",
       " \"who is before the parent of NER\" ⋯ 54 bytes ⋯ \" minister of india (1889-1964)?\"\n",
       " \"where does the location province of NER, a mine in mongolia, belong to?\"\n",
       " \"who does the origin of NER influence's name?\"\n",
       " \"what is the genre of the author of NER, a song performed by carlos santana?\"\n",
       " \"which title does the parent of NER, an american economist, belong to?\"\n",
       " \"what is the parent mountain of the client of NER?\"\n",
       " \"who did a job before the parent of NER?\"\n",
       " \"what is the type of the people, things and things with the same name as NER?\"\n",
       " ⋮\n",
       " \"do you know what time zone is i\" ⋯ 66 bytes ⋯ \" community of catalonia, spain?\"\n",
       " \"To which party belongs The name of the ship of NER\"\n",
       " \"do you know what type of zoning\" ⋯ 51 bytes ⋯ \"an association football player?\"\n",
       " \"do you know where is the city of The location of Birthplace of NER\"\n",
       " \"what is the level of management\" ⋯ 25 bytes ⋯ \"n, a wikimedia listing article?\"\n",
       " \"who are the NER eponymous affected people\"\n",
       " \"what is the name of the administrative division of the Southeast of NER site\"\n",
       " \"do you know what is the name of\" ⋯ 66 bytes ⋯ \"ican college basketball season?\"\n",
       " \"who is the predecessors of The leader of NER\"\n",
       " \"what is the level of management at Country Capital to which NER belong\"\n",
       " \"what is the level of management\" ⋯ 21 bytes ⋯ \"to Caption, a genus of insects?\"\n",
       " \"what is the level of management at NER's North West Site\""
      ]
     },
     "execution_count": 24,
     "metadata": {},
     "output_type": "execute_result"
    }
   ],
   "source": [
    "# 写入文件\n",
    "# MT_questions(valid_ques, \"excel_data/ques/valid_ques\")\n",
    "\n",
    "# 读取翻译文件\n",
    "valid_ques_MT = MT_questions(valid_ques, \"excel_data/ques/valid_ques\"; write=false)"
   ]
  },
  {
   "cell_type": "code",
   "execution_count": 25,
   "id": "7f5abbe1-b58d-4019-9e7a-75ad2913e1fc",
   "metadata": {},
   "outputs": [],
   "source": [
    "# 翻译命名实体-旧命名实体从 zh_triples, en_triples, ILLs 中匹配\n",
    "open(\"translate/ques/valid_ques.txt\", \"w\") do io\n",
    "    for (que, ner) in zip(valid_ques_MT, valid_ners)\n",
    "        println(io, que, '\\t', ner)\n",
    "    end\n",
    "end"
   ]
  },
  {
   "cell_type": "markdown",
   "id": "fdbd6192-4b23-4ab7-9239-0f0b66c432f9",
   "metadata": {},
   "source": [
    "### 维基对齐实体\n",
    "**仅用于观察对齐模型准确性，不参与训练**"
   ]
  },
  {
   "cell_type": "code",
   "execution_count": 34,
   "id": "1ef715d0-4eb4-44cd-875e-172e6eae1c15",
   "metadata": {
    "tags": []
   },
   "outputs": [
    {
     "data": {
      "text/plain": [
       "42073-element Vector{Tuple{SubString{String}, SubString{String}}}:\n",
       " (\"Lakas–CMD\", \"基督教穆斯林民主力量党\")\n",
       " (\"Zhu_Shanlu\", \"朱善璐\")\n",
       " (\"Chaoshan\", \"潮汕地區\")\n",
       " (\"Saran_district\", \"薩蘭縣\")\n",
       " (\"Carballo\", \"卡尔瓦略\")\n",
       " (\"My_Belarusy\", \"白俄罗斯共和国国歌\")\n",
       " (\"Klaus_Allofs\", \"克勞斯·阿洛夫斯\")\n",
       " (\"Alghero\", \"阿尔盖罗\")\n",
       " (\"West_Lafayette,_Indiana\", \"西拉法葉\")\n",
       " (\"Ernest_Mason_Satow\", \"薩道義\")\n",
       " (\"Afyonkarahisar\", \"阿菲永卡拉希萨尔\")\n",
       " (\"Stanley_Baldwin\", \"斯坦利·鲍德温\")\n",
       " (\"Thessaly\", \"色萨利\")\n",
       " ⋮\n",
       " (\"Tianjin_Quanjian_F.C.\", \"天津权健足球俱乐部\")\n",
       " (\"John_Kerry\", \"约翰·克里\")\n",
       " (\"Móra_d'Ebre\", \"莫拉德夫雷\")\n",
       " (\"Kano\", \"卡諾\")\n",
       " (\"Chengdu_Qianbao_F.C.\", \"成都钱宝足球俱乐部\")\n",
       " (\"Cyril_Newall,_1st_Baron_Newall\", \"西里尔·内维尔，第一代内维尔男爵\")\n",
       " (\"Jambi_City\", \"占碑市\")\n",
       " (\"Barneveld\", \"巴讷费尔德\")\n",
       " (\"List_of_Justices_of_the_Supreme_Court_of_the_United_States\", \"美国联邦最高法院大法官列表\")\n",
       " (\"New_Territories_West_(constituency)\", \"新界西選區\")\n",
       " (\"Kowloon_West_(constituency)\", \"九龍西選區\")\n",
       " (\"Leonid_Brezhnev\", \"列昂尼德·伊里奇·勃列日涅夫\")"
      ]
     },
     "execution_count": 34,
     "metadata": {},
     "output_type": "execute_result"
    }
   ],
   "source": [
    "txts = split(strip(read(open(\"extract/wiki_ills.txt\", \"r\"), String)), '\\n')\n",
    "ILLs_valid = Tuple.(split.(txts, '\\t'))"
   ]
  },
  {
   "cell_type": "code",
   "execution_count": 35,
   "id": "24fd3631-86c6-4b17-91ae-d2e07ce2d5fd",
   "metadata": {
    "tags": []
   },
   "outputs": [
    {
     "data": {
      "text/plain": [
       "OrderedDict{SubString{String}, Int64} with 37897 entries:\n",
       "  \"ZIP_Code\"                                 => 8\n",
       "  \"Holy_Roman_Emperor\"                       => 7\n",
       "  \"Postal_code\"                              => 7\n",
       "  \"Independent_politician\"                   => 7\n",
       "  \"Lutheranism\"                              => 7\n",
       "  \"Barack_Obama\"                             => 6\n",
       "  \"Texas\"                                    => 6\n",
       "  \"Presbyterianism\"                          => 6\n",
       "  \"Democratic_Party_(United_States)\"         => 6\n",
       "  \"Republican_Party_(United_States)\"         => 6\n",
       "  \"Electronic_Arts\"                          => 5\n",
       "  \"Monarchy_of_the_United_Kingdom\"           => 5\n",
       "  \"South_Korea\"                              => 5\n",
       "  \"Dance-pop\"                                => 5\n",
       "  \"Hip_hop_music\"                            => 5\n",
       "  \"New_York_City\"                            => 5\n",
       "  \"Sony_Mobile\"                              => 5\n",
       "  \"United_States\"                            => 5\n",
       "  \"New_South_Wales\"                          => 5\n",
       "  \"House_of_Representatives_(Netherlands)\"   => 5\n",
       "  \"Knesset\"                                  => 5\n",
       "  \"Sacramento_Kings\"                         => 5\n",
       "  \"Music_download\"                           => 5\n",
       "  \"HTC\"                                      => 5\n",
       "  \"Arthur_Wellesley,_1st_Duke_of_Wellington\" => 5\n",
       "  ⋮                                          => ⋮"
      ]
     },
     "execution_count": 35,
     "metadata": {},
     "output_type": "execute_result"
    }
   ],
   "source": [
    "using DataStructures\n",
    "\"字典排序\"\n",
    "function sort_count(list)\n",
    "    c_list = counter(list)\n",
    "    sort(Dict(c_list), by=i->c_list[i], rev=true)\n",
    "end\n",
    "\n",
    "sort_count(first.(ILLs_valid))"
   ]
  },
  {
   "cell_type": "code",
   "execution_count": 36,
   "id": "e17cc440-ea67-44d9-909c-4835a712e767",
   "metadata": {},
   "outputs": [
    {
     "data": {
      "text/plain": [
       "Tuple{String, String}[]"
      ]
     },
     "execution_count": 36,
     "metadata": {},
     "output_type": "execute_result"
    }
   ],
   "source": [
    "filter(∉(Set(ILLs_valid)), ILLs) # 存在包含关系"
   ]
  },
  {
   "cell_type": "code",
   "execution_count": 37,
   "id": "046f634f-aacf-4f79-9144-29edef1577f1",
   "metadata": {
    "tags": []
   },
   "outputs": [],
   "source": [
    "# 10913 个实体在翻译后被对齐\n",
    "open(\"translate/ILLs_wiki.txt\", \"w\") do io\n",
    "    for (en, zh) in ILLs_valid\n",
    "        en = get(words_dict, en, en)\n",
    "        zh = get(words_dict, zh, zh)\n",
    "        en == zh && continue\n",
    "        println(io, en, '\\t', zh)\n",
    "    end\n",
    "end"
   ]
  }
 ],
 "metadata": {
  "kernelspec": {
   "display_name": "Julia 1.7.2",
   "language": "julia",
   "name": "julia-1.7"
  },
  "language_info": {
   "file_extension": ".jl",
   "mimetype": "application/julia",
   "name": "julia",
   "version": "1.7.2"
  }
 },
 "nbformat": 4,
 "nbformat_minor": 5
}
