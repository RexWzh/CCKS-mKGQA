{
 "cells": [
  {
   "cell_type": "markdown",
   "id": "19890ec7-baef-400c-80d0-7c8d5939627f",
   "metadata": {
    "tags": []
   },
   "source": [
    "# 知识图谱与问题翻译"
   ]
  },
  {
   "cell_type": "markdown",
   "id": "26e80fc8-d9c3-467f-be10-3bdce3abef0e",
   "metadata": {
    "tags": []
   },
   "source": [
    "### 概要/说明：\n",
    "- `include(\"translatedata.jl\")` 导入翻译后的数据\n",
    "- 翻译文件放在 `translate/`\n",
    "- 函数工具 `../src/xlsx.jl` 和 `../src/translate.jl`"
   ]
  },
  {
   "cell_type": "markdown",
   "id": "bf1b80db-2c24-4a04-888d-d28177c1ff94",
   "metadata": {
    "tags": []
   },
   "source": [
    "细节：\n",
    "- 准备工作\n",
    "    - 尝试了 Tensor2Tensor 的预训练模型，但官方文档只找到 `德文=>英文` 现成的工具（弃用）\n",
    "    - 谷歌翻译支持 API 调用，但官方 API 需付费，而 GitHub 第三方编写的 API 不稳定（弃用）\n",
    "    - 最后使用谷歌提供的文档翻译功能（免费，仅支持 pdf, excel 等，不支持 txt 文本）\n",
    "    - 决定方案： Excel 进行数据交互，函数工具 `../src/xlsx.jl`\n",
    "- 翻译训练集和验证集\n",
    "    - 我们将问题分 `英法` 和 `汉语` 两类进行单语言翻译\n",
    "    - 翻译前将实体名替换为 \"NER\" \n",
    "\n",
    "> 由于官方提供的 `ILLs(zh-en).txt` 不足以提供所有实体的对齐，三元组翻译放在后边进行"
   ]
  },
  {
   "cell_type": "markdown",
   "id": "6e6c2fa2-c59c-414e-be1f-4748b721b29d",
   "metadata": {
    "tags": []
   },
   "source": [
    "### 导入数据和工具"
   ]
  },
  {
   "cell_type": "code",
   "execution_count": 1,
   "id": "ffbeac11-84c1-4cd3-8f3d-c84013568819",
   "metadata": {
    "tags": []
   },
   "outputs": [
    {
     "data": {
      "text/plain": [
       "MT_questions"
      ]
     },
     "execution_count": 1,
     "metadata": {},
     "output_type": "execute_result"
    }
   ],
   "source": [
    "include(\"../src/CCKS-mKGQA.jl\")\n",
    "include(\"../src/xlsx.jl\")\n",
    "include(\"../src/extractdata.jl\")\n",
    "include(\"../src/translate.jl\")"
   ]
  },
  {
   "cell_type": "markdown",
   "id": "4b4ec6c3-f411-442a-b8f2-a1d2aeb9de1d",
   "metadata": {
    "tags": []
   },
   "source": [
    "### 翻译三元组"
   ]
  },
  {
   "cell_type": "markdown",
   "id": "5a93968e-d982-4495-80f4-db6ce220c5a9",
   "metadata": {
    "tags": []
   },
   "source": [
    "#### 翻译关系"
   ]
  },
  {
   "cell_type": "code",
   "execution_count": 2,
   "id": "c3f9ed9c-245b-4746-a6f2-047b4447e947",
   "metadata": {},
   "outputs": [],
   "source": [
    "# 获取关系\n",
    "rels = unique(getindex.(triples, 2))\n",
    "rep_rels = replace.(rels, rel_rules...)\n",
    "# 写入 Excel\n",
    "# write_xlsx(\"excel_data/triples/rels.xlsx\", rep_rels)\n",
    "# 读取翻译\n",
    "MT_rels = lowercase.(strip.(read_xlsx(\"excel_data/triples/rels_MT.xlsx\")))\n",
    "MT_rels = replace.(MT_rels, \" \"=>\"\", \"ゲームジャンル\" => \"gamegenre\", \"ジャンル\" => \"genre\")\n",
    "dict_rels = Dict((=>).(rels, MT_rels));"
   ]
  },
  {
   "cell_type": "code",
   "execution_count": 3,
   "id": "9bc3e46d-dc85-4024-9f6b-03682d6791c4",
   "metadata": {},
   "outputs": [],
   "source": [
    "open(\"translate/rels_raw2new.txt\", \"w\") do io\n",
    "    for (rel1, rel2) in zip(rels, MT_rels)\n",
    "        println(io, rel1, '\\t', rel2)\n",
    "    end\n",
    "end"
   ]
  },
  {
   "cell_type": "markdown",
   "id": "7f6e7e66-dd3c-405e-8cd2-6b4e0d108ad2",
   "metadata": {
    "tags": []
   },
   "source": [
    "#### 翻译实体"
   ]
  },
  {
   "cell_type": "code",
   "execution_count": 3,
   "id": "bad3a5e2-0dc7-44c4-ba6f-b730774a0a92",
   "metadata": {
    "tags": []
   },
   "outputs": [],
   "source": [
    "# 翻译英文图谱中的非英语实体\n",
    "en_nonen = filter(!isenglish, en_words)\n",
    "# write_xlsx(\"excel_data/triples/en_words/en_nonenglish.xlsx\", _2space.(en_nonen))\n",
    "MT_en_nonen = strip.(read_xlsx(\"excel_data/triples/en_words/en_nonenglish_mt.xlsx\"))\n",
    "MT_en_nonen = replace.(MT_en_nonen, ' ' => '_')\n",
    "en_words_dict = Dict((=>).(en_nonen, MT_en_nonen))\n",
    "\n",
    "# 翻译中文图谱中不落在英文实体的部分\n",
    "zh_nonen = filter(∉(Set(en_words)), zh_words)\n",
    "# write_xlsx(\"excel_data/triples/zh_words/zh_nonenglish.xlsx\", _2space.(zh_nonen))\n",
    "MT_zh_nonen = strip.(read_xlsx(\"excel_data/triples/zh_words/zh_nonenglish_en.xlsx\"))\n",
    "MT_zh_nonen = replace.(MT_zh_nonen, ' ' => '_')\n",
    "zh_words_dict = Dict((=>).(zh_nonen, MT_zh_nonen))\n",
    "\n",
    "# 翻译整合\n",
    "dict_words = Dict(union(en_words_dict, zh_words_dict))\n",
    "dict_words = Dict(word => get(dict_words, word, word) for word in words);"
   ]
  },
  {
   "cell_type": "code",
   "execution_count": 5,
   "id": "4ede5a12-a528-44ab-924a-664bf1290c0c",
   "metadata": {},
   "outputs": [],
   "source": [
    "# 写入实体信息\n",
    "word_io = open(\"translate/words_raw2new.txt\", \"w\")\n",
    "for word in words\n",
    "    println(word_io, word, '\\t', dict_words[word])\n",
    "end\n",
    "close(word_io)"
   ]
  },
  {
   "cell_type": "markdown",
   "id": "d82587f0-fd5a-4cdb-aa80-fbd3b87354f2",
   "metadata": {
    "tags": []
   },
   "source": [
    "#### 对齐文件"
   ]
  },
  {
   "cell_type": "code",
   "execution_count": 4,
   "id": "86e5078e-7a3c-4e33-9f7a-b1724a0c0eca",
   "metadata": {
    "tags": []
   },
   "outputs": [
    {
     "data": {
      "text/plain": [
       "(13055, 9802)"
      ]
     },
     "execution_count": 4,
     "metadata": {},
     "output_type": "execute_result"
    }
   ],
   "source": [
    "# 对齐实体：有 3k+ 在翻译后被对齐\n",
    "MT_ILLs = [(dict_words[en], dict_words[zh]) for (en, zh) in ILLs]\n",
    "MT_ILLs = filter(i->i[1]!=i[2], MT_ILLs);\n",
    "length.((ILLs, MT_ILLs))"
   ]
  },
  {
   "cell_type": "code",
   "execution_count": 7,
   "id": "cf9bf166-1156-4952-a483-5946bb9250e9",
   "metadata": {
    "tags": []
   },
   "outputs": [],
   "source": [
    "# open(\"translate/ILLs(zh-en).txt\", \"w\") do io\n",
    "#     for (en, zh) in MT_ILLs\n",
    "#         println(io, en, '\\t', zh)\n",
    "#     end\n",
    "# end "
   ]
  },
  {
   "cell_type": "markdown",
   "id": "c472ef19-e178-45a2-aeb1-44398c9e2397",
   "metadata": {
    "tags": []
   },
   "source": [
    "#### 三元组 "
   ]
  },
  {
   "cell_type": "code",
   "execution_count": 5,
   "id": "fc6b4ee7-852a-4024-8edb-cdc8d49933d3",
   "metadata": {},
   "outputs": [
    {
     "data": {
      "text/plain": [
       "mt_triple (generic function with 2 methods)"
      ]
     },
     "execution_count": 5,
     "metadata": {},
     "output_type": "execute_result"
    }
   ],
   "source": [
    "# 翻译三元组\n",
    "mt_triple(triple) = mt_triple(triple...)\n",
    "mt_triple(sub, rel, obj) = (dict_words[sub], dict_rels[rel], dict_words[obj])"
   ]
  },
  {
   "cell_type": "code",
   "execution_count": 9,
   "id": "2f888594-9ca4-45ef-b233-5d97c74277a7",
   "metadata": {},
   "outputs": [],
   "source": [
    "# open(\"translate/triples.txt\", \"w\") do io\n",
    "#     for triple in unique!(mt_triple.(triples))\n",
    "#         println(io, join(triple, '\\t'))\n",
    "#     end\n",
    "# end"
   ]
  },
  {
   "cell_type": "markdown",
   "id": "d91ba699-9ad7-4297-ba77-6762369ee5a0",
   "metadata": {
    "tags": []
   },
   "source": [
    "### 训练集翻译"
   ]
  },
  {
   "cell_type": "code",
   "execution_count": 6,
   "id": "998340a0-1a8e-464e-b109-5c9e397c58c3",
   "metadata": {
    "tags": []
   },
   "outputs": [],
   "source": [
    "# 提取关系\n",
    "sol2rel(sol) = getindex.(Ref(dict_rels), getindex.(sol, 3))\n",
    "\n",
    "# 替换实体名\n",
    "train_ques = [replace(que, _2space(ner) => \"NER\", '？'=>'?') for (que, ner) in train_ques_ner]\n",
    "train_sols_mt = [mt_triple.([sol[2:end] for sol in sols]) for sols in train_sols]\n",
    "\n",
    "# 保存问题\n",
    "# MT_questions(train_ques, \"excel_data/ques/train_ques\")\n",
    "\n",
    "# 读取翻译问题\n",
    "MT_train_ques = MT_questions(train_ques, \"excel_data/ques/train_ques\";write=false);"
   ]
  },
  {
   "cell_type": "code",
   "execution_count": 11,
   "id": "34010e05-f8a2-4265-adb4-b153fc643485",
   "metadata": {
    "tags": []
   },
   "outputs": [],
   "source": [
    "# 写入文件\n",
    "open(\"translate/train_ques.txt\", \"w\") do io\n",
    "    for (que, sols) in zip(MT_train_ques, train_sols_mt)\n",
    "        ner, rels = sols[1][1], getindex.(sols, 2)\n",
    "        println(io, que, '\\t', ner, '\\t', join(rels, '\\t'))\n",
    "    end\n",
    "end\n",
    "\n",
    "# open(\"translate/train_data.txt\", \"w\") do io\n",
    "#     for (que, sols) in zip(MT_train_ques, train_sols_mt)\n",
    "#         ner = sols[1][1]\n",
    "#         println(io, que, '\\t', ner)\n",
    "#         for sol in sols\n",
    "#             println(io, join(sol, '\\t'))\n",
    "#         end\n",
    "#         println(io)\n",
    "#     end\n",
    "# end"
   ]
  },
  {
   "cell_type": "markdown",
   "id": "52fc14d3-d9e5-422e-9a90-bba00b5b6fdd",
   "metadata": {
    "tags": []
   },
   "source": [
    "### 验证集翻译"
   ]
  },
  {
   "cell_type": "code",
   "execution_count": 7,
   "id": "871bbdc1-6e95-44a7-affa-0d16023250ba",
   "metadata": {
    "tags": []
   },
   "outputs": [],
   "source": [
    "# 读取数据\n",
    "txts = split(strip(read(open(\"extract/valid_data_ner.txt\", \"r\"), String)), '\\n')\n",
    "valid_ques_ner = [split(txt, '\\t') for txt in txts]\n",
    "\n",
    "# 关键词替换\n",
    "valid_ques = [replace(que, _2space(ner) => \"NER\", '？'=>'?') for (que, ner) in valid_ques_ner]\n",
    "valid_ners = getindex.(Ref(dict_words), last.(valid_ques_ner));"
   ]
  },
  {
   "cell_type": "code",
   "execution_count": 13,
   "id": "c8ee4ee1-88b8-47fe-acdd-34a036ec89d8",
   "metadata": {
    "tags": []
   },
   "outputs": [],
   "source": [
    "# 写入文件\n",
    "# MT_questions(valid_ques, \"excel_data/ques/valid_ques\")\n",
    "\n",
    "# 读取翻译文件\n",
    "valid_ques_MT = MT_questions(valid_ques, \"excel_data/ques/valid_ques\"; write=false);"
   ]
  },
  {
   "cell_type": "code",
   "execution_count": 14,
   "id": "7f5abbe1-b58d-4019-9e7a-75ad2913e1fc",
   "metadata": {},
   "outputs": [],
   "source": [
    "# 翻译命名实体-旧命名实体从 zh_triples, en_triples, ILLs 中匹配\n",
    "open(\"translate/valid_ques.txt\", \"w\") do io\n",
    "    for (que, ner) in zip(valid_ques_MT, valid_ners)\n",
    "        println(io, que, '\\t', ner)\n",
    "    end\n",
    "end"
   ]
  },
  {
   "cell_type": "markdown",
   "id": "fdbd6192-4b23-4ab7-9239-0f0b66c432f9",
   "metadata": {
    "tags": []
   },
   "source": [
    "### 维基对齐实体\n",
    "**仅用于观察对齐模型准确性，不参与训练**"
   ]
  },
  {
   "cell_type": "code",
   "execution_count": 13,
   "id": "54d63cc3-4914-4517-9d45-309b77dc1788",
   "metadata": {
    "tags": []
   },
   "outputs": [],
   "source": [
    "wiki_ILLs = readtuples(\"extract/wiki_ills.txt\";size=2);"
   ]
  },
  {
   "cell_type": "code",
   "execution_count": 14,
   "id": "1ef715d0-4eb4-44cd-875e-172e6eae1c15",
   "metadata": {
    "tags": []
   },
   "outputs": [
    {
     "name": "stdout",
     "output_type": "stream",
     "text": [
      "29655\t42072\n"
     ]
    }
   ],
   "source": [
    "MT_wiki_ILLs = unique!([(dict_words[en], dict_words[zh]) for (en, zh) in wiki_ILLs])\n",
    "MT_wiki_ILLs = filter(i->i[1]!=i[2], MT_wiki_ILLs)\n",
    "println(length(MT_wiki_ILLs),'\\t', length(wiki_ILLs))"
   ]
  },
  {
   "cell_type": "code",
   "execution_count": 15,
   "id": "e17cc440-ea67-44d9-909c-4835a712e767",
   "metadata": {},
   "outputs": [
    {
     "data": {
      "text/plain": [
       "Tuple{String, String}[]"
      ]
     },
     "execution_count": 15,
     "metadata": {},
     "output_type": "execute_result"
    }
   ],
   "source": [
    "filter(∉(Set(MT_wiki_ILLs)), MT_ILLs) # 存在包含关系"
   ]
  },
  {
   "cell_type": "code",
   "execution_count": 18,
   "id": "046f634f-aacf-4f79-9144-29edef1577f1",
   "metadata": {
    "tags": []
   },
   "outputs": [],
   "source": [
    "# # 10913 个实体在翻译后被对齐\n",
    "# open(\"translate/ILLs_wiki.txt\", \"w\") do io\n",
    "#     for (en, zh) in MT_wiki_ILLs\n",
    "#         println(io, en, '\\t', zh)\n",
    "#     end\n",
    "# end"
   ]
  },
  {
   "cell_type": "code",
   "execution_count": null,
   "id": "ac20fd46-510c-452e-8c9a-526ed986bc30",
   "metadata": {},
   "outputs": [],
   "source": []
  }
 ],
 "metadata": {
  "kernelspec": {
   "display_name": "Julia 1.7.2",
   "language": "julia",
   "name": "julia-1.7"
  },
  "language_info": {
   "file_extension": ".jl",
   "mimetype": "application/julia",
   "name": "julia",
   "version": "1.7.2"
  }
 },
 "nbformat": 4,
 "nbformat_minor": 5
}
