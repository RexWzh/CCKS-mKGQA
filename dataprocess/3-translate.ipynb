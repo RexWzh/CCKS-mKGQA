{
 "cells": [
  {
   "cell_type": "markdown",
   "id": "bf1b80db-2c24-4a04-888d-d28177c1ff94",
   "metadata": {
    "tags": []
   },
   "source": [
    "# 知识图谱与问题翻译\n",
    "新增文件：\n",
    "- excel_data/ 为过程文件\n",
    "- translate/triple_en_byzh.txt 对齐且翻译后的中文图谱\n",
    "- translate/triples.txt 中英文图谱翻译合并的文件\n",
    "- translate/train_data.txt 翻译后的训练集和知识图谱\n",
    "- translate/train_ques.txt 训练集：问题，实体，关系1，关系2，，，\n",
    "- translate/valid_ques.txt 测试集：问题，实体\n",
    "\n",
    "最后的图谱还原使用 `include(\"../src/translate.jl\")` 提供的字典"
   ]
  },
  {
   "cell_type": "code",
   "execution_count": 30,
   "id": "ffbeac11-84c1-4cd3-8f3d-c84013568819",
   "metadata": {
    "tags": []
   },
   "outputs": [
    {
     "data": {
      "text/plain": [
       "2-element Vector{String}:\n",
       " \"excel_data\"\n",
       " \"translate\""
      ]
     },
     "execution_count": 30,
     "metadata": {},
     "output_type": "execute_result"
    }
   ],
   "source": [
    "include(\"../src/xlsx.jl\")\n",
    "include(\"../src/loaddata.jl\")\n",
    "include(\"../src/regexpr.jl\")\n",
    "mkpath.([\"excel_data\", \"translate\"])"
   ]
  },
  {
   "cell_type": "markdown",
   "id": "1a6e078d-0ef3-4517-b7b5-d6d734a83d39",
   "metadata": {
    "tags": []
   },
   "source": [
    "### 实体对齐\n",
    "> 注意：实体对齐之后，图谱就可以合并了，所以只需翻译关系"
   ]
  },
  {
   "cell_type": "code",
   "execution_count": 31,
   "id": "134e630e-a996-4ff5-98c3-54ce310707d6",
   "metadata": {
    "tags": []
   },
   "outputs": [
    {
     "data": {
      "text/plain": [
       "104941-element Vector{Tuple{String, String, String}}:\n",
       " (\"Sichuan\", \"capital\", \"成都市\")\n",
       " (\"Sichuan\", \"西北\", \"青海\")\n",
       " (\"Sichuan\", \"北\", \"甘肃\")\n",
       " (\"Sichuan\", \"東北\", \"陕西\")\n",
       " (\"Sichuan\", \"西\", \"西藏\")\n",
       " (\"Sichuan\", \"東\", \"重庆\")\n",
       " (\"Sichuan\", \"南\", \"云南\")\n",
       " (\"Faye_Wong\", \"語言\", \"國語\")\n",
       " (\"Faye_Wong\", \"語言\", \"粤語\")\n",
       " (\"Faye_Wong\", \"語言\", \"英語\")\n",
       " (\"Faye_Wong\", \"配偶\", \"竇唯\")\n",
       " (\"Faye_Wong\", \"配偶\", \"李亞鵬\")\n",
       " (\"袁世凯\", \"monarch\", \"宣統帝\")\n",
       " ⋮\n",
       " (\"古特曼·贝拉\", \"managerclubs\", \"沃绍什体育俱乐部\")\n",
       " (\"港區_(東京都)\", \"自治體\", \"品川區\")\n",
       " (\"卡伦顿战役\", \"result\", \"詹姆斯党\")\n",
       " (\"演播时刻\", \"network\", \"英國廣播公司第二台\")\n",
       " (\"亚当·博格丹\", \"nationalteam\", \"Hungary_national_under-21_football_team\")\n",
       " (\"江陵之战_(208年)\", \"combatant\", \"孙权\")\n",
       " (\"江陵之战_(208年)\", \"commander\", \"曹仁\")\n",
       " (\"闲山岛海战\", \"commander\", \"九鬼嘉隆\")\n",
       " (\"Kyodo_Television\", \"majorShareholder\", \"關西電視台\")\n",
       " (\"稻生之戰\", \"place\", \"尾張國\")\n",
       " (\"阿利安薩石油\", \"league\", \"哥倫比亞足球甲級聯賽\")\n",
       " (\"長島一向一揆\", \"partof\", \"石山合戰\")"
      ]
     },
     "execution_count": 31,
     "metadata": {},
     "output_type": "execute_result"
    }
   ],
   "source": [
    "# 实体对齐合并\n",
    "ILLs_zh_en = Dict(@. last(ILLs) => first(ILLs))\n",
    "\"用 ILLs 翻译实体和关系\"\n",
    "function zh2en_triple(triple)\n",
    "    sub, rel, obj = triple\n",
    "    sub ∈ keys(ILLs_zh_en) && (sub = ILLs_zh_en[sub])\n",
    "    rel ∈ keys(ILLs_zh_en) && (rel = ILLs_zh_en[rel])\n",
    "    obj ∈ keys(ILLs_zh_en) && (obj = ILLs_zh_en[obj])\n",
    "    return (sub, rel, obj)\n",
    "end\n",
    "zh_triples_byILLs = zh2en_triple.(zh_triples)\n",
    "# triples = unique!(vcat(en_triples, zh_triples_byILLs))\n",
    "# # 检查重复性\n",
    "# print(-length(triples)+length(zh_triples)+length(en_triples)) # 736"
   ]
  },
  {
   "cell_type": "markdown",
   "id": "9046f513-4d84-4a83-ad6e-b04df8a64be7",
   "metadata": {
    "tags": []
   },
   "source": [
    "### 知识图谱翻译"
   ]
  },
  {
   "cell_type": "code",
   "execution_count": 32,
   "id": "b9abc433-5ba4-438c-8d51-3b6dc08926e7",
   "metadata": {
    "tags": []
   },
   "outputs": [
    {
     "name": "stdout",
     "output_type": "stream",
     "text": [
      "String[]\n",
      "744"
     ]
    }
   ],
   "source": [
    "# 英文不需要翻译（预处理已做）\n",
    "println(filter(!isascii, [triple[2] for triple in en_triples])) \n",
    "\n",
    "# 中文需要翻译（且不会包含法文）\n",
    "purezh = filter(!isascii, unique!([triple[2] for triple in zh_triples])) \n",
    "# write_xlsx(\"excel_data/triple_rels.xlsx\", purezh) # 写入文件\n",
    "\n",
    "# 使用谷歌翻译 => MT_triple_rels.xlsx\n",
    "# 格式标准化（驼峰式）\n",
    "function rel_combine(txt::AbstractString)\n",
    "    txts = split(txt, ' ')\n",
    "    length(txts) == 1 && return txt\n",
    "    first(txts) * join(uppercasefirst.(txts[2:end]))\n",
    "end\n",
    "\n",
    "pureen = rel_combine.(read_xlsx(\"excel_data/MT_triple_rels.xlsx\"))\n",
    "\n",
    "# 转化关系\n",
    "zh2en_dict = Dict(zh=>en for (zh, en) in zip(purezh, pureen))\n",
    "zh2en_rel(zh) = haskey(zh2en_dict, zh) ? zh2en_dict[zh] : zh\n",
    "\n",
    "# 图谱翻译\n",
    "en_triples_byzh = [(sub, zh2en_rel(rel), obj) for (sub, rel, obj) in zh_triples_byILLs]\n",
    "triples = unique!(vcat(en_triples, en_triples_byzh))\n",
    "\n",
    "# 检查重复\n",
    "print(-length(triples)+length(zh_triples)+length(en_triples))"
   ]
  },
  {
   "cell_type": "code",
   "execution_count": 33,
   "id": "0ef49259-069f-4d8b-bf0c-d09a84e5ac10",
   "metadata": {},
   "outputs": [],
   "source": [
    "# 写入文件\n",
    "open(\"translate/triple_en_byzh.txt\", \"w\") do io\n",
    "    for triple in en_triples_byzh\n",
    "        println(io, join(triple, '\\t'))\n",
    "    end\n",
    "end\n",
    "\n",
    "open(\"translate/triples.txt\", \"w\") do io\n",
    "    for triple in triples\n",
    "        println(io, join(triple, '\\t'))\n",
    "    end\n",
    "end"
   ]
  },
  {
   "cell_type": "markdown",
   "id": "d91ba699-9ad7-4297-ba77-6762369ee5a0",
   "metadata": {
    "tags": []
   },
   "source": [
    "### 训练集翻译"
   ]
  },
  {
   "cell_type": "code",
   "execution_count": 34,
   "id": "2c559f06-8351-4514-af44-2ec8000d18cc",
   "metadata": {},
   "outputs": [
    {
     "data": {
      "text/plain": [
       "lower (generic function with 1 method)"
      ]
     },
     "execution_count": 34,
     "metadata": {},
     "output_type": "execute_result"
    }
   ],
   "source": [
    "# 问句首字母小写\n",
    "lower(st) = replace(st, \n",
    "    \"What \"=>\"what \", \n",
    "    \"Which \"=>\"which \", \n",
    "    \"Where \" => \"where \",\n",
    "    \"Do \" => \"do \",\n",
    "    \"In which \" => \"in which \",\n",
    "    \"Who \" => \"who \",\n",
    "    \"How \" => \"how \"\n",
    ")"
   ]
  },
  {
   "cell_type": "code",
   "execution_count": 35,
   "id": "afc4b6c1-6414-4652-81b9-786e8256cd8f",
   "metadata": {
    "collapsed": true,
    "jupyter": {
     "outputs_hidden": true
    },
    "tags": []
   },
   "outputs": [
    {
     "data": {
      "text/plain": [
       "14077-element Vector{Vector{Tuple{String, String, String}}}:\n",
       " [(\"瑞曼\", \"knownFor\", \"State_Peace_and_Development_Council\"), (\"State_Peace_and_Development_Council\", \"titleLeader\", \"List_of_Presidents_of_Myanmar\")]\n",
       " [(\"茶裏王\", \"related\", \"Ito_En\"), (\"Ito_En\", \"logo\", \"File:ITO_EN-logo.jpg\")]\n",
       " [(\"夜櫻作戰\", \"result\", \"Surrender_of_Japan\"), (\"Surrender_of_Japan\", \"format\", \"Ogg\")]\n",
       " [(\"Ball_Bearing_(advertisement)\", \"client\", \"Lexus\"), (\"Lexus\", \"parent\", \"豐田汽車\")]\n",
       " [(\"Cake_(advertisement)\", \"client\", \"Škoda_Auto\"), (\"Škoda_Auto\", \"parent\", \"奧迪福斯集團\")]\n",
       " [(\"Changes_(advertisement)\", \"client\", \"Volkswagen\"), (\"Volkswagen\", \"parent\", \"大众集团\")]\n",
       " [(\"Lots_Road_South_Tower\", \"client\", \"Hutchison_Whampoa\"), (\"Hutchison_Whampoa\", \"parent\", \"長江和記實業\")]\n",
       " [(\"1957_Mongolia_earthquake\", \"countriesAffected\", \"Mongolia\"), (\"Mongolia\", \"officialText\", \"Mongolian_script\")]\n",
       " [(\"1957_Mongolia_earthquake\", \"countriesAffected\", \"Mongolia\"), (\"Mongolia\", \"officialText\", \"蒙古语西里尔字母\")]\n",
       " [(\"262_Southwest_Anatolia_earthquake\", \"countriesAffected\", \"Turkey\"), (\"Turkey\", \"leaderName\", \"比纳利·耶伊尔德勒姆\")]\n",
       " [(\"262_Southwest_Anatolia_earthquake\", \"countriesAffected\", \"Turkey\"), (\"Turkey\", \"leaderName\", \"Recep_Tayyip_Erdoğan\")]\n",
       " [(\"Al-Nasa'i\", \"notableWorks\", \"Al-Sunan_al-Sughra\"), (\"Al-Sunan_al-Sughra\", \"author\", \"奈薩儀\")]\n",
       " [(\"Charles_Simonyi\", \"notableWorks\", \"Microsoft_Office\"), (\"Microsoft_Office\", \"author\", \"微软\")]\n",
       " ⋮\n",
       " [(\"Iqbal_Karim_Bhuiyan\", \"birthPlace\", \"Comilla\"), (\"Comilla\", \"northwest\", \"Narayanganj\"), (\"Narayanganj\", \"leaderTitle\", \"市長\")]\n",
       " [(\"Kamas,_Utah\", \"southwest\", \"Heber_City,_Utah\"), (\"Heber_City,_Utah\", \"north\", \"Hideout,_Utah\"), (\"Hideout,_Utah\", \"timezoneDst\", \"北美山区日光節約時間\")]\n",
       " [(\"1995–96_Sheffield_Wednesday_F.C._season\", \"location\", \"Greater_London\"), (\"Greater_London\", \"west\", \"Berkshire\"), (\"Berkshire\", \"constituencyWestminster\", \"布拉克內爾_(英國國會選區)\")]\n",
       " [(\"Lai_Tung-kwok\", \"predecessor\", \"Ambrose_Lee\"), (\"Ambrose_Lee\", \"title\", \"Secretary_for_Security\"), (\"Secretary_for_Security\", \"incumbent\", \"Lai_Tung-kwok\")]\n",
       " [(\"List_of_public_art_in_Greenwich\", \"subject\", \"William_IV_of_the_United_Kingdom\"), (\"William_IV_of_the_United_Kingdom\", \"successor\", \"Ernest_Augustus,_King_of_Hanover\"), (\"Ernest_Augustus,_King_of_Hanover\", \"successor\", \"格奥尔格五世_(漢諾威)\")]\n",
       " [(\"2004–05_Chamois_Niortais_F.C._season\", \"stadium\", \"Amiens\"), (\"Amiens\", \"n\", \"Poulainville\"), (\"Poulainville\", \"canton\", \"北亚眠县\")]\n",
       " [(\"Willis_H._Downs\", \"deathPlace\", \"Jamestown,_North_Dakota\"), (\"Jamestown,_North_Dakota\", \"southeast\", \"Montpelier,_North_Dakota\"), (\"Montpelier,_North_Dakota\", \"subdivisionType\", \"Political_divisions_of_the_United_States\")]\n",
       " [(\"South_Shields_(UK_Parliament_constituency)\", \"candidate\", \"Emma_Lewell-Buck\"), (\"Emma_Lewell-Buck\", \"predecessor\", \"David_Miliband\"), (\"David_Miliband\", \"title\", \"社區及地方政府部長\")]\n",
       " [(\"2014_São_Paulo_F.C._season\", \"location\", \"Cuiabá\"), (\"Cuiabá\", \"northwest\", \"Acorizal\"), (\"Acorizal\", \"subdivisionName\", \"马托格罗索州\")]\n",
       " [(\"Joseph_Macmanus\", \"title\", \"Executive_Secretary_of_the_United_States_Department_of_State\"), (\"Executive_Secretary_of_the_United_States_Department_of_State\", \"appointer\", \"John_Kerry\"), (\"John_Kerry\", \"branch\", \"美國海軍\")]\n",
       " [(\"菲力斯·保耶\", \"nationalteam\", \"Ecuador_national_football_team\"), (\"Ecuador_national_football_team\", \"location\", \"Los_Angeles\"), (\"Los_Angeles\", \"subdivisionType\", \"List_of_counties_in_California\")]\n",
       " [(\"2015_Malaysia_Premier_League\", \"stadium\", \"Malacca\"), (\"Malacca\", \"seat\", \"Malacca_City\"), (\"Malacca_City\", \"region\", \"亚洲和太平洋地区世界遗产列表\")]"
      ]
     },
     "execution_count": 35,
     "metadata": {},
     "output_type": "execute_result"
    }
   ],
   "source": [
    "# 替换实体名\n",
    "train_ques = String[]\n",
    "for (que, ner) in train_ques_ner\n",
    "    ner, que = _shift(ner), replace(que, '？'=>'?')\n",
    "    occursin(ner, que) && push!(train_ques, replace(que, ner=>\"NER\"))\n",
    "end\n",
    "\n",
    "# 分类\n",
    "french_ques = filter(isfrench, train_ques)\n",
    "chinese_ques = filter(!isfrench, train_ques)\n",
    "\n",
    "# 保存文件\n",
    "write_xlsx(\"excel_data/french_ques.xlsx\", french_ques)\n",
    "write_xlsx(\"excel_data/chinese_ques.xlsx\", chinese_ques)\n",
    "\n",
    "# 建立翻译关系\n",
    "MT_french_ques = lower.(read_xlsx(\"excel_data/MT_french_ques.xlsx\"))\n",
    "MT_chinese_ques = lower.(read_xlsx(\"excel_data/MT_chinese_ques.xlsx\"))\n",
    "MT_french = Dict((=>).(french_ques, MT_french_ques))\n",
    "MT_chinese = Dict((=>).(chinese_ques, MT_chinese_ques))\n",
    "MT_que(que) = haskey(MT_french, que) ? MT_french[que] : MT_chinese[que]\n",
    "\n",
    "# 翻译问题\n",
    "MT_train_ques = MT_que.(train_ques)\n",
    "\n",
    "# 翻译知识图谱\n",
    "MT_triple_zh = Dict((=>).(zh_triples, en_triples_byzh))\n",
    "MT_sol(sol::Tuple) =  first(sol) == \"zh\" ? MT_triple_zh[sol[2:end]] : sol[2:end]\n",
    "MT_train_sols = [MT_sol.(sols) for sols in train_sols]"
   ]
  },
  {
   "cell_type": "code",
   "execution_count": 37,
   "id": "34010e05-f8a2-4265-adb4-b153fc643485",
   "metadata": {},
   "outputs": [],
   "source": [
    "# 写入数据\n",
    "open(\"translate/train_data.txt\", \"w\") do io\n",
    "    for (que, sols) in zip(MT_train_ques, MT_train_sols)\n",
    "        println(io, que)\n",
    "        for sol in sols\n",
    "            println(io, join(sol, '\\t'))\n",
    "        end\n",
    "        println(io)\n",
    "    end\n",
    "end\n",
    "\n",
    "open(\"translate/train_ques.txt\", \"w\") do io\n",
    "    for (que, sols) in zip(MT_train_ques, MT_train_sols)\n",
    "        println(io, join(vcat([que, sols[1][1]], [sol[2] for sol in sols]), '\\t'))\n",
    "    end\n",
    "end"
   ]
  },
  {
   "cell_type": "markdown",
   "id": "52fc14d3-d9e5-422e-9a90-bba00b5b6fdd",
   "metadata": {
    "tags": []
   },
   "source": [
    "### 验证集翻译"
   ]
  },
  {
   "cell_type": "code",
   "execution_count": 38,
   "id": "adb05b37-73f4-454b-bc8d-1d04b9765a2f",
   "metadata": {
    "tags": []
   },
   "outputs": [
    {
     "name": "stdout",
     "output_type": "stream",
     "text": [
      "Int64[]\n"
     ]
    }
   ],
   "source": [
    "# 读取数据，并记录无法匹配的位置\n",
    "txts = split(strip(read(open(\"extract/valid_data_ner.txt\", \"r\"), String)), '\\n')\n",
    "valid_ques_ner = [split(txt, '\\t') for txt in txts]\n",
    "println(findall(i->isempty(i[2]), valid_ques_ner))"
   ]
  },
  {
   "cell_type": "code",
   "execution_count": 40,
   "id": "aded693a-1ffa-4133-940b-728d9404d6d8",
   "metadata": {},
   "outputs": [],
   "source": [
    "# 数据分类\n",
    "valid_ques_rep = [replace(que, _shift(ner) => \"NER\", '？'=>'?')\n",
    "    for (que, ner) in valid_ques_ner]\n",
    "valid_french_ques = filter(isfrench, valid_ques_rep)\n",
    "valid_chinese_ques = filter(!isfrench, valid_ques_rep)\n",
    "\n",
    "# 写入\n",
    "# write_xlsx(\"excel_data/valid_french.xlsx\", valid_french_ques)\n",
    "# write_xlsx(\"excel_data/valid_chinese.xlsx\", valid_chinese_ques)\n",
    "\n",
    "# 谷歌翻译 => MT_xxx\n",
    "# 读入\n",
    "valid_french_byMT = lower.(read_xlsx(\"excel_data/MT_valid_french.xlsx\"))\n",
    "valid_chinese_byMT = lower.(read_xlsx(\"excel_data/MT_valid_chinese.xlsx\"))\n",
    "MT_valid_french = Dict((=>).(valid_french_ques, valid_french_byMT))\n",
    "MT_valid_chinese = Dict((=>).(valid_chinese_ques, valid_chinese_byMT))\n",
    "MT_valid_que(que) = haskey(MT_valid_french, que) ? MT_valid_french[que] : MT_valid_chinese[que]\n",
    "\n",
    "# # 翻译问题\n",
    "MT_valid_ques = MT_valid_que.(valid_ques_rep)\n",
    "\n",
    "# 翻译命名实体-旧命名实体从 zh_triples, en_triples, ILLs 中匹配\n",
    "open(\"translate/valid_ques.txt\", \"w\") do io\n",
    "    for (que, ner) in zip(MT_valid_ques, last.(valid_ques_ner))\n",
    "        ner ∈ keys(ILLs_zh_en) && (ner = ILLs_zh_en[ner])\n",
    "        println(io, que, '\\t', ner)\n",
    "    end\n",
    "end"
   ]
  }
 ],
 "metadata": {
  "kernelspec": {
   "display_name": "Julia 1.7.2",
   "language": "julia",
   "name": "julia-1.7"
  },
  "language_info": {
   "file_extension": ".jl",
   "mimetype": "application/julia",
   "name": "julia",
   "version": "1.7.2"
  }
 },
 "nbformat": 4,
 "nbformat_minor": 5
}
