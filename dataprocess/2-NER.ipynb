{
 "cells": [
  {
   "cell_type": "markdown",
   "id": "3b0e41db-2a39-4ef6-a427-3694593b21cb",
   "metadata": {},
   "source": [
    "# 命名实体抽取"
   ]
  },
  {
   "cell_type": "markdown",
   "id": "4dfaf077-fd03-4fe6-b88c-43a6365fc875",
   "metadata": {
    "tags": []
   },
   "source": [
    "### 概要：\n",
    "- `include(\"../src/prefixtree.jl\")` 导入字典树，`get_subject` 抽取命名实体\n",
    "- 训练集准确率 `99.4%`，验证集可完全提取"
   ]
  },
  {
   "cell_type": "markdown",
   "id": "a44b5106-9916-4cb0-89a7-88e18eebd51c",
   "metadata": {
    "jp-MarkdownHeadingCollapsed": true,
    "tags": []
   },
   "source": [
    "细节：\n",
    "- 训练集识别结果\n",
    "    - 13992 个准确识别\n",
    "    - 65 个无法识别错误（以中文为主）\n",
    "    - 20 个无法识别，有以下 7 种，除了前 2 个外，均为乱码问题\n",
    "    \n",
    "     ```jl\n",
    "     \"who married the person of T-related eventhose Were the Days (song)?\"\n",
    "     \"what is children of the person of T related eventhose Were the Days (song)?\"\n",
    "     \"Savez-vous qu'avant produits liés à l'ENTITÉest?\"\n",
    "     \"Savez-vous quels sont les pays participants\"\n",
    "     \"Saviez-vous que la série du produits liés à l'ENTITÉest?\"\n",
    "     \"Savez-vous ce qu’est la dynastie ?\"\n",
    "     \"produits liés à l'ENTITÉbasé sur ce\"\n",
    "     ```\n",
    "- 验证集识别情况：\n",
    "    - 有 3 个无法识别，且均为问题错位导致，已在 `extract` 阶段处理\n",
    "    - 导入方式\n",
    "    ```\n",
    "    valid_ques_ner = Vector{String}(split(\n",
    "        strip(read(open(\"extract/valid_data_ner.txt\", \"r\"), String)), '\\n'))\n",
    "    ```"
   ]
  },
  {
   "cell_type": "markdown",
   "id": "f6018d8f-c8cc-47ef-bfd9-e832a5268753",
   "metadata": {},
   "source": [
    "### 导入"
   ]
  },
  {
   "cell_type": "code",
   "execution_count": 8,
   "id": "65dda3c7-5825-45d4-a410-9e1fbfcb582f",
   "metadata": {},
   "outputs": [
    {
     "data": {
      "text/plain": [
       "get_subject (generic function with 1 method)"
      ]
     },
     "execution_count": 8,
     "metadata": {},
     "output_type": "execute_result"
    }
   ],
   "source": [
    "include(\"../src/extractdata.jl\") # 导入 extract 中的数据\n",
    "include(\"../src/prefixtree.jl\") # 前缀树工具"
   ]
  },
  {
   "cell_type": "code",
   "execution_count": 9,
   "id": "e9f36d66-ca01-4bbc-adb1-93657694396f",
   "metadata": {
    "tags": []
   },
   "outputs": [
    {
     "data": {
      "text/plain": [
       "3-element Vector{Int64}:\n",
       " 13992\n",
       "    65\n",
       "    20"
      ]
     },
     "execution_count": 9,
     "metadata": {},
     "output_type": "execute_result"
    }
   ],
   "source": [
    "# 检查准确性\n",
    "valids, fails, nomatch = String[], String[], String[]\n",
    "for (que, ner) in train_ques_ner\n",
    "    sub = get_subject(que)\n",
    "    isempty(sub) && (push!(nomatch, que); continue)\n",
    "    sub == ner ? push!(valids, que) : push!(fails, que)\n",
    "end\n",
    "length.([valids, fails, nomatch])"
   ]
  },
  {
   "cell_type": "code",
   "execution_count": 10,
   "id": "10c5cc73-939c-4e83-acde-08b3ecd3c8b2",
   "metadata": {},
   "outputs": [
    {
     "data": {
      "text/plain": [
       "99.39617816296085"
      ]
     },
     "execution_count": 10,
     "metadata": {},
     "output_type": "execute_result"
    }
   ],
   "source": [
    "# 准确率\n",
    "13992 / length(train_ques_ner) * 100"
   ]
  },
  {
   "cell_type": "code",
   "execution_count": 11,
   "id": "f8be5710-fd86-49d5-a619-9f7485acc047",
   "metadata": {},
   "outputs": [
    {
     "data": {
      "text/plain": [
       "String[]"
      ]
     },
     "execution_count": 11,
     "metadata": {},
     "output_type": "execute_result"
    }
   ],
   "source": [
    "# 验证集有效提取的数目\n",
    "filter(i->isempty(get_subject(i)), valid_ques)"
   ]
  },
  {
   "cell_type": "code",
   "execution_count": 13,
   "id": "18dc2e26-bf65-49c5-a8fd-eb136929ce35",
   "metadata": {
    "tags": []
   },
   "outputs": [],
   "source": [
    "# 提取验证集\n",
    "open(\"extract/valid_data_ner.txt\", \"w\") do io\n",
    "    for que in valid_ques\n",
    "        println(io, que, '\\t', get_subject(que))\n",
    "    end\n",
    "end"
   ]
  }
 ],
 "metadata": {
  "kernelspec": {
   "display_name": "Julia 1.7.2",
   "language": "julia",
   "name": "julia-1.7"
  },
  "language_info": {
   "file_extension": ".jl",
   "mimetype": "application/julia",
   "name": "julia",
   "version": "1.7.2"
  }
 },
 "nbformat": 4,
 "nbformat_minor": 5
}
