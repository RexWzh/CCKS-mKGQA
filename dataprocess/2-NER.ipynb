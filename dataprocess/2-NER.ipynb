{
 "cells": [
  {
   "cell_type": "markdown",
   "id": "a44b5106-9916-4cb0-89a7-88e18eebd51c",
   "metadata": {},
   "source": [
    "# 命名实体抽取\n",
    "主要内容：\n",
    "- 以原始三元组的头实体为字典，制作前缀树\n",
    "- 捕获问题中的命名实体\n",
    "\n",
    "测试集识别情况：\n",
    "- 13983 个准确识别\n",
    "- 73 个识别错误\n",
    "- 21 个无法识别（大多是问题本身缺陷）\n",
    "\n",
    "验证集识别情况：\n",
    "- 仅有 4 个问题无法识别"
   ]
  },
  {
   "cell_type": "code",
   "execution_count": 32,
   "id": "65dda3c7-5825-45d4-a410-9e1fbfcb582f",
   "metadata": {},
   "outputs": [
    {
     "data": {
      "text/plain": [
       "get_subject (generic function with 1 method)"
      ]
     },
     "execution_count": 32,
     "metadata": {},
     "output_type": "execute_result"
    }
   ],
   "source": [
    "include(\"../src/loaddata.jl\") # 导入 extract 中的数据\n",
    "include(\"../src/prefixtree.jl\") # 前缀树工具"
   ]
  },
  {
   "cell_type": "code",
   "execution_count": 33,
   "id": "e9f36d66-ca01-4bbc-adb1-93657694396f",
   "metadata": {
    "tags": []
   },
   "outputs": [
    {
     "data": {
      "text/plain": [
       "3-element Vector{Int64}:\n",
       " 13985\n",
       "    72\n",
       "    20"
      ]
     },
     "execution_count": 33,
     "metadata": {},
     "output_type": "execute_result"
    }
   ],
   "source": [
    "# 检查准确性\n",
    "valids, fails, nomatch = String[], String[], String[]\n",
    "for (que, ner) in train_ques_ner\n",
    "    sub = get_subject(que)\n",
    "    isempty(sub) && (push!(nomatch, que); continue)\n",
    "    sub == _shift(ner) ? push!(valids, que) : push!(fails, que)\n",
    "end\n",
    "length.([valids, fails, nomatch]) # 13985, 72, 20"
   ]
  },
  {
   "cell_type": "code",
   "execution_count": 34,
   "id": "18dc2e26-bf65-49c5-a8fd-eb136929ce35",
   "metadata": {
    "tags": []
   },
   "outputs": [],
   "source": [
    "# 提取训练集\n",
    "open(\"extract/valid_data_ner.txt\", \"w\") do io\n",
    "    for que in valid_ques\n",
    "        println(io, que, '\\t', get_subject(que))\n",
    "    end\n",
    "end"
   ]
  },
  {
   "cell_type": "code",
   "execution_count": 35,
   "id": "f8be5710-fd86-49d5-a619-9f7485acc047",
   "metadata": {},
   "outputs": [
    {
     "data": {
      "text/plain": [
       "String[]"
      ]
     },
     "execution_count": 35,
     "metadata": {},
     "output_type": "execute_result"
    }
   ],
   "source": [
    "# 检验测试集通过数目\n",
    "filter(i->isempty(get_subject(i)), valid_ques)"
   ]
  },
  {
   "cell_type": "code",
   "execution_count": 20,
   "id": "ddf497c9-a0b6-4c45-ab30-9f951cfb519a",
   "metadata": {},
   "outputs": [],
   "source": [
    "# 检验测试集答案\n",
    "# zh_set, en_set = Set(zh_triples), Set(en_triples)\n",
    "# for triple in train_sols\n",
    "#     sign, triple = first(triple), triple[2:end]\n",
    "#     @assert(sign == \"zh\" ? triple ∈ zh_set : triple ∈ en_set)\n",
    "# end"
   ]
  }
 ],
 "metadata": {
  "kernelspec": {
   "display_name": "Julia 1.7.2",
   "language": "julia",
   "name": "julia-1.7"
  },
  "language_info": {
   "file_extension": ".jl",
   "mimetype": "application/julia",
   "name": "julia",
   "version": "1.7.2"
  }
 },
 "nbformat": 4,
 "nbformat_minor": 5
}
