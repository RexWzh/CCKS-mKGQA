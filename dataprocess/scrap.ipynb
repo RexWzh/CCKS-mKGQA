{
 "cells": [
  {
   "cell_type": "markdown",
   "id": "20b908cb-9816-4c23-9450-e246000aeb69",
   "metadata": {},
   "source": [
    "### Julia 爬虫"
   ]
  },
  {
   "cell_type": "code",
   "execution_count": 2,
   "id": "300e3a8c-c24a-47c0-8ac3-2ca46ab2c243",
   "metadata": {},
   "outputs": [
    {
     "data": {
      "text/plain": [
       "get_tag"
      ]
     },
     "execution_count": 2,
     "metadata": {},
     "output_type": "execute_result"
    }
   ],
   "source": [
    "include(\"../src/scrap.jl\")"
   ]
  },
  {
   "cell_type": "markdown",
   "id": "ca405c91-dc0b-4d6a-bfb0-37238c9f32ed",
   "metadata": {},
   "source": [
    "### 测试"
   ]
  },
  {
   "cell_type": "code",
   "execution_count": 3,
   "id": "800eccde-ff8b-4f2a-a71c-a5c5b8baf639",
   "metadata": {},
   "outputs": [
    {
     "data": {
      "text/plain": [
       "\"Vincent_Fang_(entrepreneur)\""
      ]
     },
     "execution_count": 3,
     "metadata": {},
     "output_type": "execute_result"
    }
   ],
   "source": [
    "word = \"Vincent_Fang_(entrepreneur)\""
   ]
  },
  {
   "cell_type": "code",
   "execution_count": null,
   "id": "820de046-29ee-441f-aa26-5ce01d7fcacb",
   "metadata": {},
   "outputs": [],
   "source": [
    "wiki_en2zh(word)"
   ]
  },
  {
   "cell_type": "code",
   "execution_count": null,
   "id": "a6317aaa-0eff-4a69-8257-e38cd6288700",
   "metadata": {},
   "outputs": [],
   "source": []
  }
 ],
 "metadata": {
  "kernelspec": {
   "display_name": "Julia 1.7.2",
   "language": "julia",
   "name": "julia-1.7"
  },
  "language_info": {
   "file_extension": ".jl",
   "mimetype": "application/julia",
   "name": "julia",
   "version": "1.7.2"
  }
 },
 "nbformat": 4,
 "nbformat_minor": 5
}
