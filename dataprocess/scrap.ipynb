{
 "cells": [
  {
   "cell_type": "markdown",
   "id": "20b908cb-9816-4c23-9450-e246000aeb69",
   "metadata": {
    "jp-MarkdownHeadingCollapsed": true,
    "tags": []
   },
   "source": [
    "### Julia 爬虫"
   ]
  },
  {
   "cell_type": "code",
   "execution_count": 37,
   "id": "300e3a8c-c24a-47c0-8ac3-2ca46ab2c243",
   "metadata": {},
   "outputs": [
    {
     "data": {
      "text/plain": [
       "get_tag"
      ]
     },
     "execution_count": 37,
     "metadata": {},
     "output_type": "execute_result"
    }
   ],
   "source": [
    "include(\"../src/scrap.jl\")"
   ]
  },
  {
   "cell_type": "code",
   "execution_count": null,
   "id": "cd70bfd7-987e-43be-adce-bd8a05222878",
   "metadata": {},
   "outputs": [],
   "source": []
  },
  {
   "cell_type": "code",
   "execution_count": 34,
   "id": "d34c8985-1e3b-4e29-8447-5a7b291d891e",
   "metadata": {
    "collapsed": true,
    "jupyter": {
     "outputs_hidden": true
    },
    "tags": []
   },
   "outputs": [
    {
     "name": "stdout",
     "output_type": "stream",
     "text": [
      "  3.208226 seconds (81.52 k allocations: 4.435 MiB, 2.03% compilation time)\n"
     ]
    },
    {
     "data": {
      "text/plain": [
       "10-element Vector{HTTP.Messages.Response}:\n",
       " HTTP.Messages.Response:\n",
       "\"\"\"\n",
       "HTTP/1.1 200 OK\r\n",
       "Accept-Ranges: bytes\r\n",
       "Age: 341015\r\n",
       "Cache-Control: max-age=604800\r\n",
       "Content-Type: text/html; charset=UTF-8\r\n",
       "Date: Fri, 01 Jul 2022 15:49:50 GMT\r\n",
       "Etag: \"3147526947\"\r\n",
       "Expires: Fri, 08 Jul 2022 15:49:50 GMT\r\n",
       "Last-Modified: Thu, 17 Oct 2019 07:18:26 GMT\r\n",
       "Server: ECS (sab/5797)\r\n",
       "Vary: Accept-Encoding\r\n",
       "X-Cache: HIT\r\n",
       "Content-Length: 1256\r\n",
       "\r\n",
       "<!doctype html>\n",
       "<html>\n",
       "<head>\n",
       "    <title>Example Domain</title>\n",
       "\n",
       "    <meta charset=\"utf-8\" />\n",
       "    <meta http-equiv=\"Content-type\" content=\"text/html; charset=utf-8\" />\n",
       "    <meta name=\"viewport\" content=\"width=device-width, initial-scale=1\" />\n",
       "    <style type=\"text/css\">\n",
       "    body {\n",
       "        background-color: #f0f0f2;\n",
       "        margin: 0;\n",
       "        padding: 0;\n",
       "        font-family: -apple-system, system-ui, BlinkMacSystemFont, \"Segoe UI\", \"Open Sans\", \"Helvetica Neue\", Helvetica, Arial, sans-serif;\n",
       "        \n",
       "    }\n",
       "    div {\n",
       "        width: 600px;\n",
       "        margin: 5em auto;\n",
       "        padding: 2em;\n",
       "        background-color: #fdfdff;\n",
       "        border-radius: 0.5em;\n",
       "        box-shadow: 2px 3px 7px 2px rgba(0,0,0,0.02);\n",
       "    }\n",
       "    a:link, a:visited {\n",
       "        color: #38488f;\n",
       "        text-decoration: none;\n",
       "    }\n",
       "    @media (max-width: 700px) {\n",
       "        div {\n",
       "            margin: 0 auto;\n",
       "            width: auto;\n",
       "        }\n",
       "    }\n",
       "    </style>    \n",
       "</head>\n",
       "\n",
       "<body>\n",
       "<div>\n",
       "    <h1>Example Domain</h1>\n",
       "    <p>This domai\n",
       "⋮\n",
       "1256-byte body\n",
       "\"\"\"\n",
       " HTTP.Messages.Response:\n",
       "\"\"\"\n",
       "HTTP/1.1 200 OK\r\n",
       "Age: 577664\r\n",
       "Cache-Control: max-age=604800\r\n",
       "Content-Type: text/html; charset=UTF-8\r\n",
       "Date: Fri, 01 Jul 2022 15:49:50 GMT\r\n",
       "Etag: \"3147526947+gzip+ident\"\r\n",
       "Expires: Fri, 08 Jul 2022 15:49:50 GMT\r\n",
       "Last-Modified: Thu, 17 Oct 2019 07:18:26 GMT\r\n",
       "Server: ECS (sab/5799)\r\n",
       "Vary: Accept-Encoding\r\n",
       "X-Cache: HIT\r\n",
       "Content-Length: 1256\r\n",
       "\r\n",
       "<!doctype html>\n",
       "<html>\n",
       "<head>\n",
       "    <title>Example Domain</title>\n",
       "\n",
       "    <meta charset=\"utf-8\" />\n",
       "    <meta http-equiv=\"Content-type\" content=\"text/html; charset=utf-8\" />\n",
       "    <meta name=\"viewport\" content=\"width=device-width, initial-scale=1\" />\n",
       "    <style type=\"text/css\">\n",
       "    body {\n",
       "        background-color: #f0f0f2;\n",
       "        margin: 0;\n",
       "        padding: 0;\n",
       "        font-family: -apple-system, system-ui, BlinkMacSystemFont, \"Segoe UI\", \"Open Sans\", \"Helvetica Neue\", Helvetica, Arial, sans-serif;\n",
       "        \n",
       "    }\n",
       "    div {\n",
       "        width: 600px;\n",
       "        margin: 5em auto;\n",
       "        padding: 2em;\n",
       "        background-color: #fdfdff;\n",
       "        border-radius: 0.5em;\n",
       "        box-shadow: 2px 3px 7px 2px rgba(0,0,0,0.02);\n",
       "    }\n",
       "    a:link, a:visited {\n",
       "        color: #38488f;\n",
       "        text-decoration: none;\n",
       "    }\n",
       "    @media (max-width: 700px) {\n",
       "        div {\n",
       "            margin: 0 auto;\n",
       "            width: auto;\n",
       "        }\n",
       "    }\n",
       "    </style>    \n",
       "</head>\n",
       "\n",
       "<body>\n",
       "<div>\n",
       "    <h1>Example Domain</h1>\n",
       "    <p>This domai\n",
       "⋮\n",
       "1256-byte body\n",
       "\"\"\"\n",
       " HTTP.Messages.Response:\n",
       "\"\"\"\n",
       "HTTP/1.1 200 OK\r\n",
       "Accept-Ranges: bytes\r\n",
       "Age: 470821\r\n",
       "Cache-Control: max-age=604800\r\n",
       "Content-Type: text/html; charset=UTF-8\r\n",
       "Date: Fri, 01 Jul 2022 15:49:51 GMT\r\n",
       "Etag: \"3147526947\"\r\n",
       "Expires: Fri, 08 Jul 2022 15:49:51 GMT\r\n",
       "Last-Modified: Thu, 17 Oct 2019 07:18:26 GMT\r\n",
       "Server: ECS (sab/56BC)\r\n",
       "Vary: Accept-Encoding\r\n",
       "X-Cache: HIT\r\n",
       "Content-Length: 1256\r\n",
       "\r\n",
       "<!doctype html>\n",
       "<html>\n",
       "<head>\n",
       "    <title>Example Domain</title>\n",
       "\n",
       "    <meta charset=\"utf-8\" />\n",
       "    <meta http-equiv=\"Content-type\" content=\"text/html; charset=utf-8\" />\n",
       "    <meta name=\"viewport\" content=\"width=device-width, initial-scale=1\" />\n",
       "    <style type=\"text/css\">\n",
       "    body {\n",
       "        background-color: #f0f0f2;\n",
       "        margin: 0;\n",
       "        padding: 0;\n",
       "        font-family: -apple-system, system-ui, BlinkMacSystemFont, \"Segoe UI\", \"Open Sans\", \"Helvetica Neue\", Helvetica, Arial, sans-serif;\n",
       "        \n",
       "    }\n",
       "    div {\n",
       "        width: 600px;\n",
       "        margin: 5em auto;\n",
       "        padding: 2em;\n",
       "        background-color: #fdfdff;\n",
       "        border-radius: 0.5em;\n",
       "        box-shadow: 2px 3px 7px 2px rgba(0,0,0,0.02);\n",
       "    }\n",
       "    a:link, a:visited {\n",
       "        color: #38488f;\n",
       "        text-decoration: none;\n",
       "    }\n",
       "    @media (max-width: 700px) {\n",
       "        div {\n",
       "            margin: 0 auto;\n",
       "            width: auto;\n",
       "        }\n",
       "    }\n",
       "    </style>    \n",
       "</head>\n",
       "\n",
       "<body>\n",
       "<div>\n",
       "    <h1>Example Domain</h1>\n",
       "    <p>This domai\n",
       "⋮\n",
       "1256-byte body\n",
       "\"\"\"\n",
       " HTTP.Messages.Response:\n",
       "\"\"\"\n",
       "HTTP/1.1 200 OK\r\n",
       "Age: 128899\r\n",
       "Cache-Control: max-age=604800\r\n",
       "Content-Type: text/html; charset=UTF-8\r\n",
       "Date: Fri, 01 Jul 2022 15:49:51 GMT\r\n",
       "Etag: \"3147526947+ident\"\r\n",
       "Expires: Fri, 08 Jul 2022 15:49:51 GMT\r\n",
       "Last-Modified: Thu, 17 Oct 2019 07:18:26 GMT\r\n",
       "Server: ECS (sab/5693)\r\n",
       "Vary: Accept-Encoding\r\n",
       "X-Cache: HIT\r\n",
       "Content-Length: 1256\r\n",
       "\r\n",
       "<!doctype html>\n",
       "<html>\n",
       "<head>\n",
       "    <title>Example Domain</title>\n",
       "\n",
       "    <meta charset=\"utf-8\" />\n",
       "    <meta http-equiv=\"Content-type\" content=\"text/html; charset=utf-8\" />\n",
       "    <meta name=\"viewport\" content=\"width=device-width, initial-scale=1\" />\n",
       "    <style type=\"text/css\">\n",
       "    body {\n",
       "        background-color: #f0f0f2;\n",
       "        margin: 0;\n",
       "        padding: 0;\n",
       "        font-family: -apple-system, system-ui, BlinkMacSystemFont, \"Segoe UI\", \"Open Sans\", \"Helvetica Neue\", Helvetica, Arial, sans-serif;\n",
       "        \n",
       "    }\n",
       "    div {\n",
       "        width: 600px;\n",
       "        margin: 5em auto;\n",
       "        padding: 2em;\n",
       "        background-color: #fdfdff;\n",
       "        border-radius: 0.5em;\n",
       "        box-shadow: 2px 3px 7px 2px rgba(0,0,0,0.02);\n",
       "    }\n",
       "    a:link, a:visited {\n",
       "        color: #38488f;\n",
       "        text-decoration: none;\n",
       "    }\n",
       "    @media (max-width: 700px) {\n",
       "        div {\n",
       "            margin: 0 auto;\n",
       "            width: auto;\n",
       "        }\n",
       "    }\n",
       "    </style>    \n",
       "</head>\n",
       "\n",
       "<body>\n",
       "<div>\n",
       "    <h1>Example Domain</h1>\n",
       "    <p>This domai\n",
       "⋮\n",
       "1256-byte body\n",
       "\"\"\"\n",
       " HTTP.Messages.Response:\n",
       "\"\"\"\n",
       "HTTP/1.1 200 OK\r\n",
       "Accept-Ranges: bytes\r\n",
       "Age: 26187\r\n",
       "Cache-Control: max-age=604800\r\n",
       "Content-Type: text/html; charset=UTF-8\r\n",
       "Date: Fri, 01 Jul 2022 15:49:51 GMT\r\n",
       "Etag: \"3147526947\"\r\n",
       "Expires: Fri, 08 Jul 2022 15:49:51 GMT\r\n",
       "Last-Modified: Thu, 17 Oct 2019 07:18:26 GMT\r\n",
       "Server: ECS (sab/5695)\r\n",
       "Vary: Accept-Encoding\r\n",
       "X-Cache: HIT\r\n",
       "Content-Length: 1256\r\n",
       "\r\n",
       "<!doctype html>\n",
       "<html>\n",
       "<head>\n",
       "    <title>Example Domain</title>\n",
       "\n",
       "    <meta charset=\"utf-8\" />\n",
       "    <meta http-equiv=\"Content-type\" content=\"text/html; charset=utf-8\" />\n",
       "    <meta name=\"viewport\" content=\"width=device-width, initial-scale=1\" />\n",
       "    <style type=\"text/css\">\n",
       "    body {\n",
       "        background-color: #f0f0f2;\n",
       "        margin: 0;\n",
       "        padding: 0;\n",
       "        font-family: -apple-system, system-ui, BlinkMacSystemFont, \"Segoe UI\", \"Open Sans\", \"Helvetica Neue\", Helvetica, Arial, sans-serif;\n",
       "        \n",
       "    }\n",
       "    div {\n",
       "        width: 600px;\n",
       "        margin: 5em auto;\n",
       "        padding: 2em;\n",
       "        background-color: #fdfdff;\n",
       "        border-radius: 0.5em;\n",
       "        box-shadow: 2px 3px 7px 2px rgba(0,0,0,0.02);\n",
       "    }\n",
       "    a:link, a:visited {\n",
       "        color: #38488f;\n",
       "        text-decoration: none;\n",
       "    }\n",
       "    @media (max-width: 700px) {\n",
       "        div {\n",
       "            margin: 0 auto;\n",
       "            width: auto;\n",
       "        }\n",
       "    }\n",
       "    </style>    \n",
       "</head>\n",
       "\n",
       "<body>\n",
       "<div>\n",
       "    <h1>Example Domain</h1>\n",
       "    <p>This domai\n",
       "⋮\n",
       "1256-byte body\n",
       "\"\"\"\n",
       " HTTP.Messages.Response:\n",
       "\"\"\"\n",
       "HTTP/1.1 200 OK\r\n",
       "Accept-Ranges: bytes\r\n",
       "Age: 478593\r\n",
       "Cache-Control: max-age=604800\r\n",
       "Content-Type: text/html; charset=UTF-8\r\n",
       "Date: Fri, 01 Jul 2022 15:49:51 GMT\r\n",
       "Etag: \"3147526947\"\r\n",
       "Expires: Fri, 08 Jul 2022 15:49:51 GMT\r\n",
       "Last-Modified: Thu, 17 Oct 2019 07:18:26 GMT\r\n",
       "Server: ECS (sab/5750)\r\n",
       "Vary: Accept-Encoding\r\n",
       "X-Cache: HIT\r\n",
       "Content-Length: 1256\r\n",
       "\r\n",
       "<!doctype html>\n",
       "<html>\n",
       "<head>\n",
       "    <title>Example Domain</title>\n",
       "\n",
       "    <meta charset=\"utf-8\" />\n",
       "    <meta http-equiv=\"Content-type\" content=\"text/html; charset=utf-8\" />\n",
       "    <meta name=\"viewport\" content=\"width=device-width, initial-scale=1\" />\n",
       "    <style type=\"text/css\">\n",
       "    body {\n",
       "        background-color: #f0f0f2;\n",
       "        margin: 0;\n",
       "        padding: 0;\n",
       "        font-family: -apple-system, system-ui, BlinkMacSystemFont, \"Segoe UI\", \"Open Sans\", \"Helvetica Neue\", Helvetica, Arial, sans-serif;\n",
       "        \n",
       "    }\n",
       "    div {\n",
       "        width: 600px;\n",
       "        margin: 5em auto;\n",
       "        padding: 2em;\n",
       "        background-color: #fdfdff;\n",
       "        border-radius: 0.5em;\n",
       "        box-shadow: 2px 3px 7px 2px rgba(0,0,0,0.02);\n",
       "    }\n",
       "    a:link, a:visited {\n",
       "        color: #38488f;\n",
       "        text-decoration: none;\n",
       "    }\n",
       "    @media (max-width: 700px) {\n",
       "        div {\n",
       "            margin: 0 auto;\n",
       "            width: auto;\n",
       "        }\n",
       "    }\n",
       "    </style>    \n",
       "</head>\n",
       "\n",
       "<body>\n",
       "<div>\n",
       "    <h1>Example Domain</h1>\n",
       "    <p>This domai\n",
       "⋮\n",
       "1256-byte body\n",
       "\"\"\"\n",
       " HTTP.Messages.Response:\n",
       "\"\"\"\n",
       "HTTP/1.1 200 OK\r\n",
       "Age: 533990\r\n",
       "Cache-Control: max-age=604800\r\n",
       "Content-Type: text/html; charset=UTF-8\r\n",
       "Date: Fri, 01 Jul 2022 15:49:53 GMT\r\n",
       "Etag: \"3147526947+ident\"\r\n",
       "Expires: Fri, 08 Jul 2022 15:49:53 GMT\r\n",
       "Last-Modified: Thu, 17 Oct 2019 07:18:26 GMT\r\n",
       "Server: ECS (sab/5707)\r\n",
       "Vary: Accept-Encoding\r\n",
       "X-Cache: HIT\r\n",
       "Content-Length: 1256\r\n",
       "\r\n",
       "<!doctype html>\n",
       "<html>\n",
       "<head>\n",
       "    <title>Example Domain</title>\n",
       "\n",
       "    <meta charset=\"utf-8\" />\n",
       "    <meta http-equiv=\"Content-type\" content=\"text/html; charset=utf-8\" />\n",
       "    <meta name=\"viewport\" content=\"width=device-width, initial-scale=1\" />\n",
       "    <style type=\"text/css\">\n",
       "    body {\n",
       "        background-color: #f0f0f2;\n",
       "        margin: 0;\n",
       "        padding: 0;\n",
       "        font-family: -apple-system, system-ui, BlinkMacSystemFont, \"Segoe UI\", \"Open Sans\", \"Helvetica Neue\", Helvetica, Arial, sans-serif;\n",
       "        \n",
       "    }\n",
       "    div {\n",
       "        width: 600px;\n",
       "        margin: 5em auto;\n",
       "        padding: 2em;\n",
       "        background-color: #fdfdff;\n",
       "        border-radius: 0.5em;\n",
       "        box-shadow: 2px 3px 7px 2px rgba(0,0,0,0.02);\n",
       "    }\n",
       "    a:link, a:visited {\n",
       "        color: #38488f;\n",
       "        text-decoration: none;\n",
       "    }\n",
       "    @media (max-width: 700px) {\n",
       "        div {\n",
       "            margin: 0 auto;\n",
       "            width: auto;\n",
       "        }\n",
       "    }\n",
       "    </style>    \n",
       "</head>\n",
       "\n",
       "<body>\n",
       "<div>\n",
       "    <h1>Example Domain</h1>\n",
       "    <p>This domai\n",
       "⋮\n",
       "1256-byte body\n",
       "\"\"\"\n",
       " HTTP.Messages.Response:\n",
       "\"\"\"\n",
       "HTTP/1.1 200 OK\r\n",
       "Age: 533990\r\n",
       "Cache-Control: max-age=604800\r\n",
       "Content-Type: text/html; charset=UTF-8\r\n",
       "Date: Fri, 01 Jul 2022 15:49:53 GMT\r\n",
       "Etag: \"3147526947+ident\"\r\n",
       "Expires: Fri, 08 Jul 2022 15:49:53 GMT\r\n",
       "Last-Modified: Thu, 17 Oct 2019 07:18:26 GMT\r\n",
       "Server: ECS (sab/5707)\r\n",
       "Vary: Accept-Encoding\r\n",
       "X-Cache: HIT\r\n",
       "Content-Length: 1256\r\n",
       "\r\n",
       "<!doctype html>\n",
       "<html>\n",
       "<head>\n",
       "    <title>Example Domain</title>\n",
       "\n",
       "    <meta charset=\"utf-8\" />\n",
       "    <meta http-equiv=\"Content-type\" content=\"text/html; charset=utf-8\" />\n",
       "    <meta name=\"viewport\" content=\"width=device-width, initial-scale=1\" />\n",
       "    <style type=\"text/css\">\n",
       "    body {\n",
       "        background-color: #f0f0f2;\n",
       "        margin: 0;\n",
       "        padding: 0;\n",
       "        font-family: -apple-system, system-ui, BlinkMacSystemFont, \"Segoe UI\", \"Open Sans\", \"Helvetica Neue\", Helvetica, Arial, sans-serif;\n",
       "        \n",
       "    }\n",
       "    div {\n",
       "        width: 600px;\n",
       "        margin: 5em auto;\n",
       "        padding: 2em;\n",
       "        background-color: #fdfdff;\n",
       "        border-radius: 0.5em;\n",
       "        box-shadow: 2px 3px 7px 2px rgba(0,0,0,0.02);\n",
       "    }\n",
       "    a:link, a:visited {\n",
       "        color: #38488f;\n",
       "        text-decoration: none;\n",
       "    }\n",
       "    @media (max-width: 700px) {\n",
       "        div {\n",
       "            margin: 0 auto;\n",
       "            width: auto;\n",
       "        }\n",
       "    }\n",
       "    </style>    \n",
       "</head>\n",
       "\n",
       "<body>\n",
       "<div>\n",
       "    <h1>Example Domain</h1>\n",
       "    <p>This domai\n",
       "⋮\n",
       "1256-byte body\n",
       "\"\"\"\n",
       " HTTP.Messages.Response:\n",
       "\"\"\"\n",
       "HTTP/1.1 200 OK\r\n",
       "Age: 480350\r\n",
       "Cache-Control: max-age=604800\r\n",
       "Content-Type: text/html; charset=UTF-8\r\n",
       "Date: Fri, 01 Jul 2022 15:49:53 GMT\r\n",
       "Etag: \"3147526947+gzip+ident\"\r\n",
       "Expires: Fri, 08 Jul 2022 15:49:53 GMT\r\n",
       "Last-Modified: Thu, 17 Oct 2019 07:18:26 GMT\r\n",
       "Server: ECS (sab/56AB)\r\n",
       "Vary: Accept-Encoding\r\n",
       "X-Cache: HIT\r\n",
       "Content-Length: 1256\r\n",
       "\r\n",
       "<!doctype html>\n",
       "<html>\n",
       "<head>\n",
       "    <title>Example Domain</title>\n",
       "\n",
       "    <meta charset=\"utf-8\" />\n",
       "    <meta http-equiv=\"Content-type\" content=\"text/html; charset=utf-8\" />\n",
       "    <meta name=\"viewport\" content=\"width=device-width, initial-scale=1\" />\n",
       "    <style type=\"text/css\">\n",
       "    body {\n",
       "        background-color: #f0f0f2;\n",
       "        margin: 0;\n",
       "        padding: 0;\n",
       "        font-family: -apple-system, system-ui, BlinkMacSystemFont, \"Segoe UI\", \"Open Sans\", \"Helvetica Neue\", Helvetica, Arial, sans-serif;\n",
       "        \n",
       "    }\n",
       "    div {\n",
       "        width: 600px;\n",
       "        margin: 5em auto;\n",
       "        padding: 2em;\n",
       "        background-color: #fdfdff;\n",
       "        border-radius: 0.5em;\n",
       "        box-shadow: 2px 3px 7px 2px rgba(0,0,0,0.02);\n",
       "    }\n",
       "    a:link, a:visited {\n",
       "        color: #38488f;\n",
       "        text-decoration: none;\n",
       "    }\n",
       "    @media (max-width: 700px) {\n",
       "        div {\n",
       "            margin: 0 auto;\n",
       "            width: auto;\n",
       "        }\n",
       "    }\n",
       "    </style>    \n",
       "</head>\n",
       "\n",
       "<body>\n",
       "<div>\n",
       "    <h1>Example Domain</h1>\n",
       "    <p>This domai\n",
       "⋮\n",
       "1256-byte body\n",
       "\"\"\"\n",
       " HTTP.Messages.Response:\n",
       "\"\"\"\n",
       "HTTP/1.1 200 OK\r\n",
       "Age: 341101\r\n",
       "Cache-Control: max-age=604800\r\n",
       "Content-Type: text/html; charset=UTF-8\r\n",
       "Date: Fri, 01 Jul 2022 15:49:53 GMT\r\n",
       "Etag: \"3147526947+ident\"\r\n",
       "Expires: Fri, 08 Jul 2022 15:49:53 GMT\r\n",
       "Last-Modified: Thu, 17 Oct 2019 07:18:26 GMT\r\n",
       "Server: ECS (sab/573E)\r\n",
       "Vary: Accept-Encoding\r\n",
       "X-Cache: HIT\r\n",
       "Content-Length: 1256\r\n",
       "\r\n",
       "<!doctype html>\n",
       "<html>\n",
       "<head>\n",
       "    <title>Example Domain</title>\n",
       "\n",
       "    <meta charset=\"utf-8\" />\n",
       "    <meta http-equiv=\"Content-type\" content=\"text/html; charset=utf-8\" />\n",
       "    <meta name=\"viewport\" content=\"width=device-width, initial-scale=1\" />\n",
       "    <style type=\"text/css\">\n",
       "    body {\n",
       "        background-color: #f0f0f2;\n",
       "        margin: 0;\n",
       "        padding: 0;\n",
       "        font-family: -apple-system, system-ui, BlinkMacSystemFont, \"Segoe UI\", \"Open Sans\", \"Helvetica Neue\", Helvetica, Arial, sans-serif;\n",
       "        \n",
       "    }\n",
       "    div {\n",
       "        width: 600px;\n",
       "        margin: 5em auto;\n",
       "        padding: 2em;\n",
       "        background-color: #fdfdff;\n",
       "        border-radius: 0.5em;\n",
       "        box-shadow: 2px 3px 7px 2px rgba(0,0,0,0.02);\n",
       "    }\n",
       "    a:link, a:visited {\n",
       "        color: #38488f;\n",
       "        text-decoration: none;\n",
       "    }\n",
       "    @media (max-width: 700px) {\n",
       "        div {\n",
       "            margin: 0 auto;\n",
       "            width: auto;\n",
       "        }\n",
       "    }\n",
       "    </style>    \n",
       "</head>\n",
       "\n",
       "<body>\n",
       "<div>\n",
       "    <h1>Example Domain</h1>\n",
       "    <p>This domai\n",
       "⋮\n",
       "1256-byte body\n",
       "\"\"\""
      ]
     },
     "execution_count": 34,
     "metadata": {},
     "output_type": "execute_result"
    }
   ],
   "source": [
    "using HTTP\n",
    "@time [HTTP.get(\"http://www.example.com\") for _ in 1:10]"
   ]
  },
  {
   "cell_type": "markdown",
   "id": "ca405c91-dc0b-4d6a-bfb0-37238c9f32ed",
   "metadata": {
    "jp-MarkdownHeadingCollapsed": true,
    "tags": []
   },
   "source": [
    "### 测试"
   ]
  },
  {
   "cell_type": "code",
   "execution_count": 1,
   "id": "28ac46dd-d247-42cd-8bc1-d638edc272d0",
   "metadata": {},
   "outputs": [
    {
     "name": "stdout",
     "output_type": "stream",
     "text": [
      "  5.177581 seconds (222.51 k allocations: 13.690 MiB, 1.32% compilation time)\n"
     ]
    },
    {
     "data": {
      "text/plain": [
       "10000"
      ]
     },
     "execution_count": 1,
     "metadata": {},
     "output_type": "execute_result"
    }
   ],
   "source": [
    "pagenum = 10\n",
    "c = Channel(pagenum)\n",
    "res = Int[]\n",
    "@time @sync for i in 1:10000\n",
    "    @async begin\n",
    "        sleep(0.5)\n",
    "        put!(c, i)\n",
    "    end\n",
    "    @async push!(res, take!(c))\n",
    "end\n",
    "length(res)"
   ]
  },
  {
   "cell_type": "code",
   "execution_count": 63,
   "id": "e0f35f7a-ab66-4f23-ae97-13a836efa5c3",
   "metadata": {},
   "outputs": [
    {
     "data": {
      "text/plain": [
       "Channel{Any}(1) (empty)"
      ]
     },
     "execution_count": 63,
     "metadata": {},
     "output_type": "execute_result"
    }
   ],
   "source": [
    "c"
   ]
  },
  {
   "cell_type": "code",
   "execution_count": 47,
   "id": "def48f2c-9667-446a-998a-41101affc512",
   "metadata": {},
   "outputs": [
    {
     "data": {
      "text/plain": [
       "true"
      ]
     },
     "execution_count": 47,
     "metadata": {},
     "output_type": "execute_result"
    }
   ],
   "source": [
    "# 一开始跑满 10 个\n",
    "# 0.5 秒后跑满下一个 10 个"
   ]
  },
  {
   "cell_type": "code",
   "execution_count": null,
   "id": "8346744a-613e-4181-a138-a20a5d003e04",
   "metadata": {},
   "outputs": [],
   "source": [
    "pagenum = 10\n",
    "c = Channel(pagenum)\n",
    "@sync for word in en_words\n",
    "    @async begin\n",
    "        put!(c, zhpage(word))\n",
    "    end\n",
    "    zh = wiki_en2zh(take!(c))\n",
    "    ILLs[word] = zh\n",
    "end"
   ]
  },
  {
   "cell_type": "code",
   "execution_count": 40,
   "id": "acafffc6-403b-496e-b7d2-8759b326ceb3",
   "metadata": {},
   "outputs": [
    {
     "data": {
      "text/plain": [
       "HTTP.Messages.Response"
      ]
     },
     "execution_count": 40,
     "metadata": {},
     "output_type": "execute_result"
    }
   ],
   "source": [
    "# 创建隧道池\n",
    "pagenum = 10\n",
    "c = Channel(pagenum)\n",
    "@sync for i in 1:10\n",
    "    @async begin\n",
    "        put!(c, HTTP.get()\n",
    "        take\n",
    "    end\n",
    "    \n",
    "end"
   ]
  },
  {
   "cell_type": "code",
   "execution_count": 2,
   "id": "7b963489-9922-4630-abf6-100e056f752b",
   "metadata": {},
   "outputs": [
    {
     "data": {
      "text/plain": [
       "Channel{Any}(5) (empty)"
      ]
     },
     "execution_count": 2,
     "metadata": {},
     "output_type": "execute_result"
    }
   ],
   "source": [
    "c = Channel(5)"
   ]
  },
  {
   "cell_type": "code",
   "execution_count": 16,
   "id": "8c9eab0d-d244-4f4c-b4a2-cb5245df1f3e",
   "metadata": {},
   "outputs": [
    {
     "data": {
      "text/plain": [
       "Task (runnable) @0x00007f72c5894010"
      ]
     },
     "execution_count": 16,
     "metadata": {},
     "output_type": "execute_result"
    }
   ],
   "source": [
    "@async put!(c, 5)"
   ]
  },
  {
   "cell_type": "code",
   "execution_count": 31,
   "id": "11413703-6eb6-4182-99c6-0c5411a33e2c",
   "metadata": {
    "tags": []
   },
   "outputs": [
    {
     "data": {
      "text/plain": [
       "Task (runnable) @0x00007f72c53b70f0"
      ]
     },
     "execution_count": 31,
     "metadata": {},
     "output_type": "execute_result"
    }
   ],
   "source": [
    "@async take!(c)"
   ]
  },
  {
   "cell_type": "code",
   "execution_count": 2,
   "id": "800eccde-ff8b-4f2a-a71c-a5c5b8baf639",
   "metadata": {},
   "outputs": [
    {
     "data": {
      "text/plain": [
       "\"Vincent_Fang_(entrepreneur)\""
      ]
     },
     "execution_count": 2,
     "metadata": {},
     "output_type": "execute_result"
    }
   ],
   "source": [
    "word = \"Vincent_Fang_(entrepreneur)\""
   ]
  },
  {
   "cell_type": "code",
   "execution_count": null,
   "id": "820de046-29ee-441f-aa26-5ce01d7fcacb",
   "metadata": {},
   "outputs": [],
   "source": [
    "wiki_en2zh(word)"
   ]
  },
  {
   "cell_type": "code",
   "execution_count": null,
   "id": "a6317aaa-0eff-4a69-8257-e38cd6288700",
   "metadata": {},
   "outputs": [],
   "source": [
    "enpage(word)"
   ]
  },
  {
   "cell_type": "markdown",
   "id": "d3f1fc92-dce2-4704-a757-504f70933c01",
   "metadata": {
    "tags": []
   },
   "source": [
    "### 异步编程"
   ]
  },
  {
   "cell_type": "code",
   "execution_count": 23,
   "id": "09318cd5-39dc-45fc-b636-bc6bee64f5e3",
   "metadata": {},
   "outputs": [
    {
     "data": {
      "text/plain": [
       "Task (runnable) @0x00007fa22792d710"
      ]
     },
     "execution_count": 23,
     "metadata": {},
     "output_type": "execute_result"
    }
   ],
   "source": [
    "# 任务\n",
    "t = @task begin; sleep(1); println(\"do\"); end"
   ]
  },
  {
   "cell_type": "code",
   "execution_count": 10,
   "id": "b7bf1b25-02fa-4421-bace-5e7b10baa18d",
   "metadata": {
    "collapsed": true,
    "jupyter": {
     "outputs_hidden": true
    },
    "tags": []
   },
   "outputs": [
    {
     "ename": "LoadError",
     "evalue": "schedule: Task not runnable",
     "output_type": "error",
     "traceback": [
      "schedule: Task not runnable",
      "",
      "Stacktrace:",
      " [1] error(s::String)",
      "   @ Base ./error.jl:33",
      " [2] enq_work(t::Task)",
      "   @ Base ./task.jl:628",
      " [3] schedule(t::Task)",
      "   @ Base ./task.jl:663",
      " [4] top-level scope",
      "   @ In[10]:1",
      " [5] eval",
      "   @ ./boot.jl:373 [inlined]",
      " [6] include_string(mapexpr::typeof(REPL.softscope), mod::Module, code::String, filename::String)",
      "   @ Base ./loading.jl:1196"
     ]
    }
   ],
   "source": [
    "# 执行，等待\n",
    "schedule(t);wait(t)"
   ]
  },
  {
   "cell_type": "code",
   "execution_count": 11,
   "id": "86b71b62-d64b-4bb0-896c-ee9c5837b5ff",
   "metadata": {},
   "outputs": [
    {
     "name": "stdout",
     "output_type": "stream",
     "text": [
      "done\n"
     ]
    }
   ],
   "source": [
    "# 等待执行\n",
    "@sync begin; sleep(5); println(\"done\"); end"
   ]
  },
  {
   "cell_type": "code",
   "execution_count": 28,
   "id": "8954e287-c6d8-41f8-831b-111f392292f5",
   "metadata": {},
   "outputs": [
    {
     "data": {
      "text/plain": [
       "Task (runnable) @0x00007fa22792d9f0"
      ]
     },
     "execution_count": 28,
     "metadata": {},
     "output_type": "execute_result"
    }
   ],
   "source": [
    "t = @task (sleep(0.1);println(6 ^ 3))"
   ]
  },
  {
   "cell_type": "code",
   "execution_count": 30,
   "id": "e596d7e1-ccc1-409b-839e-3b0431dd241b",
   "metadata": {},
   "outputs": [
    {
     "name": "stdout",
     "output_type": "stream",
     "text": [
      "216\n"
     ]
    }
   ],
   "source": [
    "julia python R\n",
    "jupyter"
   ]
  },
  {
   "cell_type": "code",
   "execution_count": 33,
   "id": "baed5e36-1212-4eea-8b15-fffa5e24a9f7",
   "metadata": {},
   "outputs": [
    {
     "data": {
      "text/plain": [
       "Channel{Any}(0) (empty)"
      ]
     },
     "execution_count": 33,
     "metadata": {},
     "output_type": "execute_result"
    }
   ],
   "source": [
    "f = Channel(collect)"
   ]
  },
  {
   "cell_type": "code",
   "execution_count": 31,
   "id": "96dda4ed-0e5e-412f-94fc-d8b47041b668",
   "metadata": {},
   "outputs": [
    {
     "data": {
      "text/html": [
       "# 4 methods for type constructor:<ul><li> Channel() in Base at <a href=\"https://github.com/JuliaLang/julia/tree/bf534986350a991e4a1b29126de0342ffd76205e/base/channels.jl#L57\" target=\"_blank\">channels.jl:57</a></li> <li> Channel(func::<b>Function</b>; <i>ctype, csize, taskref, spawn</i>) in Base at <a href=\"https://github.com/JuliaLang/julia/tree/bf534986350a991e4a1b29126de0342ffd76205e/base/channels.jl#L150\" target=\"_blank\">channels.jl:150</a></li> <li> Channel(func::<b>Function</b>, args...; <i>kwargs...</i>) in Base at <a href=\"https://github.com/JuliaLang/julia/tree/bf534986350a991e4a1b29126de0342ffd76205e/base/channels.jl#L143\" target=\"_blank\">channels.jl:143</a></li> <li> Channel(sz) in Base at <a href=\"https://github.com/JuliaLang/julia/tree/bf534986350a991e4a1b29126de0342ffd76205e/base/channels.jl#L57\" target=\"_blank\">channels.jl:57</a></li> </ul>"
      ],
      "text/plain": [
       "# 4 methods for type constructor:\n",
       "[1] Channel() in Base at channels.jl:57\n",
       "[2] Channel(func::Function; ctype, csize, taskref, spawn) in Base at channels.jl:150\n",
       "[3] Channel(func::Function, args...; kwargs...) in Base at channels.jl:143\n",
       "[4] Channel(sz) in Base at channels.jl:57"
      ]
     },
     "execution_count": 31,
     "metadata": {},
     "output_type": "execute_result"
    }
   ],
   "source": [
    "methods(Channel)"
   ]
  },
  {
   "cell_type": "code",
   "execution_count": 36,
   "id": "8d5684b9-fb8d-4b3e-be5d-038c6240eec9",
   "metadata": {
    "collapsed": true,
    "jupyter": {
     "outputs_hidden": true
    },
    "tags": []
   },
   "outputs": [
    {
     "ename": "LoadError",
     "evalue": "UndefVarError: HTTP not defined",
     "output_type": "error",
     "traceback": [
      "UndefVarError: HTTP not defined",
      "",
      "Stacktrace:",
      " [1] top-level scope",
      "   @ :0",
      " [2] eval",
      "   @ ./boot.jl:373 [inlined]",
      " [3] include_string(mapexpr::typeof(REPL.softscope), mod::Module, code::String, filename::String)",
      "   @ Base ./loading.jl:1196"
     ]
    }
   ],
   "source": [
    "HTTP"
   ]
  },
  {
   "cell_type": "markdown",
   "id": "58428668-6f57-4821-ac80-e2288657bf73",
   "metadata": {},
   "source": [
    "1. 网站下载网页\n",
    "2. 进行处理\n",
    "\n",
    "需要，将两部分内容分割，具体地\n",
    "\n",
    "1. 任务池下载网页，多个进行，直到任务池跑满"
   ]
  }
 ],
 "metadata": {
  "kernelspec": {
   "display_name": "Julia 1.7.2",
   "language": "julia",
   "name": "julia-1.7"
  },
  "language_info": {
   "file_extension": ".jl",
   "mimetype": "application/julia",
   "name": "julia",
   "version": "1.7.2"
  }
 },
 "nbformat": 4,
 "nbformat_minor": 5
}
